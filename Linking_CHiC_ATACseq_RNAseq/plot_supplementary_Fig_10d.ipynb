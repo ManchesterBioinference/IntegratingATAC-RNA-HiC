{
 "cells": [
  {
   "cell_type": "markdown",
   "metadata": {},
   "source": [
    "## Jupyter notebook for plotting Supplementary Fig. 10d\n",
    "\n",
    "This notebook is the code for plotting histograms of CHi-C changes at  ATAC-seq peak sites binding with transcription factors including CTCF, H3K27ac, NFAT1, NFKB and JunB (Supplementary Fig. 10d) as illustrated in the paper **\\\"Analysis of chromatin organinization and gene expression in T cells identifies functional genes for rheumatoid arthritis\\\"** by *Jing Yang, Amanda McGovern, Paul Martin, Kate Duffus, Xiangyu Ge, Peyman Zarrineh, Andrew P Morris, Antony Adamson, Peter Fraser, Magnus Rattray & Stephen Eyre*\n",
    "\n",
    "Author : *Jing Yang*  <br />\n",
    "Date: 01-05-2020 <br />\n",
    "For any questions about the code, please drop me a line at Jing.Yang@manchester.ac.uk"
   ]
  },
  {
   "cell_type": "code",
   "execution_count": 1,
   "metadata": {},
   "outputs": [
    {
     "name": "stderr",
     "output_type": "stream",
     "text": [
      "── \u001b[1mAttaching packages\u001b[22m ─────────────────────────────────────── tidyverse 1.3.0 ──\n",
      "\n",
      "\u001b[32m✔\u001b[39m \u001b[34mggplot2\u001b[39m 3.3.1     \u001b[32m✔\u001b[39m \u001b[34mpurrr  \u001b[39m 0.3.4\n",
      "\u001b[32m✔\u001b[39m \u001b[34mtibble \u001b[39m 3.0.1     \u001b[32m✔\u001b[39m \u001b[34mdplyr  \u001b[39m 1.0.0\n",
      "\u001b[32m✔\u001b[39m \u001b[34mtidyr  \u001b[39m 1.1.0     \u001b[32m✔\u001b[39m \u001b[34mstringr\u001b[39m 1.4.0\n",
      "\u001b[32m✔\u001b[39m \u001b[34mreadr  \u001b[39m 1.3.1     \u001b[32m✔\u001b[39m \u001b[34mforcats\u001b[39m 0.5.0\n",
      "\n",
      "── \u001b[1mConflicts\u001b[22m ────────────────────────────────────────── tidyverse_conflicts() ──\n",
      "\u001b[31m✖\u001b[39m \u001b[34mdplyr\u001b[39m::\u001b[32mfilter()\u001b[39m masks \u001b[34mstats\u001b[39m::filter()\n",
      "\u001b[31m✖\u001b[39m \u001b[34mdplyr\u001b[39m::\u001b[32mlag()\u001b[39m    masks \u001b[34mstats\u001b[39m::lag()\n",
      "\n",
      "\n",
      "Attaching package: ‘reshape2’\n",
      "\n",
      "\n",
      "The following object is masked from ‘package:tidyr’:\n",
      "\n",
      "    smiths\n",
      "\n",
      "\n",
      "\n",
      "Attaching package: ‘gridExtra’\n",
      "\n",
      "\n",
      "The following object is masked from ‘package:dplyr’:\n",
      "\n",
      "    combine\n",
      "\n",
      "\n",
      "\n",
      "Attaching package: ‘data.table’\n",
      "\n",
      "\n",
      "The following objects are masked from ‘package:reshape2’:\n",
      "\n",
      "    dcast, melt\n",
      "\n",
      "\n",
      "The following objects are masked from ‘package:dplyr’:\n",
      "\n",
      "    between, first, last\n",
      "\n",
      "\n",
      "The following object is masked from ‘package:purrr’:\n",
      "\n",
      "    transpose\n",
      "\n",
      "\n"
     ]
    }
   ],
   "source": [
    "\n",
    "library(tidyverse)\n",
    "library(reshape2)\n",
    "library(gridExtra)\n",
    "library(data.table)"
   ]
  },
  {
   "cell_type": "code",
   "execution_count": 2,
   "metadata": {},
   "outputs": [],
   "source": [
    "ATACseq_clustered <- read.csv('data/ATACseq_withcluster.txt', header=T)"
   ]
  },
  {
   "cell_type": "code",
   "execution_count": 3,
   "metadata": {},
   "outputs": [],
   "source": [
    "linked_data <- read.table('data/ATACseq_CHiC_RNAseq_linked_withpromoter.txt', header=T)"
   ]
  },
  {
   "cell_type": "code",
   "execution_count": 4,
   "metadata": {
    "scrolled": true
   },
   "outputs": [
    {
     "data": {
      "text/html": [
       "<table>\n",
       "<caption>A data.frame: 6 × 12</caption>\n",
       "<thead>\n",
       "\t<tr><th></th><th scope=col>chr</th><th scope=col>start</th><th scope=col>end</th><th scope=col>width</th><th scope=col>T0</th><th scope=col>T20</th><th scope=col>T60</th><th scope=col>T2H</th><th scope=col>T4H</th><th scope=col>T24H</th><th scope=col>LR</th><th scope=col>Cluster</th></tr>\n",
       "\t<tr><th></th><th scope=col>&lt;fct&gt;</th><th scope=col>&lt;int&gt;</th><th scope=col>&lt;int&gt;</th><th scope=col>&lt;int&gt;</th><th scope=col>&lt;dbl&gt;</th><th scope=col>&lt;dbl&gt;</th><th scope=col>&lt;dbl&gt;</th><th scope=col>&lt;dbl&gt;</th><th scope=col>&lt;dbl&gt;</th><th scope=col>&lt;dbl&gt;</th><th scope=col>&lt;dbl&gt;</th><th scope=col>&lt;int&gt;</th></tr>\n",
       "</thead>\n",
       "<tbody>\n",
       "\t<tr><th scope=row>1</th><td>chr10</td><td>100148537</td><td>100149145</td><td>609</td><td>6.308615</td><td>5.997314</td><td>6.371118</td><td>7.022634</td><td>8.320145</td><td>8.144691</td><td>-3.96546</td><td>0</td></tr>\n",
       "\t<tr><th scope=row>2</th><td>chr10</td><td>101161833</td><td>101162364</td><td>532</td><td>7.338236</td><td>6.947811</td><td>6.958460</td><td>6.880832</td><td>6.679306</td><td>7.082866</td><td>-1.17149</td><td>5</td></tr>\n",
       "\t<tr><th scope=row>3</th><td>chr10</td><td>101397063</td><td>101397480</td><td>418</td><td>6.607202</td><td>6.798536</td><td>6.333778</td><td>6.111942</td><td>5.572420</td><td>5.077424</td><td>-7.06772</td><td>3</td></tr>\n",
       "\t<tr><th scope=row>4</th><td>chr10</td><td>101442197</td><td>101442458</td><td>262</td><td>5.683413</td><td>5.564784</td><td>6.187952</td><td>6.186169</td><td>6.197164</td><td>6.004235</td><td>-1.06531</td><td>0</td></tr>\n",
       "\t<tr><th scope=row>5</th><td>chr10</td><td>101467306</td><td>101467557</td><td>252</td><td>5.652996</td><td>6.205735</td><td>6.295447</td><td>6.137111</td><td>5.847167</td><td>5.681351</td><td>-4.30695</td><td>1</td></tr>\n",
       "\t<tr><th scope=row>6</th><td>chr10</td><td>101495356</td><td>101495528</td><td>173</td><td>5.345845</td><td>4.133203</td><td>4.219080</td><td>4.517889</td><td>4.446034</td><td>5.220124</td><td>-1.25567</td><td>5</td></tr>\n",
       "</tbody>\n",
       "</table>\n"
      ],
      "text/latex": [
       "A data.frame: 6 × 12\n",
       "\\begin{tabular}{r|llllllllllll}\n",
       "  & chr & start & end & width & T0 & T20 & T60 & T2H & T4H & T24H & LR & Cluster\\\\\n",
       "  & <fct> & <int> & <int> & <int> & <dbl> & <dbl> & <dbl> & <dbl> & <dbl> & <dbl> & <dbl> & <int>\\\\\n",
       "\\hline\n",
       "\t1 & chr10 & 100148537 & 100149145 & 609 & 6.308615 & 5.997314 & 6.371118 & 7.022634 & 8.320145 & 8.144691 & -3.96546 & 0\\\\\n",
       "\t2 & chr10 & 101161833 & 101162364 & 532 & 7.338236 & 6.947811 & 6.958460 & 6.880832 & 6.679306 & 7.082866 & -1.17149 & 5\\\\\n",
       "\t3 & chr10 & 101397063 & 101397480 & 418 & 6.607202 & 6.798536 & 6.333778 & 6.111942 & 5.572420 & 5.077424 & -7.06772 & 3\\\\\n",
       "\t4 & chr10 & 101442197 & 101442458 & 262 & 5.683413 & 5.564784 & 6.187952 & 6.186169 & 6.197164 & 6.004235 & -1.06531 & 0\\\\\n",
       "\t5 & chr10 & 101467306 & 101467557 & 252 & 5.652996 & 6.205735 & 6.295447 & 6.137111 & 5.847167 & 5.681351 & -4.30695 & 1\\\\\n",
       "\t6 & chr10 & 101495356 & 101495528 & 173 & 5.345845 & 4.133203 & 4.219080 & 4.517889 & 4.446034 & 5.220124 & -1.25567 & 5\\\\\n",
       "\\end{tabular}\n"
      ],
      "text/markdown": [
       "\n",
       "A data.frame: 6 × 12\n",
       "\n",
       "| <!--/--> | chr &lt;fct&gt; | start &lt;int&gt; | end &lt;int&gt; | width &lt;int&gt; | T0 &lt;dbl&gt; | T20 &lt;dbl&gt; | T60 &lt;dbl&gt; | T2H &lt;dbl&gt; | T4H &lt;dbl&gt; | T24H &lt;dbl&gt; | LR &lt;dbl&gt; | Cluster &lt;int&gt; |\n",
       "|---|---|---|---|---|---|---|---|---|---|---|---|---|\n",
       "| 1 | chr10 | 100148537 | 100149145 | 609 | 6.308615 | 5.997314 | 6.371118 | 7.022634 | 8.320145 | 8.144691 | -3.96546 | 0 |\n",
       "| 2 | chr10 | 101161833 | 101162364 | 532 | 7.338236 | 6.947811 | 6.958460 | 6.880832 | 6.679306 | 7.082866 | -1.17149 | 5 |\n",
       "| 3 | chr10 | 101397063 | 101397480 | 418 | 6.607202 | 6.798536 | 6.333778 | 6.111942 | 5.572420 | 5.077424 | -7.06772 | 3 |\n",
       "| 4 | chr10 | 101442197 | 101442458 | 262 | 5.683413 | 5.564784 | 6.187952 | 6.186169 | 6.197164 | 6.004235 | -1.06531 | 0 |\n",
       "| 5 | chr10 | 101467306 | 101467557 | 252 | 5.652996 | 6.205735 | 6.295447 | 6.137111 | 5.847167 | 5.681351 | -4.30695 | 1 |\n",
       "| 6 | chr10 | 101495356 | 101495528 | 173 | 5.345845 | 4.133203 | 4.219080 | 4.517889 | 4.446034 | 5.220124 | -1.25567 | 5 |\n",
       "\n"
      ],
      "text/plain": [
       "  chr   start     end       width T0       T20      T60      T2H      T4H     \n",
       "1 chr10 100148537 100149145 609   6.308615 5.997314 6.371118 7.022634 8.320145\n",
       "2 chr10 101161833 101162364 532   7.338236 6.947811 6.958460 6.880832 6.679306\n",
       "3 chr10 101397063 101397480 418   6.607202 6.798536 6.333778 6.111942 5.572420\n",
       "4 chr10 101442197 101442458 262   5.683413 5.564784 6.187952 6.186169 6.197164\n",
       "5 chr10 101467306 101467557 252   5.652996 6.205735 6.295447 6.137111 5.847167\n",
       "6 chr10 101495356 101495528 173   5.345845 4.133203 4.219080 4.517889 4.446034\n",
       "  T24H     LR       Cluster\n",
       "1 8.144691 -3.96546 0      \n",
       "2 7.082866 -1.17149 5      \n",
       "3 5.077424 -7.06772 3      \n",
       "4 6.004235 -1.06531 0      \n",
       "5 5.681351 -4.30695 1      \n",
       "6 5.220124 -1.25567 5      "
      ]
     },
     "metadata": {},
     "output_type": "display_data"
    },
    {
     "data": {
      "text/html": [
       "<table>\n",
       "<caption>A data.frame: 6 × 66</caption>\n",
       "<thead>\n",
       "\t<tr><th></th><th scope=col>ATACchr</th><th scope=col>ATACstart</th><th scope=col>ATACend</th><th scope=col>otherEndID</th><th scope=col>otherEndchr</th><th scope=col>otherEndstart</th><th scope=col>otherEndend</th><th scope=col>ID</th><th scope=col>ENSG</th><th scope=col>ENSGchr</th><th scope=col>⋯</th><th scope=col>AT24H</th><th scope=col>corr_atacseq_gene</th><th scope=col>corr_atacseq_otherEnd</th><th scope=col>corr_gene_otherEnd</th><th scope=col>BIC_atacseq</th><th scope=col>LR_atacseq</th><th scope=col>BIC_chic</th><th scope=col>LR_chic</th><th scope=col>BIC_gene</th><th scope=col>LR_gene</th></tr>\n",
       "\t<tr><th></th><th scope=col>&lt;fct&gt;</th><th scope=col>&lt;int&gt;</th><th scope=col>&lt;int&gt;</th><th scope=col>&lt;int&gt;</th><th scope=col>&lt;fct&gt;</th><th scope=col>&lt;int&gt;</th><th scope=col>&lt;int&gt;</th><th scope=col>&lt;int&gt;</th><th scope=col>&lt;fct&gt;</th><th scope=col>&lt;fct&gt;</th><th scope=col>⋯</th><th scope=col>&lt;dbl&gt;</th><th scope=col>&lt;dbl&gt;</th><th scope=col>&lt;dbl&gt;</th><th scope=col>&lt;dbl&gt;</th><th scope=col>&lt;dbl&gt;</th><th scope=col>&lt;dbl&gt;</th><th scope=col>&lt;dbl&gt;</th><th scope=col>&lt;dbl&gt;</th><th scope=col>&lt;dbl&gt;</th><th scope=col>&lt;dbl&gt;</th></tr>\n",
       "</thead>\n",
       "<tbody>\n",
       "\t<tr><th scope=row>1</th><td>chr10</td><td>100168185</td><td>100168481</td><td>94270</td><td>chr10</td><td>100168142</td><td>100171879</td><td> 7</td><td>ENSG00000122873</td><td>chr10</td><td>⋯</td><td>5.469091</td><td>-0.02766343</td><td>-0.6566466</td><td> 0.40509823</td><td>1.791775</td><td> 1.592097e-05</td><td>-12.8871761</td><td>-14.678936</td><td>-26.597466</td><td>-28.38923</td></tr>\n",
       "\t<tr><th scope=row>2</th><td>chr10</td><td>100168185</td><td>100168481</td><td>94270</td><td>chr10</td><td>100168142</td><td>100171879</td><td> 7</td><td>ENSG00000099204</td><td>chr10</td><td>⋯</td><td>5.469091</td><td>-0.17224216</td><td> 0.3875610</td><td>-0.94088541</td><td>1.791775</td><td> 1.592097e-05</td><td>         NA</td><td>        NA</td><td>-24.557846</td><td>-26.34961</td></tr>\n",
       "\t<tr><th scope=row>3</th><td>chr10</td><td>100267287</td><td>100268052</td><td>94301</td><td>chr10</td><td>100265170</td><td>100287223</td><td>11</td><td>ENSG00000052749</td><td>chr10</td><td>⋯</td><td>7.668432</td><td> 0.44611006</td><td>-0.6853788</td><td>-0.07828185</td><td>0.991704</td><td>-8.000554e-01</td><td> -7.9748306</td><td> -9.766590</td><td> -8.869815</td><td>-10.66157</td></tr>\n",
       "\t<tr><th scope=row>4</th><td>chr10</td><td>100286005</td><td>100287018</td><td>94301</td><td>chr10</td><td>100265170</td><td>100287223</td><td>12</td><td>ENSG00000052749</td><td>chr10</td><td>⋯</td><td>8.877224</td><td> 0.32658687</td><td>-0.8226653</td><td>-0.07828185</td><td>1.791826</td><td> 6.613878e-05</td><td> -7.9748306</td><td> -9.766590</td><td> -8.869815</td><td>-10.66157</td></tr>\n",
       "\t<tr><th scope=row>5</th><td>chr10</td><td>100481544</td><td>100482916</td><td>94352</td><td>chr10</td><td>100476882</td><td>100482954</td><td>21</td><td>ENSG00000213341</td><td>chr10</td><td>⋯</td><td>8.877224</td><td>-0.42433344</td><td> 0.5799938</td><td>-0.78392100</td><td>1.791772</td><td> 1.285027e-05</td><td>  0.3829118</td><td> -1.408848</td><td>-14.956021</td><td>-16.74778</td></tr>\n",
       "\t<tr><th scope=row>6</th><td>chr10</td><td>100508684</td><td>100509527</td><td>94364</td><td>chr10</td><td>100507722</td><td>100518706</td><td>22</td><td>ENSG00000052749</td><td>chr10</td><td>⋯</td><td>8.168356</td><td> 0.48036294</td><td>-0.3392329</td><td> 0.36504680</td><td>1.791769</td><td> 9.747732e-06</td><td>         NA</td><td>        NA</td><td> -8.869815</td><td>-10.66157</td></tr>\n",
       "</tbody>\n",
       "</table>\n"
      ],
      "text/latex": [
       "A data.frame: 6 × 66\n",
       "\\begin{tabular}{r|lllllllllllllllllllll}\n",
       "  & ATACchr & ATACstart & ATACend & otherEndID & otherEndchr & otherEndstart & otherEndend & ID & ENSG & ENSGchr & ⋯ & AT24H & corr\\_atacseq\\_gene & corr\\_atacseq\\_otherEnd & corr\\_gene\\_otherEnd & BIC\\_atacseq & LR\\_atacseq & BIC\\_chic & LR\\_chic & BIC\\_gene & LR\\_gene\\\\\n",
       "  & <fct> & <int> & <int> & <int> & <fct> & <int> & <int> & <int> & <fct> & <fct> & ⋯ & <dbl> & <dbl> & <dbl> & <dbl> & <dbl> & <dbl> & <dbl> & <dbl> & <dbl> & <dbl>\\\\\n",
       "\\hline\n",
       "\t1 & chr10 & 100168185 & 100168481 & 94270 & chr10 & 100168142 & 100171879 &  7 & ENSG00000122873 & chr10 & ⋯ & 5.469091 & -0.02766343 & -0.6566466 &  0.40509823 & 1.791775 &  1.592097e-05 & -12.8871761 & -14.678936 & -26.597466 & -28.38923\\\\\n",
       "\t2 & chr10 & 100168185 & 100168481 & 94270 & chr10 & 100168142 & 100171879 &  7 & ENSG00000099204 & chr10 & ⋯ & 5.469091 & -0.17224216 &  0.3875610 & -0.94088541 & 1.791775 &  1.592097e-05 &          NA &         NA & -24.557846 & -26.34961\\\\\n",
       "\t3 & chr10 & 100267287 & 100268052 & 94301 & chr10 & 100265170 & 100287223 & 11 & ENSG00000052749 & chr10 & ⋯ & 7.668432 &  0.44611006 & -0.6853788 & -0.07828185 & 0.991704 & -8.000554e-01 &  -7.9748306 &  -9.766590 &  -8.869815 & -10.66157\\\\\n",
       "\t4 & chr10 & 100286005 & 100287018 & 94301 & chr10 & 100265170 & 100287223 & 12 & ENSG00000052749 & chr10 & ⋯ & 8.877224 &  0.32658687 & -0.8226653 & -0.07828185 & 1.791826 &  6.613878e-05 &  -7.9748306 &  -9.766590 &  -8.869815 & -10.66157\\\\\n",
       "\t5 & chr10 & 100481544 & 100482916 & 94352 & chr10 & 100476882 & 100482954 & 21 & ENSG00000213341 & chr10 & ⋯ & 8.877224 & -0.42433344 &  0.5799938 & -0.78392100 & 1.791772 &  1.285027e-05 &   0.3829118 &  -1.408848 & -14.956021 & -16.74778\\\\\n",
       "\t6 & chr10 & 100508684 & 100509527 & 94364 & chr10 & 100507722 & 100518706 & 22 & ENSG00000052749 & chr10 & ⋯ & 8.168356 &  0.48036294 & -0.3392329 &  0.36504680 & 1.791769 &  9.747732e-06 &          NA &         NA &  -8.869815 & -10.66157\\\\\n",
       "\\end{tabular}\n"
      ],
      "text/markdown": [
       "\n",
       "A data.frame: 6 × 66\n",
       "\n",
       "| <!--/--> | ATACchr &lt;fct&gt; | ATACstart &lt;int&gt; | ATACend &lt;int&gt; | otherEndID &lt;int&gt; | otherEndchr &lt;fct&gt; | otherEndstart &lt;int&gt; | otherEndend &lt;int&gt; | ID &lt;int&gt; | ENSG &lt;fct&gt; | ENSGchr &lt;fct&gt; | ⋯ ⋯ | AT24H &lt;dbl&gt; | corr_atacseq_gene &lt;dbl&gt; | corr_atacseq_otherEnd &lt;dbl&gt; | corr_gene_otherEnd &lt;dbl&gt; | BIC_atacseq &lt;dbl&gt; | LR_atacseq &lt;dbl&gt; | BIC_chic &lt;dbl&gt; | LR_chic &lt;dbl&gt; | BIC_gene &lt;dbl&gt; | LR_gene &lt;dbl&gt; |\n",
       "|---|---|---|---|---|---|---|---|---|---|---|---|---|---|---|---|---|---|---|---|---|---|\n",
       "| 1 | chr10 | 100168185 | 100168481 | 94270 | chr10 | 100168142 | 100171879 |  7 | ENSG00000122873 | chr10 | ⋯ | 5.469091 | -0.02766343 | -0.6566466 |  0.40509823 | 1.791775 |  1.592097e-05 | -12.8871761 | -14.678936 | -26.597466 | -28.38923 |\n",
       "| 2 | chr10 | 100168185 | 100168481 | 94270 | chr10 | 100168142 | 100171879 |  7 | ENSG00000099204 | chr10 | ⋯ | 5.469091 | -0.17224216 |  0.3875610 | -0.94088541 | 1.791775 |  1.592097e-05 |          NA |         NA | -24.557846 | -26.34961 |\n",
       "| 3 | chr10 | 100267287 | 100268052 | 94301 | chr10 | 100265170 | 100287223 | 11 | ENSG00000052749 | chr10 | ⋯ | 7.668432 |  0.44611006 | -0.6853788 | -0.07828185 | 0.991704 | -8.000554e-01 |  -7.9748306 |  -9.766590 |  -8.869815 | -10.66157 |\n",
       "| 4 | chr10 | 100286005 | 100287018 | 94301 | chr10 | 100265170 | 100287223 | 12 | ENSG00000052749 | chr10 | ⋯ | 8.877224 |  0.32658687 | -0.8226653 | -0.07828185 | 1.791826 |  6.613878e-05 |  -7.9748306 |  -9.766590 |  -8.869815 | -10.66157 |\n",
       "| 5 | chr10 | 100481544 | 100482916 | 94352 | chr10 | 100476882 | 100482954 | 21 | ENSG00000213341 | chr10 | ⋯ | 8.877224 | -0.42433344 |  0.5799938 | -0.78392100 | 1.791772 |  1.285027e-05 |   0.3829118 |  -1.408848 | -14.956021 | -16.74778 |\n",
       "| 6 | chr10 | 100508684 | 100509527 | 94364 | chr10 | 100507722 | 100518706 | 22 | ENSG00000052749 | chr10 | ⋯ | 8.168356 |  0.48036294 | -0.3392329 |  0.36504680 | 1.791769 |  9.747732e-06 |          NA |         NA |  -8.869815 | -10.66157 |\n",
       "\n"
      ],
      "text/plain": [
       "  ATACchr ATACstart ATACend   otherEndID otherEndchr otherEndstart otherEndend\n",
       "1 chr10   100168185 100168481 94270      chr10       100168142     100171879  \n",
       "2 chr10   100168185 100168481 94270      chr10       100168142     100171879  \n",
       "3 chr10   100267287 100268052 94301      chr10       100265170     100287223  \n",
       "4 chr10   100286005 100287018 94301      chr10       100265170     100287223  \n",
       "5 chr10   100481544 100482916 94352      chr10       100476882     100482954  \n",
       "6 chr10   100508684 100509527 94364      chr10       100507722     100518706  \n",
       "  ID ENSG            ENSGchr ⋯ AT24H    corr_atacseq_gene corr_atacseq_otherEnd\n",
       "1  7 ENSG00000122873 chr10   ⋯ 5.469091 -0.02766343       -0.6566466           \n",
       "2  7 ENSG00000099204 chr10   ⋯ 5.469091 -0.17224216        0.3875610           \n",
       "3 11 ENSG00000052749 chr10   ⋯ 7.668432  0.44611006       -0.6853788           \n",
       "4 12 ENSG00000052749 chr10   ⋯ 8.877224  0.32658687       -0.8226653           \n",
       "5 21 ENSG00000213341 chr10   ⋯ 8.877224 -0.42433344        0.5799938           \n",
       "6 22 ENSG00000052749 chr10   ⋯ 8.168356  0.48036294       -0.3392329           \n",
       "  corr_gene_otherEnd BIC_atacseq LR_atacseq    BIC_chic    LR_chic   \n",
       "1  0.40509823        1.791775     1.592097e-05 -12.8871761 -14.678936\n",
       "2 -0.94088541        1.791775     1.592097e-05          NA         NA\n",
       "3 -0.07828185        0.991704    -8.000554e-01  -7.9748306  -9.766590\n",
       "4 -0.07828185        1.791826     6.613878e-05  -7.9748306  -9.766590\n",
       "5 -0.78392100        1.791772     1.285027e-05   0.3829118  -1.408848\n",
       "6  0.36504680        1.791769     9.747732e-06          NA         NA\n",
       "  BIC_gene   LR_gene  \n",
       "1 -26.597466 -28.38923\n",
       "2 -24.557846 -26.34961\n",
       "3  -8.869815 -10.66157\n",
       "4  -8.869815 -10.66157\n",
       "5 -14.956021 -16.74778\n",
       "6  -8.869815 -10.66157"
      ]
     },
     "metadata": {},
     "output_type": "display_data"
    }
   ],
   "source": [
    "head(ATACseq_clustered)\n",
    "head(linked_data)"
   ]
  },
  {
   "cell_type": "code",
   "execution_count": 5,
   "metadata": {},
   "outputs": [
    {
     "data": {
      "text/html": [
       "<style>\n",
       ".list-inline {list-style: none; margin:0; padding: 0}\n",
       ".list-inline>li {display: inline-block}\n",
       ".list-inline>li:not(:last-child)::after {content: \"\\00b7\"; padding: 0 .5ex}\n",
       "</style>\n",
       "<ol class=list-inline><li>76914</li><li>66</li></ol>\n"
      ],
      "text/latex": [
       "\\begin{enumerate*}\n",
       "\\item 76914\n",
       "\\item 66\n",
       "\\end{enumerate*}\n"
      ],
      "text/markdown": [
       "1. 76914\n",
       "2. 66\n",
       "\n",
       "\n"
      ],
      "text/plain": [
       "[1] 76914    66"
      ]
     },
     "metadata": {},
     "output_type": "display_data"
    }
   ],
   "source": [
    "dim(linked_data)"
   ]
  },
  {
   "cell_type": "code",
   "execution_count": 6,
   "metadata": {},
   "outputs": [],
   "source": [
    "ATACseq_idx <- c('ATACchr','ATACstart','ATACend','AT0','AT20','AT1H','AT2H','AT4H','AT24H')"
   ]
  },
  {
   "cell_type": "code",
   "execution_count": 7,
   "metadata": {},
   "outputs": [],
   "source": [
    "names(ATACseq_clustered) <- c('ATACchr','ATACstart','ATACend','width','AT0','AT20','AT1H','AT2H','AT4H','AT24H','ALR','ATACCluster')"
   ]
  },
  {
   "cell_type": "code",
   "execution_count": 8,
   "metadata": {},
   "outputs": [],
   "source": [
    "linked_data_withATACcluster <- unique(merge(linked_data, ATACseq_clustered))"
   ]
  },
  {
   "cell_type": "markdown",
   "metadata": {},
   "source": [
    "### read ATACseq peak locations intersected with H3K427AC, NFAT, NFKB and CTCF"
   ]
  },
  {
   "cell_type": "code",
   "execution_count": 9,
   "metadata": {},
   "outputs": [],
   "source": [
    "\n",
    "ATACseq_with_TF <- fread('data/ATACseq_peak_intersect_with_H3K27AC_NFAT_NFKB_CTCF_singleoccupiedonly.bed',header=F, sep='\\t')"
   ]
  },
  {
   "cell_type": "code",
   "execution_count": 10,
   "metadata": {},
   "outputs": [
    {
     "data": {
      "text/html": [
       "<table>\n",
       "<caption>A data.table: 6 × 4</caption>\n",
       "<thead>\n",
       "\t<tr><th scope=col>V1</th><th scope=col>V2</th><th scope=col>V3</th><th scope=col>V4</th></tr>\n",
       "\t<tr><th scope=col>&lt;chr&gt;</th><th scope=col>&lt;int&gt;</th><th scope=col>&lt;int&gt;</th><th scope=col>&lt;chr&gt;</th></tr>\n",
       "</thead>\n",
       "<tbody>\n",
       "\t<tr><td>chr1</td><td> 984284</td><td> 984405</td><td>CTCF   </td></tr>\n",
       "\t<tr><td>chr1</td><td>1040483</td><td>1040896</td><td>CTCF   </td></tr>\n",
       "\t<tr><td>chr1</td><td>1069266</td><td>1069663</td><td>CTCF   </td></tr>\n",
       "\t<tr><td>chr1</td><td>1079475</td><td>1080236</td><td>H3K27AC</td></tr>\n",
       "\t<tr><td>chr1</td><td>1098916</td><td>1099911</td><td>JunB   </td></tr>\n",
       "\t<tr><td>chr1</td><td>1371341</td><td>1372275</td><td>CTCF   </td></tr>\n",
       "</tbody>\n",
       "</table>\n"
      ],
      "text/latex": [
       "A data.table: 6 × 4\n",
       "\\begin{tabular}{llll}\n",
       " V1 & V2 & V3 & V4\\\\\n",
       " <chr> & <int> & <int> & <chr>\\\\\n",
       "\\hline\n",
       "\t chr1 &  984284 &  984405 & CTCF   \\\\\n",
       "\t chr1 & 1040483 & 1040896 & CTCF   \\\\\n",
       "\t chr1 & 1069266 & 1069663 & CTCF   \\\\\n",
       "\t chr1 & 1079475 & 1080236 & H3K27AC\\\\\n",
       "\t chr1 & 1098916 & 1099911 & JunB   \\\\\n",
       "\t chr1 & 1371341 & 1372275 & CTCF   \\\\\n",
       "\\end{tabular}\n"
      ],
      "text/markdown": [
       "\n",
       "A data.table: 6 × 4\n",
       "\n",
       "| V1 &lt;chr&gt; | V2 &lt;int&gt; | V3 &lt;int&gt; | V4 &lt;chr&gt; |\n",
       "|---|---|---|---|\n",
       "| chr1 |  984284 |  984405 | CTCF    |\n",
       "| chr1 | 1040483 | 1040896 | CTCF    |\n",
       "| chr1 | 1069266 | 1069663 | CTCF    |\n",
       "| chr1 | 1079475 | 1080236 | H3K27AC |\n",
       "| chr1 | 1098916 | 1099911 | JunB    |\n",
       "| chr1 | 1371341 | 1372275 | CTCF    |\n",
       "\n"
      ],
      "text/plain": [
       "  V1   V2      V3      V4     \n",
       "1 chr1  984284  984405 CTCF   \n",
       "2 chr1 1040483 1040896 CTCF   \n",
       "3 chr1 1069266 1069663 CTCF   \n",
       "4 chr1 1079475 1080236 H3K27AC\n",
       "5 chr1 1098916 1099911 JunB   \n",
       "6 chr1 1371341 1372275 CTCF   "
      ]
     },
     "metadata": {},
     "output_type": "display_data"
    }
   ],
   "source": [
    "head(ATACseq_with_TF)"
   ]
  },
  {
   "cell_type": "code",
   "execution_count": 11,
   "metadata": {},
   "outputs": [],
   "source": [
    "names(ATACseq_with_TF) <- c('ATACchr','ATACstart','ATACend','TF')"
   ]
  },
  {
   "cell_type": "code",
   "execution_count": 12,
   "metadata": {},
   "outputs": [],
   "source": [
    "merged_data <- unique(merge(linked_data_withATACcluster, ATACseq_with_TF, all=TRUE))"
   ]
  },
  {
   "cell_type": "code",
   "execution_count": 13,
   "metadata": {},
   "outputs": [
    {
     "data": {
      "text/html": [
       "<table>\n",
       "<caption>A data.frame: 6 × 70</caption>\n",
       "<thead>\n",
       "\t<tr><th></th><th scope=col>ATACchr</th><th scope=col>ATACstart</th><th scope=col>ATACend</th><th scope=col>AT0</th><th scope=col>AT20</th><th scope=col>AT1H</th><th scope=col>AT2H</th><th scope=col>AT4H</th><th scope=col>AT24H</th><th scope=col>otherEndID</th><th scope=col>⋯</th><th scope=col>BIC_atacseq</th><th scope=col>LR_atacseq</th><th scope=col>BIC_chic</th><th scope=col>LR_chic</th><th scope=col>BIC_gene</th><th scope=col>LR_gene</th><th scope=col>width</th><th scope=col>ALR</th><th scope=col>ATACCluster</th><th scope=col>TF</th></tr>\n",
       "\t<tr><th></th><th scope=col>&lt;fct&gt;</th><th scope=col>&lt;int&gt;</th><th scope=col>&lt;int&gt;</th><th scope=col>&lt;dbl&gt;</th><th scope=col>&lt;dbl&gt;</th><th scope=col>&lt;dbl&gt;</th><th scope=col>&lt;dbl&gt;</th><th scope=col>&lt;dbl&gt;</th><th scope=col>&lt;dbl&gt;</th><th scope=col>&lt;int&gt;</th><th scope=col>⋯</th><th scope=col>&lt;dbl&gt;</th><th scope=col>&lt;dbl&gt;</th><th scope=col>&lt;dbl&gt;</th><th scope=col>&lt;dbl&gt;</th><th scope=col>&lt;dbl&gt;</th><th scope=col>&lt;dbl&gt;</th><th scope=col>&lt;int&gt;</th><th scope=col>&lt;dbl&gt;</th><th scope=col>&lt;int&gt;</th><th scope=col>&lt;chr&gt;</th></tr>\n",
       "</thead>\n",
       "<tbody>\n",
       "\t<tr><th scope=row>1</th><td>chr1</td><td> 984284</td><td> 984405</td><td>      NA</td><td>      NA</td><td>      NA</td><td>      NA</td><td>      NA</td><td>      NA</td><td> NA</td><td>⋯</td><td>       NA</td><td>       NA</td><td>     NA</td><td>          NA</td><td>        NA</td><td>        NA</td><td> NA</td><td>      NA</td><td>NA</td><td>CTCF</td></tr>\n",
       "\t<tr><th scope=row>2</th><td>chr1</td><td>1040483</td><td>1040896</td><td>7.900938</td><td>7.986564</td><td>7.931974</td><td>7.621835</td><td>7.503944</td><td>7.269499</td><td>248</td><td>⋯</td><td>-2.969029</td><td>-4.760788</td><td>1.79200</td><td>0.0002405170</td><td>-17.527654</td><td>-19.319414</td><td>414</td><td>-4.76079</td><td> 3</td><td>CTCF</td></tr>\n",
       "\t<tr><th scope=row>3</th><td>chr1</td><td>1068759</td><td>1068972</td><td>7.218716</td><td>6.998478</td><td>6.689556</td><td>6.772565</td><td>6.518431</td><td>6.311069</td><td>251</td><td>⋯</td><td>-3.176320</td><td>-4.968079</td><td>     NA</td><td>          NA</td><td> -5.409763</td><td> -7.201523</td><td>214</td><td>-4.96808</td><td> 3</td><td>NA  </td></tr>\n",
       "\t<tr><th scope=row>4</th><td>chr1</td><td>1068759</td><td>1068972</td><td>7.218716</td><td>6.998478</td><td>6.689556</td><td>6.772565</td><td>6.518431</td><td>6.311069</td><td>251</td><td>⋯</td><td>-3.176320</td><td>-4.968079</td><td>     NA</td><td>          NA</td><td>-28.686864</td><td>-30.478623</td><td>214</td><td>-4.96808</td><td> 3</td><td>NA  </td></tr>\n",
       "\t<tr><th scope=row>5</th><td>chr1</td><td>1068759</td><td>1068972</td><td>7.218716</td><td>6.998478</td><td>6.689556</td><td>6.772565</td><td>6.518431</td><td>6.311069</td><td>251</td><td>⋯</td><td>-3.176320</td><td>-4.968079</td><td>1.79189</td><td>0.0001305548</td><td>-17.527654</td><td>-19.319414</td><td>214</td><td>-4.96808</td><td> 3</td><td>NA  </td></tr>\n",
       "\t<tr><th scope=row>6</th><td>chr1</td><td>1069266</td><td>1069663</td><td>      NA</td><td>      NA</td><td>      NA</td><td>      NA</td><td>      NA</td><td>      NA</td><td> NA</td><td>⋯</td><td>       NA</td><td>       NA</td><td>     NA</td><td>          NA</td><td>        NA</td><td>        NA</td><td> NA</td><td>      NA</td><td>NA</td><td>CTCF</td></tr>\n",
       "</tbody>\n",
       "</table>\n"
      ],
      "text/latex": [
       "A data.frame: 6 × 70\n",
       "\\begin{tabular}{r|lllllllllllllllllllll}\n",
       "  & ATACchr & ATACstart & ATACend & AT0 & AT20 & AT1H & AT2H & AT4H & AT24H & otherEndID & ⋯ & BIC\\_atacseq & LR\\_atacseq & BIC\\_chic & LR\\_chic & BIC\\_gene & LR\\_gene & width & ALR & ATACCluster & TF\\\\\n",
       "  & <fct> & <int> & <int> & <dbl> & <dbl> & <dbl> & <dbl> & <dbl> & <dbl> & <int> & ⋯ & <dbl> & <dbl> & <dbl> & <dbl> & <dbl> & <dbl> & <int> & <dbl> & <int> & <chr>\\\\\n",
       "\\hline\n",
       "\t1 & chr1 &  984284 &  984405 &       NA &       NA &       NA &       NA &       NA &       NA &  NA & ⋯ &        NA &        NA &      NA &           NA &         NA &         NA &  NA &       NA & NA & CTCF\\\\\n",
       "\t2 & chr1 & 1040483 & 1040896 & 7.900938 & 7.986564 & 7.931974 & 7.621835 & 7.503944 & 7.269499 & 248 & ⋯ & -2.969029 & -4.760788 & 1.79200 & 0.0002405170 & -17.527654 & -19.319414 & 414 & -4.76079 &  3 & CTCF\\\\\n",
       "\t3 & chr1 & 1068759 & 1068972 & 7.218716 & 6.998478 & 6.689556 & 6.772565 & 6.518431 & 6.311069 & 251 & ⋯ & -3.176320 & -4.968079 &      NA &           NA &  -5.409763 &  -7.201523 & 214 & -4.96808 &  3 & NA  \\\\\n",
       "\t4 & chr1 & 1068759 & 1068972 & 7.218716 & 6.998478 & 6.689556 & 6.772565 & 6.518431 & 6.311069 & 251 & ⋯ & -3.176320 & -4.968079 &      NA &           NA & -28.686864 & -30.478623 & 214 & -4.96808 &  3 & NA  \\\\\n",
       "\t5 & chr1 & 1068759 & 1068972 & 7.218716 & 6.998478 & 6.689556 & 6.772565 & 6.518431 & 6.311069 & 251 & ⋯ & -3.176320 & -4.968079 & 1.79189 & 0.0001305548 & -17.527654 & -19.319414 & 214 & -4.96808 &  3 & NA  \\\\\n",
       "\t6 & chr1 & 1069266 & 1069663 &       NA &       NA &       NA &       NA &       NA &       NA &  NA & ⋯ &        NA &        NA &      NA &           NA &         NA &         NA &  NA &       NA & NA & CTCF\\\\\n",
       "\\end{tabular}\n"
      ],
      "text/markdown": [
       "\n",
       "A data.frame: 6 × 70\n",
       "\n",
       "| <!--/--> | ATACchr &lt;fct&gt; | ATACstart &lt;int&gt; | ATACend &lt;int&gt; | AT0 &lt;dbl&gt; | AT20 &lt;dbl&gt; | AT1H &lt;dbl&gt; | AT2H &lt;dbl&gt; | AT4H &lt;dbl&gt; | AT24H &lt;dbl&gt; | otherEndID &lt;int&gt; | ⋯ ⋯ | BIC_atacseq &lt;dbl&gt; | LR_atacseq &lt;dbl&gt; | BIC_chic &lt;dbl&gt; | LR_chic &lt;dbl&gt; | BIC_gene &lt;dbl&gt; | LR_gene &lt;dbl&gt; | width &lt;int&gt; | ALR &lt;dbl&gt; | ATACCluster &lt;int&gt; | TF &lt;chr&gt; |\n",
       "|---|---|---|---|---|---|---|---|---|---|---|---|---|---|---|---|---|---|---|---|---|---|\n",
       "| 1 | chr1 |  984284 |  984405 |       NA |       NA |       NA |       NA |       NA |       NA |  NA | ⋯ |        NA |        NA |      NA |           NA |         NA |         NA |  NA |       NA | NA | CTCF |\n",
       "| 2 | chr1 | 1040483 | 1040896 | 7.900938 | 7.986564 | 7.931974 | 7.621835 | 7.503944 | 7.269499 | 248 | ⋯ | -2.969029 | -4.760788 | 1.79200 | 0.0002405170 | -17.527654 | -19.319414 | 414 | -4.76079 |  3 | CTCF |\n",
       "| 3 | chr1 | 1068759 | 1068972 | 7.218716 | 6.998478 | 6.689556 | 6.772565 | 6.518431 | 6.311069 | 251 | ⋯ | -3.176320 | -4.968079 |      NA |           NA |  -5.409763 |  -7.201523 | 214 | -4.96808 |  3 | NA   |\n",
       "| 4 | chr1 | 1068759 | 1068972 | 7.218716 | 6.998478 | 6.689556 | 6.772565 | 6.518431 | 6.311069 | 251 | ⋯ | -3.176320 | -4.968079 |      NA |           NA | -28.686864 | -30.478623 | 214 | -4.96808 |  3 | NA   |\n",
       "| 5 | chr1 | 1068759 | 1068972 | 7.218716 | 6.998478 | 6.689556 | 6.772565 | 6.518431 | 6.311069 | 251 | ⋯ | -3.176320 | -4.968079 | 1.79189 | 0.0001305548 | -17.527654 | -19.319414 | 214 | -4.96808 |  3 | NA   |\n",
       "| 6 | chr1 | 1069266 | 1069663 |       NA |       NA |       NA |       NA |       NA |       NA |  NA | ⋯ |        NA |        NA |      NA |           NA |         NA |         NA |  NA |       NA | NA | CTCF |\n",
       "\n"
      ],
      "text/plain": [
       "  ATACchr ATACstart ATACend AT0      AT20     AT1H     AT2H     AT4H    \n",
       "1 chr1     984284    984405       NA       NA       NA       NA       NA\n",
       "2 chr1    1040483   1040896 7.900938 7.986564 7.931974 7.621835 7.503944\n",
       "3 chr1    1068759   1068972 7.218716 6.998478 6.689556 6.772565 6.518431\n",
       "4 chr1    1068759   1068972 7.218716 6.998478 6.689556 6.772565 6.518431\n",
       "5 chr1    1068759   1068972 7.218716 6.998478 6.689556 6.772565 6.518431\n",
       "6 chr1    1069266   1069663       NA       NA       NA       NA       NA\n",
       "  AT24H    otherEndID ⋯ BIC_atacseq LR_atacseq BIC_chic LR_chic      BIC_gene  \n",
       "1       NA  NA        ⋯        NA          NA       NA            NA         NA\n",
       "2 7.269499 248        ⋯ -2.969029   -4.760788  1.79200  0.0002405170 -17.527654\n",
       "3 6.311069 251        ⋯ -3.176320   -4.968079       NA            NA  -5.409763\n",
       "4 6.311069 251        ⋯ -3.176320   -4.968079       NA            NA -28.686864\n",
       "5 6.311069 251        ⋯ -3.176320   -4.968079  1.79189  0.0001305548 -17.527654\n",
       "6       NA  NA        ⋯        NA          NA       NA            NA         NA\n",
       "  LR_gene    width ALR      ATACCluster TF  \n",
       "1         NA  NA         NA NA          CTCF\n",
       "2 -19.319414 414   -4.76079  3          CTCF\n",
       "3  -7.201523 214   -4.96808  3          NA  \n",
       "4 -30.478623 214   -4.96808  3          NA  \n",
       "5 -19.319414 214   -4.96808  3          NA  \n",
       "6         NA  NA         NA NA          CTCF"
      ]
     },
     "metadata": {},
     "output_type": "display_data"
    }
   ],
   "source": [
    "head(merged_data)"
   ]
  },
  {
   "cell_type": "code",
   "execution_count": 14,
   "metadata": {},
   "outputs": [],
   "source": [
    "merged_data$TF[is.na(merged_data$TF)] <- 'Others'"
   ]
  },
  {
   "cell_type": "code",
   "execution_count": 15,
   "metadata": {},
   "outputs": [
    {
     "data": {
      "text/html": [
       "<style>\n",
       ".list-inline {list-style: none; margin:0; padding: 0}\n",
       ".list-inline>li {display: inline-block}\n",
       ".list-inline>li:not(:last-child)::after {content: \"\\00b7\"; padding: 0 .5ex}\n",
       "</style>\n",
       "<ol class=list-inline><li>11901</li><li>70</li></ol>\n"
      ],
      "text/latex": [
       "\\begin{enumerate*}\n",
       "\\item 11901\n",
       "\\item 70\n",
       "\\end{enumerate*}\n"
      ],
      "text/markdown": [
       "1. 11901\n",
       "2. 70\n",
       "\n",
       "\n"
      ],
      "text/plain": [
       "[1] 11901    70"
      ]
     },
     "metadata": {},
     "output_type": "display_data"
    },
    {
     "data": {
      "text/plain": [
       "\n",
       "   CTCF H3K27AC    JunB   NFAT1   NFAT2    NFKB  Others \n",
       "   2697    1143    2358     163       7      67    5466 "
      ]
     },
     "metadata": {},
     "output_type": "display_data"
    }
   ],
   "source": [
    "dim(merged_data)\n",
    "table(merged_data$TF)"
   ]
  },
  {
   "cell_type": "code",
   "execution_count": 16,
   "metadata": {},
   "outputs": [],
   "source": [
    "merged_data_new <- merged_data[complete.cases(merged_data),]"
   ]
  },
  {
   "cell_type": "code",
   "execution_count": 17,
   "metadata": {},
   "outputs": [
    {
     "data": {
      "text/html": [
       "<table>\n",
       "<caption>A data.frame: 6 × 70</caption>\n",
       "<thead>\n",
       "\t<tr><th></th><th scope=col>ATACchr</th><th scope=col>ATACstart</th><th scope=col>ATACend</th><th scope=col>AT0</th><th scope=col>AT20</th><th scope=col>AT1H</th><th scope=col>AT2H</th><th scope=col>AT4H</th><th scope=col>AT24H</th><th scope=col>otherEndID</th><th scope=col>⋯</th><th scope=col>BIC_atacseq</th><th scope=col>LR_atacseq</th><th scope=col>BIC_chic</th><th scope=col>LR_chic</th><th scope=col>BIC_gene</th><th scope=col>LR_gene</th><th scope=col>width</th><th scope=col>ALR</th><th scope=col>ATACCluster</th><th scope=col>TF</th></tr>\n",
       "\t<tr><th></th><th scope=col>&lt;fct&gt;</th><th scope=col>&lt;int&gt;</th><th scope=col>&lt;int&gt;</th><th scope=col>&lt;dbl&gt;</th><th scope=col>&lt;dbl&gt;</th><th scope=col>&lt;dbl&gt;</th><th scope=col>&lt;dbl&gt;</th><th scope=col>&lt;dbl&gt;</th><th scope=col>&lt;dbl&gt;</th><th scope=col>&lt;int&gt;</th><th scope=col>⋯</th><th scope=col>&lt;dbl&gt;</th><th scope=col>&lt;dbl&gt;</th><th scope=col>&lt;dbl&gt;</th><th scope=col>&lt;dbl&gt;</th><th scope=col>&lt;dbl&gt;</th><th scope=col>&lt;dbl&gt;</th><th scope=col>&lt;int&gt;</th><th scope=col>&lt;dbl&gt;</th><th scope=col>&lt;int&gt;</th><th scope=col>&lt;chr&gt;</th></tr>\n",
       "</thead>\n",
       "<tbody>\n",
       "\t<tr><th scope=row>2</th><td>chr1</td><td>1040483</td><td>1040896</td><td>7.900938</td><td>7.986564</td><td>7.931974</td><td>7.621835</td><td>7.503944</td><td>7.269499</td><td>248</td><td>⋯</td><td>-2.969029</td><td>-4.760788</td><td> 1.792000</td><td> 0.0002405170</td><td>-17.52765</td><td>-19.31941</td><td>414</td><td>-4.76079</td><td>3</td><td>CTCF  </td></tr>\n",
       "\t<tr><th scope=row>5</th><td>chr1</td><td>1068759</td><td>1068972</td><td>7.218716</td><td>6.998478</td><td>6.689556</td><td>6.772565</td><td>6.518431</td><td>6.311069</td><td>251</td><td>⋯</td><td>-3.176320</td><td>-4.968079</td><td> 1.791890</td><td> 0.0001305548</td><td>-17.52765</td><td>-19.31941</td><td>214</td><td>-4.96808</td><td>3</td><td>Others</td></tr>\n",
       "\t<tr><th scope=row>9</th><td>chr1</td><td>1143885</td><td>1144665</td><td>7.874818</td><td>7.813425</td><td>7.740767</td><td>7.821349</td><td>7.422338</td><td>7.236295</td><td>260</td><td>⋯</td><td>-0.138466</td><td>-1.930225</td><td> 1.792516</td><td> 0.0007567438</td><td>-20.53857</td><td>-22.33033</td><td>781</td><td>-1.93023</td><td>3</td><td>Others</td></tr>\n",
       "\t<tr><th scope=row>11</th><td>chr1</td><td>1143885</td><td>1144665</td><td>7.874818</td><td>7.813425</td><td>7.740767</td><td>7.821349</td><td>7.422338</td><td>7.236295</td><td>260</td><td>⋯</td><td>-0.138466</td><td>-1.930225</td><td>-7.549345</td><td>-9.3411049677</td><td>-17.52765</td><td>-19.31941</td><td>781</td><td>-1.93023</td><td>3</td><td>Others</td></tr>\n",
       "\t<tr><th scope=row>12</th><td>chr1</td><td>1143885</td><td>1144665</td><td>7.874818</td><td>7.813425</td><td>7.740767</td><td>7.821349</td><td>7.422338</td><td>7.236295</td><td>260</td><td>⋯</td><td>-0.138466</td><td>-1.930225</td><td> 1.792516</td><td> 0.0007567438</td><td>-20.07642</td><td>-21.86818</td><td>781</td><td>-1.93023</td><td>3</td><td>Others</td></tr>\n",
       "\t<tr><th scope=row>15</th><td>chr1</td><td>1371341</td><td>1372275</td><td>8.926809</td><td>9.115807</td><td>8.768041</td><td>8.604699</td><td>8.561614</td><td>8.197402</td><td>278</td><td>⋯</td><td>-2.860340</td><td>-4.652099</td><td> 1.149975</td><td>-0.6417841593</td><td>-16.17891</td><td>-17.97067</td><td>935</td><td>-4.65210</td><td>3</td><td>CTCF  </td></tr>\n",
       "</tbody>\n",
       "</table>\n"
      ],
      "text/latex": [
       "A data.frame: 6 × 70\n",
       "\\begin{tabular}{r|lllllllllllllllllllll}\n",
       "  & ATACchr & ATACstart & ATACend & AT0 & AT20 & AT1H & AT2H & AT4H & AT24H & otherEndID & ⋯ & BIC\\_atacseq & LR\\_atacseq & BIC\\_chic & LR\\_chic & BIC\\_gene & LR\\_gene & width & ALR & ATACCluster & TF\\\\\n",
       "  & <fct> & <int> & <int> & <dbl> & <dbl> & <dbl> & <dbl> & <dbl> & <dbl> & <int> & ⋯ & <dbl> & <dbl> & <dbl> & <dbl> & <dbl> & <dbl> & <int> & <dbl> & <int> & <chr>\\\\\n",
       "\\hline\n",
       "\t2 & chr1 & 1040483 & 1040896 & 7.900938 & 7.986564 & 7.931974 & 7.621835 & 7.503944 & 7.269499 & 248 & ⋯ & -2.969029 & -4.760788 &  1.792000 &  0.0002405170 & -17.52765 & -19.31941 & 414 & -4.76079 & 3 & CTCF  \\\\\n",
       "\t5 & chr1 & 1068759 & 1068972 & 7.218716 & 6.998478 & 6.689556 & 6.772565 & 6.518431 & 6.311069 & 251 & ⋯ & -3.176320 & -4.968079 &  1.791890 &  0.0001305548 & -17.52765 & -19.31941 & 214 & -4.96808 & 3 & Others\\\\\n",
       "\t9 & chr1 & 1143885 & 1144665 & 7.874818 & 7.813425 & 7.740767 & 7.821349 & 7.422338 & 7.236295 & 260 & ⋯ & -0.138466 & -1.930225 &  1.792516 &  0.0007567438 & -20.53857 & -22.33033 & 781 & -1.93023 & 3 & Others\\\\\n",
       "\t11 & chr1 & 1143885 & 1144665 & 7.874818 & 7.813425 & 7.740767 & 7.821349 & 7.422338 & 7.236295 & 260 & ⋯ & -0.138466 & -1.930225 & -7.549345 & -9.3411049677 & -17.52765 & -19.31941 & 781 & -1.93023 & 3 & Others\\\\\n",
       "\t12 & chr1 & 1143885 & 1144665 & 7.874818 & 7.813425 & 7.740767 & 7.821349 & 7.422338 & 7.236295 & 260 & ⋯ & -0.138466 & -1.930225 &  1.792516 &  0.0007567438 & -20.07642 & -21.86818 & 781 & -1.93023 & 3 & Others\\\\\n",
       "\t15 & chr1 & 1371341 & 1372275 & 8.926809 & 9.115807 & 8.768041 & 8.604699 & 8.561614 & 8.197402 & 278 & ⋯ & -2.860340 & -4.652099 &  1.149975 & -0.6417841593 & -16.17891 & -17.97067 & 935 & -4.65210 & 3 & CTCF  \\\\\n",
       "\\end{tabular}\n"
      ],
      "text/markdown": [
       "\n",
       "A data.frame: 6 × 70\n",
       "\n",
       "| <!--/--> | ATACchr &lt;fct&gt; | ATACstart &lt;int&gt; | ATACend &lt;int&gt; | AT0 &lt;dbl&gt; | AT20 &lt;dbl&gt; | AT1H &lt;dbl&gt; | AT2H &lt;dbl&gt; | AT4H &lt;dbl&gt; | AT24H &lt;dbl&gt; | otherEndID &lt;int&gt; | ⋯ ⋯ | BIC_atacseq &lt;dbl&gt; | LR_atacseq &lt;dbl&gt; | BIC_chic &lt;dbl&gt; | LR_chic &lt;dbl&gt; | BIC_gene &lt;dbl&gt; | LR_gene &lt;dbl&gt; | width &lt;int&gt; | ALR &lt;dbl&gt; | ATACCluster &lt;int&gt; | TF &lt;chr&gt; |\n",
       "|---|---|---|---|---|---|---|---|---|---|---|---|---|---|---|---|---|---|---|---|---|---|\n",
       "| 2 | chr1 | 1040483 | 1040896 | 7.900938 | 7.986564 | 7.931974 | 7.621835 | 7.503944 | 7.269499 | 248 | ⋯ | -2.969029 | -4.760788 |  1.792000 |  0.0002405170 | -17.52765 | -19.31941 | 414 | -4.76079 | 3 | CTCF   |\n",
       "| 5 | chr1 | 1068759 | 1068972 | 7.218716 | 6.998478 | 6.689556 | 6.772565 | 6.518431 | 6.311069 | 251 | ⋯ | -3.176320 | -4.968079 |  1.791890 |  0.0001305548 | -17.52765 | -19.31941 | 214 | -4.96808 | 3 | Others |\n",
       "| 9 | chr1 | 1143885 | 1144665 | 7.874818 | 7.813425 | 7.740767 | 7.821349 | 7.422338 | 7.236295 | 260 | ⋯ | -0.138466 | -1.930225 |  1.792516 |  0.0007567438 | -20.53857 | -22.33033 | 781 | -1.93023 | 3 | Others |\n",
       "| 11 | chr1 | 1143885 | 1144665 | 7.874818 | 7.813425 | 7.740767 | 7.821349 | 7.422338 | 7.236295 | 260 | ⋯ | -0.138466 | -1.930225 | -7.549345 | -9.3411049677 | -17.52765 | -19.31941 | 781 | -1.93023 | 3 | Others |\n",
       "| 12 | chr1 | 1143885 | 1144665 | 7.874818 | 7.813425 | 7.740767 | 7.821349 | 7.422338 | 7.236295 | 260 | ⋯ | -0.138466 | -1.930225 |  1.792516 |  0.0007567438 | -20.07642 | -21.86818 | 781 | -1.93023 | 3 | Others |\n",
       "| 15 | chr1 | 1371341 | 1372275 | 8.926809 | 9.115807 | 8.768041 | 8.604699 | 8.561614 | 8.197402 | 278 | ⋯ | -2.860340 | -4.652099 |  1.149975 | -0.6417841593 | -16.17891 | -17.97067 | 935 | -4.65210 | 3 | CTCF   |\n",
       "\n"
      ],
      "text/plain": [
       "   ATACchr ATACstart ATACend AT0      AT20     AT1H     AT2H     AT4H    \n",
       "2  chr1    1040483   1040896 7.900938 7.986564 7.931974 7.621835 7.503944\n",
       "5  chr1    1068759   1068972 7.218716 6.998478 6.689556 6.772565 6.518431\n",
       "9  chr1    1143885   1144665 7.874818 7.813425 7.740767 7.821349 7.422338\n",
       "11 chr1    1143885   1144665 7.874818 7.813425 7.740767 7.821349 7.422338\n",
       "12 chr1    1143885   1144665 7.874818 7.813425 7.740767 7.821349 7.422338\n",
       "15 chr1    1371341   1372275 8.926809 9.115807 8.768041 8.604699 8.561614\n",
       "   AT24H    otherEndID ⋯ BIC_atacseq LR_atacseq BIC_chic  LR_chic      \n",
       "2  7.269499 248        ⋯ -2.969029   -4.760788   1.792000  0.0002405170\n",
       "5  6.311069 251        ⋯ -3.176320   -4.968079   1.791890  0.0001305548\n",
       "9  7.236295 260        ⋯ -0.138466   -1.930225   1.792516  0.0007567438\n",
       "11 7.236295 260        ⋯ -0.138466   -1.930225  -7.549345 -9.3411049677\n",
       "12 7.236295 260        ⋯ -0.138466   -1.930225   1.792516  0.0007567438\n",
       "15 8.197402 278        ⋯ -2.860340   -4.652099   1.149975 -0.6417841593\n",
       "   BIC_gene  LR_gene   width ALR      ATACCluster TF    \n",
       "2  -17.52765 -19.31941 414   -4.76079 3           CTCF  \n",
       "5  -17.52765 -19.31941 214   -4.96808 3           Others\n",
       "9  -20.53857 -22.33033 781   -1.93023 3           Others\n",
       "11 -17.52765 -19.31941 781   -1.93023 3           Others\n",
       "12 -20.07642 -21.86818 781   -1.93023 3           Others\n",
       "15 -16.17891 -17.97067 935   -4.65210 3           CTCF  "
      ]
     },
     "metadata": {},
     "output_type": "display_data"
    }
   ],
   "source": [
    "head(merged_data_new)"
   ]
  },
  {
   "cell_type": "code",
   "execution_count": 18,
   "metadata": {},
   "outputs": [
    {
     "data": {
      "text/html": [
       "<style>\n",
       ".list-inline {list-style: none; margin:0; padding: 0}\n",
       ".list-inline>li {display: inline-block}\n",
       ".list-inline>li:not(:last-child)::after {content: \"\\00b7\"; padding: 0 .5ex}\n",
       "</style>\n",
       "<ol class=list-inline><li>5249</li><li>70</li></ol>\n"
      ],
      "text/latex": [
       "\\begin{enumerate*}\n",
       "\\item 5249\n",
       "\\item 70\n",
       "\\end{enumerate*}\n"
      ],
      "text/markdown": [
       "1. 5249\n",
       "2. 70\n",
       "\n",
       "\n"
      ],
      "text/plain": [
       "[1] 5249   70"
      ]
     },
     "metadata": {},
     "output_type": "display_data"
    }
   ],
   "source": [
    "dim(merged_data_new)"
   ]
  },
  {
   "cell_type": "code",
   "execution_count": 19,
   "metadata": {},
   "outputs": [],
   "source": [
    "idx_uniq <- c('baitID','otherEndID','T0','T20','T1H','T4H','T24H','TF')"
   ]
  },
  {
   "cell_type": "code",
   "execution_count": 20,
   "metadata": {},
   "outputs": [],
   "source": [
    "merged_cluster0_withTF <- unique(subset(merged_data_new, merged_data_new$ATACCluster==0)[,idx_uniq])\n",
    "merged_cluster1_withTF <- unique(subset(merged_data_new, merged_data_new$ATACCluster==1)[,idx_uniq])\n",
    "merged_cluster2_withTF <- unique(subset(merged_data_new, merged_data_new$ATACCluster==2)[,idx_uniq])\n",
    "merged_cluster3_withTF <- unique(subset(merged_data_new, merged_data_new$ATACCluster==3)[,idx_uniq])\n",
    "merged_cluster4_withTF <- unique(subset(merged_data_new, merged_data_new$ATACCluster==4)[,idx_uniq])\n",
    "merged_cluster5_withTF <- unique(subset(merged_data_new, merged_data_new$ATACCluster==5)[,idx_uniq])\n"
   ]
  },
  {
   "cell_type": "code",
   "execution_count": 21,
   "metadata": {},
   "outputs": [
    {
     "data": {
      "text/html": [
       "<style>\n",
       ".list-inline {list-style: none; margin:0; padding: 0}\n",
       ".list-inline>li {display: inline-block}\n",
       ".list-inline>li:not(:last-child)::after {content: \"\\00b7\"; padding: 0 .5ex}\n",
       "</style>\n",
       "<ol class=list-inline><li>1702</li><li>8</li></ol>\n"
      ],
      "text/latex": [
       "\\begin{enumerate*}\n",
       "\\item 1702\n",
       "\\item 8\n",
       "\\end{enumerate*}\n"
      ],
      "text/markdown": [
       "1. 1702\n",
       "2. 8\n",
       "\n",
       "\n"
      ],
      "text/plain": [
       "[1] 1702    8"
      ]
     },
     "metadata": {},
     "output_type": "display_data"
    }
   ],
   "source": [
    "dim(merged_cluster0_withTF)"
   ]
  },
  {
   "cell_type": "raw",
   "metadata": {},
   "source": [
    "merged_cluster0_withTF %>% group_by(TF) %>% summarize(count=n()) %>% arrange(desc(count))\n",
    "merged_cluster1_withTF %>% group_by(TF) %>% summarize(count=n()) %>% arrange(desc(count))\n"
   ]
  },
  {
   "cell_type": "code",
   "execution_count": 22,
   "metadata": {},
   "outputs": [],
   "source": [
    "idx_chic <- c('T0','T20','T1H','T4H','T24H')"
   ]
  },
  {
   "cell_type": "code",
   "execution_count": 23,
   "metadata": {},
   "outputs": [],
   "source": [
    "data0 <- data.frame(dynamic=sign(merged_cluster0_withTF$T24H-merged_cluster0_withTF$T0), TF=merged_cluster0_withTF$TF)\n",
    "data1 <- data.frame(dynamic=sign(merged_cluster1_withTF$T24H-merged_cluster1_withTF$T0), TF=merged_cluster1_withTF$TF)\n",
    "data2 <- data.frame(dynamic=sign(merged_cluster2_withTF$T24H-merged_cluster2_withTF$T0), TF=merged_cluster2_withTF$TF)\n",
    "data3 <- data.frame(dynamic=sign(merged_cluster3_withTF$T24H-merged_cluster3_withTF$T0), TF=merged_cluster3_withTF$TF)\n",
    "data4 <- data.frame(dynamic=sign(merged_cluster4_withTF$T24H-merged_cluster4_withTF$T0), TF=merged_cluster4_withTF$TF)\n",
    "data5 <- data.frame(dynamic=sign(merged_cluster5_withTF$T24H-merged_cluster5_withTF$T0), TF=merged_cluster5_withTF$TF)\n",
    "data0$label <- 1:dim(data0)[1]\n",
    "data0$cluster <- 'Cluster 1'\n",
    "data1$label <- 1:dim(data1)[1]\n",
    "data1$cluster <- 'Cluster 2'\n",
    "data2$label <- 1:dim(data2)[1]\n",
    "data2$cluster <- 'Cluster 3'\n",
    "data3$label <- 1:dim(data3)[1]\n",
    "data3$cluster <- 'Cluster 4'\n",
    "data4$label <- 1:dim(data4)[1]\n",
    "data4$cluster <- 'Cluster 5'\n",
    "data5$label <- 1:dim(data5)[1]\n",
    "data5$cluster <- 'Cluster 6'"
   ]
  },
  {
   "cell_type": "code",
   "execution_count": 24,
   "metadata": {},
   "outputs": [],
   "source": [
    "data_forplot <- rbind(data0, data1, data2, data3, data4, data5)"
   ]
  },
  {
   "cell_type": "code",
   "execution_count": 25,
   "metadata": {},
   "outputs": [],
   "source": [
    "data_forplot$dynamic_symbol <- 'Gain'\n",
    "data_forplot$dynamic_symbol[data_forplot$dynamic==(-1)] <- 'Lost'\n",
    "data_forplot$dynamic_symbol[data_forplot$dynamic==0] <- 'No Change'"
   ]
  },
  {
   "cell_type": "code",
   "execution_count": 26,
   "metadata": {},
   "outputs": [
    {
     "name": "stderr",
     "output_type": "stream",
     "text": [
      "Saving 6.67 x 6.67 in image\n",
      "\n"
     ]
    },
    {
     "data": {
      "image/png": "[encoded data removed]",
      "text/plain": [
       "plot without title"
      ]
     },
     "metadata": {
      "image/png": {
       "height": 420,
       "width": 420
      }
     },
     "output_type": "display_data"
    }
   ],
   "source": [
    "\n",
    "p0 <- ggplot(subset(data_forplot, !(data_forplot$TF %in% 'Others')), aes(x=dynamic_symbol, fill=TF)) + \n",
    "geom_bar(width=0.5, position = \"dodge\") + xlab('Changes in CHi-C interactions') +\n",
    "theme(panel.background=element_blank(), \n",
    "         axis.line=element_line(),\n",
    "         axis.text=element_text(size=14, face='bold'),axis.title=element_text(size=14,face=\"bold\"),\n",
    "        strip.text = element_text(size=12, face='bold'),\n",
    "        legend.text=element_text(size=12, face='bold'), plot.title=element_text(size=16, face=\"bold\", hjust=0.5),\n",
    "        legend.position='top', legend.title=element_blank()) + \n",
    "        ylab('Number of interactions') + #ggtitle('Supplementary Fig. 10d') +\n",
    "   facet_wrap(cluster~., ncol=2, scales=\"free_y\")\n",
    "\n",
    "#ggsave('~/Dropbox (The University of Manchester)/IntegratingATAC-RNA-HiC/Individual_Figures_Files/ATACSeq_motif/CTCF_H3K27AC_NFAT_withincluster_new.pdf', p0)\n",
    "p0"
   ]
  },
  {
   "cell_type": "code",
   "execution_count": null,
   "metadata": {},
   "outputs": [],
   "source": []
  }
 ],
 "metadata": {
  "kernelspec": {
   "display_name": "R",
   "language": "R",
   "name": "ir"
  },
  "language_info": {
   "codemirror_mode": "r",
   "file_extension": ".r",
   "mimetype": "text/x-r-source",
   "name": "R",
   "pygments_lexer": "r",
   "version": "3.6.3"
  }
 },
 "nbformat": 4,
 "nbformat_minor": 2
}
