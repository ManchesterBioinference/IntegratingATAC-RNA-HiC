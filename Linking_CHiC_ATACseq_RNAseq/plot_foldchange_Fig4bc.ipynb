{
 "cells": [
  {
   "cell_type": "markdown",
   "metadata": {},
   "source": [
    "## Jupyter notebook for plotting the log2 foldchange between CHi-C, ATAC-seq and RNA-seq\n",
    "\n",
    "This notebook is the code for plotting the log2 folchange between CHi-C, ATAC-seq and RNA-seq time course data (Fig. 4b,c) used in the paper **\"Simultaneous analysis of open chromatin, promoter interactions and gene expression in stimulated T cells implicates causal genes for rheumatoid arthritis\"** by Jing Yang, Amanda McGovern, Paul Martin, Kate Duffus, Peyman Zarrineh, Andrew P Morris, Antony Adamson, Peter Fraser, Magnus Rattray & Stephen Eyre \n",
    "\n",
    "Author : *Jing Yang*  <br />\n",
    "Date: 24-10-2019 <br />\n",
    "For any questions about the code, please drop me a line at Jing.Yang@manchester.ac.uk"
   ]
  },
  {
   "cell_type": "markdown",
   "metadata": {},
   "source": [
    "### load required packages"
   ]
  },
  {
   "cell_type": "code",
   "execution_count": 1,
   "metadata": {},
   "outputs": [
    {
     "name": "stderr",
     "output_type": "stream",
     "text": [
      "Loading required package: S4Vectors\n",
      "\n",
      "Loading required package: stats4\n",
      "\n",
      "Loading required package: BiocGenerics\n",
      "\n",
      "Loading required package: parallel\n",
      "\n",
      "\n",
      "Attaching package: ‘BiocGenerics’\n",
      "\n",
      "\n",
      "The following objects are masked from ‘package:parallel’:\n",
      "\n",
      "    clusterApply, clusterApplyLB, clusterCall, clusterEvalQ,\n",
      "    clusterExport, clusterMap, parApply, parCapply, parLapply,\n",
      "    parLapplyLB, parRapply, parSapply, parSapplyLB\n",
      "\n",
      "\n",
      "The following objects are masked from ‘package:stats’:\n",
      "\n",
      "    IQR, mad, sd, var, xtabs\n",
      "\n",
      "\n",
      "The following objects are masked from ‘package:base’:\n",
      "\n",
      "    anyDuplicated, append, as.data.frame, basename, cbind, colnames,\n",
      "    dirname, do.call, duplicated, eval, evalq, Filter, Find, get, grep,\n",
      "    grepl, intersect, is.unsorted, lapply, Map, mapply, match, mget,\n",
      "    order, paste, pmax, pmax.int, pmin, pmin.int, Position, rank,\n",
      "    rbind, Reduce, rownames, sapply, setdiff, sort, table, tapply,\n",
      "    union, unique, unsplit, which, which.max, which.min\n",
      "\n",
      "\n",
      "\n",
      "Attaching package: ‘S4Vectors’\n",
      "\n",
      "\n",
      "The following object is masked from ‘package:base’:\n",
      "\n",
      "    expand.grid\n",
      "\n",
      "\n",
      "Loading required package: IRanges\n",
      "\n",
      "Loading required package: GenomicRanges\n",
      "\n",
      "Loading required package: GenomeInfoDb\n",
      "\n",
      "Loading required package: SummarizedExperiment\n",
      "\n",
      "Loading required package: Biobase\n",
      "\n",
      "Welcome to Bioconductor\n",
      "\n",
      "    Vignettes contain introductory material; view with\n",
      "    'browseVignettes()'. To cite Bioconductor, see\n",
      "    'citation(\"Biobase\")', and for packages 'citation(\"pkgname\")'.\n",
      "\n",
      "\n",
      "Loading required package: DelayedArray\n",
      "\n",
      "Loading required package: matrixStats\n",
      "\n",
      "\n",
      "Attaching package: ‘matrixStats’\n",
      "\n",
      "\n",
      "The following objects are masked from ‘package:Biobase’:\n",
      "\n",
      "    anyMissing, rowMedians\n",
      "\n",
      "\n",
      "Loading required package: BiocParallel\n",
      "\n",
      "\n",
      "Attaching package: ‘DelayedArray’\n",
      "\n",
      "\n",
      "The following objects are masked from ‘package:matrixStats’:\n",
      "\n",
      "    colMaxs, colMins, colRanges, rowMaxs, rowMins, rowRanges\n",
      "\n",
      "\n",
      "The following objects are masked from ‘package:base’:\n",
      "\n",
      "    aperm, apply, rowsum\n",
      "\n",
      "\n"
     ]
    }
   ],
   "source": [
    "library(ggplot2)\n",
    "library(DESeq2)\n",
    "#library(ggpubr)\n",
    "#library(gridExtra)\n",
    "#library(latex2exp)\n"
   ]
  },
  {
   "cell_type": "markdown",
   "metadata": {},
   "source": [
    "### load linked gene expression, open chromatin and interaction data."
   ]
  },
  {
   "cell_type": "code",
   "execution_count": 2,
   "metadata": {},
   "outputs": [],
   "source": [
    "data <- read.table(file='data/CHiC_ATACseq_RNAseq_linked_within5MB.txt', header=T)"
   ]
  },
  {
   "cell_type": "markdown",
   "metadata": {},
   "source": [
    "### get data with dynamic ATACseq"
   ]
  },
  {
   "cell_type": "code",
   "execution_count": 3,
   "metadata": {},
   "outputs": [],
   "source": [
    "data_dynamic_atacseq <- data[data$Alld_ratio0<0,]"
   ]
  },
  {
   "cell_type": "code",
   "execution_count": 4,
   "metadata": {},
   "outputs": [
    {
     "data": {
      "text/html": [
       "<ol class=list-inline>\n",
       "\t<li>11554</li>\n",
       "\t<li>19</li>\n",
       "</ol>\n"
      ],
      "text/latex": [
       "\\begin{enumerate*}\n",
       "\\item 11554\n",
       "\\item 19\n",
       "\\end{enumerate*}\n"
      ],
      "text/markdown": [
       "1. 11554\n",
       "2. 19\n",
       "\n",
       "\n"
      ],
      "text/plain": [
       "[1] 11554    19"
      ]
     },
     "metadata": {},
     "output_type": "display_data"
    }
   ],
   "source": [
    "dim(data_dynamic_atacseq)"
   ]
  },
  {
   "cell_type": "markdown",
   "metadata": {},
   "source": [
    "### load these highly correlated links"
   ]
  },
  {
   "cell_type": "code",
   "execution_count": 5,
   "metadata": {},
   "outputs": [],
   "source": [
    "data_corrover0.5 <- read.table('data/CHiC_ATACseq_RNAseq_linked_correlationover0.5.txt', header=T)"
   ]
  },
  {
   "cell_type": "markdown",
   "metadata": {},
   "source": [
    "### load raw reads ATAC-seq, RNA-seq and CHi-C data"
   ]
  },
  {
   "cell_type": "code",
   "execution_count": 6,
   "metadata": {},
   "outputs": [],
   "source": [
    "counts_chic <- read.table('data/CHiC_counts.txt', header=T)\n",
    "counts_gene <- read.table('data/RNAseq_counts.txt', header=T)\n",
    "counts_atacseq <- read.table('data/ATACseq_counts.txt', header=T)"
   ]
  },
  {
   "cell_type": "markdown",
   "metadata": {},
   "source": [
    "### calculating log2 foldchange by DESeq2"
   ]
  },
  {
   "cell_type": "code",
   "execution_count": 7,
   "metadata": {},
   "outputs": [
    {
     "name": "stderr",
     "output_type": "stream",
     "text": [
      "estimating size factors\n",
      "\n",
      "estimating dispersions\n",
      "\n",
      "gene-wise dispersion estimates\n",
      "\n",
      "mean-dispersion relationship\n",
      "\n",
      "-- note: fitType='parametric', but the dispersion trend was not well captured by the\n",
      "   function: y = a/x + b, and a local regression fit was automatically substituted.\n",
      "   specify fitType='local' or 'mean' to avoid this message next time.\n",
      "\n",
      "final dispersion estimates\n",
      "\n",
      "fitting model and testing\n",
      "\n",
      "estimating size factors\n",
      "\n",
      "estimating dispersions\n",
      "\n",
      "gene-wise dispersion estimates\n",
      "\n",
      "mean-dispersion relationship\n",
      "\n",
      "final dispersion estimates\n",
      "\n",
      "fitting model and testing\n",
      "\n",
      "estimating size factors\n",
      "\n",
      "estimating dispersions\n",
      "\n",
      "gene-wise dispersion estimates\n",
      "\n",
      "mean-dispersion relationship\n",
      "\n",
      "final dispersion estimates\n",
      "\n",
      "fitting model and testing\n",
      "\n"
     ]
    }
   ],
   "source": [
    "counts_chic_0and24 <- as.matrix(counts_chic[,c('T01','T02','T24H1')])\n",
    "counts_gene_0and24 <- as.matrix(counts_gene[,c('O0','N0','O24H','N24H')])\n",
    "counts_atacseq_0and24 <- as.matrix(counts_atacseq[,c('T01','T02','T03','T24H1','T24H2','T24H3')])\n",
    "\n",
    "coldata_chic <- data.frame(condition = c('1','2','1'), replicate=c('T0','T0','T24H'))\n",
    "rownames(coldata_chic) <- names(counts_chic_0and24)\n",
    "dds_chic <- DESeqDataSetFromMatrix(countData = counts_chic_0and24,\n",
    "                              colData = coldata_chic,\n",
    "                              design = ~ replicate)\n",
    "dds_chic <- DESeq(dds_chic)\n",
    "res_chic <- results(dds_chic)\n",
    "\n",
    "coldata_gene <- data.frame(condition = c('1','2','1','2'), replicate=c('T0','T0','T24H','T24H'))\n",
    "rownames(coldata_gene) <- names(counts_gene_0and24)\n",
    "\n",
    "dds_gene <- DESeqDataSetFromMatrix(countData = counts_gene_0and24,\n",
    "                              colData = coldata_gene,\n",
    "                              design = ~ replicate)\n",
    "dds_gene <- DESeq(dds_gene)\n",
    "res_gene <- results(dds_gene)\n",
    "\n",
    "\n",
    "coldata_atacseq <- data.frame(condition = c('1','2','3','1','2','3'), replicate=c('T0','T0','T0','T24H','T24H','T24H'))\n",
    "rownames(coldata_atacseq) <- names(counts_atacseq_0and24)\n",
    "dds_atacseq <- DESeqDataSetFromMatrix(countData = counts_atacseq_0and24,\n",
    "                              colData = coldata_atacseq,\n",
    "                              design = ~ replicate)\n",
    "dds_atacseq <- DESeq(dds_atacseq)\n",
    "res_atacseq <- results(dds_atacseq)"
   ]
  },
  {
   "cell_type": "code",
   "execution_count": 8,
   "metadata": {},
   "outputs": [],
   "source": [
    "chic_log2foldchange <- as.data.frame(cbind(counts_chic[,c('baitID','otherEndID')], res_chic$log2FoldChange))\n",
    "gene_log2foldchange <- as.data.frame(cbind(as.character(counts_gene[,'ENSG']), res_gene$log2FoldChange))\n",
    "atacseq_log2foldchange <- as.data.frame(cbind(counts_atacseq[,c('seqnames','start','end')], res_atacseq$log2FoldChange))\n"
   ]
  },
  {
   "cell_type": "code",
   "execution_count": 9,
   "metadata": {},
   "outputs": [],
   "source": [
    "\n",
    "names(chic_log2foldchange) <- c('baitID','otherEndID','chic_log2foldchange')\n",
    "names(gene_log2foldchange) <- c('ENSG','gene_log2foldchange')\n",
    "names(atacseq_log2foldchange) <- c('ATACchr','ATACstart','ATACend','atacseq_log2foldchange')"
   ]
  },
  {
   "cell_type": "markdown",
   "metadata": {},
   "source": [
    "### plot the results"
   ]
  },
  {
   "cell_type": "code",
   "execution_count": 10,
   "metadata": {},
   "outputs": [],
   "source": [
    "linked_ID_chic_gene <- unique(data_dynamic_atacseq[,c('baitID','otherEndID','ENSG')])\n",
    "merged_data <- unique(merge(merge(chic_log2foldchange, linked_ID_chic_gene), gene_log2foldchange))\n",
    "\n",
    "merged_data_clean <- merged_data[complete.cases(merged_data),]\n",
    "\n",
    "ID_corrover0.5 <- unique(data_corrover0.5[,c('baitID','otherEndID','ENSG')])\n",
    "\n",
    "result_merged_corrover0.5 <- merge(ID_corrover0.5, merged_data_clean)\n",
    "\n",
    "data_forplot <- rbind(merged_data_clean[,c('gene_log2foldchange','chic_log2foldchange')], \n",
    "                      result_merged_corrover0.5[,c('gene_log2foldchange','chic_log2foldchange')])\n",
    "data_forplot$label <- c(rep('All', dim(merged_data_clean)[1]), rep('Correlated', dim(result_merged_corrover0.5)[1])) \n",
    "\n",
    "#ggplot(data=data_forplot) + geom_point(data=data_forplot, aes(x=gene_log2foldchange, y=chic_log2foldchange, group=label, color=label)) +\n",
    "#stat_smooth(aes(y=chic_log2foldchange, x=gene_log2foldchange), method = lm, formula = y ~ poly(x)) +\n",
    "\n",
    "#xlab('gene log2 fold change')  + ylab('CHiC log2 fold change') + ggtitle('log2 fold change between 0 and 24hr for chic and gene (within corrover0.5)') +\n",
    "#facet_wrap(.~label)\n",
    "\n",
    "data_forplot$gene_log2foldchange_inter <- round(as.numeric(levels(data_forplot$gene_log2foldchange))[data_forplot$gene_log2foldchange])\n",
    "data_forplot$gene_log2foldchange_inter[data_forplot$gene_log2foldchange_inter<(-6)] <- -6\n",
    "data_forplot$gene_log2foldchange_inter[data_forplot$gene_log2foldchange_inter>6] <- 6\n",
    "data_forplot$factor_gene_log2foldchange <- as.factor(data_forplot$gene_log2foldchange_inter)\n",
    "data_forplot$label2 <- 'chic'\n",
    "\n",
    "linked_ID_atacseq_gene <- unique(data[,c('ATACchr','ATACstart','ATACend','ENSG')])\n",
    "merged_data_atacseq <- unique(merge(merge(atacseq_log2foldchange, linked_ID_atacseq_gene), gene_log2foldchange))\n",
    "\n",
    "merged_data_atacseq_clean <- merged_data_atacseq[complete.cases(merged_data_atacseq),]\n",
    "\n",
    "ID_atacseq_corrover0.5 <- unique(data_corrover0.5[,c('ATACchr','ATACstart','ATACend','ENSG')])\n",
    "\n",
    "result_merged_atacseq_corrover0.5 <- merge(ID_atacseq_corrover0.5, merged_data_atacseq_clean)\n",
    "\n",
    "data_forplot_atacseq <- rbind(merged_data_atacseq_clean[,c('gene_log2foldchange','atacseq_log2foldchange')], \n",
    "                      result_merged_atacseq_corrover0.5[,c('gene_log2foldchange','atacseq_log2foldchange')])\n",
    "data_forplot_atacseq$label <- c(rep('All', dim(merged_data_atacseq_clean)[1]), rep('Correlated', dim(result_merged_atacseq_corrover0.5)[1])) \n",
    "\n",
    "data_forplot_atacseq$gene_log2foldchange_inter <- round(as.numeric(levels(data_forplot_atacseq$gene_log2foldchange))[data_forplot_atacseq$gene_log2foldchange])\n",
    "data_forplot_atacseq$gene_log2foldchange_inter[data_forplot_atacseq$gene_log2foldchange_inter<(-6)] <- -6\n",
    "data_forplot_atacseq$gene_log2foldchange_inter[data_forplot_atacseq$gene_log2foldchange_inter>6] <- 6\n",
    "data_forplot_atacseq$factor_gene_log2foldchange <- as.factor(data_forplot_atacseq$gene_log2foldchange_inter)\n",
    "data_forplot_atacseq$label2 <- 'atacseq'\n",
    "\n",
    "\n",
    "\n",
    "### calculate R2\n",
    "data_forplot_all <- subset(data_forplot, data_forplot$label %in% 'All')\n",
    "data_forplot_correlated <- subset(data_forplot, data_forplot$label %in% 'Correlated')\n",
    "\n",
    "chic_all <- data_forplot_all$chic_log2foldchange\n",
    "gene_all<- as.numeric(levels(data_forplot_all$factor_gene_log2foldchange))[data_forplot_all$factor_gene_log2foldchange]\n",
    "\n",
    "chic_correlated <- data_forplot_correlated$chic_log2foldchange\n",
    "gene_correlated<- as.numeric(levels(data_forplot_correlated$factor_gene_log2foldchange))[data_forplot_correlated$factor_gene_log2foldchange]\n",
    "\n",
    "\n",
    "gene_chic_r <- lm(formula = chic_all~gene_all)\n",
    "r2_gene_chic_all <- summary(gene_chic_r)$r.squared\n",
    "gene_chic_correlated_r <- lm(formula = chic_correlated~gene_correlated)\n",
    "r2_gene_chic_correlated <- summary(gene_chic_correlated_r)$r.squared\n",
    "\n",
    "data_forplot_atacseq_all <- subset(data_forplot_atacseq, data_forplot_atacseq$label %in% 'All')\n",
    "data_forplot_atacseq_correlated <- subset(data_forplot_atacseq, data_forplot_atacseq$label %in% 'Correlated')\n",
    "gene_gene_all<- as.numeric(levels(data_forplot_atacseq_all$factor_gene_log2foldchange))[data_forplot_atacseq_all$factor_gene_log2foldchange]\n",
    "atacseq_gene_all <- data_forplot_atacseq_all$atacseq_log2foldchange\n",
    "atacseq_gene_correlated <- data_forplot_atacseq_correlated$atacseq_log2foldchange\n",
    "\n",
    "gene_gene_correlated<- as.numeric(levels(data_forplot_atacseq_correlated$factor_gene_log2foldchange))[data_forplot_atacseq_correlated$factor_gene_log2foldchange]\n",
    "\n",
    "atacseq_gene_r <- lm(formula = atacseq_gene_all~gene_gene_all)\n",
    "r2_atacseq_gene_all <- summary(atacseq_gene_r)$r.squared\n",
    "atacseq_gene_correlated_r <- lm(formula = atacseq_gene_correlated~gene_gene_correlated)\n",
    "r2_atacseq_gene_correlated <- summary(atacseq_gene_correlated_r)$r.squared\n",
    "\n",
    "\n",
    "data_text <- data.frame(r2=c(r2_gene_chic_all, r2_gene_chic_correlated), y=c(-4,-3), label=c('All','Correlated'))\n",
    "data_gene_text <- data.frame(r2=c(r2_atacseq_gene_all, r2_atacseq_gene_correlated), y=c(-2.2,-1), label=c('All','Correlated'))\n",
    "cols <- c(\"FittedLine\"=\"yellow\",\"CHiC\"=\"salmon1\")\n",
    "cols_gene <- c(\"FittedLine\"=\"blue\",\"ATAC-seq\"=\"lightblue1\")\n",
    "\n"
   ]
  },
  {
   "cell_type": "code",
   "execution_count": 11,
   "metadata": {},
   "outputs": [
    {
     "name": "stderr",
     "output_type": "stream",
     "text": [
      "Warning message:\n",
      "“Removed 1143 rows containing non-finite values (stat_boxplot).”\n"
     ]
    },
    {
     "data": {
      "image/png": "[encoded data removed]",
      "text/plain": [
       "plot without title"
      ]
     },
     "metadata": {
      "image/png": {
       "height": 420,
       "width": 420
      },
      "text/plain": {
       "height": 420,
       "width": 420
      }
     },
     "output_type": "display_data"
    }
   ],
   "source": [
    "ggplot() + theme(panel.background=element_blank(), axis.line=element_line(), axis.text=element_text(size=8),axis.title=element_text(size=8,face=\"bold\"), \n",
    "                       legend.position='NONE', plot.title=element_text(size=10, face='bold'), text=element_text(size=6, face='bold'),strip.text.x=element_text(siz=6, face='bold')) + \n",
    "geom_boxplot(data=data_forplot, aes(x=factor_gene_log2foldchange, \n",
    "                                                     y= chic_log2foldchange, fill=\"CHiC\"),\n",
    "                        outlier.shape = NA, color=\"red\", alpha=0.2)+  \n",
    "ylim(c(-2.5,4)) + xlab('Gene counts log2 fold change')  + ylab('CHi-C counts log2 fold change') +\n",
    "  scale_colour_manual(name=\"\",values=cols) + scale_fill_manual(name=\"\",values=cols) +\n",
    "scale_x_discrete(breaks=c(\"-6\",\"-4\",\"-2\",\"0\",\"2\",\"4\",\"6\"),\n",
    "        labels=c(\"<-5\",\"-4\",\"-2\",\"0\",\"2\",\"4\", \">5\")) + \n",
    "ggtitle('log2 fold change between 0 hr and 24 hrs for gene and CHi-C (Fig. 4b)') + \n",
    "facet_wrap(.~label, ncol=1)"
   ]
  },
  {
   "cell_type": "code",
   "execution_count": 12,
   "metadata": {},
   "outputs": [
    {
     "data": {
      "image/png": "[encoded data removed]",
      "text/plain": [
       "plot without title"
      ]
     },
     "metadata": {
      "image/png": {
       "height": 420,
       "width": 420
      },
      "text/plain": {
       "height": 420,
       "width": 420
      }
     },
     "output_type": "display_data"
    }
   ],
   "source": [
    "ggplot() + theme(panel.background=element_blank(), axis.line=element_line(), axis.text=element_text(size=8),axis.title=element_text(size=8,face=\"bold\"), \n",
    "                       legend.position='NONE', plot.title=element_text(size=10, face='bold'), text=element_text(size=6, face='bold'),strip.text.x=element_text(siz=6, face='bold')) + \n",
    "geom_boxplot(data=data_forplot_atacseq, aes(x=factor_gene_log2foldchange, y=atacseq_log2foldchange, fill=\"ATAC-seq\"),\n",
    "                        outlier.shape = NA, color=\"blue\", alpha=0.2 )+  \n",
    "xlab('Gene counts log2 fold change')  + ylab('ATAC-seq counts log2 fold change') +\n",
    "  scale_colour_manual(name=\"\",values=cols_gene) + scale_fill_manual(name=\"\",values=cols_gene) +\n",
    "scale_x_discrete(breaks=c(\"-6\",\"-4\",\"-2\",\"0\",\"2\",\"4\",\"6\"),\n",
    "        labels=c(\"<-5\",\"-4\",\"-2\",\"0\",\"2\",\"4\", \">5\")) + \n",
    "ggtitle('log2 fold change between 0 hr and 24 hr for gene and ATAC-seq (Fig. 4c)') + \n",
    "facet_wrap(.~label, ncol=1)"
   ]
  }
 ],
 "metadata": {
  "kernelspec": {
   "display_name": "R",
   "language": "R",
   "name": "ir"
  },
  "language_info": {
   "codemirror_mode": "r",
   "file_extension": ".r",
   "mimetype": "text/x-r-source",
   "name": "R",
   "pygments_lexer": "r",
   "version": "3.6.1"
  }
 },
 "nbformat": 4,
 "nbformat_minor": 2
}
