{
 "cells": [
  {
   "cell_type": "markdown",
   "metadata": {},
   "source": [
    "## Jupyter notebook for CHi-C data quality check\n",
    "\n",
    "This notebook is the code for comparing the CHi-C data used in paper **\"Burren, O.S. et al, Chromosome contacts in activated T cells identify autoimmune disease candidate genes, Genome Biology, 18 (165) (2017) \"** with the \n",
    "time course CHi-C data used in the paper **\"Analysis of chromatin organinization and gene expression in T cells identifies functional genes for rheumatoid arthritis\"** \n",
    "by *Jing Yang, Amanda McGovern, Paul Martin, Kate Duffus, Xiangyu Ge, Peyman Zarrineh, Andrew P Morris, Antony Adamson, Peter Fraser, Magnus Rattray & Stephen Eyre*.\n",
    "\n",
    "Author : *Jing Yang*  <br />\n",
    "Date: 01/05/2020 <br />\n",
    "For any questions about the code, please drop me a line at Jing.Yang@manchester.ac.uk"
   ]
  },
  {
   "cell_type": "markdown",
   "metadata": {},
   "source": [
    "### load required libraries"
   ]
  },
  {
   "cell_type": "code",
   "execution_count": 1,
   "metadata": {},
   "outputs": [],
   "source": [
    "library(ggplot2)\n",
    "library(reshape2)\n",
    "library(ggpol)\n",
    "#library(tidyverse)"
   ]
  },
  {
   "cell_type": "markdown",
   "metadata": {},
   "source": [
    "### load data"
   ]
  },
  {
   "cell_type": "code",
   "execution_count": 2,
   "metadata": {},
   "outputs": [],
   "source": [
    "data_original <- read.table(\"https://personalpages.manchester.ac.uk/staff/jing.yang/Data/CHiC/data/CHiC_rawdata_withscore.txt\", header=TRUE)"
   ]
  },
  {
   "cell_type": "markdown",
   "metadata": {},
   "source": [
    "### load bait info, to include those bait-to-bait interactions twice with either baits are being used as baits or otherEnds"
   ]
  },
  {
   "cell_type": "code",
   "execution_count": null,
   "metadata": {},
   "outputs": [],
   "source": [
    "allbaitID <- read.table('https://personalpages.manchester.ac.uk/staff/jing.yang/Data/CHiC/data/baitID.txt')\n",
    "data_original$baitornot <- lapply(seq(dim(data_original)[1]), function(i) sum(data_original$otherEndID[i]==allbaitID))"
   ]
  },
  {
   "cell_type": "code",
   "execution_count": null,
   "metadata": {},
   "outputs": [],
   "source": [
    "tmp <- data_original[data_original$baitornot=='1',c(2,1,3:21)]\n",
    "names(tmp) <- names(data_original)\n",
    "data <- unique(rbind(data_original, tmp))"
   ]
  },
  {
   "cell_type": "markdown",
   "metadata": {},
   "source": [
    "### add bait and otherEnd coordinates info"
   ]
  },
  {
   "cell_type": "code",
   "execution_count": null,
   "metadata": {},
   "outputs": [],
   "source": [
    "bait_info <- read.table('https://personalpages.manchester.ac.uk/staff/jing.yang/Data/CHiC/data/capture.rmap')\n",
    "names(bait_info) <- c('baitchr','baitstart','baitend','baitID')\n",
    "otherEnd_info <- bait_info\n",
    "names(otherEnd_info) <- c('otherEndchr','otherEndstart','otherEndend','otherEndID')"
   ]
  },
  {
   "cell_type": "code",
   "execution_count": null,
   "metadata": {},
   "outputs": [],
   "source": [
    "chic_data <- unique(merge(merge(data, bait_info), otherEnd_info))"
   ]
  },
  {
   "cell_type": "code",
   "execution_count": null,
   "metadata": {},
   "outputs": [],
   "source": [
    "dim(chic_data)"
   ]
  },
  {
   "cell_type": "code",
   "execution_count": null,
   "metadata": {},
   "outputs": [],
   "source": [
    "cat(\"There are\", dim(chic_data)[1], \"interactions with at least one time point with Chicago score over 5\")"
   ]
  },
  {
   "cell_type": "markdown",
   "metadata": {},
   "source": [
    "### retrieve merged interactions at time 0 and time 4hrs"
   ]
  },
  {
   "cell_type": "code",
   "execution_count": null,
   "metadata": {},
   "outputs": [],
   "source": [
    "idxT01_1 <- chic_data$T01_s > 5\n",
    "idxT01_2 <- chic_data$T02_s > 5\n",
    "idxT01 <- idxT01_1 | idxT01_2\n",
    "\n",
    "idxT4H_1 <- chic_data$T4H1_s > 5\n",
    "idxT4H_2 <- chic_data$T4H2_s > 5\n",
    "idxT4H <- idxT4H_1 | idxT4H_2\n",
    "\n",
    "idx_combined <- idxT01 | idxT4H"
   ]
  },
  {
   "cell_type": "code",
   "execution_count": null,
   "metadata": {},
   "outputs": [],
   "source": [
    "head(idx_combined)"
   ]
  },
  {
   "cell_type": "code",
   "execution_count": null,
   "metadata": {},
   "outputs": [],
   "source": [
    "chic_dataonly <- unique(chic_data[idx_combined,c('baitID','otherEndID','T01','T02','T201','T202','T1H1','T1H2','T4H1','T4H2','T24H1')])\n"
   ]
  },
  {
   "cell_type": "markdown",
   "metadata": {},
   "source": [
    "### convert the coordinates from GRCh38 to GRCh37"
   ]
  },
  {
   "cell_type": "code",
   "execution_count": null,
   "metadata": {},
   "outputs": [],
   "source": [
    "coordinate_convert <- read.table('https://personalpages.manchester.ac.uk/staff/jing.yang/Data/CHiC/data/corrdinate_convert_from38to37_withbaitID.txt', header=T)\n",
    "coordinate_convert_otherEnd <- read.table('https://personalpages.manchester.ac.uk/staff/jing.yang/Data/CHiC/data/corrdinate_convert_from38to37_withotherEndID.txt', header=T)"
   ]
  },
  {
   "cell_type": "code",
   "execution_count": null,
   "metadata": {},
   "outputs": [],
   "source": [
    "\n",
    "captureinfo <- coordinate_convert[,c(1,5,6,7)]\n",
    "captureinfo_otherEnd <- coordinate_convert_otherEnd[,c(1,5,6,7)]"
   ]
  },
  {
   "cell_type": "code",
   "execution_count": null,
   "metadata": {},
   "outputs": [],
   "source": [
    "chic_data37 <- unique(merge(merge(chic_dataonly,captureinfo), captureinfo_otherEnd))\n"
   ]
  },
  {
   "cell_type": "markdown",
   "metadata": {},
   "source": [
    "### add gene data associated with each bait"
   ]
  },
  {
   "cell_type": "code",
   "execution_count": null,
   "metadata": {},
   "outputs": [],
   "source": [
    "bait_gene_original <- read.table(\"https://personalpages.manchester.ac.uk/staff/jing.yang/Data/CHiC/data/baits+ENSG_final_uniq_orderedbysequence.txt\", header=FALSE)\n",
    "names(bait_gene_original)[1:5] <- c('baitID','chr','baitstart','baitend','ENSG')\n",
    "bait_gene <- bait_gene_original[c(1,5)]"
   ]
  },
  {
   "cell_type": "code",
   "execution_count": null,
   "metadata": {},
   "outputs": [],
   "source": [
    "chic_data37_withgene <- unique(merge(chic_data37, bait_gene))"
   ]
  },
  {
   "cell_type": "code",
   "execution_count": null,
   "metadata": {},
   "outputs": [],
   "source": [
    "chic_data37_withgene_sorted <- chic_data37_withgene[with(chic_data37_withgene, order(baitID,otherEndID)), ]\n",
    "\n"
   ]
  },
  {
   "cell_type": "markdown",
   "metadata": {},
   "source": [
    "### load CHi-C data from Burren at al paper"
   ]
  },
  {
   "cell_type": "code",
   "execution_count": null,
   "metadata": {},
   "outputs": [],
   "source": [
    "chic_data_fromGenomeBiology <- read.table('https://personalpages.manchester.ac.uk/staff/jing.yang/Data/CHiC/data/chic_counts_fromGenomeBiology.txt', header=T)"
   ]
  },
  {
   "cell_type": "markdown",
   "metadata": {},
   "source": [
    "### prepare data for comparison"
   ]
  },
  {
   "cell_type": "code",
   "execution_count": null,
   "metadata": {},
   "outputs": [],
   "source": [
    "chic_original_forcompare <- chic_data37_withgene_sorted[,c('baitID','baitchr_37','baitstart_37','baitend_37','otherEndID','otherEndchr_37','otherEndstart_37','otherEndend_37','ENSG')]\n",
    "\n",
    "chic_GenomeBiology_forcompare <- chic_data_fromGenomeBiology[,c('baitID','baitChr','baitStart','baitLength','oeID','oeChr','oeStart','oeLength','id')]\n",
    "chic_GenomeBiology_forcompare$baitEnd <- chic_GenomeBiology_forcompare$baitStart + chic_GenomeBiology_forcompare$baitLength -1\n",
    "chic_GenomeBiology_forcompare$oeEnd <- chic_GenomeBiology_forcompare$oeStart + chic_GenomeBiology_forcompare$oeLength -1\n"
   ]
  },
  {
   "cell_type": "code",
   "execution_count": null,
   "metadata": {},
   "outputs": [],
   "source": [
    "aa_bait <- unique(chic_original_forcompare[,c('baitchr_37','baitstart_37','baitend_37')])\n",
    "bb_bait <- unique(chic_GenomeBiology_forcompare[,c('baitChr','baitStart','baitLength')])\n",
    "aa_bait$label <- 'original'\n",
    "bb_bait$label <- 'GB'\n",
    "bb_bait$baitEnd <- (bb_bait$baitStart + bb_bait$baitLength -1)\n",
    "cc_bait <- bb_bait[,c('baitChr','baitStart','baitEnd','label')]\n",
    "names(aa_bait) <- names(cc_bait)\n",
    "combined_bait <- rbind(aa_bait, cc_bait)\n",
    "combined_bait_sorted <- combined_bait[with(combined_bait, order(baitChr, baitStart)),]\n",
    "tmp <- sapply(1:(dim(combined_bait_sorted)[1]-1), function(i) combined_bait_sorted$baitStart[i+1]-combined_bait_sorted$baitStart[i])\n",
    "bait_GB_intersect <- combined_bait_sorted[(which(tmp==1)+1),c('baitChr','baitStart')]    \n",
    "bait_original_intersect <- combined_bait_sorted[which(tmp==1),c('baitChr','baitStart')]\n",
    "names(bait_original_intersect) <- c('baitchr_37','baitstart_37')\n",
    "tmp_original <- merge(chic_original_forcompare, bait_original_intersect)\n",
    "tmp_GB <- merge(chic_GenomeBiology_forcompare, bait_GB_intersect)\n",
    "chic_original_forcompare <- tmp_original\n",
    "chic_GenomeBiology_forcompare <- tmp_GB"
   ]
  },
  {
   "cell_type": "code",
   "execution_count": null,
   "metadata": {},
   "outputs": [],
   "source": [
    "aa_oe <- unique(chic_original_forcompare[,c('otherEndchr_37','otherEndstart_37','otherEndend_37')])\n",
    "bb_oe <- unique(chic_GenomeBiology_forcompare[,c('oeChr','oeStart','oeLength')])\n",
    "aa_oe$label <- 'original'\n",
    "bb_oe$label <- 'GB'\n",
    "bb_oe$oeEnd <- (bb_oe$oeStart + bb_oe$oeLength -1)\n",
    "cc_oe <- bb_oe[,c('oeChr','oeStart','oeEnd','label')]\n",
    "names(aa_oe) <- names(cc_oe)\n",
    "combined_oe <- rbind(aa_oe, cc_oe)\n",
    "combined_oe_sorted <- combined_oe[with(combined_oe, order(oeChr, oeStart)),]\n",
    "tmp <- sapply(1:(dim(combined_oe_sorted)[1]-1), function(i) combined_oe_sorted$oeStart[i+1]-combined_oe_sorted$oeStart[i])\n",
    "oe_GB_intersect <- combined_oe_sorted[(which(tmp==1)+1),c('oeChr','oeStart')]    \n",
    "oe_original_intersect <- combined_oe_sorted[which(tmp==1),c('oeChr','oeStart')]\n",
    "names(oe_original_intersect) <- c('otherEndchr_37','otherEndstart_37')\n",
    "tmp_original <- merge(chic_original_forcompare, oe_original_intersect)\n",
    "tmp_GB <- merge(chic_GenomeBiology_forcompare, oe_GB_intersect)\n",
    "chic_original_forcompare <- tmp_original\n",
    "chic_GenomeBiology_forcompare <- tmp_GB"
   ]
  },
  {
   "cell_type": "markdown",
   "metadata": {},
   "source": [
    "### Due to mapped to different reference genome, interactions of distance with 2 bp are deemed the same"
   ]
  },
  {
   "cell_type": "code",
   "execution_count": null,
   "metadata": {},
   "outputs": [],
   "source": [
    "\n",
    "chic_original_forcompare$baitpos <- 0.5*(chic_original_forcompare$baitstart_37+chic_original_forcompare$baitend_37) \n",
    "chic_original_forcompare$otherEndpos <- 0.5*(chic_original_forcompare$otherEndstart_37+chic_original_forcompare$otherEndend_37)\n",
    "chic_GenomeBiology_forcompare$baitpos <- 0.5*(chic_GenomeBiology_forcompare$baitStart+chic_GenomeBiology_forcompare$baitStart + chic_GenomeBiology_forcompare$baitLength) \n",
    "chic_GenomeBiology_forcompare$oepos <- 0.5*(chic_GenomeBiology_forcompare$oeStart+chic_GenomeBiology_forcompare$oeStart+chic_GenomeBiology_forcompare$oeLength)\n",
    "\n",
    "chic_original_forcompare$dist <- abs(chic_original_forcompare$baitpos - chic_original_forcompare$otherEndpos)\n",
    "chic_original_forcompare$pos <- 0.5*(chic_original_forcompare$baitpos + chic_original_forcompare$otherEndpos)\n",
    "\n",
    "chic_GenomeBiology_forcompare$dist <- abs(chic_GenomeBiology_forcompare$baitpos - chic_GenomeBiology_forcompare$oepos)\n",
    "chic_GenomeBiology_forcompare$pos <- 0.5*(chic_GenomeBiology_forcompare$baitpos + chic_GenomeBiology_forcompare$oepos)\n",
    "\n",
    "idx_5M_original <- chic_original_forcompare$dist<5000000\n",
    "idx_5M_GB <- chic_GenomeBiology_forcompare$dist<5000000\n",
    "\n",
    "idx_1M_original <- chic_original_forcompare$dist<1000000\n",
    "idx_1M_GB <- chic_GenomeBiology_forcompare$dist<1000000\n",
    "\n",
    "idx_500K_original <- chic_original_forcompare$dist<500000\n",
    "idx_500K_GB <- chic_GenomeBiology_forcompare$dist<500000\n",
    "\n",
    "idx_200K_original <- chic_original_forcompare$dist<200000\n",
    "idx_200K_GB <- chic_GenomeBiology_forcompare$dist<200000\n",
    "\n",
    "M <- 2\n",
    "sum_interaction_2 <- list()\n",
    "data_original <- unique(chic_original_forcompare[,c('baitchr_37','pos','baitstart_37')])\n",
    "data_GenomeBiology <- unique(chic_GenomeBiology_forcompare[,c('baitChr','pos','baitStart')])\n",
    "names(data_original) <- c('chr','pos','start')\n",
    "data_original$label <- 'original'\n",
    "names(data_GenomeBiology) <- c('chr','pos','start')\n",
    "data_GenomeBiology$label <- 'GB'\n",
    "data_combined <- rbind(data_original, data_GenomeBiology)\n",
    "data_combined_sorted <- data_combined[with(data_combined, order(chr,pos,start)),]\n",
    "sum_interaction <- 0\n",
    "for (ii in 2:(dim(data_combined_sorted)[1]-1)){\n",
    "    if ((data_combined_sorted$label[ii] == 'original') &\n",
    "        (data_combined_sorted$label[ii] != data_combined_sorted$label[ii-1]) & \n",
    "        (abs(data_combined_sorted$pos[ii]-data_combined_sorted$pos[ii-1])<M) &\n",
    "        (abs(data_combined_sorted$start[ii]-data_combined_sorted$start[ii-1])<M)) {\n",
    "        sum_interaction <- sum_interaction +1\n",
    "    }\n",
    "    else if ((data_combined_sorted$label[ii] == 'original') &\n",
    "        (data_combined_sorted$label[ii] != data_combined_sorted$label[ii+1]) & \n",
    "        (abs(data_combined_sorted$pos[ii]-data_combined_sorted$pos[ii+1])<M) &\n",
    "        (abs(data_combined_sorted$start[ii]-data_combined_sorted$start[ii+1])<M)) {\n",
    "        sum_interaction <- sum_interaction +1\n",
    "    }\n",
    "    else {}\n",
    "    \n",
    "    \n",
    "}\n",
    "sum_interaction_2 <- c(sum_interaction_2, sum_interaction)\n",
    "cat('There are ', dim(data_original)[1], ' and ', dim(data_GenomeBiology)[1], ' interactions in original and GB data, among them the intersected are ')\n",
    "print(sum_interaction)\n",
    "\n",
    "\n",
    "data_original <- unique(chic_original_forcompare[idx_5M_original,c('baitchr_37','pos','baitstart_37')])\n",
    "data_GenomeBiology <- unique(chic_GenomeBiology_forcompare[idx_5M_GB,c('baitChr','pos','baitStart')])\n",
    "names(data_original) <- c('chr','pos','start')\n",
    "data_original$label <- 'original'\n",
    "names(data_GenomeBiology) <- c('chr','pos','start')\n",
    "data_GenomeBiology$label <- 'GB'\n",
    "data_combined <- rbind(data_original, data_GenomeBiology)\n",
    "data_combined_sorted <- data_combined[with(data_combined, order(chr,pos)),]\n",
    "sum_interaction <- 0\n",
    "for (ii in 2:(dim(data_combined_sorted)[1]-1)){\n",
    "    if ((data_combined_sorted$label[ii] == 'original') &\n",
    "        (data_combined_sorted$label[ii] != data_combined_sorted$label[ii-1]) & \n",
    "        (abs(data_combined_sorted$pos[ii]-data_combined_sorted$pos[ii-1])<M) &\n",
    "        (abs(data_combined_sorted$start[ii]-data_combined_sorted$start[ii-1])<M)) {\n",
    "        sum_interaction <- sum_interaction +1\n",
    "    }\n",
    "    else if ((data_combined_sorted$label[ii] == 'original') &\n",
    "        (data_combined_sorted$label[ii] != data_combined_sorted$label[ii+1]) & \n",
    "        (abs(data_combined_sorted$pos[ii]-data_combined_sorted$pos[ii+1])<M) &\n",
    "        (abs(data_combined_sorted$start[ii]-data_combined_sorted$start[ii+1])<M)) {\n",
    "        sum_interaction <- sum_interaction +1\n",
    "    }\n",
    "    else {}\n",
    "    \n",
    "    \n",
    "}\n",
    "sum_interaction_2 <- c(sum_interaction_2, sum_interaction)\n",
    "cat('There are ', dim(data_original)[1], ' and ', dim(data_GenomeBiology)[1], ' interactions in original and GB data (<5MB) , among them the intersected are ')\n",
    "print(sum_interaction)\n",
    "\n",
    "data_original <- unique(chic_original_forcompare[idx_1M_original,c('baitchr_37','pos','baitstart_37')])\n",
    "data_GenomeBiology <- unique(chic_GenomeBiology_forcompare[idx_1M_GB,c('baitChr','pos','baitStart')])\n",
    "names(data_original) <- c('chr','pos','start')\n",
    "data_original$label <- 'original'\n",
    "names(data_GenomeBiology) <- c('chr','pos','start')\n",
    "data_GenomeBiology$label <- 'GB'\n",
    "data_combined <- rbind(data_original, data_GenomeBiology)\n",
    "data_combined_sorted <- data_combined[with(data_combined, order(chr,pos)),]\n",
    "sum_interaction <- 0\n",
    "for (ii in 2:(dim(data_combined_sorted)[1]-1)){\n",
    "    if ((data_combined_sorted$label[ii] == 'original') &\n",
    "        (data_combined_sorted$label[ii] != data_combined_sorted$label[ii-1]) & \n",
    "        (abs(data_combined_sorted$pos[ii]-data_combined_sorted$pos[ii-1])<M) &\n",
    "        (abs(data_combined_sorted$start[ii]-data_combined_sorted$start[ii-1])<M)) {\n",
    "        sum_interaction <- sum_interaction +1\n",
    "    }\n",
    "    else if ((data_combined_sorted$label[ii] == 'original') &\n",
    "        (data_combined_sorted$label[ii] != data_combined_sorted$label[ii+1]) & \n",
    "        (abs(data_combined_sorted$pos[ii]-data_combined_sorted$pos[ii+1])<M) &\n",
    "        (abs(data_combined_sorted$start[ii]-data_combined_sorted$start[ii+1])<M)) {\n",
    "        sum_interaction <- sum_interaction +1\n",
    "    }\n",
    "    else {}\n",
    "    \n",
    "    \n",
    "}\n",
    "sum_interaction_2 <- c(sum_interaction_2, sum_interaction)\n",
    "\n",
    "cat('There are ', dim(data_original)[1], ' and ', dim(data_GenomeBiology)[1], ' interactions in original and GB data (<1MB), among them the intersected are ')\n",
    "print(sum_interaction)\n",
    "\n",
    "\n",
    "data_original <- unique(chic_original_forcompare[idx_500K_original,c('baitchr_37','pos','baitstart_37')])\n",
    "data_GenomeBiology <- unique(chic_GenomeBiology_forcompare[idx_500K_GB,c('baitChr','pos','baitStart')])\n",
    "names(data_original) <- c('chr','pos','start')\n",
    "data_original$label <- 'original'\n",
    "names(data_GenomeBiology) <- c('chr','pos','start')\n",
    "data_GenomeBiology$label <- 'GB'\n",
    "data_combined <- rbind(data_original, data_GenomeBiology)\n",
    "data_combined_sorted <- data_combined[with(data_combined, order(chr,pos)),]\n",
    "sum_interaction <- 0\n",
    "for (ii in 2:(dim(data_combined_sorted)[1]-1)){\n",
    "    if ((data_combined_sorted$label[ii] == 'original') &\n",
    "        (data_combined_sorted$label[ii] != data_combined_sorted$label[ii-1]) & \n",
    "        (abs(data_combined_sorted$pos[ii]-data_combined_sorted$pos[ii-1])<M) &\n",
    "        (abs(data_combined_sorted$start[ii]-data_combined_sorted$start[ii-1])<M)) {\n",
    "        sum_interaction <- sum_interaction +1\n",
    "    }\n",
    "    else if ((data_combined_sorted$label[ii] == 'original') &\n",
    "        (data_combined_sorted$label[ii] != data_combined_sorted$label[ii+1]) & \n",
    "        (abs(data_combined_sorted$pos[ii]-data_combined_sorted$pos[ii+1])<M) &\n",
    "        (abs(data_combined_sorted$start[ii]-data_combined_sorted$start[ii+1])<M)) {\n",
    "        sum_interaction <- sum_interaction +1\n",
    "    }\n",
    "    else {}\n",
    "    \n",
    "    \n",
    "}\n",
    "sum_interaction_2 <- c(sum_interaction_2, sum_interaction)\n",
    "\n",
    "cat('There are ', dim(data_original)[1], ' and ', dim(data_GenomeBiology)[1], ' interactions in original and GB data (<500k), among them the intersected are ')\n",
    "print(sum_interaction)\n",
    "\n",
    "\n",
    "data_original <- unique(chic_original_forcompare[idx_200K_original,c('baitchr_37','pos','baitstart_37')])\n",
    "data_GenomeBiology <- unique(chic_GenomeBiology_forcompare[idx_200K_GB,c('baitChr','pos','baitStart')])\n",
    "names(data_original) <- c('chr','pos','start')\n",
    "data_original$label <- 'original'\n",
    "names(data_GenomeBiology) <- c('chr','pos','start')\n",
    "data_GenomeBiology$label <- 'GB'\n",
    "data_combined <- rbind(data_original, data_GenomeBiology)\n",
    "data_combined_sorted <- data_combined[with(data_combined, order(chr,pos)),]\n",
    "sum_interaction <- 0\n",
    "for (ii in 2:(dim(data_combined_sorted)[1]-1)){\n",
    "    #print(ii)\n",
    "    if ((data_combined_sorted$label[ii] == 'original') &\n",
    "        (data_combined_sorted$label[ii] != data_combined_sorted$label[ii-1]) & \n",
    "        (abs(data_combined_sorted$pos[ii]-data_combined_sorted$pos[ii-1])<M) &\n",
    "        (abs(data_combined_sorted$start[ii]-data_combined_sorted$start[ii-1])<M)) {\n",
    "        sum_interaction <- sum_interaction +1\n",
    "    }\n",
    "    else if ((data_combined_sorted$label[ii] == 'original') &\n",
    "        (data_combined_sorted$label[ii] != data_combined_sorted$label[ii+1]) & \n",
    "        (abs(data_combined_sorted$pos[ii]-data_combined_sorted$pos[ii+1])<M) &\n",
    "        (abs(data_combined_sorted$start[ii]-data_combined_sorted$start[ii+1])<M)) {\n",
    "        sum_interaction <- sum_interaction +1\n",
    "    }\n",
    "    else {}\n",
    "    \n",
    "    \n",
    "}\n",
    "sum_interaction_2 <- c(sum_interaction_2, sum_interaction)\n",
    "\n",
    "cat('There are ', dim(data_original)[1], ' and ', dim(data_GenomeBiology)[1], ' interactions in original and GB data (<200k), among them the intersected are ')\n",
    "print(sum_interaction)\n"
   ]
  },
  {
   "cell_type": "markdown",
   "metadata": {},
   "source": [
    "### plot venn diagram"
   ]
  },
  {
   "cell_type": "code",
   "execution_count": null,
   "metadata": {},
   "outputs": [],
   "source": [
    "data_venn <- data.frame(intersect=c(27794,26836,22554,17986,8367), \n",
    "                        original_in_our=c(48570, 36698, 28028, 21481, 9627),\n",
    "                        original_in_1=c(43345,40882,34539,27588,13464))\n",
    "data_venn$uniq_in_our <- data_venn$original_in_our-data_venn$intersect\n",
    "data_venn$uniq_in_1 <- data_venn$original_in_1-data_venn$intersect"
   ]
  },
  {
   "cell_type": "code",
   "execution_count": null,
   "metadata": {},
   "outputs": [],
   "source": [
    "df.venn0 <- data.frame(x = c(0, data_venn$uniq_in_our[1]/(data_venn$intersect[1]+data_venn$uniq_in_our[1])),\n",
    "                      y = c(1, 1))\n",
    "df.venn2 <- data.frame(x = c(2, 1.2+data_venn$uniq_in_our[1]/(data_venn$intersect[1]+data_venn$uniq_in_our[1])),\n",
    "                      y = c(1, 1))\n",
    "df.venn1 <- data.frame(x = c(0, data_venn$uniq_in_our[1]/(data_venn$intersect[1]+data_venn$uniq_in_our[1])),\n",
    "                      y = c(2.2, 2.2))\n",
    "df.venn4 <- data.frame(x = c(2, 1.2+data_venn$uniq_in_our[1]/(data_venn$intersect[1]+data_venn$uniq_in_our[1])),\n",
    "                      y = c(2.2, 2.2))\n",
    "df.venn3 <- data.frame(x = c(0, data_venn$uniq_in_our[1]/(data_venn$intersect[1]+data_venn$uniq_in_our[1])),\n",
    "                      y = c(3.5, 3.5))\n",
    "\n",
    "\n",
    "\n",
    "df.venn <- rbind(df.venn0, df.venn1, df.venn2, df.venn3, df.venn4) \n",
    "df.venn$label1 <- rep(c('All','<5Mb','<500kb','<1Mb','<200kb'), each=2)\n",
    "df.venn$label2 <- c(rep(c('Our Data','Data from Burren et al'), 2), \n",
    "                    c('Data from Burren et al','Our Data','Our Data','Data from Burren et al',\n",
    "                      'Data from Burren et al','Our Data'))\n",
    "df.venn$label1 <- factor(df.venn$label1, levels=c('All','<5Mb','<1Mb','<500kb','<200kb'))"
   ]
  },
  {
   "cell_type": "code",
   "execution_count": null,
   "metadata": {},
   "outputs": [],
   "source": [
    "data_venn[,c('uniq_in_our','intersect','uniq_in_1')]"
   ]
  },
  {
   "cell_type": "code",
   "execution_count": null,
   "metadata": {},
   "outputs": [],
   "source": [
    "df.label <- data.frame(x=c(-0.1, 0.4, 0.95, -0.1, 0.5,0.95,  -0.1, 0.4, 0.9, 1.55, 2.0, 2.5, 1.55, 2.0, 2.5)-0.2, \n",
    "                       y=c(0.0, 0.0, 0.0, 1.2, 1.2, 1.2, 2.5, 2.5, 2.5, 0.0,0.0,0.0, 1.2, 1.2, 1.2)+1.0,\n",
    "                       Counts=c(unlist(t(data_venn[,c('uniq_in_our','intersect','uniq_in_1')]))))\n",
    "ggplot() +\n",
    "  geom_circle(data=df.venn[1:2,], aes(x = x, y = -y, r = 0.5, color = label1, fill=label2), alpha = .6, size = 1.1) +\n",
    "  geom_circle(data=df.venn[3:4,], aes(x = x, y = -y, r = 0.5, color = label1, fill=label2), alpha = .6, size = 1.1) +\n",
    "  geom_circle(data=df.venn[5:6,], aes(x = x, y = -y, r = 0.5, color = label1, fill=label2), alpha = .6, size = 1.1) +\n",
    "  geom_circle(data=df.venn[7:8,], aes(x = x, y = -y, r = 0.5, color = label1, fill=label2), alpha = .6, size = 1.1) +\n",
    "  geom_circle(data=df.venn[9:10,], aes(x = x, y = -y, r = 0.5, color = label1, fill=label2), alpha = .6, size = 1.1) +\n",
    "  \n",
    "  coord_fixed() +\n",
    "  theme_void() +\n",
    "  theme(legend.position = c(0.72,0.2), legend.text = element_text(size=14, face='bold'),\n",
    "      legend.key.size = unit(0.8, \"cm\"), legend.spacing.x = unit(0.5, 'cm'), legend.title=element_blank()) +\n",
    "  scale_color_manual(values=c('All'='orange','<5Mb'='green','<1Mb'='yellow','<500kb'='red','<200kb'='purple'))+\n",
    "  #scale_linetype_manual(labels=c('All','<5Mb','<1Mb','<500kb','<200kb'), \n",
    "  #                   values = c('All'=2,'<5Mb'=2, '<1Mb'=2,'<500kb'=2,'<200kb'=2)) +\n",
    "  scale_fill_manual(values=c('lightgrey','skyblue2')) +\n",
    "  annotate(\"text\", x = df.label$x, y = -df.label$y, label = df.label$Counts, size = 6) +\n",
    "  #scale_fill_manual(values = c('cornflowerblue', 'firebrick',  'gold')) +\n",
    "  #scale_colour_manual(values = c('cornflowerblue', 'firebrick', 'gold'), guide = FALSE) +\n",
    "  labs(fill=NULL) + guides(fill=guide_legend(nrow=2,title='')) + ggtitle('Supplementary Fig. 5a')\n",
    "  #annotate(\"text\", x = df.vdc$x, y = df.vdc$y, label = df.vdc)\n",
    "#ggsave('../../../IntegratingATAC-RNA-HiC/Individual_Figures_Files/CHiC_quality_check/CHiC_quality_check_0210.pdf')"
   ]
  },
  {
   "cell_type": "code",
   "execution_count": null,
   "metadata": {},
   "outputs": [],
   "source": []
  }
 ],
 "metadata": {
  "kernelspec": {
   "display_name": "R",
   "language": "R",
   "name": "ir"
  },
  "language_info": {
   "codemirror_mode": "r",
   "file_extension": ".r",
   "mimetype": "text/x-r-source",
   "name": "R",
   "pygments_lexer": "r",
   "version": "3.6.3"
  }
 },
 "nbformat": 4,
 "nbformat_minor": 2
}
