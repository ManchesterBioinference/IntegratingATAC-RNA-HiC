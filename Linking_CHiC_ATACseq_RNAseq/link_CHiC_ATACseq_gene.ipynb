{
 "cells": [
  {
   "cell_type": "markdown",
   "metadata": {},
   "source": [
    "## Jupyter notebook for creating links between CHi-C, ATAC-seq and RNA-seq\n",
    "\n",
    "This notebook is the code for linking CHi-C, ATAC-seq and RNA-seq time course data used in the paper **\\\"Analysis of chromatin organinization and gene expression in T cells identifies functional genes for rheumatoid arthritis\\\"** by *Jing Yang, Amanda McGovern, Paul Martin, Kate Duffus, Xiangyu Ge, Peyman Zarrineh, Andrew P Morris, Antony Adamson, Peter Fraser, Magnus Rattray & Stephen Eyre* \n",
    "\n",
    "Author : *Jing Yang*  <br />\n",
    "Date: 01-05-2020 <br />\n",
    "For any questions about the code, please drop me a line at Jing.Yang@manchester.ac.uk"
   ]
  },
  {
   "cell_type": "code",
   "execution_count": 1,
   "metadata": {},
   "outputs": [
    {
     "name": "stderr",
     "output_type": "stream",
     "text": [
      "── \u001b[1mAttaching packages\u001b[22m ─────────────────────────────────────── tidyverse 1.3.0 ──\n",
      "\n",
      "\u001b[32m✔\u001b[39m \u001b[34mtibble \u001b[39m 3.0.1     \u001b[32m✔\u001b[39m \u001b[34mdplyr  \u001b[39m 1.0.0\n",
      "\u001b[32m✔\u001b[39m \u001b[34mtidyr  \u001b[39m 1.1.0     \u001b[32m✔\u001b[39m \u001b[34mstringr\u001b[39m 1.4.0\n",
      "\u001b[32m✔\u001b[39m \u001b[34mreadr  \u001b[39m 1.3.1     \u001b[32m✔\u001b[39m \u001b[34mforcats\u001b[39m 0.5.0\n",
      "\u001b[32m✔\u001b[39m \u001b[34mpurrr  \u001b[39m 0.3.4     \n",
      "\n",
      "── \u001b[1mConflicts\u001b[22m ────────────────────────────────────────── tidyverse_conflicts() ──\n",
      "\u001b[31m✖\u001b[39m \u001b[34mdplyr\u001b[39m::\u001b[32marrange()\u001b[39m   masks \u001b[34mplyr\u001b[39m::arrange()\n",
      "\u001b[31m✖\u001b[39m \u001b[34mdplyr\u001b[39m::\u001b[32mcombine()\u001b[39m   masks \u001b[34mgridExtra\u001b[39m::combine()\n",
      "\u001b[31m✖\u001b[39m \u001b[34mpurrr\u001b[39m::\u001b[32mcompact()\u001b[39m   masks \u001b[34mplyr\u001b[39m::compact()\n",
      "\u001b[31m✖\u001b[39m \u001b[34mdplyr\u001b[39m::\u001b[32mcount()\u001b[39m     masks \u001b[34mplyr\u001b[39m::count()\n",
      "\u001b[31m✖\u001b[39m \u001b[34mdplyr\u001b[39m::\u001b[32mfailwith()\u001b[39m  masks \u001b[34mplyr\u001b[39m::failwith()\n",
      "\u001b[31m✖\u001b[39m \u001b[34mdplyr\u001b[39m::\u001b[32mfilter()\u001b[39m    masks \u001b[34mstats\u001b[39m::filter()\n",
      "\u001b[31m✖\u001b[39m \u001b[34mdplyr\u001b[39m::\u001b[32mid()\u001b[39m        masks \u001b[34mplyr\u001b[39m::id()\n",
      "\u001b[31m✖\u001b[39m \u001b[34mdplyr\u001b[39m::\u001b[32mlag()\u001b[39m       masks \u001b[34mstats\u001b[39m::lag()\n",
      "\u001b[31m✖\u001b[39m \u001b[34mdplyr\u001b[39m::\u001b[32mmutate()\u001b[39m    masks \u001b[34mplyr\u001b[39m::mutate()\n",
      "\u001b[31m✖\u001b[39m \u001b[34mdplyr\u001b[39m::\u001b[32mrename()\u001b[39m    masks \u001b[34mplyr\u001b[39m::rename()\n",
      "\u001b[31m✖\u001b[39m \u001b[34mdplyr\u001b[39m::\u001b[32msummarise()\u001b[39m masks \u001b[34mplyr\u001b[39m::summarise()\n",
      "\u001b[31m✖\u001b[39m \u001b[34mdplyr\u001b[39m::\u001b[32msummarize()\u001b[39m masks \u001b[34mplyr\u001b[39m::summarize()\n",
      "\n",
      "Loading required package: stats4\n",
      "\n",
      "Loading required package: BiocGenerics\n",
      "\n",
      "Loading required package: parallel\n",
      "\n",
      "\n",
      "Attaching package: ‘BiocGenerics’\n",
      "\n",
      "\n",
      "The following objects are masked from ‘package:parallel’:\n",
      "\n",
      "    clusterApply, clusterApplyLB, clusterCall, clusterEvalQ,\n",
      "    clusterExport, clusterMap, parApply, parCapply, parLapply,\n",
      "    parLapplyLB, parRapply, parSapply, parSapplyLB\n",
      "\n",
      "\n",
      "The following objects are masked from ‘package:dplyr’:\n",
      "\n",
      "    combine, intersect, setdiff, union\n",
      "\n",
      "\n",
      "The following object is masked from ‘package:gridExtra’:\n",
      "\n",
      "    combine\n",
      "\n",
      "\n",
      "The following objects are masked from ‘package:stats’:\n",
      "\n",
      "    IQR, mad, sd, var, xtabs\n",
      "\n",
      "\n",
      "The following objects are masked from ‘package:base’:\n",
      "\n",
      "    anyDuplicated, append, as.data.frame, basename, cbind, colnames,\n",
      "    dirname, do.call, duplicated, eval, evalq, Filter, Find, get, grep,\n",
      "    grepl, intersect, is.unsorted, lapply, Map, mapply, match, mget,\n",
      "    order, paste, pmax, pmax.int, pmin, pmin.int, Position, rank,\n",
      "    rbind, Reduce, rownames, sapply, setdiff, sort, table, tapply,\n",
      "    union, unique, unsplit, which, which.max, which.min\n",
      "\n",
      "\n",
      "Loading required package: S4Vectors\n",
      "\n",
      "\n",
      "Attaching package: ‘S4Vectors’\n",
      "\n",
      "\n",
      "The following objects are masked from ‘package:dplyr’:\n",
      "\n",
      "    first, rename\n",
      "\n",
      "\n",
      "The following object is masked from ‘package:tidyr’:\n",
      "\n",
      "    expand\n",
      "\n",
      "\n",
      "The following object is masked from ‘package:plyr’:\n",
      "\n",
      "    rename\n",
      "\n",
      "\n",
      "The following object is masked from ‘package:base’:\n",
      "\n",
      "    expand.grid\n",
      "\n",
      "\n",
      "Loading required package: IRanges\n",
      "\n",
      "\n",
      "Attaching package: ‘IRanges’\n",
      "\n",
      "\n",
      "The following objects are masked from ‘package:dplyr’:\n",
      "\n",
      "    collapse, desc, slice\n",
      "\n",
      "\n",
      "The following object is masked from ‘package:purrr’:\n",
      "\n",
      "    reduce\n",
      "\n",
      "\n",
      "The following object is masked from ‘package:plyr’:\n",
      "\n",
      "    desc\n",
      "\n",
      "\n",
      "Loading required package: GenomeInfoDb\n",
      "\n"
     ]
    }
   ],
   "source": [
    "library(ggplot2)\n",
    "library(gridExtra)\n",
    "library(plyr)\n",
    "library(RColorBrewer)\n",
    "library(reshape2)\n",
    "library(tidyverse)\n",
    "library(GenomicRanges)\n",
    "library(gtable)\n"
   ]
  },
  {
   "cell_type": "markdown",
   "metadata": {},
   "source": [
    "### capture hic data (with replicates)"
   ]
  },
  {
   "cell_type": "code",
   "execution_count": 2,
   "metadata": {},
   "outputs": [],
   "source": [
    "\n",
    "chic_data <- read.table(\"data/CHiC_data_withENSG.txt\", header=TRUE)\n"
   ]
  },
  {
   "cell_type": "code",
   "execution_count": 3,
   "metadata": {
    "scrolled": true
   },
   "outputs": [
    {
     "data": {
      "text/html": [
       "<style>\n",
       ".list-inline {list-style: none; margin:0; padding: 0}\n",
       ".list-inline>li {display: inline-block}\n",
       ".list-inline>li:not(:last-child)::after {content: \"\\00b7\"; padding: 0 .5ex}\n",
       "</style>\n",
       "<ol class=list-inline><li>253100</li><li>2</li></ol>\n"
      ],
      "text/latex": [
       "\\begin{enumerate*}\n",
       "\\item 253100\n",
       "\\item 2\n",
       "\\end{enumerate*}\n"
      ],
      "text/markdown": [
       "1. 253100\n",
       "2. 2\n",
       "\n",
       "\n"
      ],
      "text/plain": [
       "[1] 253100      2"
      ]
     },
     "metadata": {},
     "output_type": "display_data"
    }
   ],
   "source": [
    "dim(unique(chic_data[,c('baitID','otherEndID')]))"
   ]
  },
  {
   "cell_type": "code",
   "execution_count": 4,
   "metadata": {},
   "outputs": [
    {
     "data": {
      "text/html": [
       "<table>\n",
       "<caption>A data.frame: 5 × 19</caption>\n",
       "<thead>\n",
       "\t<tr><th></th><th scope=col>baitID</th><th scope=col>baitstart</th><th scope=col>baitend</th><th scope=col>ENSG</th><th scope=col>otherEndID</th><th scope=col>otherEndchr</th><th scope=col>otherEndstart</th><th scope=col>otherEndend</th><th scope=col>T01</th><th scope=col>T02</th><th scope=col>T201</th><th scope=col>T202</th><th scope=col>T1H1</th><th scope=col>T1H2</th><th scope=col>T4H1</th><th scope=col>T4H2</th><th scope=col>T24H1</th><th scope=col>baitchr</th><th scope=col>corr_rep</th></tr>\n",
       "\t<tr><th></th><th scope=col>&lt;int&gt;</th><th scope=col>&lt;int&gt;</th><th scope=col>&lt;int&gt;</th><th scope=col>&lt;fct&gt;</th><th scope=col>&lt;int&gt;</th><th scope=col>&lt;fct&gt;</th><th scope=col>&lt;int&gt;</th><th scope=col>&lt;int&gt;</th><th scope=col>&lt;dbl&gt;</th><th scope=col>&lt;dbl&gt;</th><th scope=col>&lt;dbl&gt;</th><th scope=col>&lt;dbl&gt;</th><th scope=col>&lt;dbl&gt;</th><th scope=col>&lt;dbl&gt;</th><th scope=col>&lt;dbl&gt;</th><th scope=col>&lt;dbl&gt;</th><th scope=col>&lt;dbl&gt;</th><th scope=col>&lt;fct&gt;</th><th scope=col>&lt;dbl&gt;</th></tr>\n",
       "</thead>\n",
       "<tbody>\n",
       "\t<tr><th scope=row>1</th><td>100955</td><td>122950347</td><td>122956207</td><td>ENSG00000119965</td><td> 92154</td><td>chr10</td><td> 92572726</td><td> 92594937</td><td>0.000000</td><td>2.281339</td><td>0.000000</td><td>0.000000</td><td>0</td><td>2.783558</td><td>2.065419</td><td>0.000000</td><td>0.000000</td><td>chr10</td><td>-0.57175609</td></tr>\n",
       "\t<tr><th scope=row>2</th><td>100955</td><td>122950347</td><td>122956207</td><td>ENSG00000119965</td><td> 78222</td><td>chr10</td><td> 45508633</td><td> 45514336</td><td>0.000000</td><td>0.000000</td><td>0.000000</td><td>0.000000</td><td>0</td><td>0.000000</td><td>0.000000</td><td>2.261001</td><td>0.000000</td><td>chr10</td><td>         NA</td></tr>\n",
       "\t<tr><th scope=row>3</th><td>100955</td><td>122950347</td><td>122956207</td><td>ENSG00000119965</td><td> 77679</td><td>chr10</td><td> 43644531</td><td> 43648045</td><td>0.000000</td><td>2.620208</td><td>0.000000</td><td>0.000000</td><td>0</td><td>0.000000</td><td>0.000000</td><td>0.000000</td><td>0.000000</td><td>chr10</td><td>         NA</td></tr>\n",
       "\t<tr><th scope=row>4</th><td>100955</td><td>122950347</td><td>122956207</td><td>ENSG00000119965</td><td>101495</td><td>chr10</td><td>124901900</td><td>124920455</td><td>4.112264</td><td>3.653503</td><td>3.219815</td><td>2.623433</td><td>0</td><td>3.380836</td><td>2.881882</td><td>3.102066</td><td>0.000000</td><td>chr10</td><td>-0.07292586</td></tr>\n",
       "\t<tr><th scope=row>5</th><td>100955</td><td>122950347</td><td>122956207</td><td>ENSG00000119965</td><td> 89558</td><td>chr10</td><td> 84128125</td><td> 84134471</td><td>0.000000</td><td>0.000000</td><td>0.000000</td><td>2.034669</td><td>0</td><td>0.000000</td><td>1.541680</td><td>0.000000</td><td>1.930548</td><td>chr10</td><td>-0.33333333</td></tr>\n",
       "</tbody>\n",
       "</table>\n"
      ],
      "text/latex": [
       "A data.frame: 5 × 19\n",
       "\\begin{tabular}{r|lllllllllllllllllll}\n",
       "  & baitID & baitstart & baitend & ENSG & otherEndID & otherEndchr & otherEndstart & otherEndend & T01 & T02 & T201 & T202 & T1H1 & T1H2 & T4H1 & T4H2 & T24H1 & baitchr & corr\\_rep\\\\\n",
       "  & <int> & <int> & <int> & <fct> & <int> & <fct> & <int> & <int> & <dbl> & <dbl> & <dbl> & <dbl> & <dbl> & <dbl> & <dbl> & <dbl> & <dbl> & <fct> & <dbl>\\\\\n",
       "\\hline\n",
       "\t1 & 100955 & 122950347 & 122956207 & ENSG00000119965 &  92154 & chr10 &  92572726 &  92594937 & 0.000000 & 2.281339 & 0.000000 & 0.000000 & 0 & 2.783558 & 2.065419 & 0.000000 & 0.000000 & chr10 & -0.57175609\\\\\n",
       "\t2 & 100955 & 122950347 & 122956207 & ENSG00000119965 &  78222 & chr10 &  45508633 &  45514336 & 0.000000 & 0.000000 & 0.000000 & 0.000000 & 0 & 0.000000 & 0.000000 & 2.261001 & 0.000000 & chr10 &          NA\\\\\n",
       "\t3 & 100955 & 122950347 & 122956207 & ENSG00000119965 &  77679 & chr10 &  43644531 &  43648045 & 0.000000 & 2.620208 & 0.000000 & 0.000000 & 0 & 0.000000 & 0.000000 & 0.000000 & 0.000000 & chr10 &          NA\\\\\n",
       "\t4 & 100955 & 122950347 & 122956207 & ENSG00000119965 & 101495 & chr10 & 124901900 & 124920455 & 4.112264 & 3.653503 & 3.219815 & 2.623433 & 0 & 3.380836 & 2.881882 & 3.102066 & 0.000000 & chr10 & -0.07292586\\\\\n",
       "\t5 & 100955 & 122950347 & 122956207 & ENSG00000119965 &  89558 & chr10 &  84128125 &  84134471 & 0.000000 & 0.000000 & 0.000000 & 2.034669 & 0 & 0.000000 & 1.541680 & 0.000000 & 1.930548 & chr10 & -0.33333333\\\\\n",
       "\\end{tabular}\n"
      ],
      "text/markdown": [
       "\n",
       "A data.frame: 5 × 19\n",
       "\n",
       "| <!--/--> | baitID &lt;int&gt; | baitstart &lt;int&gt; | baitend &lt;int&gt; | ENSG &lt;fct&gt; | otherEndID &lt;int&gt; | otherEndchr &lt;fct&gt; | otherEndstart &lt;int&gt; | otherEndend &lt;int&gt; | T01 &lt;dbl&gt; | T02 &lt;dbl&gt; | T201 &lt;dbl&gt; | T202 &lt;dbl&gt; | T1H1 &lt;dbl&gt; | T1H2 &lt;dbl&gt; | T4H1 &lt;dbl&gt; | T4H2 &lt;dbl&gt; | T24H1 &lt;dbl&gt; | baitchr &lt;fct&gt; | corr_rep &lt;dbl&gt; |\n",
       "|---|---|---|---|---|---|---|---|---|---|---|---|---|---|---|---|---|---|---|---|\n",
       "| 1 | 100955 | 122950347 | 122956207 | ENSG00000119965 |  92154 | chr10 |  92572726 |  92594937 | 0.000000 | 2.281339 | 0.000000 | 0.000000 | 0 | 2.783558 | 2.065419 | 0.000000 | 0.000000 | chr10 | -0.57175609 |\n",
       "| 2 | 100955 | 122950347 | 122956207 | ENSG00000119965 |  78222 | chr10 |  45508633 |  45514336 | 0.000000 | 0.000000 | 0.000000 | 0.000000 | 0 | 0.000000 | 0.000000 | 2.261001 | 0.000000 | chr10 |          NA |\n",
       "| 3 | 100955 | 122950347 | 122956207 | ENSG00000119965 |  77679 | chr10 |  43644531 |  43648045 | 0.000000 | 2.620208 | 0.000000 | 0.000000 | 0 | 0.000000 | 0.000000 | 0.000000 | 0.000000 | chr10 |          NA |\n",
       "| 4 | 100955 | 122950347 | 122956207 | ENSG00000119965 | 101495 | chr10 | 124901900 | 124920455 | 4.112264 | 3.653503 | 3.219815 | 2.623433 | 0 | 3.380836 | 2.881882 | 3.102066 | 0.000000 | chr10 | -0.07292586 |\n",
       "| 5 | 100955 | 122950347 | 122956207 | ENSG00000119965 |  89558 | chr10 |  84128125 |  84134471 | 0.000000 | 0.000000 | 0.000000 | 2.034669 | 0 | 0.000000 | 1.541680 | 0.000000 | 1.930548 | chr10 | -0.33333333 |\n",
       "\n"
      ],
      "text/plain": [
       "  baitID baitstart baitend   ENSG            otherEndID otherEndchr\n",
       "1 100955 122950347 122956207 ENSG00000119965  92154     chr10      \n",
       "2 100955 122950347 122956207 ENSG00000119965  78222     chr10      \n",
       "3 100955 122950347 122956207 ENSG00000119965  77679     chr10      \n",
       "4 100955 122950347 122956207 ENSG00000119965 101495     chr10      \n",
       "5 100955 122950347 122956207 ENSG00000119965  89558     chr10      \n",
       "  otherEndstart otherEndend T01      T02      T201     T202     T1H1 T1H2    \n",
       "1  92572726      92594937   0.000000 2.281339 0.000000 0.000000 0    2.783558\n",
       "2  45508633      45514336   0.000000 0.000000 0.000000 0.000000 0    0.000000\n",
       "3  43644531      43648045   0.000000 2.620208 0.000000 0.000000 0    0.000000\n",
       "4 124901900     124920455   4.112264 3.653503 3.219815 2.623433 0    3.380836\n",
       "5  84128125      84134471   0.000000 0.000000 0.000000 2.034669 0    0.000000\n",
       "  T4H1     T4H2     T24H1    baitchr corr_rep   \n",
       "1 2.065419 0.000000 0.000000 chr10   -0.57175609\n",
       "2 0.000000 2.261001 0.000000 chr10            NA\n",
       "3 0.000000 0.000000 0.000000 chr10            NA\n",
       "4 2.881882 3.102066 0.000000 chr10   -0.07292586\n",
       "5 1.541680 0.000000 1.930548 chr10   -0.33333333"
      ]
     },
     "metadata": {},
     "output_type": "display_data"
    }
   ],
   "source": [
    "head(chic_data,n=5)"
   ]
  },
  {
   "cell_type": "code",
   "execution_count": 5,
   "metadata": {},
   "outputs": [
    {
     "data": {
      "text/html": [
       "<style>\n",
       ".list-inline {list-style: none; margin:0; padding: 0}\n",
       ".list-inline>li {display: inline-block}\n",
       ".list-inline>li:not(:last-child)::after {content: \"\\00b7\"; padding: 0 .5ex}\n",
       "</style>\n",
       "<ol class=list-inline><li>'baitID'</li><li>'baitstart'</li><li>'baitend'</li><li>'ENSG'</li><li>'otherEndID'</li><li>'otherEndchr'</li><li>'otherEndstart'</li><li>'otherEndend'</li><li>'T01'</li><li>'T02'</li><li>'T201'</li><li>'T202'</li><li>'T1H1'</li><li>'T1H2'</li><li>'T4H1'</li><li>'T4H2'</li><li>'T24H1'</li><li>'baitchr'</li><li>'corr_rep'</li></ol>\n"
      ],
      "text/latex": [
       "\\begin{enumerate*}\n",
       "\\item 'baitID'\n",
       "\\item 'baitstart'\n",
       "\\item 'baitend'\n",
       "\\item 'ENSG'\n",
       "\\item 'otherEndID'\n",
       "\\item 'otherEndchr'\n",
       "\\item 'otherEndstart'\n",
       "\\item 'otherEndend'\n",
       "\\item 'T01'\n",
       "\\item 'T02'\n",
       "\\item 'T201'\n",
       "\\item 'T202'\n",
       "\\item 'T1H1'\n",
       "\\item 'T1H2'\n",
       "\\item 'T4H1'\n",
       "\\item 'T4H2'\n",
       "\\item 'T24H1'\n",
       "\\item 'baitchr'\n",
       "\\item 'corr\\_rep'\n",
       "\\end{enumerate*}\n"
      ],
      "text/markdown": [
       "1. 'baitID'\n",
       "2. 'baitstart'\n",
       "3. 'baitend'\n",
       "4. 'ENSG'\n",
       "5. 'otherEndID'\n",
       "6. 'otherEndchr'\n",
       "7. 'otherEndstart'\n",
       "8. 'otherEndend'\n",
       "9. 'T01'\n",
       "10. 'T02'\n",
       "11. 'T201'\n",
       "12. 'T202'\n",
       "13. 'T1H1'\n",
       "14. 'T1H2'\n",
       "15. 'T4H1'\n",
       "16. 'T4H2'\n",
       "17. 'T24H1'\n",
       "18. 'baitchr'\n",
       "19. 'corr_rep'\n",
       "\n",
       "\n"
      ],
      "text/plain": [
       " [1] \"baitID\"        \"baitstart\"     \"baitend\"       \"ENSG\"         \n",
       " [5] \"otherEndID\"    \"otherEndchr\"   \"otherEndstart\" \"otherEndend\"  \n",
       " [9] \"T01\"           \"T02\"           \"T201\"          \"T202\"         \n",
       "[13] \"T1H1\"          \"T1H2\"          \"T4H1\"          \"T4H2\"         \n",
       "[17] \"T24H1\"         \"baitchr\"       \"corr_rep\"     "
      ]
     },
     "metadata": {},
     "output_type": "display_data"
    }
   ],
   "source": [
    "names(chic_data)"
   ]
  },
  {
   "cell_type": "code",
   "execution_count": 6,
   "metadata": {
    "scrolled": true
   },
   "outputs": [
    {
     "data": {
      "text/html": [
       "<style>\n",
       ".list-inline {list-style: none; margin:0; padding: 0}\n",
       ".list-inline>li {display: inline-block}\n",
       ".list-inline>li:not(:last-child)::after {content: \"\\00b7\"; padding: 0 .5ex}\n",
       "</style>\n",
       "<ol class=list-inline><li>290380</li><li>19</li></ol>\n"
      ],
      "text/latex": [
       "\\begin{enumerate*}\n",
       "\\item 290380\n",
       "\\item 19\n",
       "\\end{enumerate*}\n"
      ],
      "text/markdown": [
       "1. 290380\n",
       "2. 19\n",
       "\n",
       "\n"
      ],
      "text/plain": [
       "[1] 290380     19"
      ]
     },
     "metadata": {},
     "output_type": "display_data"
    }
   ],
   "source": [
    "dim(chic_data)"
   ]
  },
  {
   "cell_type": "code",
   "execution_count": 7,
   "metadata": {},
   "outputs": [
    {
     "data": {
      "text/html": [
       "<style>\n",
       ".list-inline {list-style: none; margin:0; padding: 0}\n",
       ".list-inline>li {display: inline-block}\n",
       ".list-inline>li:not(:last-child)::after {content: \"\\00b7\"; padding: 0 .5ex}\n",
       "</style>\n",
       "<ol class=list-inline><li>'baitID'</li><li>'baitstart'</li><li>'baitend'</li><li>'ENSG'</li><li>'otherEndID'</li><li>'otherEndchr'</li><li>'otherEndstart'</li><li>'otherEndend'</li><li>'T01'</li><li>'T02'</li><li>'T201'</li><li>'T202'</li><li>'T1H1'</li><li>'T1H2'</li><li>'T4H1'</li><li>'T4H2'</li><li>'T24H1'</li><li>'baitchr'</li><li>'corr_rep'</li></ol>\n"
      ],
      "text/latex": [
       "\\begin{enumerate*}\n",
       "\\item 'baitID'\n",
       "\\item 'baitstart'\n",
       "\\item 'baitend'\n",
       "\\item 'ENSG'\n",
       "\\item 'otherEndID'\n",
       "\\item 'otherEndchr'\n",
       "\\item 'otherEndstart'\n",
       "\\item 'otherEndend'\n",
       "\\item 'T01'\n",
       "\\item 'T02'\n",
       "\\item 'T201'\n",
       "\\item 'T202'\n",
       "\\item 'T1H1'\n",
       "\\item 'T1H2'\n",
       "\\item 'T4H1'\n",
       "\\item 'T4H2'\n",
       "\\item 'T24H1'\n",
       "\\item 'baitchr'\n",
       "\\item 'corr\\_rep'\n",
       "\\end{enumerate*}\n"
      ],
      "text/markdown": [
       "1. 'baitID'\n",
       "2. 'baitstart'\n",
       "3. 'baitend'\n",
       "4. 'ENSG'\n",
       "5. 'otherEndID'\n",
       "6. 'otherEndchr'\n",
       "7. 'otherEndstart'\n",
       "8. 'otherEndend'\n",
       "9. 'T01'\n",
       "10. 'T02'\n",
       "11. 'T201'\n",
       "12. 'T202'\n",
       "13. 'T1H1'\n",
       "14. 'T1H2'\n",
       "15. 'T4H1'\n",
       "16. 'T4H2'\n",
       "17. 'T24H1'\n",
       "18. 'baitchr'\n",
       "19. 'corr_rep'\n",
       "\n",
       "\n"
      ],
      "text/plain": [
       " [1] \"baitID\"        \"baitstart\"     \"baitend\"       \"ENSG\"         \n",
       " [5] \"otherEndID\"    \"otherEndchr\"   \"otherEndstart\" \"otherEndend\"  \n",
       " [9] \"T01\"           \"T02\"           \"T201\"          \"T202\"         \n",
       "[13] \"T1H1\"          \"T1H2\"          \"T4H1\"          \"T4H2\"         \n",
       "[17] \"T24H1\"         \"baitchr\"       \"corr_rep\"     "
      ]
     },
     "metadata": {},
     "output_type": "display_data"
    }
   ],
   "source": [
    "names(chic_data)"
   ]
  },
  {
   "cell_type": "code",
   "execution_count": 8,
   "metadata": {},
   "outputs": [
    {
     "data": {
      "text/html": [
       "<style>\n",
       ".list-inline {list-style: none; margin:0; padding: 0}\n",
       ".list-inline>li {display: inline-block}\n",
       ".list-inline>li:not(:last-child)::after {content: \"\\00b7\"; padding: 0 .5ex}\n",
       "</style>\n",
       "<ol class=list-inline><li>253100</li><li>2</li></ol>\n"
      ],
      "text/latex": [
       "\\begin{enumerate*}\n",
       "\\item 253100\n",
       "\\item 2\n",
       "\\end{enumerate*}\n"
      ],
      "text/markdown": [
       "1. 253100\n",
       "2. 2\n",
       "\n",
       "\n"
      ],
      "text/plain": [
       "[1] 253100      2"
      ]
     },
     "metadata": {},
     "output_type": "display_data"
    }
   ],
   "source": [
    "dim(unique(chic_data[,c('baitID','otherEndID')]))"
   ]
  },
  {
   "cell_type": "code",
   "execution_count": 9,
   "metadata": {},
   "outputs": [],
   "source": [
    "chic_data$T0 <- 0.5*(chic_data$T01 + chic_data$T02)\n",
    "chic_data$T20 <- 0.5*(chic_data$T201 + chic_data$T202)\n",
    "chic_data$T1H <- 0.5*(chic_data$T1H1 + chic_data$T1H2)\n",
    "chic_data$T4H <- 0.5*(chic_data$T4H1 + chic_data$T4H2)\n",
    "chic_data$T24H <- chic_data$T24H1\n"
   ]
  },
  {
   "cell_type": "code",
   "execution_count": 10,
   "metadata": {},
   "outputs": [
    {
     "name": "stdout",
     "output_type": "stream",
     "text": [
      "There are  290380 paried CHiC-gene datasets, among which there are  253100  CHIC interactions \n",
      " 6795 baits,  120621 otherEnd and  4903 ENSGs"
     ]
    }
   ],
   "source": [
    "cat(\"There are \", dim(chic_data)[1], \"paried CHiC-gene datasets, among which there are \", dim(unique(chic_data[,c('baitID', 'otherEndID')]))[1], \" CHIC interactions \n",
    "\", length(unique(chic_data$baitID)), \"baits, \", length(unique(chic_data$otherEndID)), \"otherEnd and \",length(unique(chic_data$ENSG)), \"ENSGs\")"
   ]
  },
  {
   "cell_type": "markdown",
   "metadata": {},
   "source": [
    "### ATACSeq data (with replicates)"
   ]
  },
  {
   "cell_type": "code",
   "execution_count": 11,
   "metadata": {},
   "outputs": [],
   "source": [
    "atacseq_data <- read.table('data/ATACSeq_data.txt', header=T)"
   ]
  },
  {
   "cell_type": "code",
   "execution_count": 12,
   "metadata": {},
   "outputs": [
    {
     "data": {
      "text/html": [
       "<table>\n",
       "<caption>A data.frame: 6 × 10</caption>\n",
       "<thead>\n",
       "\t<tr><th></th><th scope=col>ATACchr</th><th scope=col>ATACstart</th><th scope=col>ATACend</th><th scope=col>ATACannotation</th><th scope=col>AT0</th><th scope=col>AT20</th><th scope=col>AT1H</th><th scope=col>AT2H</th><th scope=col>AT4H</th><th scope=col>AT24H</th></tr>\n",
       "\t<tr><th></th><th scope=col>&lt;fct&gt;</th><th scope=col>&lt;int&gt;</th><th scope=col>&lt;int&gt;</th><th scope=col>&lt;fct&gt;</th><th scope=col>&lt;dbl&gt;</th><th scope=col>&lt;dbl&gt;</th><th scope=col>&lt;dbl&gt;</th><th scope=col>&lt;dbl&gt;</th><th scope=col>&lt;dbl&gt;</th><th scope=col>&lt;dbl&gt;</th></tr>\n",
       "</thead>\n",
       "<tbody>\n",
       "\t<tr><th scope=row>1</th><td>chr10</td><td>100006331</td><td>100006563</td><td>Intron    </td><td>5.004126</td><td>4.659345</td><td>5.928870</td><td>5.524712</td><td>7.401195</td><td>6.763596</td></tr>\n",
       "\t<tr><th scope=row>2</th><td>chr10</td><td>100009362</td><td>100010421</td><td>Promoter  </td><td>8.910829</td><td>8.899573</td><td>9.033632</td><td>8.848950</td><td>9.088016</td><td>8.780725</td></tr>\n",
       "\t<tr><th scope=row>3</th><td>chr10</td><td>100118128</td><td>100118310</td><td>Intergenic</td><td>3.677326</td><td>5.423599</td><td>3.774964</td><td>5.181859</td><td>3.997616</td><td>4.538095</td></tr>\n",
       "\t<tr><th scope=row>4</th><td>chr10</td><td>100148537</td><td>100149145</td><td>Downstream</td><td>6.308615</td><td>5.997314</td><td>6.371118</td><td>7.022634</td><td>8.320145</td><td>8.144691</td></tr>\n",
       "\t<tr><th scope=row>5</th><td>chr10</td><td>100164173</td><td>100164282</td><td>Intron    </td><td>3.793428</td><td>3.296516</td><td>4.600715</td><td>4.917097</td><td>3.838937</td><td>5.077424</td></tr>\n",
       "\t<tr><th scope=row>6</th><td>chr10</td><td>100167603</td><td>100168094</td><td>Intron    </td><td>6.121348</td><td>5.530762</td><td>5.770208</td><td>6.469869</td><td>6.229512</td><td>5.807280</td></tr>\n",
       "</tbody>\n",
       "</table>\n"
      ],
      "text/latex": [
       "A data.frame: 6 × 10\n",
       "\\begin{tabular}{r|llllllllll}\n",
       "  & ATACchr & ATACstart & ATACend & ATACannotation & AT0 & AT20 & AT1H & AT2H & AT4H & AT24H\\\\\n",
       "  & <fct> & <int> & <int> & <fct> & <dbl> & <dbl> & <dbl> & <dbl> & <dbl> & <dbl>\\\\\n",
       "\\hline\n",
       "\t1 & chr10 & 100006331 & 100006563 & Intron     & 5.004126 & 4.659345 & 5.928870 & 5.524712 & 7.401195 & 6.763596\\\\\n",
       "\t2 & chr10 & 100009362 & 100010421 & Promoter   & 8.910829 & 8.899573 & 9.033632 & 8.848950 & 9.088016 & 8.780725\\\\\n",
       "\t3 & chr10 & 100118128 & 100118310 & Intergenic & 3.677326 & 5.423599 & 3.774964 & 5.181859 & 3.997616 & 4.538095\\\\\n",
       "\t4 & chr10 & 100148537 & 100149145 & Downstream & 6.308615 & 5.997314 & 6.371118 & 7.022634 & 8.320145 & 8.144691\\\\\n",
       "\t5 & chr10 & 100164173 & 100164282 & Intron     & 3.793428 & 3.296516 & 4.600715 & 4.917097 & 3.838937 & 5.077424\\\\\n",
       "\t6 & chr10 & 100167603 & 100168094 & Intron     & 6.121348 & 5.530762 & 5.770208 & 6.469869 & 6.229512 & 5.807280\\\\\n",
       "\\end{tabular}\n"
      ],
      "text/markdown": [
       "\n",
       "A data.frame: 6 × 10\n",
       "\n",
       "| <!--/--> | ATACchr &lt;fct&gt; | ATACstart &lt;int&gt; | ATACend &lt;int&gt; | ATACannotation &lt;fct&gt; | AT0 &lt;dbl&gt; | AT20 &lt;dbl&gt; | AT1H &lt;dbl&gt; | AT2H &lt;dbl&gt; | AT4H &lt;dbl&gt; | AT24H &lt;dbl&gt; |\n",
       "|---|---|---|---|---|---|---|---|---|---|---|\n",
       "| 1 | chr10 | 100006331 | 100006563 | Intron     | 5.004126 | 4.659345 | 5.928870 | 5.524712 | 7.401195 | 6.763596 |\n",
       "| 2 | chr10 | 100009362 | 100010421 | Promoter   | 8.910829 | 8.899573 | 9.033632 | 8.848950 | 9.088016 | 8.780725 |\n",
       "| 3 | chr10 | 100118128 | 100118310 | Intergenic | 3.677326 | 5.423599 | 3.774964 | 5.181859 | 3.997616 | 4.538095 |\n",
       "| 4 | chr10 | 100148537 | 100149145 | Downstream | 6.308615 | 5.997314 | 6.371118 | 7.022634 | 8.320145 | 8.144691 |\n",
       "| 5 | chr10 | 100164173 | 100164282 | Intron     | 3.793428 | 3.296516 | 4.600715 | 4.917097 | 3.838937 | 5.077424 |\n",
       "| 6 | chr10 | 100167603 | 100168094 | Intron     | 6.121348 | 5.530762 | 5.770208 | 6.469869 | 6.229512 | 5.807280 |\n",
       "\n"
      ],
      "text/plain": [
       "  ATACchr ATACstart ATACend   ATACannotation AT0      AT20     AT1H    \n",
       "1 chr10   100006331 100006563 Intron         5.004126 4.659345 5.928870\n",
       "2 chr10   100009362 100010421 Promoter       8.910829 8.899573 9.033632\n",
       "3 chr10   100118128 100118310 Intergenic     3.677326 5.423599 3.774964\n",
       "4 chr10   100148537 100149145 Downstream     6.308615 5.997314 6.371118\n",
       "5 chr10   100164173 100164282 Intron         3.793428 3.296516 4.600715\n",
       "6 chr10   100167603 100168094 Intron         6.121348 5.530762 5.770208\n",
       "  AT2H     AT4H     AT24H   \n",
       "1 5.524712 7.401195 6.763596\n",
       "2 8.848950 9.088016 8.780725\n",
       "3 5.181859 3.997616 4.538095\n",
       "4 7.022634 8.320145 8.144691\n",
       "5 4.917097 3.838937 5.077424\n",
       "6 6.469869 6.229512 5.807280"
      ]
     },
     "metadata": {},
     "output_type": "display_data"
    }
   ],
   "source": [
    "head(atacseq_data)"
   ]
  },
  {
   "cell_type": "code",
   "execution_count": 13,
   "metadata": {
    "scrolled": true
   },
   "outputs": [
    {
     "data": {
      "text/html": [
       "<style>\n",
       ".list-inline {list-style: none; margin:0; padding: 0}\n",
       ".list-inline>li {display: inline-block}\n",
       ".list-inline>li:not(:last-child)::after {content: \"\\00b7\"; padding: 0 .5ex}\n",
       "</style>\n",
       "<ol class=list-inline><li>'ATACchr'</li><li>'ATACstart'</li><li>'ATACend'</li><li>'ATACannotation'</li><li>'AT0'</li><li>'AT20'</li><li>'AT1H'</li><li>'AT2H'</li><li>'AT4H'</li><li>'AT24H'</li></ol>\n"
      ],
      "text/latex": [
       "\\begin{enumerate*}\n",
       "\\item 'ATACchr'\n",
       "\\item 'ATACstart'\n",
       "\\item 'ATACend'\n",
       "\\item 'ATACannotation'\n",
       "\\item 'AT0'\n",
       "\\item 'AT20'\n",
       "\\item 'AT1H'\n",
       "\\item 'AT2H'\n",
       "\\item 'AT4H'\n",
       "\\item 'AT24H'\n",
       "\\end{enumerate*}\n"
      ],
      "text/markdown": [
       "1. 'ATACchr'\n",
       "2. 'ATACstart'\n",
       "3. 'ATACend'\n",
       "4. 'ATACannotation'\n",
       "5. 'AT0'\n",
       "6. 'AT20'\n",
       "7. 'AT1H'\n",
       "8. 'AT2H'\n",
       "9. 'AT4H'\n",
       "10. 'AT24H'\n",
       "\n",
       "\n"
      ],
      "text/plain": [
       " [1] \"ATACchr\"        \"ATACstart\"      \"ATACend\"        \"ATACannotation\"\n",
       " [5] \"AT0\"            \"AT20\"           \"AT1H\"           \"AT2H\"          \n",
       " [9] \"AT4H\"           \"AT24H\"         "
      ]
     },
     "metadata": {},
     "output_type": "display_data"
    }
   ],
   "source": [
    "names(atacseq_data)"
   ]
  },
  {
   "cell_type": "code",
   "execution_count": 14,
   "metadata": {},
   "outputs": [
    {
     "data": {
      "text/html": [
       "<style>\n",
       ".list-inline {list-style: none; margin:0; padding: 0}\n",
       ".list-inline>li {display: inline-block}\n",
       ".list-inline>li:not(:last-child)::after {content: \"\\00b7\"; padding: 0 .5ex}\n",
       "</style>\n",
       "<ol class=list-inline><li>74583</li><li>10</li></ol>\n"
      ],
      "text/latex": [
       "\\begin{enumerate*}\n",
       "\\item 74583\n",
       "\\item 10\n",
       "\\end{enumerate*}\n"
      ],
      "text/markdown": [
       "1. 74583\n",
       "2. 10\n",
       "\n",
       "\n"
      ],
      "text/plain": [
       "[1] 74583    10"
      ]
     },
     "metadata": {},
     "output_type": "display_data"
    }
   ],
   "source": [
    "dim(atacseq_data)"
   ]
  },
  {
   "cell_type": "code",
   "execution_count": 15,
   "metadata": {},
   "outputs": [],
   "source": [
    "atacseq_data_nopromoter <- atacseq_data[atacseq_data$Aannotation!='Promoter',]"
   ]
  },
  {
   "cell_type": "code",
   "execution_count": 16,
   "metadata": {},
   "outputs": [
    {
     "name": "stdout",
     "output_type": "stream",
     "text": [
      "There are 74583 peaks in Atacseq data  (minoverlap=1), among which 0 peaks are not within promoter region\n"
     ]
    }
   ],
   "source": [
    "cat(\"There are\", dim(atacseq_data)[1], \"peaks in Atacseq data  (minoverlap=1), among which\", dim(atacseq_data_nopromoter)[1], \"peaks are not within promoter region\\n\")"
   ]
  },
  {
   "cell_type": "code",
   "execution_count": 17,
   "metadata": {},
   "outputs": [
    {
     "data": {
      "text/html": [
       "<table>\n",
       "<caption>A data.frame: 6 × 5</caption>\n",
       "<thead>\n",
       "\t<tr><th></th><th scope=col>ID</th><th scope=col>chr</th><th scope=col>start</th><th scope=col>end</th><th scope=col>label</th></tr>\n",
       "\t<tr><th></th><th scope=col>&lt;int&gt;</th><th scope=col>&lt;fct&gt;</th><th scope=col>&lt;int&gt;</th><th scope=col>&lt;int&gt;</th><th scope=col>&lt;fct&gt;</th></tr>\n",
       "</thead>\n",
       "<tbody>\n",
       "\t<tr><th scope=row>1</th><td> 92154</td><td>chr10</td><td> 92572726</td><td> 92594937</td><td>otherEnd</td></tr>\n",
       "\t<tr><th scope=row>2</th><td> 78222</td><td>chr10</td><td> 45508633</td><td> 45514336</td><td>otherEnd</td></tr>\n",
       "\t<tr><th scope=row>3</th><td> 77679</td><td>chr10</td><td> 43644531</td><td> 43648045</td><td>otherEnd</td></tr>\n",
       "\t<tr><th scope=row>4</th><td>101495</td><td>chr10</td><td>124901900</td><td>124920455</td><td>otherEnd</td></tr>\n",
       "\t<tr><th scope=row>5</th><td> 89558</td><td>chr10</td><td> 84128125</td><td> 84134471</td><td>otherEnd</td></tr>\n",
       "\t<tr><th scope=row>6</th><td>101383</td><td>chr10</td><td>124409095</td><td>124414046</td><td>otherEnd</td></tr>\n",
       "</tbody>\n",
       "</table>\n"
      ],
      "text/latex": [
       "A data.frame: 6 × 5\n",
       "\\begin{tabular}{r|lllll}\n",
       "  & ID & chr & start & end & label\\\\\n",
       "  & <int> & <fct> & <int> & <int> & <fct>\\\\\n",
       "\\hline\n",
       "\t1 &  92154 & chr10 &  92572726 &  92594937 & otherEnd\\\\\n",
       "\t2 &  78222 & chr10 &  45508633 &  45514336 & otherEnd\\\\\n",
       "\t3 &  77679 & chr10 &  43644531 &  43648045 & otherEnd\\\\\n",
       "\t4 & 101495 & chr10 & 124901900 & 124920455 & otherEnd\\\\\n",
       "\t5 &  89558 & chr10 &  84128125 &  84134471 & otherEnd\\\\\n",
       "\t6 & 101383 & chr10 & 124409095 & 124414046 & otherEnd\\\\\n",
       "\\end{tabular}\n"
      ],
      "text/markdown": [
       "\n",
       "A data.frame: 6 × 5\n",
       "\n",
       "| <!--/--> | ID &lt;int&gt; | chr &lt;fct&gt; | start &lt;int&gt; | end &lt;int&gt; | label &lt;fct&gt; |\n",
       "|---|---|---|---|---|---|\n",
       "| 1 |  92154 | chr10 |  92572726 |  92594937 | otherEnd |\n",
       "| 2 |  78222 | chr10 |  45508633 |  45514336 | otherEnd |\n",
       "| 3 |  77679 | chr10 |  43644531 |  43648045 | otherEnd |\n",
       "| 4 | 101495 | chr10 | 124901900 | 124920455 | otherEnd |\n",
       "| 5 |  89558 | chr10 |  84128125 |  84134471 | otherEnd |\n",
       "| 6 | 101383 | chr10 | 124409095 | 124414046 | otherEnd |\n",
       "\n"
      ],
      "text/plain": [
       "  ID     chr   start     end       label   \n",
       "1  92154 chr10  92572726  92594937 otherEnd\n",
       "2  78222 chr10  45508633  45514336 otherEnd\n",
       "3  77679 chr10  43644531  43648045 otherEnd\n",
       "4 101495 chr10 124901900 124920455 otherEnd\n",
       "5  89558 chr10  84128125  84134471 otherEnd\n",
       "6 101383 chr10 124409095 124414046 otherEnd"
      ]
     },
     "metadata": {},
     "output_type": "display_data"
    }
   ],
   "source": [
    "otherEnd_forcompare_data <- unique(chic_data[,c('otherEndID','otherEndchr','otherEndstart','otherEndend')])\n",
    "otherEnd_forcompare_withlabel <- cbind(otherEnd_forcompare_data,rep('otherEnd',dim(otherEnd_forcompare_data)[1]))\n",
    "names(otherEnd_forcompare_withlabel)<- c('ID','chr','start','end','label')\n",
    "head(otherEnd_forcompare_withlabel)"
   ]
  },
  {
   "cell_type": "code",
   "execution_count": 18,
   "metadata": {},
   "outputs": [
    {
     "data": {
      "text/html": [
       "<style>\n",
       ".list-inline {list-style: none; margin:0; padding: 0}\n",
       ".list-inline>li {display: inline-block}\n",
       ".list-inline>li:not(:last-child)::after {content: \"\\00b7\"; padding: 0 .5ex}\n",
       "</style>\n",
       "<ol class=list-inline><li>120621</li><li>4</li></ol>\n"
      ],
      "text/latex": [
       "\\begin{enumerate*}\n",
       "\\item 120621\n",
       "\\item 4\n",
       "\\end{enumerate*}\n"
      ],
      "text/markdown": [
       "1. 120621\n",
       "2. 4\n",
       "\n",
       "\n"
      ],
      "text/plain": [
       "[1] 120621      4"
      ]
     },
     "metadata": {},
     "output_type": "display_data"
    }
   ],
   "source": [
    "dim(otherEnd_forcompare_data)"
   ]
  },
  {
   "cell_type": "markdown",
   "metadata": {},
   "source": [
    "### link ATACSeq to otherEnd data "
   ]
  },
  {
   "cell_type": "code",
   "execution_count": 19,
   "metadata": {},
   "outputs": [
    {
     "data": {
      "text/html": [
       "<table>\n",
       "<caption>A data.frame: 6 × 5</caption>\n",
       "<thead>\n",
       "\t<tr><th></th><th scope=col>ID</th><th scope=col>chr</th><th scope=col>start</th><th scope=col>end</th><th scope=col>label</th></tr>\n",
       "\t<tr><th></th><th scope=col>&lt;int&gt;</th><th scope=col>&lt;fct&gt;</th><th scope=col>&lt;int&gt;</th><th scope=col>&lt;int&gt;</th><th scope=col>&lt;fct&gt;</th></tr>\n",
       "</thead>\n",
       "<tbody>\n",
       "\t<tr><th scope=row>1</th><td>1</td><td>chr10</td><td>100006331</td><td>100006563</td><td>atacseq</td></tr>\n",
       "\t<tr><th scope=row>2</th><td>2</td><td>chr10</td><td>100009362</td><td>100010421</td><td>atacseq</td></tr>\n",
       "\t<tr><th scope=row>3</th><td>3</td><td>chr10</td><td>100118128</td><td>100118310</td><td>atacseq</td></tr>\n",
       "\t<tr><th scope=row>4</th><td>4</td><td>chr10</td><td>100148537</td><td>100149145</td><td>atacseq</td></tr>\n",
       "\t<tr><th scope=row>5</th><td>5</td><td>chr10</td><td>100164173</td><td>100164282</td><td>atacseq</td></tr>\n",
       "\t<tr><th scope=row>6</th><td>6</td><td>chr10</td><td>100167603</td><td>100168094</td><td>atacseq</td></tr>\n",
       "</tbody>\n",
       "</table>\n"
      ],
      "text/latex": [
       "A data.frame: 6 × 5\n",
       "\\begin{tabular}{r|lllll}\n",
       "  & ID & chr & start & end & label\\\\\n",
       "  & <int> & <fct> & <int> & <int> & <fct>\\\\\n",
       "\\hline\n",
       "\t1 & 1 & chr10 & 100006331 & 100006563 & atacseq\\\\\n",
       "\t2 & 2 & chr10 & 100009362 & 100010421 & atacseq\\\\\n",
       "\t3 & 3 & chr10 & 100118128 & 100118310 & atacseq\\\\\n",
       "\t4 & 4 & chr10 & 100148537 & 100149145 & atacseq\\\\\n",
       "\t5 & 5 & chr10 & 100164173 & 100164282 & atacseq\\\\\n",
       "\t6 & 6 & chr10 & 100167603 & 100168094 & atacseq\\\\\n",
       "\\end{tabular}\n"
      ],
      "text/markdown": [
       "\n",
       "A data.frame: 6 × 5\n",
       "\n",
       "| <!--/--> | ID &lt;int&gt; | chr &lt;fct&gt; | start &lt;int&gt; | end &lt;int&gt; | label &lt;fct&gt; |\n",
       "|---|---|---|---|---|---|\n",
       "| 1 | 1 | chr10 | 100006331 | 100006563 | atacseq |\n",
       "| 2 | 2 | chr10 | 100009362 | 100010421 | atacseq |\n",
       "| 3 | 3 | chr10 | 100118128 | 100118310 | atacseq |\n",
       "| 4 | 4 | chr10 | 100148537 | 100149145 | atacseq |\n",
       "| 5 | 5 | chr10 | 100164173 | 100164282 | atacseq |\n",
       "| 6 | 6 | chr10 | 100167603 | 100168094 | atacseq |\n",
       "\n"
      ],
      "text/plain": [
       "  ID chr   start     end       label  \n",
       "1 1  chr10 100006331 100006563 atacseq\n",
       "2 2  chr10 100009362 100010421 atacseq\n",
       "3 3  chr10 100118128 100118310 atacseq\n",
       "4 4  chr10 100148537 100149145 atacseq\n",
       "5 5  chr10 100164173 100164282 atacseq\n",
       "6 6  chr10 100167603 100168094 atacseq"
      ]
     },
     "metadata": {},
     "output_type": "display_data"
    }
   ],
   "source": [
    "atacseq_forcompare_withlabel <- unique(cbind(1:dim(atacseq_data)[1],atacseq_data[,c(\n",
    "    'ATACchr','ATACstart','ATACend')],rep('atacseq',dim(atacseq_data)[1])))\n",
    "names(atacseq_forcompare_withlabel)<- c('ID','chr','start','end','label')\n",
    "head(atacseq_forcompare_withlabel)"
   ]
  },
  {
   "cell_type": "code",
   "execution_count": 20,
   "metadata": {},
   "outputs": [],
   "source": [
    "combined_atacseq_otherEnd <- rbind(atacseq_forcompare_withlabel,otherEnd_forcompare_withlabel)"
   ]
  },
  {
   "cell_type": "code",
   "execution_count": 21,
   "metadata": {},
   "outputs": [],
   "source": [
    "atacseq_otherEnd_order <- combined_atacseq_otherEnd[with(combined_atacseq_otherEnd, order(combined_atacseq_otherEnd[,'chr'], combined_atacseq_otherEnd[,'start'])),]"
   ]
  },
  {
   "cell_type": "code",
   "execution_count": 22,
   "metadata": {},
   "outputs": [
    {
     "name": "stdout",
     "output_type": "stream",
     "text": [
      "[1] 195204\n"
     ]
    }
   ],
   "source": [
    "len_combined <- dim(atacseq_otherEnd_order)[1]\n",
    "print(len_combined)"
   ]
  },
  {
   "cell_type": "code",
   "execution_count": 23,
   "metadata": {},
   "outputs": [],
   "source": [
    "idx_otherEnd2atacseq <- vector(mode=\"list\", length=dim(otherEnd_forcompare_data)[1])\n",
    "idx_otherEnd <- which(atacseq_otherEnd_order$label=='otherEnd')\n",
    "names(idx_otherEnd2atacseq)<-idx_otherEnd"
   ]
  },
  {
   "cell_type": "code",
   "execution_count": 24,
   "metadata": {},
   "outputs": [],
   "source": [
    "idx_otherEnd_picked <- list()\n",
    "idx_atacseq_picked <- list()"
   ]
  },
  {
   "cell_type": "code",
   "execution_count": 25,
   "metadata": {},
   "outputs": [],
   "source": [
    "region <- 0 ## 0kb up or down the selected otherEnd data, so that ATACSeq peaks inside the fragment\n",
    "range <- 200 ## index search range, [-100,100]\n",
    "jj <- 1\n",
    "for (ii in idx_otherEnd){\n",
    "    \n",
    "    min_idx <- max(1,ii-range)\n",
    "    max_idx <- min(ii+range,len_combined)\n",
    "    idx_range <- which(atacseq_otherEnd_order$chr[min_idx:max_idx]==atacseq_otherEnd_order$chr[ii]) + min_idx -1 \n",
    "    min_start <- atacseq_otherEnd_order$start[ii]-region\n",
    "    max_end <- atacseq_otherEnd_order$end[ii]+region\n",
    "    #print(idx_range)\n",
    "    #print(atacseq_otherEnd_order$start[idx_range])\n",
    "    #print(min_start)\n",
    "    start_idx <- which(atacseq_otherEnd_order$start[idx_range] >= min_start)\n",
    "    end_idx <- tail(which(atacseq_otherEnd_order$end[idx_range] <= max_end),n=1)\n",
    "    #print(start_idx)\n",
    "    #print(end_idx)\n",
    "    \n",
    "    if (length(start_idx) & length(end_idx)){\n",
    "        idx1 <- start_idx[1] + idx_range[1]-1\n",
    "        idx2 <- tail(end_idx,n=1) + idx_range[1]-1\n",
    "    idx_atacseq <- which(atacseq_otherEnd_order$label[idx1:idx2]=='atacseq') + idx1[1] -1 \n",
    "    #print(ii)\n",
    "    #print(idx_atacseq)\n",
    "    if (length(idx_atacseq)>0){\n",
    "        idx_otherEnd_picked <- c(idx_otherEnd_picked, rep(ii,length(idx_atacseq)))\n",
    "        idx_atacseq_picked <- c(idx_atacseq_picked, idx_atacseq)\n",
    "        idx_otherEnd2atacseq[[as.character(ii)]] <- as.list(idx_atacseq)}\n",
    "    }\n",
    "} "
   ]
  },
  {
   "cell_type": "code",
   "execution_count": 26,
   "metadata": {},
   "outputs": [],
   "source": [
    "idx_otherEnd2atacseq_effec <- idx_otherEnd2atacseq[-which(sapply(idx_otherEnd2atacseq,is.null))]"
   ]
  },
  {
   "cell_type": "code",
   "execution_count": 27,
   "metadata": {},
   "outputs": [
    {
     "name": "stdout",
     "output_type": "stream",
     "text": [
      "There are 19361 otherEnd interactions with atacseq peak in +/- 0"
     ]
    }
   ],
   "source": [
    "cat(\"There are\", length(idx_otherEnd2atacseq_effec), \"otherEnd interactions with atacseq peak in +/-\", region)"
   ]
  },
  {
   "cell_type": "code",
   "execution_count": 28,
   "metadata": {},
   "outputs": [],
   "source": [
    "tmp_otherEnd <-  atacseq_otherEnd_order[unlist(idx_otherEnd_picked, use.names=FALSE),1:4]\n",
    "tmp_atacseq <- atacseq_otherEnd_order[unlist(idx_atacseq_picked, use.names=FALSE),1:4]\n",
    "names(tmp_otherEnd) <- c('otherEndID','otherEndchr','otherEndstart','otherEndend')\n",
    "names(tmp_atacseq) <- c('ID','ATACchr','ATACstart','ATACend')\n",
    "tmp_otherEnd_atacseq_picked <- cbind(tmp_otherEnd,tmp_atacseq)"
   ]
  },
  {
   "cell_type": "code",
   "execution_count": 29,
   "metadata": {},
   "outputs": [
    {
     "data": {
      "text/html": [
       "<table>\n",
       "<caption>A data.frame: 6 × 8</caption>\n",
       "<thead>\n",
       "\t<tr><th></th><th scope=col>otherEndID</th><th scope=col>otherEndchr</th><th scope=col>otherEndstart</th><th scope=col>otherEndend</th><th scope=col>ID</th><th scope=col>ATACchr</th><th scope=col>ATACstart</th><th scope=col>ATACend</th></tr>\n",
       "\t<tr><th></th><th scope=col>&lt;int&gt;</th><th scope=col>&lt;fct&gt;</th><th scope=col>&lt;int&gt;</th><th scope=col>&lt;int&gt;</th><th scope=col>&lt;int&gt;</th><th scope=col>&lt;fct&gt;</th><th scope=col>&lt;int&gt;</th><th scope=col>&lt;int&gt;</th></tr>\n",
       "</thead>\n",
       "<tbody>\n",
       "\t<tr><th scope=row>237538</th><td>212</td><td>chr1</td><td> 811328</td><td> 817481</td><td>30072</td><td>chr1</td><td> 817253</td><td> 817413</td></tr>\n",
       "\t<tr><th scope=row>724941</th><td>242</td><td>chr1</td><td> 968260</td><td> 992014</td><td>34539</td><td>chr1</td><td> 975988</td><td> 976499</td></tr>\n",
       "\t<tr><th scope=row>724941.1</th><td>242</td><td>chr1</td><td> 968260</td><td> 992014</td><td>34614</td><td>chr1</td><td> 984284</td><td> 984405</td></tr>\n",
       "\t<tr><th scope=row>724751</th><td>243</td><td>chr1</td><td> 992014</td><td>1001574</td><td>34732</td><td>chr1</td><td> 999291</td><td> 999403</td></tr>\n",
       "\t<tr><th scope=row>724751.1</th><td>243</td><td>chr1</td><td> 992014</td><td>1001574</td><td>34739</td><td>chr1</td><td> 999952</td><td>1000663</td></tr>\n",
       "\t<tr><th scope=row>724911</th><td>246</td><td>chr1</td><td>1008296</td><td>1021819</td><td> 3724</td><td>chr1</td><td>1012932</td><td>1014523</td></tr>\n",
       "</tbody>\n",
       "</table>\n"
      ],
      "text/latex": [
       "A data.frame: 6 × 8\n",
       "\\begin{tabular}{r|llllllll}\n",
       "  & otherEndID & otherEndchr & otherEndstart & otherEndend & ID & ATACchr & ATACstart & ATACend\\\\\n",
       "  & <int> & <fct> & <int> & <int> & <int> & <fct> & <int> & <int>\\\\\n",
       "\\hline\n",
       "\t237538 & 212 & chr1 &  811328 &  817481 & 30072 & chr1 &  817253 &  817413\\\\\n",
       "\t724941 & 242 & chr1 &  968260 &  992014 & 34539 & chr1 &  975988 &  976499\\\\\n",
       "\t724941.1 & 242 & chr1 &  968260 &  992014 & 34614 & chr1 &  984284 &  984405\\\\\n",
       "\t724751 & 243 & chr1 &  992014 & 1001574 & 34732 & chr1 &  999291 &  999403\\\\\n",
       "\t724751.1 & 243 & chr1 &  992014 & 1001574 & 34739 & chr1 &  999952 & 1000663\\\\\n",
       "\t724911 & 246 & chr1 & 1008296 & 1021819 &  3724 & chr1 & 1012932 & 1014523\\\\\n",
       "\\end{tabular}\n"
      ],
      "text/markdown": [
       "\n",
       "A data.frame: 6 × 8\n",
       "\n",
       "| <!--/--> | otherEndID &lt;int&gt; | otherEndchr &lt;fct&gt; | otherEndstart &lt;int&gt; | otherEndend &lt;int&gt; | ID &lt;int&gt; | ATACchr &lt;fct&gt; | ATACstart &lt;int&gt; | ATACend &lt;int&gt; |\n",
       "|---|---|---|---|---|---|---|---|---|\n",
       "| 237538 | 212 | chr1 |  811328 |  817481 | 30072 | chr1 |  817253 |  817413 |\n",
       "| 724941 | 242 | chr1 |  968260 |  992014 | 34539 | chr1 |  975988 |  976499 |\n",
       "| 724941.1 | 242 | chr1 |  968260 |  992014 | 34614 | chr1 |  984284 |  984405 |\n",
       "| 724751 | 243 | chr1 |  992014 | 1001574 | 34732 | chr1 |  999291 |  999403 |\n",
       "| 724751.1 | 243 | chr1 |  992014 | 1001574 | 34739 | chr1 |  999952 | 1000663 |\n",
       "| 724911 | 246 | chr1 | 1008296 | 1021819 |  3724 | chr1 | 1012932 | 1014523 |\n",
       "\n"
      ],
      "text/plain": [
       "         otherEndID otherEndchr otherEndstart otherEndend ID    ATACchr\n",
       "237538   212        chr1         811328        817481     30072 chr1   \n",
       "724941   242        chr1         968260        992014     34539 chr1   \n",
       "724941.1 242        chr1         968260        992014     34614 chr1   \n",
       "724751   243        chr1         992014       1001574     34732 chr1   \n",
       "724751.1 243        chr1         992014       1001574     34739 chr1   \n",
       "724911   246        chr1        1008296       1021819      3724 chr1   \n",
       "         ATACstart ATACend\n",
       "237538    817253    817413\n",
       "724941    975988    976499\n",
       "724941.1  984284    984405\n",
       "724751    999291    999403\n",
       "724751.1  999952   1000663\n",
       "724911   1012932   1014523"
      ]
     },
     "metadata": {},
     "output_type": "display_data"
    }
   ],
   "source": [
    "head(tmp_otherEnd_atacseq_picked)"
   ]
  },
  {
   "cell_type": "code",
   "execution_count": 30,
   "metadata": {},
   "outputs": [],
   "source": [
    "chic_atacseq_merged_picked <- unique(merge(merge(tmp_otherEnd_atacseq_picked,chic_data),merge(tmp_otherEnd_atacseq_picked,atacseq_data)))\n"
   ]
  },
  {
   "cell_type": "code",
   "execution_count": 31,
   "metadata": {},
   "outputs": [
    {
     "data": {
      "text/html": [
       "<table>\n",
       "<caption>A data.frame: 6 × 35</caption>\n",
       "<thead>\n",
       "\t<tr><th></th><th scope=col>otherEndID</th><th scope=col>otherEndchr</th><th scope=col>otherEndstart</th><th scope=col>otherEndend</th><th scope=col>ID</th><th scope=col>ATACchr</th><th scope=col>ATACstart</th><th scope=col>ATACend</th><th scope=col>baitID</th><th scope=col>baitstart</th><th scope=col>⋯</th><th scope=col>T1H</th><th scope=col>T4H</th><th scope=col>T24H</th><th scope=col>ATACannotation</th><th scope=col>AT0</th><th scope=col>AT20</th><th scope=col>AT1H</th><th scope=col>AT2H</th><th scope=col>AT4H</th><th scope=col>AT24H</th></tr>\n",
       "\t<tr><th></th><th scope=col>&lt;int&gt;</th><th scope=col>&lt;fct&gt;</th><th scope=col>&lt;int&gt;</th><th scope=col>&lt;int&gt;</th><th scope=col>&lt;int&gt;</th><th scope=col>&lt;fct&gt;</th><th scope=col>&lt;int&gt;</th><th scope=col>&lt;int&gt;</th><th scope=col>&lt;int&gt;</th><th scope=col>&lt;int&gt;</th><th scope=col>⋯</th><th scope=col>&lt;dbl&gt;</th><th scope=col>&lt;dbl&gt;</th><th scope=col>&lt;dbl&gt;</th><th scope=col>&lt;fct&gt;</th><th scope=col>&lt;dbl&gt;</th><th scope=col>&lt;dbl&gt;</th><th scope=col>&lt;dbl&gt;</th><th scope=col>&lt;dbl&gt;</th><th scope=col>&lt;dbl&gt;</th><th scope=col>&lt;dbl&gt;</th></tr>\n",
       "</thead>\n",
       "<tbody>\n",
       "\t<tr><th scope=row>1</th><td>100003</td><td>chr10</td><td>119702248</td><td>119714492</td><td>653</td><td>chr10</td><td>119705280</td><td>119705704</td><td>102382</td><td>127986294</td><td>⋯</td><td>0.0000000</td><td>1.032709</td><td>2.174726</td><td>Intergenic</td><td>5.683413</td><td>5.598023</td><td>5.945469</td><td>5.562361</td><td>6.423752</td><td>7.890997</td></tr>\n",
       "\t<tr><th scope=row>2</th><td>100008</td><td>chr10</td><td>119724542</td><td>119727941</td><td>654</td><td>chr10</td><td>119725154</td><td>119726711</td><td> 99879</td><td>119077883</td><td>⋯</td><td>1.7661949</td><td>2.691034</td><td>2.565841</td><td>Promoter  </td><td>9.683430</td><td>9.417568</td><td>9.715276</td><td>9.584663</td><td>9.609715</td><td>9.586125</td></tr>\n",
       "\t<tr><th scope=row>3</th><td>100034</td><td>chr10</td><td>119824560</td><td>119831806</td><td>661</td><td>chr10</td><td>119828019</td><td>119828186</td><td> 99879</td><td>119077883</td><td>⋯</td><td>2.5941914</td><td>2.354921</td><td>2.727703</td><td>3'UTR     </td><td>3.677326</td><td>4.891543</td><td>4.105506</td><td>4.974079</td><td>4.872013</td><td>4.802890</td></tr>\n",
       "\t<tr><th scope=row>4</th><td>100034</td><td>chr10</td><td>119824560</td><td>119831806</td><td>661</td><td>chr10</td><td>119828019</td><td>119828186</td><td> 77614</td><td> 43386197</td><td>⋯</td><td>0.0000000</td><td>0.000000</td><td>1.636451</td><td>3'UTR     </td><td>3.677326</td><td>4.891543</td><td>4.105506</td><td>4.974079</td><td>4.872013</td><td>4.802890</td></tr>\n",
       "\t<tr><th scope=row>5</th><td>100044</td><td>chr10</td><td>119857258</td><td>119859791</td><td>662</td><td>chr10</td><td>119859344</td><td>119859770</td><td> 80031</td><td> 51695582</td><td>⋯</td><td>0.9665639</td><td>0.000000</td><td>0.000000</td><td>Intron    </td><td>6.308615</td><td>6.139551</td><td>5.788724</td><td>6.279547</td><td>6.229512</td><td>5.776813</td></tr>\n",
       "\t<tr><th scope=row>6</th><td>100044</td><td>chr10</td><td>119857258</td><td>119859791</td><td>662</td><td>chr10</td><td>119859344</td><td>119859770</td><td> 99891</td><td>119161451</td><td>⋯</td><td>3.2718757</td><td>2.907554</td><td>3.341844</td><td>Intron    </td><td>6.308615</td><td>6.139551</td><td>5.788724</td><td>6.279547</td><td>6.229512</td><td>5.776813</td></tr>\n",
       "</tbody>\n",
       "</table>\n"
      ],
      "text/latex": [
       "A data.frame: 6 × 35\n",
       "\\begin{tabular}{r|lllllllllllllllllllll}\n",
       "  & otherEndID & otherEndchr & otherEndstart & otherEndend & ID & ATACchr & ATACstart & ATACend & baitID & baitstart & ⋯ & T1H & T4H & T24H & ATACannotation & AT0 & AT20 & AT1H & AT2H & AT4H & AT24H\\\\\n",
       "  & <int> & <fct> & <int> & <int> & <int> & <fct> & <int> & <int> & <int> & <int> & ⋯ & <dbl> & <dbl> & <dbl> & <fct> & <dbl> & <dbl> & <dbl> & <dbl> & <dbl> & <dbl>\\\\\n",
       "\\hline\n",
       "\t1 & 100003 & chr10 & 119702248 & 119714492 & 653 & chr10 & 119705280 & 119705704 & 102382 & 127986294 & ⋯ & 0.0000000 & 1.032709 & 2.174726 & Intergenic & 5.683413 & 5.598023 & 5.945469 & 5.562361 & 6.423752 & 7.890997\\\\\n",
       "\t2 & 100008 & chr10 & 119724542 & 119727941 & 654 & chr10 & 119725154 & 119726711 &  99879 & 119077883 & ⋯ & 1.7661949 & 2.691034 & 2.565841 & Promoter   & 9.683430 & 9.417568 & 9.715276 & 9.584663 & 9.609715 & 9.586125\\\\\n",
       "\t3 & 100034 & chr10 & 119824560 & 119831806 & 661 & chr10 & 119828019 & 119828186 &  99879 & 119077883 & ⋯ & 2.5941914 & 2.354921 & 2.727703 & 3'UTR      & 3.677326 & 4.891543 & 4.105506 & 4.974079 & 4.872013 & 4.802890\\\\\n",
       "\t4 & 100034 & chr10 & 119824560 & 119831806 & 661 & chr10 & 119828019 & 119828186 &  77614 &  43386197 & ⋯ & 0.0000000 & 0.000000 & 1.636451 & 3'UTR      & 3.677326 & 4.891543 & 4.105506 & 4.974079 & 4.872013 & 4.802890\\\\\n",
       "\t5 & 100044 & chr10 & 119857258 & 119859791 & 662 & chr10 & 119859344 & 119859770 &  80031 &  51695582 & ⋯ & 0.9665639 & 0.000000 & 0.000000 & Intron     & 6.308615 & 6.139551 & 5.788724 & 6.279547 & 6.229512 & 5.776813\\\\\n",
       "\t6 & 100044 & chr10 & 119857258 & 119859791 & 662 & chr10 & 119859344 & 119859770 &  99891 & 119161451 & ⋯ & 3.2718757 & 2.907554 & 3.341844 & Intron     & 6.308615 & 6.139551 & 5.788724 & 6.279547 & 6.229512 & 5.776813\\\\\n",
       "\\end{tabular}\n"
      ],
      "text/markdown": [
       "\n",
       "A data.frame: 6 × 35\n",
       "\n",
       "| <!--/--> | otherEndID &lt;int&gt; | otherEndchr &lt;fct&gt; | otherEndstart &lt;int&gt; | otherEndend &lt;int&gt; | ID &lt;int&gt; | ATACchr &lt;fct&gt; | ATACstart &lt;int&gt; | ATACend &lt;int&gt; | baitID &lt;int&gt; | baitstart &lt;int&gt; | ⋯ ⋯ | T1H &lt;dbl&gt; | T4H &lt;dbl&gt; | T24H &lt;dbl&gt; | ATACannotation &lt;fct&gt; | AT0 &lt;dbl&gt; | AT20 &lt;dbl&gt; | AT1H &lt;dbl&gt; | AT2H &lt;dbl&gt; | AT4H &lt;dbl&gt; | AT24H &lt;dbl&gt; |\n",
       "|---|---|---|---|---|---|---|---|---|---|---|---|---|---|---|---|---|---|---|---|---|---|\n",
       "| 1 | 100003 | chr10 | 119702248 | 119714492 | 653 | chr10 | 119705280 | 119705704 | 102382 | 127986294 | ⋯ | 0.0000000 | 1.032709 | 2.174726 | Intergenic | 5.683413 | 5.598023 | 5.945469 | 5.562361 | 6.423752 | 7.890997 |\n",
       "| 2 | 100008 | chr10 | 119724542 | 119727941 | 654 | chr10 | 119725154 | 119726711 |  99879 | 119077883 | ⋯ | 1.7661949 | 2.691034 | 2.565841 | Promoter   | 9.683430 | 9.417568 | 9.715276 | 9.584663 | 9.609715 | 9.586125 |\n",
       "| 3 | 100034 | chr10 | 119824560 | 119831806 | 661 | chr10 | 119828019 | 119828186 |  99879 | 119077883 | ⋯ | 2.5941914 | 2.354921 | 2.727703 | 3'UTR      | 3.677326 | 4.891543 | 4.105506 | 4.974079 | 4.872013 | 4.802890 |\n",
       "| 4 | 100034 | chr10 | 119824560 | 119831806 | 661 | chr10 | 119828019 | 119828186 |  77614 |  43386197 | ⋯ | 0.0000000 | 0.000000 | 1.636451 | 3'UTR      | 3.677326 | 4.891543 | 4.105506 | 4.974079 | 4.872013 | 4.802890 |\n",
       "| 5 | 100044 | chr10 | 119857258 | 119859791 | 662 | chr10 | 119859344 | 119859770 |  80031 |  51695582 | ⋯ | 0.9665639 | 0.000000 | 0.000000 | Intron     | 6.308615 | 6.139551 | 5.788724 | 6.279547 | 6.229512 | 5.776813 |\n",
       "| 6 | 100044 | chr10 | 119857258 | 119859791 | 662 | chr10 | 119859344 | 119859770 |  99891 | 119161451 | ⋯ | 3.2718757 | 2.907554 | 3.341844 | Intron     | 6.308615 | 6.139551 | 5.788724 | 6.279547 | 6.229512 | 5.776813 |\n",
       "\n"
      ],
      "text/plain": [
       "  otherEndID otherEndchr otherEndstart otherEndend ID  ATACchr ATACstart\n",
       "1 100003     chr10       119702248     119714492   653 chr10   119705280\n",
       "2 100008     chr10       119724542     119727941   654 chr10   119725154\n",
       "3 100034     chr10       119824560     119831806   661 chr10   119828019\n",
       "4 100034     chr10       119824560     119831806   661 chr10   119828019\n",
       "5 100044     chr10       119857258     119859791   662 chr10   119859344\n",
       "6 100044     chr10       119857258     119859791   662 chr10   119859344\n",
       "  ATACend   baitID baitstart ⋯ T1H       T4H      T24H     ATACannotation\n",
       "1 119705704 102382 127986294 ⋯ 0.0000000 1.032709 2.174726 Intergenic    \n",
       "2 119726711  99879 119077883 ⋯ 1.7661949 2.691034 2.565841 Promoter      \n",
       "3 119828186  99879 119077883 ⋯ 2.5941914 2.354921 2.727703 3'UTR         \n",
       "4 119828186  77614  43386197 ⋯ 0.0000000 0.000000 1.636451 3'UTR         \n",
       "5 119859770  80031  51695582 ⋯ 0.9665639 0.000000 0.000000 Intron        \n",
       "6 119859770  99891 119161451 ⋯ 3.2718757 2.907554 3.341844 Intron        \n",
       "  AT0      AT20     AT1H     AT2H     AT4H     AT24H   \n",
       "1 5.683413 5.598023 5.945469 5.562361 6.423752 7.890997\n",
       "2 9.683430 9.417568 9.715276 9.584663 9.609715 9.586125\n",
       "3 3.677326 4.891543 4.105506 4.974079 4.872013 4.802890\n",
       "4 3.677326 4.891543 4.105506 4.974079 4.872013 4.802890\n",
       "5 6.308615 6.139551 5.788724 6.279547 6.229512 5.776813\n",
       "6 6.308615 6.139551 5.788724 6.279547 6.229512 5.776813"
      ]
     },
     "metadata": {},
     "output_type": "display_data"
    }
   ],
   "source": [
    "head(chic_atacseq_merged_picked)\n"
   ]
  },
  {
   "cell_type": "code",
   "execution_count": 32,
   "metadata": {},
   "outputs": [
    {
     "data": {
      "text/html": [
       "<style>\n",
       ".list-inline {list-style: none; margin:0; padding: 0}\n",
       ".list-inline>li {display: inline-block}\n",
       ".list-inline>li:not(:last-child)::after {content: \"\\00b7\"; padding: 0 .5ex}\n",
       "</style>\n",
       "<ol class=list-inline><li>81971</li><li>35</li></ol>\n"
      ],
      "text/latex": [
       "\\begin{enumerate*}\n",
       "\\item 81971\n",
       "\\item 35\n",
       "\\end{enumerate*}\n"
      ],
      "text/markdown": [
       "1. 81971\n",
       "2. 35\n",
       "\n",
       "\n"
      ],
      "text/plain": [
       "[1] 81971    35"
      ]
     },
     "metadata": {},
     "output_type": "display_data"
    }
   ],
   "source": [
    "dim(chic_atacseq_merged_picked)"
   ]
  },
  {
   "cell_type": "code",
   "execution_count": 33,
   "metadata": {},
   "outputs": [
    {
     "data": {
      "text/html": [
       "<style>\n",
       ".list-inline {list-style: none; margin:0; padding: 0}\n",
       ".list-inline>li {display: inline-block}\n",
       ".list-inline>li:not(:last-child)::after {content: \"\\00b7\"; padding: 0 .5ex}\n",
       "</style>\n",
       "<ol class=list-inline><li>'otherEndID'</li><li>'otherEndchr'</li><li>'otherEndstart'</li><li>'otherEndend'</li><li>'ID'</li><li>'ATACchr'</li><li>'ATACstart'</li><li>'ATACend'</li><li>'baitID'</li><li>'baitstart'</li><li>'baitend'</li><li>'ENSG'</li><li>'T01'</li><li>'T02'</li><li>'T201'</li><li>'T202'</li><li>'T1H1'</li><li>'T1H2'</li><li>'T4H1'</li><li>'T4H2'</li><li>'T24H1'</li><li>'baitchr'</li><li>'corr_rep'</li><li>'T0'</li><li>'T20'</li><li>'T1H'</li><li>'T4H'</li><li>'T24H'</li><li>'ATACannotation'</li><li>'AT0'</li><li>'AT20'</li><li>'AT1H'</li><li>'AT2H'</li><li>'AT4H'</li><li>'AT24H'</li></ol>\n"
      ],
      "text/latex": [
       "\\begin{enumerate*}\n",
       "\\item 'otherEndID'\n",
       "\\item 'otherEndchr'\n",
       "\\item 'otherEndstart'\n",
       "\\item 'otherEndend'\n",
       "\\item 'ID'\n",
       "\\item 'ATACchr'\n",
       "\\item 'ATACstart'\n",
       "\\item 'ATACend'\n",
       "\\item 'baitID'\n",
       "\\item 'baitstart'\n",
       "\\item 'baitend'\n",
       "\\item 'ENSG'\n",
       "\\item 'T01'\n",
       "\\item 'T02'\n",
       "\\item 'T201'\n",
       "\\item 'T202'\n",
       "\\item 'T1H1'\n",
       "\\item 'T1H2'\n",
       "\\item 'T4H1'\n",
       "\\item 'T4H2'\n",
       "\\item 'T24H1'\n",
       "\\item 'baitchr'\n",
       "\\item 'corr\\_rep'\n",
       "\\item 'T0'\n",
       "\\item 'T20'\n",
       "\\item 'T1H'\n",
       "\\item 'T4H'\n",
       "\\item 'T24H'\n",
       "\\item 'ATACannotation'\n",
       "\\item 'AT0'\n",
       "\\item 'AT20'\n",
       "\\item 'AT1H'\n",
       "\\item 'AT2H'\n",
       "\\item 'AT4H'\n",
       "\\item 'AT24H'\n",
       "\\end{enumerate*}\n"
      ],
      "text/markdown": [
       "1. 'otherEndID'\n",
       "2. 'otherEndchr'\n",
       "3. 'otherEndstart'\n",
       "4. 'otherEndend'\n",
       "5. 'ID'\n",
       "6. 'ATACchr'\n",
       "7. 'ATACstart'\n",
       "8. 'ATACend'\n",
       "9. 'baitID'\n",
       "10. 'baitstart'\n",
       "11. 'baitend'\n",
       "12. 'ENSG'\n",
       "13. 'T01'\n",
       "14. 'T02'\n",
       "15. 'T201'\n",
       "16. 'T202'\n",
       "17. 'T1H1'\n",
       "18. 'T1H2'\n",
       "19. 'T4H1'\n",
       "20. 'T4H2'\n",
       "21. 'T24H1'\n",
       "22. 'baitchr'\n",
       "23. 'corr_rep'\n",
       "24. 'T0'\n",
       "25. 'T20'\n",
       "26. 'T1H'\n",
       "27. 'T4H'\n",
       "28. 'T24H'\n",
       "29. 'ATACannotation'\n",
       "30. 'AT0'\n",
       "31. 'AT20'\n",
       "32. 'AT1H'\n",
       "33. 'AT2H'\n",
       "34. 'AT4H'\n",
       "35. 'AT24H'\n",
       "\n",
       "\n"
      ],
      "text/plain": [
       " [1] \"otherEndID\"     \"otherEndchr\"    \"otherEndstart\"  \"otherEndend\"   \n",
       " [5] \"ID\"             \"ATACchr\"        \"ATACstart\"      \"ATACend\"       \n",
       " [9] \"baitID\"         \"baitstart\"      \"baitend\"        \"ENSG\"          \n",
       "[13] \"T01\"            \"T02\"            \"T201\"           \"T202\"          \n",
       "[17] \"T1H1\"           \"T1H2\"           \"T4H1\"           \"T4H2\"          \n",
       "[21] \"T24H1\"          \"baitchr\"        \"corr_rep\"       \"T0\"            \n",
       "[25] \"T20\"            \"T1H\"            \"T4H\"            \"T24H\"          \n",
       "[29] \"ATACannotation\" \"AT0\"            \"AT20\"           \"AT1H\"          \n",
       "[33] \"AT2H\"           \"AT4H\"           \"AT24H\"         "
      ]
     },
     "metadata": {},
     "output_type": "display_data"
    }
   ],
   "source": [
    "names(chic_atacseq_merged_picked)"
   ]
  },
  {
   "cell_type": "markdown",
   "metadata": {},
   "source": [
    "### gene counts data (with replicates)"
   ]
  },
  {
   "cell_type": "code",
   "execution_count": 34,
   "metadata": {},
   "outputs": [],
   "source": [
    "gene_data <- read.table('data/Gene_data.txt', header=T)"
   ]
  },
  {
   "cell_type": "code",
   "execution_count": 35,
   "metadata": {},
   "outputs": [
    {
     "data": {
      "text/html": [
       "<table>\n",
       "<caption>A data.frame: 6 × 17</caption>\n",
       "<thead>\n",
       "\t<tr><th></th><th scope=col>ENSG</th><th scope=col>ENSGchr</th><th scope=col>ENSGstart</th><th scope=col>ENSGend</th><th scope=col>ET01</th><th scope=col>ET201</th><th scope=col>ET601</th><th scope=col>ET2H1</th><th scope=col>ET4H1</th><th scope=col>ET24H1</th><th scope=col>ET02</th><th scope=col>ET202</th><th scope=col>ET602</th><th scope=col>ET2H2</th><th scope=col>ET4H2</th><th scope=col>ET24H2</th><th scope=col>GeneName</th></tr>\n",
       "\t<tr><th></th><th scope=col>&lt;fct&gt;</th><th scope=col>&lt;fct&gt;</th><th scope=col>&lt;int&gt;</th><th scope=col>&lt;int&gt;</th><th scope=col>&lt;dbl&gt;</th><th scope=col>&lt;dbl&gt;</th><th scope=col>&lt;dbl&gt;</th><th scope=col>&lt;dbl&gt;</th><th scope=col>&lt;dbl&gt;</th><th scope=col>&lt;dbl&gt;</th><th scope=col>&lt;dbl&gt;</th><th scope=col>&lt;dbl&gt;</th><th scope=col>&lt;dbl&gt;</th><th scope=col>&lt;dbl&gt;</th><th scope=col>&lt;dbl&gt;</th><th scope=col>&lt;dbl&gt;</th><th scope=col>&lt;fct&gt;</th></tr>\n",
       "</thead>\n",
       "<tbody>\n",
       "\t<tr><th scope=row>1</th><td>ENSG00000000003</td><td>chrX </td><td>100627109</td><td>100639991</td><td> 5.041981</td><td> 5.062369</td><td> 4.178733</td><td> 3.377680</td><td> 1.986341</td><td> 5.324410</td><td> 5.177855</td><td> 3.688929</td><td> 3.295454</td><td> 5.253633</td><td> 4.226941</td><td> 4.335357</td><td>TSPAN6  </td></tr>\n",
       "\t<tr><th scope=row>2</th><td>ENSG00000000419</td><td>chr20</td><td> 50934867</td><td> 50958555</td><td>10.556373</td><td>11.059740</td><td>10.784106</td><td>10.332645</td><td>10.273519</td><td>10.419062</td><td>11.032946</td><td>11.032608</td><td>10.768947</td><td>10.781390</td><td>10.590316</td><td>10.778582</td><td>DPM1    </td></tr>\n",
       "\t<tr><th scope=row>3</th><td>ENSG00000000457</td><td>chr1 </td><td>169849631</td><td>169894267</td><td> 8.074191</td><td> 7.582473</td><td> 9.025557</td><td> 9.324986</td><td> 9.353563</td><td> 9.026321</td><td> 7.985902</td><td> 8.162494</td><td> 9.417072</td><td> 9.456439</td><td> 9.271116</td><td> 8.889596</td><td>SCYL3   </td></tr>\n",
       "\t<tr><th scope=row>4</th><td>ENSG00000000460</td><td>chr1 </td><td>169662007</td><td>169854080</td><td> 9.029226</td><td> 8.655751</td><td> 9.993021</td><td>12.866744</td><td>14.215491</td><td>10.871978</td><td> 8.287388</td><td> 8.345116</td><td>10.056483</td><td>11.656388</td><td>13.905748</td><td>11.378513</td><td>C1orf112</td></tr>\n",
       "\t<tr><th scope=row>5</th><td>ENSG00000000938</td><td>chr1 </td><td> 27612064</td><td> 27635277</td><td> 9.680082</td><td> 9.113586</td><td> 9.108392</td><td> 9.024590</td><td> 9.395413</td><td> 7.303896</td><td> 5.479472</td><td> 5.918468</td><td> 5.355478</td><td> 4.750553</td><td> 5.187896</td><td> 2.535247</td><td>FGR     </td></tr>\n",
       "\t<tr><th scope=row>6</th><td>ENSG00000000971</td><td>chr1 </td><td>196651878</td><td>196747504</td><td> 6.360314</td><td> 5.424491</td><td> 5.394533</td><td> 5.269632</td><td> 4.710372</td><td> 4.385639</td><td> 5.551854</td><td> 5.941924</td><td> 5.636894</td><td> 5.042941</td><td> 4.976733</td><td> 4.017008</td><td>CFH     </td></tr>\n",
       "</tbody>\n",
       "</table>\n"
      ],
      "text/latex": [
       "A data.frame: 6 × 17\n",
       "\\begin{tabular}{r|lllllllllllllllll}\n",
       "  & ENSG & ENSGchr & ENSGstart & ENSGend & ET01 & ET201 & ET601 & ET2H1 & ET4H1 & ET24H1 & ET02 & ET202 & ET602 & ET2H2 & ET4H2 & ET24H2 & GeneName\\\\\n",
       "  & <fct> & <fct> & <int> & <int> & <dbl> & <dbl> & <dbl> & <dbl> & <dbl> & <dbl> & <dbl> & <dbl> & <dbl> & <dbl> & <dbl> & <dbl> & <fct>\\\\\n",
       "\\hline\n",
       "\t1 & ENSG00000000003 & chrX  & 100627109 & 100639991 &  5.041981 &  5.062369 &  4.178733 &  3.377680 &  1.986341 &  5.324410 &  5.177855 &  3.688929 &  3.295454 &  5.253633 &  4.226941 &  4.335357 & TSPAN6  \\\\\n",
       "\t2 & ENSG00000000419 & chr20 &  50934867 &  50958555 & 10.556373 & 11.059740 & 10.784106 & 10.332645 & 10.273519 & 10.419062 & 11.032946 & 11.032608 & 10.768947 & 10.781390 & 10.590316 & 10.778582 & DPM1    \\\\\n",
       "\t3 & ENSG00000000457 & chr1  & 169849631 & 169894267 &  8.074191 &  7.582473 &  9.025557 &  9.324986 &  9.353563 &  9.026321 &  7.985902 &  8.162494 &  9.417072 &  9.456439 &  9.271116 &  8.889596 & SCYL3   \\\\\n",
       "\t4 & ENSG00000000460 & chr1  & 169662007 & 169854080 &  9.029226 &  8.655751 &  9.993021 & 12.866744 & 14.215491 & 10.871978 &  8.287388 &  8.345116 & 10.056483 & 11.656388 & 13.905748 & 11.378513 & C1orf112\\\\\n",
       "\t5 & ENSG00000000938 & chr1  &  27612064 &  27635277 &  9.680082 &  9.113586 &  9.108392 &  9.024590 &  9.395413 &  7.303896 &  5.479472 &  5.918468 &  5.355478 &  4.750553 &  5.187896 &  2.535247 & FGR     \\\\\n",
       "\t6 & ENSG00000000971 & chr1  & 196651878 & 196747504 &  6.360314 &  5.424491 &  5.394533 &  5.269632 &  4.710372 &  4.385639 &  5.551854 &  5.941924 &  5.636894 &  5.042941 &  4.976733 &  4.017008 & CFH     \\\\\n",
       "\\end{tabular}\n"
      ],
      "text/markdown": [
       "\n",
       "A data.frame: 6 × 17\n",
       "\n",
       "| <!--/--> | ENSG &lt;fct&gt; | ENSGchr &lt;fct&gt; | ENSGstart &lt;int&gt; | ENSGend &lt;int&gt; | ET01 &lt;dbl&gt; | ET201 &lt;dbl&gt; | ET601 &lt;dbl&gt; | ET2H1 &lt;dbl&gt; | ET4H1 &lt;dbl&gt; | ET24H1 &lt;dbl&gt; | ET02 &lt;dbl&gt; | ET202 &lt;dbl&gt; | ET602 &lt;dbl&gt; | ET2H2 &lt;dbl&gt; | ET4H2 &lt;dbl&gt; | ET24H2 &lt;dbl&gt; | GeneName &lt;fct&gt; |\n",
       "|---|---|---|---|---|---|---|---|---|---|---|---|---|---|---|---|---|---|\n",
       "| 1 | ENSG00000000003 | chrX  | 100627109 | 100639991 |  5.041981 |  5.062369 |  4.178733 |  3.377680 |  1.986341 |  5.324410 |  5.177855 |  3.688929 |  3.295454 |  5.253633 |  4.226941 |  4.335357 | TSPAN6   |\n",
       "| 2 | ENSG00000000419 | chr20 |  50934867 |  50958555 | 10.556373 | 11.059740 | 10.784106 | 10.332645 | 10.273519 | 10.419062 | 11.032946 | 11.032608 | 10.768947 | 10.781390 | 10.590316 | 10.778582 | DPM1     |\n",
       "| 3 | ENSG00000000457 | chr1  | 169849631 | 169894267 |  8.074191 |  7.582473 |  9.025557 |  9.324986 |  9.353563 |  9.026321 |  7.985902 |  8.162494 |  9.417072 |  9.456439 |  9.271116 |  8.889596 | SCYL3    |\n",
       "| 4 | ENSG00000000460 | chr1  | 169662007 | 169854080 |  9.029226 |  8.655751 |  9.993021 | 12.866744 | 14.215491 | 10.871978 |  8.287388 |  8.345116 | 10.056483 | 11.656388 | 13.905748 | 11.378513 | C1orf112 |\n",
       "| 5 | ENSG00000000938 | chr1  |  27612064 |  27635277 |  9.680082 |  9.113586 |  9.108392 |  9.024590 |  9.395413 |  7.303896 |  5.479472 |  5.918468 |  5.355478 |  4.750553 |  5.187896 |  2.535247 | FGR      |\n",
       "| 6 | ENSG00000000971 | chr1  | 196651878 | 196747504 |  6.360314 |  5.424491 |  5.394533 |  5.269632 |  4.710372 |  4.385639 |  5.551854 |  5.941924 |  5.636894 |  5.042941 |  4.976733 |  4.017008 | CFH      |\n",
       "\n"
      ],
      "text/plain": [
       "  ENSG            ENSGchr ENSGstart ENSGend   ET01      ET201     ET601    \n",
       "1 ENSG00000000003 chrX    100627109 100639991  5.041981  5.062369  4.178733\n",
       "2 ENSG00000000419 chr20    50934867  50958555 10.556373 11.059740 10.784106\n",
       "3 ENSG00000000457 chr1    169849631 169894267  8.074191  7.582473  9.025557\n",
       "4 ENSG00000000460 chr1    169662007 169854080  9.029226  8.655751  9.993021\n",
       "5 ENSG00000000938 chr1     27612064  27635277  9.680082  9.113586  9.108392\n",
       "6 ENSG00000000971 chr1    196651878 196747504  6.360314  5.424491  5.394533\n",
       "  ET2H1     ET4H1     ET24H1    ET02      ET202     ET602     ET2H2    \n",
       "1  3.377680  1.986341  5.324410  5.177855  3.688929  3.295454  5.253633\n",
       "2 10.332645 10.273519 10.419062 11.032946 11.032608 10.768947 10.781390\n",
       "3  9.324986  9.353563  9.026321  7.985902  8.162494  9.417072  9.456439\n",
       "4 12.866744 14.215491 10.871978  8.287388  8.345116 10.056483 11.656388\n",
       "5  9.024590  9.395413  7.303896  5.479472  5.918468  5.355478  4.750553\n",
       "6  5.269632  4.710372  4.385639  5.551854  5.941924  5.636894  5.042941\n",
       "  ET4H2     ET24H2    GeneName\n",
       "1  4.226941  4.335357 TSPAN6  \n",
       "2 10.590316 10.778582 DPM1    \n",
       "3  9.271116  8.889596 SCYL3   \n",
       "4 13.905748 11.378513 C1orf112\n",
       "5  5.187896  2.535247 FGR     \n",
       "6  4.976733  4.017008 CFH     "
      ]
     },
     "metadata": {},
     "output_type": "display_data"
    }
   ],
   "source": [
    "head(gene_data)"
   ]
  },
  {
   "cell_type": "code",
   "execution_count": 36,
   "metadata": {
    "scrolled": true
   },
   "outputs": [
    {
     "data": {
      "text/html": [
       "<style>\n",
       ".list-inline {list-style: none; margin:0; padding: 0}\n",
       ".list-inline>li {display: inline-block}\n",
       ".list-inline>li:not(:last-child)::after {content: \"\\00b7\"; padding: 0 .5ex}\n",
       "</style>\n",
       "<ol class=list-inline><li>'ENSG'</li><li>'ENSGchr'</li><li>'ENSGstart'</li><li>'ENSGend'</li><li>'ET01'</li><li>'ET201'</li><li>'ET601'</li><li>'ET2H1'</li><li>'ET4H1'</li><li>'ET24H1'</li><li>'ET02'</li><li>'ET202'</li><li>'ET602'</li><li>'ET2H2'</li><li>'ET4H2'</li><li>'ET24H2'</li><li>'GeneName'</li></ol>\n"
      ],
      "text/latex": [
       "\\begin{enumerate*}\n",
       "\\item 'ENSG'\n",
       "\\item 'ENSGchr'\n",
       "\\item 'ENSGstart'\n",
       "\\item 'ENSGend'\n",
       "\\item 'ET01'\n",
       "\\item 'ET201'\n",
       "\\item 'ET601'\n",
       "\\item 'ET2H1'\n",
       "\\item 'ET4H1'\n",
       "\\item 'ET24H1'\n",
       "\\item 'ET02'\n",
       "\\item 'ET202'\n",
       "\\item 'ET602'\n",
       "\\item 'ET2H2'\n",
       "\\item 'ET4H2'\n",
       "\\item 'ET24H2'\n",
       "\\item 'GeneName'\n",
       "\\end{enumerate*}\n"
      ],
      "text/markdown": [
       "1. 'ENSG'\n",
       "2. 'ENSGchr'\n",
       "3. 'ENSGstart'\n",
       "4. 'ENSGend'\n",
       "5. 'ET01'\n",
       "6. 'ET201'\n",
       "7. 'ET601'\n",
       "8. 'ET2H1'\n",
       "9. 'ET4H1'\n",
       "10. 'ET24H1'\n",
       "11. 'ET02'\n",
       "12. 'ET202'\n",
       "13. 'ET602'\n",
       "14. 'ET2H2'\n",
       "15. 'ET4H2'\n",
       "16. 'ET24H2'\n",
       "17. 'GeneName'\n",
       "\n",
       "\n"
      ],
      "text/plain": [
       " [1] \"ENSG\"      \"ENSGchr\"   \"ENSGstart\" \"ENSGend\"   \"ET01\"      \"ET201\"    \n",
       " [7] \"ET601\"     \"ET2H1\"     \"ET4H1\"     \"ET24H1\"    \"ET02\"      \"ET202\"    \n",
       "[13] \"ET602\"     \"ET2H2\"     \"ET4H2\"     \"ET24H2\"    \"GeneName\" "
      ]
     },
     "metadata": {},
     "output_type": "display_data"
    }
   ],
   "source": [
    "names(gene_data)"
   ]
  },
  {
   "cell_type": "code",
   "execution_count": 37,
   "metadata": {},
   "outputs": [],
   "source": [
    "gene_data$ET0_a <- 0.5*(gene_data$ET01+gene_data$ET02)\n",
    "gene_data$ET20_a <- 0.5*(gene_data$ET201+gene_data$ET202)\n",
    "gene_data$ET1H_a <- 0.5*(gene_data$ET601+gene_data$ET602)\n",
    "gene_data$ET2H_a <- 0.5*(gene_data$ET2H1+gene_data$ET2H2)\n",
    "gene_data$ET4H_a <- 0.5*(gene_data$ET4H1+gene_data$ET4H2)\n",
    "gene_data$ET24H_a <- 0.5*(gene_data$ET24H1+gene_data$ET24H2)"
   ]
  },
  {
   "cell_type": "code",
   "execution_count": 38,
   "metadata": {},
   "outputs": [
    {
     "data": {
      "text/html": [
       "<style>\n",
       ".list-inline {list-style: none; margin:0; padding: 0}\n",
       ".list-inline>li {display: inline-block}\n",
       ".list-inline>li:not(:last-child)::after {content: \"\\00b7\"; padding: 0 .5ex}\n",
       "</style>\n",
       "<ol class=list-inline><li>'ENSG'</li><li>'ENSGchr'</li><li>'ENSGstart'</li><li>'ENSGend'</li><li>'ET01'</li><li>'ET201'</li><li>'ET601'</li><li>'ET2H1'</li><li>'ET4H1'</li><li>'ET24H1'</li><li>'ET02'</li><li>'ET202'</li><li>'ET602'</li><li>'ET2H2'</li><li>'ET4H2'</li><li>'ET24H2'</li><li>'GeneName'</li><li>'ET0_a'</li><li>'ET20_a'</li><li>'ET1H_a'</li><li>'ET2H_a'</li><li>'ET4H_a'</li><li>'ET24H_a'</li></ol>\n"
      ],
      "text/latex": [
       "\\begin{enumerate*}\n",
       "\\item 'ENSG'\n",
       "\\item 'ENSGchr'\n",
       "\\item 'ENSGstart'\n",
       "\\item 'ENSGend'\n",
       "\\item 'ET01'\n",
       "\\item 'ET201'\n",
       "\\item 'ET601'\n",
       "\\item 'ET2H1'\n",
       "\\item 'ET4H1'\n",
       "\\item 'ET24H1'\n",
       "\\item 'ET02'\n",
       "\\item 'ET202'\n",
       "\\item 'ET602'\n",
       "\\item 'ET2H2'\n",
       "\\item 'ET4H2'\n",
       "\\item 'ET24H2'\n",
       "\\item 'GeneName'\n",
       "\\item 'ET0\\_a'\n",
       "\\item 'ET20\\_a'\n",
       "\\item 'ET1H\\_a'\n",
       "\\item 'ET2H\\_a'\n",
       "\\item 'ET4H\\_a'\n",
       "\\item 'ET24H\\_a'\n",
       "\\end{enumerate*}\n"
      ],
      "text/markdown": [
       "1. 'ENSG'\n",
       "2. 'ENSGchr'\n",
       "3. 'ENSGstart'\n",
       "4. 'ENSGend'\n",
       "5. 'ET01'\n",
       "6. 'ET201'\n",
       "7. 'ET601'\n",
       "8. 'ET2H1'\n",
       "9. 'ET4H1'\n",
       "10. 'ET24H1'\n",
       "11. 'ET02'\n",
       "12. 'ET202'\n",
       "13. 'ET602'\n",
       "14. 'ET2H2'\n",
       "15. 'ET4H2'\n",
       "16. 'ET24H2'\n",
       "17. 'GeneName'\n",
       "18. 'ET0_a'\n",
       "19. 'ET20_a'\n",
       "20. 'ET1H_a'\n",
       "21. 'ET2H_a'\n",
       "22. 'ET4H_a'\n",
       "23. 'ET24H_a'\n",
       "\n",
       "\n"
      ],
      "text/plain": [
       " [1] \"ENSG\"      \"ENSGchr\"   \"ENSGstart\" \"ENSGend\"   \"ET01\"      \"ET201\"    \n",
       " [7] \"ET601\"     \"ET2H1\"     \"ET4H1\"     \"ET24H1\"    \"ET02\"      \"ET202\"    \n",
       "[13] \"ET602\"     \"ET2H2\"     \"ET4H2\"     \"ET24H2\"    \"GeneName\"  \"ET0_a\"    \n",
       "[19] \"ET20_a\"    \"ET1H_a\"    \"ET2H_a\"    \"ET4H_a\"    \"ET24H_a\"  "
      ]
     },
     "metadata": {},
     "output_type": "display_data"
    }
   ],
   "source": [
    "names(gene_data)"
   ]
  },
  {
   "cell_type": "markdown",
   "metadata": {},
   "source": [
    "### merge gene and chic data"
   ]
  },
  {
   "cell_type": "code",
   "execution_count": 39,
   "metadata": {},
   "outputs": [
    {
     "data": {
      "text/html": [
       "<table>\n",
       "<caption>A data.frame: 6 × 24</caption>\n",
       "<thead>\n",
       "\t<tr><th></th><th scope=col>baitID</th><th scope=col>baitstart</th><th scope=col>baitend</th><th scope=col>ENSG</th><th scope=col>otherEndID</th><th scope=col>otherEndchr</th><th scope=col>otherEndstart</th><th scope=col>otherEndend</th><th scope=col>T01</th><th scope=col>T02</th><th scope=col>⋯</th><th scope=col>T4H1</th><th scope=col>T4H2</th><th scope=col>T24H1</th><th scope=col>baitchr</th><th scope=col>corr_rep</th><th scope=col>T0</th><th scope=col>T20</th><th scope=col>T1H</th><th scope=col>T4H</th><th scope=col>T24H</th></tr>\n",
       "\t<tr><th></th><th scope=col>&lt;int&gt;</th><th scope=col>&lt;int&gt;</th><th scope=col>&lt;int&gt;</th><th scope=col>&lt;fct&gt;</th><th scope=col>&lt;int&gt;</th><th scope=col>&lt;fct&gt;</th><th scope=col>&lt;int&gt;</th><th scope=col>&lt;int&gt;</th><th scope=col>&lt;dbl&gt;</th><th scope=col>&lt;dbl&gt;</th><th scope=col>⋯</th><th scope=col>&lt;dbl&gt;</th><th scope=col>&lt;dbl&gt;</th><th scope=col>&lt;dbl&gt;</th><th scope=col>&lt;fct&gt;</th><th scope=col>&lt;dbl&gt;</th><th scope=col>&lt;dbl&gt;</th><th scope=col>&lt;dbl&gt;</th><th scope=col>&lt;dbl&gt;</th><th scope=col>&lt;dbl&gt;</th><th scope=col>&lt;dbl&gt;</th></tr>\n",
       "</thead>\n",
       "<tbody>\n",
       "\t<tr><th scope=row>1</th><td>100955</td><td>122950347</td><td>122956207</td><td>ENSG00000119965</td><td> 92154</td><td>chr10</td><td> 92572726</td><td> 92594937</td><td>0.000000</td><td>2.281339</td><td>⋯</td><td>2.065419</td><td>0.000000</td><td>0.000000</td><td>chr10</td><td>-0.57175609</td><td>1.140669</td><td>0.000000</td><td>1.391779</td><td>1.0327093</td><td>0.000000</td></tr>\n",
       "\t<tr><th scope=row>2</th><td>100955</td><td>122950347</td><td>122956207</td><td>ENSG00000119965</td><td> 78222</td><td>chr10</td><td> 45508633</td><td> 45514336</td><td>0.000000</td><td>0.000000</td><td>⋯</td><td>0.000000</td><td>2.261001</td><td>0.000000</td><td>chr10</td><td>         NA</td><td>0.000000</td><td>0.000000</td><td>0.000000</td><td>1.1305003</td><td>0.000000</td></tr>\n",
       "\t<tr><th scope=row>3</th><td>100955</td><td>122950347</td><td>122956207</td><td>ENSG00000119965</td><td> 77679</td><td>chr10</td><td> 43644531</td><td> 43648045</td><td>0.000000</td><td>2.620208</td><td>⋯</td><td>0.000000</td><td>0.000000</td><td>0.000000</td><td>chr10</td><td>         NA</td><td>1.310104</td><td>0.000000</td><td>0.000000</td><td>0.0000000</td><td>0.000000</td></tr>\n",
       "\t<tr><th scope=row>4</th><td>100955</td><td>122950347</td><td>122956207</td><td>ENSG00000119965</td><td>101495</td><td>chr10</td><td>124901900</td><td>124920455</td><td>4.112264</td><td>3.653503</td><td>⋯</td><td>2.881882</td><td>3.102066</td><td>0.000000</td><td>chr10</td><td>-0.07292586</td><td>3.882884</td><td>2.921624</td><td>1.690418</td><td>2.9919739</td><td>0.000000</td></tr>\n",
       "\t<tr><th scope=row>5</th><td>100955</td><td>122950347</td><td>122956207</td><td>ENSG00000119965</td><td> 89558</td><td>chr10</td><td> 84128125</td><td> 84134471</td><td>0.000000</td><td>0.000000</td><td>⋯</td><td>1.541680</td><td>0.000000</td><td>1.930548</td><td>chr10</td><td>-0.33333333</td><td>0.000000</td><td>1.017335</td><td>0.000000</td><td>0.7708398</td><td>1.930548</td></tr>\n",
       "\t<tr><th scope=row>6</th><td>100955</td><td>122950347</td><td>122956207</td><td>ENSG00000119965</td><td>101383</td><td>chr10</td><td>124409095</td><td>124414046</td><td>3.568419</td><td>3.323323</td><td>⋯</td><td>3.310275</td><td>2.741975</td><td>3.438559</td><td>chr10</td><td> 0.61479564</td><td>3.445871</td><td>3.466919</td><td>2.956566</td><td>3.0261252</td><td>3.438559</td></tr>\n",
       "</tbody>\n",
       "</table>\n"
      ],
      "text/latex": [
       "A data.frame: 6 × 24\n",
       "\\begin{tabular}{r|lllllllllllllllllllll}\n",
       "  & baitID & baitstart & baitend & ENSG & otherEndID & otherEndchr & otherEndstart & otherEndend & T01 & T02 & ⋯ & T4H1 & T4H2 & T24H1 & baitchr & corr\\_rep & T0 & T20 & T1H & T4H & T24H\\\\\n",
       "  & <int> & <int> & <int> & <fct> & <int> & <fct> & <int> & <int> & <dbl> & <dbl> & ⋯ & <dbl> & <dbl> & <dbl> & <fct> & <dbl> & <dbl> & <dbl> & <dbl> & <dbl> & <dbl>\\\\\n",
       "\\hline\n",
       "\t1 & 100955 & 122950347 & 122956207 & ENSG00000119965 &  92154 & chr10 &  92572726 &  92594937 & 0.000000 & 2.281339 & ⋯ & 2.065419 & 0.000000 & 0.000000 & chr10 & -0.57175609 & 1.140669 & 0.000000 & 1.391779 & 1.0327093 & 0.000000\\\\\n",
       "\t2 & 100955 & 122950347 & 122956207 & ENSG00000119965 &  78222 & chr10 &  45508633 &  45514336 & 0.000000 & 0.000000 & ⋯ & 0.000000 & 2.261001 & 0.000000 & chr10 &          NA & 0.000000 & 0.000000 & 0.000000 & 1.1305003 & 0.000000\\\\\n",
       "\t3 & 100955 & 122950347 & 122956207 & ENSG00000119965 &  77679 & chr10 &  43644531 &  43648045 & 0.000000 & 2.620208 & ⋯ & 0.000000 & 0.000000 & 0.000000 & chr10 &          NA & 1.310104 & 0.000000 & 0.000000 & 0.0000000 & 0.000000\\\\\n",
       "\t4 & 100955 & 122950347 & 122956207 & ENSG00000119965 & 101495 & chr10 & 124901900 & 124920455 & 4.112264 & 3.653503 & ⋯ & 2.881882 & 3.102066 & 0.000000 & chr10 & -0.07292586 & 3.882884 & 2.921624 & 1.690418 & 2.9919739 & 0.000000\\\\\n",
       "\t5 & 100955 & 122950347 & 122956207 & ENSG00000119965 &  89558 & chr10 &  84128125 &  84134471 & 0.000000 & 0.000000 & ⋯ & 1.541680 & 0.000000 & 1.930548 & chr10 & -0.33333333 & 0.000000 & 1.017335 & 0.000000 & 0.7708398 & 1.930548\\\\\n",
       "\t6 & 100955 & 122950347 & 122956207 & ENSG00000119965 & 101383 & chr10 & 124409095 & 124414046 & 3.568419 & 3.323323 & ⋯ & 3.310275 & 2.741975 & 3.438559 & chr10 &  0.61479564 & 3.445871 & 3.466919 & 2.956566 & 3.0261252 & 3.438559\\\\\n",
       "\\end{tabular}\n"
      ],
      "text/markdown": [
       "\n",
       "A data.frame: 6 × 24\n",
       "\n",
       "| <!--/--> | baitID &lt;int&gt; | baitstart &lt;int&gt; | baitend &lt;int&gt; | ENSG &lt;fct&gt; | otherEndID &lt;int&gt; | otherEndchr &lt;fct&gt; | otherEndstart &lt;int&gt; | otherEndend &lt;int&gt; | T01 &lt;dbl&gt; | T02 &lt;dbl&gt; | ⋯ ⋯ | T4H1 &lt;dbl&gt; | T4H2 &lt;dbl&gt; | T24H1 &lt;dbl&gt; | baitchr &lt;fct&gt; | corr_rep &lt;dbl&gt; | T0 &lt;dbl&gt; | T20 &lt;dbl&gt; | T1H &lt;dbl&gt; | T4H &lt;dbl&gt; | T24H &lt;dbl&gt; |\n",
       "|---|---|---|---|---|---|---|---|---|---|---|---|---|---|---|---|---|---|---|---|---|---|\n",
       "| 1 | 100955 | 122950347 | 122956207 | ENSG00000119965 |  92154 | chr10 |  92572726 |  92594937 | 0.000000 | 2.281339 | ⋯ | 2.065419 | 0.000000 | 0.000000 | chr10 | -0.57175609 | 1.140669 | 0.000000 | 1.391779 | 1.0327093 | 0.000000 |\n",
       "| 2 | 100955 | 122950347 | 122956207 | ENSG00000119965 |  78222 | chr10 |  45508633 |  45514336 | 0.000000 | 0.000000 | ⋯ | 0.000000 | 2.261001 | 0.000000 | chr10 |          NA | 0.000000 | 0.000000 | 0.000000 | 1.1305003 | 0.000000 |\n",
       "| 3 | 100955 | 122950347 | 122956207 | ENSG00000119965 |  77679 | chr10 |  43644531 |  43648045 | 0.000000 | 2.620208 | ⋯ | 0.000000 | 0.000000 | 0.000000 | chr10 |          NA | 1.310104 | 0.000000 | 0.000000 | 0.0000000 | 0.000000 |\n",
       "| 4 | 100955 | 122950347 | 122956207 | ENSG00000119965 | 101495 | chr10 | 124901900 | 124920455 | 4.112264 | 3.653503 | ⋯ | 2.881882 | 3.102066 | 0.000000 | chr10 | -0.07292586 | 3.882884 | 2.921624 | 1.690418 | 2.9919739 | 0.000000 |\n",
       "| 5 | 100955 | 122950347 | 122956207 | ENSG00000119965 |  89558 | chr10 |  84128125 |  84134471 | 0.000000 | 0.000000 | ⋯ | 1.541680 | 0.000000 | 1.930548 | chr10 | -0.33333333 | 0.000000 | 1.017335 | 0.000000 | 0.7708398 | 1.930548 |\n",
       "| 6 | 100955 | 122950347 | 122956207 | ENSG00000119965 | 101383 | chr10 | 124409095 | 124414046 | 3.568419 | 3.323323 | ⋯ | 3.310275 | 2.741975 | 3.438559 | chr10 |  0.61479564 | 3.445871 | 3.466919 | 2.956566 | 3.0261252 | 3.438559 |\n",
       "\n"
      ],
      "text/plain": [
       "  baitID baitstart baitend   ENSG            otherEndID otherEndchr\n",
       "1 100955 122950347 122956207 ENSG00000119965  92154     chr10      \n",
       "2 100955 122950347 122956207 ENSG00000119965  78222     chr10      \n",
       "3 100955 122950347 122956207 ENSG00000119965  77679     chr10      \n",
       "4 100955 122950347 122956207 ENSG00000119965 101495     chr10      \n",
       "5 100955 122950347 122956207 ENSG00000119965  89558     chr10      \n",
       "6 100955 122950347 122956207 ENSG00000119965 101383     chr10      \n",
       "  otherEndstart otherEndend T01      T02      ⋯ T4H1     T4H2     T24H1   \n",
       "1  92572726      92594937   0.000000 2.281339 ⋯ 2.065419 0.000000 0.000000\n",
       "2  45508633      45514336   0.000000 0.000000 ⋯ 0.000000 2.261001 0.000000\n",
       "3  43644531      43648045   0.000000 2.620208 ⋯ 0.000000 0.000000 0.000000\n",
       "4 124901900     124920455   4.112264 3.653503 ⋯ 2.881882 3.102066 0.000000\n",
       "5  84128125      84134471   0.000000 0.000000 ⋯ 1.541680 0.000000 1.930548\n",
       "6 124409095     124414046   3.568419 3.323323 ⋯ 3.310275 2.741975 3.438559\n",
       "  baitchr corr_rep    T0       T20      T1H      T4H       T24H    \n",
       "1 chr10   -0.57175609 1.140669 0.000000 1.391779 1.0327093 0.000000\n",
       "2 chr10            NA 0.000000 0.000000 0.000000 1.1305003 0.000000\n",
       "3 chr10            NA 1.310104 0.000000 0.000000 0.0000000 0.000000\n",
       "4 chr10   -0.07292586 3.882884 2.921624 1.690418 2.9919739 0.000000\n",
       "5 chr10   -0.33333333 0.000000 1.017335 0.000000 0.7708398 1.930548\n",
       "6 chr10    0.61479564 3.445871 3.466919 2.956566 3.0261252 3.438559"
      ]
     },
     "metadata": {},
     "output_type": "display_data"
    }
   ],
   "source": [
    "head(chic_data)"
   ]
  },
  {
   "cell_type": "code",
   "execution_count": 40,
   "metadata": {},
   "outputs": [],
   "source": [
    "chic_gene_mergedbyENSG <- merge(gene_data,chic_data)"
   ]
  },
  {
   "cell_type": "code",
   "execution_count": 42,
   "metadata": {},
   "outputs": [
    {
     "data": {
      "text/html": [
       "<style>\n",
       ".list-inline {list-style: none; margin:0; padding: 0}\n",
       ".list-inline>li {display: inline-block}\n",
       ".list-inline>li:not(:last-child)::after {content: \"\\00b7\"; padding: 0 .5ex}\n",
       "</style>\n",
       "<ol class=list-inline><li>259208</li><li>46</li></ol>\n"
      ],
      "text/latex": [
       "\\begin{enumerate*}\n",
       "\\item 259208\n",
       "\\item 46\n",
       "\\end{enumerate*}\n"
      ],
      "text/markdown": [
       "1. 259208\n",
       "2. 46\n",
       "\n",
       "\n"
      ],
      "text/plain": [
       "[1] 259208     46"
      ]
     },
     "metadata": {},
     "output_type": "display_data"
    }
   ],
   "source": [
    "dim(chic_gene_mergedbyENSG)"
   ]
  },
  {
   "cell_type": "code",
   "execution_count": 43,
   "metadata": {},
   "outputs": [
    {
     "data": {
      "text/html": [
       "<style>\n",
       ".list-inline {list-style: none; margin:0; padding: 0}\n",
       ".list-inline>li {display: inline-block}\n",
       ".list-inline>li:not(:last-child)::after {content: \"\\00b7\"; padding: 0 .5ex}\n",
       "</style>\n",
       "<ol class=list-inline><li>'ENSG'</li><li>'ENSGchr'</li><li>'ENSGstart'</li><li>'ENSGend'</li><li>'ET01'</li><li>'ET201'</li><li>'ET601'</li><li>'ET2H1'</li><li>'ET4H1'</li><li>'ET24H1'</li><li>'ET02'</li><li>'ET202'</li><li>'ET602'</li><li>'ET2H2'</li><li>'ET4H2'</li><li>'ET24H2'</li><li>'GeneName'</li><li>'ET0_a'</li><li>'ET20_a'</li><li>'ET1H_a'</li><li>'ET2H_a'</li><li>'ET4H_a'</li><li>'ET24H_a'</li><li>'baitID'</li><li>'baitstart'</li><li>'baitend'</li><li>'otherEndID'</li><li>'otherEndchr'</li><li>'otherEndstart'</li><li>'otherEndend'</li><li>'T01'</li><li>'T02'</li><li>'T201'</li><li>'T202'</li><li>'T1H1'</li><li>'T1H2'</li><li>'T4H1'</li><li>'T4H2'</li><li>'T24H1'</li><li>'baitchr'</li><li>'corr_rep'</li><li>'T0'</li><li>'T20'</li><li>'T1H'</li><li>'T4H'</li><li>'T24H'</li></ol>\n"
      ],
      "text/latex": [
       "\\begin{enumerate*}\n",
       "\\item 'ENSG'\n",
       "\\item 'ENSGchr'\n",
       "\\item 'ENSGstart'\n",
       "\\item 'ENSGend'\n",
       "\\item 'ET01'\n",
       "\\item 'ET201'\n",
       "\\item 'ET601'\n",
       "\\item 'ET2H1'\n",
       "\\item 'ET4H1'\n",
       "\\item 'ET24H1'\n",
       "\\item 'ET02'\n",
       "\\item 'ET202'\n",
       "\\item 'ET602'\n",
       "\\item 'ET2H2'\n",
       "\\item 'ET4H2'\n",
       "\\item 'ET24H2'\n",
       "\\item 'GeneName'\n",
       "\\item 'ET0\\_a'\n",
       "\\item 'ET20\\_a'\n",
       "\\item 'ET1H\\_a'\n",
       "\\item 'ET2H\\_a'\n",
       "\\item 'ET4H\\_a'\n",
       "\\item 'ET24H\\_a'\n",
       "\\item 'baitID'\n",
       "\\item 'baitstart'\n",
       "\\item 'baitend'\n",
       "\\item 'otherEndID'\n",
       "\\item 'otherEndchr'\n",
       "\\item 'otherEndstart'\n",
       "\\item 'otherEndend'\n",
       "\\item 'T01'\n",
       "\\item 'T02'\n",
       "\\item 'T201'\n",
       "\\item 'T202'\n",
       "\\item 'T1H1'\n",
       "\\item 'T1H2'\n",
       "\\item 'T4H1'\n",
       "\\item 'T4H2'\n",
       "\\item 'T24H1'\n",
       "\\item 'baitchr'\n",
       "\\item 'corr\\_rep'\n",
       "\\item 'T0'\n",
       "\\item 'T20'\n",
       "\\item 'T1H'\n",
       "\\item 'T4H'\n",
       "\\item 'T24H'\n",
       "\\end{enumerate*}\n"
      ],
      "text/markdown": [
       "1. 'ENSG'\n",
       "2. 'ENSGchr'\n",
       "3. 'ENSGstart'\n",
       "4. 'ENSGend'\n",
       "5. 'ET01'\n",
       "6. 'ET201'\n",
       "7. 'ET601'\n",
       "8. 'ET2H1'\n",
       "9. 'ET4H1'\n",
       "10. 'ET24H1'\n",
       "11. 'ET02'\n",
       "12. 'ET202'\n",
       "13. 'ET602'\n",
       "14. 'ET2H2'\n",
       "15. 'ET4H2'\n",
       "16. 'ET24H2'\n",
       "17. 'GeneName'\n",
       "18. 'ET0_a'\n",
       "19. 'ET20_a'\n",
       "20. 'ET1H_a'\n",
       "21. 'ET2H_a'\n",
       "22. 'ET4H_a'\n",
       "23. 'ET24H_a'\n",
       "24. 'baitID'\n",
       "25. 'baitstart'\n",
       "26. 'baitend'\n",
       "27. 'otherEndID'\n",
       "28. 'otherEndchr'\n",
       "29. 'otherEndstart'\n",
       "30. 'otherEndend'\n",
       "31. 'T01'\n",
       "32. 'T02'\n",
       "33. 'T201'\n",
       "34. 'T202'\n",
       "35. 'T1H1'\n",
       "36. 'T1H2'\n",
       "37. 'T4H1'\n",
       "38. 'T4H2'\n",
       "39. 'T24H1'\n",
       "40. 'baitchr'\n",
       "41. 'corr_rep'\n",
       "42. 'T0'\n",
       "43. 'T20'\n",
       "44. 'T1H'\n",
       "45. 'T4H'\n",
       "46. 'T24H'\n",
       "\n",
       "\n"
      ],
      "text/plain": [
       " [1] \"ENSG\"          \"ENSGchr\"       \"ENSGstart\"     \"ENSGend\"      \n",
       " [5] \"ET01\"          \"ET201\"         \"ET601\"         \"ET2H1\"        \n",
       " [9] \"ET4H1\"         \"ET24H1\"        \"ET02\"          \"ET202\"        \n",
       "[13] \"ET602\"         \"ET2H2\"         \"ET4H2\"         \"ET24H2\"       \n",
       "[17] \"GeneName\"      \"ET0_a\"         \"ET20_a\"        \"ET1H_a\"       \n",
       "[21] \"ET2H_a\"        \"ET4H_a\"        \"ET24H_a\"       \"baitID\"       \n",
       "[25] \"baitstart\"     \"baitend\"       \"otherEndID\"    \"otherEndchr\"  \n",
       "[29] \"otherEndstart\" \"otherEndend\"   \"T01\"           \"T02\"          \n",
       "[33] \"T201\"          \"T202\"          \"T1H1\"          \"T1H2\"         \n",
       "[37] \"T4H1\"          \"T4H2\"          \"T24H1\"         \"baitchr\"      \n",
       "[41] \"corr_rep\"      \"T0\"            \"T20\"           \"T1H\"          \n",
       "[45] \"T4H\"           \"T24H\"         "
      ]
     },
     "metadata": {},
     "output_type": "display_data"
    }
   ],
   "source": [
    "names(chic_gene_mergedbyENSG)"
   ]
  },
  {
   "cell_type": "markdown",
   "metadata": {},
   "source": [
    "### link ATACSeq to gene replicate"
   ]
  },
  {
   "cell_type": "code",
   "execution_count": 44,
   "metadata": {},
   "outputs": [
    {
     "data": {
      "text/html": [
       "<table>\n",
       "<caption>A data.frame: 6 × 8</caption>\n",
       "<thead>\n",
       "\t<tr><th></th><th scope=col>otherEndID</th><th scope=col>otherEndchr</th><th scope=col>otherEndstart</th><th scope=col>otherEndend</th><th scope=col>ID</th><th scope=col>ATACchr</th><th scope=col>ATACstart</th><th scope=col>ATACend</th></tr>\n",
       "\t<tr><th></th><th scope=col>&lt;int&gt;</th><th scope=col>&lt;fct&gt;</th><th scope=col>&lt;int&gt;</th><th scope=col>&lt;int&gt;</th><th scope=col>&lt;int&gt;</th><th scope=col>&lt;fct&gt;</th><th scope=col>&lt;int&gt;</th><th scope=col>&lt;int&gt;</th></tr>\n",
       "</thead>\n",
       "<tbody>\n",
       "\t<tr><th scope=row>237538</th><td>212</td><td>chr1</td><td> 811328</td><td> 817481</td><td>30072</td><td>chr1</td><td> 817253</td><td> 817413</td></tr>\n",
       "\t<tr><th scope=row>724941</th><td>242</td><td>chr1</td><td> 968260</td><td> 992014</td><td>34539</td><td>chr1</td><td> 975988</td><td> 976499</td></tr>\n",
       "\t<tr><th scope=row>724941.1</th><td>242</td><td>chr1</td><td> 968260</td><td> 992014</td><td>34614</td><td>chr1</td><td> 984284</td><td> 984405</td></tr>\n",
       "\t<tr><th scope=row>724751</th><td>243</td><td>chr1</td><td> 992014</td><td>1001574</td><td>34732</td><td>chr1</td><td> 999291</td><td> 999403</td></tr>\n",
       "\t<tr><th scope=row>724751.1</th><td>243</td><td>chr1</td><td> 992014</td><td>1001574</td><td>34739</td><td>chr1</td><td> 999952</td><td>1000663</td></tr>\n",
       "\t<tr><th scope=row>724911</th><td>246</td><td>chr1</td><td>1008296</td><td>1021819</td><td> 3724</td><td>chr1</td><td>1012932</td><td>1014523</td></tr>\n",
       "</tbody>\n",
       "</table>\n"
      ],
      "text/latex": [
       "A data.frame: 6 × 8\n",
       "\\begin{tabular}{r|llllllll}\n",
       "  & otherEndID & otherEndchr & otherEndstart & otherEndend & ID & ATACchr & ATACstart & ATACend\\\\\n",
       "  & <int> & <fct> & <int> & <int> & <int> & <fct> & <int> & <int>\\\\\n",
       "\\hline\n",
       "\t237538 & 212 & chr1 &  811328 &  817481 & 30072 & chr1 &  817253 &  817413\\\\\n",
       "\t724941 & 242 & chr1 &  968260 &  992014 & 34539 & chr1 &  975988 &  976499\\\\\n",
       "\t724941.1 & 242 & chr1 &  968260 &  992014 & 34614 & chr1 &  984284 &  984405\\\\\n",
       "\t724751 & 243 & chr1 &  992014 & 1001574 & 34732 & chr1 &  999291 &  999403\\\\\n",
       "\t724751.1 & 243 & chr1 &  992014 & 1001574 & 34739 & chr1 &  999952 & 1000663\\\\\n",
       "\t724911 & 246 & chr1 & 1008296 & 1021819 &  3724 & chr1 & 1012932 & 1014523\\\\\n",
       "\\end{tabular}\n"
      ],
      "text/markdown": [
       "\n",
       "A data.frame: 6 × 8\n",
       "\n",
       "| <!--/--> | otherEndID &lt;int&gt; | otherEndchr &lt;fct&gt; | otherEndstart &lt;int&gt; | otherEndend &lt;int&gt; | ID &lt;int&gt; | ATACchr &lt;fct&gt; | ATACstart &lt;int&gt; | ATACend &lt;int&gt; |\n",
       "|---|---|---|---|---|---|---|---|---|\n",
       "| 237538 | 212 | chr1 |  811328 |  817481 | 30072 | chr1 |  817253 |  817413 |\n",
       "| 724941 | 242 | chr1 |  968260 |  992014 | 34539 | chr1 |  975988 |  976499 |\n",
       "| 724941.1 | 242 | chr1 |  968260 |  992014 | 34614 | chr1 |  984284 |  984405 |\n",
       "| 724751 | 243 | chr1 |  992014 | 1001574 | 34732 | chr1 |  999291 |  999403 |\n",
       "| 724751.1 | 243 | chr1 |  992014 | 1001574 | 34739 | chr1 |  999952 | 1000663 |\n",
       "| 724911 | 246 | chr1 | 1008296 | 1021819 |  3724 | chr1 | 1012932 | 1014523 |\n",
       "\n"
      ],
      "text/plain": [
       "         otherEndID otherEndchr otherEndstart otherEndend ID    ATACchr\n",
       "237538   212        chr1         811328        817481     30072 chr1   \n",
       "724941   242        chr1         968260        992014     34539 chr1   \n",
       "724941.1 242        chr1         968260        992014     34614 chr1   \n",
       "724751   243        chr1         992014       1001574     34732 chr1   \n",
       "724751.1 243        chr1         992014       1001574     34739 chr1   \n",
       "724911   246        chr1        1008296       1021819      3724 chr1   \n",
       "         ATACstart ATACend\n",
       "237538    817253    817413\n",
       "724941    975988    976499\n",
       "724941.1  984284    984405\n",
       "724751    999291    999403\n",
       "724751.1  999952   1000663\n",
       "724911   1012932   1014523"
      ]
     },
     "metadata": {},
     "output_type": "display_data"
    },
    {
     "data": {
      "text/html": [
       "<table>\n",
       "<caption>A data.frame: 6 × 46</caption>\n",
       "<thead>\n",
       "\t<tr><th></th><th scope=col>ENSG</th><th scope=col>ENSGchr</th><th scope=col>ENSGstart</th><th scope=col>ENSGend</th><th scope=col>ET01</th><th scope=col>ET201</th><th scope=col>ET601</th><th scope=col>ET2H1</th><th scope=col>ET4H1</th><th scope=col>ET24H1</th><th scope=col>⋯</th><th scope=col>T4H1</th><th scope=col>T4H2</th><th scope=col>T24H1</th><th scope=col>baitchr</th><th scope=col>corr_rep</th><th scope=col>T0</th><th scope=col>T20</th><th scope=col>T1H</th><th scope=col>T4H</th><th scope=col>T24H</th></tr>\n",
       "\t<tr><th></th><th scope=col>&lt;fct&gt;</th><th scope=col>&lt;fct&gt;</th><th scope=col>&lt;int&gt;</th><th scope=col>&lt;int&gt;</th><th scope=col>&lt;dbl&gt;</th><th scope=col>&lt;dbl&gt;</th><th scope=col>&lt;dbl&gt;</th><th scope=col>&lt;dbl&gt;</th><th scope=col>&lt;dbl&gt;</th><th scope=col>&lt;dbl&gt;</th><th scope=col>⋯</th><th scope=col>&lt;dbl&gt;</th><th scope=col>&lt;dbl&gt;</th><th scope=col>&lt;dbl&gt;</th><th scope=col>&lt;fct&gt;</th><th scope=col>&lt;dbl&gt;</th><th scope=col>&lt;dbl&gt;</th><th scope=col>&lt;dbl&gt;</th><th scope=col>&lt;dbl&gt;</th><th scope=col>&lt;dbl&gt;</th><th scope=col>&lt;dbl&gt;</th></tr>\n",
       "</thead>\n",
       "<tbody>\n",
       "\t<tr><th scope=row>1</th><td>ENSG00000001084</td><td>chr6</td><td>53497341</td><td>53616970</td><td>9.089916</td><td>9.237243</td><td>9.0537</td><td>8.633409</td><td>9.227341</td><td>9.696194</td><td>⋯</td><td>0.000000</td><td>0.000000</td><td>1.266637</td><td>chr6</td><td>        NA</td><td>0.000000</td><td>0.000000</td><td>0.000000</td><td>0.000000</td><td>1.266637</td></tr>\n",
       "\t<tr><th scope=row>2</th><td>ENSG00000001084</td><td>chr6</td><td>53497341</td><td>53616970</td><td>9.089916</td><td>9.237243</td><td>9.0537</td><td>8.633409</td><td>9.227341</td><td>9.696194</td><td>⋯</td><td>4.375070</td><td>4.175490</td><td>4.863939</td><td>chr6</td><td> 0.7445711</td><td>3.858361</td><td>3.722884</td><td>4.446843</td><td>4.275280</td><td>4.863939</td></tr>\n",
       "\t<tr><th scope=row>3</th><td>ENSG00000001084</td><td>chr6</td><td>53497341</td><td>53616970</td><td>9.089916</td><td>9.237243</td><td>9.0537</td><td>8.633409</td><td>9.227341</td><td>9.696194</td><td>⋯</td><td>5.119641</td><td>4.970205</td><td>4.964815</td><td>chr6</td><td>-0.9443833</td><td>5.079635</td><td>4.912067</td><td>5.132516</td><td>5.044923</td><td>4.964815</td></tr>\n",
       "\t<tr><th scope=row>4</th><td>ENSG00000001084</td><td>chr6</td><td>53497341</td><td>53616970</td><td>9.089916</td><td>9.237243</td><td>9.0537</td><td>8.633409</td><td>9.227341</td><td>9.696194</td><td>⋯</td><td>4.951598</td><td>4.832939</td><td>5.408610</td><td>chr6</td><td> 0.7553095</td><td>4.832475</td><td>5.588350</td><td>5.245855</td><td>4.892268</td><td>5.408610</td></tr>\n",
       "\t<tr><th scope=row>5</th><td>ENSG00000001084</td><td>chr6</td><td>53497341</td><td>53616970</td><td>9.089916</td><td>9.237243</td><td>9.0537</td><td>8.633409</td><td>9.227341</td><td>9.696194</td><td>⋯</td><td>2.751463</td><td>2.521440</td><td>3.005400</td><td>chr6</td><td> 0.9927271</td><td>3.043141</td><td>3.013895</td><td>3.521647</td><td>2.636451</td><td>3.005400</td></tr>\n",
       "\t<tr><th scope=row>6</th><td>ENSG00000001084</td><td>chr6</td><td>53497341</td><td>53616970</td><td>9.089916</td><td>9.237243</td><td>9.0537</td><td>8.633409</td><td>9.227341</td><td>9.696194</td><td>⋯</td><td>0.000000</td><td>0.000000</td><td>0.000000</td><td>chr6</td><td>        NA</td><td>0.000000</td><td>0.000000</td><td>1.088724</td><td>0.000000</td><td>0.000000</td></tr>\n",
       "</tbody>\n",
       "</table>\n"
      ],
      "text/latex": [
       "A data.frame: 6 × 46\n",
       "\\begin{tabular}{r|lllllllllllllllllllll}\n",
       "  & ENSG & ENSGchr & ENSGstart & ENSGend & ET01 & ET201 & ET601 & ET2H1 & ET4H1 & ET24H1 & ⋯ & T4H1 & T4H2 & T24H1 & baitchr & corr\\_rep & T0 & T20 & T1H & T4H & T24H\\\\\n",
       "  & <fct> & <fct> & <int> & <int> & <dbl> & <dbl> & <dbl> & <dbl> & <dbl> & <dbl> & ⋯ & <dbl> & <dbl> & <dbl> & <fct> & <dbl> & <dbl> & <dbl> & <dbl> & <dbl> & <dbl>\\\\\n",
       "\\hline\n",
       "\t1 & ENSG00000001084 & chr6 & 53497341 & 53616970 & 9.089916 & 9.237243 & 9.0537 & 8.633409 & 9.227341 & 9.696194 & ⋯ & 0.000000 & 0.000000 & 1.266637 & chr6 &         NA & 0.000000 & 0.000000 & 0.000000 & 0.000000 & 1.266637\\\\\n",
       "\t2 & ENSG00000001084 & chr6 & 53497341 & 53616970 & 9.089916 & 9.237243 & 9.0537 & 8.633409 & 9.227341 & 9.696194 & ⋯ & 4.375070 & 4.175490 & 4.863939 & chr6 &  0.7445711 & 3.858361 & 3.722884 & 4.446843 & 4.275280 & 4.863939\\\\\n",
       "\t3 & ENSG00000001084 & chr6 & 53497341 & 53616970 & 9.089916 & 9.237243 & 9.0537 & 8.633409 & 9.227341 & 9.696194 & ⋯ & 5.119641 & 4.970205 & 4.964815 & chr6 & -0.9443833 & 5.079635 & 4.912067 & 5.132516 & 5.044923 & 4.964815\\\\\n",
       "\t4 & ENSG00000001084 & chr6 & 53497341 & 53616970 & 9.089916 & 9.237243 & 9.0537 & 8.633409 & 9.227341 & 9.696194 & ⋯ & 4.951598 & 4.832939 & 5.408610 & chr6 &  0.7553095 & 4.832475 & 5.588350 & 5.245855 & 4.892268 & 5.408610\\\\\n",
       "\t5 & ENSG00000001084 & chr6 & 53497341 & 53616970 & 9.089916 & 9.237243 & 9.0537 & 8.633409 & 9.227341 & 9.696194 & ⋯ & 2.751463 & 2.521440 & 3.005400 & chr6 &  0.9927271 & 3.043141 & 3.013895 & 3.521647 & 2.636451 & 3.005400\\\\\n",
       "\t6 & ENSG00000001084 & chr6 & 53497341 & 53616970 & 9.089916 & 9.237243 & 9.0537 & 8.633409 & 9.227341 & 9.696194 & ⋯ & 0.000000 & 0.000000 & 0.000000 & chr6 &         NA & 0.000000 & 0.000000 & 1.088724 & 0.000000 & 0.000000\\\\\n",
       "\\end{tabular}\n"
      ],
      "text/markdown": [
       "\n",
       "A data.frame: 6 × 46\n",
       "\n",
       "| <!--/--> | ENSG &lt;fct&gt; | ENSGchr &lt;fct&gt; | ENSGstart &lt;int&gt; | ENSGend &lt;int&gt; | ET01 &lt;dbl&gt; | ET201 &lt;dbl&gt; | ET601 &lt;dbl&gt; | ET2H1 &lt;dbl&gt; | ET4H1 &lt;dbl&gt; | ET24H1 &lt;dbl&gt; | ⋯ ⋯ | T4H1 &lt;dbl&gt; | T4H2 &lt;dbl&gt; | T24H1 &lt;dbl&gt; | baitchr &lt;fct&gt; | corr_rep &lt;dbl&gt; | T0 &lt;dbl&gt; | T20 &lt;dbl&gt; | T1H &lt;dbl&gt; | T4H &lt;dbl&gt; | T24H &lt;dbl&gt; |\n",
       "|---|---|---|---|---|---|---|---|---|---|---|---|---|---|---|---|---|---|---|---|---|---|\n",
       "| 1 | ENSG00000001084 | chr6 | 53497341 | 53616970 | 9.089916 | 9.237243 | 9.0537 | 8.633409 | 9.227341 | 9.696194 | ⋯ | 0.000000 | 0.000000 | 1.266637 | chr6 |         NA | 0.000000 | 0.000000 | 0.000000 | 0.000000 | 1.266637 |\n",
       "| 2 | ENSG00000001084 | chr6 | 53497341 | 53616970 | 9.089916 | 9.237243 | 9.0537 | 8.633409 | 9.227341 | 9.696194 | ⋯ | 4.375070 | 4.175490 | 4.863939 | chr6 |  0.7445711 | 3.858361 | 3.722884 | 4.446843 | 4.275280 | 4.863939 |\n",
       "| 3 | ENSG00000001084 | chr6 | 53497341 | 53616970 | 9.089916 | 9.237243 | 9.0537 | 8.633409 | 9.227341 | 9.696194 | ⋯ | 5.119641 | 4.970205 | 4.964815 | chr6 | -0.9443833 | 5.079635 | 4.912067 | 5.132516 | 5.044923 | 4.964815 |\n",
       "| 4 | ENSG00000001084 | chr6 | 53497341 | 53616970 | 9.089916 | 9.237243 | 9.0537 | 8.633409 | 9.227341 | 9.696194 | ⋯ | 4.951598 | 4.832939 | 5.408610 | chr6 |  0.7553095 | 4.832475 | 5.588350 | 5.245855 | 4.892268 | 5.408610 |\n",
       "| 5 | ENSG00000001084 | chr6 | 53497341 | 53616970 | 9.089916 | 9.237243 | 9.0537 | 8.633409 | 9.227341 | 9.696194 | ⋯ | 2.751463 | 2.521440 | 3.005400 | chr6 |  0.9927271 | 3.043141 | 3.013895 | 3.521647 | 2.636451 | 3.005400 |\n",
       "| 6 | ENSG00000001084 | chr6 | 53497341 | 53616970 | 9.089916 | 9.237243 | 9.0537 | 8.633409 | 9.227341 | 9.696194 | ⋯ | 0.000000 | 0.000000 | 0.000000 | chr6 |         NA | 0.000000 | 0.000000 | 1.088724 | 0.000000 | 0.000000 |\n",
       "\n"
      ],
      "text/plain": [
       "  ENSG            ENSGchr ENSGstart ENSGend  ET01     ET201    ET601  ET2H1   \n",
       "1 ENSG00000001084 chr6    53497341  53616970 9.089916 9.237243 9.0537 8.633409\n",
       "2 ENSG00000001084 chr6    53497341  53616970 9.089916 9.237243 9.0537 8.633409\n",
       "3 ENSG00000001084 chr6    53497341  53616970 9.089916 9.237243 9.0537 8.633409\n",
       "4 ENSG00000001084 chr6    53497341  53616970 9.089916 9.237243 9.0537 8.633409\n",
       "5 ENSG00000001084 chr6    53497341  53616970 9.089916 9.237243 9.0537 8.633409\n",
       "6 ENSG00000001084 chr6    53497341  53616970 9.089916 9.237243 9.0537 8.633409\n",
       "  ET4H1    ET24H1   ⋯ T4H1     T4H2     T24H1    baitchr corr_rep   T0      \n",
       "1 9.227341 9.696194 ⋯ 0.000000 0.000000 1.266637 chr6            NA 0.000000\n",
       "2 9.227341 9.696194 ⋯ 4.375070 4.175490 4.863939 chr6     0.7445711 3.858361\n",
       "3 9.227341 9.696194 ⋯ 5.119641 4.970205 4.964815 chr6    -0.9443833 5.079635\n",
       "4 9.227341 9.696194 ⋯ 4.951598 4.832939 5.408610 chr6     0.7553095 4.832475\n",
       "5 9.227341 9.696194 ⋯ 2.751463 2.521440 3.005400 chr6     0.9927271 3.043141\n",
       "6 9.227341 9.696194 ⋯ 0.000000 0.000000 0.000000 chr6            NA 0.000000\n",
       "  T20      T1H      T4H      T24H    \n",
       "1 0.000000 0.000000 0.000000 1.266637\n",
       "2 3.722884 4.446843 4.275280 4.863939\n",
       "3 4.912067 5.132516 5.044923 4.964815\n",
       "4 5.588350 5.245855 4.892268 5.408610\n",
       "5 3.013895 3.521647 2.636451 3.005400\n",
       "6 0.000000 1.088724 0.000000 0.000000"
      ]
     },
     "metadata": {},
     "output_type": "display_data"
    }
   ],
   "source": [
    "head(tmp_otherEnd_atacseq_picked)\n",
    "head(chic_gene_mergedbyENSG)"
   ]
  },
  {
   "cell_type": "code",
   "execution_count": 45,
   "metadata": {},
   "outputs": [
    {
     "data": {
      "text/html": [
       "<table>\n",
       "<caption>A data.frame: 6 × 46</caption>\n",
       "<thead>\n",
       "\t<tr><th></th><th scope=col>ENSG</th><th scope=col>ENSGchr</th><th scope=col>ENSGstart</th><th scope=col>ENSGend</th><th scope=col>ET01</th><th scope=col>ET201</th><th scope=col>ET601</th><th scope=col>ET2H1</th><th scope=col>ET4H1</th><th scope=col>ET24H1</th><th scope=col>⋯</th><th scope=col>T4H1</th><th scope=col>T4H2</th><th scope=col>T24H1</th><th scope=col>baitchr</th><th scope=col>corr_rep</th><th scope=col>T0</th><th scope=col>T20</th><th scope=col>T1H</th><th scope=col>T4H</th><th scope=col>T24H</th></tr>\n",
       "\t<tr><th></th><th scope=col>&lt;fct&gt;</th><th scope=col>&lt;fct&gt;</th><th scope=col>&lt;int&gt;</th><th scope=col>&lt;int&gt;</th><th scope=col>&lt;dbl&gt;</th><th scope=col>&lt;dbl&gt;</th><th scope=col>&lt;dbl&gt;</th><th scope=col>&lt;dbl&gt;</th><th scope=col>&lt;dbl&gt;</th><th scope=col>&lt;dbl&gt;</th><th scope=col>⋯</th><th scope=col>&lt;dbl&gt;</th><th scope=col>&lt;dbl&gt;</th><th scope=col>&lt;dbl&gt;</th><th scope=col>&lt;fct&gt;</th><th scope=col>&lt;dbl&gt;</th><th scope=col>&lt;dbl&gt;</th><th scope=col>&lt;dbl&gt;</th><th scope=col>&lt;dbl&gt;</th><th scope=col>&lt;dbl&gt;</th><th scope=col>&lt;dbl&gt;</th></tr>\n",
       "</thead>\n",
       "<tbody>\n",
       "\t<tr><th scope=row>1</th><td>ENSG00000001084</td><td>chr6</td><td>53497341</td><td>53616970</td><td>9.089916</td><td>9.237243</td><td>9.0537</td><td>8.633409</td><td>9.227341</td><td>9.696194</td><td>⋯</td><td>0.000000</td><td>0.000000</td><td>1.266637</td><td>chr6</td><td>        NA</td><td>0.000000</td><td>0.000000</td><td>0.000000</td><td>0.000000</td><td>1.266637</td></tr>\n",
       "\t<tr><th scope=row>2</th><td>ENSG00000001084</td><td>chr6</td><td>53497341</td><td>53616970</td><td>9.089916</td><td>9.237243</td><td>9.0537</td><td>8.633409</td><td>9.227341</td><td>9.696194</td><td>⋯</td><td>4.375070</td><td>4.175490</td><td>4.863939</td><td>chr6</td><td> 0.7445711</td><td>3.858361</td><td>3.722884</td><td>4.446843</td><td>4.275280</td><td>4.863939</td></tr>\n",
       "\t<tr><th scope=row>3</th><td>ENSG00000001084</td><td>chr6</td><td>53497341</td><td>53616970</td><td>9.089916</td><td>9.237243</td><td>9.0537</td><td>8.633409</td><td>9.227341</td><td>9.696194</td><td>⋯</td><td>5.119641</td><td>4.970205</td><td>4.964815</td><td>chr6</td><td>-0.9443833</td><td>5.079635</td><td>4.912067</td><td>5.132516</td><td>5.044923</td><td>4.964815</td></tr>\n",
       "\t<tr><th scope=row>4</th><td>ENSG00000001084</td><td>chr6</td><td>53497341</td><td>53616970</td><td>9.089916</td><td>9.237243</td><td>9.0537</td><td>8.633409</td><td>9.227341</td><td>9.696194</td><td>⋯</td><td>4.951598</td><td>4.832939</td><td>5.408610</td><td>chr6</td><td> 0.7553095</td><td>4.832475</td><td>5.588350</td><td>5.245855</td><td>4.892268</td><td>5.408610</td></tr>\n",
       "\t<tr><th scope=row>5</th><td>ENSG00000001084</td><td>chr6</td><td>53497341</td><td>53616970</td><td>9.089916</td><td>9.237243</td><td>9.0537</td><td>8.633409</td><td>9.227341</td><td>9.696194</td><td>⋯</td><td>2.751463</td><td>2.521440</td><td>3.005400</td><td>chr6</td><td> 0.9927271</td><td>3.043141</td><td>3.013895</td><td>3.521647</td><td>2.636451</td><td>3.005400</td></tr>\n",
       "\t<tr><th scope=row>6</th><td>ENSG00000001084</td><td>chr6</td><td>53497341</td><td>53616970</td><td>9.089916</td><td>9.237243</td><td>9.0537</td><td>8.633409</td><td>9.227341</td><td>9.696194</td><td>⋯</td><td>0.000000</td><td>0.000000</td><td>0.000000</td><td>chr6</td><td>        NA</td><td>0.000000</td><td>0.000000</td><td>1.088724</td><td>0.000000</td><td>0.000000</td></tr>\n",
       "</tbody>\n",
       "</table>\n"
      ],
      "text/latex": [
       "A data.frame: 6 × 46\n",
       "\\begin{tabular}{r|lllllllllllllllllllll}\n",
       "  & ENSG & ENSGchr & ENSGstart & ENSGend & ET01 & ET201 & ET601 & ET2H1 & ET4H1 & ET24H1 & ⋯ & T4H1 & T4H2 & T24H1 & baitchr & corr\\_rep & T0 & T20 & T1H & T4H & T24H\\\\\n",
       "  & <fct> & <fct> & <int> & <int> & <dbl> & <dbl> & <dbl> & <dbl> & <dbl> & <dbl> & ⋯ & <dbl> & <dbl> & <dbl> & <fct> & <dbl> & <dbl> & <dbl> & <dbl> & <dbl> & <dbl>\\\\\n",
       "\\hline\n",
       "\t1 & ENSG00000001084 & chr6 & 53497341 & 53616970 & 9.089916 & 9.237243 & 9.0537 & 8.633409 & 9.227341 & 9.696194 & ⋯ & 0.000000 & 0.000000 & 1.266637 & chr6 &         NA & 0.000000 & 0.000000 & 0.000000 & 0.000000 & 1.266637\\\\\n",
       "\t2 & ENSG00000001084 & chr6 & 53497341 & 53616970 & 9.089916 & 9.237243 & 9.0537 & 8.633409 & 9.227341 & 9.696194 & ⋯ & 4.375070 & 4.175490 & 4.863939 & chr6 &  0.7445711 & 3.858361 & 3.722884 & 4.446843 & 4.275280 & 4.863939\\\\\n",
       "\t3 & ENSG00000001084 & chr6 & 53497341 & 53616970 & 9.089916 & 9.237243 & 9.0537 & 8.633409 & 9.227341 & 9.696194 & ⋯ & 5.119641 & 4.970205 & 4.964815 & chr6 & -0.9443833 & 5.079635 & 4.912067 & 5.132516 & 5.044923 & 4.964815\\\\\n",
       "\t4 & ENSG00000001084 & chr6 & 53497341 & 53616970 & 9.089916 & 9.237243 & 9.0537 & 8.633409 & 9.227341 & 9.696194 & ⋯ & 4.951598 & 4.832939 & 5.408610 & chr6 &  0.7553095 & 4.832475 & 5.588350 & 5.245855 & 4.892268 & 5.408610\\\\\n",
       "\t5 & ENSG00000001084 & chr6 & 53497341 & 53616970 & 9.089916 & 9.237243 & 9.0537 & 8.633409 & 9.227341 & 9.696194 & ⋯ & 2.751463 & 2.521440 & 3.005400 & chr6 &  0.9927271 & 3.043141 & 3.013895 & 3.521647 & 2.636451 & 3.005400\\\\\n",
       "\t6 & ENSG00000001084 & chr6 & 53497341 & 53616970 & 9.089916 & 9.237243 & 9.0537 & 8.633409 & 9.227341 & 9.696194 & ⋯ & 0.000000 & 0.000000 & 0.000000 & chr6 &         NA & 0.000000 & 0.000000 & 1.088724 & 0.000000 & 0.000000\\\\\n",
       "\\end{tabular}\n"
      ],
      "text/markdown": [
       "\n",
       "A data.frame: 6 × 46\n",
       "\n",
       "| <!--/--> | ENSG &lt;fct&gt; | ENSGchr &lt;fct&gt; | ENSGstart &lt;int&gt; | ENSGend &lt;int&gt; | ET01 &lt;dbl&gt; | ET201 &lt;dbl&gt; | ET601 &lt;dbl&gt; | ET2H1 &lt;dbl&gt; | ET4H1 &lt;dbl&gt; | ET24H1 &lt;dbl&gt; | ⋯ ⋯ | T4H1 &lt;dbl&gt; | T4H2 &lt;dbl&gt; | T24H1 &lt;dbl&gt; | baitchr &lt;fct&gt; | corr_rep &lt;dbl&gt; | T0 &lt;dbl&gt; | T20 &lt;dbl&gt; | T1H &lt;dbl&gt; | T4H &lt;dbl&gt; | T24H &lt;dbl&gt; |\n",
       "|---|---|---|---|---|---|---|---|---|---|---|---|---|---|---|---|---|---|---|---|---|---|\n",
       "| 1 | ENSG00000001084 | chr6 | 53497341 | 53616970 | 9.089916 | 9.237243 | 9.0537 | 8.633409 | 9.227341 | 9.696194 | ⋯ | 0.000000 | 0.000000 | 1.266637 | chr6 |         NA | 0.000000 | 0.000000 | 0.000000 | 0.000000 | 1.266637 |\n",
       "| 2 | ENSG00000001084 | chr6 | 53497341 | 53616970 | 9.089916 | 9.237243 | 9.0537 | 8.633409 | 9.227341 | 9.696194 | ⋯ | 4.375070 | 4.175490 | 4.863939 | chr6 |  0.7445711 | 3.858361 | 3.722884 | 4.446843 | 4.275280 | 4.863939 |\n",
       "| 3 | ENSG00000001084 | chr6 | 53497341 | 53616970 | 9.089916 | 9.237243 | 9.0537 | 8.633409 | 9.227341 | 9.696194 | ⋯ | 5.119641 | 4.970205 | 4.964815 | chr6 | -0.9443833 | 5.079635 | 4.912067 | 5.132516 | 5.044923 | 4.964815 |\n",
       "| 4 | ENSG00000001084 | chr6 | 53497341 | 53616970 | 9.089916 | 9.237243 | 9.0537 | 8.633409 | 9.227341 | 9.696194 | ⋯ | 4.951598 | 4.832939 | 5.408610 | chr6 |  0.7553095 | 4.832475 | 5.588350 | 5.245855 | 4.892268 | 5.408610 |\n",
       "| 5 | ENSG00000001084 | chr6 | 53497341 | 53616970 | 9.089916 | 9.237243 | 9.0537 | 8.633409 | 9.227341 | 9.696194 | ⋯ | 2.751463 | 2.521440 | 3.005400 | chr6 |  0.9927271 | 3.043141 | 3.013895 | 3.521647 | 2.636451 | 3.005400 |\n",
       "| 6 | ENSG00000001084 | chr6 | 53497341 | 53616970 | 9.089916 | 9.237243 | 9.0537 | 8.633409 | 9.227341 | 9.696194 | ⋯ | 0.000000 | 0.000000 | 0.000000 | chr6 |         NA | 0.000000 | 0.000000 | 1.088724 | 0.000000 | 0.000000 |\n",
       "\n"
      ],
      "text/plain": [
       "  ENSG            ENSGchr ENSGstart ENSGend  ET01     ET201    ET601  ET2H1   \n",
       "1 ENSG00000001084 chr6    53497341  53616970 9.089916 9.237243 9.0537 8.633409\n",
       "2 ENSG00000001084 chr6    53497341  53616970 9.089916 9.237243 9.0537 8.633409\n",
       "3 ENSG00000001084 chr6    53497341  53616970 9.089916 9.237243 9.0537 8.633409\n",
       "4 ENSG00000001084 chr6    53497341  53616970 9.089916 9.237243 9.0537 8.633409\n",
       "5 ENSG00000001084 chr6    53497341  53616970 9.089916 9.237243 9.0537 8.633409\n",
       "6 ENSG00000001084 chr6    53497341  53616970 9.089916 9.237243 9.0537 8.633409\n",
       "  ET4H1    ET24H1   ⋯ T4H1     T4H2     T24H1    baitchr corr_rep   T0      \n",
       "1 9.227341 9.696194 ⋯ 0.000000 0.000000 1.266637 chr6            NA 0.000000\n",
       "2 9.227341 9.696194 ⋯ 4.375070 4.175490 4.863939 chr6     0.7445711 3.858361\n",
       "3 9.227341 9.696194 ⋯ 5.119641 4.970205 4.964815 chr6    -0.9443833 5.079635\n",
       "4 9.227341 9.696194 ⋯ 4.951598 4.832939 5.408610 chr6     0.7553095 4.832475\n",
       "5 9.227341 9.696194 ⋯ 2.751463 2.521440 3.005400 chr6     0.9927271 3.043141\n",
       "6 9.227341 9.696194 ⋯ 0.000000 0.000000 0.000000 chr6            NA 0.000000\n",
       "  T20      T1H      T4H      T24H    \n",
       "1 0.000000 0.000000 0.000000 1.266637\n",
       "2 3.722884 4.446843 4.275280 4.863939\n",
       "3 4.912067 5.132516 5.044923 4.964815\n",
       "4 5.588350 5.245855 4.892268 5.408610\n",
       "5 3.013895 3.521647 2.636451 3.005400\n",
       "6 0.000000 1.088724 0.000000 0.000000"
      ]
     },
     "metadata": {},
     "output_type": "display_data"
    }
   ],
   "source": [
    "head(chic_gene_mergedbyENSG)"
   ]
  },
  {
   "cell_type": "code",
   "execution_count": 46,
   "metadata": {},
   "outputs": [
    {
     "data": {
      "text/html": [
       "<table>\n",
       "<caption>A data.frame: 6 × 8</caption>\n",
       "<thead>\n",
       "\t<tr><th></th><th scope=col>otherEndID</th><th scope=col>otherEndchr</th><th scope=col>otherEndstart</th><th scope=col>otherEndend</th><th scope=col>ID</th><th scope=col>ATACchr</th><th scope=col>ATACstart</th><th scope=col>ATACend</th></tr>\n",
       "\t<tr><th></th><th scope=col>&lt;int&gt;</th><th scope=col>&lt;fct&gt;</th><th scope=col>&lt;int&gt;</th><th scope=col>&lt;int&gt;</th><th scope=col>&lt;int&gt;</th><th scope=col>&lt;fct&gt;</th><th scope=col>&lt;int&gt;</th><th scope=col>&lt;int&gt;</th></tr>\n",
       "</thead>\n",
       "<tbody>\n",
       "\t<tr><th scope=row>237538</th><td>212</td><td>chr1</td><td> 811328</td><td> 817481</td><td>30072</td><td>chr1</td><td> 817253</td><td> 817413</td></tr>\n",
       "\t<tr><th scope=row>724941</th><td>242</td><td>chr1</td><td> 968260</td><td> 992014</td><td>34539</td><td>chr1</td><td> 975988</td><td> 976499</td></tr>\n",
       "\t<tr><th scope=row>724941.1</th><td>242</td><td>chr1</td><td> 968260</td><td> 992014</td><td>34614</td><td>chr1</td><td> 984284</td><td> 984405</td></tr>\n",
       "\t<tr><th scope=row>724751</th><td>243</td><td>chr1</td><td> 992014</td><td>1001574</td><td>34732</td><td>chr1</td><td> 999291</td><td> 999403</td></tr>\n",
       "\t<tr><th scope=row>724751.1</th><td>243</td><td>chr1</td><td> 992014</td><td>1001574</td><td>34739</td><td>chr1</td><td> 999952</td><td>1000663</td></tr>\n",
       "\t<tr><th scope=row>724911</th><td>246</td><td>chr1</td><td>1008296</td><td>1021819</td><td> 3724</td><td>chr1</td><td>1012932</td><td>1014523</td></tr>\n",
       "</tbody>\n",
       "</table>\n"
      ],
      "text/latex": [
       "A data.frame: 6 × 8\n",
       "\\begin{tabular}{r|llllllll}\n",
       "  & otherEndID & otherEndchr & otherEndstart & otherEndend & ID & ATACchr & ATACstart & ATACend\\\\\n",
       "  & <int> & <fct> & <int> & <int> & <int> & <fct> & <int> & <int>\\\\\n",
       "\\hline\n",
       "\t237538 & 212 & chr1 &  811328 &  817481 & 30072 & chr1 &  817253 &  817413\\\\\n",
       "\t724941 & 242 & chr1 &  968260 &  992014 & 34539 & chr1 &  975988 &  976499\\\\\n",
       "\t724941.1 & 242 & chr1 &  968260 &  992014 & 34614 & chr1 &  984284 &  984405\\\\\n",
       "\t724751 & 243 & chr1 &  992014 & 1001574 & 34732 & chr1 &  999291 &  999403\\\\\n",
       "\t724751.1 & 243 & chr1 &  992014 & 1001574 & 34739 & chr1 &  999952 & 1000663\\\\\n",
       "\t724911 & 246 & chr1 & 1008296 & 1021819 &  3724 & chr1 & 1012932 & 1014523\\\\\n",
       "\\end{tabular}\n"
      ],
      "text/markdown": [
       "\n",
       "A data.frame: 6 × 8\n",
       "\n",
       "| <!--/--> | otherEndID &lt;int&gt; | otherEndchr &lt;fct&gt; | otherEndstart &lt;int&gt; | otherEndend &lt;int&gt; | ID &lt;int&gt; | ATACchr &lt;fct&gt; | ATACstart &lt;int&gt; | ATACend &lt;int&gt; |\n",
       "|---|---|---|---|---|---|---|---|---|\n",
       "| 237538 | 212 | chr1 |  811328 |  817481 | 30072 | chr1 |  817253 |  817413 |\n",
       "| 724941 | 242 | chr1 |  968260 |  992014 | 34539 | chr1 |  975988 |  976499 |\n",
       "| 724941.1 | 242 | chr1 |  968260 |  992014 | 34614 | chr1 |  984284 |  984405 |\n",
       "| 724751 | 243 | chr1 |  992014 | 1001574 | 34732 | chr1 |  999291 |  999403 |\n",
       "| 724751.1 | 243 | chr1 |  992014 | 1001574 | 34739 | chr1 |  999952 | 1000663 |\n",
       "| 724911 | 246 | chr1 | 1008296 | 1021819 |  3724 | chr1 | 1012932 | 1014523 |\n",
       "\n"
      ],
      "text/plain": [
       "         otherEndID otherEndchr otherEndstart otherEndend ID    ATACchr\n",
       "237538   212        chr1         811328        817481     30072 chr1   \n",
       "724941   242        chr1         968260        992014     34539 chr1   \n",
       "724941.1 242        chr1         968260        992014     34614 chr1   \n",
       "724751   243        chr1         992014       1001574     34732 chr1   \n",
       "724751.1 243        chr1         992014       1001574     34739 chr1   \n",
       "724911   246        chr1        1008296       1021819      3724 chr1   \n",
       "         ATACstart ATACend\n",
       "237538    817253    817413\n",
       "724941    975988    976499\n",
       "724941.1  984284    984405\n",
       "724751    999291    999403\n",
       "724751.1  999952   1000663\n",
       "724911   1012932   1014523"
      ]
     },
     "metadata": {},
     "output_type": "display_data"
    }
   ],
   "source": [
    "head(tmp_otherEnd_atacseq_picked)"
   ]
  },
  {
   "cell_type": "code",
   "execution_count": 47,
   "metadata": {},
   "outputs": [],
   "source": [
    "\n",
    "atacseq_gene <- unique(merge(merge(tmp_otherEnd_atacseq_picked,chic_gene_mergedbyENSG),atacseq_data))"
   ]
  },
  {
   "cell_type": "code",
   "execution_count": 48,
   "metadata": {},
   "outputs": [
    {
     "data": {
      "text/html": [
       "<style>\n",
       ".list-inline {list-style: none; margin:0; padding: 0}\n",
       ".list-inline>li {display: inline-block}\n",
       ".list-inline>li:not(:last-child)::after {content: \"\\00b7\"; padding: 0 .5ex}\n",
       "</style>\n",
       "<ol class=list-inline><li>76914</li><li>57</li></ol>\n"
      ],
      "text/latex": [
       "\\begin{enumerate*}\n",
       "\\item 76914\n",
       "\\item 57\n",
       "\\end{enumerate*}\n"
      ],
      "text/markdown": [
       "1. 76914\n",
       "2. 57\n",
       "\n",
       "\n"
      ],
      "text/plain": [
       "[1] 76914    57"
      ]
     },
     "metadata": {},
     "output_type": "display_data"
    }
   ],
   "source": [
    "dim(atacseq_gene)"
   ]
  },
  {
   "cell_type": "code",
   "execution_count": 49,
   "metadata": {},
   "outputs": [
    {
     "data": {
      "text/html": [
       "<table>\n",
       "<caption>A data.frame: 6 × 57</caption>\n",
       "<thead>\n",
       "\t<tr><th></th><th scope=col>ATACchr</th><th scope=col>ATACstart</th><th scope=col>ATACend</th><th scope=col>otherEndID</th><th scope=col>otherEndchr</th><th scope=col>otherEndstart</th><th scope=col>otherEndend</th><th scope=col>ID</th><th scope=col>ENSG</th><th scope=col>ENSGchr</th><th scope=col>⋯</th><th scope=col>T1H</th><th scope=col>T4H</th><th scope=col>T24H</th><th scope=col>ATACannotation</th><th scope=col>AT0</th><th scope=col>AT20</th><th scope=col>AT1H</th><th scope=col>AT2H</th><th scope=col>AT4H</th><th scope=col>AT24H</th></tr>\n",
       "\t<tr><th></th><th scope=col>&lt;fct&gt;</th><th scope=col>&lt;int&gt;</th><th scope=col>&lt;int&gt;</th><th scope=col>&lt;int&gt;</th><th scope=col>&lt;fct&gt;</th><th scope=col>&lt;int&gt;</th><th scope=col>&lt;int&gt;</th><th scope=col>&lt;int&gt;</th><th scope=col>&lt;fct&gt;</th><th scope=col>&lt;fct&gt;</th><th scope=col>⋯</th><th scope=col>&lt;dbl&gt;</th><th scope=col>&lt;dbl&gt;</th><th scope=col>&lt;dbl&gt;</th><th scope=col>&lt;fct&gt;</th><th scope=col>&lt;dbl&gt;</th><th scope=col>&lt;dbl&gt;</th><th scope=col>&lt;dbl&gt;</th><th scope=col>&lt;dbl&gt;</th><th scope=col>&lt;dbl&gt;</th><th scope=col>&lt;dbl&gt;</th></tr>\n",
       "</thead>\n",
       "<tbody>\n",
       "\t<tr><th scope=row>1</th><td>chr10</td><td>100168185</td><td>100168481</td><td>94270</td><td>chr10</td><td>100168142</td><td>100171879</td><td> 7</td><td>ENSG00000122873</td><td>chr10</td><td>⋯</td><td>0.000000</td><td>2.004188</td><td>0.000000</td><td>Intron  </td><td>5.185079</td><td>5.386033</td><td>5.549115</td><td>5.081706</td><td>5.133666</td><td>5.469091</td></tr>\n",
       "\t<tr><th scope=row>2</th><td>chr10</td><td>100168185</td><td>100168481</td><td>94270</td><td>chr10</td><td>100168142</td><td>100171879</td><td> 7</td><td>ENSG00000099204</td><td>chr10</td><td>⋯</td><td>0.000000</td><td>0.000000</td><td>1.930548</td><td>Intron  </td><td>5.185079</td><td>5.386033</td><td>5.549115</td><td>5.081706</td><td>5.133666</td><td>5.469091</td></tr>\n",
       "\t<tr><th scope=row>3</th><td>chr10</td><td>100267287</td><td>100268052</td><td>94301</td><td>chr10</td><td>100265170</td><td>100287223</td><td>11</td><td>ENSG00000052749</td><td>chr10</td><td>⋯</td><td>0.000000</td><td>0.000000</td><td>2.174726</td><td>Promoter</td><td>7.772423</td><td>7.507165</td><td>7.616713</td><td>7.874698</td><td>7.849217</td><td>7.668432</td></tr>\n",
       "\t<tr><th scope=row>4</th><td>chr10</td><td>100286005</td><td>100287018</td><td>94301</td><td>chr10</td><td>100265170</td><td>100287223</td><td>12</td><td>ENSG00000052749</td><td>chr10</td><td>⋯</td><td>0.000000</td><td>0.000000</td><td>2.174726</td><td>Promoter</td><td>9.086124</td><td>8.986858</td><td>9.306845</td><td>9.077411</td><td>9.375033</td><td>8.877224</td></tr>\n",
       "\t<tr><th scope=row>5</th><td>chr10</td><td>100481544</td><td>100482916</td><td>94352</td><td>chr10</td><td>100476882</td><td>100482954</td><td>21</td><td>ENSG00000213341</td><td>chr10</td><td>⋯</td><td>2.480503</td><td>1.799894</td><td>1.636451</td><td>3'UTR   </td><td>9.147414</td><td>9.275847</td><td>9.463431</td><td>8.709092</td><td>9.302763</td><td>8.877224</td></tr>\n",
       "\t<tr><th scope=row>6</th><td>chr10</td><td>100508684</td><td>100509527</td><td>94364</td><td>chr10</td><td>100507722</td><td>100518706</td><td>22</td><td>ENSG00000052749</td><td>chr10</td><td>⋯</td><td>0.000000</td><td>0.000000</td><td>2.174726</td><td>Promoter</td><td>8.054279</td><td>8.223312</td><td>8.532925</td><td>7.674360</td><td>8.887220</td><td>8.168356</td></tr>\n",
       "</tbody>\n",
       "</table>\n"
      ],
      "text/latex": [
       "A data.frame: 6 × 57\n",
       "\\begin{tabular}{r|lllllllllllllllllllll}\n",
       "  & ATACchr & ATACstart & ATACend & otherEndID & otherEndchr & otherEndstart & otherEndend & ID & ENSG & ENSGchr & ⋯ & T1H & T4H & T24H & ATACannotation & AT0 & AT20 & AT1H & AT2H & AT4H & AT24H\\\\\n",
       "  & <fct> & <int> & <int> & <int> & <fct> & <int> & <int> & <int> & <fct> & <fct> & ⋯ & <dbl> & <dbl> & <dbl> & <fct> & <dbl> & <dbl> & <dbl> & <dbl> & <dbl> & <dbl>\\\\\n",
       "\\hline\n",
       "\t1 & chr10 & 100168185 & 100168481 & 94270 & chr10 & 100168142 & 100171879 &  7 & ENSG00000122873 & chr10 & ⋯ & 0.000000 & 2.004188 & 0.000000 & Intron   & 5.185079 & 5.386033 & 5.549115 & 5.081706 & 5.133666 & 5.469091\\\\\n",
       "\t2 & chr10 & 100168185 & 100168481 & 94270 & chr10 & 100168142 & 100171879 &  7 & ENSG00000099204 & chr10 & ⋯ & 0.000000 & 0.000000 & 1.930548 & Intron   & 5.185079 & 5.386033 & 5.549115 & 5.081706 & 5.133666 & 5.469091\\\\\n",
       "\t3 & chr10 & 100267287 & 100268052 & 94301 & chr10 & 100265170 & 100287223 & 11 & ENSG00000052749 & chr10 & ⋯ & 0.000000 & 0.000000 & 2.174726 & Promoter & 7.772423 & 7.507165 & 7.616713 & 7.874698 & 7.849217 & 7.668432\\\\\n",
       "\t4 & chr10 & 100286005 & 100287018 & 94301 & chr10 & 100265170 & 100287223 & 12 & ENSG00000052749 & chr10 & ⋯ & 0.000000 & 0.000000 & 2.174726 & Promoter & 9.086124 & 8.986858 & 9.306845 & 9.077411 & 9.375033 & 8.877224\\\\\n",
       "\t5 & chr10 & 100481544 & 100482916 & 94352 & chr10 & 100476882 & 100482954 & 21 & ENSG00000213341 & chr10 & ⋯ & 2.480503 & 1.799894 & 1.636451 & 3'UTR    & 9.147414 & 9.275847 & 9.463431 & 8.709092 & 9.302763 & 8.877224\\\\\n",
       "\t6 & chr10 & 100508684 & 100509527 & 94364 & chr10 & 100507722 & 100518706 & 22 & ENSG00000052749 & chr10 & ⋯ & 0.000000 & 0.000000 & 2.174726 & Promoter & 8.054279 & 8.223312 & 8.532925 & 7.674360 & 8.887220 & 8.168356\\\\\n",
       "\\end{tabular}\n"
      ],
      "text/markdown": [
       "\n",
       "A data.frame: 6 × 57\n",
       "\n",
       "| <!--/--> | ATACchr &lt;fct&gt; | ATACstart &lt;int&gt; | ATACend &lt;int&gt; | otherEndID &lt;int&gt; | otherEndchr &lt;fct&gt; | otherEndstart &lt;int&gt; | otherEndend &lt;int&gt; | ID &lt;int&gt; | ENSG &lt;fct&gt; | ENSGchr &lt;fct&gt; | ⋯ ⋯ | T1H &lt;dbl&gt; | T4H &lt;dbl&gt; | T24H &lt;dbl&gt; | ATACannotation &lt;fct&gt; | AT0 &lt;dbl&gt; | AT20 &lt;dbl&gt; | AT1H &lt;dbl&gt; | AT2H &lt;dbl&gt; | AT4H &lt;dbl&gt; | AT24H &lt;dbl&gt; |\n",
       "|---|---|---|---|---|---|---|---|---|---|---|---|---|---|---|---|---|---|---|---|---|---|\n",
       "| 1 | chr10 | 100168185 | 100168481 | 94270 | chr10 | 100168142 | 100171879 |  7 | ENSG00000122873 | chr10 | ⋯ | 0.000000 | 2.004188 | 0.000000 | Intron   | 5.185079 | 5.386033 | 5.549115 | 5.081706 | 5.133666 | 5.469091 |\n",
       "| 2 | chr10 | 100168185 | 100168481 | 94270 | chr10 | 100168142 | 100171879 |  7 | ENSG00000099204 | chr10 | ⋯ | 0.000000 | 0.000000 | 1.930548 | Intron   | 5.185079 | 5.386033 | 5.549115 | 5.081706 | 5.133666 | 5.469091 |\n",
       "| 3 | chr10 | 100267287 | 100268052 | 94301 | chr10 | 100265170 | 100287223 | 11 | ENSG00000052749 | chr10 | ⋯ | 0.000000 | 0.000000 | 2.174726 | Promoter | 7.772423 | 7.507165 | 7.616713 | 7.874698 | 7.849217 | 7.668432 |\n",
       "| 4 | chr10 | 100286005 | 100287018 | 94301 | chr10 | 100265170 | 100287223 | 12 | ENSG00000052749 | chr10 | ⋯ | 0.000000 | 0.000000 | 2.174726 | Promoter | 9.086124 | 8.986858 | 9.306845 | 9.077411 | 9.375033 | 8.877224 |\n",
       "| 5 | chr10 | 100481544 | 100482916 | 94352 | chr10 | 100476882 | 100482954 | 21 | ENSG00000213341 | chr10 | ⋯ | 2.480503 | 1.799894 | 1.636451 | 3'UTR    | 9.147414 | 9.275847 | 9.463431 | 8.709092 | 9.302763 | 8.877224 |\n",
       "| 6 | chr10 | 100508684 | 100509527 | 94364 | chr10 | 100507722 | 100518706 | 22 | ENSG00000052749 | chr10 | ⋯ | 0.000000 | 0.000000 | 2.174726 | Promoter | 8.054279 | 8.223312 | 8.532925 | 7.674360 | 8.887220 | 8.168356 |\n",
       "\n"
      ],
      "text/plain": [
       "  ATACchr ATACstart ATACend   otherEndID otherEndchr otherEndstart otherEndend\n",
       "1 chr10   100168185 100168481 94270      chr10       100168142     100171879  \n",
       "2 chr10   100168185 100168481 94270      chr10       100168142     100171879  \n",
       "3 chr10   100267287 100268052 94301      chr10       100265170     100287223  \n",
       "4 chr10   100286005 100287018 94301      chr10       100265170     100287223  \n",
       "5 chr10   100481544 100482916 94352      chr10       100476882     100482954  \n",
       "6 chr10   100508684 100509527 94364      chr10       100507722     100518706  \n",
       "  ID ENSG            ENSGchr ⋯ T1H      T4H      T24H     ATACannotation\n",
       "1  7 ENSG00000122873 chr10   ⋯ 0.000000 2.004188 0.000000 Intron        \n",
       "2  7 ENSG00000099204 chr10   ⋯ 0.000000 0.000000 1.930548 Intron        \n",
       "3 11 ENSG00000052749 chr10   ⋯ 0.000000 0.000000 2.174726 Promoter      \n",
       "4 12 ENSG00000052749 chr10   ⋯ 0.000000 0.000000 2.174726 Promoter      \n",
       "5 21 ENSG00000213341 chr10   ⋯ 2.480503 1.799894 1.636451 3'UTR         \n",
       "6 22 ENSG00000052749 chr10   ⋯ 0.000000 0.000000 2.174726 Promoter      \n",
       "  AT0      AT20     AT1H     AT2H     AT4H     AT24H   \n",
       "1 5.185079 5.386033 5.549115 5.081706 5.133666 5.469091\n",
       "2 5.185079 5.386033 5.549115 5.081706 5.133666 5.469091\n",
       "3 7.772423 7.507165 7.616713 7.874698 7.849217 7.668432\n",
       "4 9.086124 8.986858 9.306845 9.077411 9.375033 8.877224\n",
       "5 9.147414 9.275847 9.463431 8.709092 9.302763 8.877224\n",
       "6 8.054279 8.223312 8.532925 7.674360 8.887220 8.168356"
      ]
     },
     "metadata": {},
     "output_type": "display_data"
    }
   ],
   "source": [
    "head(atacseq_gene)"
   ]
  },
  {
   "cell_type": "code",
   "execution_count": 50,
   "metadata": {},
   "outputs": [
    {
     "name": "stdout",
     "output_type": "stream",
     "text": [
      "There are  76914 paried bait-otherEnd-atacseq-gene datasets, among which  68369 paried bait-ATACSeq links;  24295 ATACSeq-otherEnd links;  65827 ATACSeq-gene links;  5706  bait-gene links.  There are  52883  CHIC interactions, \n",
      " 5148 baits,  18898 otherEnd,  3516 ENSGs and  24295 ATACSeq peaks"
     ]
    }
   ],
   "source": [
    "cat(\"There are \", dim(atacseq_gene)[1], \"paried bait-otherEnd-atacseq-gene datasets, among which \", \n",
    "    dim(unique(atacseq_gene[,c('baitID', 'ID')]))[1], \"paried bait-ATACSeq links; \", \n",
    "    dim(unique(atacseq_gene[,c('ID', 'otherEndID')]))[1], \"ATACSeq-otherEnd links; \", \n",
    "    dim(unique(atacseq_gene[,c('ID', 'ENSG')]))[1], \"ATACSeq-gene links; \", \n",
    "   dim(unique(atacseq_gene[,c('baitID', 'ENSG')]))[1], \" bait-gene links.  There are \", dim(unique(atacseq_gene[,c('baitID', 'otherEndID')]))[1], \" CHIC interactions, \n",
    "\", length(unique(atacseq_gene$baitID)), \"baits, \", length(unique(atacseq_gene$otherEndID)), \"otherEnd, \",length(unique(atacseq_gene$ENSG)), \"ENSGs and \", length(unique(atacseq_gene$ID)), \"ATACSeq peaks\")"
   ]
  },
  {
   "cell_type": "code",
   "execution_count": 51,
   "metadata": {},
   "outputs": [],
   "source": [
    "\n",
    "\n",
    "atacseq_gene$corr_atacseq_gene <- sapply(seq.int(dim(atacseq_gene)[1]),function(i) cor(t(atacseq_gene[i,c('AT0','AT20','AT1H','AT2H','AT4H','AT24H')]),t(atacseq_gene[i,c('ET0_a','ET20_a','ET1H_a','ET2H_a','ET4H_a','ET24H_a')])))\n",
    "atacseq_gene$corr_atacseq_otherEnd <- sapply(seq.int(dim(atacseq_gene)[1]),function(i) cor(t(atacseq_gene[i,c('AT0','AT20','AT1H','AT4H','AT24H')]),t(atacseq_gene[i,c('T0','T20','T1H','T4H','T24H')])))\n",
    "atacseq_gene$corr_gene_otherEnd <- sapply(seq.int(dim(atacseq_gene)[1]),function(i) cor(t(atacseq_gene[i,c('ET0_a','ET20_a','ET1H_a','ET4H_a','ET24H_a')]),t(atacseq_gene[i,c('T0','T20','T1H','T4H','T24H')])))\n"
   ]
  },
  {
   "cell_type": "code",
   "execution_count": 52,
   "metadata": {},
   "outputs": [
    {
     "data": {
      "text/html": [
       "<style>\n",
       ".list-inline {list-style: none; margin:0; padding: 0}\n",
       ".list-inline>li {display: inline-block}\n",
       ".list-inline>li:not(:last-child)::after {content: \"\\00b7\"; padding: 0 .5ex}\n",
       "</style>\n",
       "<ol class=list-inline><li>76914</li><li>60</li></ol>\n"
      ],
      "text/latex": [
       "\\begin{enumerate*}\n",
       "\\item 76914\n",
       "\\item 60\n",
       "\\end{enumerate*}\n"
      ],
      "text/markdown": [
       "1. 76914\n",
       "2. 60\n",
       "\n",
       "\n"
      ],
      "text/plain": [
       "[1] 76914    60"
      ]
     },
     "metadata": {},
     "output_type": "display_data"
    },
    {
     "data": {
      "text/html": [
       "<style>\n",
       ".list-inline {list-style: none; margin:0; padding: 0}\n",
       ".list-inline>li {display: inline-block}\n",
       ".list-inline>li:not(:last-child)::after {content: \"\\00b7\"; padding: 0 .5ex}\n",
       "</style>\n",
       "<ol class=list-inline><li>44113</li><li>60</li></ol>\n"
      ],
      "text/latex": [
       "\\begin{enumerate*}\n",
       "\\item 44113\n",
       "\\item 60\n",
       "\\end{enumerate*}\n"
      ],
      "text/markdown": [
       "1. 44113\n",
       "2. 60\n",
       "\n",
       "\n"
      ],
      "text/plain": [
       "[1] 44113    60"
      ]
     },
     "metadata": {},
     "output_type": "display_data"
    }
   ],
   "source": [
    "atacseq_gene_nopromoter <- atacseq_gene[atacseq_gene$ATACannotation!='Promoter',]\n",
    "dim(atacseq_gene)\n",
    "dim(atacseq_gene_nopromoter)"
   ]
  },
  {
   "cell_type": "code",
   "execution_count": 53,
   "metadata": {},
   "outputs": [],
   "source": [
    "atacseq_BICandLR <- read.table('data/atacseq_BICandLR.txt', header=T)\n",
    "chic_BICandLR <- read.table('data/chic_BICandLR.txt', header=T)\n",
    "gene_BICandLR <- read.table('data/gene_BICandLR.txt', header=T)"
   ]
  },
  {
   "cell_type": "code",
   "execution_count": 54,
   "metadata": {},
   "outputs": [
    {
     "data": {
      "text/html": [
       "<table>\n",
       "<caption>A data.frame: 6 × 11</caption>\n",
       "<thead>\n",
       "\t<tr><th></th><th scope=col>ATACchr</th><th scope=col>ATACstart</th><th scope=col>ATACend</th><th scope=col>AT0</th><th scope=col>AT20</th><th scope=col>AT1H</th><th scope=col>AT2H</th><th scope=col>AT4H</th><th scope=col>AT24H</th><th scope=col>BIC_atacseq</th><th scope=col>LR_atacseq</th></tr>\n",
       "\t<tr><th></th><th scope=col>&lt;fct&gt;</th><th scope=col>&lt;int&gt;</th><th scope=col>&lt;int&gt;</th><th scope=col>&lt;dbl&gt;</th><th scope=col>&lt;dbl&gt;</th><th scope=col>&lt;dbl&gt;</th><th scope=col>&lt;dbl&gt;</th><th scope=col>&lt;dbl&gt;</th><th scope=col>&lt;dbl&gt;</th><th scope=col>&lt;dbl&gt;</th><th scope=col>&lt;dbl&gt;</th></tr>\n",
       "</thead>\n",
       "<tbody>\n",
       "\t<tr><th scope=row>1</th><td>chr10</td><td>100168185</td><td>100168481</td><td>5.185079</td><td>5.386033</td><td>5.549115</td><td>5.081706</td><td>5.133666</td><td>5.469091</td><td>1.791775</td><td> 1.592097e-05</td></tr>\n",
       "\t<tr><th scope=row>2</th><td>chr10</td><td>100267287</td><td>100268052</td><td>7.772423</td><td>7.507165</td><td>7.616713</td><td>7.874698</td><td>7.849217</td><td>7.668432</td><td>0.991704</td><td>-8.000554e-01</td></tr>\n",
       "\t<tr><th scope=row>3</th><td>chr10</td><td>100286005</td><td>100287018</td><td>9.086124</td><td>8.986858</td><td>9.306845</td><td>9.077411</td><td>9.375033</td><td>8.877224</td><td>1.791826</td><td> 6.613878e-05</td></tr>\n",
       "\t<tr><th scope=row>4</th><td>chr10</td><td>100481544</td><td>100482916</td><td>9.147414</td><td>9.275847</td><td>9.463431</td><td>8.709092</td><td>9.302763</td><td>8.877224</td><td>1.791772</td><td> 1.285027e-05</td></tr>\n",
       "\t<tr><th scope=row>5</th><td>chr10</td><td>100508684</td><td>100509527</td><td>8.054279</td><td>8.223312</td><td>8.532925</td><td>7.674360</td><td>8.887220</td><td>8.168356</td><td>1.791769</td><td> 9.747732e-06</td></tr>\n",
       "\t<tr><th scope=row>6</th><td>chr10</td><td>100510838</td><td>100511373</td><td>8.952013</td><td>9.005558</td><td>9.971759</td><td>8.586541</td><td>9.457576</td><td>8.248255</td><td>1.791792</td><td> 3.244872e-05</td></tr>\n",
       "</tbody>\n",
       "</table>\n"
      ],
      "text/latex": [
       "A data.frame: 6 × 11\n",
       "\\begin{tabular}{r|lllllllllll}\n",
       "  & ATACchr & ATACstart & ATACend & AT0 & AT20 & AT1H & AT2H & AT4H & AT24H & BIC\\_atacseq & LR\\_atacseq\\\\\n",
       "  & <fct> & <int> & <int> & <dbl> & <dbl> & <dbl> & <dbl> & <dbl> & <dbl> & <dbl> & <dbl>\\\\\n",
       "\\hline\n",
       "\t1 & chr10 & 100168185 & 100168481 & 5.185079 & 5.386033 & 5.549115 & 5.081706 & 5.133666 & 5.469091 & 1.791775 &  1.592097e-05\\\\\n",
       "\t2 & chr10 & 100267287 & 100268052 & 7.772423 & 7.507165 & 7.616713 & 7.874698 & 7.849217 & 7.668432 & 0.991704 & -8.000554e-01\\\\\n",
       "\t3 & chr10 & 100286005 & 100287018 & 9.086124 & 8.986858 & 9.306845 & 9.077411 & 9.375033 & 8.877224 & 1.791826 &  6.613878e-05\\\\\n",
       "\t4 & chr10 & 100481544 & 100482916 & 9.147414 & 9.275847 & 9.463431 & 8.709092 & 9.302763 & 8.877224 & 1.791772 &  1.285027e-05\\\\\n",
       "\t5 & chr10 & 100508684 & 100509527 & 8.054279 & 8.223312 & 8.532925 & 7.674360 & 8.887220 & 8.168356 & 1.791769 &  9.747732e-06\\\\\n",
       "\t6 & chr10 & 100510838 & 100511373 & 8.952013 & 9.005558 & 9.971759 & 8.586541 & 9.457576 & 8.248255 & 1.791792 &  3.244872e-05\\\\\n",
       "\\end{tabular}\n"
      ],
      "text/markdown": [
       "\n",
       "A data.frame: 6 × 11\n",
       "\n",
       "| <!--/--> | ATACchr &lt;fct&gt; | ATACstart &lt;int&gt; | ATACend &lt;int&gt; | AT0 &lt;dbl&gt; | AT20 &lt;dbl&gt; | AT1H &lt;dbl&gt; | AT2H &lt;dbl&gt; | AT4H &lt;dbl&gt; | AT24H &lt;dbl&gt; | BIC_atacseq &lt;dbl&gt; | LR_atacseq &lt;dbl&gt; |\n",
       "|---|---|---|---|---|---|---|---|---|---|---|---|\n",
       "| 1 | chr10 | 100168185 | 100168481 | 5.185079 | 5.386033 | 5.549115 | 5.081706 | 5.133666 | 5.469091 | 1.791775 |  1.592097e-05 |\n",
       "| 2 | chr10 | 100267287 | 100268052 | 7.772423 | 7.507165 | 7.616713 | 7.874698 | 7.849217 | 7.668432 | 0.991704 | -8.000554e-01 |\n",
       "| 3 | chr10 | 100286005 | 100287018 | 9.086124 | 8.986858 | 9.306845 | 9.077411 | 9.375033 | 8.877224 | 1.791826 |  6.613878e-05 |\n",
       "| 4 | chr10 | 100481544 | 100482916 | 9.147414 | 9.275847 | 9.463431 | 8.709092 | 9.302763 | 8.877224 | 1.791772 |  1.285027e-05 |\n",
       "| 5 | chr10 | 100508684 | 100509527 | 8.054279 | 8.223312 | 8.532925 | 7.674360 | 8.887220 | 8.168356 | 1.791769 |  9.747732e-06 |\n",
       "| 6 | chr10 | 100510838 | 100511373 | 8.952013 | 9.005558 | 9.971759 | 8.586541 | 9.457576 | 8.248255 | 1.791792 |  3.244872e-05 |\n",
       "\n"
      ],
      "text/plain": [
       "  ATACchr ATACstart ATACend   AT0      AT20     AT1H     AT2H     AT4H    \n",
       "1 chr10   100168185 100168481 5.185079 5.386033 5.549115 5.081706 5.133666\n",
       "2 chr10   100267287 100268052 7.772423 7.507165 7.616713 7.874698 7.849217\n",
       "3 chr10   100286005 100287018 9.086124 8.986858 9.306845 9.077411 9.375033\n",
       "4 chr10   100481544 100482916 9.147414 9.275847 9.463431 8.709092 9.302763\n",
       "5 chr10   100508684 100509527 8.054279 8.223312 8.532925 7.674360 8.887220\n",
       "6 chr10   100510838 100511373 8.952013 9.005558 9.971759 8.586541 9.457576\n",
       "  AT24H    BIC_atacseq LR_atacseq   \n",
       "1 5.469091 1.791775     1.592097e-05\n",
       "2 7.668432 0.991704    -8.000554e-01\n",
       "3 8.877224 1.791826     6.613878e-05\n",
       "4 8.877224 1.791772     1.285027e-05\n",
       "5 8.168356 1.791769     9.747732e-06\n",
       "6 8.248255 1.791792     3.244872e-05"
      ]
     },
     "metadata": {},
     "output_type": "display_data"
    }
   ],
   "source": [
    "head(atacseq_BICandLR)"
   ]
  },
  {
   "cell_type": "code",
   "execution_count": 56,
   "metadata": {},
   "outputs": [
    {
     "name": "stderr",
     "output_type": "stream",
     "text": [
      "Joining, by = c(\"ATACchr\", \"ATACstart\", \"ATACend\", \"AT0\", \"AT20\", \"AT1H\", \"AT2H\", \"AT4H\", \"AT24H\")\n",
      "\n",
      "Joining, by = c(\"otherEndID\", \"baitID\", \"T01\", \"T02\", \"T201\", \"T202\", \"T1H1\", \"T1H2\", \"T4H1\", \"T4H2\", \"T24H1\")\n",
      "\n",
      "Joining, by = c(\"ENSG\", \"ET01\", \"ET201\", \"ET601\", \"ET2H1\", \"ET4H1\", \"ET24H1\", \"ET02\", \"ET202\", \"ET602\", \"ET2H2\", \"ET4H2\", \"ET24H2\")\n",
      "\n"
     ]
    }
   ],
   "source": [
    "atacseq_gene_withBICandLR <- left_join(left_join(left_join(atacseq_gene, atacseq_BICandLR), chic_BICandLR), gene_BICandLR)"
   ]
  },
  {
   "cell_type": "code",
   "execution_count": 57,
   "metadata": {},
   "outputs": [
    {
     "data": {
      "text/html": [
       "<style>\n",
       ".list-inline {list-style: none; margin:0; padding: 0}\n",
       ".list-inline>li {display: inline-block}\n",
       ".list-inline>li:not(:last-child)::after {content: \"\\00b7\"; padding: 0 .5ex}\n",
       "</style>\n",
       "<ol class=list-inline><li>'ATACchr'</li><li>'ATACstart'</li><li>'ATACend'</li><li>'otherEndID'</li><li>'otherEndchr'</li><li>'otherEndstart'</li><li>'otherEndend'</li><li>'ID'</li><li>'ENSG'</li><li>'ENSGchr'</li><li>'ENSGstart'</li><li>'ENSGend'</li><li>'ET01'</li><li>'ET201'</li><li>'ET601'</li><li>'ET2H1'</li><li>'ET4H1'</li><li>'ET24H1'</li><li>'ET02'</li><li>'ET202'</li><li>'ET602'</li><li>'ET2H2'</li><li>'ET4H2'</li><li>'ET24H2'</li><li>'GeneName'</li><li>'ET0_a'</li><li>'ET20_a'</li><li>'ET1H_a'</li><li>'ET2H_a'</li><li>'ET4H_a'</li><li>'ET24H_a'</li><li>'baitID'</li><li>'baitstart'</li><li>'baitend'</li><li>'T01'</li><li>'T02'</li><li>'T201'</li><li>'T202'</li><li>'T1H1'</li><li>'T1H2'</li><li>'T4H1'</li><li>'T4H2'</li><li>'T24H1'</li><li>'baitchr'</li><li>'corr_rep'</li><li>'T0'</li><li>'T20'</li><li>'T1H'</li><li>'T4H'</li><li>'T24H'</li><li>'ATACannotation'</li><li>'AT0'</li><li>'AT20'</li><li>'AT1H'</li><li>'AT2H'</li><li>'AT4H'</li><li>'AT24H'</li><li>'corr_atacseq_gene'</li><li>'corr_atacseq_otherEnd'</li><li>'corr_gene_otherEnd'</li><li>'BIC_atacseq'</li><li>'LR_atacseq'</li><li>'BIC_chic'</li><li>'LR_chic'</li><li>'BIC_gene'</li><li>'LR_gene'</li></ol>\n"
      ],
      "text/latex": [
       "\\begin{enumerate*}\n",
       "\\item 'ATACchr'\n",
       "\\item 'ATACstart'\n",
       "\\item 'ATACend'\n",
       "\\item 'otherEndID'\n",
       "\\item 'otherEndchr'\n",
       "\\item 'otherEndstart'\n",
       "\\item 'otherEndend'\n",
       "\\item 'ID'\n",
       "\\item 'ENSG'\n",
       "\\item 'ENSGchr'\n",
       "\\item 'ENSGstart'\n",
       "\\item 'ENSGend'\n",
       "\\item 'ET01'\n",
       "\\item 'ET201'\n",
       "\\item 'ET601'\n",
       "\\item 'ET2H1'\n",
       "\\item 'ET4H1'\n",
       "\\item 'ET24H1'\n",
       "\\item 'ET02'\n",
       "\\item 'ET202'\n",
       "\\item 'ET602'\n",
       "\\item 'ET2H2'\n",
       "\\item 'ET4H2'\n",
       "\\item 'ET24H2'\n",
       "\\item 'GeneName'\n",
       "\\item 'ET0\\_a'\n",
       "\\item 'ET20\\_a'\n",
       "\\item 'ET1H\\_a'\n",
       "\\item 'ET2H\\_a'\n",
       "\\item 'ET4H\\_a'\n",
       "\\item 'ET24H\\_a'\n",
       "\\item 'baitID'\n",
       "\\item 'baitstart'\n",
       "\\item 'baitend'\n",
       "\\item 'T01'\n",
       "\\item 'T02'\n",
       "\\item 'T201'\n",
       "\\item 'T202'\n",
       "\\item 'T1H1'\n",
       "\\item 'T1H2'\n",
       "\\item 'T4H1'\n",
       "\\item 'T4H2'\n",
       "\\item 'T24H1'\n",
       "\\item 'baitchr'\n",
       "\\item 'corr\\_rep'\n",
       "\\item 'T0'\n",
       "\\item 'T20'\n",
       "\\item 'T1H'\n",
       "\\item 'T4H'\n",
       "\\item 'T24H'\n",
       "\\item 'ATACannotation'\n",
       "\\item 'AT0'\n",
       "\\item 'AT20'\n",
       "\\item 'AT1H'\n",
       "\\item 'AT2H'\n",
       "\\item 'AT4H'\n",
       "\\item 'AT24H'\n",
       "\\item 'corr\\_atacseq\\_gene'\n",
       "\\item 'corr\\_atacseq\\_otherEnd'\n",
       "\\item 'corr\\_gene\\_otherEnd'\n",
       "\\item 'BIC\\_atacseq'\n",
       "\\item 'LR\\_atacseq'\n",
       "\\item 'BIC\\_chic'\n",
       "\\item 'LR\\_chic'\n",
       "\\item 'BIC\\_gene'\n",
       "\\item 'LR\\_gene'\n",
       "\\end{enumerate*}\n"
      ],
      "text/markdown": [
       "1. 'ATACchr'\n",
       "2. 'ATACstart'\n",
       "3. 'ATACend'\n",
       "4. 'otherEndID'\n",
       "5. 'otherEndchr'\n",
       "6. 'otherEndstart'\n",
       "7. 'otherEndend'\n",
       "8. 'ID'\n",
       "9. 'ENSG'\n",
       "10. 'ENSGchr'\n",
       "11. 'ENSGstart'\n",
       "12. 'ENSGend'\n",
       "13. 'ET01'\n",
       "14. 'ET201'\n",
       "15. 'ET601'\n",
       "16. 'ET2H1'\n",
       "17. 'ET4H1'\n",
       "18. 'ET24H1'\n",
       "19. 'ET02'\n",
       "20. 'ET202'\n",
       "21. 'ET602'\n",
       "22. 'ET2H2'\n",
       "23. 'ET4H2'\n",
       "24. 'ET24H2'\n",
       "25. 'GeneName'\n",
       "26. 'ET0_a'\n",
       "27. 'ET20_a'\n",
       "28. 'ET1H_a'\n",
       "29. 'ET2H_a'\n",
       "30. 'ET4H_a'\n",
       "31. 'ET24H_a'\n",
       "32. 'baitID'\n",
       "33. 'baitstart'\n",
       "34. 'baitend'\n",
       "35. 'T01'\n",
       "36. 'T02'\n",
       "37. 'T201'\n",
       "38. 'T202'\n",
       "39. 'T1H1'\n",
       "40. 'T1H2'\n",
       "41. 'T4H1'\n",
       "42. 'T4H2'\n",
       "43. 'T24H1'\n",
       "44. 'baitchr'\n",
       "45. 'corr_rep'\n",
       "46. 'T0'\n",
       "47. 'T20'\n",
       "48. 'T1H'\n",
       "49. 'T4H'\n",
       "50. 'T24H'\n",
       "51. 'ATACannotation'\n",
       "52. 'AT0'\n",
       "53. 'AT20'\n",
       "54. 'AT1H'\n",
       "55. 'AT2H'\n",
       "56. 'AT4H'\n",
       "57. 'AT24H'\n",
       "58. 'corr_atacseq_gene'\n",
       "59. 'corr_atacseq_otherEnd'\n",
       "60. 'corr_gene_otherEnd'\n",
       "61. 'BIC_atacseq'\n",
       "62. 'LR_atacseq'\n",
       "63. 'BIC_chic'\n",
       "64. 'LR_chic'\n",
       "65. 'BIC_gene'\n",
       "66. 'LR_gene'\n",
       "\n",
       "\n"
      ],
      "text/plain": [
       " [1] \"ATACchr\"               \"ATACstart\"             \"ATACend\"              \n",
       " [4] \"otherEndID\"            \"otherEndchr\"           \"otherEndstart\"        \n",
       " [7] \"otherEndend\"           \"ID\"                    \"ENSG\"                 \n",
       "[10] \"ENSGchr\"               \"ENSGstart\"             \"ENSGend\"              \n",
       "[13] \"ET01\"                  \"ET201\"                 \"ET601\"                \n",
       "[16] \"ET2H1\"                 \"ET4H1\"                 \"ET24H1\"               \n",
       "[19] \"ET02\"                  \"ET202\"                 \"ET602\"                \n",
       "[22] \"ET2H2\"                 \"ET4H2\"                 \"ET24H2\"               \n",
       "[25] \"GeneName\"              \"ET0_a\"                 \"ET20_a\"               \n",
       "[28] \"ET1H_a\"                \"ET2H_a\"                \"ET4H_a\"               \n",
       "[31] \"ET24H_a\"               \"baitID\"                \"baitstart\"            \n",
       "[34] \"baitend\"               \"T01\"                   \"T02\"                  \n",
       "[37] \"T201\"                  \"T202\"                  \"T1H1\"                 \n",
       "[40] \"T1H2\"                  \"T4H1\"                  \"T4H2\"                 \n",
       "[43] \"T24H1\"                 \"baitchr\"               \"corr_rep\"             \n",
       "[46] \"T0\"                    \"T20\"                   \"T1H\"                  \n",
       "[49] \"T4H\"                   \"T24H\"                  \"ATACannotation\"       \n",
       "[52] \"AT0\"                   \"AT20\"                  \"AT1H\"                 \n",
       "[55] \"AT2H\"                  \"AT4H\"                  \"AT24H\"                \n",
       "[58] \"corr_atacseq_gene\"     \"corr_atacseq_otherEnd\" \"corr_gene_otherEnd\"   \n",
       "[61] \"BIC_atacseq\"           \"LR_atacseq\"            \"BIC_chic\"             \n",
       "[64] \"LR_chic\"               \"BIC_gene\"              \"LR_gene\"              "
      ]
     },
     "metadata": {},
     "output_type": "display_data"
    }
   ],
   "source": [
    "names(atacseq_gene_withBICandLR)"
   ]
  },
  {
   "cell_type": "code",
   "execution_count": 59,
   "metadata": {},
   "outputs": [],
   "source": [
    "write.table(atacseq_gene_withBICandLR, file='data/ATACseq_CHiC_RNAseq_linked_withpromoter.txt', quote=F, row.names=F)"
   ]
  }
 ],
 "metadata": {
  "kernelspec": {
   "display_name": "R",
   "language": "R",
   "name": "ir"
  },
  "language_info": {
   "codemirror_mode": "r",
   "file_extension": ".r",
   "mimetype": "text/x-r-source",
   "name": "R",
   "pygments_lexer": "r",
   "version": "3.6.3"
  }
 },
 "nbformat": 4,
 "nbformat_minor": 2
}
