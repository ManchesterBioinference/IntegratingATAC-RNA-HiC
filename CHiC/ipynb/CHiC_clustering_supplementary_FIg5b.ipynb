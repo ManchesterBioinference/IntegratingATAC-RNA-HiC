{
 "cells": [
  {
   "cell_type": "markdown",
   "metadata": {},
   "source": [
    "## Jupyter notebook for plotting clusters of CHi-C data\n",
    "This notebook is the code for plotting clusters of the time course CHi-C used in the paper **\"Simultaneous analysis of open chromatin, promoter interactions and gene expression in stimulated T cells implicates causal genes for rheumatoid arthritis\"** by Jing Yang, Amanda McGovern, Paul Martin, Kate Duffus, Xiangyu Ge, Peyman Zarrineh, Andrew P Morris, Antony Adamson, Peter Fraser, Magnus Rattray & Stephen Eyre. \n",
    "\n",
    "Author : *Jing Yang*  <br />\n",
    "Date: 24-10-2019 <br />\n",
    "For any questions about the code, please drop me a line at Jing.Yang@manchester.ac.uk"
   ]
  },
  {
   "cell_type": "markdown",
   "metadata": {},
   "source": [
    "### load required package"
   ]
  },
  {
   "cell_type": "code",
   "execution_count": 1,
   "metadata": {},
   "outputs": [],
   "source": [
    "library(ggplot2)\n",
    "library(reshape2)"
   ]
  },
  {
   "cell_type": "markdown",
   "metadata": {},
   "source": [
    "### load normalized CHi-C data"
   ]
  },
  {
   "cell_type": "code",
   "execution_count": 2,
   "metadata": {},
   "outputs": [],
   "source": [
    "chic_data_original <- read.table(\"https://personalpages.manchester.ac.uk/staff/jing.yang/Data/CHiC/data/CHiC_normalizeddata.txt\", header=TRUE)"
   ]
  },
  {
   "cell_type": "code",
   "execution_count": 3,
   "metadata": {},
   "outputs": [
    {
     "data": {
      "text/html": [
       "<table>\n",
       "<caption>A data.frame: 6 × 20</caption>\n",
       "<thead>\n",
       "\t<tr><th></th><th scope=col>baitID</th><th scope=col>baitchr</th><th scope=col>baitstart</th><th scope=col>baitend</th><th scope=col>otherEndID</th><th scope=col>otherEndchr</th><th scope=col>otherEndstart</th><th scope=col>otherEndend</th><th scope=col>chr</th><th scope=col>ENSG</th><th scope=col>T01</th><th scope=col>T02</th><th scope=col>T201</th><th scope=col>T202</th><th scope=col>T1H1</th><th scope=col>T1H2</th><th scope=col>T4H1</th><th scope=col>T4H2</th><th scope=col>T24H1</th><th scope=col>corr_rep</th></tr>\n",
       "\t<tr><th></th><th scope=col>&lt;int&gt;</th><th scope=col>&lt;fct&gt;</th><th scope=col>&lt;int&gt;</th><th scope=col>&lt;int&gt;</th><th scope=col>&lt;int&gt;</th><th scope=col>&lt;fct&gt;</th><th scope=col>&lt;int&gt;</th><th scope=col>&lt;int&gt;</th><th scope=col>&lt;fct&gt;</th><th scope=col>&lt;fct&gt;</th><th scope=col>&lt;dbl&gt;</th><th scope=col>&lt;dbl&gt;</th><th scope=col>&lt;dbl&gt;</th><th scope=col>&lt;dbl&gt;</th><th scope=col>&lt;dbl&gt;</th><th scope=col>&lt;dbl&gt;</th><th scope=col>&lt;dbl&gt;</th><th scope=col>&lt;dbl&gt;</th><th scope=col>&lt;dbl&gt;</th><th scope=col>&lt;dbl&gt;</th></tr>\n",
       "</thead>\n",
       "<tbody>\n",
       "\t<tr><th scope=row>1</th><td> 99879</td><td>chr10</td><td>119077883</td><td>119083160</td><td>100000</td><td>chr10</td><td>119687482</td><td>119688430</td><td>chr10</td><td>ENSG00000107581</td><td>2.685175</td><td>2.281339</td><td>0.000000</td><td>0.000000</td><td>2.386324</td><td>3.380836</td><td>0.000000</td><td>2.261001</td><td>1.636451</td><td> 0.6626112</td></tr>\n",
       "\t<tr><th scope=row>2</th><td>102382</td><td>chr10</td><td>127986294</td><td>127989968</td><td>100003</td><td>chr10</td><td>119702248</td><td>119714492</td><td>chr10</td><td>ENSG00000132334</td><td>0.000000</td><td>0.000000</td><td>0.000000</td><td>0.000000</td><td>0.000000</td><td>0.000000</td><td>2.065419</td><td>0.000000</td><td>2.174726</td><td>        NA</td></tr>\n",
       "\t<tr><th scope=row>3</th><td> 75393</td><td>chr10</td><td> 35177215</td><td> 35181230</td><td>100007</td><td>chr10</td><td>119716413</td><td>119724542</td><td>chr10</td><td>ENSG00000095794</td><td>0.000000</td><td>0.000000</td><td>0.000000</td><td>0.000000</td><td>0.000000</td><td>0.000000</td><td>0.000000</td><td>0.000000</td><td>1.930548</td><td>        NA</td></tr>\n",
       "\t<tr><th scope=row>4</th><td> 99879</td><td>chr10</td><td>119077883</td><td>119083160</td><td>100007</td><td>chr10</td><td>119716413</td><td>119724542</td><td>chr10</td><td>ENSG00000107581</td><td>3.994297</td><td>2.620208</td><td>3.419915</td><td>3.040367</td><td>3.129573</td><td>2.513083</td><td>2.269831</td><td>3.253201</td><td>2.727703</td><td>-0.6543762</td></tr>\n",
       "\t<tr><th scope=row>5</th><td> 99879</td><td>chr10</td><td>119077883</td><td>119083160</td><td>100008</td><td>chr10</td><td>119724542</td><td>119727941</td><td>chr10</td><td>ENSG00000107581</td><td>2.343036</td><td>3.124755</td><td>2.710272</td><td>3.501349</td><td>3.532390</td><td>0.000000</td><td>2.448842</td><td>2.933226</td><td>2.565841</td><td>-0.9135395</td></tr>\n",
       "\t<tr><th scope=row>6</th><td> 99894</td><td>chr10</td><td>119171553</td><td>119183998</td><td>100009</td><td>chr10</td><td>119727941</td><td>119728597</td><td>chr10</td><td>ENSG00000165672</td><td>0.000000</td><td>0.000000</td><td>0.000000</td><td>1.615820</td><td>0.000000</td><td>3.011241</td><td>0.000000</td><td>0.000000</td><td>1.266637</td><td>        NA</td></tr>\n",
       "</tbody>\n",
       "</table>\n"
      ],
      "text/latex": [
       "A data.frame: 6 × 20\n",
       "\\begin{tabular}{r|llllllllllllllllllll}\n",
       "  & baitID & baitchr & baitstart & baitend & otherEndID & otherEndchr & otherEndstart & otherEndend & chr & ENSG & T01 & T02 & T201 & T202 & T1H1 & T1H2 & T4H1 & T4H2 & T24H1 & corr\\_rep\\\\\n",
       "  & <int> & <fct> & <int> & <int> & <int> & <fct> & <int> & <int> & <fct> & <fct> & <dbl> & <dbl> & <dbl> & <dbl> & <dbl> & <dbl> & <dbl> & <dbl> & <dbl> & <dbl>\\\\\n",
       "\\hline\n",
       "\t1 &  99879 & chr10 & 119077883 & 119083160 & 100000 & chr10 & 119687482 & 119688430 & chr10 & ENSG00000107581 & 2.685175 & 2.281339 & 0.000000 & 0.000000 & 2.386324 & 3.380836 & 0.000000 & 2.261001 & 1.636451 &  0.6626112\\\\\n",
       "\t2 & 102382 & chr10 & 127986294 & 127989968 & 100003 & chr10 & 119702248 & 119714492 & chr10 & ENSG00000132334 & 0.000000 & 0.000000 & 0.000000 & 0.000000 & 0.000000 & 0.000000 & 2.065419 & 0.000000 & 2.174726 &         NA\\\\\n",
       "\t3 &  75393 & chr10 &  35177215 &  35181230 & 100007 & chr10 & 119716413 & 119724542 & chr10 & ENSG00000095794 & 0.000000 & 0.000000 & 0.000000 & 0.000000 & 0.000000 & 0.000000 & 0.000000 & 0.000000 & 1.930548 &         NA\\\\\n",
       "\t4 &  99879 & chr10 & 119077883 & 119083160 & 100007 & chr10 & 119716413 & 119724542 & chr10 & ENSG00000107581 & 3.994297 & 2.620208 & 3.419915 & 3.040367 & 3.129573 & 2.513083 & 2.269831 & 3.253201 & 2.727703 & -0.6543762\\\\\n",
       "\t5 &  99879 & chr10 & 119077883 & 119083160 & 100008 & chr10 & 119724542 & 119727941 & chr10 & ENSG00000107581 & 2.343036 & 3.124755 & 2.710272 & 3.501349 & 3.532390 & 0.000000 & 2.448842 & 2.933226 & 2.565841 & -0.9135395\\\\\n",
       "\t6 &  99894 & chr10 & 119171553 & 119183998 & 100009 & chr10 & 119727941 & 119728597 & chr10 & ENSG00000165672 & 0.000000 & 0.000000 & 0.000000 & 1.615820 & 0.000000 & 3.011241 & 0.000000 & 0.000000 & 1.266637 &         NA\\\\\n",
       "\\end{tabular}\n"
      ],
      "text/markdown": [
       "\n",
       "A data.frame: 6 × 20\n",
       "\n",
       "| <!--/--> | baitID &lt;int&gt; | baitchr &lt;fct&gt; | baitstart &lt;int&gt; | baitend &lt;int&gt; | otherEndID &lt;int&gt; | otherEndchr &lt;fct&gt; | otherEndstart &lt;int&gt; | otherEndend &lt;int&gt; | chr &lt;fct&gt; | ENSG &lt;fct&gt; | T01 &lt;dbl&gt; | T02 &lt;dbl&gt; | T201 &lt;dbl&gt; | T202 &lt;dbl&gt; | T1H1 &lt;dbl&gt; | T1H2 &lt;dbl&gt; | T4H1 &lt;dbl&gt; | T4H2 &lt;dbl&gt; | T24H1 &lt;dbl&gt; | corr_rep &lt;dbl&gt; |\n",
       "|---|---|---|---|---|---|---|---|---|---|---|---|---|---|---|---|---|---|---|---|---|\n",
       "| 1 |  99879 | chr10 | 119077883 | 119083160 | 100000 | chr10 | 119687482 | 119688430 | chr10 | ENSG00000107581 | 2.685175 | 2.281339 | 0.000000 | 0.000000 | 2.386324 | 3.380836 | 0.000000 | 2.261001 | 1.636451 |  0.6626112 |\n",
       "| 2 | 102382 | chr10 | 127986294 | 127989968 | 100003 | chr10 | 119702248 | 119714492 | chr10 | ENSG00000132334 | 0.000000 | 0.000000 | 0.000000 | 0.000000 | 0.000000 | 0.000000 | 2.065419 | 0.000000 | 2.174726 |         NA |\n",
       "| 3 |  75393 | chr10 |  35177215 |  35181230 | 100007 | chr10 | 119716413 | 119724542 | chr10 | ENSG00000095794 | 0.000000 | 0.000000 | 0.000000 | 0.000000 | 0.000000 | 0.000000 | 0.000000 | 0.000000 | 1.930548 |         NA |\n",
       "| 4 |  99879 | chr10 | 119077883 | 119083160 | 100007 | chr10 | 119716413 | 119724542 | chr10 | ENSG00000107581 | 3.994297 | 2.620208 | 3.419915 | 3.040367 | 3.129573 | 2.513083 | 2.269831 | 3.253201 | 2.727703 | -0.6543762 |\n",
       "| 5 |  99879 | chr10 | 119077883 | 119083160 | 100008 | chr10 | 119724542 | 119727941 | chr10 | ENSG00000107581 | 2.343036 | 3.124755 | 2.710272 | 3.501349 | 3.532390 | 0.000000 | 2.448842 | 2.933226 | 2.565841 | -0.9135395 |\n",
       "| 6 |  99894 | chr10 | 119171553 | 119183998 | 100009 | chr10 | 119727941 | 119728597 | chr10 | ENSG00000165672 | 0.000000 | 0.000000 | 0.000000 | 1.615820 | 0.000000 | 3.011241 | 0.000000 | 0.000000 | 1.266637 |         NA |\n",
       "\n"
      ],
      "text/plain": [
       "  baitID baitchr baitstart baitend   otherEndID otherEndchr otherEndstart\n",
       "1  99879 chr10   119077883 119083160 100000     chr10       119687482    \n",
       "2 102382 chr10   127986294 127989968 100003     chr10       119702248    \n",
       "3  75393 chr10    35177215  35181230 100007     chr10       119716413    \n",
       "4  99879 chr10   119077883 119083160 100007     chr10       119716413    \n",
       "5  99879 chr10   119077883 119083160 100008     chr10       119724542    \n",
       "6  99894 chr10   119171553 119183998 100009     chr10       119727941    \n",
       "  otherEndend chr   ENSG            T01      T02      T201     T202    \n",
       "1 119688430   chr10 ENSG00000107581 2.685175 2.281339 0.000000 0.000000\n",
       "2 119714492   chr10 ENSG00000132334 0.000000 0.000000 0.000000 0.000000\n",
       "3 119724542   chr10 ENSG00000095794 0.000000 0.000000 0.000000 0.000000\n",
       "4 119724542   chr10 ENSG00000107581 3.994297 2.620208 3.419915 3.040367\n",
       "5 119727941   chr10 ENSG00000107581 2.343036 3.124755 2.710272 3.501349\n",
       "6 119728597   chr10 ENSG00000165672 0.000000 0.000000 0.000000 1.615820\n",
       "  T1H1     T1H2     T4H1     T4H2     T24H1    corr_rep  \n",
       "1 2.386324 3.380836 0.000000 2.261001 1.636451  0.6626112\n",
       "2 0.000000 0.000000 2.065419 0.000000 2.174726         NA\n",
       "3 0.000000 0.000000 0.000000 0.000000 1.930548         NA\n",
       "4 3.129573 2.513083 2.269831 3.253201 2.727703 -0.6543762\n",
       "5 3.532390 0.000000 2.448842 2.933226 2.565841 -0.9135395\n",
       "6 0.000000 3.011241 0.000000 0.000000 1.266637         NA"
      ]
     },
     "metadata": {},
     "output_type": "display_data"
    }
   ],
   "source": [
    "head(chic_data_original)"
   ]
  },
  {
   "cell_type": "markdown",
   "metadata": {},
   "source": [
    "### removing those data with flat time course profile on one replicate "
   ]
  },
  {
   "cell_type": "code",
   "execution_count": 4,
   "metadata": {},
   "outputs": [],
   "source": [
    "chic_data <- chic_data_original[!is.na(chic_data_original$corr_rep),]"
   ]
  },
  {
   "cell_type": "markdown",
   "metadata": {},
   "source": [
    "### look at cis-interactions only"
   ]
  },
  {
   "cell_type": "code",
   "execution_count": 5,
   "metadata": {},
   "outputs": [],
   "source": [
    "chic_data_samechr <- chic_data[as.character(chic_data$baitchr)==as.character(chic_data$otherEndchr),]"
   ]
  },
  {
   "cell_type": "markdown",
   "metadata": {},
   "source": [
    "### only consider interactions within 5MB of promoters"
   ]
  },
  {
   "cell_type": "code",
   "execution_count": 6,
   "metadata": {},
   "outputs": [],
   "source": [
    "idx_5MB <- which(abs(0.5*(chic_data_samechr$baitstart + chic_data_samechr$baitend) - 0.5*(chic_data_samechr$otherEndstart + chic_data_samechr$otherEndend))<5000000)"
   ]
  },
  {
   "cell_type": "code",
   "execution_count": 7,
   "metadata": {
    "scrolled": true
   },
   "outputs": [],
   "source": [
    "chic_data_within5MB <- chic_data_samechr[idx_5MB,]"
   ]
  },
  {
   "cell_type": "markdown",
   "metadata": {},
   "source": [
    "### get averaged data for each time point"
   ]
  },
  {
   "cell_type": "code",
   "execution_count": 8,
   "metadata": {},
   "outputs": [
    {
     "data": {
      "text/html": [
       "<table>\n",
       "<caption>A data.frame: 6 × 20</caption>\n",
       "<thead>\n",
       "\t<tr><th></th><th scope=col>baitID</th><th scope=col>baitchr</th><th scope=col>baitstart</th><th scope=col>baitend</th><th scope=col>otherEndID</th><th scope=col>otherEndchr</th><th scope=col>otherEndstart</th><th scope=col>otherEndend</th><th scope=col>chr</th><th scope=col>ENSG</th><th scope=col>T01</th><th scope=col>T02</th><th scope=col>T201</th><th scope=col>T202</th><th scope=col>T1H1</th><th scope=col>T1H2</th><th scope=col>T4H1</th><th scope=col>T4H2</th><th scope=col>T24H1</th><th scope=col>corr_rep</th></tr>\n",
       "\t<tr><th></th><th scope=col>&lt;int&gt;</th><th scope=col>&lt;fct&gt;</th><th scope=col>&lt;int&gt;</th><th scope=col>&lt;int&gt;</th><th scope=col>&lt;int&gt;</th><th scope=col>&lt;fct&gt;</th><th scope=col>&lt;int&gt;</th><th scope=col>&lt;int&gt;</th><th scope=col>&lt;fct&gt;</th><th scope=col>&lt;fct&gt;</th><th scope=col>&lt;dbl&gt;</th><th scope=col>&lt;dbl&gt;</th><th scope=col>&lt;dbl&gt;</th><th scope=col>&lt;dbl&gt;</th><th scope=col>&lt;dbl&gt;</th><th scope=col>&lt;dbl&gt;</th><th scope=col>&lt;dbl&gt;</th><th scope=col>&lt;dbl&gt;</th><th scope=col>&lt;dbl&gt;</th><th scope=col>&lt;dbl&gt;</th></tr>\n",
       "</thead>\n",
       "<tbody>\n",
       "\t<tr><th scope=row>1</th><td>99879</td><td>chr10</td><td>119077883</td><td>119083160</td><td>100000</td><td>chr10</td><td>119687482</td><td>119688430</td><td>chr10</td><td>ENSG00000107581</td><td>2.685175</td><td>2.281339</td><td>0.000000</td><td>0.000000</td><td>2.386324</td><td>3.380836</td><td>0.000000</td><td>2.261001</td><td>1.636451</td><td> 0.66261121</td></tr>\n",
       "\t<tr><th scope=row>4</th><td>99879</td><td>chr10</td><td>119077883</td><td>119083160</td><td>100007</td><td>chr10</td><td>119716413</td><td>119724542</td><td>chr10</td><td>ENSG00000107581</td><td>3.994297</td><td>2.620208</td><td>3.419915</td><td>3.040367</td><td>3.129573</td><td>2.513083</td><td>2.269831</td><td>3.253201</td><td>2.727703</td><td>-0.65437620</td></tr>\n",
       "\t<tr><th scope=row>5</th><td>99879</td><td>chr10</td><td>119077883</td><td>119083160</td><td>100008</td><td>chr10</td><td>119724542</td><td>119727941</td><td>chr10</td><td>ENSG00000107581</td><td>2.343036</td><td>3.124755</td><td>2.710272</td><td>3.501349</td><td>3.532390</td><td>0.000000</td><td>2.448842</td><td>2.933226</td><td>2.565841</td><td>-0.91353951</td></tr>\n",
       "\t<tr><th scope=row>7</th><td>99879</td><td>chr10</td><td>119077883</td><td>119083160</td><td>100009</td><td>chr10</td><td>119727941</td><td>119728597</td><td>chr10</td><td>ENSG00000107581</td><td>2.961528</td><td>3.323323</td><td>2.710272</td><td>3.742993</td><td>3.008461</td><td>1.745966</td><td>0.000000</td><td>2.741975</td><td>1.930548</td><td> 0.04397581</td></tr>\n",
       "\t<tr><th scope=row>20</th><td>99879</td><td>chr10</td><td>119077883</td><td>119083160</td><td>100034</td><td>chr10</td><td>119824560</td><td>119831806</td><td>chr10</td><td>ENSG00000107581</td><td>2.685175</td><td>1.837617</td><td>1.915416</td><td>3.363432</td><td>3.008461</td><td>2.179922</td><td>2.448842</td><td>2.261001</td><td>2.727703</td><td>-0.84578271</td></tr>\n",
       "\t<tr><th scope=row>21</th><td>99879</td><td>chr10</td><td>119077883</td><td>119083160</td><td>100036</td><td>chr10</td><td>119831972</td><td>119836192</td><td>chr10</td><td>ENSG00000107581</td><td>0.000000</td><td>2.281339</td><td>2.366906</td><td>2.623433</td><td>2.386324</td><td>0.000000</td><td>2.448842</td><td>0.000000</td><td>3.341844</td><td>-0.51149617</td></tr>\n",
       "</tbody>\n",
       "</table>\n"
      ],
      "text/latex": [
       "A data.frame: 6 × 20\n",
       "\\begin{tabular}{r|llllllllllllllllllll}\n",
       "  & baitID & baitchr & baitstart & baitend & otherEndID & otherEndchr & otherEndstart & otherEndend & chr & ENSG & T01 & T02 & T201 & T202 & T1H1 & T1H2 & T4H1 & T4H2 & T24H1 & corr\\_rep\\\\\n",
       "  & <int> & <fct> & <int> & <int> & <int> & <fct> & <int> & <int> & <fct> & <fct> & <dbl> & <dbl> & <dbl> & <dbl> & <dbl> & <dbl> & <dbl> & <dbl> & <dbl> & <dbl>\\\\\n",
       "\\hline\n",
       "\t1 & 99879 & chr10 & 119077883 & 119083160 & 100000 & chr10 & 119687482 & 119688430 & chr10 & ENSG00000107581 & 2.685175 & 2.281339 & 0.000000 & 0.000000 & 2.386324 & 3.380836 & 0.000000 & 2.261001 & 1.636451 &  0.66261121\\\\\n",
       "\t4 & 99879 & chr10 & 119077883 & 119083160 & 100007 & chr10 & 119716413 & 119724542 & chr10 & ENSG00000107581 & 3.994297 & 2.620208 & 3.419915 & 3.040367 & 3.129573 & 2.513083 & 2.269831 & 3.253201 & 2.727703 & -0.65437620\\\\\n",
       "\t5 & 99879 & chr10 & 119077883 & 119083160 & 100008 & chr10 & 119724542 & 119727941 & chr10 & ENSG00000107581 & 2.343036 & 3.124755 & 2.710272 & 3.501349 & 3.532390 & 0.000000 & 2.448842 & 2.933226 & 2.565841 & -0.91353951\\\\\n",
       "\t7 & 99879 & chr10 & 119077883 & 119083160 & 100009 & chr10 & 119727941 & 119728597 & chr10 & ENSG00000107581 & 2.961528 & 3.323323 & 2.710272 & 3.742993 & 3.008461 & 1.745966 & 0.000000 & 2.741975 & 1.930548 &  0.04397581\\\\\n",
       "\t20 & 99879 & chr10 & 119077883 & 119083160 & 100034 & chr10 & 119824560 & 119831806 & chr10 & ENSG00000107581 & 2.685175 & 1.837617 & 1.915416 & 3.363432 & 3.008461 & 2.179922 & 2.448842 & 2.261001 & 2.727703 & -0.84578271\\\\\n",
       "\t21 & 99879 & chr10 & 119077883 & 119083160 & 100036 & chr10 & 119831972 & 119836192 & chr10 & ENSG00000107581 & 0.000000 & 2.281339 & 2.366906 & 2.623433 & 2.386324 & 0.000000 & 2.448842 & 0.000000 & 3.341844 & -0.51149617\\\\\n",
       "\\end{tabular}\n"
      ],
      "text/markdown": [
       "\n",
       "A data.frame: 6 × 20\n",
       "\n",
       "| <!--/--> | baitID &lt;int&gt; | baitchr &lt;fct&gt; | baitstart &lt;int&gt; | baitend &lt;int&gt; | otherEndID &lt;int&gt; | otherEndchr &lt;fct&gt; | otherEndstart &lt;int&gt; | otherEndend &lt;int&gt; | chr &lt;fct&gt; | ENSG &lt;fct&gt; | T01 &lt;dbl&gt; | T02 &lt;dbl&gt; | T201 &lt;dbl&gt; | T202 &lt;dbl&gt; | T1H1 &lt;dbl&gt; | T1H2 &lt;dbl&gt; | T4H1 &lt;dbl&gt; | T4H2 &lt;dbl&gt; | T24H1 &lt;dbl&gt; | corr_rep &lt;dbl&gt; |\n",
       "|---|---|---|---|---|---|---|---|---|---|---|---|---|---|---|---|---|---|---|---|---|\n",
       "| 1 | 99879 | chr10 | 119077883 | 119083160 | 100000 | chr10 | 119687482 | 119688430 | chr10 | ENSG00000107581 | 2.685175 | 2.281339 | 0.000000 | 0.000000 | 2.386324 | 3.380836 | 0.000000 | 2.261001 | 1.636451 |  0.66261121 |\n",
       "| 4 | 99879 | chr10 | 119077883 | 119083160 | 100007 | chr10 | 119716413 | 119724542 | chr10 | ENSG00000107581 | 3.994297 | 2.620208 | 3.419915 | 3.040367 | 3.129573 | 2.513083 | 2.269831 | 3.253201 | 2.727703 | -0.65437620 |\n",
       "| 5 | 99879 | chr10 | 119077883 | 119083160 | 100008 | chr10 | 119724542 | 119727941 | chr10 | ENSG00000107581 | 2.343036 | 3.124755 | 2.710272 | 3.501349 | 3.532390 | 0.000000 | 2.448842 | 2.933226 | 2.565841 | -0.91353951 |\n",
       "| 7 | 99879 | chr10 | 119077883 | 119083160 | 100009 | chr10 | 119727941 | 119728597 | chr10 | ENSG00000107581 | 2.961528 | 3.323323 | 2.710272 | 3.742993 | 3.008461 | 1.745966 | 0.000000 | 2.741975 | 1.930548 |  0.04397581 |\n",
       "| 20 | 99879 | chr10 | 119077883 | 119083160 | 100034 | chr10 | 119824560 | 119831806 | chr10 | ENSG00000107581 | 2.685175 | 1.837617 | 1.915416 | 3.363432 | 3.008461 | 2.179922 | 2.448842 | 2.261001 | 2.727703 | -0.84578271 |\n",
       "| 21 | 99879 | chr10 | 119077883 | 119083160 | 100036 | chr10 | 119831972 | 119836192 | chr10 | ENSG00000107581 | 0.000000 | 2.281339 | 2.366906 | 2.623433 | 2.386324 | 0.000000 | 2.448842 | 0.000000 | 3.341844 | -0.51149617 |\n",
       "\n"
      ],
      "text/plain": [
       "   baitID baitchr baitstart baitend   otherEndID otherEndchr otherEndstart\n",
       "1  99879  chr10   119077883 119083160 100000     chr10       119687482    \n",
       "4  99879  chr10   119077883 119083160 100007     chr10       119716413    \n",
       "5  99879  chr10   119077883 119083160 100008     chr10       119724542    \n",
       "7  99879  chr10   119077883 119083160 100009     chr10       119727941    \n",
       "20 99879  chr10   119077883 119083160 100034     chr10       119824560    \n",
       "21 99879  chr10   119077883 119083160 100036     chr10       119831972    \n",
       "   otherEndend chr   ENSG            T01      T02      T201     T202    \n",
       "1  119688430   chr10 ENSG00000107581 2.685175 2.281339 0.000000 0.000000\n",
       "4  119724542   chr10 ENSG00000107581 3.994297 2.620208 3.419915 3.040367\n",
       "5  119727941   chr10 ENSG00000107581 2.343036 3.124755 2.710272 3.501349\n",
       "7  119728597   chr10 ENSG00000107581 2.961528 3.323323 2.710272 3.742993\n",
       "20 119831806   chr10 ENSG00000107581 2.685175 1.837617 1.915416 3.363432\n",
       "21 119836192   chr10 ENSG00000107581 0.000000 2.281339 2.366906 2.623433\n",
       "   T1H1     T1H2     T4H1     T4H2     T24H1    corr_rep   \n",
       "1  2.386324 3.380836 0.000000 2.261001 1.636451  0.66261121\n",
       "4  3.129573 2.513083 2.269831 3.253201 2.727703 -0.65437620\n",
       "5  3.532390 0.000000 2.448842 2.933226 2.565841 -0.91353951\n",
       "7  3.008461 1.745966 0.000000 2.741975 1.930548  0.04397581\n",
       "20 3.008461 2.179922 2.448842 2.261001 2.727703 -0.84578271\n",
       "21 2.386324 0.000000 2.448842 0.000000 3.341844 -0.51149617"
      ]
     },
     "metadata": {},
     "output_type": "display_data"
    }
   ],
   "source": [
    "head(chic_data_within5MB)"
   ]
  },
  {
   "cell_type": "code",
   "execution_count": 9,
   "metadata": {},
   "outputs": [],
   "source": [
    "chic_data_within5MB$T0 <- 0.5*(chic_data_within5MB$T01 + chic_data_within5MB$T02)\n",
    "chic_data_within5MB$T20 <- 0.5*(chic_data_within5MB$T201 + chic_data_within5MB$T202)\n",
    "chic_data_within5MB$T1H <- 0.5*(chic_data_within5MB$T1H1 + chic_data_within5MB$T1H2)\n",
    "chic_data_within5MB$T4H <- 0.5*(chic_data_within5MB$T4H1 + chic_data_within5MB$T4H2)\n",
    "chic_data_within5MB$T24H <- chic_data_within5MB$T24H1\n"
   ]
  },
  {
   "cell_type": "code",
   "execution_count": null,
   "metadata": {},
   "outputs": [],
   "source": []
  },
  {
   "cell_type": "markdown",
   "metadata": {},
   "source": [
    "### clustering CHi-C data"
   ]
  },
  {
   "cell_type": "code",
   "execution_count": 10,
   "metadata": {},
   "outputs": [],
   "source": [
    "chic_data_normalized <- data.frame(t(scale(t(chic_data_within5MB[,c('T0','T20','T1H','T4H','T24H')]),center=TRUE,scale=TRUE)))\n"
   ]
  },
  {
   "cell_type": "code",
   "execution_count": 11,
   "metadata": {},
   "outputs": [
    {
     "name": "stderr",
     "output_type": "stream",
     "text": [
      "Warning message:\n",
      "“Quick-TRANSfer stage steps exceeded maximum (= 7437100)”\n"
     ]
    }
   ],
   "source": [
    "### start kmeans\n",
    "\n",
    "set.seed(5)\n",
    "CLUSTER_SIZE = 100\n",
    "kmeans_cluster <- kmeans(chic_data_normalized,centers=CLUSTER_SIZE,iter.max = 100)\n",
    "#cluster_freq <- count(kmeans_cluster$cluster)\n",
    "cluster_freq <- as.data.frame(table(kmeans_cluster$cluster))\n",
    "names(cluster_freq) <- c('x','freq')\n",
    "cl <- cluster_freq[with(cluster_freq,order(-cluster_freq[,'freq'])),]\n",
    "M <- 24\n",
    "clusters_picked <- cl$x[1:M]\n",
    "clusters_frequency <- cl$freq[1:M]\n",
    "centers_picked <- kmeans_cluster$center[clusters_picked,]\n",
    "idx <- numeric(0)\n",
    "\n",
    "data_forillus_chic <- numeric(0)\n",
    "for (ii in 1:M){\n",
    "    idx <- which(kmeans_cluster$cluster==clusters_picked[ii])   \n",
    "    data_forillus_chic <- c(data_forillus_chic,c(t(chic_data_normalized[idx,])))\n",
    "}\n",
    "time <- c(0,1,2,3,4)\n",
    "\n",
    "data_forplot_chic <- data.frame(x=rep(time, sum(clusters_frequency)), y=data_forillus_chic, \n",
    "                           group_time = rep(1:((sum(clusters_frequency))),each=length(time)),\n",
    "                           group_cluster = rep(1:M,clusters_frequency*length(time)),\n",
    "                           #group_replicate = rep(rep(c(1,2), each=length(time)), sum(clusters_frequency)),\n",
    "                           group_frequency = rep(clusters_frequency, clusters_frequency*length(time)))"
   ]
  },
  {
   "cell_type": "markdown",
   "metadata": {},
   "source": [
    "### plot the clustering results"
   ]
  },
  {
   "cell_type": "code",
   "execution_count": 12,
   "metadata": {},
   "outputs": [
    {
     "data": {
      "image/png": "[encoded data removed]",
      "text/plain": [
       "plot without title"
      ]
     },
     "metadata": {
      "image/png": {
       "height": 420,
       "width": 420
      },
      "text/plain": {
       "height": 420,
       "width": 420
      }
     },
     "output_type": "display_data"
    }
   ],
   "source": [
    "ggplot(data=data_forplot_chic, aes(x=factor(x),y=y,group=group_time)) + geom_line()+\n",
    "   labs(title=\" \", x =\"Time\", y = \"Normalized CHiC counts\") + ggtitle('Top 24 clusters of CHi-C data (Supplementary Fig. 5b)') +\n",
    "   theme(panel.background=element_blank(),plot.title = element_text(hjust = 0.5, face='bold', size=12),\n",
    "         axis.title=element_text(size=10,face=\"bold\"), axis.text.x=element_text(size=10, face='bold', angle=-90,hjust=0.5), \n",
    "         axis.text.y=element_text(size=8, face='bold'),axis.line=element_line('black'),strip.text.x=element_blank(), strip.text.y=element_blank(), legend.position=\"none\") +\n",
    "     scale_x_discrete(breaks=c(0,1,2,3,4), labels=c('0m','20m','1hr','4hr','24hr')) +\n",
    "facet_grid((group_cluster-1) %/%4 ~(group_cluster-1)%%4 )\n"
   ]
  },
  {
   "cell_type": "code",
   "execution_count": 13,
   "metadata": {},
   "outputs": [],
   "source": [
    "write.table(cbind(chic_data_within5MB[,c('baitID','otherEndID')], chic_data_normalized), \n",
    "            file='chic_data_normalizedwithcluster.txt', quote=F, row.names=F)"
   ]
  },
  {
   "cell_type": "code",
   "execution_count": null,
   "metadata": {},
   "outputs": [],
   "source": []
  }
 ],
 "metadata": {
  "kernelspec": {
   "display_name": "R",
   "language": "R",
   "name": "ir"
  },
  "language_info": {
   "codemirror_mode": "r",
   "file_extension": ".r",
   "mimetype": "text/x-r-source",
   "name": "R",
   "pygments_lexer": "r",
   "version": "3.6.3"
  }
 },
 "nbformat": 4,
 "nbformat_minor": 2
}
