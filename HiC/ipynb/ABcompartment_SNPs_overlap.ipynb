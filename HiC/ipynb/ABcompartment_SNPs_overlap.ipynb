{
 "cells": [
  {
   "cell_type": "markdown",
   "metadata": {},
   "source": [
    "## Jupyter notebook for illustrating the overlaps between A/B compartments and SNPs\n",
    "This notebook is the code for illustrating overlaps between A/B compartments and SNPs from the time course Hi-C used in the paper **\"Simultaneous analysis of open chromatin, promoter interactions and gene expression in stimulated T cells implicates causal genes for rheumatoid arthritis\"** by Jing Yang, Amanda McGovern, Paul Martin, Kate Duffus, Peyman Zarrineh, Andrew P Morris, Antony Adamson, Peter Fraser, Magnus Rattray & Stephen Eyre. \n",
    "\n",
    "Author : *Jing Yang*  <br />\n",
    "Date: 24-10-2019 <br />\n",
    "For any questions about the code, please drop me a line at Jing.Yang@manchester.ac.uk"
   ]
  },
  {
   "cell_type": "markdown",
   "metadata": {},
   "source": [
    "### load packages required"
   ]
  },
  {
   "cell_type": "code",
   "execution_count": 1,
   "metadata": {},
   "outputs": [],
   "source": [
    "library(ggplot2)\n"
   ]
  },
  {
   "cell_type": "markdown",
   "metadata": {},
   "source": [
    "### load SNPs data for rheumatoid arthritis "
   ]
  },
  {
   "cell_type": "code",
   "execution_count": 2,
   "metadata": {},
   "outputs": [],
   "source": [
    "snps <- read.table('https://personalpages.manchester.ac.uk/staff/jing.yang/Data/HiC/data/RA_CREDIBLE_SNPS.txt', header=F)\n",
    "snps_partial <- snps[,1:3]\n",
    "names(snps_partial) <- c('chr','start','end')\n",
    "snps_partial_forcompare <- snps_partial\n",
    "snps_partial_forcompare$label <- 'SNPs'\n",
    "snps_chr1 <- subset(snps_partial, snps_partial$chr %in% 'chr1')\n",
    "snps_chr1$ymin <- 0\n",
    "snps_chr1$ymax <- 0.4\n",
    "snps_chr1$id<- 1:dim(snps_chr1)[1]\n"
   ]
  },
  {
   "cell_type": "markdown",
   "metadata": {},
   "source": [
    "### load A/B compartments data for time 0 mims, 20 mins, 1 hr, 4 hrs and 24 hrs"
   ]
  },
  {
   "cell_type": "code",
   "execution_count": 3,
   "metadata": {},
   "outputs": [],
   "source": [
    "compartment_T0_chr1 <- read.table('https://personalpages.manchester.ac.uk/staff/jing.yang/Data/HiC/data/compartment_T0_chr1.txt', header=F, row.names=1)\n",
    "compartment_T20_chr1 <- read.table('https://personalpages.manchester.ac.uk/staff/jing.yang/Data/HiC/data/compartment_T20_chr1.txt', header=F, row.names=1)\n",
    "compartment_T1H_chr1 <- read.table('https://personalpages.manchester.ac.uk/staff/jing.yang/Data/HiC/data/compartment_T1H_chr1.txt', header=F, row.names=1)\n",
    "compartment_T4H_chr1 <- read.table('https://personalpages.manchester.ac.uk/staff/jing.yang/Data/HiC/data/compartment_T4H_chr1.txt', header=F, row.names=1)\n",
    "compartment_T24H_chr1 <- read.table('https://personalpages.manchester.ac.uk/staff/jing.yang/Data/HiC/data/compartment_T24H_chr1.txt', header=F, row.names=1)\n",
    "\n"
   ]
  },
  {
   "cell_type": "code",
   "execution_count": 4,
   "metadata": {},
   "outputs": [],
   "source": [
    "names(compartment_T0_chr1) <- c('chr','start','end','strand','value')\n",
    "names(compartment_T20_chr1) <- c('chr','start','end','strand','value')\n",
    "names(compartment_T1H_chr1) <- c('chr','start','end','strand','value')\n",
    "names(compartment_T4H_chr1) <- c('chr','start','end','strand','value')\n",
    "names(compartment_T24H_chr1) <- c('chr','start','end','strand','value')\n"
   ]
  },
  {
   "cell_type": "code",
   "execution_count": 5,
   "metadata": {},
   "outputs": [],
   "source": [
    "compartment_T0_chr1_data <- compartment_T0_chr1[,c('start','end','value')]\n",
    "compartment_T20_chr1_data <- compartment_T20_chr1[,c('start','end','value')]\n",
    "compartment_T1H_chr1_data <- compartment_T1H_chr1[,c('start','end','value')]\n",
    "compartment_T4H_chr1_data <- compartment_T4H_chr1[,c('start','end','value')]\n",
    "compartment_T24H_chr1_data <- compartment_T24H_chr1[,c('start','end','value')]\n",
    "\n"
   ]
  },
  {
   "cell_type": "markdown",
   "metadata": {},
   "source": [
    "### prepare data for illustration"
   ]
  },
  {
   "cell_type": "code",
   "execution_count": 6,
   "metadata": {},
   "outputs": [],
   "source": [
    "nrow_T0 <- dim(compartment_T0_chr1_data)[1]\n",
    "ncol_T0 <- dim(compartment_T0_chr1_data)[2]\n",
    "nrow_T20 <- dim(compartment_T20_chr1_data)[1]\n",
    "ncol_T20 <- dim(compartment_T20_chr1_data)[2]\n",
    "nrow_T1H <- dim(compartment_T1H_chr1_data)[1]\n",
    "ncol_T1H <- dim(compartment_T1H_chr1_data)[2]\n",
    "nrow_T4H <- dim(compartment_T4H_chr1_data)[1]\n",
    "ncol_T4H <- dim(compartment_T4H_chr1_data)[2]\n",
    "nrow_T24H <- dim(compartment_T24H_chr1_data)[1]\n",
    "ncol_T24H <- dim(compartment_T24H_chr1_data)[2]"
   ]
  },
  {
   "cell_type": "code",
   "execution_count": 7,
   "metadata": {},
   "outputs": [],
   "source": [
    "compartment_T0_chr1_data$x <- 0.5*(compartment_T0_chr1_data$start + compartment_T0_chr1_data$end)\n",
    "compartment_T20_chr1_data$x <- 0.5*(compartment_T20_chr1_data$start + compartment_T20_chr1_data$end)\n",
    "compartment_T1H_chr1_data$x <- 0.5*(compartment_T1H_chr1_data$start + compartment_T1H_chr1_data$end)\n",
    "compartment_T4H_chr1_data$x <- 0.5*(compartment_T4H_chr1_data$start + compartment_T4H_chr1_data$end)\n",
    "compartment_T24H_chr1_data$x <- 0.5*(compartment_T24H_chr1_data$start + compartment_T24H_chr1_data$end)\n",
    "\n",
    "compartment_T0_chr1_data$ymin <- sapply(seq.int(nrow_T0), function(i) min(0,compartment_T0_chr1_data$value[i]))\n",
    "compartment_T0_chr1_data$ymax <- sapply(seq.int(nrow_T0), function(i) max(0,compartment_T0_chr1_data$value[i]))\n",
    "compartment_T20_chr1_data$ymin <- sapply(seq.int(nrow_T20), function(i) min(0,compartment_T20_chr1_data$value[i]))\n",
    "compartment_T20_chr1_data$ymax <- sapply(seq.int(nrow_T20), function(i) max(0,compartment_T20_chr1_data$value[i]))\n",
    "compartment_T1H_chr1_data$ymin <- sapply(seq.int(nrow_T1H), function(i) min(0,compartment_T1H_chr1_data$value[i]))\n",
    "compartment_T1H_chr1_data$ymax <- sapply(seq.int(nrow_T1H), function(i) max(0,compartment_T1H_chr1_data$value[i]))\n",
    "compartment_T4H_chr1_data$ymin <- sapply(seq.int(nrow_T4H), function(i) min(0,compartment_T4H_chr1_data$value[i]))\n",
    "compartment_T4H_chr1_data$ymax <- sapply(seq.int(nrow_T4H), function(i) max(0,compartment_T4H_chr1_data$value[i]))  \n",
    "compartment_T24H_chr1_data$ymin <- sapply(seq.int(nrow_T24H), function(i) min(0,compartment_T24H_chr1_data$value[i]))\n",
    "compartment_T24H_chr1_data$ymax <- sapply(seq.int(nrow_T24H), function(i) max(0,compartment_T24H_chr1_data$value[i]))  "
   ]
  },
  {
   "cell_type": "code",
   "execution_count": 8,
   "metadata": {},
   "outputs": [],
   "source": [
    "compartment_T0_chr1_data$group <- 'A'\n",
    "compartment_T0_chr1_data[compartment_T0_chr1_data$ymin <0, 'group'] <- 'B'\n",
    "compartment_T0_chr1_data$id <- 1:nrow_T0\n",
    "\n",
    "compartment_T20_chr1_data$group <- 'A'\n",
    "compartment_T20_chr1_data[compartment_T20_chr1_data$ymin <0, 'group'] <- 'B'\n",
    "compartment_T20_chr1_data$id <- 1:nrow_T20\n",
    "\n",
    "compartment_T1H_chr1_data$group <- 'A'\n",
    "compartment_T1H_chr1_data[compartment_T1H_chr1_data$ymin <0, 'group'] <- 'B'\n",
    "compartment_T1H_chr1_data$id <- 1:nrow_T1H\n",
    "\n",
    "compartment_T4H_chr1_data$group <- 'A'\n",
    "compartment_T4H_chr1_data[compartment_T4H_chr1_data$ymin <0, 'group'] <- 'B'\n",
    "compartment_T4H_chr1_data$id <- 1:nrow_T4H\n",
    "\n",
    "compartment_T24H_chr1_data$group <- 'A'\n",
    "compartment_T24H_chr1_data[compartment_T24H_chr1_data$ymin <0, 'group'] <- 'B'\n",
    "compartment_T24H_chr1_data$id <- 1:nrow_T24H"
   ]
  },
  {
   "cell_type": "markdown",
   "metadata": {},
   "source": [
    "### show the overlap between AB compartment and SNPs"
   ]
  },
  {
   "cell_type": "code",
   "execution_count": 9,
   "metadata": {},
   "outputs": [
    {
     "data": {
      "image/png": "[encoded data removed]",
      "text/plain": [
       "plot without title"
      ]
     },
     "metadata": {
      "image/png": {
       "height": 420,
       "width": 420
      },
      "text/plain": {
       "height": 420,
       "width": 420
      }
     },
     "output_type": "display_data"
    }
   ],
   "source": [
    "\n",
    "ggplot() +  geom_rect(data=compartment_T0_chr1_data, aes(xmin=start,xmax=end, ymin=ymin, ymax=ymax, fill=group, group=id)) + scale_fill_manual(values=c('black','grey')) +\n",
    " geom_rect(data=snps_chr1, aes(xmin=start, xmax=end, ymin=-Inf, ymax=+Inf, group=id), color='red', alpha=0.5)+ xlab('Chr1') + theme(aspect.ratio = 0.5, plot.title=element_text(hjust=0.5)) + \n",
    "scale_x_continuous(limits=c(0,NA)) + guides(fill=guide_legend(title=\"\")) + ggtitle('Overlap of AB compartment and SNPs for time 0 mins')\n",
    "\n",
    "#grid.arrange(p1, p2, p3, p4, p5, ncol=1)\n"
   ]
  },
  {
   "cell_type": "code",
   "execution_count": 10,
   "metadata": {},
   "outputs": [
    {
     "data": {
      "image/png": "[encoded data removed]",
      "text/plain": [
       "plot without title"
      ]
     },
     "metadata": {
      "image/png": {
       "height": 420,
       "width": 420
      },
      "text/plain": {
       "height": 420,
       "width": 420
      }
     },
     "output_type": "display_data"
    }
   ],
   "source": [
    "ggplot() +  geom_rect(data=compartment_T20_chr1_data, aes(xmin=start,xmax=end, ymin=ymin, ymax=ymax, fill=group, group=id)) + scale_fill_manual(values=c('black','grey')) +\n",
    " geom_rect(data=snps_chr1, aes(xmin=start, xmax=end, ymin=-Inf, ymax=+Inf, group=id), color='red', alpha=0.5)+ xlab('Chr1') + theme(aspect.ratio = 0.5, plot.title=element_text(hjust=0.5)) + \n",
    "scale_x_continuous(limits=c(0,NA)) + guides(fill=guide_legend(title=\"\")) + ggtitle('Overlap of AB compartment and SNPs for time 20 mins')\n",
    "\n"
   ]
  },
  {
   "cell_type": "raw",
   "metadata": {},
   "source": [
    "ggplot() +  geom_rect(data=compartment_T1H_chr1_data, aes(xmin=start,xmax=end, ymin=ymin, ymax=ymax, fill=group, group=id)) + scale_fill_manual(values=c('black','grey')) +\n",
    " geom_rect(data=snps_chr1, aes(xmin=start, xmax=end, ymin=-Inf, ymax=+Inf, group=id), color='red', alpha=0.5)+ xlab('Chr1') + theme(aspect.ratio = 0.5, plot.title=element_text(hjust=0.5)) + \n",
    "scale_x_continuous(limits=c(0,NA)) + guides(fill=guide_legend(title=\"\")) + ggtitle('Overlap of AB compartment and SNPs for time 1 hr')\n",
    "\n",
    "ggplot() +  geom_rect(data=compartment_T4H_chr1_data, aes(xmin=start,xmax=end, ymin=ymin, ymax=ymax, fill=group, group=id)) + scale_fill_manual(values=c('black','grey')) +\n",
    " geom_rect(data=snps_chr1, aes(xmin=start, xmax=end, ymin=-Inf, ymax=+Inf, group=id), color='red', alpha=0.5)+ xlab('Chr1') + theme(aspect.ratio = 0.5, plot.title=element_text(hjust=0.5)) + \n",
    "scale_x_continuous(limits=c(0,NA)) + guides(fill=guide_legend(title=\"\")) + ggtitle('Overlap of AB compartment and SNPs for time 4 hrs')\n",
    "\n",
    "ggplot() +  geom_rect(data=compartment_T24H_chr1_data, aes(xmin=start,xmax=end, ymin=ymin, ymax=ymax, fill=group, group=id)) + scale_fill_manual(values=c('black','grey')) +\n",
    " geom_rect(data=snps_chr1, aes(xmin=start, xmax=end, ymin=-Inf, ymax=+Inf, group=id), color='red', alpha=0.5)+ xlab('Chr1') + theme(aspect.ratio = 0.5, plot.title=element_text(hjust=0.5)) + \n",
    "scale_x_continuous(limits=c(0,NA)) + guides(fill=guide_legend(title=\"\")) + ggtitle('Overlap of AB compartment and SNPs for time 24 hrs')\n"
   ]
  }
 ],
 "metadata": {
  "kernelspec": {
   "display_name": "R",
   "language": "R",
   "name": "ir"
  },
  "language_info": {
   "codemirror_mode": "r",
   "file_extension": ".r",
   "mimetype": "text/x-r-source",
   "name": "R",
   "pygments_lexer": "r",
   "version": "3.6.3"
  }
 },
 "nbformat": 4,
 "nbformat_minor": 2
}
