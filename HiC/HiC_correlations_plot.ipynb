{
 "cells": [
  {
   "cell_type": "markdown",
   "metadata": {},
   "source": [
    "## Jupyter notebook for computing correlations between HiC replicates across time\n",
    "This notebook is the code for computing the correlations between replicates of the time course Hi-C used in the paper **\"Simultaneous analysis of open chromatin, promoter interactions and gene expression in stimulated T cells implicates causal genes for rheumatoid arthritis\"** by Jing Yang, Amanda McGovern, Paul Martin, Kate Duffus, Peyman Zarrineh, Andrew P Morris, Antony Adamson, Peter Fraser, Magnus Rattray & Stephen Eyre. \n",
    "\n",
    "Author : *Jing Yang*  <br />\n",
    "Date: 24-10-2019 <br />\n",
    "For any questions about the code, please drop me a line at Jing.Yang@manchester.ac.uk"
   ]
  },
  {
   "cell_type": "markdown",
   "metadata": {},
   "source": [
    "### load packages. "
   ]
  },
  {
   "cell_type": "code",
   "execution_count": 1,
   "metadata": {},
   "outputs": [],
   "source": [
    "library(reshape2)\n",
    "library(ggplot2)\n",
    "library(hicrep)\n"
   ]
  },
  {
   "cell_type": "markdown",
   "metadata": {},
   "source": [
    "### load Hi-C data for replicate 1 and replicate 2"
   ]
  },
  {
   "cell_type": "code",
   "execution_count": 2,
   "metadata": {},
   "outputs": [],
   "source": [
    "T0_rep1 <- read.table('https://personalpages.manchester.ac.uk/staff/jing.yang/Data/HiC/data/T0_40k_rep1_chr1.txt', header=T)\n",
    "T20_rep1 <- read.table('https://personalpages.manchester.ac.uk/staff/jing.yang/Data/HiC/data/T20_40k_rep1_chr1.txt', header=T)\n",
    "T1H_rep1 <- read.table('https://personalpages.manchester.ac.uk/staff/jing.yang/Data/HiC/data/T1H_40k_rep1_chr1.txt', header=T)\n",
    "T4H_rep1 <- read.table('https://personalpages.manchester.ac.uk/staff/jing.yang/Data/HiC/data/T4H_40k_rep1_chr1.txt', header=T)"
   ]
  },
  {
   "cell_type": "code",
   "execution_count": 3,
   "metadata": {},
   "outputs": [],
   "source": [
    "T0_rep2 <- read.table('https://personalpages.manchester.ac.uk/staff/jing.yang/Data/HiC/data/T0_40k_rep2_chr1.txt', header=T)\n",
    "T20_rep2 <- read.table('https://personalpages.manchester.ac.uk/staff/jing.yang/Data/HiC/data/T20_40k_rep2_chr1.txt', header=T)\n",
    "T1H_rep2 <- read.table('https://personalpages.manchester.ac.uk/staff/jing.yang/Data/HiC/data/T1H_40k_rep2_chr1.txt', header=T)\n",
    "T4H_rep2 <- read.table('https://personalpages.manchester.ac.uk/staff/jing.yang/Data/HiC/data/T4H_40k_rep2_chr1.txt', header=T)"
   ]
  },
  {
   "cell_type": "markdown",
   "metadata": {},
   "source": [
    "### Calculate correlations for Hi-C replicates by functions from hicrep package"
   ]
  },
  {
   "cell_type": "code",
   "execution_count": 4,
   "metadata": {},
   "outputs": [],
   "source": [
    "\n",
    "name0 <- data.frame(firstvar = c('T0_rep1', 'T20_rep1', 'T1H_rep1', 'T4H_rep1'), \n",
    "                    secondvar = c('T0_rep1', 'T20_rep2', 'T1H_rep2', 'T4H_rep2'))\n",
    "name20 <- data.frame(firstvar = c('T0_rep1', 'T0_rep1', 'T0_rep2', 'T0_rep2'), \n",
    "                    secondvar = c('T20_rep1', 'T20_rep2', 'T20_rep1', 'T20_rep2'))\n",
    "name60 <- data.frame(firstvar = c('T0_rep1', 'T0_rep1', 'T0_rep2', 'T0_rep2'), \n",
    "                    secondvar = c('T1H_rep1', 'T1H_rep2', 'T1H_rep1', 'T1H_rep2'))\n",
    "name180 <- data.frame(firstvar = c('T1H_rep1', 'T1H_rep1', 'T1H_rep2', 'T1H_rep2'), \n",
    "                    secondvar = c('T4H_rep1', 'T4H_rep2', 'T4H_rep1', 'T4H_rep2'))\n",
    "name220 <- data.frame(firstvar = c('T20_rep1', 'T20_rep1', 'T20_rep2', 'T20_rep2'), \n",
    "                    secondvar = c('T4H_rep1', 'T4H_rep2', 'T4H_rep1', 'T4H_rep2'))\n",
    "name240 <- data.frame(firstvar = c('T0_rep1', 'T0_rep1', 'T0_rep2', 'T0_rep2'), \n",
    "                    secondvar = c('T4H_rep1', 'T4H_rep2', 'T4H_rep1', 'T4H_rep2'))\n",
    "                    "
   ]
  },
  {
   "cell_type": "code",
   "execution_count": 5,
   "metadata": {},
   "outputs": [],
   "source": [
    "name0 <- lapply(name0,as.character)\n",
    "name20 <- lapply(name20,as.character)\n",
    "name60 <- lapply(name60,as.character)\n",
    "name180 <- lapply(name180,as.character)\n",
    "name220 <- lapply(name220,as.character)\n",
    "name240 <- lapply(name240,as.character)\n"
   ]
  },
  {
   "cell_type": "markdown",
   "metadata": {},
   "source": [
    "### the calculation is very slow. I will load the results I saved before in this package"
   ]
  },
  {
   "cell_type": "code",
   "execution_count": 22,
   "metadata": {},
   "outputs": [
    {
     "name": "stdout",
     "output_type": "stream",
     "text": [
      "[1] \" 1\"\n",
      "[1] \" 1 0.939636205280908\"\n",
      "[1] \" 1 0.939636205280908 0.937831617507005\"\n",
      "[1] \" 1 0.939636205280908 0.937831617507005 0.938314421739451\"\n"
     ]
    }
   ],
   "source": [
    "corr0 <- numeric(0)\n",
    "for (ii in 1:4) {\n",
    "  #h_hat <- htrain(eval(as.symbol(name0$firstvar[ii])), eval(as.symbol(name0$secondvar[ii])), 40000, 100000, 0:10)\n",
    "  corr_prep <- prep(eval(as.name(name0$firstvar[ii])), eval(as.name(name0$secondvar[ii])), 40000, 1, 100000)\n",
    "  corr0 = paste(corr0, get.scc(corr_prep, 40000, 100000)$scc)\n",
    "  print(corr0)\n",
    "}\n"
   ]
  },
  {
   "cell_type": "code",
   "execution_count": 23,
   "metadata": {},
   "outputs": [
    {
     "data": {
      "text/html": [
       "' 1 0.939636205280908 0.937831617507005 0.938314421739451'"
      ],
      "text/latex": [
       "' 1 0.939636205280908 0.937831617507005 0.938314421739451'"
      ],
      "text/markdown": [
       "' 1 0.939636205280908 0.937831617507005 0.938314421739451'"
      ],
      "text/plain": [
       "[1] \" 1 0.939636205280908 0.937831617507005 0.938314421739451\""
      ]
     },
     "metadata": {},
     "output_type": "display_data"
    }
   ],
   "source": [
    "corr0"
   ]
  },
  {
   "cell_type": "code",
   "execution_count": 24,
   "metadata": {},
   "outputs": [
    {
     "name": "stderr",
     "output_type": "stream",
     "text": [
      "smoothing:0\n",
      "smoothing:1\n",
      "smoothing:2\n",
      "smoothing:3\n",
      "smoothing:0\n",
      "smoothing:1\n",
      "smoothing:2\n",
      "smoothing:3\n",
      "smoothing:4\n",
      "smoothing:0\n",
      "smoothing:1\n",
      "smoothing:2\n",
      "smoothing:3\n",
      "smoothing:4\n",
      "smoothing:0\n",
      "smoothing:1\n",
      "smoothing:2\n",
      "smoothing:3\n",
      "smoothing:4\n"
     ]
    }
   ],
   "source": [
    "corr20 <- numeric(0)\n",
    "for (ii in 1:4) {\n",
    "  h_hat <- htrain(eval(as.symbol(name20$firstvar[ii])), eval(as.symbol(name20$secondvar[ii])), 40000, 100000, 0:10)\n",
    "  corr_prep <- prep(eval(as.name(name20$firstvar[ii])), eval(as.name(name20$secondvar[ii])), 40000, h_hat, 100000)\n",
    "  corr20 = paste(corr20, get.scc(corr_prep, 40000, 100000)$scc)\n",
    "}\n",
    "                 "
   ]
  },
  {
   "cell_type": "code",
   "execution_count": 25,
   "metadata": {},
   "outputs": [
    {
     "name": "stderr",
     "output_type": "stream",
     "text": [
      "smoothing:0\n",
      "smoothing:1\n",
      "smoothing:2\n",
      "smoothing:3\n",
      "smoothing:4\n",
      "smoothing:0\n",
      "smoothing:1\n",
      "smoothing:2\n",
      "smoothing:3\n",
      "smoothing:4\n",
      "smoothing:0\n",
      "smoothing:1\n",
      "smoothing:2\n",
      "smoothing:3\n",
      "smoothing:4\n",
      "smoothing:0\n",
      "smoothing:1\n",
      "smoothing:2\n",
      "smoothing:3\n",
      "smoothing:4\n"
     ]
    }
   ],
   "source": [
    "corr40 <- numeric(0)\n",
    "for (ii in 1:4) {\n",
    "  h_hat <- htrain(eval(as.symbol(name40$firstvar[ii])), eval(as.symbol(name40$secondvar[ii])), 40000, 100000, 0:10)\n",
    "  corr_prep <- prep(eval(as.name(name40$firstvar[ii])), eval(as.name(name40$secondvar[ii])), 40000, h_hat, 100000)\n",
    "  corr40 = paste(corr40, get.scc(corr_prep, 40000, 100000)$scc)\n",
    "}\n",
    "   "
   ]
  },
  {
   "cell_type": "code",
   "execution_count": 25,
   "metadata": {},
   "outputs": [
    {
     "name": "stderr",
     "output_type": "stream",
     "text": [
      "smoothing:0\n",
      "smoothing:1\n",
      "smoothing:2\n",
      "smoothing:3\n",
      "smoothing:4\n",
      "smoothing:0\n",
      "smoothing:1\n",
      "smoothing:2\n",
      "smoothing:3\n",
      "smoothing:4\n",
      "smoothing:0\n",
      "smoothing:1\n",
      "smoothing:2\n",
      "smoothing:3\n",
      "smoothing:4\n",
      "smoothing:0\n",
      "smoothing:1\n",
      "smoothing:2\n",
      "smoothing:3\n",
      "smoothing:4\n"
     ]
    }
   ],
   "source": [
    "corr60 <- numeric(0)\n",
    "for (ii in 1:4) {\n",
    "  h_hat <- htrain(eval(as.symbol(name60$firstvar[ii])), eval(as.symbol(name60$secondvar[ii])), 40000, 100000, 0:10)\n",
    "  corr_prep <- prep(eval(as.name(name60$firstvar[ii])), eval(as.name(name60$secondvar[ii])), 40000, h_hat, 100000)\n",
    "  corr60 = paste(corr60, get.scc(corr_prep, 40000, 100000)$scc)\n",
    "}\n",
    "   "
   ]
  },
  {
   "cell_type": "code",
   "execution_count": 26,
   "metadata": {},
   "outputs": [
    {
     "name": "stderr",
     "output_type": "stream",
     "text": [
      "smoothing:0\n",
      "smoothing:1\n",
      "smoothing:2\n",
      "smoothing:3\n",
      "smoothing:0\n",
      "smoothing:1\n",
      "smoothing:2\n",
      "smoothing:3\n",
      "smoothing:4\n",
      "smoothing:0\n",
      "smoothing:1\n",
      "smoothing:2\n",
      "smoothing:3\n",
      "smoothing:4\n",
      "smoothing:0\n",
      "smoothing:1\n",
      "smoothing:2\n",
      "smoothing:3\n",
      "smoothing:4\n"
     ]
    }
   ],
   "source": [
    "corr180 <- numeric(0)\n",
    "for (ii in 1:4) {\n",
    "  h_hat <- htrain(eval(as.symbol(name180$firstvar[ii])), eval(as.symbol(name180$secondvar[ii])), 40000, 100000, 0:10)\n",
    "  corr_prep <- prep(eval(as.name(name180$firstvar[ii])), eval(as.name(name180$secondvar[ii])), 40000, h_hat, 100000)\n",
    "  corr180 = paste(corr180, get.scc(corr_prep, 40000, 100000)$scc)\n",
    "}"
   ]
  },
  {
   "cell_type": "code",
   "execution_count": 27,
   "metadata": {},
   "outputs": [
    {
     "name": "stderr",
     "output_type": "stream",
     "text": [
      "smoothing:0\n",
      "smoothing:1\n",
      "smoothing:2\n",
      "smoothing:3\n",
      "smoothing:4\n",
      "smoothing:0\n",
      "smoothing:1\n",
      "smoothing:2\n",
      "smoothing:3\n",
      "smoothing:4\n",
      "smoothing:0\n",
      "smoothing:1\n",
      "smoothing:2\n",
      "smoothing:3\n",
      "smoothing:4\n",
      "smoothing:0\n",
      "smoothing:1\n",
      "smoothing:2\n",
      "smoothing:3\n",
      "smoothing:4\n",
      "smoothing:5\n"
     ]
    }
   ],
   "source": [
    "corr220 <- numeric(0)\n",
    "for (ii in 1:4) {\n",
    "  h_hat <- htrain(eval(as.symbol(name220$firstvar[ii])), eval(as.symbol(name220$secondvar[ii])), 40000, 100000, 0:10)\n",
    "  corr_prep <- prep(eval(as.name(name220$firstvar[ii])), eval(as.name(name220$secondvar[ii])), 40000, h_hat, 100000)\n",
    "  corr220 = paste(corr220, get.scc(corr_prep, 40000, 100000)$scc)\n",
    "}\n",
    "       "
   ]
  },
  {
   "cell_type": "code",
   "execution_count": 28,
   "metadata": {},
   "outputs": [
    {
     "name": "stderr",
     "output_type": "stream",
     "text": [
      "smoothing:0\n",
      "smoothing:1\n",
      "smoothing:2\n",
      "smoothing:3\n",
      "smoothing:4\n",
      "smoothing:0\n",
      "smoothing:1\n",
      "smoothing:2\n",
      "smoothing:3\n",
      "smoothing:4\n",
      "smoothing:0\n",
      "smoothing:1\n",
      "smoothing:2\n",
      "smoothing:3\n",
      "smoothing:4\n",
      "smoothing:0\n",
      "smoothing:1\n",
      "smoothing:2\n",
      "smoothing:3\n",
      "smoothing:4\n"
     ]
    }
   ],
   "source": [
    "corr240 <- numeric(0)\n",
    "for (ii in 1:4) {\n",
    "  h_hat <- htrain(eval(as.symbol(name240$firstvar[ii])), eval(as.symbol(name240$secondvar[ii])), 40000, 100000, 0:10)\n",
    "  corr_prep <- prep(eval(as.name(name240$firstvar[ii])), eval(as.name(name240$secondvar[ii])), 40000, h_hat, 100000)\n",
    "  corr240 = paste(corr240, get.scc(corr_prep, 40000, 100000)$scc)\n",
    "}"
   ]
  },
  {
   "cell_type": "code",
   "execution_count": 29,
   "metadata": {},
   "outputs": [
    {
     "ename": "ERROR",
     "evalue": "Error in data.frame(x = rep(c(0, 20, 40, 60, 180, 220, 240), each = 4), : object 'corr40' not found\n",
     "output_type": "error",
     "traceback": [
      "Error in data.frame(x = rep(c(0, 20, 40, 60, 180, 220, 240), each = 4), : object 'corr40' not found\nTraceback:\n",
      "1. data.frame(x = rep(c(0, 20, 40, 60, 180, 220, 240), each = 4), \n .     y = c(corr0, corr20, corr40, corr60, corr180, corr220, corr240))"
     ]
    }
   ],
   "source": [
    "data_forplot <- data.frame(x=rep(c(0,20,40,60,180,220,240), each=4), \n",
    "                           y=c(corr0, corr20, corr40, corr60, corr180, corr220,corr240))"
   ]
  },
  {
   "cell_type": "raw",
   "metadata": {},
   "source": [
    "save(data_forplot, file='HiC_correlation.RDATA')"
   ]
  },
  {
   "cell_type": "markdown",
   "metadata": {},
   "source": [
    "### plot the results"
   ]
  },
  {
   "cell_type": "code",
   "execution_count": 8,
   "metadata": {},
   "outputs": [],
   "source": [
    "load('https://personalpages.manchester.ac.uk/staff/jing.yang/Data/HiC/data/HiC_correlation.RDATA')"
   ]
  },
  {
   "cell_type": "code",
   "execution_count": 14,
   "metadata": {},
   "outputs": [
    {
     "data": {
      "image/png": "[encoded data removed]",
      "text/plain": [
       "plot without title"
      ]
     },
     "metadata": {},
     "output_type": "display_data"
    }
   ],
   "source": [
    "\n",
    "ggplot(data_forplot, aes(x=x, y=y)) + geom_point(size=1) + geom_smooth(method=\"gam\") + \n",
    "xlab('Time difference (mins)') + ylab('Hi-C correlation coefficient') + ggtitle('Correlation of Hi-C data across different time gaps (Fig. 2b)') + scale_y_continuous(limits=c(NA,1))+\n",
    "theme(\n",
    "  panel.grid.major = element_blank(),\n",
    "  panel.grid.minor = element_blank(),\n",
    "  panel.background = element_blank(),\n",
    "  legend.title=element_blank(),\n",
    "  plot.title=element_text(hjust=0.5),\n",
    "  axis.title=element_text(size=12,face=\"bold\"),\n",
    "  axis.text.x = element_text(size=10, face=\"bold\"),\n",
    "  axis.text.y = element_text(size=10, face=\"bold\"),\n",
    "  axis.line = element_line(colour = \"black\"))\n"
   ]
  },
  {
   "cell_type": "code",
   "execution_count": null,
   "metadata": {},
   "outputs": [],
   "source": []
  }
 ],
 "metadata": {
  "kernelspec": {
   "display_name": "R",
   "language": "R",
   "name": "ir"
  },
  "language_info": {
   "codemirror_mode": "r",
   "file_extension": ".r",
   "mimetype": "text/x-r-source",
   "name": "R",
   "pygments_lexer": "r",
   "version": "3.6.1"
  }
 },
 "nbformat": 4,
 "nbformat_minor": 2
}
