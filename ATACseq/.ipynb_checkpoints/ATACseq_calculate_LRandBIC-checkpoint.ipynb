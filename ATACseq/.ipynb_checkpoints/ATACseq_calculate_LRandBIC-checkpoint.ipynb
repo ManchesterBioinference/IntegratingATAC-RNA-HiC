{
 "cells": [
  {
   "cell_type": "markdown",
   "metadata": {},
   "source": [
    "## Jupyter notebook for calculating Bayesian Information Criteria (BIC) for ATAC-seq data\n",
    "\n",
    "This notebook is the code for calculating BIC for ATAC-seq data used in the paper **\"Simultaneous analysis of open chromatin, promoter interactions and gene expression in stimulated T cells implicates causal genes for rheumatoid arthritis\"** by *Jing Yang, Amanda McGovern, Paul Martin, Kate Duffus, Peyman Zarrineh, Andrew P Morris, Antony Adamson, Peter Fraser, Magnus Rattray & Stephen Eyre*.\n",
    "\n",
    "For any questions about the code, please drop me a line at Jing.Yang@manchester.ac.uk"
   ]
  },
  {
   "cell_type": "markdown",
   "metadata": {},
   "source": [
    "### loading gptk package for Gaussian process regression"
   ]
  },
  {
   "cell_type": "code",
   "execution_count": null,
   "metadata": {},
   "outputs": [],
   "source": [
    "library(gptk)\n",
    "library(ggplot2)\n",
    "library(gridExtra)"
   ]
  },
  {
   "cell_type": "markdown",
   "metadata": {},
   "source": [
    "### read ATACseq data"
   ]
  },
  {
   "cell_type": "code",
   "execution_count": null,
   "metadata": {},
   "outputs": [],
   "source": [
    "data <- read.table('data/ATACseq_normalized.csv',sep=',',header=T)"
   ]
  },
  {
   "cell_type": "code",
   "execution_count": null,
   "metadata": {},
   "outputs": [],
   "source": [
    "head(data)"
   ]
  },
  {
   "cell_type": "code",
   "execution_count": null,
   "metadata": {},
   "outputs": [],
   "source": [
    "idx_data <- paste('T', c('0','20','60','2H','4H','24H'), sep='')\n"
   ]
  },
  {
   "cell_type": "markdown",
   "metadata": {},
   "source": [
    "### normalized ATACseq data"
   ]
  },
  {
   "cell_type": "code",
   "execution_count": null,
   "metadata": {},
   "outputs": [],
   "source": [
    "normalized_data <- t(scale(t(data[,idx_data]), center=T, scale=T))\n"
   ]
  },
  {
   "cell_type": "code",
   "execution_count": null,
   "metadata": {
    "scrolled": true
   },
   "outputs": [],
   "source": [
    "head(normalized_data)"
   ]
  },
  {
   "cell_type": "markdown",
   "metadata": {},
   "source": [
    "### use logscaled time points for GP regression "
   ]
  },
  {
   "cell_type": "code",
   "execution_count": null,
   "metadata": {},
   "outputs": [],
   "source": [
    "times_data <- log(c(0,20,60,120,240,1440)+10)\n"
   ]
  },
  {
   "cell_type": "code",
   "execution_count": null,
   "metadata": {},
   "outputs": [],
   "source": [
    "x <- matrix(times_data)\n",
    "lld_rbf <- numeric(0)\n",
    "lld_static <- numeric(0)\n",
    "\n",
    "for (ii in (1:dim(normalized_data)[1])) {  ## this calculation will take a long time\n",
    "  y <- matrix(normalized_data[ii,])\n",
    "  model0 <- list() ## Allocate space for model.\n",
    "  options=gpOptions(approx=\"ftc\")\n",
    "  options$kern = list(type=\"cmpnd\",comp=list(list(type=\"rbf\"),list(type=\"white\"))) ### use rbf+white nosie kernel for model 0\n",
    "  ## Optimise GP log likelihoods.\n",
    "  model0 <- gpCreate(dim(x)[2], dim(y)[2], x, y, options)\n",
    "  model0 <- gpOptimise(model0,0)\n",
    "  \n",
    "  lld_rbf[ii] <- gpLogLikelihood(model0) ### loglikelihood ratio for rbf model\n",
    "  \n",
    "  model1 <- list() ## Allocate space for model.\n",
    "  options=gpOptions(approx=\"ftc\")\n",
    "  options$kern = list(type=\"white\") ### use white noise kernel for model 1\n",
    "  ## Optimise GP log likelihoods.\n",
    "  model1 <- gpCreate(dim(x)[2], dim(y)[2], x, y, options)\n",
    "  model1 <- gpOptimise(model1,0)\n",
    "  lld_static[ii] <- gpLogLikelihood(model1) ### loglikelihood ratio for static model\n",
    "}\n",
    "\n",
    "\n"
   ]
  },
  {
   "cell_type": "markdown",
   "metadata": {},
   "source": [
    "### an example for the 4th data point"
   ]
  },
  {
   "cell_type": "code",
   "execution_count": null,
   "metadata": {},
   "outputs": [],
   "source": [
    "\n",
    "y <- matrix(normalized_data[4,])\n",
    "model0 <- list() ## Allocate space for model.\n",
    "options=gpOptions(approx=\"ftc\")\n",
    "options$kern = list(type=\"cmpnd\",comp=list(list(type=\"rbf\"),list(type=\"white\"))) ### use rbf+white nosie kernel for model 0\n",
    "## Optimise GP log likelihoods.\n",
    "model0 <- gpCreate(dim(x)[2], dim(y)[2], x, y, options)\n",
    "model0 <- gpOptimise(model0,0)\n",
    "    \n",
    "model1 <- list() ## Allocate space for model.\n",
    "options=gpOptions(approx=\"ftc\")\n",
    "options$kern = list(type=\"white\") ### use white noise kernel for model 1\n",
    "## Optimise GP log likelihoods.\n",
    "model1 <- gpCreate(dim(x)[2], dim(y)[2], x, y, options)\n",
    "model1 <- gpOptimise(model1,0)\n",
    "\n",
    "\n",
    "tstar <- matrix(seq(min(times_data)-0.5, max(times_data)+0.5, length=100), ncol=1)\n",
    "\n",
    "Kx0 <- kernCompute(model0$kern, x, tstar)\n",
    "Ktrain0 <- kernCompute(model0$kern, x)\n",
    "invKtrain0 <- solve(Ktrain0)\n",
    "yPred0 <- t(Kx0) %*% invKtrain0 %*% y\n",
    "yVar0 <- diag(abs(kernCompute(model0$kern, tstar) - t(Kx0) %*% invKtrain0 %*% Kx0))\n",
    "data_forplot_rbf1 <- data.frame(x=tstar, yupper = yPred0+sqrt(abs(yVar0)), ylower= yPred0-sqrt(abs(yVar0)), yPred = yPred0)\n",
    "data_forplot_rbf2 <- data.frame(x=x,y=y)\n",
    "p1 <- ggplot(data=data_forplot_rbf1,aes(x=tstar)) + \n",
    "   geom_ribbon(aes(ymin = ylower, ymax = yupper), fill = \"lightblue\", alpha=0.6) +\n",
    "   geom_line(aes(y = yPred ),size=1) + geom_point(data=data_forplot_rbf2, aes(x=x,y=y),size=3) +\n",
    "   theme(legend.position=\"none\") + theme(axis.title.x=element_blank(),\n",
    "        axis.title.y=element_blank(),text = element_text(size=12),\n",
    "        panel.grid.major = element_blank(), panel.grid.minor = element_blank(),\n",
    "panel.background = element_blank(), axis.line = element_line(colour = \"black\")) + xlab('Time (logscaled)') + \n",
    "ylab('Normalized data') + ggtitle('RBF model fitting illustration')\n",
    "\n",
    "\n",
    "Kx1 <- kernCompute(model1$kern, x, tstar)\n",
    "Ktrain1 <- kernCompute(model1$kern, x)\n",
    "invKtrain1 <- solve(Ktrain1)\n",
    "yPred1 <- t(Kx1) %*% invKtrain1 %*% y\n",
    "yVar1 <- diag(abs(kernCompute(model1$kern, tstar) - t(Kx1) %*% invKtrain1 %*% Kx1))\n",
    "data_forplot_noise1 <- data.frame(x=tstar, yupper = yPred1+sqrt(abs(yVar1)), ylower= yPred1-sqrt(abs(yVar1)), yPred = yPred1)\n",
    "data_forplot_noise2 <- data.frame(x=x,y=y)\n",
    "\n",
    "\n",
    "p2 <- ggplot(data=data_forplot_noise1,aes(x=tstar)) + \n",
    "   geom_ribbon(aes(ymin = ylower, ymax = yupper), fill = \"lightblue\", alpha=0.6) +\n",
    "   geom_line(aes(y = yPred ),size=1) + geom_point(data=data_forplot_noise2, aes(x=x,y=y),size=3) +\n",
    "   theme(legend.position=\"none\") + theme(axis.title.x=element_blank(),\n",
    "        axis.title.y=element_blank(),text = element_text(size=12),\n",
    "        panel.grid.major = element_blank(), panel.grid.minor = element_blank(),\n",
    "panel.background = element_blank(), axis.line = element_line(colour = \"black\")) + xlab('Time (logscaled)') + \n",
    "ylab('Normalized data') + ggtitle('Static model fitting illustration')\n",
    "\n",
    "grid.arrange(p1,p2)\n"
   ]
  },
  {
   "cell_type": "markdown",
   "metadata": {},
   "source": [
    "### Get Loglikelihood ratio results: LR = -2 ln( L<sub>RBF</sub> - L<sub>static</sub>)"
   ]
  },
  {
   "cell_type": "code",
   "execution_count": null,
   "metadata": {},
   "outputs": [],
   "source": [
    "LR_data <- -2*(lld_rbf-lld_static) ### loglikelihood ratio for the data \n"
   ]
  },
  {
   "cell_type": "markdown",
   "metadata": {},
   "source": [
    "### Get BIC results: BIC = k ln(n) -2ln(L)\n",
    "k is the number of parameters used in each model, n is the sample size and L is the maximized likelihood "
   ]
  },
  {
   "cell_type": "code",
   "execution_count": null,
   "metadata": {},
   "outputs": [],
   "source": [
    "### BIC_difference is used to compare the BIC difference between RBF model and the static model. Smaller BIC is preferred\n",
    "BIC_rbf <- 2*log(6) - 2*lld_rbf\n",
    "BIC_static <- log(6) - 2*lld_static\n",
    "BIC_difference <- BIC_rbf - BIC_static\n"
   ]
  }
 ],
 "metadata": {
  "kernelspec": {
   "display_name": "R",
   "language": "R",
   "name": "ir"
  },
  "language_info": {
   "codemirror_mode": "r",
   "file_extension": ".r",
   "mimetype": "text/x-r-source",
   "name": "R",
   "pygments_lexer": "r",
   "version": "3.6.0"
  }
 },
 "nbformat": 4,
 "nbformat_minor": 2
}
