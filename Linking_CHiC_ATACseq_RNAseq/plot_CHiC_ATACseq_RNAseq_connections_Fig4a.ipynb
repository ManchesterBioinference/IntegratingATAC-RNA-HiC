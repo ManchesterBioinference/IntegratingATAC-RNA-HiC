{
 "cells": [
  {
   "cell_type": "markdown",
   "metadata": {},
   "source": [
    "## Jupyter notebook for plotting the correlations between CHi-C, ATAC-seq and RNA-seq\n",
    "\n",
    "This notebook is the code for plotting the correlations between CHi-C, ATAC-seq and RNA-seq time course data used in the paper **\\\"Analysis of chromatin organinization and gene expression in T cells identifies functional genes for rheumatoid arthritis\\\"** by *Jing Yang, Amanda McGovern, Paul Martin, Kate Duffus, Xiangyu Ge, Peyman Zarrineh, Andrew P Morris, Antony Adamson, Peter Fraser, Magnus Rattray & Stephen Eyre* \n",
    "\n",
    "Author : *Jing Yang*  <br />\n",
    "Date: 01-05-2020 <br />\n",
    "For any questions about the code, please drop me a line at Jing.Yang@manchester.ac.uk"
   ]
  },
  {
   "cell_type": "markdown",
   "metadata": {},
   "source": [
    "#### load packages"
   ]
  },
  {
   "cell_type": "code",
   "execution_count": 1,
   "metadata": {},
   "outputs": [
    {
     "name": "stderr",
     "output_type": "stream",
     "text": [
      "── \u001b[1mAttaching packages\u001b[22m ─────────────────────────────────────── tidyverse 1.3.0 ──\n",
      "\n",
      "\u001b[32m✔\u001b[39m \u001b[34mtibble \u001b[39m 3.0.1     \u001b[32m✔\u001b[39m \u001b[34mdplyr  \u001b[39m 1.0.0\n",
      "\u001b[32m✔\u001b[39m \u001b[34mtidyr  \u001b[39m 1.1.0     \u001b[32m✔\u001b[39m \u001b[34mstringr\u001b[39m 1.4.0\n",
      "\u001b[32m✔\u001b[39m \u001b[34mreadr  \u001b[39m 1.3.1     \u001b[32m✔\u001b[39m \u001b[34mforcats\u001b[39m 0.5.0\n",
      "\u001b[32m✔\u001b[39m \u001b[34mpurrr  \u001b[39m 0.3.4     \n",
      "\n",
      "── \u001b[1mConflicts\u001b[22m ────────────────────────────────────────── tidyverse_conflicts() ──\n",
      "\u001b[31m✖\u001b[39m \u001b[34mdplyr\u001b[39m::\u001b[32mfilter()\u001b[39m masks \u001b[34mstats\u001b[39m::filter()\n",
      "\u001b[31m✖\u001b[39m \u001b[34mdplyr\u001b[39m::\u001b[32mlag()\u001b[39m    masks \u001b[34mstats\u001b[39m::lag()\n",
      "\n",
      "Loading required package: viridisLite\n",
      "\n"
     ]
    }
   ],
   "source": [
    "library(ggplot2)\n",
    "library(reshape2)\n",
    "library(ggsci)\n",
    "library(tidyverse)\n",
    "library(viridis)\n"
   ]
  },
  {
   "cell_type": "markdown",
   "metadata": {},
   "source": [
    "### load data \n",
    "load data between gene expression (RNA-seq) and open chromatin (ATAC-seq) connected by CHi-C interactions , ATAC-seq peaks in promoter regions are excluded from the study"
   ]
  },
  {
   "cell_type": "code",
   "execution_count": 2,
   "metadata": {},
   "outputs": [],
   "source": [
    "set.seed(5)\n",
    "data_original <- read.table(file='data/ATACseq_CHiC_RNAseq_linked_withpromoter.txt', header=T)\n"
   ]
  },
  {
   "cell_type": "code",
   "execution_count": 3,
   "metadata": {},
   "outputs": [
    {
     "data": {
      "text/html": [
       "<style>\n",
       ".list-inline {list-style: none; margin:0; padding: 0}\n",
       ".list-inline>li {display: inline-block}\n",
       ".list-inline>li:not(:last-child)::after {content: \"\\00b7\"; padding: 0 .5ex}\n",
       "</style>\n",
       "<ol class=list-inline><li>76914</li><li>66</li></ol>\n"
      ],
      "text/latex": [
       "\\begin{enumerate*}\n",
       "\\item 76914\n",
       "\\item 66\n",
       "\\end{enumerate*}\n"
      ],
      "text/markdown": [
       "1. 76914\n",
       "2. 66\n",
       "\n",
       "\n"
      ],
      "text/plain": [
       "[1] 76914    66"
      ]
     },
     "metadata": {},
     "output_type": "display_data"
    }
   ],
   "source": [
    "dim(data_original)"
   ]
  },
  {
   "cell_type": "code",
   "execution_count": 4,
   "metadata": {},
   "outputs": [],
   "source": [
    "data <- data_original[data_original$ATACannotation!='Promoter',]"
   ]
  },
  {
   "cell_type": "code",
   "execution_count": 5,
   "metadata": {},
   "outputs": [
    {
     "data": {
      "text/html": [
       "<style>\n",
       ".list-inline {list-style: none; margin:0; padding: 0}\n",
       ".list-inline>li {display: inline-block}\n",
       ".list-inline>li:not(:last-child)::after {content: \"\\00b7\"; padding: 0 .5ex}\n",
       "</style>\n",
       "<ol class=list-inline><li>44113</li><li>66</li></ol>\n"
      ],
      "text/latex": [
       "\\begin{enumerate*}\n",
       "\\item 44113\n",
       "\\item 66\n",
       "\\end{enumerate*}\n"
      ],
      "text/markdown": [
       "1. 44113\n",
       "2. 66\n",
       "\n",
       "\n"
      ],
      "text/plain": [
       "[1] 44113    66"
      ]
     },
     "metadata": {},
     "output_type": "display_data"
    }
   ],
   "source": [
    "dim(data)"
   ]
  },
  {
   "cell_type": "code",
   "execution_count": 6,
   "metadata": {},
   "outputs": [
    {
     "data": {
      "text/html": [
       "<style>\n",
       ".list-inline {list-style: none; margin:0; padding: 0}\n",
       ".list-inline>li {display: inline-block}\n",
       ".list-inline>li:not(:last-child)::after {content: \"\\00b7\"; padding: 0 .5ex}\n",
       "</style>\n",
       "<ol class=list-inline><li>'ATACchr'</li><li>'ATACstart'</li><li>'ATACend'</li><li>'otherEndID'</li><li>'otherEndchr'</li><li>'otherEndstart'</li><li>'otherEndend'</li><li>'ID'</li><li>'ENSG'</li><li>'ENSGchr'</li><li>'ENSGstart'</li><li>'ENSGend'</li><li>'ET01'</li><li>'ET201'</li><li>'ET601'</li><li>'ET2H1'</li><li>'ET4H1'</li><li>'ET24H1'</li><li>'ET02'</li><li>'ET202'</li><li>'ET602'</li><li>'ET2H2'</li><li>'ET4H2'</li><li>'ET24H2'</li><li>'GeneName'</li><li>'ET0_a'</li><li>'ET20_a'</li><li>'ET1H_a'</li><li>'ET2H_a'</li><li>'ET4H_a'</li><li>'ET24H_a'</li><li>'baitID'</li><li>'baitstart'</li><li>'baitend'</li><li>'T01'</li><li>'T02'</li><li>'T201'</li><li>'T202'</li><li>'T1H1'</li><li>'T1H2'</li><li>'T4H1'</li><li>'T4H2'</li><li>'T24H1'</li><li>'baitchr'</li><li>'corr_rep'</li><li>'T0'</li><li>'T20'</li><li>'T1H'</li><li>'T4H'</li><li>'T24H'</li><li>'ATACannotation'</li><li>'AT0'</li><li>'AT20'</li><li>'AT1H'</li><li>'AT2H'</li><li>'AT4H'</li><li>'AT24H'</li><li>'corr_atacseq_gene'</li><li>'corr_atacseq_otherEnd'</li><li>'corr_gene_otherEnd'</li><li>'BIC_atacseq'</li><li>'LR_atacseq'</li><li>'BIC_chic'</li><li>'LR_chic'</li><li>'BIC_gene'</li><li>'LR_gene'</li></ol>\n"
      ],
      "text/latex": [
       "\\begin{enumerate*}\n",
       "\\item 'ATACchr'\n",
       "\\item 'ATACstart'\n",
       "\\item 'ATACend'\n",
       "\\item 'otherEndID'\n",
       "\\item 'otherEndchr'\n",
       "\\item 'otherEndstart'\n",
       "\\item 'otherEndend'\n",
       "\\item 'ID'\n",
       "\\item 'ENSG'\n",
       "\\item 'ENSGchr'\n",
       "\\item 'ENSGstart'\n",
       "\\item 'ENSGend'\n",
       "\\item 'ET01'\n",
       "\\item 'ET201'\n",
       "\\item 'ET601'\n",
       "\\item 'ET2H1'\n",
       "\\item 'ET4H1'\n",
       "\\item 'ET24H1'\n",
       "\\item 'ET02'\n",
       "\\item 'ET202'\n",
       "\\item 'ET602'\n",
       "\\item 'ET2H2'\n",
       "\\item 'ET4H2'\n",
       "\\item 'ET24H2'\n",
       "\\item 'GeneName'\n",
       "\\item 'ET0\\_a'\n",
       "\\item 'ET20\\_a'\n",
       "\\item 'ET1H\\_a'\n",
       "\\item 'ET2H\\_a'\n",
       "\\item 'ET4H\\_a'\n",
       "\\item 'ET24H\\_a'\n",
       "\\item 'baitID'\n",
       "\\item 'baitstart'\n",
       "\\item 'baitend'\n",
       "\\item 'T01'\n",
       "\\item 'T02'\n",
       "\\item 'T201'\n",
       "\\item 'T202'\n",
       "\\item 'T1H1'\n",
       "\\item 'T1H2'\n",
       "\\item 'T4H1'\n",
       "\\item 'T4H2'\n",
       "\\item 'T24H1'\n",
       "\\item 'baitchr'\n",
       "\\item 'corr\\_rep'\n",
       "\\item 'T0'\n",
       "\\item 'T20'\n",
       "\\item 'T1H'\n",
       "\\item 'T4H'\n",
       "\\item 'T24H'\n",
       "\\item 'ATACannotation'\n",
       "\\item 'AT0'\n",
       "\\item 'AT20'\n",
       "\\item 'AT1H'\n",
       "\\item 'AT2H'\n",
       "\\item 'AT4H'\n",
       "\\item 'AT24H'\n",
       "\\item 'corr\\_atacseq\\_gene'\n",
       "\\item 'corr\\_atacseq\\_otherEnd'\n",
       "\\item 'corr\\_gene\\_otherEnd'\n",
       "\\item 'BIC\\_atacseq'\n",
       "\\item 'LR\\_atacseq'\n",
       "\\item 'BIC\\_chic'\n",
       "\\item 'LR\\_chic'\n",
       "\\item 'BIC\\_gene'\n",
       "\\item 'LR\\_gene'\n",
       "\\end{enumerate*}\n"
      ],
      "text/markdown": [
       "1. 'ATACchr'\n",
       "2. 'ATACstart'\n",
       "3. 'ATACend'\n",
       "4. 'otherEndID'\n",
       "5. 'otherEndchr'\n",
       "6. 'otherEndstart'\n",
       "7. 'otherEndend'\n",
       "8. 'ID'\n",
       "9. 'ENSG'\n",
       "10. 'ENSGchr'\n",
       "11. 'ENSGstart'\n",
       "12. 'ENSGend'\n",
       "13. 'ET01'\n",
       "14. 'ET201'\n",
       "15. 'ET601'\n",
       "16. 'ET2H1'\n",
       "17. 'ET4H1'\n",
       "18. 'ET24H1'\n",
       "19. 'ET02'\n",
       "20. 'ET202'\n",
       "21. 'ET602'\n",
       "22. 'ET2H2'\n",
       "23. 'ET4H2'\n",
       "24. 'ET24H2'\n",
       "25. 'GeneName'\n",
       "26. 'ET0_a'\n",
       "27. 'ET20_a'\n",
       "28. 'ET1H_a'\n",
       "29. 'ET2H_a'\n",
       "30. 'ET4H_a'\n",
       "31. 'ET24H_a'\n",
       "32. 'baitID'\n",
       "33. 'baitstart'\n",
       "34. 'baitend'\n",
       "35. 'T01'\n",
       "36. 'T02'\n",
       "37. 'T201'\n",
       "38. 'T202'\n",
       "39. 'T1H1'\n",
       "40. 'T1H2'\n",
       "41. 'T4H1'\n",
       "42. 'T4H2'\n",
       "43. 'T24H1'\n",
       "44. 'baitchr'\n",
       "45. 'corr_rep'\n",
       "46. 'T0'\n",
       "47. 'T20'\n",
       "48. 'T1H'\n",
       "49. 'T4H'\n",
       "50. 'T24H'\n",
       "51. 'ATACannotation'\n",
       "52. 'AT0'\n",
       "53. 'AT20'\n",
       "54. 'AT1H'\n",
       "55. 'AT2H'\n",
       "56. 'AT4H'\n",
       "57. 'AT24H'\n",
       "58. 'corr_atacseq_gene'\n",
       "59. 'corr_atacseq_otherEnd'\n",
       "60. 'corr_gene_otherEnd'\n",
       "61. 'BIC_atacseq'\n",
       "62. 'LR_atacseq'\n",
       "63. 'BIC_chic'\n",
       "64. 'LR_chic'\n",
       "65. 'BIC_gene'\n",
       "66. 'LR_gene'\n",
       "\n",
       "\n"
      ],
      "text/plain": [
       " [1] \"ATACchr\"               \"ATACstart\"             \"ATACend\"              \n",
       " [4] \"otherEndID\"            \"otherEndchr\"           \"otherEndstart\"        \n",
       " [7] \"otherEndend\"           \"ID\"                    \"ENSG\"                 \n",
       "[10] \"ENSGchr\"               \"ENSGstart\"             \"ENSGend\"              \n",
       "[13] \"ET01\"                  \"ET201\"                 \"ET601\"                \n",
       "[16] \"ET2H1\"                 \"ET4H1\"                 \"ET24H1\"               \n",
       "[19] \"ET02\"                  \"ET202\"                 \"ET602\"                \n",
       "[22] \"ET2H2\"                 \"ET4H2\"                 \"ET24H2\"               \n",
       "[25] \"GeneName\"              \"ET0_a\"                 \"ET20_a\"               \n",
       "[28] \"ET1H_a\"                \"ET2H_a\"                \"ET4H_a\"               \n",
       "[31] \"ET24H_a\"               \"baitID\"                \"baitstart\"            \n",
       "[34] \"baitend\"               \"T01\"                   \"T02\"                  \n",
       "[37] \"T201\"                  \"T202\"                  \"T1H1\"                 \n",
       "[40] \"T1H2\"                  \"T4H1\"                  \"T4H2\"                 \n",
       "[43] \"T24H1\"                 \"baitchr\"               \"corr_rep\"             \n",
       "[46] \"T0\"                    \"T20\"                   \"T1H\"                  \n",
       "[49] \"T4H\"                   \"T24H\"                  \"ATACannotation\"       \n",
       "[52] \"AT0\"                   \"AT20\"                  \"AT1H\"                 \n",
       "[55] \"AT2H\"                  \"AT4H\"                  \"AT24H\"                \n",
       "[58] \"corr_atacseq_gene\"     \"corr_atacseq_otherEnd\" \"corr_gene_otherEnd\"   \n",
       "[61] \"BIC_atacseq\"           \"LR_atacseq\"            \"BIC_chic\"             \n",
       "[64] \"LR_chic\"               \"BIC_gene\"              \"LR_gene\"              "
      ]
     },
     "metadata": {},
     "output_type": "display_data"
    }
   ],
   "source": [
    "names(data)"
   ]
  },
  {
   "cell_type": "code",
   "execution_count": 7,
   "metadata": {},
   "outputs": [
    {
     "data": {
      "text/html": [
       "44113"
      ],
      "text/latex": [
       "44113"
      ],
      "text/markdown": [
       "44113"
      ],
      "text/plain": [
       "[1] 44113"
      ]
     },
     "metadata": {},
     "output_type": "display_data"
    }
   ],
   "source": [
    "sum(!is.na(data$corr_gene_otherEnd))"
   ]
  },
  {
   "cell_type": "markdown",
   "metadata": {},
   "source": [
    "### separate data by the distance between baits and otherEnds"
   ]
  },
  {
   "cell_type": "code",
   "execution_count": 8,
   "metadata": {},
   "outputs": [],
   "source": [
    "data$ATACpos <- 0.5*(data$ATACstart + data$ATACend)\n",
    "data$otherEndpos <- 0.5*(data$otherEndstart + data$otherEndend)\n",
    "data$baitpos <- 0.5*(data$baitstart + data$baitend)\n",
    "data$ENSGpos <- 0.5*(data$ENSGstart + data$ENSGend)\n",
    "data$dist_ATAC_gene <- abs(data$ATACpos - data$ENSGpos)\n",
    "data$dist_otherEnd_bait <- abs(data$otherEndpos - data$baitpos)\n",
    "data$dist_bait_gene <- abs(data$baitpos - data$ENSGpos)\n",
    "data$dist_ATAC_bait <- abs(data$baitpos - data$ATACpos)\n",
    "\n",
    "\n",
    "data_200k <- subset(data, data$dist_otherEnd_bait<200000)\n",
    "data_500k <- subset(data, data$dist_otherEnd_bait<500000)\n",
    "data_1MB <- subset(data, data$dist_otherEnd_bait<1000000)\n",
    "data_5MB <- subset(data, data$dist_otherEnd_bait<5000000)\n",
    "data_from200kto500k <- subset(data, (data$dist_otherEnd_bait>=200000) \n",
    "                                                          & (data$dist_otherEnd_bait<500000))\n",
    "data_from500kto1MB <- subset(data, (data$dist_otherEnd_bait>=500000) \n",
    "                                                          & (data$dist_otherEnd_bait<1000000))\n",
    "data_from1MBto5MB <- subset(data, (data$dist_otherEnd_bait>=1000000) \n",
    "                                                          & (data$dist_otherEnd_bait<5000000))"
   ]
  },
  {
   "cell_type": "markdown",
   "metadata": {},
   "source": [
    "### get data ready for Fig. 4a"
   ]
  },
  {
   "cell_type": "code",
   "execution_count": 9,
   "metadata": {},
   "outputs": [],
   "source": [
    "idx_atacseq <- c('AT0','AT20','AT1H','AT2H','AT4H','AT24H')\n",
    "idx_atacseq_withID <- c('ATACchr','ATACstart','ATACend',idx_atacseq)\n",
    "idx_gene <- c('ET0_a','ET20_a','ET1H_a','ET2H_a','ET4H_a','ET24H_a')\n",
    "idx_gene_withID <- c('ENSG', idx_gene)\n",
    "idx_chic <- c('T0','T20','T1H','T4H','T24H')\n",
    "idx_chic_withID <- c('baitID','otherEndID', idx_chic)\n"
   ]
  },
  {
   "cell_type": "code",
   "execution_count": 10,
   "metadata": {},
   "outputs": [],
   "source": [
    "atacseq_picked_200k <- unique(data_200k[,idx_atacseq_withID])\n",
    "atacseq_picked_from200kto500k <- unique(data_from200kto500k[,idx_atacseq_withID])\n",
    "atacseq_picked_from500kto1MB <- unique(data_from500kto1MB[,idx_atacseq_withID])\n",
    "atacseq_picked_from1MBto5MB <- unique(data_from1MBto5MB[,idx_atacseq_withID])\n",
    "atacseq_picked_5MB <- unique(data_5MB[,idx_atacseq_withID])\n",
    "atacseq_picked_1MB <- unique(data_1MB[,idx_atacseq_withID])\n",
    "atacseq_picked_500k <- unique(data_500k[,idx_atacseq_withID])\n",
    "\n",
    "gene_picked_200k <- unique(data_200k[,idx_gene_withID])\n",
    "gene_picked_from200kto500k <- unique(data_from200kto500k[,idx_gene_withID])\n",
    "gene_picked_from500kto1MB <- unique(data_from500kto1MB[,idx_gene_withID])\n",
    "gene_picked_from1MBto5MB <- unique(data_from1MBto5MB[,idx_gene_withID])\n",
    "gene_picked_5MB <- unique(data_5MB[,idx_gene_withID])\n",
    "gene_picked_1MB <- unique(data_1MB[,idx_gene_withID])\n",
    "gene_picked_500k <- unique(data_500k[,idx_gene_withID])\n",
    "\n",
    "chic_picked_200k <- unique(data_200k[,idx_chic_withID])\n",
    "chic_picked_from200kto500k <- unique(data_from200kto500k[,idx_chic_withID])\n",
    "chic_picked_from500kto1MB <- unique(data_from500kto1MB[,idx_chic_withID])\n",
    "chic_picked_from1MBto5MB <- unique(data_from1MBto5MB[,idx_chic_withID])\n",
    "chic_picked_5MB <- unique(data_5MB[,idx_chic_withID])\n",
    "chic_picked_1MB <- unique(data_1MB[,idx_chic_withID])\n",
    "chic_picked_500k <- unique(data_500k[,idx_chic_withID])\n"
   ]
  },
  {
   "cell_type": "markdown",
   "metadata": {},
   "source": [
    "### creatae random background for the correltion density plots"
   ]
  },
  {
   "cell_type": "code",
   "execution_count": 11,
   "metadata": {},
   "outputs": [],
   "source": [
    "N_5MB <- dim(data_5MB)[1]\n",
    "N_1MB <- dim(data_1MB)[1]\n",
    "N_500k <- dim(data_500k)[1]\n",
    "N_200k <- dim(data_200k)[1]\n",
    "N_from1MBto5MB <- dim(data_from1MBto5MB)[1]\n",
    "N_from500kto1MB <- dim(data_from500kto1MB)[1]\n",
    "N_from200kto500k <- dim(data_from200kto500k)[1]\n"
   ]
  },
  {
   "cell_type": "code",
   "execution_count": 12,
   "metadata": {},
   "outputs": [],
   "source": [
    "\n",
    "idx_atac_200k_ind <- floor(runif(N_200k, 1,dim(atacseq_picked_200k)[1]))\n",
    "idx_atac_from200kto500k_ind <- floor(runif(N_from200kto500k, 1,dim(atacseq_picked_from200kto500k)[1]))\n",
    "idx_atac_from500kto1MB_ind <- floor(runif(N_from500kto1MB, 1,dim(atacseq_picked_from500kto1MB)[1]))\n",
    "idx_atac_from1MBto5MB_ind <- floor(runif(N_from1MBto5MB, 1,dim(atacseq_picked_from1MBto5MB)[1]))\n",
    "idx_atac_5MB_ind <- floor(runif(N_5MB, 1,dim(atacseq_picked_5MB)[1]))\n",
    "idx_atac_1MB_ind <- floor(runif(N_1MB, 1,dim(atacseq_picked_1MB)[1]))\n",
    "idx_atac_500k_ind <- floor(runif(N_500k, 1,dim(atacseq_picked_500k)[1]))\n",
    "\n",
    "idx_gene_200k_ind <- floor(runif(N_200k, 1,dim(gene_picked_200k)[1]))\n",
    "idx_gene_from200kto500k_ind <- floor(runif(N_from200kto500k, 1,dim(gene_picked_from200kto500k)[1]))\n",
    "idx_gene_from500kto1MB_ind <- floor(runif(N_from500kto1MB, 1,dim(gene_picked_from500kto1MB)[1]))\n",
    "idx_gene_from1MBto5MB_ind <- floor(runif(N_from1MBto5MB, 1,dim(gene_picked_from1MBto5MB)[1]))\n",
    "idx_gene_5MB_ind <- floor(runif(N_5MB, 1,dim(gene_picked_5MB)[1]))\n",
    "idx_gene_1MB_ind <- floor(runif(N_1MB, 1,dim(gene_picked_1MB)[1]))\n",
    "idx_gene_500k_ind <- floor(runif(N_500k, 1,dim(gene_picked_500k)[1]))\n",
    "\n",
    "idx_chic_200k_ind <- floor(runif(N_200k, 1,dim(chic_picked_200k)[1]))\n",
    "idx_chic_from200kto500k_ind <- floor(runif(N_from200kto500k, 1,dim(chic_picked_from200kto500k)[1]))\n",
    "idx_chic_from500kto1MB_ind <- floor(runif(N_from500kto1MB, 1,dim(chic_picked_from500kto1MB)[1]))\n",
    "idx_chic_from1MBto5MB_ind <- floor(runif(N_from1MBto5MB, 1,dim(chic_picked_from1MBto5MB)[1]))\n",
    "idx_chic_5MB_ind <- floor(runif(N_5MB, 1,dim(chic_picked_5MB)[1]))\n",
    "idx_chic_1MB_ind <- floor(runif(N_1MB, 1,dim(chic_picked_1MB)[1]))\n",
    "idx_chic_500k_ind <- floor(runif(N_500k, 1,dim(chic_picked_500k)[1]))\n"
   ]
  },
  {
   "cell_type": "code",
   "execution_count": 13,
   "metadata": {},
   "outputs": [],
   "source": [
    "corr_aandg_random_200k_ind <- sapply(seq.int(N_200k),function(i) cor(t(atacseq_picked_200k[idx_atac_200k_ind[i],idx_atacseq]),t(gene_picked_200k[idx_gene_200k_ind[i],idx_gene])))\n",
    "corr_aandg_random_from200kto500k_ind <- sapply(seq.int(N_from200kto500k),function(i) cor(t(atacseq_picked_from200kto500k[idx_atac_from200kto500k_ind[i],idx_atacseq]),t(gene_picked_from200kto500k[idx_gene_from200kto500k_ind[i],idx_gene])))\n",
    "corr_aandg_random_from500kto1MB_ind <- sapply(seq.int(N_from500kto1MB),function(i) cor(t(atacseq_picked_from500kto1MB[idx_atac_from500kto1MB_ind[i],idx_atacseq]),t(gene_picked_from500kto1MB[idx_gene_from500kto1MB_ind[i],idx_gene])))\n",
    "corr_aandg_random_from1MBto5MB_ind <- sapply(seq.int(N_from1MBto5MB),function(i) cor(t(atacseq_picked_from1MBto5MB[idx_atac_from1MBto5MB_ind[i],idx_atacseq]),t(gene_picked_from1MBto5MB[idx_gene_from1MBto5MB_ind[i],idx_gene])))\n",
    "corr_aandg_random_5MB_ind <- sapply(seq.int(N_5MB),function(i) cor(t(atacseq_picked_5MB[idx_atac_5MB_ind[i],idx_atacseq]),t(gene_picked_5MB[idx_gene_5MB_ind[i],idx_gene])))\n",
    "corr_aandg_random_1MB_ind <- sapply(seq.int(N_1MB),function(i) cor(t(atacseq_picked_1MB[idx_atac_1MB_ind[i],idx_atacseq]),t(gene_picked_1MB[idx_gene_1MB_ind[i],idx_gene])))\n",
    "corr_aandg_random_500k_ind <- sapply(seq.int(N_500k),function(i) cor(t(atacseq_picked_500k[idx_atac_500k_ind[i],idx_atacseq]),t(gene_picked_500k[idx_gene_500k_ind[i],idx_gene])))\n"
   ]
  },
  {
   "cell_type": "code",
   "execution_count": 14,
   "metadata": {},
   "outputs": [],
   "source": [
    "corr_aandOE_random_200k_ind <- sapply(seq.int(N_200k),function(i) cor(t(atacseq_picked_200k[idx_atac_200k_ind[i],c('AT0','AT20','AT1H','AT4H','AT24H')]),t(chic_picked_200k[idx_chic_200k_ind[i],idx_chic])))\n",
    "corr_aandOE_random_from200kto500k_ind <- sapply(seq.int(N_from200kto500k),function(i) cor(t(atacseq_picked_from200kto500k[idx_atac_from200kto500k_ind[i],c('AT0','AT20','AT1H','AT4H','AT24H')]),t(chic_picked_from200kto500k[idx_chic_from200kto500k_ind[i],idx_chic])))\n",
    "corr_aandOE_random_from500kto1MB_ind <- sapply(seq.int(N_from500kto1MB),function(i) cor(t(atacseq_picked_from500kto1MB[idx_atac_from500kto1MB_ind[i],c('AT0','AT20','AT1H','AT4H','AT24H')]),t(chic_picked_from500kto1MB[idx_chic_from500kto1MB_ind[i],idx_chic])))\n",
    "corr_aandOE_random_from1MBto5MB_ind <- sapply(seq.int(N_from1MBto5MB),function(i) cor(t(atacseq_picked_from1MBto5MB[idx_atac_from1MBto5MB_ind[i],c('AT0','AT20','AT1H','AT4H','AT24H')]),t(chic_picked_from1MBto5MB[idx_chic_from1MBto5MB_ind[i],idx_chic])))\n",
    "corr_aandOE_random_5MB_ind <- sapply(seq.int(N_5MB),function(i) cor(t(atacseq_picked_5MB[idx_atac_5MB_ind[i],c('AT0','AT20','AT1H','AT4H','AT24H')]),t(chic_picked_5MB[idx_chic_5MB_ind[i],idx_chic])))\n",
    "corr_aandOE_random_1MB_ind <- sapply(seq.int(N_1MB),function(i) cor(t(atacseq_picked_1MB[idx_atac_1MB_ind[i],c('AT0','AT20','AT1H','AT4H','AT24H')]),t(chic_picked_1MB[idx_chic_1MB_ind[i],idx_chic])))\n",
    "corr_aandOE_random_500k_ind <- sapply(seq.int(N_500k),function(i) cor(t(atacseq_picked_500k[idx_atac_500k_ind[i],c('AT0','AT20','AT1H','AT4H','AT24H')]),t(chic_picked_500k[idx_chic_500k_ind[i],idx_chic])))\n"
   ]
  },
  {
   "cell_type": "code",
   "execution_count": 15,
   "metadata": {},
   "outputs": [],
   "source": [
    "corr_gandOE_random_200k_ind <- sapply(seq.int(N_200k),function(i) cor(t(gene_picked_200k[idx_gene_200k_ind[i],c('ET0_a','ET20_a','ET1H_a','ET4H_a','ET24H_a')]),t(chic_picked_200k[idx_chic_200k_ind[i],idx_chic])))\n",
    "corr_gandOE_random_from200kto500k_ind <- sapply(seq.int(N_from200kto500k),function(i) cor(t(gene_picked_from200kto500k[idx_gene_from200kto500k_ind[i],c('ET0_a','ET20_a','ET1H_a','ET4H_a','ET24H_a')]),t(chic_picked_from200kto500k[idx_chic_from200kto500k_ind[i],idx_chic])))\n",
    "corr_gandOE_random_from500kto1MB_ind <- sapply(seq.int(N_from500kto1MB),function(i) cor(t(gene_picked_from500kto1MB[idx_gene_from500kto1MB_ind[i],c('ET0_a','ET20_a','ET1H_a','ET4H_a','ET24H_a')]),t(chic_picked_from500kto1MB[idx_chic_from500kto1MB_ind[i],idx_chic])))\n",
    "corr_gandOE_random_from1MBto5MB_ind <- sapply(seq.int(N_from1MBto5MB),function(i) cor(t(gene_picked_from1MBto5MB[idx_gene_from1MBto5MB_ind[i],c('ET0_a','ET20_a','ET1H_a','ET4H_a','ET24H_a')]),t(chic_picked_from1MBto5MB[idx_chic_from1MBto5MB_ind[i],idx_chic])))\n",
    "corr_gandOE_random_5MB_ind <- sapply(seq.int(N_5MB),function(i) cor(t(gene_picked_5MB[idx_gene_5MB_ind[i],c('ET0_a','ET20_a','ET1H_a','ET4H_a','ET24H_a')]),t(chic_picked_5MB[idx_chic_5MB_ind[i],idx_chic])))\n",
    "corr_gandOE_random_1MB_ind <- sapply(seq.int(N_1MB),function(i) cor(t(gene_picked_1MB[idx_gene_1MB_ind[i],c('ET0_a','ET20_a','ET1H_a','ET4H_a','ET24H_a')]),t(chic_picked_1MB[idx_chic_1MB_ind[i],idx_chic])))\n",
    "corr_gandOE_random_500k_ind <- sapply(seq.int(N_500k),function(i) cor(t(gene_picked_500k[idx_gene_500k_ind[i],c('ET0_a','ET20_a','ET1H_a','ET4H_a','ET24H_a')]),t(chic_picked_500k[idx_chic_500k_ind[i],idx_chic])))\n"
   ]
  },
  {
   "cell_type": "code",
   "execution_count": 16,
   "metadata": {},
   "outputs": [
    {
     "data": {
      "text/html": [
       "<style>\n",
       ".list-inline {list-style: none; margin:0; padding: 0}\n",
       ".list-inline>li {display: inline-block}\n",
       ".list-inline>li:not(:last-child)::after {content: \"\\00b7\"; padding: 0 .5ex}\n",
       "</style>\n",
       "<ol class=list-inline><li>'ATACchr'</li><li>'ATACstart'</li><li>'ATACend'</li><li>'otherEndID'</li><li>'otherEndchr'</li><li>'otherEndstart'</li><li>'otherEndend'</li><li>'ID'</li><li>'ENSG'</li><li>'ENSGchr'</li><li>'ENSGstart'</li><li>'ENSGend'</li><li>'ET01'</li><li>'ET201'</li><li>'ET601'</li><li>'ET2H1'</li><li>'ET4H1'</li><li>'ET24H1'</li><li>'ET02'</li><li>'ET202'</li><li>'ET602'</li><li>'ET2H2'</li><li>'ET4H2'</li><li>'ET24H2'</li><li>'GeneName'</li><li>'ET0_a'</li><li>'ET20_a'</li><li>'ET1H_a'</li><li>'ET2H_a'</li><li>'ET4H_a'</li><li>'ET24H_a'</li><li>'baitID'</li><li>'baitstart'</li><li>'baitend'</li><li>'T01'</li><li>'T02'</li><li>'T201'</li><li>'T202'</li><li>'T1H1'</li><li>'T1H2'</li><li>'T4H1'</li><li>'T4H2'</li><li>'T24H1'</li><li>'baitchr'</li><li>'corr_rep'</li><li>'T0'</li><li>'T20'</li><li>'T1H'</li><li>'T4H'</li><li>'T24H'</li><li>'ATACannotation'</li><li>'AT0'</li><li>'AT20'</li><li>'AT1H'</li><li>'AT2H'</li><li>'AT4H'</li><li>'AT24H'</li><li>'corr_atacseq_gene'</li><li>'corr_atacseq_otherEnd'</li><li>'corr_gene_otherEnd'</li><li>'BIC_atacseq'</li><li>'LR_atacseq'</li><li>'BIC_chic'</li><li>'LR_chic'</li><li>'BIC_gene'</li><li>'LR_gene'</li><li>'ATACpos'</li><li>'otherEndpos'</li><li>'baitpos'</li><li>'ENSGpos'</li><li>'dist_ATAC_gene'</li><li>'dist_otherEnd_bait'</li><li>'dist_bait_gene'</li><li>'dist_ATAC_bait'</li></ol>\n"
      ],
      "text/latex": [
       "\\begin{enumerate*}\n",
       "\\item 'ATACchr'\n",
       "\\item 'ATACstart'\n",
       "\\item 'ATACend'\n",
       "\\item 'otherEndID'\n",
       "\\item 'otherEndchr'\n",
       "\\item 'otherEndstart'\n",
       "\\item 'otherEndend'\n",
       "\\item 'ID'\n",
       "\\item 'ENSG'\n",
       "\\item 'ENSGchr'\n",
       "\\item 'ENSGstart'\n",
       "\\item 'ENSGend'\n",
       "\\item 'ET01'\n",
       "\\item 'ET201'\n",
       "\\item 'ET601'\n",
       "\\item 'ET2H1'\n",
       "\\item 'ET4H1'\n",
       "\\item 'ET24H1'\n",
       "\\item 'ET02'\n",
       "\\item 'ET202'\n",
       "\\item 'ET602'\n",
       "\\item 'ET2H2'\n",
       "\\item 'ET4H2'\n",
       "\\item 'ET24H2'\n",
       "\\item 'GeneName'\n",
       "\\item 'ET0\\_a'\n",
       "\\item 'ET20\\_a'\n",
       "\\item 'ET1H\\_a'\n",
       "\\item 'ET2H\\_a'\n",
       "\\item 'ET4H\\_a'\n",
       "\\item 'ET24H\\_a'\n",
       "\\item 'baitID'\n",
       "\\item 'baitstart'\n",
       "\\item 'baitend'\n",
       "\\item 'T01'\n",
       "\\item 'T02'\n",
       "\\item 'T201'\n",
       "\\item 'T202'\n",
       "\\item 'T1H1'\n",
       "\\item 'T1H2'\n",
       "\\item 'T4H1'\n",
       "\\item 'T4H2'\n",
       "\\item 'T24H1'\n",
       "\\item 'baitchr'\n",
       "\\item 'corr\\_rep'\n",
       "\\item 'T0'\n",
       "\\item 'T20'\n",
       "\\item 'T1H'\n",
       "\\item 'T4H'\n",
       "\\item 'T24H'\n",
       "\\item 'ATACannotation'\n",
       "\\item 'AT0'\n",
       "\\item 'AT20'\n",
       "\\item 'AT1H'\n",
       "\\item 'AT2H'\n",
       "\\item 'AT4H'\n",
       "\\item 'AT24H'\n",
       "\\item 'corr\\_atacseq\\_gene'\n",
       "\\item 'corr\\_atacseq\\_otherEnd'\n",
       "\\item 'corr\\_gene\\_otherEnd'\n",
       "\\item 'BIC\\_atacseq'\n",
       "\\item 'LR\\_atacseq'\n",
       "\\item 'BIC\\_chic'\n",
       "\\item 'LR\\_chic'\n",
       "\\item 'BIC\\_gene'\n",
       "\\item 'LR\\_gene'\n",
       "\\item 'ATACpos'\n",
       "\\item 'otherEndpos'\n",
       "\\item 'baitpos'\n",
       "\\item 'ENSGpos'\n",
       "\\item 'dist\\_ATAC\\_gene'\n",
       "\\item 'dist\\_otherEnd\\_bait'\n",
       "\\item 'dist\\_bait\\_gene'\n",
       "\\item 'dist\\_ATAC\\_bait'\n",
       "\\end{enumerate*}\n"
      ],
      "text/markdown": [
       "1. 'ATACchr'\n",
       "2. 'ATACstart'\n",
       "3. 'ATACend'\n",
       "4. 'otherEndID'\n",
       "5. 'otherEndchr'\n",
       "6. 'otherEndstart'\n",
       "7. 'otherEndend'\n",
       "8. 'ID'\n",
       "9. 'ENSG'\n",
       "10. 'ENSGchr'\n",
       "11. 'ENSGstart'\n",
       "12. 'ENSGend'\n",
       "13. 'ET01'\n",
       "14. 'ET201'\n",
       "15. 'ET601'\n",
       "16. 'ET2H1'\n",
       "17. 'ET4H1'\n",
       "18. 'ET24H1'\n",
       "19. 'ET02'\n",
       "20. 'ET202'\n",
       "21. 'ET602'\n",
       "22. 'ET2H2'\n",
       "23. 'ET4H2'\n",
       "24. 'ET24H2'\n",
       "25. 'GeneName'\n",
       "26. 'ET0_a'\n",
       "27. 'ET20_a'\n",
       "28. 'ET1H_a'\n",
       "29. 'ET2H_a'\n",
       "30. 'ET4H_a'\n",
       "31. 'ET24H_a'\n",
       "32. 'baitID'\n",
       "33. 'baitstart'\n",
       "34. 'baitend'\n",
       "35. 'T01'\n",
       "36. 'T02'\n",
       "37. 'T201'\n",
       "38. 'T202'\n",
       "39. 'T1H1'\n",
       "40. 'T1H2'\n",
       "41. 'T4H1'\n",
       "42. 'T4H2'\n",
       "43. 'T24H1'\n",
       "44. 'baitchr'\n",
       "45. 'corr_rep'\n",
       "46. 'T0'\n",
       "47. 'T20'\n",
       "48. 'T1H'\n",
       "49. 'T4H'\n",
       "50. 'T24H'\n",
       "51. 'ATACannotation'\n",
       "52. 'AT0'\n",
       "53. 'AT20'\n",
       "54. 'AT1H'\n",
       "55. 'AT2H'\n",
       "56. 'AT4H'\n",
       "57. 'AT24H'\n",
       "58. 'corr_atacseq_gene'\n",
       "59. 'corr_atacseq_otherEnd'\n",
       "60. 'corr_gene_otherEnd'\n",
       "61. 'BIC_atacseq'\n",
       "62. 'LR_atacseq'\n",
       "63. 'BIC_chic'\n",
       "64. 'LR_chic'\n",
       "65. 'BIC_gene'\n",
       "66. 'LR_gene'\n",
       "67. 'ATACpos'\n",
       "68. 'otherEndpos'\n",
       "69. 'baitpos'\n",
       "70. 'ENSGpos'\n",
       "71. 'dist_ATAC_gene'\n",
       "72. 'dist_otherEnd_bait'\n",
       "73. 'dist_bait_gene'\n",
       "74. 'dist_ATAC_bait'\n",
       "\n",
       "\n"
      ],
      "text/plain": [
       " [1] \"ATACchr\"               \"ATACstart\"             \"ATACend\"              \n",
       " [4] \"otherEndID\"            \"otherEndchr\"           \"otherEndstart\"        \n",
       " [7] \"otherEndend\"           \"ID\"                    \"ENSG\"                 \n",
       "[10] \"ENSGchr\"               \"ENSGstart\"             \"ENSGend\"              \n",
       "[13] \"ET01\"                  \"ET201\"                 \"ET601\"                \n",
       "[16] \"ET2H1\"                 \"ET4H1\"                 \"ET24H1\"               \n",
       "[19] \"ET02\"                  \"ET202\"                 \"ET602\"                \n",
       "[22] \"ET2H2\"                 \"ET4H2\"                 \"ET24H2\"               \n",
       "[25] \"GeneName\"              \"ET0_a\"                 \"ET20_a\"               \n",
       "[28] \"ET1H_a\"                \"ET2H_a\"                \"ET4H_a\"               \n",
       "[31] \"ET24H_a\"               \"baitID\"                \"baitstart\"            \n",
       "[34] \"baitend\"               \"T01\"                   \"T02\"                  \n",
       "[37] \"T201\"                  \"T202\"                  \"T1H1\"                 \n",
       "[40] \"T1H2\"                  \"T4H1\"                  \"T4H2\"                 \n",
       "[43] \"T24H1\"                 \"baitchr\"               \"corr_rep\"             \n",
       "[46] \"T0\"                    \"T20\"                   \"T1H\"                  \n",
       "[49] \"T4H\"                   \"T24H\"                  \"ATACannotation\"       \n",
       "[52] \"AT0\"                   \"AT20\"                  \"AT1H\"                 \n",
       "[55] \"AT2H\"                  \"AT4H\"                  \"AT24H\"                \n",
       "[58] \"corr_atacseq_gene\"     \"corr_atacseq_otherEnd\" \"corr_gene_otherEnd\"   \n",
       "[61] \"BIC_atacseq\"           \"LR_atacseq\"            \"BIC_chic\"             \n",
       "[64] \"LR_chic\"               \"BIC_gene\"              \"LR_gene\"              \n",
       "[67] \"ATACpos\"               \"otherEndpos\"           \"baitpos\"              \n",
       "[70] \"ENSGpos\"               \"dist_ATAC_gene\"        \"dist_otherEnd_bait\"   \n",
       "[73] \"dist_bait_gene\"        \"dist_ATAC_bait\"       "
      ]
     },
     "metadata": {},
     "output_type": "display_data"
    }
   ],
   "source": [
    "names(data_200k)"
   ]
  },
  {
   "cell_type": "code",
   "execution_count": 17,
   "metadata": {},
   "outputs": [],
   "source": [
    "write.table(data_200k, file='data/data_within200kb_withBIC.txt',quote=F, row.names=F)"
   ]
  },
  {
   "cell_type": "markdown",
   "metadata": {},
   "source": [
    "### plotting the correlation densities whthin different distance ranges (p value from wilcoxon test below )"
   ]
  },
  {
   "cell_type": "code",
   "execution_count": 18,
   "metadata": {},
   "outputs": [],
   "source": [
    "row0 <- dim(data_5MB)[1]\n",
    "rowfrom1MBto5MB <- dim(data_from1MBto5MB)[1]\n",
    "rowfrom500kto1MB <-dim(data_from500kto1MB)[1]\n",
    "rowfrom200kto500k <- dim(data_from200kto500k)[1]\n",
    "row200k <- dim(data_200k)[1]\n",
    "row_all <- row0 + rowfrom1MBto5MB +rowfrom500kto1MB + rowfrom200kto500k + row200k\n",
    "data_forplot <- data.frame( correlation=c(data_5MB$corr_atacseq_gene, \n",
    "   data_from1MBto5MB$corr_atacseq_gene, data_from500kto1MB$corr_atacseq_gene, \n",
    "   data_from200kto500k$corr_atacseq_gene, data_200k$corr_atacseq_gene, data_5MB$corr_atacseq_otherEnd, \n",
    "   data_from1MBto5MB$corr_atacseq_otherEnd, data_from500kto1MB$corr_atacseq_otherEnd, \n",
    "   data_from200kto500k$corr_atacseq_otherEnd, data_200k$corr_atacseq_otherEnd, data_5MB$corr_gene_otherEnd, \n",
    "   data_from1MBto5MB$corr_gene_otherEnd, data_from500kto1MB$corr_gene_otherEnd, \n",
    "   data_from200kto500k$corr_gene_otherEnd, data_200k$corr_gene_otherEnd),\n",
    "  label=rep(c('corr_ATAC_gene ','corr_ATAC_CHiC ','corr_gene_CHiC '), each=row_all), \n",
    "            category=rep(rep(c('<5Mb','1Mb-5Mb','500kb-1Mb','200kb-500kb','<200kb'), \n",
    "                             c(row0, rowfrom1MBto5MB, rowfrom500kto1MB, rowfrom200kto500k, row200k)),3))\n",
    "\n",
    "data_forplot$category_f <- factor(data_forplot$category, levels=c('<5Mb','1Mb-5Mb','500kb-1Mb','200kb-500kb','<200kb'))\n",
    "\n",
    "data_forplot2 <- data.frame(correlation_random = c(corr_aandg_random_5MB_ind, corr_aandg_random_from1MBto5MB_ind, \n",
    "                                                   corr_aandg_random_from500kto1MB_ind, corr_aandg_random_from200kto500k_ind, \n",
    "                                                   corr_aandg_random_200k_ind,\n",
    "                                                   corr_aandOE_random_5MB_ind, corr_aandOE_random_from1MBto5MB_ind,\n",
    "                                                   corr_aandOE_random_from500kto1MB_ind, corr_aandOE_random_from200kto500k_ind,\n",
    "                                                   corr_aandOE_random_200k_ind,\n",
    "                                                   corr_gandOE_random_5MB_ind, corr_gandOE_random_from1MBto5MB_ind,\n",
    "                                                   corr_gandOE_random_from500kto1MB_ind, corr_gandOE_random_from200kto500k_ind,\n",
    "                                                   corr_gandOE_random_200k_ind),\n",
    "                    label=rep(c('corr_ATAC_gene ','corr_ATAC_CHiC ','corr_gene_CHiC '), each=row_all), \n",
    "                    category=rep(rep(c('<5Mb','1Mb-5Mb','500kb-1Mb','200kb-500kb','<200kb'), \n",
    "                             c(row0, rowfrom1MBto5MB, rowfrom500kto1MB, rowfrom200kto500k, row200k)),3))\n",
    "data_forplot2$category_f <- factor(data_forplot2$category, levels=c('<5Mb','1Mb-5Mb','500kb-1Mb','200kb-500kb','<200kb'))\n",
    "\n"
   ]
  },
  {
   "cell_type": "code",
   "execution_count": 19,
   "metadata": {},
   "outputs": [],
   "source": [
    "p_atac_gene <- numeric(0)\n",
    "data_sample1 <- data_forplot %>% filter(category %in% '<5Mb' & label %in% 'corr_ATAC_gene ') %>% select(correlation)\n",
    "data_sample2 <- data_forplot2 %>% filter(category %in% '<5Mb' & label %in% 'corr_ATAC_gene ') %>% select(correlation_random)\n",
    "p_atac_gene[1] <- format.pval(wilcox.test(data_sample1$correlation, data_sample2$correlation_random)$p.value, digits=2)\n",
    "#dim(data_sample1)\n",
    "#dim(data_sample2)\n",
    "data_sample1 <- data_forplot %>% filter(category %in% '1Mb-5Mb' & label %in% 'corr_ATAC_gene ') %>% select(correlation)\n",
    "data_sample2 <- data_forplot2 %>% filter(category %in% '1Mb-5Mb' & label %in% 'corr_ATAC_gene ') %>% select(correlation_random)\n",
    "p_atac_gene[2] <- format.pval(wilcox.test(data_sample1$correlation, data_sample2$correlation_random)$p.value, digits=2)\n",
    "#dim(data_sample1)\n",
    "#dim(data_sample2)\n",
    "data_sample1 <- data_forplot %>% filter(category %in% '500kb-1Mb' & label %in% 'corr_ATAC_gene ') %>% select(correlation)\n",
    "data_sample2 <- data_forplot2 %>% filter(category %in% '500kb-1Mb' & label %in% 'corr_ATAC_gene ') %>% select(correlation_random)\n",
    "p_atac_gene[3] <- format.pval(wilcox.test(data_sample1$correlation, data_sample2$correlation_random)$p.value, digits=2)\n",
    "#dim(data_sample1)\n",
    "#dim(data_sample2)\n",
    "data_sample1 <- data_forplot %>% filter(category %in% '200kb-500kb' & label %in% 'corr_ATAC_gene ') %>% select(correlation)\n",
    "data_sample2 <- data_forplot2 %>% filter(category %in% '200kb-500kb' & label %in% 'corr_ATAC_gene ') %>% select(correlation_random)\n",
    "p_atac_gene[4] <- format.pval(wilcox.test(data_sample1$correlation, data_sample2$correlation_random)$p.value, digits=2)\n",
    "data_sample1 <- data_forplot %>% filter(category %in% '<200kb' & label %in% 'corr_ATAC_gene ') %>% select(correlation)\n",
    "data_sample2 <- data_forplot2 %>% filter(category %in% '<200kb' & label %in% 'corr_ATAC_gene ') %>% select(correlation_random)\n",
    "p_atac_gene[5] <- format.pval(wilcox.test(data_sample1$correlation, data_sample2$correlation_random)$p.value, digits=2)\n"
   ]
  },
  {
   "cell_type": "code",
   "execution_count": 20,
   "metadata": {},
   "outputs": [],
   "source": [
    "p_atac_chic <- numeric(0)\n",
    "data_sample1 <- data_forplot %>% filter(category %in% '<5Mb' & label %in% 'corr_ATAC_CHiC ') %>% select(correlation)\n",
    "data_sample2 <- data_forplot2 %>% filter(category %in% '<5Mb' & label %in% 'corr_ATAC_CHiC ') %>% select(correlation_random)\n",
    "p_atac_chic[1] <- format.pval(wilcox.test(data_sample1$correlation, data_sample2$correlation_random)$p.value, digits=2)\n",
    "data_sample1 <- data_forplot %>% filter(category %in% '1Mb-5Mb' & label %in% 'corr_ATAC_CHiC ') %>% select(correlation)\n",
    "data_sample2 <- data_forplot2 %>% filter(category %in% '1Mb-5Mb' & label %in% 'corr_ATAC_CHiC ') %>% select(correlation_random)\n",
    "p_atac_chic[2] <- format.pval(wilcox.test(data_sample1$correlation, data_sample2$correlation_random)$p.value, digits=2)\n",
    "data_sample1 <- data_forplot %>% filter(category %in% '500kb-1Mb' & label %in% 'corr_ATAC_CHiC ') %>% select(correlation)\n",
    "data_sample2 <- data_forplot2 %>% filter(category %in% '500kb-1Mb' & label %in% 'corr_ATAC_CHiC ') %>% select(correlation_random)\n",
    "p_atac_chic[3] <- format.pval(wilcox.test(data_sample1$correlation, data_sample2$correlation_random)$p.value, digits=2)\n",
    "data_sample1 <- data_forplot %>% filter(category %in% '200kb-500kb' & label %in% 'corr_ATAC_CHiC ') %>% select(correlation)\n",
    "data_sample2 <- data_forplot2 %>% filter(category %in% '200kb-500kb' & label %in% 'corr_ATAC_CHiC ') %>% select(correlation_random)\n",
    "p_atac_chic[4] <- format.pval(wilcox.test(data_sample1$correlation, data_sample2$correlation_random)$p.value, digits=2)\n",
    "data_sample1 <- data_forplot %>% filter(category %in% '<200kb' & label %in% 'corr_ATAC_CHiC ') %>% select(correlation)\n",
    "data_sample2 <- data_forplot2 %>% filter(category %in% '<200kb' & label %in% 'corr_ATAC_CHiC ') %>% select(correlation_random)\n",
    "p_atac_chic[5] <- format.pval(wilcox.test(data_sample1$correlation, data_sample2$correlation_random)$p.value, digits=2)\n"
   ]
  },
  {
   "cell_type": "code",
   "execution_count": 21,
   "metadata": {},
   "outputs": [],
   "source": [
    "p_gene_chic <- numeric(0)\n",
    "data_sample1 <- data_forplot %>% filter(category %in% '<5Mb' & label %in% 'corr_gene_CHiC ') %>% select(correlation)\n",
    "data_sample2 <- data_forplot2 %>% filter(category %in% '<5Mb' & label %in% 'corr_gene_CHiC ') %>% select(correlation_random)\n",
    "p_gene_chic[1] <- format.pval(wilcox.test(data_sample1$correlation, data_sample2$correlation_random)$p.value, digits=2)\n",
    "data_sample1 <- data_forplot %>% filter(category %in% '1Mb-5Mb' & label %in% 'corr_gene_CHiC ') %>% select(correlation)\n",
    "data_sample2 <- data_forplot2 %>% filter(category %in% '1Mb-5Mb' & label %in% 'corr_gene_CHiC ') %>% select(correlation_random)\n",
    "p_gene_chic[2] <- format.pval(wilcox.test(data_sample1$correlation, data_sample2$correlation_random)$p.value, digits=2)\n",
    "data_sample1 <- data_forplot %>% filter(category %in% '500kb-1Mb' & label %in% 'corr_gene_CHiC ') %>% select(correlation)\n",
    "data_sample2 <- data_forplot2 %>% filter(category %in% '500kb-1Mb' & label %in% 'corr_gene_CHiC ') %>% select(correlation_random)\n",
    "p_gene_chic[3] <- format.pval(wilcox.test(data_sample1$correlation, data_sample2$correlation_random)$p.value, digits=2)\n",
    "data_sample1 <- data_forplot %>% filter(category %in% '200kb-500kb' & label %in% 'corr_gene_CHiC ') %>% select(correlation)\n",
    "data_sample2 <- data_forplot2 %>% filter(category %in% '200kb-500kb' & label %in% 'corr_gene_CHiC ') %>% select(correlation_random)\n",
    "p_gene_chic[4] <- format.pval(wilcox.test(data_sample1$correlation, data_sample2$correlation_random)$p.value, digits=2)\n",
    "data_sample1 <- data_forplot %>% filter(category %in% '<200kb' & label %in% 'corr_gene_CHiC ') %>% select(correlation)\n",
    "data_sample2 <- data_forplot2 %>% filter(category %in% '<200kb' & label %in% 'corr_gene_CHiC ') %>% select(correlation_random)\n",
    "p_gene_chic[5] <- format.pval(wilcox.test(data_sample1$correlation, data_sample2$correlation_random)$p.value, digits=2)\n"
   ]
  },
  {
   "cell_type": "code",
   "execution_count": 22,
   "metadata": {},
   "outputs": [],
   "source": [
    "data_forplot$pvalue <- c(rep(p_atac_gene, c(row0, rowfrom1MBto5MB, rowfrom500kto1MB, rowfrom200kto500k, row200k)),\n",
    "    rep(p_atac_chic,c(row0, rowfrom1MBto5MB, rowfrom500kto1MB, rowfrom200kto500k, row200k)),\n",
    "    rep(p_gene_chic,c(row0, rowfrom1MBto5MB, rowfrom500kto1MB, rowfrom200kto500k, row200k)))\n",
    "    "
   ]
  },
  {
   "cell_type": "code",
   "execution_count": 23,
   "metadata": {},
   "outputs": [],
   "source": [
    "data_forplot$tmp <- rep('italic(p)==', dim(data_forplot)[2])\n",
    "data_forplot$tmp[endsWith(data_forplot$pvalue,'16')] <- 'italic(p)'\n",
    "data_forplot$label_pvalue <- paste0(data_forplot$tmp, data_forplot$pvalue)"
   ]
  },
  {
   "cell_type": "code",
   "execution_count": 30,
   "metadata": {
    "scrolled": true
   },
   "outputs": [
    {
     "name": "stderr",
     "output_type": "stream",
     "text": [
      "Saving 6.67 x 6.67 in image\n",
      "\n"
     ]
    },
    {
     "data": {
      "image/png": "[encoded data removed]",
      "text/plain": [
       "plot without title"
      ]
     },
     "metadata": {
      "image/png": {
       "height": 420,
       "width": 420
      }
     },
     "output_type": "display_data"
    }
   ],
   "source": [
    "p0 <- ggplot() + geom_density(data=data_forplot , aes(x=correlation, fill=label), color='white', alpha=0.8)  +\n",
    "geom_density(data=data_forplot2, aes(x=correlation_random), color='black', size=0.5, alpha=0.5) +\n",
    "geom_text(data=data_forplot, aes(x=0.1,y=0.05, label=label_pvalue), color='black', parse=TRUE, size=3) +\n",
    "\n",
    " scale_x_continuous(breaks=c(-1.0,0.0,1.0), labels=c(-1.0,0.0,1.0)) +\n",
    "#scale_fill_locuszoom() +\n",
    "scale_fill_brewer(palette=\"Pastel2\") + \n",
    "theme(panel.background = element_blank(), plot.title = element_text(face='bold', size=14),\n",
    "      text=element_text(size=10),\n",
    "         axis.title=element_text(size=10,face=\"bold\"), axis.text=element_text(size=8,face=\"bold\"), axis.line=element_line('black'),\n",
    "      ,legend.title=element_blank(), legend.text=element_text(size=8), \n",
    "      legend.box.background = element_rect(size=3, color='NA'),\n",
    "      legend.key.size = unit(0.4, \"cm\"), legend.spacing.x = unit(0.3, 'cm'),\n",
    "      strip.text.x=element_text(size=10, face='bold'), strip.text.y=element_text(size=10, face='bold'), legend.position=\"top\") +\n",
    " xlab('Correlation') + ylab('Density') + #ggtitle('Fig. 4a') +\n",
    "facet_grid(label ~ category_f) \n",
    "ggsave('~/Dropbox (The University of Manchester)/IntegratingATAC-RNA-HiC/Individual_Figures_Files/CHiC_ATACSeq_gene/correlations_within_ranges_new.png', p0, dpi=600)#+ ggtitle('p value from Wilcox test')\n",
    "#ggsave(filename='correlation_withinrange.pdf',p0, dpi=300)\n",
    "p0"
   ]
  },
  {
   "cell_type": "code",
   "execution_count": null,
   "metadata": {},
   "outputs": [],
   "source": []
  }
 ],
 "metadata": {
  "kernelspec": {
   "display_name": "R",
   "language": "R",
   "name": "ir"
  },
  "language_info": {
   "codemirror_mode": "r",
   "file_extension": ".r",
   "mimetype": "text/x-r-source",
   "name": "R",
   "pygments_lexer": "r",
   "version": "3.6.3"
  }
 },
 "nbformat": 4,
 "nbformat_minor": 2
}
