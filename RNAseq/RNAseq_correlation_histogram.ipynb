{
 "cells": [
  {
   "cell_type": "markdown",
   "metadata": {},
   "source": [
    "## Jupyter notebook for showing histogram of the correlations between two replicates of RNA-seq data \n",
    "This notebook is the code for showing the histogram of the correlations between two replicates of RNA-seq data used in the paper \"Simultaneous analysis of open chromatin, promoter interactions and gene expression in stimulated T cells implicates causal genes for rheumatoid arthritis\" by Jing Yang, Amanda McGovern, Paul Martin, Kate Duffus, Peyman Zarrineh, Andrew P Morris, Antony Adamson, Peter Fraser, Magnus Rattray & Stephen Eyre.\n",
    "\n",
    "Author : *Jing Yang*  <br />\n",
    "Date: 24-10-2019 <br />\n",
    "For any questions about the code, please drop me a line at Jing.Yang@manchester.ac.uk"
   ]
  },
  {
   "cell_type": "markdown",
   "metadata": {},
   "source": [
    "### load package"
   ]
  },
  {
   "cell_type": "code",
   "execution_count": 1,
   "metadata": {},
   "outputs": [],
   "source": [
    "library(ggplot2)"
   ]
  },
  {
   "cell_type": "markdown",
   "metadata": {},
   "source": [
    "### read the normalized RNA-seq data"
   ]
  },
  {
   "cell_type": "code",
   "execution_count": 2,
   "metadata": {},
   "outputs": [],
   "source": [
    "data <- read.table('data/gene_normalized.csv', sep=',', header=T)"
   ]
  },
  {
   "cell_type": "code",
   "execution_count": 3,
   "metadata": {
    "scrolled": true
   },
   "outputs": [
    {
     "data": {
      "text/html": [
       "<ol class=list-inline>\n",
       "\t<li>'ENSG'</li>\n",
       "\t<li>'chr'</li>\n",
       "\t<li>'ENSGStart'</li>\n",
       "\t<li>'ENSGEnd'</li>\n",
       "\t<li>'T01'</li>\n",
       "\t<li>'T201'</li>\n",
       "\t<li>'T601'</li>\n",
       "\t<li>'T2H1'</li>\n",
       "\t<li>'T4H1'</li>\n",
       "\t<li>'T24H1'</li>\n",
       "\t<li>'T02'</li>\n",
       "\t<li>'T202'</li>\n",
       "\t<li>'T602'</li>\n",
       "\t<li>'T2H2'</li>\n",
       "\t<li>'T4H2'</li>\n",
       "\t<li>'T24H2'</li>\n",
       "\t<li>'LR'</li>\n",
       "\t<li>'BIC_difference'</li>\n",
       "</ol>\n"
      ],
      "text/latex": [
       "\\begin{enumerate*}\n",
       "\\item 'ENSG'\n",
       "\\item 'chr'\n",
       "\\item 'ENSGStart'\n",
       "\\item 'ENSGEnd'\n",
       "\\item 'T01'\n",
       "\\item 'T201'\n",
       "\\item 'T601'\n",
       "\\item 'T2H1'\n",
       "\\item 'T4H1'\n",
       "\\item 'T24H1'\n",
       "\\item 'T02'\n",
       "\\item 'T202'\n",
       "\\item 'T602'\n",
       "\\item 'T2H2'\n",
       "\\item 'T4H2'\n",
       "\\item 'T24H2'\n",
       "\\item 'LR'\n",
       "\\item 'BIC\\_difference'\n",
       "\\end{enumerate*}\n"
      ],
      "text/markdown": [
       "1. 'ENSG'\n",
       "2. 'chr'\n",
       "3. 'ENSGStart'\n",
       "4. 'ENSGEnd'\n",
       "5. 'T01'\n",
       "6. 'T201'\n",
       "7. 'T601'\n",
       "8. 'T2H1'\n",
       "9. 'T4H1'\n",
       "10. 'T24H1'\n",
       "11. 'T02'\n",
       "12. 'T202'\n",
       "13. 'T602'\n",
       "14. 'T2H2'\n",
       "15. 'T4H2'\n",
       "16. 'T24H2'\n",
       "17. 'LR'\n",
       "18. 'BIC_difference'\n",
       "\n",
       "\n"
      ],
      "text/plain": [
       " [1] \"ENSG\"           \"chr\"            \"ENSGStart\"      \"ENSGEnd\"       \n",
       " [5] \"T01\"            \"T201\"           \"T601\"           \"T2H1\"          \n",
       " [9] \"T4H1\"           \"T24H1\"          \"T02\"            \"T202\"          \n",
       "[13] \"T602\"           \"T2H2\"           \"T4H2\"           \"T24H2\"         \n",
       "[17] \"LR\"             \"BIC_difference\""
      ]
     },
     "metadata": {},
     "output_type": "display_data"
    }
   ],
   "source": [
    "names(data)"
   ]
  },
  {
   "cell_type": "code",
   "execution_count": 4,
   "metadata": {},
   "outputs": [],
   "source": [
    "idx_rep1 <- c('T01','T201','T601','T2H1','T4H1','T24H1')\n",
    "idx_rep2 <- c('T02','T202','T602','T2H2','T4H2','T24H2')\n"
   ]
  },
  {
   "cell_type": "code",
   "execution_count": 6,
   "metadata": {},
   "outputs": [
    {
     "name": "stderr",
     "output_type": "stream",
     "text": [
      "Warning message in cor(t(data[i, idx_rep1]), t(data[i, idx_rep2])):\n",
      "“the standard deviation is zero”Warning message in cor(t(data[i, idx_rep1]), t(data[i, idx_rep2])):\n",
      "“the standard deviation is zero”Warning message in cor(t(data[i, idx_rep1]), t(data[i, idx_rep2])):\n",
      "“the standard deviation is zero”Warning message in cor(t(data[i, idx_rep1]), t(data[i, idx_rep2])):\n",
      "“the standard deviation is zero”Warning message in cor(t(data[i, idx_rep1]), t(data[i, idx_rep2])):\n",
      "“the standard deviation is zero”Warning message in cor(t(data[i, idx_rep1]), t(data[i, idx_rep2])):\n",
      "“the standard deviation is zero”Warning message in cor(t(data[i, idx_rep1]), t(data[i, idx_rep2])):\n",
      "“the standard deviation is zero”Warning message in cor(t(data[i, idx_rep1]), t(data[i, idx_rep2])):\n",
      "“the standard deviation is zero”Warning message in cor(t(data[i, idx_rep1]), t(data[i, idx_rep2])):\n",
      "“the standard deviation is zero”Warning message in cor(t(data[i, idx_rep1]), t(data[i, idx_rep2])):\n",
      "“the standard deviation is zero”Warning message in cor(t(data[i, idx_rep1]), t(data[i, idx_rep2])):\n",
      "“the standard deviation is zero”Warning message in cor(t(data[i, idx_rep1]), t(data[i, idx_rep2])):\n",
      "“the standard deviation is zero”Warning message in cor(t(data[i, idx_rep1]), t(data[i, idx_rep2])):\n",
      "“the standard deviation is zero”Warning message in cor(t(data[i, idx_rep1]), t(data[i, idx_rep2])):\n",
      "“the standard deviation is zero”Warning message in cor(t(data[i, idx_rep1]), t(data[i, idx_rep2])):\n",
      "“the standard deviation is zero”Warning message in cor(t(data[i, idx_rep1]), t(data[i, idx_rep2])):\n",
      "“the standard deviation is zero”Warning message in cor(t(data[i, idx_rep1]), t(data[i, idx_rep2])):\n",
      "“the standard deviation is zero”Warning message in cor(t(data[i, idx_rep1]), t(data[i, idx_rep2])):\n",
      "“the standard deviation is zero”Warning message in cor(t(data[i, idx_rep1]), t(data[i, idx_rep2])):\n",
      "“the standard deviation is zero”Warning message in cor(t(data[i, idx_rep1]), t(data[i, idx_rep2])):\n",
      "“the standard deviation is zero”Warning message in cor(t(data[i, idx_rep1]), t(data[i, idx_rep2])):\n",
      "“the standard deviation is zero”Warning message in cor(t(data[i, idx_rep1]), t(data[i, idx_rep2])):\n",
      "“the standard deviation is zero”Warning message in cor(t(data[i, idx_rep1]), t(data[i, idx_rep2])):\n",
      "“the standard deviation is zero”Warning message in cor(t(data[i, idx_rep1]), t(data[i, idx_rep2])):\n",
      "“the standard deviation is zero”"
     ]
    }
   ],
   "source": [
    "corr_gene <- sapply(seq.int(dim(data)[1]), function(i) cor(t(data[i,idx_rep1]), t(data[i,idx_rep2])))"
   ]
  },
  {
   "cell_type": "code",
   "execution_count": 10,
   "metadata": {},
   "outputs": [
    {
     "name": "stderr",
     "output_type": "stream",
     "text": [
      "Warning message:\n",
      "“Removed 24 rows containing non-finite values (stat_bin).”"
     ]
    },
    {
     "data": {
      "image/png": "[encoded data removed]",
      "text/plain": [
       "plot without title"
      ]
     },
     "metadata": {},
     "output_type": "display_data"
    }
   ],
   "source": [
    "ggplot(data=data.frame(x=corr_gene), aes(x=x)) + geom_histogram(bins=50, color=\"NA\", fill=\"darkblue\") + \n",
    "theme(\n",
    "  panel.border = element_blank(),  \n",
    "  panel.grid.major = element_blank(),\n",
    "  panel.grid.minor = element_blank(),\n",
    "  panel.background = element_blank(),\n",
    "  axis.line = element_line(colour = \"grey\"),\n",
    "  legend.title = element_text(size = 10),\n",
    "        legend.text = element_text(size = 4),\n",
    "        plot.title = element_text(hjust=0.5,vjust=0.5, size=12),\n",
    "        strip.text=element_text(size=10, face='bold'),\n",
    "        axis.title=element_text(size=12,face=\"bold\"),\n",
    "        axis.text.x = element_text(angle = 0, size=10, face='bold'),\n",
    "        axis.text.y = element_text(size=10, face='bold')\n",
    "  ) + \n",
    "xlab('Correlation') + ylab('Bin counts') + ggtitle('Supplementary Fig. 2d')\n"
   ]
  }
 ],
 "metadata": {
  "kernelspec": {
   "display_name": "R",
   "language": "R",
   "name": "ir"
  },
  "language_info": {
   "codemirror_mode": "r",
   "file_extension": ".r",
   "mimetype": "text/x-r-source",
   "name": "R",
   "pygments_lexer": "r",
   "version": "3.6.1"
  }
 },
 "nbformat": 4,
 "nbformat_minor": 2
}
