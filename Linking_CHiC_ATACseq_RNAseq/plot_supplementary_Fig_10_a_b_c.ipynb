{
 "cells": [
  {
   "cell_type": "markdown",
   "metadata": {},
   "source": [
    "## Jupyter notebook for plotting supplementary fig. 10 a-c\n",
    "\n",
    "This notebook is the code for plotting temporal changes of CHi-C, ATAC-seq and RNA-seq on peak sites intersected with CTCF/H3K27AC (Supplementary Fig. 10a-c) as illustrated in the paper \"**\\\"Analysis of chromatin organinization and gene expression in T cells identifies functional genes for rheumatoid arthritis\\\"** by *Jing Yang, Amanda McGovern, Paul Martin, Kate Duffus, Xiangyu Ge, Peyman Zarrineh, Andrew P Morris, Antony Adamson, Peter Fraser, Magnus Rattray & Stephen Eyre*\n",
    "\n",
    "Author : *Jing Yang*  <br />\n",
    "Date: 01-05-2020 <br />\n",
    "For any questions about the code, please drop me a line at Jing.Yang@manchester.ac.uk"
   ]
  },
  {
   "cell_type": "code",
   "execution_count": 1,
   "metadata": {},
   "outputs": [
    {
     "name": "stderr",
     "output_type": "stream",
     "text": [
      "── \u001b[1mAttaching packages\u001b[22m ─────────────────────────────────────── tidyverse 1.3.0 ──\n",
      "\n",
      "\u001b[32m✔\u001b[39m \u001b[34mggplot2\u001b[39m 3.3.0     \u001b[32m✔\u001b[39m \u001b[34mpurrr  \u001b[39m 0.3.4\n",
      "\u001b[32m✔\u001b[39m \u001b[34mtibble \u001b[39m 3.0.1     \u001b[32m✔\u001b[39m \u001b[34mdplyr  \u001b[39m 0.8.5\n",
      "\u001b[32m✔\u001b[39m \u001b[34mtidyr  \u001b[39m 1.1.0     \u001b[32m✔\u001b[39m \u001b[34mstringr\u001b[39m 1.4.0\n",
      "\u001b[32m✔\u001b[39m \u001b[34mreadr  \u001b[39m 1.3.1     \u001b[32m✔\u001b[39m \u001b[34mforcats\u001b[39m 0.5.0\n",
      "\n",
      "── \u001b[1mConflicts\u001b[22m ────────────────────────────────────────── tidyverse_conflicts() ──\n",
      "\u001b[31m✖\u001b[39m \u001b[34mdplyr\u001b[39m::\u001b[32mfilter()\u001b[39m masks \u001b[34mstats\u001b[39m::filter()\n",
      "\u001b[31m✖\u001b[39m \u001b[34mdplyr\u001b[39m::\u001b[32mlag()\u001b[39m    masks \u001b[34mstats\u001b[39m::lag()\n",
      "\n",
      "\n",
      "Attaching package: ‘reshape2’\n",
      "\n",
      "\n",
      "The following object is masked from ‘package:tidyr’:\n",
      "\n",
      "    smiths\n",
      "\n",
      "\n",
      "\n",
      "Attaching package: ‘gridExtra’\n",
      "\n",
      "\n",
      "The following object is masked from ‘package:dplyr’:\n",
      "\n",
      "    combine\n",
      "\n",
      "\n",
      "\n",
      "Attaching package: ‘data.table’\n",
      "\n",
      "\n",
      "The following objects are masked from ‘package:reshape2’:\n",
      "\n",
      "    dcast, melt\n",
      "\n",
      "\n",
      "The following objects are masked from ‘package:dplyr’:\n",
      "\n",
      "    between, first, last\n",
      "\n",
      "\n",
      "The following object is masked from ‘package:purrr’:\n",
      "\n",
      "    transpose\n",
      "\n",
      "\n"
     ]
    }
   ],
   "source": [
    "\n",
    "library(tidyverse)\n",
    "library(reshape2)\n",
    "library(gridExtra)\n",
    "library(data.table)"
   ]
  },
  {
   "cell_type": "code",
   "execution_count": 2,
   "metadata": {},
   "outputs": [],
   "source": [
    "ATACseq_clustered <- read.csv('data/ATACseq_withcluster.txt', header=T)"
   ]
  },
  {
   "cell_type": "code",
   "execution_count": 3,
   "metadata": {},
   "outputs": [],
   "source": [
    "linked_data <- read.table('data/ATACseq_CHiC_RNAseq_linked.txt', header=T)"
   ]
  },
  {
   "cell_type": "code",
   "execution_count": 4,
   "metadata": {},
   "outputs": [
    {
     "data": {
      "text/html": [
       "<style>\n",
       ".list-inline {list-style: none; margin:0; padding: 0}\n",
       ".list-inline>li {display: inline-block}\n",
       ".list-inline>li:not(:last-child)::after {content: \"\\00b7\"; padding: 0 .5ex}\n",
       "</style>\n",
       "<ol class=list-inline><li>37819</li><li>78</li></ol>\n"
      ],
      "text/latex": [
       "\\begin{enumerate*}\n",
       "\\item 37819\n",
       "\\item 78\n",
       "\\end{enumerate*}\n"
      ],
      "text/markdown": [
       "1. 37819\n",
       "2. 78\n",
       "\n",
       "\n"
      ],
      "text/plain": [
       "[1] 37819    78"
      ]
     },
     "metadata": {},
     "output_type": "display_data"
    }
   ],
   "source": [
    "dim(linked_data)"
   ]
  },
  {
   "cell_type": "code",
   "execution_count": 5,
   "metadata": {},
   "outputs": [],
   "source": [
    "ATACseq_idx <- c('ATACchr','ATACstart','ATACend','AT0','AT20','AT1H','AT2H','AT4H','AT24H')"
   ]
  },
  {
   "cell_type": "code",
   "execution_count": 6,
   "metadata": {},
   "outputs": [],
   "source": [
    "ATACseq_data_all <- unique(linked_data[,ATACseq_idx])"
   ]
  },
  {
   "cell_type": "code",
   "execution_count": 7,
   "metadata": {},
   "outputs": [],
   "source": [
    "names(ATACseq_clustered) <- c('ATACchr','ATACstart','ATACend','ATACwidth',\n",
    "                              'AT0','AT20','AT1H','AT2H','AT4H','AT24H','ALR','ACluster') "
   ]
  },
  {
   "cell_type": "code",
   "execution_count": 8,
   "metadata": {},
   "outputs": [
    {
     "data": {
      "text/html": [
       "<style>\n",
       ".list-inline {list-style: none; margin:0; padding: 0}\n",
       ".list-inline>li {display: inline-block}\n",
       ".list-inline>li:not(:last-child)::after {content: \"\\00b7\"; padding: 0 .5ex}\n",
       "</style>\n",
       "<ol class=list-inline><li>7004</li><li>81</li></ol>\n"
      ],
      "text/latex": [
       "\\begin{enumerate*}\n",
       "\\item 7004\n",
       "\\item 81\n",
       "\\end{enumerate*}\n"
      ],
      "text/markdown": [
       "1. 7004\n",
       "2. 81\n",
       "\n",
       "\n"
      ],
      "text/plain": [
       "[1] 7004   81"
      ]
     },
     "metadata": {},
     "output_type": "display_data"
    }
   ],
   "source": [
    "merged_clusteredonly <- unique(merge(ATACseq_clustered, linked_data))\n",
    "dim(merged_clusteredonly)"
   ]
  },
  {
   "cell_type": "markdown",
   "metadata": {},
   "source": [
    "### read ATACseq intersected with CTCF and H3K427AC. "
   ]
  },
  {
   "cell_type": "code",
   "execution_count": 9,
   "metadata": {},
   "outputs": [],
   "source": [
    "\n",
    "ATACseq_with_TF <- fread('data/ATACseq_peak_withCTCF_H3K27AC.bed',header=F, sep='\\t')"
   ]
  },
  {
   "cell_type": "code",
   "execution_count": 10,
   "metadata": {},
   "outputs": [],
   "source": [
    "names(ATACseq_with_TF) <- c('ATACchr','ATACstart','ATACend','TF')"
   ]
  },
  {
   "cell_type": "code",
   "execution_count": 11,
   "metadata": {},
   "outputs": [],
   "source": [
    "#merged_data_new <- unique(merge(linked_data, ATACseq_with_TF, all=TRUE))\n",
    "merged_data <- unique(merge(merged_clusteredonly, ATACseq_with_TF, all=TRUE))\n"
   ]
  },
  {
   "cell_type": "code",
   "execution_count": 12,
   "metadata": {},
   "outputs": [],
   "source": [
    "merged_data$TF[is.na(merged_data$TF)] <- 'Others'"
   ]
  },
  {
   "cell_type": "code",
   "execution_count": 13,
   "metadata": {},
   "outputs": [
    {
     "data": {
      "text/html": [
       "<table>\n",
       "<caption>A data.frame: 6 × 82</caption>\n",
       "<thead>\n",
       "\t<tr><th></th><th scope=col>ATACchr</th><th scope=col>ATACstart</th><th scope=col>ATACend</th><th scope=col>AT0</th><th scope=col>AT20</th><th scope=col>AT1H</th><th scope=col>AT2H</th><th scope=col>AT4H</th><th scope=col>AT24H</th><th scope=col>ATACwidth</th><th scope=col>⋯</th><th scope=col>AdistanceToTss</th><th scope=col>AENSG</th><th scope=col>ASYMBOL</th><th scope=col>Alld_ratio0</th><th scope=col>mean_atacseq</th><th scope=col>mean_gene</th><th scope=col>corr_atacseq_gene</th><th scope=col>corr_atacseq_otherEnd</th><th scope=col>corr_gene_otherEnd</th><th scope=col>TF</th></tr>\n",
       "\t<tr><th></th><th scope=col>&lt;fct&gt;</th><th scope=col>&lt;int&gt;</th><th scope=col>&lt;int&gt;</th><th scope=col>&lt;dbl&gt;</th><th scope=col>&lt;dbl&gt;</th><th scope=col>&lt;dbl&gt;</th><th scope=col>&lt;dbl&gt;</th><th scope=col>&lt;dbl&gt;</th><th scope=col>&lt;dbl&gt;</th><th scope=col>&lt;int&gt;</th><th scope=col>⋯</th><th scope=col>&lt;int&gt;</th><th scope=col>&lt;fct&gt;</th><th scope=col>&lt;fct&gt;</th><th scope=col>&lt;dbl&gt;</th><th scope=col>&lt;dbl&gt;</th><th scope=col>&lt;dbl&gt;</th><th scope=col>&lt;dbl&gt;</th><th scope=col>&lt;dbl&gt;</th><th scope=col>&lt;dbl&gt;</th><th scope=col>&lt;chr&gt;</th></tr>\n",
       "</thead>\n",
       "<tbody>\n",
       "\t<tr><th scope=row>1</th><td>chr1</td><td> 984284</td><td> 984405</td><td>      NA</td><td>      NA</td><td>      NA</td><td>      NA</td><td>      NA</td><td>      NA</td><td> NA</td><td>⋯</td><td>   NA</td><td>NA             </td><td>NA    </td><td>      NA</td><td>      NA</td><td>      NA</td><td>        NA</td><td>        NA</td><td>         NA</td><td>CTCF   </td></tr>\n",
       "\t<tr><th scope=row>2</th><td>chr1</td><td>1040483</td><td>1040896</td><td>7.900938</td><td>7.986564</td><td>7.931974</td><td>7.621835</td><td>7.503944</td><td>7.269499</td><td>414</td><td>⋯</td><td>-4503</td><td>ENSG00000188157</td><td>AGRN  </td><td>2.380394</td><td>7.702459</td><td>10.65154</td><td>-0.8302291</td><td>-0.7455293</td><td> 0.30564424</td><td>CTCF   </td></tr>\n",
       "\t<tr><th scope=row>3</th><td>chr1</td><td>1068759</td><td>1068972</td><td>7.218716</td><td>6.998478</td><td>6.689556</td><td>6.772565</td><td>6.518431</td><td>6.311069</td><td>214</td><td>⋯</td><td> 5335</td><td>ENSG00000237330</td><td>RNF223</td><td>2.484040</td><td>6.751469</td><td>10.65154</td><td>-0.7590192</td><td>-0.5471011</td><td> 0.32102761</td><td>Others </td></tr>\n",
       "\t<tr><th scope=row>4</th><td>chr1</td><td>1068759</td><td>1068972</td><td>7.218716</td><td>6.998478</td><td>6.689556</td><td>6.772565</td><td>6.518431</td><td>6.311069</td><td>214</td><td>⋯</td><td> 5335</td><td>ENSG00000237330</td><td>RNF223</td><td>2.484040</td><td>6.751469</td><td>12.22116</td><td>-0.5843022</td><td>-0.6690165</td><td>-0.04538888</td><td>Others </td></tr>\n",
       "\t<tr><th scope=row>5</th><td>chr1</td><td>1069266</td><td>1069663</td><td>      NA</td><td>      NA</td><td>      NA</td><td>      NA</td><td>      NA</td><td>      NA</td><td> NA</td><td>⋯</td><td>   NA</td><td>NA             </td><td>NA    </td><td>      NA</td><td>      NA</td><td>      NA</td><td>        NA</td><td>        NA</td><td>         NA</td><td>CTCF   </td></tr>\n",
       "\t<tr><th scope=row>6</th><td>chr1</td><td>1079475</td><td>1080236</td><td>      NA</td><td>      NA</td><td>      NA</td><td>      NA</td><td>      NA</td><td>      NA</td><td> NA</td><td>⋯</td><td>   NA</td><td>NA             </td><td>NA    </td><td>      NA</td><td>      NA</td><td>      NA</td><td>        NA</td><td>        NA</td><td>         NA</td><td>H3K27AC</td></tr>\n",
       "</tbody>\n",
       "</table>\n"
      ],
      "text/latex": [
       "A data.frame: 6 × 82\n",
       "\\begin{tabular}{r|lllllllllllllllllllll}\n",
       "  & ATACchr & ATACstart & ATACend & AT0 & AT20 & AT1H & AT2H & AT4H & AT24H & ATACwidth & ⋯ & AdistanceToTss & AENSG & ASYMBOL & Alld\\_ratio0 & mean\\_atacseq & mean\\_gene & corr\\_atacseq\\_gene & corr\\_atacseq\\_otherEnd & corr\\_gene\\_otherEnd & TF\\\\\n",
       "  & <fct> & <int> & <int> & <dbl> & <dbl> & <dbl> & <dbl> & <dbl> & <dbl> & <int> & ⋯ & <int> & <fct> & <fct> & <dbl> & <dbl> & <dbl> & <dbl> & <dbl> & <dbl> & <chr>\\\\\n",
       "\\hline\n",
       "\t1 & chr1 &  984284 &  984405 &       NA &       NA &       NA &       NA &       NA &       NA &  NA & ⋯ &    NA & NA              & NA     &       NA &       NA &       NA &         NA &         NA &          NA & CTCF   \\\\\n",
       "\t2 & chr1 & 1040483 & 1040896 & 7.900938 & 7.986564 & 7.931974 & 7.621835 & 7.503944 & 7.269499 & 414 & ⋯ & -4503 & ENSG00000188157 & AGRN   & 2.380394 & 7.702459 & 10.65154 & -0.8302291 & -0.7455293 &  0.30564424 & CTCF   \\\\\n",
       "\t3 & chr1 & 1068759 & 1068972 & 7.218716 & 6.998478 & 6.689556 & 6.772565 & 6.518431 & 6.311069 & 214 & ⋯ &  5335 & ENSG00000237330 & RNF223 & 2.484040 & 6.751469 & 10.65154 & -0.7590192 & -0.5471011 &  0.32102761 & Others \\\\\n",
       "\t4 & chr1 & 1068759 & 1068972 & 7.218716 & 6.998478 & 6.689556 & 6.772565 & 6.518431 & 6.311069 & 214 & ⋯ &  5335 & ENSG00000237330 & RNF223 & 2.484040 & 6.751469 & 12.22116 & -0.5843022 & -0.6690165 & -0.04538888 & Others \\\\\n",
       "\t5 & chr1 & 1069266 & 1069663 &       NA &       NA &       NA &       NA &       NA &       NA &  NA & ⋯ &    NA & NA              & NA     &       NA &       NA &       NA &         NA &         NA &          NA & CTCF   \\\\\n",
       "\t6 & chr1 & 1079475 & 1080236 &       NA &       NA &       NA &       NA &       NA &       NA &  NA & ⋯ &    NA & NA              & NA     &       NA &       NA &       NA &         NA &         NA &          NA & H3K27AC\\\\\n",
       "\\end{tabular}\n"
      ],
      "text/markdown": [
       "\n",
       "A data.frame: 6 × 82\n",
       "\n",
       "| <!--/--> | ATACchr &lt;fct&gt; | ATACstart &lt;int&gt; | ATACend &lt;int&gt; | AT0 &lt;dbl&gt; | AT20 &lt;dbl&gt; | AT1H &lt;dbl&gt; | AT2H &lt;dbl&gt; | AT4H &lt;dbl&gt; | AT24H &lt;dbl&gt; | ATACwidth &lt;int&gt; | ⋯ ⋯ | AdistanceToTss &lt;int&gt; | AENSG &lt;fct&gt; | ASYMBOL &lt;fct&gt; | Alld_ratio0 &lt;dbl&gt; | mean_atacseq &lt;dbl&gt; | mean_gene &lt;dbl&gt; | corr_atacseq_gene &lt;dbl&gt; | corr_atacseq_otherEnd &lt;dbl&gt; | corr_gene_otherEnd &lt;dbl&gt; | TF &lt;chr&gt; |\n",
       "|---|---|---|---|---|---|---|---|---|---|---|---|---|---|---|---|---|---|---|---|---|---|\n",
       "| 1 | chr1 |  984284 |  984405 |       NA |       NA |       NA |       NA |       NA |       NA |  NA | ⋯ |    NA | NA              | NA     |       NA |       NA |       NA |         NA |         NA |          NA | CTCF    |\n",
       "| 2 | chr1 | 1040483 | 1040896 | 7.900938 | 7.986564 | 7.931974 | 7.621835 | 7.503944 | 7.269499 | 414 | ⋯ | -4503 | ENSG00000188157 | AGRN   | 2.380394 | 7.702459 | 10.65154 | -0.8302291 | -0.7455293 |  0.30564424 | CTCF    |\n",
       "| 3 | chr1 | 1068759 | 1068972 | 7.218716 | 6.998478 | 6.689556 | 6.772565 | 6.518431 | 6.311069 | 214 | ⋯ |  5335 | ENSG00000237330 | RNF223 | 2.484040 | 6.751469 | 10.65154 | -0.7590192 | -0.5471011 |  0.32102761 | Others  |\n",
       "| 4 | chr1 | 1068759 | 1068972 | 7.218716 | 6.998478 | 6.689556 | 6.772565 | 6.518431 | 6.311069 | 214 | ⋯ |  5335 | ENSG00000237330 | RNF223 | 2.484040 | 6.751469 | 12.22116 | -0.5843022 | -0.6690165 | -0.04538888 | Others  |\n",
       "| 5 | chr1 | 1069266 | 1069663 |       NA |       NA |       NA |       NA |       NA |       NA |  NA | ⋯ |    NA | NA              | NA     |       NA |       NA |       NA |         NA |         NA |          NA | CTCF    |\n",
       "| 6 | chr1 | 1079475 | 1080236 |       NA |       NA |       NA |       NA |       NA |       NA |  NA | ⋯ |    NA | NA              | NA     |       NA |       NA |       NA |         NA |         NA |          NA | H3K27AC |\n",
       "\n"
      ],
      "text/plain": [
       "  ATACchr ATACstart ATACend AT0      AT20     AT1H     AT2H     AT4H    \n",
       "1 chr1     984284    984405       NA       NA       NA       NA       NA\n",
       "2 chr1    1040483   1040896 7.900938 7.986564 7.931974 7.621835 7.503944\n",
       "3 chr1    1068759   1068972 7.218716 6.998478 6.689556 6.772565 6.518431\n",
       "4 chr1    1068759   1068972 7.218716 6.998478 6.689556 6.772565 6.518431\n",
       "5 chr1    1069266   1069663       NA       NA       NA       NA       NA\n",
       "6 chr1    1079475   1080236       NA       NA       NA       NA       NA\n",
       "  AT24H    ATACwidth ⋯ AdistanceToTss AENSG           ASYMBOL Alld_ratio0\n",
       "1       NA  NA       ⋯    NA          NA              NA            NA   \n",
       "2 7.269499 414       ⋯ -4503          ENSG00000188157 AGRN    2.380394   \n",
       "3 6.311069 214       ⋯  5335          ENSG00000237330 RNF223  2.484040   \n",
       "4 6.311069 214       ⋯  5335          ENSG00000237330 RNF223  2.484040   \n",
       "5       NA  NA       ⋯    NA          NA              NA            NA   \n",
       "6       NA  NA       ⋯    NA          NA              NA            NA   \n",
       "  mean_atacseq mean_gene corr_atacseq_gene corr_atacseq_otherEnd\n",
       "1       NA           NA          NA                NA           \n",
       "2 7.702459     10.65154  -0.8302291        -0.7455293           \n",
       "3 6.751469     10.65154  -0.7590192        -0.5471011           \n",
       "4 6.751469     12.22116  -0.5843022        -0.6690165           \n",
       "5       NA           NA          NA                NA           \n",
       "6       NA           NA          NA                NA           \n",
       "  corr_gene_otherEnd TF     \n",
       "1          NA        CTCF   \n",
       "2  0.30564424        CTCF   \n",
       "3  0.32102761        Others \n",
       "4 -0.04538888        Others \n",
       "5          NA        CTCF   \n",
       "6          NA        H3K27AC"
      ]
     },
     "metadata": {},
     "output_type": "display_data"
    }
   ],
   "source": [
    "head(merged_data)"
   ]
  },
  {
   "cell_type": "code",
   "execution_count": 14,
   "metadata": {
    "scrolled": true
   },
   "outputs": [
    {
     "data": {
      "text/html": [
       "<style>\n",
       ".list-inline {list-style: none; margin:0; padding: 0}\n",
       ".list-inline>li {display: inline-block}\n",
       ".list-inline>li:not(:last-child)::after {content: \"\\00b7\"; padding: 0 .5ex}\n",
       "</style>\n",
       "<ol class=list-inline><li>2849</li><li>82</li></ol>\n"
      ],
      "text/latex": [
       "\\begin{enumerate*}\n",
       "\\item 2849\n",
       "\\item 82\n",
       "\\end{enumerate*}\n"
      ],
      "text/markdown": [
       "1. 2849\n",
       "2. 82\n",
       "\n",
       "\n"
      ],
      "text/plain": [
       "[1] 2849   82"
      ]
     },
     "metadata": {},
     "output_type": "display_data"
    }
   ],
   "source": [
    "merged_data_new <- merged_data[complete.cases(merged_data),]\n",
    "dim(merged_data_new)"
   ]
  },
  {
   "cell_type": "code",
   "execution_count": 15,
   "metadata": {
    "scrolled": true
   },
   "outputs": [
    {
     "data": {
      "text/plain": [
       "\n",
       "        CTCF CTCF,H3K27AC      H3K27AC       Others \n",
       "         571           96          476         1706 "
      ]
     },
     "metadata": {},
     "output_type": "display_data"
    }
   ],
   "source": [
    "table(merged_data_new$TF)"
   ]
  },
  {
   "cell_type": "code",
   "execution_count": 16,
   "metadata": {},
   "outputs": [],
   "source": [
    "idx_atacseq <- c('ATACchr','ATACstart','ATACend','AT0','AT20','AT1H','AT2H','AT4H','AT24H','ACluster')\n",
    "idx_atacseq_time <- c('AT0','AT20','AT1H','AT2H','AT4H','AT24H')\n",
    "idx_chic <- c('baitID','otherEndID','T0','T20','T1H','T4H','T24H','ACluster')\n",
    "idx_chic_time <- c('T0','T20','T1H','T4H','T24H')\n",
    "idx_atacseq_time <- c('AT0','AT20','AT1H','AT2H','AT4H','AT24H')\n",
    "idx_gene <- c('ENSG','ET0_a','ET20_a','ET1H_a','ET2H_a','ET4H_a','ET24H_a','ACluster')\n",
    "idx_gene_time <- c('ET0_a','ET20_a','ET1H_a','ET2H_a','ET4H_a','ET24H_a')"
   ]
  },
  {
   "cell_type": "code",
   "execution_count": 17,
   "metadata": {},
   "outputs": [],
   "source": [
    "data_atacseq_CTCF <- unique(merged_data_new%>% filter(TF %in% 'CTCF') %>% select(all_of(idx_atacseq)))\n",
    "data_atacseq_CTCF_uniq <- data.frame(t(scale(t(unique(data_atacseq_CTCF)[,idx_atacseq_time]), center=TRUE, scale=TRUE)))\n",
    "data_atacseq_CTCF_uniq$cluster <- data_atacseq_CTCF$ACluster\n",
    "data_atacseq_other <- unique(merged_data_new%>% filter(TF %in% 'Others') %>% select(all_of(idx_atacseq)))\n",
    "data_atacseq_other_uniq <- data.frame(t(scale(t(unique(data_atacseq_other)[,idx_atacseq_time]), center=TRUE, scale=TRUE)))\n",
    "data_atacseq_other_uniq$cluster <- data_atacseq_other$ACluster\n",
    "data_atacseq_H3K27AC <- unique(merged_data_new%>% filter(TF %in% 'H3K27AC') %>% select(all_of(idx_atacseq)))\n",
    "data_atacseq_H3K27AC_uniq <- data.frame(t(scale(t(unique(data_atacseq_H3K27AC)[,idx_atacseq_time]), center=TRUE, scale=TRUE)))\n",
    "data_atacseq_H3K27AC_uniq$cluster <- data_atacseq_H3K27AC$ACluster\n",
    "data_atacseq_CTCFandH3K27AC <- unique(merged_data_new%>% filter(TF %in% 'CTCF,H3K27AC') %>% select(all_of(idx_atacseq)))\n",
    "data_atacseq_CTCFandH3K27AC_uniq <- data.frame(t(scale(t(unique(data_atacseq_CTCFandH3K27AC)[,idx_atacseq_time]), center=TRUE, scale=TRUE)))\n",
    "data_atacseq_CTCFandH3K27AC_uniq$cluster <- data_atacseq_CTCFandH3K27AC$ACluster"
   ]
  },
  {
   "cell_type": "code",
   "execution_count": 18,
   "metadata": {},
   "outputs": [],
   "source": [
    "data_chic_CTCF <- unique(merged_data_new%>% filter(TF %in% 'CTCF') %>% select(all_of(idx_chic)))\n",
    "data_chic_CTCF_uniq <- data.frame(t(scale(t(unique(data_chic_CTCF)[,idx_chic_time]), center=TRUE, scale=TRUE)))\n",
    "data_chic_CTCF_uniq$cluster <- data_chic_CTCF$ACluster\n",
    "data_chic_other <- unique(merged_data_new%>% filter(TF %in% 'Others') %>% select(all_of(idx_chic)))\n",
    "data_chic_other_uniq <- data.frame(t(scale(t(unique(data_chic_other)[,idx_chic_time]), center=TRUE, scale=TRUE)))\n",
    "data_chic_other_uniq$cluster <- data_chic_other$ACluster\n",
    "data_chic_H3K27AC <- unique(merged_data_new%>% filter(TF %in% 'H3K27AC') %>% select(all_of(idx_chic)))\n",
    "data_chic_H3K27AC_uniq <- data.frame(t(scale(t(unique(data_chic_H3K27AC)[,idx_chic_time]), center=TRUE, scale=TRUE)))\n",
    "data_chic_H3K27AC_uniq$cluster <- data_chic_H3K27AC$ACluster\n",
    "data_chic_CTCFandH3K27AC <- unique(merged_data_new%>% filter(TF %in% 'CTCF,H3K27AC') %>% select(all_of(idx_chic)))\n",
    "data_chic_CTCFandH3K27AC_uniq <- data.frame(t(scale(t(unique(data_chic_CTCFandH3K27AC)[,idx_chic_time]), center=TRUE, scale=TRUE)))\n",
    "data_chic_CTCFandH3K27AC_uniq$cluster <- data_chic_CTCFandH3K27AC$ACluster"
   ]
  },
  {
   "cell_type": "code",
   "execution_count": 19,
   "metadata": {},
   "outputs": [],
   "source": [
    "data_gene_CTCF <- unique(merged_data_new%>% filter(TF %in% 'CTCF') %>% select(all_of(idx_gene)))\n",
    "data_gene_CTCF_uniq <- data.frame(t(scale(t(unique(data_gene_CTCF)[,idx_gene_time]), center=TRUE, scale=TRUE)))\n",
    "data_gene_CTCF_uniq$cluster <- data_gene_CTCF$ACluster\n",
    "data_gene_other <- unique(merged_data_new%>% filter(TF %in% 'Others') %>% select(all_of(idx_gene)))\n",
    "data_gene_other_uniq <- data.frame(t(scale(t(unique(data_gene_other)[,idx_gene_time]), center=TRUE, scale=TRUE)))\n",
    "data_gene_other_uniq$cluster <- data_gene_other$ACluster\n",
    "data_gene_H3K27AC <- unique(merged_data_new%>% filter(TF %in% 'H3K27AC') %>% select(all_of(idx_gene)))\n",
    "data_gene_H3K27AC_uniq <- data.frame(t(scale(t(unique(data_gene_H3K27AC)[,idx_gene_time]), center=TRUE, scale=TRUE)))\n",
    "data_gene_H3K27AC_uniq$cluster <- data_gene_H3K27AC$ACluster\n",
    "data_gene_CTCFandH3K27AC <- unique(merged_data_new%>% filter(TF %in% 'CTCF,H3K27AC') %>% select(all_of(idx_gene)))\n",
    "data_gene_CTCFandH3K27AC_uniq <- data.frame(t(scale(t(unique(data_gene_CTCFandH3K27AC)[,idx_gene_time]), center=TRUE, scale=TRUE)))\n",
    "data_gene_CTCFandH3K27AC_uniq$cluster <- data_gene_CTCFandH3K27AC$ACluster"
   ]
  },
  {
   "cell_type": "code",
   "execution_count": 20,
   "metadata": {},
   "outputs": [],
   "source": [
    "time0 <- c('T0','T20','T1H','T2H','T4H','T24H')\n",
    "time1 <- c('T0','T20','T1H','T4H','T24H')\n"
   ]
  },
  {
   "cell_type": "code",
   "execution_count": 21,
   "metadata": {},
   "outputs": [
    {
     "data": {
      "text/html": [
       "<table>\n",
       "<caption>A data.frame: 6 × 6</caption>\n",
       "<thead>\n",
       "\t<tr><th></th><th scope=col>T0</th><th scope=col>T20</th><th scope=col>T1H</th><th scope=col>T4H</th><th scope=col>T24H</th><th scope=col>cluster</th></tr>\n",
       "\t<tr><th></th><th scope=col>&lt;dbl&gt;</th><th scope=col>&lt;dbl&gt;</th><th scope=col>&lt;dbl&gt;</th><th scope=col>&lt;dbl&gt;</th><th scope=col>&lt;dbl&gt;</th><th scope=col>&lt;int&gt;</th></tr>\n",
       "</thead>\n",
       "<tbody>\n",
       "\t<tr><th scope=row>1</th><td>-1.68338559</td><td> 0.1716470</td><td> 1.0026206</td><td> 0.28539359</td><td> 0.2237243</td><td>2</td></tr>\n",
       "\t<tr><th scope=row>2</th><td> 1.37731483</td><td>-0.3363436</td><td> 0.6523636</td><td>-0.59112163</td><td>-1.1022131</td><td>1</td></tr>\n",
       "\t<tr><th scope=row>3</th><td> 0.23743110</td><td>-1.6786684</td><td> 0.6419825</td><td>-0.04430572</td><td> 0.8435605</td><td>1</td></tr>\n",
       "\t<tr><th scope=row>4</th><td>-0.09962227</td><td> 0.5293336</td><td> 1.3737283</td><td>-0.58822777</td><td>-1.2152119</td><td>1</td></tr>\n",
       "\t<tr><th scope=row>5</th><td>-0.23548232</td><td> 1.3026075</td><td>-1.4221815</td><td>-0.10719003</td><td> 0.4622464</td><td>1</td></tr>\n",
       "\t<tr><th scope=row>6</th><td> 0.90567632</td><td> 1.1496955</td><td>-0.6235249</td><td>-1.18713183</td><td>-0.2447150</td><td>1</td></tr>\n",
       "</tbody>\n",
       "</table>\n"
      ],
      "text/latex": [
       "A data.frame: 6 × 6\n",
       "\\begin{tabular}{r|llllll}\n",
       "  & T0 & T20 & T1H & T4H & T24H & cluster\\\\\n",
       "  & <dbl> & <dbl> & <dbl> & <dbl> & <dbl> & <int>\\\\\n",
       "\\hline\n",
       "\t1 & -1.68338559 &  0.1716470 &  1.0026206 &  0.28539359 &  0.2237243 & 2\\\\\n",
       "\t2 &  1.37731483 & -0.3363436 &  0.6523636 & -0.59112163 & -1.1022131 & 1\\\\\n",
       "\t3 &  0.23743110 & -1.6786684 &  0.6419825 & -0.04430572 &  0.8435605 & 1\\\\\n",
       "\t4 & -0.09962227 &  0.5293336 &  1.3737283 & -0.58822777 & -1.2152119 & 1\\\\\n",
       "\t5 & -0.23548232 &  1.3026075 & -1.4221815 & -0.10719003 &  0.4622464 & 1\\\\\n",
       "\t6 &  0.90567632 &  1.1496955 & -0.6235249 & -1.18713183 & -0.2447150 & 1\\\\\n",
       "\\end{tabular}\n"
      ],
      "text/markdown": [
       "\n",
       "A data.frame: 6 × 6\n",
       "\n",
       "| <!--/--> | T0 &lt;dbl&gt; | T20 &lt;dbl&gt; | T1H &lt;dbl&gt; | T4H &lt;dbl&gt; | T24H &lt;dbl&gt; | cluster &lt;int&gt; |\n",
       "|---|---|---|---|---|---|---|\n",
       "| 1 | -1.68338559 |  0.1716470 |  1.0026206 |  0.28539359 |  0.2237243 | 2 |\n",
       "| 2 |  1.37731483 | -0.3363436 |  0.6523636 | -0.59112163 | -1.1022131 | 1 |\n",
       "| 3 |  0.23743110 | -1.6786684 |  0.6419825 | -0.04430572 |  0.8435605 | 1 |\n",
       "| 4 | -0.09962227 |  0.5293336 |  1.3737283 | -0.58822777 | -1.2152119 | 1 |\n",
       "| 5 | -0.23548232 |  1.3026075 | -1.4221815 | -0.10719003 |  0.4622464 | 1 |\n",
       "| 6 |  0.90567632 |  1.1496955 | -0.6235249 | -1.18713183 | -0.2447150 | 1 |\n",
       "\n"
      ],
      "text/plain": [
       "  T0          T20        T1H        T4H         T24H       cluster\n",
       "1 -1.68338559  0.1716470  1.0026206  0.28539359  0.2237243 2      \n",
       "2  1.37731483 -0.3363436  0.6523636 -0.59112163 -1.1022131 1      \n",
       "3  0.23743110 -1.6786684  0.6419825 -0.04430572  0.8435605 1      \n",
       "4 -0.09962227  0.5293336  1.3737283 -0.58822777 -1.2152119 1      \n",
       "5 -0.23548232  1.3026075 -1.4221815 -0.10719003  0.4622464 1      \n",
       "6  0.90567632  1.1496955 -0.6235249 -1.18713183 -0.2447150 1      "
      ]
     },
     "metadata": {},
     "output_type": "display_data"
    }
   ],
   "source": [
    "head(data_chic_CTCF_uniq)"
   ]
  },
  {
   "cell_type": "code",
   "execution_count": 22,
   "metadata": {},
   "outputs": [],
   "source": [
    "names(data_atacseq_CTCF_uniq) <- c(time0, 'Cluster')\n",
    "names(data_atacseq_other_uniq) <- c(time0, 'Cluster')\n",
    "names(data_atacseq_H3K27AC_uniq) <- c(time0, 'Cluster')\n",
    "names(data_atacseq_CTCFandH3K27AC_uniq) <- c(time0, 'Cluster')\n",
    "names(data_chic_CTCF_uniq) <- c(time1,'Cluster')\n",
    "names(data_chic_other_uniq) <- c(time1, 'Cluster')\n",
    "names(data_chic_H3K27AC_uniq) <- c(time1, 'Cluster')\n",
    "names(data_chic_CTCFandH3K27AC_uniq) <- c(time1,'Cluster')\n",
    "names(data_gene_CTCF_uniq) <- c(time0, 'Cluster')\n",
    "names(data_gene_other_uniq) <- c(time0, 'Cluster')\n",
    "names(data_gene_H3K27AC_uniq) <- c(time0, 'Cluster')\n",
    "names(data_gene_CTCFandH3K27AC_uniq) <- c(time0, 'Cluster')"
   ]
  },
  {
   "cell_type": "code",
   "execution_count": 23,
   "metadata": {},
   "outputs": [
    {
     "data": {
      "text/html": [
       "<table>\n",
       "<caption>A data.frame: 6 × 7</caption>\n",
       "<thead>\n",
       "\t<tr><th></th><th scope=col>T0</th><th scope=col>T20</th><th scope=col>T1H</th><th scope=col>T2H</th><th scope=col>T4H</th><th scope=col>T24H</th><th scope=col>Cluster</th></tr>\n",
       "\t<tr><th></th><th scope=col>&lt;dbl&gt;</th><th scope=col>&lt;dbl&gt;</th><th scope=col>&lt;dbl&gt;</th><th scope=col>&lt;dbl&gt;</th><th scope=col>&lt;dbl&gt;</th><th scope=col>&lt;dbl&gt;</th><th scope=col>&lt;int&gt;</th></tr>\n",
       "</thead>\n",
       "<tbody>\n",
       "\t<tr><th scope=row>1</th><td> 1.59246144</td><td> 0.3695085</td><td>-1.04120346</td><td>-0.2618096</td><td> 0.3625364</td><td>-1.021493</td><td>5</td></tr>\n",
       "\t<tr><th scope=row>2</th><td>-0.03621339</td><td> 0.6450562</td><td> 0.70956681</td><td> 0.2403146</td><td> 0.4052358</td><td>-1.963960</td><td>3</td></tr>\n",
       "\t<tr><th scope=row>3</th><td>-0.73242568</td><td>-0.3163020</td><td>-0.83972653</td><td>-0.4823133</td><td> 0.6306453</td><td> 1.740122</td><td>4</td></tr>\n",
       "\t<tr><th scope=row>5</th><td>-1.42050539</td><td>-0.8936428</td><td> 0.02740562</td><td> 0.2472307</td><td> 0.8750349</td><td> 1.164477</td><td>0</td></tr>\n",
       "\t<tr><th scope=row>7</th><td>-0.22583322</td><td> 0.5003961</td><td> 1.28315245</td><td> 0.5954899</td><td>-0.6410752</td><td>-1.512130</td><td>3</td></tr>\n",
       "\t<tr><th scope=row>9</th><td>-1.15585945</td><td>-1.0898583</td><td> 0.76284521</td><td> 0.4895003</td><td>-0.2653048</td><td> 1.258677</td><td>0</td></tr>\n",
       "</tbody>\n",
       "</table>\n"
      ],
      "text/latex": [
       "A data.frame: 6 × 7\n",
       "\\begin{tabular}{r|lllllll}\n",
       "  & T0 & T20 & T1H & T2H & T4H & T24H & Cluster\\\\\n",
       "  & <dbl> & <dbl> & <dbl> & <dbl> & <dbl> & <dbl> & <int>\\\\\n",
       "\\hline\n",
       "\t1 &  1.59246144 &  0.3695085 & -1.04120346 & -0.2618096 &  0.3625364 & -1.021493 & 5\\\\\n",
       "\t2 & -0.03621339 &  0.6450562 &  0.70956681 &  0.2403146 &  0.4052358 & -1.963960 & 3\\\\\n",
       "\t3 & -0.73242568 & -0.3163020 & -0.83972653 & -0.4823133 &  0.6306453 &  1.740122 & 4\\\\\n",
       "\t5 & -1.42050539 & -0.8936428 &  0.02740562 &  0.2472307 &  0.8750349 &  1.164477 & 0\\\\\n",
       "\t7 & -0.22583322 &  0.5003961 &  1.28315245 &  0.5954899 & -0.6410752 & -1.512130 & 3\\\\\n",
       "\t9 & -1.15585945 & -1.0898583 &  0.76284521 &  0.4895003 & -0.2653048 &  1.258677 & 0\\\\\n",
       "\\end{tabular}\n"
      ],
      "text/markdown": [
       "\n",
       "A data.frame: 6 × 7\n",
       "\n",
       "| <!--/--> | T0 &lt;dbl&gt; | T20 &lt;dbl&gt; | T1H &lt;dbl&gt; | T2H &lt;dbl&gt; | T4H &lt;dbl&gt; | T24H &lt;dbl&gt; | Cluster &lt;int&gt; |\n",
       "|---|---|---|---|---|---|---|---|\n",
       "| 1 |  1.59246144 |  0.3695085 | -1.04120346 | -0.2618096 |  0.3625364 | -1.021493 | 5 |\n",
       "| 2 | -0.03621339 |  0.6450562 |  0.70956681 |  0.2403146 |  0.4052358 | -1.963960 | 3 |\n",
       "| 3 | -0.73242568 | -0.3163020 | -0.83972653 | -0.4823133 |  0.6306453 |  1.740122 | 4 |\n",
       "| 5 | -1.42050539 | -0.8936428 |  0.02740562 |  0.2472307 |  0.8750349 |  1.164477 | 0 |\n",
       "| 7 | -0.22583322 |  0.5003961 |  1.28315245 |  0.5954899 | -0.6410752 | -1.512130 | 3 |\n",
       "| 9 | -1.15585945 | -1.0898583 |  0.76284521 |  0.4895003 | -0.2653048 |  1.258677 | 0 |\n",
       "\n"
      ],
      "text/plain": [
       "  T0          T20        T1H         T2H        T4H        T24H      Cluster\n",
       "1  1.59246144  0.3695085 -1.04120346 -0.2618096  0.3625364 -1.021493 5      \n",
       "2 -0.03621339  0.6450562  0.70956681  0.2403146  0.4052358 -1.963960 3      \n",
       "3 -0.73242568 -0.3163020 -0.83972653 -0.4823133  0.6306453  1.740122 4      \n",
       "5 -1.42050539 -0.8936428  0.02740562  0.2472307  0.8750349  1.164477 0      \n",
       "7 -0.22583322  0.5003961  1.28315245  0.5954899 -0.6410752 -1.512130 3      \n",
       "9 -1.15585945 -1.0898583  0.76284521  0.4895003 -0.2653048  1.258677 0      "
      ]
     },
     "metadata": {},
     "output_type": "display_data"
    }
   ],
   "source": [
    "head(data_atacseq_other_uniq)"
   ]
  },
  {
   "cell_type": "code",
   "execution_count": 24,
   "metadata": {},
   "outputs": [],
   "source": [
    "data_atacseq_CTCF_uniq$label <- 1:dim(data_atacseq_CTCF_uniq)[1]\n",
    "data_atacseq_other_uniq$label <- 1:dim(data_atacseq_other_uniq)[1]\n",
    "data_atacseq_H3K27AC_uniq$label <- 1:dim(data_atacseq_H3K27AC_uniq)[1]\n",
    "data_atacseq_CTCFandH3K27AC_uniq$label <- 1:dim(data_atacseq_CTCFandH3K27AC_uniq)[1]\n",
    "data_chic_CTCF_uniq$label <- 1:dim(data_chic_CTCF_uniq)[1]\n",
    "data_chic_other_uniq$label <- 1:dim(data_chic_other_uniq)[1]\n",
    "data_chic_H3K27AC_uniq$label <- 1:dim(data_chic_H3K27AC_uniq)[1]\n",
    "data_chic_CTCFandH3K27AC_uniq$label <- 1:dim(data_chic_CTCFandH3K27AC_uniq)[1]\n",
    "data_gene_CTCF_uniq$label <- 1:dim(data_gene_CTCF_uniq)[1]\n",
    "data_gene_other_uniq$label <- 1:dim(data_gene_other_uniq)[1]\n",
    "data_gene_H3K27AC_uniq$label <- 1:dim(data_gene_H3K27AC_uniq)[1]\n",
    "data_gene_CTCFandH3K27AC_uniq$label <- 1:dim(data_gene_CTCFandH3K27AC_uniq)[1]\n"
   ]
  },
  {
   "cell_type": "code",
   "execution_count": 25,
   "metadata": {},
   "outputs": [],
   "source": [
    "kmeans_cluster <- function(tmp_data, CLUSTER_SIZE=4){\n",
    "set.seed(5)\n",
    "cluster_results <- kmeans(tmp_data,centers=CLUSTER_SIZE,iter.max = 100)\n",
    "\n",
    "cluster_ranked <- dense_rank(cluster_results$cluster)\n",
    "return(cluster_ranked)\n",
    "}\n"
   ]
  },
  {
   "cell_type": "code",
   "execution_count": 26,
   "metadata": {},
   "outputs": [],
   "source": [
    "data_atacseq_CTCF_uniq$OwnCluster <- kmeans_cluster(data_atacseq_CTCF_uniq[,time0])\n",
    "data_atacseq_other_uniq$OwnCluster <- kmeans_cluster(data_atacseq_other_uniq[,time0])\n",
    "data_atacseq_H3K27AC_uniq$OwnCluster <- kmeans_cluster(data_atacseq_H3K27AC_uniq[,time0])\n",
    "data_atacseq_CTCFandH3K27AC_uniq$OwnCluster <- kmeans_cluster(data_atacseq_CTCFandH3K27AC_uniq[,time0])"
   ]
  },
  {
   "cell_type": "code",
   "execution_count": 27,
   "metadata": {},
   "outputs": [],
   "source": [
    "\n",
    "data_chic_CTCF_uniq$OwnCluster <- kmeans_cluster(data_chic_CTCF_uniq[,time1])\n",
    "data_chic_other_uniq$OwnCluster <- kmeans_cluster(data_chic_other_uniq[,time1])\n",
    "data_chic_H3K27AC_uniq$OwnCluster <- kmeans_cluster(data_chic_H3K27AC_uniq[,time1])\n",
    "data_chic_CTCFandH3K27AC_uniq$OwnCluster <- kmeans_cluster(data_chic_CTCFandH3K27AC_uniq[,time1])\n"
   ]
  },
  {
   "cell_type": "code",
   "execution_count": 28,
   "metadata": {},
   "outputs": [],
   "source": [
    "data_gene_CTCF_uniq$OwnCluster <- kmeans_cluster(data_gene_CTCF_uniq[,time0])\n",
    "data_gene_other_uniq$OwnCluster <- kmeans_cluster(data_gene_other_uniq[,time0])\n",
    "data_gene_H3K27AC_uniq$OwnCluster <- kmeans_cluster(data_gene_H3K27AC_uniq[,time0])\n",
    "data_gene_CTCFandH3K27AC_uniq$OwnCluster <- kmeans_cluster(data_gene_CTCFandH3K27AC_uniq[,time0])"
   ]
  },
  {
   "cell_type": "code",
   "execution_count": 29,
   "metadata": {},
   "outputs": [
    {
     "data": {
      "text/html": [
       "<table>\n",
       "<caption>A data.frame: 6 × 8</caption>\n",
       "<thead>\n",
       "\t<tr><th></th><th scope=col>T0</th><th scope=col>T20</th><th scope=col>T1H</th><th scope=col>T4H</th><th scope=col>T24H</th><th scope=col>Cluster</th><th scope=col>label</th><th scope=col>OwnCluster</th></tr>\n",
       "\t<tr><th></th><th scope=col>&lt;dbl&gt;</th><th scope=col>&lt;dbl&gt;</th><th scope=col>&lt;dbl&gt;</th><th scope=col>&lt;dbl&gt;</th><th scope=col>&lt;dbl&gt;</th><th scope=col>&lt;int&gt;</th><th scope=col>&lt;int&gt;</th><th scope=col>&lt;int&gt;</th></tr>\n",
       "</thead>\n",
       "<tbody>\n",
       "\t<tr><th scope=row>1</th><td>-1.68338559</td><td> 0.1716470</td><td> 1.0026206</td><td> 0.28539359</td><td> 0.2237243</td><td>2</td><td>1</td><td>1</td></tr>\n",
       "\t<tr><th scope=row>2</th><td> 1.37731483</td><td>-0.3363436</td><td> 0.6523636</td><td>-0.59112163</td><td>-1.1022131</td><td>1</td><td>2</td><td>3</td></tr>\n",
       "\t<tr><th scope=row>3</th><td> 0.23743110</td><td>-1.6786684</td><td> 0.6419825</td><td>-0.04430572</td><td> 0.8435605</td><td>1</td><td>3</td><td>2</td></tr>\n",
       "\t<tr><th scope=row>4</th><td>-0.09962227</td><td> 0.5293336</td><td> 1.3737283</td><td>-0.58822777</td><td>-1.2152119</td><td>1</td><td>4</td><td>4</td></tr>\n",
       "\t<tr><th scope=row>5</th><td>-0.23548232</td><td> 1.3026075</td><td>-1.4221815</td><td>-0.10719003</td><td> 0.4622464</td><td>1</td><td>5</td><td>1</td></tr>\n",
       "\t<tr><th scope=row>6</th><td> 0.90567632</td><td> 1.1496955</td><td>-0.6235249</td><td>-1.18713183</td><td>-0.2447150</td><td>1</td><td>6</td><td>3</td></tr>\n",
       "</tbody>\n",
       "</table>\n"
      ],
      "text/latex": [
       "A data.frame: 6 × 8\n",
       "\\begin{tabular}{r|llllllll}\n",
       "  & T0 & T20 & T1H & T4H & T24H & Cluster & label & OwnCluster\\\\\n",
       "  & <dbl> & <dbl> & <dbl> & <dbl> & <dbl> & <int> & <int> & <int>\\\\\n",
       "\\hline\n",
       "\t1 & -1.68338559 &  0.1716470 &  1.0026206 &  0.28539359 &  0.2237243 & 2 & 1 & 1\\\\\n",
       "\t2 &  1.37731483 & -0.3363436 &  0.6523636 & -0.59112163 & -1.1022131 & 1 & 2 & 3\\\\\n",
       "\t3 &  0.23743110 & -1.6786684 &  0.6419825 & -0.04430572 &  0.8435605 & 1 & 3 & 2\\\\\n",
       "\t4 & -0.09962227 &  0.5293336 &  1.3737283 & -0.58822777 & -1.2152119 & 1 & 4 & 4\\\\\n",
       "\t5 & -0.23548232 &  1.3026075 & -1.4221815 & -0.10719003 &  0.4622464 & 1 & 5 & 1\\\\\n",
       "\t6 &  0.90567632 &  1.1496955 & -0.6235249 & -1.18713183 & -0.2447150 & 1 & 6 & 3\\\\\n",
       "\\end{tabular}\n"
      ],
      "text/markdown": [
       "\n",
       "A data.frame: 6 × 8\n",
       "\n",
       "| <!--/--> | T0 &lt;dbl&gt; | T20 &lt;dbl&gt; | T1H &lt;dbl&gt; | T4H &lt;dbl&gt; | T24H &lt;dbl&gt; | Cluster &lt;int&gt; | label &lt;int&gt; | OwnCluster &lt;int&gt; |\n",
       "|---|---|---|---|---|---|---|---|---|\n",
       "| 1 | -1.68338559 |  0.1716470 |  1.0026206 |  0.28539359 |  0.2237243 | 2 | 1 | 1 |\n",
       "| 2 |  1.37731483 | -0.3363436 |  0.6523636 | -0.59112163 | -1.1022131 | 1 | 2 | 3 |\n",
       "| 3 |  0.23743110 | -1.6786684 |  0.6419825 | -0.04430572 |  0.8435605 | 1 | 3 | 2 |\n",
       "| 4 | -0.09962227 |  0.5293336 |  1.3737283 | -0.58822777 | -1.2152119 | 1 | 4 | 4 |\n",
       "| 5 | -0.23548232 |  1.3026075 | -1.4221815 | -0.10719003 |  0.4622464 | 1 | 5 | 1 |\n",
       "| 6 |  0.90567632 |  1.1496955 | -0.6235249 | -1.18713183 | -0.2447150 | 1 | 6 | 3 |\n",
       "\n"
      ],
      "text/plain": [
       "  T0          T20        T1H        T4H         T24H       Cluster label\n",
       "1 -1.68338559  0.1716470  1.0026206  0.28539359  0.2237243 2       1    \n",
       "2  1.37731483 -0.3363436  0.6523636 -0.59112163 -1.1022131 1       2    \n",
       "3  0.23743110 -1.6786684  0.6419825 -0.04430572  0.8435605 1       3    \n",
       "4 -0.09962227  0.5293336  1.3737283 -0.58822777 -1.2152119 1       4    \n",
       "5 -0.23548232  1.3026075 -1.4221815 -0.10719003  0.4622464 1       5    \n",
       "6  0.90567632  1.1496955 -0.6235249 -1.18713183 -0.2447150 1       6    \n",
       "  OwnCluster\n",
       "1 1         \n",
       "2 3         \n",
       "3 2         \n",
       "4 4         \n",
       "5 1         \n",
       "6 3         "
      ]
     },
     "metadata": {},
     "output_type": "display_data"
    }
   ],
   "source": [
    "head(data_chic_CTCF_uniq)"
   ]
  },
  {
   "cell_type": "code",
   "execution_count": 30,
   "metadata": {},
   "outputs": [
    {
     "data": {
      "text/plain": [
       "\n",
       "  1   2   3   4 \n",
       "111 201 109 106 "
      ]
     },
     "metadata": {},
     "output_type": "display_data"
    }
   ],
   "source": [
    "table(data_chic_CTCF_uniq$OwnCluster)"
   ]
  },
  {
   "cell_type": "code",
   "execution_count": 31,
   "metadata": {
    "scrolled": true
   },
   "outputs": [],
   "source": [
    "sign_data_atacseq_CTCF_uniq <- data_atacseq_CTCF_uniq[FALSE,]\n",
    "sign_data_atacseq_other_uniq <- data_atacseq_other_uniq[FALSE,]\n",
    "sign_data_atacseq_H3K27AC_uniq <- data_atacseq_H3K27AC_uniq[FALSE,]\n",
    "sign_data_atacseq_CTCFandH3K27AC_uniq <- data_atacseq_CTCFandH3K27AC_uniq[FALSE,]\n",
    "\n",
    "sign_data_atacseq_CTCF_uniq <- sign(data_atacseq_CTCF_uniq[,time0])\n",
    "sign_data_atacseq_CTCF_uniq$Cluster <- data_atacseq_CTCF_uniq$Cluster\n",
    "sign_data_atacseq_other_uniq <- sign(data_atacseq_other_uniq[,time0])\n",
    "sign_data_atacseq_other_uniq$Cluster <- data_atacseq_other_uniq$Cluster\n",
    "sign_data_atacseq_H3K27AC_uniq <- sign(data_atacseq_H3K27AC_uniq[,time0])\n",
    "sign_data_atacseq_H3K27AC_uniq$Cluster <- data_atacseq_H3K27AC_uniq$Cluster\n",
    "sign_data_atacseq_CTCFandH3K27AC_uniq <- sign(data_atacseq_CTCFandH3K27AC_uniq[,time0])\n",
    "sign_data_atacseq_CTCFandH3K27AC_uniq$Cluster <- data_atacseq_CTCFandH3K27AC_uniq$Cluster\n"
   ]
  },
  {
   "cell_type": "code",
   "execution_count": 32,
   "metadata": {
    "scrolled": true
   },
   "outputs": [],
   "source": [
    "sign_data_chic_CTCF_uniq <- data_chic_CTCF_uniq[FALSE,]\n",
    "sign_data_chic_other_uniq <- data_chic_other_uniq[FALSE,]\n",
    "sign_data_chic_H3K27AC_uniq <- data_chic_H3K27AC_uniq[FALSE,]\n",
    "sign_data_chic_CTCFandH3K27AC_uniq <- data_chic_CTCFandH3K27AC_uniq[FALSE,]\n",
    "\n",
    "sign_data_chic_CTCF_uniq <- sign(data_chic_CTCF_uniq[,time1])\n",
    "sign_data_chic_CTCF_uniq$Cluster <- data_chic_CTCF_uniq$Cluster\n",
    "sign_data_chic_other_uniq <- sign(data_chic_other_uniq[,time1])\n",
    "sign_data_chic_other_uniq$Cluster <- data_chic_other_uniq$Cluster\n",
    "sign_data_chic_H3K27AC_uniq <- sign(data_chic_H3K27AC_uniq[,time1])\n",
    "sign_data_chic_H3K27AC_uniq$Cluster <- data_chic_H3K27AC_uniq$Cluster\n",
    "sign_data_chic_CTCFandH3K27AC_uniq <- sign(data_chic_CTCFandH3K27AC_uniq[,time1])\n",
    "sign_data_chic_CTCFandH3K27AC_uniq$Cluster <- data_chic_CTCFandH3K27AC_uniq$Cluster\n"
   ]
  },
  {
   "cell_type": "code",
   "execution_count": 33,
   "metadata": {
    "scrolled": true
   },
   "outputs": [],
   "source": [
    "sign_data_gene_CTCF_uniq <- data_gene_CTCF_uniq[FALSE,]\n",
    "sign_data_gene_other_uniq <- data_gene_other_uniq[FALSE,]\n",
    "sign_data_gene_H3K27AC_uniq <- data_gene_H3K27AC_uniq[FALSE,]\n",
    "sign_data_gene_CTCFandH3K27AC_uniq <- data_gene_CTCFandH3K27AC_uniq[FALSE,]\n",
    "\n",
    "sign_data_gene_CTCF_uniq <- sign(data_gene_CTCF_uniq[,time0])\n",
    "sign_data_gene_CTCF_uniq$Cluster <- data_gene_CTCF_uniq$Cluster\n",
    "sign_data_gene_other_uniq <- sign(data_gene_other_uniq[,time0])\n",
    "sign_data_gene_other_uniq$Cluster <- data_gene_other_uniq$Cluster\n",
    "sign_data_gene_H3K27AC_uniq <- sign(data_gene_H3K27AC_uniq[,time0])\n",
    "sign_data_gene_H3K27AC_uniq$Cluster <- data_gene_H3K27AC_uniq$Cluster\n",
    "sign_data_gene_CTCFandH3K27AC_uniq <- sign(data_gene_CTCFandH3K27AC_uniq[,time0])\n",
    "sign_data_gene_CTCFandH3K27AC_uniq$Cluster <- data_gene_CTCFandH3K27AC_uniq$Cluster"
   ]
  },
  {
   "cell_type": "code",
   "execution_count": 34,
   "metadata": {},
   "outputs": [
    {
     "data": {
      "text/html": [
       "<table>\n",
       "<caption>A data.frame: 6 × 7</caption>\n",
       "<thead>\n",
       "\t<tr><th></th><th scope=col>T0</th><th scope=col>T20</th><th scope=col>T1H</th><th scope=col>T2H</th><th scope=col>T4H</th><th scope=col>T24H</th><th scope=col>Cluster</th></tr>\n",
       "\t<tr><th></th><th scope=col>&lt;dbl&gt;</th><th scope=col>&lt;dbl&gt;</th><th scope=col>&lt;dbl&gt;</th><th scope=col>&lt;dbl&gt;</th><th scope=col>&lt;dbl&gt;</th><th scope=col>&lt;dbl&gt;</th><th scope=col>&lt;int&gt;</th></tr>\n",
       "</thead>\n",
       "<tbody>\n",
       "\t<tr><th scope=row>1</th><td>-1</td><td> 1</td><td>-1</td><td>-1</td><td>-1</td><td> 1</td><td>2</td></tr>\n",
       "\t<tr><th scope=row>2</th><td> 1</td><td>-1</td><td>-1</td><td> 1</td><td> 1</td><td>-1</td><td>1</td></tr>\n",
       "\t<tr><th scope=row>6</th><td>-1</td><td>-1</td><td> 1</td><td> 1</td><td> 1</td><td>-1</td><td>1</td></tr>\n",
       "\t<tr><th scope=row>7</th><td>-1</td><td> 1</td><td> 1</td><td> 1</td><td>-1</td><td>-1</td><td>3</td></tr>\n",
       "\t<tr><th scope=row>8</th><td> 1</td><td> 1</td><td> 1</td><td> 1</td><td>-1</td><td>-1</td><td>3</td></tr>\n",
       "\t<tr><th scope=row>9</th><td> 1</td><td> 1</td><td> 1</td><td>-1</td><td>-1</td><td>-1</td><td>3</td></tr>\n",
       "</tbody>\n",
       "</table>\n"
      ],
      "text/latex": [
       "A data.frame: 6 × 7\n",
       "\\begin{tabular}{r|lllllll}\n",
       "  & T0 & T20 & T1H & T2H & T4H & T24H & Cluster\\\\\n",
       "  & <dbl> & <dbl> & <dbl> & <dbl> & <dbl> & <dbl> & <int>\\\\\n",
       "\\hline\n",
       "\t1 & -1 &  1 & -1 & -1 & -1 &  1 & 2\\\\\n",
       "\t2 &  1 & -1 & -1 &  1 &  1 & -1 & 1\\\\\n",
       "\t6 & -1 & -1 &  1 &  1 &  1 & -1 & 1\\\\\n",
       "\t7 & -1 &  1 &  1 &  1 & -1 & -1 & 3\\\\\n",
       "\t8 &  1 &  1 &  1 &  1 & -1 & -1 & 3\\\\\n",
       "\t9 &  1 &  1 &  1 & -1 & -1 & -1 & 3\\\\\n",
       "\\end{tabular}\n"
      ],
      "text/markdown": [
       "\n",
       "A data.frame: 6 × 7\n",
       "\n",
       "| <!--/--> | T0 &lt;dbl&gt; | T20 &lt;dbl&gt; | T1H &lt;dbl&gt; | T2H &lt;dbl&gt; | T4H &lt;dbl&gt; | T24H &lt;dbl&gt; | Cluster &lt;int&gt; |\n",
       "|---|---|---|---|---|---|---|---|\n",
       "| 1 | -1 |  1 | -1 | -1 | -1 |  1 | 2 |\n",
       "| 2 |  1 | -1 | -1 |  1 |  1 | -1 | 1 |\n",
       "| 6 | -1 | -1 |  1 |  1 |  1 | -1 | 1 |\n",
       "| 7 | -1 |  1 |  1 |  1 | -1 | -1 | 3 |\n",
       "| 8 |  1 |  1 |  1 |  1 | -1 | -1 | 3 |\n",
       "| 9 |  1 |  1 |  1 | -1 | -1 | -1 | 3 |\n",
       "\n"
      ],
      "text/plain": [
       "  T0 T20 T1H T2H T4H T24H Cluster\n",
       "1 -1  1  -1  -1  -1   1   2      \n",
       "2  1 -1  -1   1   1  -1   1      \n",
       "6 -1 -1   1   1   1  -1   1      \n",
       "7 -1  1   1   1  -1  -1   3      \n",
       "8  1  1   1   1  -1  -1   3      \n",
       "9  1  1   1  -1  -1  -1   3      "
      ]
     },
     "metadata": {},
     "output_type": "display_data"
    }
   ],
   "source": [
    "head(sign_data_atacseq_CTCF_uniq)"
   ]
  },
  {
   "cell_type": "code",
   "execution_count": 35,
   "metadata": {},
   "outputs": [],
   "source": [
    "sorted_atacseq_CTCF <- sign_data_atacseq_CTCF_uniq[with(sign_data_atacseq_CTCF_uniq, order(T0,T20,T1H,T4H,T24H,T2H)), ]\n",
    "sorted_atacseq_CTCF$label <- 1:dim(sorted_atacseq_CTCF)[1]\n",
    "sorted_atacseq_other <- sign_data_atacseq_other_uniq[with(sign_data_atacseq_other_uniq, order(T0,T20,T1H,T4H,T24H,T2H)), ]\n",
    "sorted_atacseq_other$label <- 1:dim(sorted_atacseq_other)[1]\n",
    "sorted_atacseq_H3K27AC <- sign_data_atacseq_H3K27AC_uniq[with(sign_data_atacseq_H3K27AC_uniq, order(T0,T20,T1H,T4H,T24H,T2H)), ]\n",
    "sorted_atacseq_H3K27AC$label <- 1:dim(sorted_atacseq_H3K27AC)[1]\n",
    "sorted_atacseq_CTCFandH3K27AC <- sign_data_atacseq_CTCFandH3K27AC_uniq[with(sign_data_atacseq_CTCFandH3K27AC_uniq, \n",
    "                                                                            order(T0,T20,T1H,T4H,T24H,T2H)), ]\n",
    "sorted_atacseq_CTCFandH3K27AC$label <- 1:dim(sorted_atacseq_CTCFandH3K27AC)[1]\n",
    "\n",
    "sorted_chic_CTCF <- sign_data_chic_CTCF_uniq[with(sign_data_chic_CTCF_uniq, order(T0,T20,T1H,T4H,T24H)), ]\n",
    "sorted_chic_CTCF$label <- 1:dim(sorted_chic_CTCF)[1]\n",
    "sorted_chic_other <- sign_data_chic_other_uniq[with(sign_data_chic_other_uniq, order(T0,T20,T1H,T4H,T24H)), ]\n",
    "sorted_chic_other$label <- 1:dim(sorted_chic_other)[1]\n",
    "sorted_chic_H3K27AC <- sign_data_chic_H3K27AC_uniq[with(sign_data_chic_H3K27AC_uniq, order(T0,T20,T1H,T4H,T24H)), ]\n",
    "sorted_chic_H3K27AC$label <- 1:dim(sorted_chic_H3K27AC)[1]\n",
    "sorted_chic_CTCFandH3K27AC <- sign_data_chic_CTCFandH3K27AC_uniq[with(sign_data_chic_CTCFandH3K27AC_uniq, \n",
    "                                                                      order(T0,T20,T1H,T4H,T24H)), ]\n",
    "sorted_chic_CTCFandH3K27AC$label <- 1:dim(sorted_chic_CTCFandH3K27AC)[1]\n",
    "\n",
    "sorted_gene_CTCF <- sign_data_gene_CTCF_uniq[with(sign_data_gene_CTCF_uniq, order(T0,T20,T1H,T4H,T24H,T2H)), ]\n",
    "sorted_gene_CTCF$label <- 1:dim(sorted_gene_CTCF)[1]\n",
    "sorted_gene_other <- sign_data_gene_other_uniq[with(sign_data_gene_other_uniq, order(T0,T20,T1H,T4H,T24H,T2H)), ]\n",
    "sorted_gene_other$label <- 1:dim(sorted_gene_other)[1]\n",
    "sorted_gene_H3K27AC <- sign_data_gene_H3K27AC_uniq[with(sign_data_gene_H3K27AC_uniq, order(T0,T20,T1H,T4H,T24H,T2H)), ]\n",
    "sorted_gene_H3K27AC$label <- 1:dim(sorted_gene_H3K27AC)[1]\n",
    "sorted_gene_CTCFandH3K27AC <- sign_data_gene_CTCFandH3K27AC_uniq[with(sign_data_gene_CTCFandH3K27AC_uniq, \n",
    "                                                                      order(T0,T20,T1H,T4H,T24H,T2H)), ]\n",
    "sorted_gene_CTCFandH3K27AC$label <- 1:dim(sorted_gene_CTCFandH3K27AC)[1]"
   ]
  },
  {
   "cell_type": "code",
   "execution_count": 36,
   "metadata": {},
   "outputs": [],
   "source": [
    "melted_atacseq_CTCF <- gather(data_atacseq_CTCF_uniq, 'time','value',-label,-Cluster)\n"
   ]
  },
  {
   "cell_type": "code",
   "execution_count": 37,
   "metadata": {
    "scrolled": true
   },
   "outputs": [],
   "source": [
    "idx_data1 <- c('T0', 'T20','T1H','T4H','T24H','label','OwnCluster')\n",
    "idx_data2 <- c('T0', 'T20','T1H','T4H','T24H','label','OwnCluster')\n"
   ]
  },
  {
   "cell_type": "code",
   "execution_count": 38,
   "metadata": {},
   "outputs": [],
   "source": [
    "melted_atacseq_CTCF <- gather(data_atacseq_CTCF_uniq, 'time','value',-label,-OwnCluster)\n",
    "melted_atacseq_other <- gather(data_atacseq_other_uniq[,idx_data1], 'time','value',-label,-OwnCluster)\n",
    "melted_atacseq_H3K27AC <- gather(data_atacseq_H3K27AC_uniq[,idx_data1], 'time','value',-label,-OwnCluster)\n",
    "\n",
    "melted_atacseq_CTCFandH3K27AC <- gather(data_atacseq_CTCFandH3K27AC_uniq[,idx_data1], 'time','value',-label,-OwnCluster)\n",
    "melted_atacseq_CTCF$category <- 'ATAC-seq'\n",
    "melted_atacseq_CTCF$type <- 'CTCF'\n",
    "melted_atacseq_other$category <- 'ATAC-seq'\n",
    "melted_atacseq_other$type <- 'Other'\n",
    "melted_atacseq_H3K27AC$category <- 'ATAC-seq'\n",
    "melted_atacseq_H3K27AC$type <- 'H3K27AC'\n",
    "melted_atacseq_CTCFandH3K27AC$category <- 'ATAC-seq'\n",
    "melted_atacseq_CTCFandH3K27AC$type <- 'CTCFandH3K27AC'\n",
    "#### chic\n",
    "melted_chic_CTCF <- gather(data_chic_CTCF_uniq[,idx_data2], 'time','value',-label,-OwnCluster)\n",
    "melted_chic_other <- gather(data_chic_other_uniq[,idx_data2], 'time','value',-label,-OwnCluster)\n",
    "melted_chic_H3K27AC <- gather(data_chic_H3K27AC_uniq[,idx_data2], 'time','value',-label,-OwnCluster)\n",
    "\n",
    "melted_chic_CTCFandH3K27AC <- gather(data_chic_CTCFandH3K27AC_uniq[,idx_data2], 'time','value',-label,-OwnCluster)\n",
    "melted_chic_CTCF$category <- 'CHi-C'\n",
    "melted_chic_CTCF$type <- 'CTCF'\n",
    "melted_chic_other$category <- 'CHi-C'\n",
    "melted_chic_other$type <- 'Other'\n",
    "melted_chic_H3K27AC$category <- 'CHi-C'\n",
    "melted_chic_H3K27AC$type <- 'H3K27AC'\n",
    "melted_chic_CTCFandH3K27AC$category <- 'CHi-C'\n",
    "melted_chic_CTCFandH3K27AC$type <- 'CTCFandH3K27AC'\n",
    "\n",
    "### gene\n",
    "melted_gene_CTCF <- gather(data_gene_CTCF_uniq[,idx_data1], 'time','value',-label,-OwnCluster)\n",
    "melted_gene_other <- gather(data_gene_other_uniq[,idx_data1], 'time','value',-label,-OwnCluster)\n",
    "melted_gene_H3K27AC <- gather(data_gene_H3K27AC_uniq[,idx_data1], 'time','value',-label,-OwnCluster)\n",
    "\n",
    "melted_gene_CTCFandH3K27AC <- gather(data_gene_CTCFandH3K27AC_uniq[,idx_data1], 'time','value',-label,-OwnCluster)\n",
    "melted_gene_CTCF$category <- 'Gene'\n",
    "melted_gene_CTCF$type <- 'CTCF'\n",
    "melted_gene_other$category <- 'Gene'\n",
    "melted_gene_other$type <- 'Other'\n",
    "melted_gene_H3K27AC$category <- 'Gene'\n",
    "melted_gene_H3K27AC$type <- 'H3K27AC'\n",
    "melted_gene_CTCFandH3K27AC$category <- 'Gene'\n",
    "melted_gene_CTCFandH3K27AC$type <- 'CTCFandH3K27AC'\n",
    "\n",
    "### combined melted data\n",
    "melted_CTCF <- rbind(melted_atacseq_CTCF, melted_chic_CTCF, melted_gene_CTCF)\n",
    "melted_other <- rbind(melted_atacseq_other, melted_chic_other, melted_gene_other)\n",
    "melted_H3K27AC <- rbind(melted_atacseq_H3K27AC, melted_chic_H3K27AC, melted_gene_H3K27AC)\n",
    "\n",
    "melted_CTCFandH3K27AC <- rbind(melted_atacseq_CTCFandH3K27AC, melted_chic_CTCFandH3K27AC, melted_gene_CTCFandH3K27AC)\n",
    "\n",
    "melted_all <- rbind(melted_CTCF, melted_other, melted_H3K27AC, melted_CTCFandH3K27AC)\n",
    "melted_all$time <- factor(melted_all$time, levels=c('T0','T20','T1H','T2H','T4H','T24H'))"
   ]
  },
  {
   "cell_type": "code",
   "execution_count": 39,
   "metadata": {},
   "outputs": [
    {
     "data": {
      "text/html": [
       "<table>\n",
       "<caption>A data.frame: 6 × 8</caption>\n",
       "<thead>\n",
       "\t<tr><th></th><th scope=col>T0</th><th scope=col>T20</th><th scope=col>T1H</th><th scope=col>T2H</th><th scope=col>T4H</th><th scope=col>T24H</th><th scope=col>Cluster</th><th scope=col>label</th></tr>\n",
       "\t<tr><th></th><th scope=col>&lt;dbl&gt;</th><th scope=col>&lt;dbl&gt;</th><th scope=col>&lt;dbl&gt;</th><th scope=col>&lt;dbl&gt;</th><th scope=col>&lt;dbl&gt;</th><th scope=col>&lt;dbl&gt;</th><th scope=col>&lt;int&gt;</th><th scope=col>&lt;int&gt;</th></tr>\n",
       "</thead>\n",
       "<tbody>\n",
       "\t<tr><th scope=row>228</th><td>-1</td><td>-1</td><td>-1</td><td>-1</td><td>-1</td><td> 1</td><td>4</td><td>1</td></tr>\n",
       "\t<tr><th scope=row>442</th><td>-1</td><td>-1</td><td>-1</td><td>-1</td><td>-1</td><td> 1</td><td>4</td><td>2</td></tr>\n",
       "\t<tr><th scope=row>46</th><td>-1</td><td>-1</td><td>-1</td><td> 1</td><td> 1</td><td>-1</td><td>1</td><td>3</td></tr>\n",
       "\t<tr><th scope=row>124</th><td>-1</td><td>-1</td><td>-1</td><td> 1</td><td> 1</td><td>-1</td><td>0</td><td>4</td></tr>\n",
       "\t<tr><th scope=row>452</th><td>-1</td><td>-1</td><td>-1</td><td> 1</td><td> 1</td><td>-1</td><td>0</td><td>5</td></tr>\n",
       "\t<tr><th scope=row>490</th><td>-1</td><td>-1</td><td>-1</td><td> 1</td><td> 1</td><td>-1</td><td>1</td><td>6</td></tr>\n",
       "</tbody>\n",
       "</table>\n"
      ],
      "text/latex": [
       "A data.frame: 6 × 8\n",
       "\\begin{tabular}{r|llllllll}\n",
       "  & T0 & T20 & T1H & T2H & T4H & T24H & Cluster & label\\\\\n",
       "  & <dbl> & <dbl> & <dbl> & <dbl> & <dbl> & <dbl> & <int> & <int>\\\\\n",
       "\\hline\n",
       "\t228 & -1 & -1 & -1 & -1 & -1 &  1 & 4 & 1\\\\\n",
       "\t442 & -1 & -1 & -1 & -1 & -1 &  1 & 4 & 2\\\\\n",
       "\t46 & -1 & -1 & -1 &  1 &  1 & -1 & 1 & 3\\\\\n",
       "\t124 & -1 & -1 & -1 &  1 &  1 & -1 & 0 & 4\\\\\n",
       "\t452 & -1 & -1 & -1 &  1 &  1 & -1 & 0 & 5\\\\\n",
       "\t490 & -1 & -1 & -1 &  1 &  1 & -1 & 1 & 6\\\\\n",
       "\\end{tabular}\n"
      ],
      "text/markdown": [
       "\n",
       "A data.frame: 6 × 8\n",
       "\n",
       "| <!--/--> | T0 &lt;dbl&gt; | T20 &lt;dbl&gt; | T1H &lt;dbl&gt; | T2H &lt;dbl&gt; | T4H &lt;dbl&gt; | T24H &lt;dbl&gt; | Cluster &lt;int&gt; | label &lt;int&gt; |\n",
       "|---|---|---|---|---|---|---|---|---|\n",
       "| 228 | -1 | -1 | -1 | -1 | -1 |  1 | 4 | 1 |\n",
       "| 442 | -1 | -1 | -1 | -1 | -1 |  1 | 4 | 2 |\n",
       "| 46 | -1 | -1 | -1 |  1 |  1 | -1 | 1 | 3 |\n",
       "| 124 | -1 | -1 | -1 |  1 |  1 | -1 | 0 | 4 |\n",
       "| 452 | -1 | -1 | -1 |  1 |  1 | -1 | 0 | 5 |\n",
       "| 490 | -1 | -1 | -1 |  1 |  1 | -1 | 1 | 6 |\n",
       "\n"
      ],
      "text/plain": [
       "    T0 T20 T1H T2H T4H T24H Cluster label\n",
       "228 -1 -1  -1  -1  -1   1   4       1    \n",
       "442 -1 -1  -1  -1  -1   1   4       2    \n",
       "46  -1 -1  -1   1   1  -1   1       3    \n",
       "124 -1 -1  -1   1   1  -1   0       4    \n",
       "452 -1 -1  -1   1   1  -1   0       5    \n",
       "490 -1 -1  -1   1   1  -1   1       6    "
      ]
     },
     "metadata": {},
     "output_type": "display_data"
    }
   ],
   "source": [
    "head(sorted_atacseq_CTCF)"
   ]
  },
  {
   "cell_type": "code",
   "execution_count": 40,
   "metadata": {},
   "outputs": [],
   "source": [
    "sign_idx_data2 <- c('T0', 'T20','T1H','T4H','T24H','label','Cluster')\n"
   ]
  },
  {
   "cell_type": "code",
   "execution_count": 41,
   "metadata": {},
   "outputs": [],
   "source": [
    "sign_melted_atacseq_CTCF <- gather(sorted_atacseq_CTCF[,sign_idx_data2], 'time','value',-label,-Cluster)\n",
    "sign_melted_atacseq_other <- gather(sorted_atacseq_other[,sign_idx_data2], 'time','value',-label,-Cluster)\n",
    "sign_melted_atacseq_H3K27AC <- gather(sorted_atacseq_H3K27AC[,sign_idx_data2], 'time','value',-label,-Cluster)\n",
    "\n",
    "sign_melted_atacseq_CTCFandH3K27AC <- gather(sorted_atacseq_CTCFandH3K27AC[,sign_idx_data2], 'time','value',-label,-Cluster)\n",
    "sign_melted_atacseq_CTCF$category <- 'ATAC-seq'\n",
    "sign_melted_atacseq_CTCF$type <- 'CTCF'\n",
    "sign_melted_atacseq_other$category <- 'ATAC-seq'\n",
    "sign_melted_atacseq_other$type <- 'Other'\n",
    "sign_melted_atacseq_H3K27AC$category <- 'ATAC-seq'\n",
    "sign_melted_atacseq_H3K27AC$type <- 'H3K27AC'\n",
    "sign_melted_atacseq_CTCFandH3K27AC$category <- 'ATAC-seq'\n",
    "sign_melted_atacseq_CTCFandH3K27AC$type <- 'CTCFandH3K27AC'\n",
    "#### chic\n",
    "sign_melted_chic_CTCF <- gather(sorted_chic_CTCF, 'time','value',-label,-Cluster)\n",
    "sign_melted_chic_other <- gather(sorted_chic_other, 'time','value',-label,-Cluster)\n",
    "sign_melted_chic_H3K27AC <- gather(sorted_chic_H3K27AC, 'time','value',-label,-Cluster)\n",
    "\n",
    "sign_melted_chic_CTCFandH3K27AC <- gather(sorted_chic_CTCFandH3K27AC, 'time','value',-label,-Cluster)\n",
    "sign_melted_chic_CTCF$category <- 'CHi-C'\n",
    "sign_melted_chic_CTCF$type <- 'CTCF'\n",
    "sign_melted_chic_other$category <- 'CHi-C'\n",
    "sign_melted_chic_other$type <- 'Other'\n",
    "sign_melted_chic_H3K27AC$category <- 'CHi-C'\n",
    "sign_melted_chic_H3K27AC$type <- 'H3K27AC'\n",
    "sign_melted_chic_CTCFandH3K27AC$category <- 'CHi-C'\n",
    "sign_melted_chic_CTCFandH3K27AC$type <- 'CTCFandH3K27AC'\n",
    "\n",
    "### gene\n",
    "sign_melted_gene_CTCF <- gather(sorted_gene_CTCF[,sign_idx_data2], 'time','value',-label,-Cluster)\n",
    "sign_melted_gene_other <- gather(sorted_gene_other[,sign_idx_data2], 'time','value',-label,-Cluster)\n",
    "sign_melted_gene_H3K27AC <- gather(sorted_gene_H3K27AC[,sign_idx_data2], 'time','value',-label,-Cluster)\n",
    "\n",
    "sign_melted_gene_CTCFandH3K27AC <- gather(sorted_gene_CTCFandH3K27AC[,sign_idx_data2], 'time','value',-label,-Cluster)\n",
    "sign_melted_gene_CTCF$category <- 'Gene'\n",
    "sign_melted_gene_CTCF$type <- 'CTCF'\n",
    "sign_melted_gene_other$category <- 'Gene'\n",
    "sign_melted_gene_other$type <- 'Other'\n",
    "sign_melted_gene_H3K27AC$category <- 'Gene'\n",
    "sign_melted_gene_H3K27AC$type <- 'H3K27AC'\n",
    "sign_melted_gene_CTCFandH3K27AC$category <- 'Gene'\n",
    "sign_melted_gene_CTCFandH3K27AC$type <- 'CTCFandH3K27AC'\n",
    "\n",
    "### combined sign_melted data\n",
    "sign_melted_CTCF <- rbind(sign_melted_atacseq_CTCF, sign_melted_chic_CTCF, sign_melted_gene_CTCF)\n",
    "sign_melted_other <- rbind(sign_melted_atacseq_other, sign_melted_chic_other, sign_melted_gene_other)\n",
    "sign_melted_H3K27AC <- rbind(sign_melted_atacseq_H3K27AC, sign_melted_chic_H3K27AC, sign_melted_gene_H3K27AC)\n",
    "\n",
    "sign_melted_CTCFandH3K27AC <- rbind(sign_melted_atacseq_CTCFandH3K27AC, sign_melted_chic_CTCFandH3K27AC, sign_melted_gene_CTCFandH3K27AC)\n",
    "\n",
    "sign_melted_all <- rbind(sign_melted_CTCF, sign_melted_other, sign_melted_H3K27AC, sign_melted_CTCFandH3K27AC)\n",
    "#sign_melted_all$time <- factor(sign_melted_all$time, levels=c('T0','T20','T1H','T2H','T4H','T24H'))\n",
    "sign_melted_all$time <- factor(sign_melted_all$time, levels=sign_idx_data2)\n"
   ]
  },
  {
   "cell_type": "code",
   "execution_count": 42,
   "metadata": {},
   "outputs": [
    {
     "data": {
      "text/plain": [
       "\n",
       "          CTCF CTCFandH3K27AC        H3K27AC          Other \n",
       "          5800            935           4520          16020 "
      ]
     },
     "metadata": {},
     "output_type": "display_data"
    }
   ],
   "source": [
    "table(sign_melted_all$type)"
   ]
  },
  {
   "cell_type": "code",
   "execution_count": 43,
   "metadata": {
    "scrolled": true
   },
   "outputs": [
    {
     "data": {
      "image/png": "[encoded data removed]",
      "text/plain": [
       "plot without title"
      ]
     },
     "metadata": {
      "image/png": {
       "height": 420,
       "width": 420
      }
     },
     "output_type": "display_data"
    }
   ],
   "source": [
    "sign_melted_all_CTCFandH3K27AC <- subset(sign_melted_all, sign_melted_all$type %in% c('CTCF','H3K27AC'))\n",
    "\n",
    "p_atac <- ggplot(data=subset(sign_melted_all_CTCFandH3K27AC, sign_melted_all_CTCFandH3K27AC$category %in% 'ATAC-seq'), aes(x=time, y=label, fill=factor(value), group=category)) + geom_tile(size=0.5) + \n",
    "xlab('Time') + ylab('ATAC-seq') + ggtitle('Supplementary Fig. 10a') + \n",
    "scale_fill_manual(values=c('-1'='lightskyblue','1'='red2')) +\n",
    "scale_x_discrete(breaks=c(\"T0\",\"T20\",\"T1H\",\"T4H\",\"T24H\"),\n",
    "        labels=c(\"0 min\", \"20 mins\", \"1 hrs\", \"4 hrs\", \"24 hrs\")) +\n",
    "geom_tile(size=0.2) + theme( panel.background=element_blank(), plot.title = element_text(hjust = 0.5, face='bold'), \n",
    "         axis.line=element_line(), strip.text=element_text(size=8, face='bold'),\n",
    "         axis.text.x=element_text(size=12, face='bold', angle=20),\n",
    "                            axis.text.y=element_text(size=12, face='bold'),\n",
    "                            axis.title=element_text(size=14,face=\"bold\"), \n",
    "                           strip.text.x=element_text(size=14, face='bold'), legend.title=element_blank(), legend.position='top') +\n",
    "facet_wrap(type~., nrow=1, scales='free_y')\n",
    "p_atac"
   ]
  },
  {
   "cell_type": "code",
   "execution_count": 44,
   "metadata": {},
   "outputs": [
    {
     "data": {
      "image/png": "[encoded data removed]",
      "text/plain": [
       "plot without title"
      ]
     },
     "metadata": {
      "image/png": {
       "height": 420,
       "width": 420
      }
     },
     "output_type": "display_data"
    }
   ],
   "source": [
    "p_chic <- ggplot(data=subset(sign_melted_all_CTCFandH3K27AC, sign_melted_all_CTCFandH3K27AC$category %in% 'CHi-C'), aes(x=time, y=label, fill=factor(value), group=category)) + geom_tile(size=0.5) + \n",
    "xlab('Time') + ylab('CHi-C') +  ggtitle('Supplementary Fig. 10b') +\n",
    "scale_fill_manual(values=c('-1'='lightskyblue','1'='red2')) +\n",
    "scale_x_discrete(breaks=c(\"T0\",\"T20\",\"T1H\",\"T4H\",\"T24H\"),\n",
    "        labels=c(\"0 min\", \"20 mins\", \"1 hrs\", \"4 hrs\", \"24 hrs\")) +\n",
    "geom_tile(size=0.2) + theme( panel.background=element_blank(), plot.title = element_text(hjust = 0.5, face='bold'), \n",
    "         axis.line=element_line(), strip.text=element_text(size=8, face='bold'),\n",
    "         axis.text.x=element_text(size=12, face='bold', angle=20),\n",
    "                            axis.text.y=element_text(size=12, face='bold'),\n",
    "                            axis.title=element_text(size=14,face=\"bold\"), \n",
    "                           strip.text.x=element_text(size=14, face='bold'), legend.title=element_blank(), legend.position='top') +\n",
    "facet_wrap(type~., nrow=1, scales='free_y')\n",
    "\n",
    "p_chic\n",
    "\n"
   ]
  },
  {
   "cell_type": "code",
   "execution_count": 45,
   "metadata": {},
   "outputs": [
    {
     "data": {
      "image/png": "[encoded data removed]",
      "text/plain": [
       "plot without title"
      ]
     },
     "metadata": {
      "image/png": {
       "height": 420,
       "width": 420
      }
     },
     "output_type": "display_data"
    }
   ],
   "source": [
    "p_gene <- ggplot(data=subset(sign_melted_all_CTCFandH3K27AC, sign_melted_all_CTCFandH3K27AC$category %in% 'Gene'), aes(x=time, y=label, fill=factor(value), group=category)) + geom_tile(size=0.5) + \n",
    "xlab('Time') + ylab('Gene') +  ggtitle('Supplementary Fig. 10c') +\n",
    "scale_fill_manual(values=c('-1'='lightskyblue','1'='red2')) +\n",
    "scale_x_discrete(breaks=c(\"T0\",\"T20\",\"T1H\",\"T4H\",\"T24H\"),\n",
    "        labels=c(\"0 min\", \"20 mins\", \"1 hrs\", \"4 hrs\", \"24 hrs\")) +\n",
    "geom_tile(size=0.2) + theme( panel.background=element_blank(), plot.title = element_text(hjust = 0.5, face='bold'), \n",
    "         axis.line=element_line(), strip.text=element_text(size=8, face='bold'),\n",
    "         axis.text.x=element_text(size=12, face='bold', angle=20),\n",
    "                            axis.text.y=element_text(size=12, face='bold'),\n",
    "                            axis.title=element_text(size=14,face=\"bold\"), \n",
    "                           strip.text.x=element_text(size=14, face='bold'), legend.title=element_blank(), legend.position='top') +\n",
    "facet_wrap(type~., nrow=1, scales='free_y')\n",
    "\n",
    "p_gene"
   ]
  }
 ],
 "metadata": {
  "kernelspec": {
   "display_name": "R",
   "language": "R",
   "name": "ir"
  },
  "language_info": {
   "codemirror_mode": "r",
   "file_extension": ".r",
   "mimetype": "text/x-r-source",
   "name": "R",
   "pygments_lexer": "r",
   "version": "3.6.3"
  }
 },
 "nbformat": 4,
 "nbformat_minor": 2
}
