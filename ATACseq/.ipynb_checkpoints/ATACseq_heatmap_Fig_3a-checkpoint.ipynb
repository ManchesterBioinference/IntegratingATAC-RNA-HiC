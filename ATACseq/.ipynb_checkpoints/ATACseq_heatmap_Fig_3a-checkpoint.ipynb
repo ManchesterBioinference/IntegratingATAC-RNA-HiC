{
 "cells": [
  {
   "cell_type": "markdown",
   "metadata": {},
   "source": [
    "## Jupyter notebook for presenting heatmap for ATAC-seq time course data\n",
    "This notebook is the code for generating heatmap (Fig. 3a) of the ATAC-seq time course data used in the paper **\"Simultaneous analysis of open chromatin, promoter interactions and gene expression in stimulated T cells implicates causal genes for rheumatoid arthritis\"** \n",
    "by *Jing Yang, Amanda McGovern, Paul Martin, Kate Duffus, Xiangyu Ge, Peyman Zarrineh, Andrew P Morris, Antony Adamson, Peter Fraser, Magnus Rattray & Stephen Eyre*.\n",
    "\n",
    "Author : *Jing Yang*  <br />\n",
    "Date: 24-10-2019 <br />\n",
    "For any questions about the code, please drop me a line at Jing.Yang@manchester.ac.uk"
   ]
  },
  {
   "cell_type": "code",
   "execution_count": 1,
   "metadata": {},
   "outputs": [],
   "source": [
    "library(ggplot2)\n",
    "library(reshape2)\n"
   ]
  },
  {
   "cell_type": "markdown",
   "metadata": {},
   "source": [
    "### read the data"
   ]
  },
  {
   "cell_type": "code",
   "execution_count": 2,
   "metadata": {},
   "outputs": [],
   "source": [
    "data <- read.table('data/ATACseq_withcluster.txt')"
   ]
  },
  {
   "cell_type": "code",
   "execution_count": 3,
   "metadata": {},
   "outputs": [
    {
     "data": {
      "text/html": [
       "<table>\n",
       "<caption>A data.frame: 6 × 7</caption>\n",
       "<thead>\n",
       "\t<tr><th></th><th scope=col>V1</th><th scope=col>V2</th><th scope=col>V3</th><th scope=col>V4</th><th scope=col>V5</th><th scope=col>V6</th><th scope=col>V7</th></tr>\n",
       "\t<tr><th></th><th scope=col>&lt;dbl&gt;</th><th scope=col>&lt;dbl&gt;</th><th scope=col>&lt;dbl&gt;</th><th scope=col>&lt;dbl&gt;</th><th scope=col>&lt;dbl&gt;</th><th scope=col>&lt;dbl&gt;</th><th scope=col>&lt;int&gt;</th></tr>\n",
       "</thead>\n",
       "<tbody>\n",
       "\t<tr><th scope=row>1</th><td>-0.793143</td><td>-1.136639</td><td>-0.724176</td><td>-0.005280</td><td> 1.426419</td><td> 1.232820</td><td>0</td></tr>\n",
       "\t<tr><th scope=row>2</th><td> 1.782485</td><td>-0.166977</td><td>-0.113805</td><td>-0.501415</td><td>-1.507668</td><td> 0.507379</td><td>5</td></tr>\n",
       "\t<tr><th scope=row>3</th><td> 0.880453</td><td> 1.202158</td><td> 0.420727</td><td> 0.047737</td><td>-0.859401</td><td>-1.691674</td><td>3</td></tr>\n",
       "\t<tr><th scope=row>4</th><td>-1.121728</td><td>-1.585049</td><td> 0.848825</td><td> 0.841859</td><td> 0.884804</td><td> 0.131290</td><td>0</td></tr>\n",
       "\t<tr><th scope=row>5</th><td>-1.245967</td><td> 0.926765</td><td> 1.279408</td><td> 0.657014</td><td>-0.482710</td><td>-1.134510</td><td>1</td></tr>\n",
       "\t<tr><th scope=row>6</th><td> 1.489308</td><td>-1.095060</td><td>-0.912041</td><td>-0.275222</td><td>-0.428358</td><td> 1.221373</td><td>5</td></tr>\n",
       "</tbody>\n",
       "</table>\n"
      ],
      "text/latex": [
       "A data.frame: 6 × 7\n",
       "\\begin{tabular}{r|lllllll}\n",
       "  & V1 & V2 & V3 & V4 & V5 & V6 & V7\\\\\n",
       "  & <dbl> & <dbl> & <dbl> & <dbl> & <dbl> & <dbl> & <int>\\\\\n",
       "\\hline\n",
       "\t1 & -0.793143 & -1.136639 & -0.724176 & -0.005280 &  1.426419 &  1.232820 & 0\\\\\n",
       "\t2 &  1.782485 & -0.166977 & -0.113805 & -0.501415 & -1.507668 &  0.507379 & 5\\\\\n",
       "\t3 &  0.880453 &  1.202158 &  0.420727 &  0.047737 & -0.859401 & -1.691674 & 3\\\\\n",
       "\t4 & -1.121728 & -1.585049 &  0.848825 &  0.841859 &  0.884804 &  0.131290 & 0\\\\\n",
       "\t5 & -1.245967 &  0.926765 &  1.279408 &  0.657014 & -0.482710 & -1.134510 & 1\\\\\n",
       "\t6 &  1.489308 & -1.095060 & -0.912041 & -0.275222 & -0.428358 &  1.221373 & 5\\\\\n",
       "\\end{tabular}\n"
      ],
      "text/markdown": [
       "\n",
       "A data.frame: 6 × 7\n",
       "\n",
       "| <!--/--> | V1 &lt;dbl&gt; | V2 &lt;dbl&gt; | V3 &lt;dbl&gt; | V4 &lt;dbl&gt; | V5 &lt;dbl&gt; | V6 &lt;dbl&gt; | V7 &lt;int&gt; |\n",
       "|---|---|---|---|---|---|---|---|\n",
       "| 1 | -0.793143 | -1.136639 | -0.724176 | -0.005280 |  1.426419 |  1.232820 | 0 |\n",
       "| 2 |  1.782485 | -0.166977 | -0.113805 | -0.501415 | -1.507668 |  0.507379 | 5 |\n",
       "| 3 |  0.880453 |  1.202158 |  0.420727 |  0.047737 | -0.859401 | -1.691674 | 3 |\n",
       "| 4 | -1.121728 | -1.585049 |  0.848825 |  0.841859 |  0.884804 |  0.131290 | 0 |\n",
       "| 5 | -1.245967 |  0.926765 |  1.279408 |  0.657014 | -0.482710 | -1.134510 | 1 |\n",
       "| 6 |  1.489308 | -1.095060 | -0.912041 | -0.275222 | -0.428358 |  1.221373 | 5 |\n",
       "\n"
      ],
      "text/plain": [
       "  V1        V2        V3        V4        V5        V6        V7\n",
       "1 -0.793143 -1.136639 -0.724176 -0.005280  1.426419  1.232820 0 \n",
       "2  1.782485 -0.166977 -0.113805 -0.501415 -1.507668  0.507379 5 \n",
       "3  0.880453  1.202158  0.420727  0.047737 -0.859401 -1.691674 3 \n",
       "4 -1.121728 -1.585049  0.848825  0.841859  0.884804  0.131290 0 \n",
       "5 -1.245967  0.926765  1.279408  0.657014 -0.482710 -1.134510 1 \n",
       "6  1.489308 -1.095060 -0.912041 -0.275222 -0.428358  1.221373 5 "
      ]
     },
     "metadata": {},
     "output_type": "display_data"
    }
   ],
   "source": [
    "head(data)"
   ]
  },
  {
   "cell_type": "code",
   "execution_count": 4,
   "metadata": {},
   "outputs": [],
   "source": [
    "names(data) <- c('T0','T20','T1H','T2H','T4H','T24H','cluster')"
   ]
  },
  {
   "cell_type": "markdown",
   "metadata": {},
   "source": [
    "### get ATAC-seq data for each cluster"
   ]
  },
  {
   "cell_type": "code",
   "execution_count": 5,
   "metadata": {},
   "outputs": [],
   "source": [
    "data_cluster0 <- subset(data, data$cluster %in% 0)\n",
    "data_cluster1 <- subset(data, data$cluster %in% 1)\n",
    "data_cluster2 <- subset(data, data$cluster %in% 2)\n",
    "data_cluster3 <- subset(data, data$cluster %in% 3)\n",
    "data_cluster4 <- subset(data, data$cluster %in% 4)\n",
    "data_cluster5 <- subset(data, data$cluster %in% 5)\n"
   ]
  },
  {
   "cell_type": "markdown",
   "metadata": {},
   "source": [
    "### order data by their cluster and mass across the time"
   ]
  },
  {
   "cell_type": "code",
   "execution_count": 6,
   "metadata": {},
   "outputs": [],
   "source": [
    "tmp <- data_cluster0[,1:6]\n",
    "max_mass <- apply(cbind((tmp[,1] + tmp[,2]), (tmp[,2] + tmp[,3]), (tmp[,3] + tmp[,4]), \n",
    "    (tmp[,4] + tmp[,5]), (tmp[,5] + tmp[,6])), 1, max)\n",
    "idx_max_mass <- apply(cbind((tmp[,1] + tmp[,2]), (tmp[,2] + tmp[,3]), (tmp[,3] + tmp[,4]), \n",
    "    (tmp[,4] + tmp[,5]), (tmp[,5] + tmp[,6])), 1, which.max)\n",
    "data_cluster0$mass <- max_mass\n",
    "data_cluster0$idx_mass <- idx_max_mass\n",
    "cluster0_new <- data_cluster0[with(data_cluster0, order(idx_mass, mass)),]\n",
    "tmp <- data_cluster1[,1:6]\n",
    "max_mass <- apply(cbind((tmp[,1] + tmp[,2]), (tmp[,2] + tmp[,3]), (tmp[,3] + tmp[,4]), \n",
    "    (tmp[,4] + tmp[,5]), (tmp[,5] + tmp[,6])), 1, max)\n",
    "idx_max_mass <- apply(cbind((tmp[,1] + tmp[,2]), (tmp[,2] + tmp[,3]), (tmp[,3] + tmp[,4]), \n",
    "    (tmp[,4] + tmp[,5]), (tmp[,5] + tmp[,6])), 1, which.max)\n",
    "data_cluster1$mass <- max_mass\n",
    "data_cluster1$idx_mass <- idx_max_mass\n",
    "cluster1_new <- data_cluster1[with(data_cluster1, order(idx_mass, mass)),]\n",
    "\n",
    "tmp <- data_cluster2[,1:6]\n",
    "max_mass <- apply(cbind((tmp[,1] + tmp[,2]), (tmp[,2] + tmp[,3]), (tmp[,3] + tmp[,4]), \n",
    "    (tmp[,4] + tmp[,5]), (tmp[,5] + tmp[,6])), 1, max)\n",
    "idx_max_mass <- apply(cbind((tmp[,1] + tmp[,2]), (tmp[,2] + tmp[,3]), (tmp[,3] + tmp[,4]), \n",
    "    (tmp[,4] + tmp[,5]), (tmp[,5] + tmp[,6])), 1, which.max)\n",
    "data_cluster2$mass <- max_mass\n",
    "data_cluster2$idx_mass <- idx_max_mass\n",
    "cluster2_new <- data_cluster2[with(data_cluster2, order(idx_mass, mass)),]\n",
    "\n",
    "tmp <- data_cluster3[,1:6]\n",
    "max_mass <- apply(cbind((tmp[,1] + tmp[,2]), (tmp[,2] + tmp[,3]), (tmp[,3] + tmp[,4]), \n",
    "    (tmp[,4] + tmp[,5]), (tmp[,5] + tmp[,6])), 1, max)\n",
    "idx_max_mass <- apply(cbind((tmp[,1] + tmp[,2]), (tmp[,2] + tmp[,3]), (tmp[,3] + tmp[,4]), \n",
    "    (tmp[,4] + tmp[,5]), (tmp[,5] + tmp[,6])), 1, which.max)\n",
    "data_cluster3$mass <- max_mass\n",
    "data_cluster3$idx_mass <- idx_max_mass\n",
    "cluster3_new <- data_cluster3[with(data_cluster3, order(idx_mass, mass)),]\n",
    "\n",
    "tmp <- data_cluster4[,1:6]\n",
    "max_mass <- apply(cbind((tmp[,1] + tmp[,2]), (tmp[,2] + tmp[,3]), (tmp[,3] + tmp[,4]), \n",
    "    (tmp[,4] + tmp[,5]), (tmp[,5] + tmp[,6])), 1, max)\n",
    "idx_max_mass <- apply(cbind((tmp[,1] + tmp[,2]), (tmp[,2] + tmp[,3]), (tmp[,3] + tmp[,4]), \n",
    "    (tmp[,4] + tmp[,5]), (tmp[,5] + tmp[,6])), 1, which.max)\n",
    "data_cluster4$mass <- max_mass\n",
    "data_cluster4$idx_mass <- idx_max_mass\n",
    "cluster4_new <- data_cluster4[with(data_cluster4, order(idx_mass, mass)),]\n",
    "\n",
    "tmp <- data_cluster5[,1:6]\n",
    "max_mass <- apply(cbind((tmp[,1] + tmp[,2]), (tmp[,2] + tmp[,3]), (tmp[,3] + tmp[,4]), \n",
    "    (tmp[,4] + tmp[,5]), (tmp[,5] + tmp[,6])), 1, max)\n",
    "idx_max_mass <- apply(cbind((tmp[,1] + tmp[,2]), (tmp[,2] + tmp[,3]), (tmp[,3] + tmp[,4]), \n",
    "    (tmp[,4] + tmp[,5]), (tmp[,5] + tmp[,6])), 1, which.max)\n",
    "data_cluster5$mass <- max_mass\n",
    "data_cluster5$idx_mass <- idx_max_mass\n",
    "cluster5_new <- data_cluster5[with(data_cluster5, order(idx_mass, mass)),]\n"
   ]
  },
  {
   "cell_type": "code",
   "execution_count": 7,
   "metadata": {},
   "outputs": [],
   "source": [
    "atacseq_new <- rbind(cluster2_new, cluster3_new, cluster5_new, cluster0_new, cluster1_new, cluster4_new)"
   ]
  },
  {
   "cell_type": "code",
   "execution_count": 8,
   "metadata": {},
   "outputs": [],
   "source": [
    "atacseq_new$extra <- sapply(seq.int(dim(atacseq_new)[1]), function(i) atacseq_new[i,atacseq_new$idx_mass[i]+3])"
   ]
  },
  {
   "cell_type": "code",
   "execution_count": 9,
   "metadata": {},
   "outputs": [],
   "source": [
    "atacseq_new_sorted <- atacseq_new[with(atacseq_new, order(idx_mass,-extra/mass)),]"
   ]
  },
  {
   "cell_type": "markdown",
   "metadata": {},
   "source": [
    "### plot the results"
   ]
  },
  {
   "cell_type": "code",
   "execution_count": 10,
   "metadata": {},
   "outputs": [],
   "source": [
    "atacseq_new_sorted$pos <- 1:dim(atacseq_new_sorted)[1]\n",
    "data_tmp <- atacseq_new_sorted[,c('T0','T20','T1H','T2H','T4H','T24H','pos')]\n",
    "names(data_tmp) <- c('0 min','20 mins','1 hrs','2 hrs','4 hrs','24 hrs','pos')\n",
    "melted_data <- melt(data_tmp, id.vars='pos')\n"
   ]
  },
  {
   "cell_type": "code",
   "execution_count": 11,
   "metadata": {},
   "outputs": [
    {
     "data": {
      "text/html": [
       "<style>\n",
       ".list-inline {list-style: none; margin:0; padding: 0}\n",
       ".list-inline>li {display: inline-block}\n",
       ".list-inline>li:not(:last-child)::after {content: \"\\00b7\"; padding: 0 .5ex}\n",
       "</style>\n",
       "<ol class=list-inline><li>'0 min'</li><li>'20 mins'</li><li>'1 hrs'</li><li>'2 hrs'</li><li>'4 hrs'</li><li>'24 hrs'</li><li>'pos'</li></ol>\n"
      ],
      "text/latex": [
       "\\begin{enumerate*}\n",
       "\\item '0 min'\n",
       "\\item '20 mins'\n",
       "\\item '1 hrs'\n",
       "\\item '2 hrs'\n",
       "\\item '4 hrs'\n",
       "\\item '24 hrs'\n",
       "\\item 'pos'\n",
       "\\end{enumerate*}\n"
      ],
      "text/markdown": [
       "1. '0 min'\n",
       "2. '20 mins'\n",
       "3. '1 hrs'\n",
       "4. '2 hrs'\n",
       "5. '4 hrs'\n",
       "6. '24 hrs'\n",
       "7. 'pos'\n",
       "\n",
       "\n"
      ],
      "text/plain": [
       "[1] \"0 min\"   \"20 mins\" \"1 hrs\"   \"2 hrs\"   \"4 hrs\"   \"24 hrs\"  \"pos\"    "
      ]
     },
     "metadata": {},
     "output_type": "display_data"
    }
   ],
   "source": [
    "names(data_tmp)"
   ]
  },
  {
   "cell_type": "code",
   "execution_count": 12,
   "metadata": {},
   "outputs": [
    {
     "data": {
      "image/png": "[encoded data removed]",
      "text/plain": [
       "plot without title"
      ]
     },
     "metadata": {
      "image/png": {
       "height": 420,
       "width": 420
      },
      "text/plain": {
       "height": 420,
       "width": 420
      }
     },
     "output_type": "display_data"
    }
   ],
   "source": [
    "p0 <- ggplot(data=melted_data, aes(variable, pos, fill=value)) +\n",
    "  geom_tile(size=0.05) + \n",
    "  scale_fill_gradient2(low = \"white\", mid=\"yellow\", high = \"red\") +\n",
    "  xlab(\"Time \") +\n",
    "  ylab(\"ATAC-seq peaks\") +\n",
    "  theme(panel.background=element_blank(),\n",
    "        legend.title = element_blank(),\n",
    "        legend.text = element_text(size = 10),\n",
    "        legend.position='right',\n",
    "        plot.title = element_text(size=14, face=\"bold\", vjust=1.1),\n",
    "        axis.title=element_text(size=10,face=\"bold\"),\n",
    "        axis.text.x = element_text(angle = 0, hjust = 0, size=10),\n",
    "        axis.text.y = element_text(angle = 0, hjust = 0, size=10),\n",
    "        axis.line = element_line()) +\n",
    "  labs(fill = \"Value\") + ggtitle('Fig. 3a')\n",
    "p0\n",
    "#ggsave('~/Dropbox (The University of Manchester)/IntegratingATAC-RNA-HiC/Individual_Figures_Files/ATACSeq_heatmap/atacseq_heatmap.pdf', p0)\n",
    "\n",
    "\n"
   ]
  },
  {
   "cell_type": "code",
   "execution_count": null,
   "metadata": {},
   "outputs": [],
   "source": []
  }
 ],
 "metadata": {
  "kernelspec": {
   "display_name": "R",
   "language": "R",
   "name": "ir"
  },
  "language_info": {
   "codemirror_mode": "r",
   "file_extension": ".r",
   "mimetype": "text/x-r-source",
   "name": "R",
   "pygments_lexer": "r",
   "version": "3.6.3"
  }
 },
 "nbformat": 4,
 "nbformat_minor": 2
}
