{
 "cells": [
  {
   "cell_type": "markdown",
   "metadata": {},
   "source": [
    "## Jupyter notebook for plotting the correlations between CHi-C, ATAC-seq and RNA-seq\n",
    "\n",
    "This notebook is the code for plotting the correlations between CHi-C, ATAC-seq and RNA-seq time course data used in the paper **\\\"Analysis of chromatin organinization and gene expression in T cells identifies functional genes for rheumatoid arthritis\\\"** by *Jing Yang, Amanda McGovern, Paul Martin, Kate Duffus, Xiangyu Ge, Peyman Zarrineh, Andrew P Morris, Antony Adamson, Peter Fraser, Magnus Rattray & Stephen Eyre* \n",
    "\n",
    "Author : *Jing Yang*  <br />\n",
    "Date: 01-05-2020 <br />\n",
    "For any questions about the code, please drop me a line at Jing.Yang@manchester.ac.uk"
   ]
  },
  {
   "cell_type": "markdown",
   "metadata": {},
   "source": [
    "#### load packages"
   ]
  },
  {
   "cell_type": "code",
   "execution_count": 1,
   "metadata": {},
   "outputs": [
    {
     "name": "stderr",
     "output_type": "stream",
     "text": [
      "── \u001b[1mAttaching packages\u001b[22m ─────────────────────────────────────── tidyverse 1.3.0 ──\n",
      "\n",
      "\u001b[32m✔\u001b[39m \u001b[34mtibble \u001b[39m 3.0.1     \u001b[32m✔\u001b[39m \u001b[34mdplyr  \u001b[39m 0.8.5\n",
      "\u001b[32m✔\u001b[39m \u001b[34mtidyr  \u001b[39m 1.1.0     \u001b[32m✔\u001b[39m \u001b[34mstringr\u001b[39m 1.4.0\n",
      "\u001b[32m✔\u001b[39m \u001b[34mreadr  \u001b[39m 1.3.1     \u001b[32m✔\u001b[39m \u001b[34mforcats\u001b[39m 0.5.0\n",
      "\u001b[32m✔\u001b[39m \u001b[34mpurrr  \u001b[39m 0.3.4     \n",
      "\n",
      "── \u001b[1mConflicts\u001b[22m ────────────────────────────────────────── tidyverse_conflicts() ──\n",
      "\u001b[31m✖\u001b[39m \u001b[34mdplyr\u001b[39m::\u001b[32mfilter()\u001b[39m masks \u001b[34mstats\u001b[39m::filter()\n",
      "\u001b[31m✖\u001b[39m \u001b[34mdplyr\u001b[39m::\u001b[32mlag()\u001b[39m    masks \u001b[34mstats\u001b[39m::lag()\n",
      "\n",
      "Loading required package: viridisLite\n",
      "\n"
     ]
    }
   ],
   "source": [
    "library(ggplot2)\n",
    "library(reshape2)\n",
    "library(ggsci)\n",
    "library(tidyverse)\n",
    "library(viridis)\n"
   ]
  },
  {
   "cell_type": "markdown",
   "metadata": {},
   "source": [
    "### load data \n",
    "load data between gene expression (RNA-seq) and open chromatin (ATAC-seq) connected by CHi-C interactions , ATAC-seq peaks in promoter regions are excluded from the study"
   ]
  },
  {
   "cell_type": "code",
   "execution_count": 2,
   "metadata": {},
   "outputs": [],
   "source": [
    "set.seed(5)\n",
    "data <- read.table(file='data/ATACseq_CHiC_RNAseq_linked.txt', header=T)\n"
   ]
  },
  {
   "cell_type": "markdown",
   "metadata": {},
   "source": [
    "### separate data by the distance between baits and otherEnds"
   ]
  },
  {
   "cell_type": "code",
   "execution_count": 3,
   "metadata": {},
   "outputs": [],
   "source": [
    "data$ATACpos <- 0.5*(data$ATACstart + data$ATACend)\n",
    "data$otherEndpos <- 0.5*(data$otherEndstart + data$otherEndend)\n",
    "data$baitpos <- 0.5*(data$baitstart + data$baitend)\n",
    "data$ENSGpos <- 0.5*(data$ENSGstart + data$ENSGend)\n",
    "data$dist_ATAC_gene <- abs(data$ATACpos - data$ENSGpos)\n",
    "data$dist_otherEnd_bait <- abs(data$otherEndpos - data$baitpos)\n",
    "data$dist_bait_gene <- abs(data$baitpos - data$ENSGpos)\n",
    "data$dist_ATAC_bait <- abs(data$baitpos - data$ATACpos)\n",
    "\n",
    "\n",
    "data_200k <- subset(data, data$dist_otherEnd_bait<200000)\n",
    "data_500k <- subset(data, data$dist_otherEnd_bait<500000)\n",
    "data_1MB <- subset(data, data$dist_otherEnd_bait<1000000)\n",
    "data_5MB <- subset(data, data$dist_otherEnd_bait<5000000)\n",
    "data_from200kto500k <- subset(data, (data$dist_otherEnd_bait>=200000) \n",
    "                                                          & (data$dist_otherEnd_bait<500000))\n",
    "data_from500kto1MB <- subset(data, (data$dist_otherEnd_bait>=500000) \n",
    "                                                          & (data$dist_otherEnd_bait<1000000))\n",
    "data_from1MBto5MB <- subset(data, (data$dist_otherEnd_bait>=1000000) \n",
    "                                                          & (data$dist_otherEnd_bait<5000000))"
   ]
  },
  {
   "cell_type": "markdown",
   "metadata": {},
   "source": [
    "### get data ready for Fig. 4a"
   ]
  },
  {
   "cell_type": "code",
   "execution_count": 4,
   "metadata": {},
   "outputs": [],
   "source": [
    "idx_atacseq <- c('AT0','AT20','AT1H','AT2H','AT4H','AT24H')\n",
    "idx_atacseq_withID <- c('ATACchr','ATACstart','ATACend',idx_atacseq)\n",
    "idx_gene <- c('ET0_a','ET20_a','ET1H_a','ET2H_a','ET4H_a','ET24H_a')\n",
    "idx_gene_withID <- c('ENSG', idx_gene)\n",
    "idx_chic <- c('T0','T20','T1H','T4H','T24H')\n",
    "idx_chic_withID <- c('baitID','otherEndID', idx_chic)\n"
   ]
  },
  {
   "cell_type": "code",
   "execution_count": 5,
   "metadata": {},
   "outputs": [],
   "source": [
    "atacseq_picked_200k <- unique(data_200k[,idx_atacseq_withID])\n",
    "atacseq_picked_from200kto500k <- unique(data_from200kto500k[,idx_atacseq_withID])\n",
    "atacseq_picked_from500kto1MB <- unique(data_from500kto1MB[,idx_atacseq_withID])\n",
    "atacseq_picked_from1MBto5MB <- unique(data_from1MBto5MB[,idx_atacseq_withID])\n",
    "atacseq_picked_5MB <- unique(data_5MB[,idx_atacseq_withID])\n",
    "atacseq_picked_1MB <- unique(data_1MB[,idx_atacseq_withID])\n",
    "atacseq_picked_500k <- unique(data_500k[,idx_atacseq_withID])\n",
    "\n",
    "gene_picked_200k <- unique(data_200k[,idx_gene_withID])\n",
    "gene_picked_from200kto500k <- unique(data_from200kto500k[,idx_gene_withID])\n",
    "gene_picked_from500kto1MB <- unique(data_from500kto1MB[,idx_gene_withID])\n",
    "gene_picked_from1MBto5MB <- unique(data_from1MBto5MB[,idx_gene_withID])\n",
    "gene_picked_5MB <- unique(data_5MB[,idx_gene_withID])\n",
    "gene_picked_1MB <- unique(data_1MB[,idx_gene_withID])\n",
    "gene_picked_500k <- unique(data_500k[,idx_gene_withID])\n",
    "\n",
    "chic_picked_200k <- unique(data_200k[,idx_chic_withID])\n",
    "chic_picked_from200kto500k <- unique(data_from200kto500k[,idx_chic_withID])\n",
    "chic_picked_from500kto1MB <- unique(data_from500kto1MB[,idx_chic_withID])\n",
    "chic_picked_from1MBto5MB <- unique(data_from1MBto5MB[,idx_chic_withID])\n",
    "chic_picked_5MB <- unique(data_5MB[,idx_chic_withID])\n",
    "chic_picked_1MB <- unique(data_1MB[,idx_chic_withID])\n",
    "chic_picked_500k <- unique(data_500k[,idx_chic_withID])\n"
   ]
  },
  {
   "cell_type": "markdown",
   "metadata": {},
   "source": [
    "### creatae random background for the correltion density plots"
   ]
  },
  {
   "cell_type": "code",
   "execution_count": 6,
   "metadata": {},
   "outputs": [],
   "source": [
    "N_5MB <- dim(data_5MB)[1]\n",
    "N_1MB <- dim(data_1MB)[1]\n",
    "N_500k <- dim(data_500k)[1]\n",
    "N_200k <- dim(data_200k)[1]\n",
    "N_from1MBto5MB <- dim(data_from1MBto5MB)[1]\n",
    "N_from500kto1MB <- dim(data_from500kto1MB)[1]\n",
    "N_from200kto500k <- dim(data_from200kto500k)[1]\n"
   ]
  },
  {
   "cell_type": "code",
   "execution_count": 7,
   "metadata": {},
   "outputs": [],
   "source": [
    "\n",
    "idx_atac_200k_ind <- floor(runif(N_200k, 1,dim(atacseq_picked_200k)[1]))\n",
    "idx_atac_from200kto500k_ind <- floor(runif(N_from200kto500k, 1,dim(atacseq_picked_from200kto500k)[1]))\n",
    "idx_atac_from500kto1MB_ind <- floor(runif(N_from500kto1MB, 1,dim(atacseq_picked_from500kto1MB)[1]))\n",
    "idx_atac_from1MBto5MB_ind <- floor(runif(N_from1MBto5MB, 1,dim(atacseq_picked_from1MBto5MB)[1]))\n",
    "idx_atac_5MB_ind <- floor(runif(N_5MB, 1,dim(atacseq_picked_5MB)[1]))\n",
    "idx_atac_1MB_ind <- floor(runif(N_1MB, 1,dim(atacseq_picked_1MB)[1]))\n",
    "idx_atac_500k_ind <- floor(runif(N_500k, 1,dim(atacseq_picked_500k)[1]))\n",
    "\n",
    "idx_gene_200k_ind <- floor(runif(N_200k, 1,dim(gene_picked_200k)[1]))\n",
    "idx_gene_from200kto500k_ind <- floor(runif(N_from200kto500k, 1,dim(gene_picked_from200kto500k)[1]))\n",
    "idx_gene_from500kto1MB_ind <- floor(runif(N_from500kto1MB, 1,dim(gene_picked_from500kto1MB)[1]))\n",
    "idx_gene_from1MBto5MB_ind <- floor(runif(N_from1MBto5MB, 1,dim(gene_picked_from1MBto5MB)[1]))\n",
    "idx_gene_5MB_ind <- floor(runif(N_5MB, 1,dim(gene_picked_5MB)[1]))\n",
    "idx_gene_1MB_ind <- floor(runif(N_1MB, 1,dim(gene_picked_1MB)[1]))\n",
    "idx_gene_500k_ind <- floor(runif(N_500k, 1,dim(gene_picked_500k)[1]))\n",
    "\n",
    "idx_chic_200k_ind <- floor(runif(N_200k, 1,dim(chic_picked_200k)[1]))\n",
    "idx_chic_from200kto500k_ind <- floor(runif(N_from200kto500k, 1,dim(chic_picked_from200kto500k)[1]))\n",
    "idx_chic_from500kto1MB_ind <- floor(runif(N_from500kto1MB, 1,dim(chic_picked_from500kto1MB)[1]))\n",
    "idx_chic_from1MBto5MB_ind <- floor(runif(N_from1MBto5MB, 1,dim(chic_picked_from1MBto5MB)[1]))\n",
    "idx_chic_5MB_ind <- floor(runif(N_5MB, 1,dim(chic_picked_5MB)[1]))\n",
    "idx_chic_1MB_ind <- floor(runif(N_1MB, 1,dim(chic_picked_1MB)[1]))\n",
    "idx_chic_500k_ind <- floor(runif(N_500k, 1,dim(chic_picked_500k)[1]))\n"
   ]
  },
  {
   "cell_type": "code",
   "execution_count": 8,
   "metadata": {},
   "outputs": [],
   "source": [
    "corr_aandg_random_200k_ind <- sapply(seq.int(N_200k),function(i) cor(t(atacseq_picked_200k[idx_atac_200k_ind[i],idx_atacseq]),t(gene_picked_200k[idx_gene_200k_ind[i],idx_gene])))\n",
    "corr_aandg_random_from200kto500k_ind <- sapply(seq.int(N_from200kto500k),function(i) cor(t(atacseq_picked_from200kto500k[idx_atac_from200kto500k_ind[i],idx_atacseq]),t(gene_picked_from200kto500k[idx_gene_from200kto500k_ind[i],idx_gene])))\n",
    "corr_aandg_random_from500kto1MB_ind <- sapply(seq.int(N_from500kto1MB),function(i) cor(t(atacseq_picked_from500kto1MB[idx_atac_from500kto1MB_ind[i],idx_atacseq]),t(gene_picked_from500kto1MB[idx_gene_from500kto1MB_ind[i],idx_gene])))\n",
    "corr_aandg_random_from1MBto5MB_ind <- sapply(seq.int(N_from1MBto5MB),function(i) cor(t(atacseq_picked_from1MBto5MB[idx_atac_from1MBto5MB_ind[i],idx_atacseq]),t(gene_picked_from1MBto5MB[idx_gene_from1MBto5MB_ind[i],idx_gene])))\n",
    "corr_aandg_random_5MB_ind <- sapply(seq.int(N_5MB),function(i) cor(t(atacseq_picked_5MB[idx_atac_5MB_ind[i],idx_atacseq]),t(gene_picked_5MB[idx_gene_5MB_ind[i],idx_gene])))\n",
    "corr_aandg_random_1MB_ind <- sapply(seq.int(N_1MB),function(i) cor(t(atacseq_picked_1MB[idx_atac_1MB_ind[i],idx_atacseq]),t(gene_picked_1MB[idx_gene_1MB_ind[i],idx_gene])))\n",
    "corr_aandg_random_500k_ind <- sapply(seq.int(N_500k),function(i) cor(t(atacseq_picked_500k[idx_atac_500k_ind[i],idx_atacseq]),t(gene_picked_500k[idx_gene_500k_ind[i],idx_gene])))\n"
   ]
  },
  {
   "cell_type": "code",
   "execution_count": 9,
   "metadata": {},
   "outputs": [],
   "source": [
    "corr_aandOE_random_200k_ind <- sapply(seq.int(N_200k),function(i) cor(t(atacseq_picked_200k[idx_atac_200k_ind[i],c('AT0','AT20','AT1H','AT4H','AT24H')]),t(chic_picked_200k[idx_chic_200k_ind[i],idx_chic])))\n",
    "corr_aandOE_random_from200kto500k_ind <- sapply(seq.int(N_from200kto500k),function(i) cor(t(atacseq_picked_from200kto500k[idx_atac_from200kto500k_ind[i],c('AT0','AT20','AT1H','AT4H','AT24H')]),t(chic_picked_from200kto500k[idx_chic_from200kto500k_ind[i],idx_chic])))\n",
    "corr_aandOE_random_from500kto1MB_ind <- sapply(seq.int(N_from500kto1MB),function(i) cor(t(atacseq_picked_from500kto1MB[idx_atac_from500kto1MB_ind[i],c('AT0','AT20','AT1H','AT4H','AT24H')]),t(chic_picked_from500kto1MB[idx_chic_from500kto1MB_ind[i],idx_chic])))\n",
    "corr_aandOE_random_from1MBto5MB_ind <- sapply(seq.int(N_from1MBto5MB),function(i) cor(t(atacseq_picked_from1MBto5MB[idx_atac_from1MBto5MB_ind[i],c('AT0','AT20','AT1H','AT4H','AT24H')]),t(chic_picked_from1MBto5MB[idx_chic_from1MBto5MB_ind[i],idx_chic])))\n",
    "corr_aandOE_random_5MB_ind <- sapply(seq.int(N_5MB),function(i) cor(t(atacseq_picked_5MB[idx_atac_5MB_ind[i],c('AT0','AT20','AT1H','AT4H','AT24H')]),t(chic_picked_5MB[idx_chic_5MB_ind[i],idx_chic])))\n",
    "corr_aandOE_random_1MB_ind <- sapply(seq.int(N_1MB),function(i) cor(t(atacseq_picked_1MB[idx_atac_1MB_ind[i],c('AT0','AT20','AT1H','AT4H','AT24H')]),t(chic_picked_1MB[idx_chic_1MB_ind[i],idx_chic])))\n",
    "corr_aandOE_random_500k_ind <- sapply(seq.int(N_500k),function(i) cor(t(atacseq_picked_500k[idx_atac_500k_ind[i],c('AT0','AT20','AT1H','AT4H','AT24H')]),t(chic_picked_500k[idx_chic_500k_ind[i],idx_chic])))\n"
   ]
  },
  {
   "cell_type": "code",
   "execution_count": 10,
   "metadata": {},
   "outputs": [],
   "source": [
    "corr_gandOE_random_200k_ind <- sapply(seq.int(N_200k),function(i) cor(t(gene_picked_200k[idx_gene_200k_ind[i],c('ET0_a','ET20_a','ET1H_a','ET4H_a','ET24H_a')]),t(chic_picked_200k[idx_chic_200k_ind[i],idx_chic])))\n",
    "corr_gandOE_random_from200kto500k_ind <- sapply(seq.int(N_from200kto500k),function(i) cor(t(gene_picked_from200kto500k[idx_gene_from200kto500k_ind[i],c('ET0_a','ET20_a','ET1H_a','ET4H_a','ET24H_a')]),t(chic_picked_from200kto500k[idx_chic_from200kto500k_ind[i],idx_chic])))\n",
    "corr_gandOE_random_from500kto1MB_ind <- sapply(seq.int(N_from500kto1MB),function(i) cor(t(gene_picked_from500kto1MB[idx_gene_from500kto1MB_ind[i],c('ET0_a','ET20_a','ET1H_a','ET4H_a','ET24H_a')]),t(chic_picked_from500kto1MB[idx_chic_from500kto1MB_ind[i],idx_chic])))\n",
    "corr_gandOE_random_from1MBto5MB_ind <- sapply(seq.int(N_from1MBto5MB),function(i) cor(t(gene_picked_from1MBto5MB[idx_gene_from1MBto5MB_ind[i],c('ET0_a','ET20_a','ET1H_a','ET4H_a','ET24H_a')]),t(chic_picked_from1MBto5MB[idx_chic_from1MBto5MB_ind[i],idx_chic])))\n",
    "corr_gandOE_random_5MB_ind <- sapply(seq.int(N_5MB),function(i) cor(t(gene_picked_5MB[idx_gene_5MB_ind[i],c('ET0_a','ET20_a','ET1H_a','ET4H_a','ET24H_a')]),t(chic_picked_5MB[idx_chic_5MB_ind[i],idx_chic])))\n",
    "corr_gandOE_random_1MB_ind <- sapply(seq.int(N_1MB),function(i) cor(t(gene_picked_1MB[idx_gene_1MB_ind[i],c('ET0_a','ET20_a','ET1H_a','ET4H_a','ET24H_a')]),t(chic_picked_1MB[idx_chic_1MB_ind[i],idx_chic])))\n",
    "corr_gandOE_random_500k_ind <- sapply(seq.int(N_500k),function(i) cor(t(gene_picked_500k[idx_gene_500k_ind[i],c('ET0_a','ET20_a','ET1H_a','ET4H_a','ET24H_a')]),t(chic_picked_500k[idx_chic_500k_ind[i],idx_chic])))\n"
   ]
  },
  {
   "cell_type": "markdown",
   "metadata": {},
   "source": [
    "### plotting the correlation densities whthin different distance ranges (p value from wilcoxon test below )"
   ]
  },
  {
   "cell_type": "code",
   "execution_count": 11,
   "metadata": {
    "scrolled": true
   },
   "outputs": [
    {
     "data": {
      "image/png": "[encoded data removed]",
      "text/plain": [
       "plot without title"
      ]
     },
     "metadata": {
      "image/png": {
       "height": 420,
       "width": 420
      },
      "text/plain": {
       "height": 420,
       "width": 420
      }
     },
     "output_type": "display_data"
    }
   ],
   "source": [
    "row0 <- dim(data_5MB)[1]\n",
    "rowfrom1MBto5MB <- dim(data_from1MBto5MB)[1]\n",
    "rowfrom500kto1MB <-dim(data_from500kto1MB)[1]\n",
    "rowfrom200kto500k <- dim(data_from200kto500k)[1]\n",
    "row200k <- dim(data_200k)[1]\n",
    "row_all <- row0 + rowfrom1MBto5MB +rowfrom500kto1MB + rowfrom200kto500k + row200k\n",
    "data_forplot <- data.frame( correlation=c(data_5MB$corr_atacseq_gene, \n",
    "   data_from1MBto5MB$corr_atacseq_gene, data_from500kto1MB$corr_atacseq_gene, \n",
    "   data_from200kto500k$corr_atacseq_gene, data_200k$corr_atacseq_gene, data_5MB$corr_atacseq_otherEnd, \n",
    "   data_from1MBto5MB$corr_atacseq_otherEnd, data_from500kto1MB$corr_atacseq_otherEnd, \n",
    "   data_from200kto500k$corr_atacseq_otherEnd, data_200k$corr_atacseq_otherEnd, data_5MB$corr_gene_otherEnd, \n",
    "   data_from1MBto5MB$corr_gene_otherEnd, data_from500kto1MB$corr_gene_otherEnd, \n",
    "   data_from200kto500k$corr_gene_otherEnd, data_200k$corr_gene_otherEnd), \n",
    "    \n",
    "    label=rep(c('corr_ATAC_gene ','corr_ATAC_CHiC ','corr_gene_CHiC '), each=row_all), \n",
    "            category=rep(rep(c('<5Mb','1Mb-5Mb','500kb-1Mb','200kb-500kb','<200kb'), \n",
    "                             c(row0, rowfrom1MBto5MB, rowfrom500kto1MB, rowfrom200kto500k, row200k)),3),\n",
    "            pvalue=c(rep(c(\"italic(p) < 2.2e-16\",\"italic(p) == 0.041\",\"italic(p) == 7.8e-03\",\"italic(p) == 0.033\",\"italic(p) < 2.2e-16\"),\n",
    "                     c(row0, rowfrom1MBto5MB, rowfrom500kto1MB, rowfrom200kto500k, row200k)),\n",
    "                    rep(c(\"italic(p) < 2.2e-16\",\"italic(p) == 3.0e-08\",\"italic(p) == 8.9e-16\",\"italic(p) < 2.2e-16\",\"italic(p) < 2.2e-16\"),\n",
    "                     c(row0, rowfrom1MBto5MB, rowfrom500kto1MB, rowfrom200kto500k, row200k)),\n",
    "                    rep(c(\"italic(p) == 0.044\",\"italic(p) == 1.9e-03\",\"italic(p) == 0.99\",\"italic(p) == 0.055\",\"italic(p) < 2.2e-16\"),\n",
    "                     c(row0, rowfrom1MBto5MB, rowfrom500kto1MB, rowfrom200kto500k, row200k)))\n",
    "    )\n",
    "\n",
    "data_forplot$category_f <- factor(data_forplot$category, levels=c('<5Mb','1Mb-5Mb','500kb-1Mb','200kb-500kb','<200kb'))\n",
    "\n",
    "data_forplot2 <- data.frame(correlation_random = c(corr_aandg_random_5MB_ind, corr_aandg_random_from1MBto5MB_ind, \n",
    "                                                   corr_aandg_random_from500kto1MB_ind, corr_aandg_random_from200kto500k_ind, \n",
    "                                                   corr_aandg_random_200k_ind,\n",
    "                                                   corr_aandOE_random_5MB_ind, corr_aandOE_random_from1MBto5MB_ind,\n",
    "                                                   corr_aandOE_random_from500kto1MB_ind, corr_aandOE_random_from200kto500k_ind,\n",
    "                                                   corr_aandOE_random_200k_ind,\n",
    "                                                   corr_gandOE_random_5MB_ind, corr_gandOE_random_from1MBto5MB_ind,\n",
    "                                                   corr_gandOE_random_from500kto1MB_ind, corr_gandOE_random_from200kto500k_ind,\n",
    "                                                   corr_gandOE_random_200k_ind),\n",
    "                    label=rep(c('corr_ATAC_gene ','corr_ATAC_CHiC ','corr_gene_CHiC '), each=row_all), \n",
    "                    category=rep(rep(c('<5Mb','1Mb-5Mb','500kb-1Mb','200kb-500kb','<200kb'), \n",
    "                             c(row0, rowfrom1MBto5MB, rowfrom500kto1MB, rowfrom200kto500k, row200k)),3))\n",
    "data_forplot2$category_f <- factor(data_forplot2$category, levels=c('<5Mb','1Mb-5Mb','500kb-1Mb','200kb-500kb','<200kb'))\n",
    "\n",
    "ggplot() + geom_density(data=data_forplot , aes(x=correlation, fill=label), color='white', alpha=0.8)  +\n",
    "geom_density(data=data_forplot2, aes(x=correlation_random), color='black', size=0.5, alpha=1.0) +\n",
    "geom_text(data=data_forplot, aes(x=0.0,y=0.05, label=pvalue), color='black', parse=TRUE, size=3) +\n",
    " scale_x_continuous(breaks=c(-1.0,0.0,1.0), labels=c(-1.0,0.0,1.0)) +\n",
    "#scale_fill_locuszoom() +\n",
    "scale_fill_brewer(palette=\"Pastel2\") + \n",
    "theme(panel.background = element_blank(), plot.title = element_text(face='bold', size=14),\n",
    "      text=element_text(size=10),\n",
    "         axis.title=element_text(size=10,face=\"bold\"), axis.text=element_text(size=8,face=\"bold\"), axis.line=element_line('black'),\n",
    "      ,legend.title=element_blank(), legend.text=element_text(size=8), \n",
    "      legend.box.background = element_rect(size=3, color='NA'),\n",
    "      legend.key.size = unit(0.4, \"cm\"), legend.spacing.x = unit(0.3, 'cm'),\n",
    "      strip.text.x=element_text(siz=10, face='bold'), strip.text.y=element_text(size=10, face='bold'), legend.position=\"top\") +\n",
    " xlab('Correlation') + ylab('Density') + ggtitle('Fig. 4a') +\n",
    "facet_grid(label ~ category_f) #+ ggtitle('p value from Wilcox test')\n"
   ]
  },
  {
   "cell_type": "code",
   "execution_count": 12,
   "metadata": {},
   "outputs": [
    {
     "data": {
      "text/html": [
       "<style>\n",
       ".list-inline {list-style: none; margin:0; padding: 0}\n",
       ".list-inline>li {display: inline-block}\n",
       ".list-inline>li:not(:last-child)::after {content: \"\\00b7\"; padding: 0 .5ex}\n",
       "</style>\n",
       "<ol class=list-inline><li>37819</li><li>86</li></ol>\n"
      ],
      "text/latex": [
       "\\begin{enumerate*}\n",
       "\\item 37819\n",
       "\\item 86\n",
       "\\end{enumerate*}\n"
      ],
      "text/markdown": [
       "1. 37819\n",
       "2. 86\n",
       "\n",
       "\n"
      ],
      "text/plain": [
       "[1] 37819    86"
      ]
     },
     "metadata": {},
     "output_type": "display_data"
    }
   ],
   "source": [
    "dim(data)"
   ]
  },
  {
   "cell_type": "code",
   "execution_count": 13,
   "metadata": {},
   "outputs": [
    {
     "data": {
      "text/plain": [
       "\n",
       "     <200kb        <5Mb     1Mb-5Mb 200kb-500kb   500kb-1Mb \n",
       "      17817       71913       21447       20682       11967 "
      ]
     },
     "metadata": {},
     "output_type": "display_data"
    }
   ],
   "source": [
    "table(data_forplot$category)"
   ]
  },
  {
   "cell_type": "code",
   "execution_count": 14,
   "metadata": {},
   "outputs": [
    {
     "data": {
      "text/html": [
       "<table>\n",
       "<caption>A data.frame: 6 × 4</caption>\n",
       "<thead>\n",
       "\t<tr><th></th><th scope=col>correlation_random</th><th scope=col>label</th><th scope=col>category</th><th scope=col>category_f</th></tr>\n",
       "\t<tr><th></th><th scope=col>&lt;dbl&gt;</th><th scope=col>&lt;fct&gt;</th><th scope=col>&lt;fct&gt;</th><th scope=col>&lt;fct&gt;</th></tr>\n",
       "</thead>\n",
       "<tbody>\n",
       "\t<tr><th scope=row>1</th><td> 0.59612057</td><td>corr_ATAC_gene </td><td>&lt;5Mb</td><td>&lt;5Mb</td></tr>\n",
       "\t<tr><th scope=row>2</th><td> 0.51732528</td><td>corr_ATAC_gene </td><td>&lt;5Mb</td><td>&lt;5Mb</td></tr>\n",
       "\t<tr><th scope=row>3</th><td> 0.26871400</td><td>corr_ATAC_gene </td><td>&lt;5Mb</td><td>&lt;5Mb</td></tr>\n",
       "\t<tr><th scope=row>4</th><td> 0.15940687</td><td>corr_ATAC_gene </td><td>&lt;5Mb</td><td>&lt;5Mb</td></tr>\n",
       "\t<tr><th scope=row>5</th><td>-0.07660971</td><td>corr_ATAC_gene </td><td>&lt;5Mb</td><td>&lt;5Mb</td></tr>\n",
       "\t<tr><th scope=row>6</th><td>-0.38255312</td><td>corr_ATAC_gene </td><td>&lt;5Mb</td><td>&lt;5Mb</td></tr>\n",
       "</tbody>\n",
       "</table>\n"
      ],
      "text/latex": [
       "A data.frame: 6 × 4\n",
       "\\begin{tabular}{r|llll}\n",
       "  & correlation\\_random & label & category & category\\_f\\\\\n",
       "  & <dbl> & <fct> & <fct> & <fct>\\\\\n",
       "\\hline\n",
       "\t1 &  0.59612057 & corr\\_ATAC\\_gene  & <5Mb & <5Mb\\\\\n",
       "\t2 &  0.51732528 & corr\\_ATAC\\_gene  & <5Mb & <5Mb\\\\\n",
       "\t3 &  0.26871400 & corr\\_ATAC\\_gene  & <5Mb & <5Mb\\\\\n",
       "\t4 &  0.15940687 & corr\\_ATAC\\_gene  & <5Mb & <5Mb\\\\\n",
       "\t5 & -0.07660971 & corr\\_ATAC\\_gene  & <5Mb & <5Mb\\\\\n",
       "\t6 & -0.38255312 & corr\\_ATAC\\_gene  & <5Mb & <5Mb\\\\\n",
       "\\end{tabular}\n"
      ],
      "text/markdown": [
       "\n",
       "A data.frame: 6 × 4\n",
       "\n",
       "| <!--/--> | correlation_random &lt;dbl&gt; | label &lt;fct&gt; | category &lt;fct&gt; | category_f &lt;fct&gt; |\n",
       "|---|---|---|---|---|\n",
       "| 1 |  0.59612057 | corr_ATAC_gene  | &lt;5Mb | &lt;5Mb |\n",
       "| 2 |  0.51732528 | corr_ATAC_gene  | &lt;5Mb | &lt;5Mb |\n",
       "| 3 |  0.26871400 | corr_ATAC_gene  | &lt;5Mb | &lt;5Mb |\n",
       "| 4 |  0.15940687 | corr_ATAC_gene  | &lt;5Mb | &lt;5Mb |\n",
       "| 5 | -0.07660971 | corr_ATAC_gene  | &lt;5Mb | &lt;5Mb |\n",
       "| 6 | -0.38255312 | corr_ATAC_gene  | &lt;5Mb | &lt;5Mb |\n",
       "\n"
      ],
      "text/plain": [
       "  correlation_random label           category category_f\n",
       "1  0.59612057        corr_ATAC_gene  <5Mb     <5Mb      \n",
       "2  0.51732528        corr_ATAC_gene  <5Mb     <5Mb      \n",
       "3  0.26871400        corr_ATAC_gene  <5Mb     <5Mb      \n",
       "4  0.15940687        corr_ATAC_gene  <5Mb     <5Mb      \n",
       "5 -0.07660971        corr_ATAC_gene  <5Mb     <5Mb      \n",
       "6 -0.38255312        corr_ATAC_gene  <5Mb     <5Mb      "
      ]
     },
     "metadata": {},
     "output_type": "display_data"
    }
   ],
   "source": [
    "head(data_forplot2)"
   ]
  },
  {
   "cell_type": "code",
   "execution_count": 15,
   "metadata": {
    "scrolled": true
   },
   "outputs": [
    {
     "data": {
      "text/plain": [
       "\n",
       "corr_ATAC_CHiC  corr_ATAC_gene  corr_gene_CHiC  \n",
       "          47942           47942           47942 "
      ]
     },
     "metadata": {},
     "output_type": "display_data"
    },
    {
     "data": {
      "text/plain": [
       "\n",
       "     <200kb        <5Mb     1Mb-5Mb 200kb-500kb   500kb-1Mb \n",
       "      17817       71913       21447       20682       11967 "
      ]
     },
     "metadata": {},
     "output_type": "display_data"
    }
   ],
   "source": [
    "table(data_forplot2$label)\n",
    "table(data_forplot2$category)"
   ]
  },
  {
   "cell_type": "code",
   "execution_count": 16,
   "metadata": {},
   "outputs": [
    {
     "data": {
      "text/html": [
       "<table>\n",
       "<caption>A data.frame: 0 × 5</caption>\n",
       "<thead>\n",
       "\t<tr><th scope=col>correlation</th><th scope=col>label</th><th scope=col>category</th><th scope=col>pvalue</th><th scope=col>category_f</th></tr>\n",
       "\t<tr><th scope=col>&lt;dbl&gt;</th><th scope=col>&lt;fct&gt;</th><th scope=col>&lt;fct&gt;</th><th scope=col>&lt;fct&gt;</th><th scope=col>&lt;fct&gt;</th></tr>\n",
       "</thead>\n",
       "<tbody>\n",
       "</tbody>\n",
       "</table>\n"
      ],
      "text/latex": [
       "A data.frame: 0 × 5\n",
       "\\begin{tabular}{lllll}\n",
       " correlation & label & category & pvalue & category\\_f\\\\\n",
       " <dbl> & <fct> & <fct> & <fct> & <fct>\\\\\n",
       "\\hline\n",
       "\\end{tabular}\n"
      ],
      "text/markdown": [
       "\n",
       "A data.frame: 0 × 5\n",
       "\n",
       "| correlation &lt;dbl&gt; | label &lt;fct&gt; | category &lt;fct&gt; | pvalue &lt;fct&gt; | category_f &lt;fct&gt; |\n",
       "|---|---|---|---|---|\n",
       "\n"
      ],
      "text/plain": [
       "     correlation label category pvalue category_f"
      ]
     },
     "metadata": {},
     "output_type": "display_data"
    }
   ],
   "source": [
    "data_forplot %>% filter(category %in% '<5Mb' & label %in% 'corr_ATAC_gene') \n"
   ]
  },
  {
   "cell_type": "code",
   "execution_count": 18,
   "metadata": {},
   "outputs": [
    {
     "data": {
      "text/plain": [
       "\n",
       "\tWilcoxon rank sum test with continuity correction\n",
       "\n",
       "data:  data_sample1$correlation and data_sample2$correlation_random\n",
       "W = 301268227, p-value < 2.2e-16\n",
       "alternative hypothesis: true location shift is not equal to 0\n"
      ]
     },
     "metadata": {},
     "output_type": "display_data"
    },
    {
     "data": {
      "text/html": [
       "<style>\n",
       ".list-inline {list-style: none; margin:0; padding: 0}\n",
       ".list-inline>li {display: inline-block}\n",
       ".list-inline>li:not(:last-child)::after {content: \"\\00b7\"; padding: 0 .5ex}\n",
       "</style>\n",
       "<ol class=list-inline><li>23971</li><li>1</li></ol>\n"
      ],
      "text/latex": [
       "\\begin{enumerate*}\n",
       "\\item 23971\n",
       "\\item 1\n",
       "\\end{enumerate*}\n"
      ],
      "text/markdown": [
       "1. 23971\n",
       "2. 1\n",
       "\n",
       "\n"
      ],
      "text/plain": [
       "[1] 23971     1"
      ]
     },
     "metadata": {},
     "output_type": "display_data"
    },
    {
     "data": {
      "text/html": [
       "<style>\n",
       ".list-inline {list-style: none; margin:0; padding: 0}\n",
       ".list-inline>li {display: inline-block}\n",
       ".list-inline>li:not(:last-child)::after {content: \"\\00b7\"; padding: 0 .5ex}\n",
       "</style>\n",
       "<ol class=list-inline><li>23971</li><li>1</li></ol>\n"
      ],
      "text/latex": [
       "\\begin{enumerate*}\n",
       "\\item 23971\n",
       "\\item 1\n",
       "\\end{enumerate*}\n"
      ],
      "text/markdown": [
       "1. 23971\n",
       "2. 1\n",
       "\n",
       "\n"
      ],
      "text/plain": [
       "[1] 23971     1"
      ]
     },
     "metadata": {},
     "output_type": "display_data"
    },
    {
     "data": {
      "text/plain": [
       "\n",
       "\tWilcoxon rank sum test with continuity correction\n",
       "\n",
       "data:  data_sample1$correlation and data_sample2$correlation_random\n",
       "W = 26058637, p-value = 0.04091\n",
       "alternative hypothesis: true location shift is not equal to 0\n"
      ]
     },
     "metadata": {},
     "output_type": "display_data"
    },
    {
     "data": {
      "text/html": [
       "<style>\n",
       ".list-inline {list-style: none; margin:0; padding: 0}\n",
       ".list-inline>li {display: inline-block}\n",
       ".list-inline>li:not(:last-child)::after {content: \"\\00b7\"; padding: 0 .5ex}\n",
       "</style>\n",
       "<ol class=list-inline><li>7149</li><li>1</li></ol>\n"
      ],
      "text/latex": [
       "\\begin{enumerate*}\n",
       "\\item 7149\n",
       "\\item 1\n",
       "\\end{enumerate*}\n"
      ],
      "text/markdown": [
       "1. 7149\n",
       "2. 1\n",
       "\n",
       "\n"
      ],
      "text/plain": [
       "[1] 7149    1"
      ]
     },
     "metadata": {},
     "output_type": "display_data"
    },
    {
     "data": {
      "text/html": [
       "<style>\n",
       ".list-inline {list-style: none; margin:0; padding: 0}\n",
       ".list-inline>li {display: inline-block}\n",
       ".list-inline>li:not(:last-child)::after {content: \"\\00b7\"; padding: 0 .5ex}\n",
       "</style>\n",
       "<ol class=list-inline><li>7149</li><li>1</li></ol>\n"
      ],
      "text/latex": [
       "\\begin{enumerate*}\n",
       "\\item 7149\n",
       "\\item 1\n",
       "\\end{enumerate*}\n"
      ],
      "text/markdown": [
       "1. 7149\n",
       "2. 1\n",
       "\n",
       "\n"
      ],
      "text/plain": [
       "[1] 7149    1"
      ]
     },
     "metadata": {},
     "output_type": "display_data"
    },
    {
     "data": {
      "text/plain": [
       "\n",
       "\tWilcoxon rank sum test with continuity correction\n",
       "\n",
       "data:  data_sample1$correlation and data_sample2$correlation_random\n",
       "W = 8229799, p-value = 0.007785\n",
       "alternative hypothesis: true location shift is not equal to 0\n"
      ]
     },
     "metadata": {},
     "output_type": "display_data"
    },
    {
     "data": {
      "text/html": [
       "<style>\n",
       ".list-inline {list-style: none; margin:0; padding: 0}\n",
       ".list-inline>li {display: inline-block}\n",
       ".list-inline>li:not(:last-child)::after {content: \"\\00b7\"; padding: 0 .5ex}\n",
       "</style>\n",
       "<ol class=list-inline><li>3989</li><li>1</li></ol>\n"
      ],
      "text/latex": [
       "\\begin{enumerate*}\n",
       "\\item 3989\n",
       "\\item 1\n",
       "\\end{enumerate*}\n"
      ],
      "text/markdown": [
       "1. 3989\n",
       "2. 1\n",
       "\n",
       "\n"
      ],
      "text/plain": [
       "[1] 3989    1"
      ]
     },
     "metadata": {},
     "output_type": "display_data"
    },
    {
     "data": {
      "text/html": [
       "<style>\n",
       ".list-inline {list-style: none; margin:0; padding: 0}\n",
       ".list-inline>li {display: inline-block}\n",
       ".list-inline>li:not(:last-child)::after {content: \"\\00b7\"; padding: 0 .5ex}\n",
       "</style>\n",
       "<ol class=list-inline><li>3989</li><li>1</li></ol>\n"
      ],
      "text/latex": [
       "\\begin{enumerate*}\n",
       "\\item 3989\n",
       "\\item 1\n",
       "\\end{enumerate*}\n"
      ],
      "text/markdown": [
       "1. 3989\n",
       "2. 1\n",
       "\n",
       "\n"
      ],
      "text/plain": [
       "[1] 3989    1"
      ]
     },
     "metadata": {},
     "output_type": "display_data"
    },
    {
     "data": {
      "text/plain": [
       "\n",
       "\tWilcoxon rank sum test with continuity correction\n",
       "\n",
       "data:  data_sample1$correlation and data_sample2$correlation_random\n",
       "W = 24261027, p-value = 0.0333\n",
       "alternative hypothesis: true location shift is not equal to 0\n"
      ]
     },
     "metadata": {},
     "output_type": "display_data"
    },
    {
     "data": {
      "text/plain": [
       "\n",
       "\tWilcoxon rank sum test with continuity correction\n",
       "\n",
       "data:  data_sample1$correlation and data_sample2$correlation_random\n",
       "W = 19419489, p-value < 2.2e-16\n",
       "alternative hypothesis: true location shift is not equal to 0\n"
      ]
     },
     "metadata": {},
     "output_type": "display_data"
    }
   ],
   "source": [
    "data_sample1 <- data_forplot %>% filter(category %in% '<5Mb' & label %in% 'corr_ATAC_gene ') %>% select(correlation)\n",
    "data_sample2 <- data_forplot2 %>% filter(category %in% '<5Mb' & label %in% 'corr_ATAC_gene ') %>% select(correlation_random)\n",
    "wilcox.test(data_sample1$correlation, data_sample2$correlation_random)\n",
    "dim(data_sample1)\n",
    "dim(data_sample2)\n",
    "data_sample1 <- data_forplot %>% filter(category %in% '1Mb-5Mb' & label %in% 'corr_ATAC_gene ') %>% select(correlation)\n",
    "data_sample2 <- data_forplot2 %>% filter(category %in% '1Mb-5Mb' & label %in% 'corr_ATAC_gene ') %>% select(correlation_random)\n",
    "wilcox.test(data_sample1$correlation, data_sample2$correlation_random, alternative='two.sided')\n",
    "dim(data_sample1)\n",
    "dim(data_sample2)\n",
    "data_sample1 <- data_forplot %>% filter(category %in% '500kb-1Mb' & label %in% 'corr_ATAC_gene ') %>% select(correlation)\n",
    "data_sample2 <- data_forplot2 %>% filter(category %in% '500kb-1Mb' & label %in% 'corr_ATAC_gene ') %>% select(correlation_random)\n",
    "wilcox.test(data_sample1$correlation, data_sample2$correlation_random)\n",
    "dim(data_sample1)\n",
    "dim(data_sample2)\n",
    "data_sample1 <- data_forplot %>% filter(category %in% '200kb-500kb' & label %in% 'corr_ATAC_gene ') %>% select(correlation)\n",
    "data_sample2 <- data_forplot2 %>% filter(category %in% '200kb-500kb' & label %in% 'corr_ATAC_gene ') %>% select(correlation_random)\n",
    "wilcox.test(data_sample1$correlation, data_sample2$correlation_random)\n",
    "data_sample1 <- data_forplot %>% filter(category %in% '<200kb' & label %in% 'corr_ATAC_gene ') %>% select(correlation)\n",
    "data_sample2 <- data_forplot2 %>% filter(category %in% '<200kb' & label %in% 'corr_ATAC_gene ') %>% select(correlation_random)\n",
    "wilcox.test(data_sample1$correlation, data_sample2$correlation_random)\n"
   ]
  },
  {
   "cell_type": "code",
   "execution_count": 19,
   "metadata": {},
   "outputs": [
    {
     "data": {
      "text/plain": [
       "\n",
       "\tWilcoxon rank sum test with continuity correction\n",
       "\n",
       "data:  data_sample1$correlation and data_sample2$correlation_random\n",
       "W = 315157446, p-value < 2.2e-16\n",
       "alternative hypothesis: true location shift is not equal to 0\n"
      ]
     },
     "metadata": {},
     "output_type": "display_data"
    },
    {
     "data": {
      "text/plain": [
       "\n",
       "\tWilcoxon rank sum test with continuity correction\n",
       "\n",
       "data:  data_sample1$correlation and data_sample2$correlation_random\n",
       "W = 26921494, p-value = 3.008e-08\n",
       "alternative hypothesis: true location shift is not equal to 0\n"
      ]
     },
     "metadata": {},
     "output_type": "display_data"
    },
    {
     "data": {
      "text/plain": [
       "\n",
       "\tWilcoxon rank sum test with continuity correction\n",
       "\n",
       "data:  data_sample1$correlation and data_sample2$correlation_random\n",
       "W = 8783124, p-value = 8.937e-16\n",
       "alternative hypothesis: true location shift is not equal to 0\n"
      ]
     },
     "metadata": {},
     "output_type": "display_data"
    },
    {
     "data": {
      "text/plain": [
       "\n",
       "\tWilcoxon rank sum test with continuity correction\n",
       "\n",
       "data:  data_sample1$correlation and data_sample2$correlation_random\n",
       "W = 25691254, p-value < 2.2e-16\n",
       "alternative hypothesis: true location shift is not equal to 0\n"
      ]
     },
     "metadata": {},
     "output_type": "display_data"
    },
    {
     "data": {
      "text/plain": [
       "\n",
       "\tWilcoxon rank sum test with continuity correction\n",
       "\n",
       "data:  data_sample1$correlation and data_sample2$correlation_random\n",
       "W = 19821923, p-value < 2.2e-16\n",
       "alternative hypothesis: true location shift is not equal to 0\n"
      ]
     },
     "metadata": {},
     "output_type": "display_data"
    }
   ],
   "source": [
    "data_sample1 <- data_forplot %>% filter(category %in% '<5Mb' & label %in% 'corr_ATAC_CHiC ') %>% select(correlation)\n",
    "data_sample2 <- data_forplot2 %>% filter(category %in% '<5Mb' & label %in% 'corr_ATAC_CHiC ') %>% select(correlation_random)\n",
    "wilcox.test(data_sample1$correlation, data_sample2$correlation_random)\n",
    "data_sample1 <- data_forplot %>% filter(category %in% '1Mb-5Mb' & label %in% 'corr_ATAC_CHiC ') %>% select(correlation)\n",
    "data_sample2 <- data_forplot2 %>% filter(category %in% '1Mb-5Mb' & label %in% 'corr_ATAC_CHiC ') %>% select(correlation_random)\n",
    "wilcox.test(data_sample1$correlation, data_sample2$correlation_random)\n",
    "data_sample1 <- data_forplot %>% filter(category %in% '500kb-1Mb' & label %in% 'corr_ATAC_CHiC ') %>% select(correlation)\n",
    "data_sample2 <- data_forplot2 %>% filter(category %in% '500kb-1Mb' & label %in% 'corr_ATAC_CHiC ') %>% select(correlation_random)\n",
    "wilcox.test(data_sample1$correlation, data_sample2$correlation_random)\n",
    "data_sample1 <- data_forplot %>% filter(category %in% '200kb-500kb' & label %in% 'corr_ATAC_CHiC ') %>% select(correlation)\n",
    "data_sample2 <- data_forplot2 %>% filter(category %in% '200kb-500kb' & label %in% 'corr_ATAC_CHiC ') %>% select(correlation_random)\n",
    "wilcox.test(data_sample1$correlation, data_sample2$correlation_random)\n",
    "data_sample1 <- data_forplot %>% filter(category %in% '<200kb' & label %in% 'corr_ATAC_CHiC ') %>% select(correlation)\n",
    "data_sample2 <- data_forplot2 %>% filter(category %in% '<200kb' & label %in% 'corr_ATAC_CHiC ') %>% select(correlation_random)\n",
    "wilcox.test(data_sample1$correlation, data_sample2$correlation_random)\n"
   ]
  },
  {
   "cell_type": "code",
   "execution_count": 20,
   "metadata": {},
   "outputs": [
    {
     "data": {
      "text/plain": [
       "\n",
       "\tWilcoxon rank sum test with continuity correction\n",
       "\n",
       "data:  data_sample1$correlation and data_sample2$correlation_random\n",
       "W = 290361818, p-value = 0.0436\n",
       "alternative hypothesis: true location shift is not equal to 0\n"
      ]
     },
     "metadata": {},
     "output_type": "display_data"
    },
    {
     "data": {
      "text/plain": [
       "\n",
       "\tWilcoxon rank sum test with continuity correction\n",
       "\n",
       "data:  data_sample1$correlation and data_sample2$correlation_random\n",
       "W = 24786758, p-value = 0.001874\n",
       "alternative hypothesis: true location shift is not equal to 0\n"
      ]
     },
     "metadata": {},
     "output_type": "display_data"
    },
    {
     "data": {
      "text/plain": [
       "\n",
       "\tWilcoxon rank sum test with continuity correction\n",
       "\n",
       "data:  data_sample1$correlation and data_sample2$correlation_random\n",
       "W = 7954381, p-value = 0.987\n",
       "alternative hypothesis: true location shift is not equal to 0\n"
      ]
     },
     "metadata": {},
     "output_type": "display_data"
    },
    {
     "data": {
      "text/plain": [
       "\n",
       "\tWilcoxon rank sum test with continuity correction\n",
       "\n",
       "data:  data_sample1$correlation and data_sample2$correlation_random\n",
       "W = 23315477, p-value = 0.05516\n",
       "alternative hypothesis: true location shift is not equal to 0\n"
      ]
     },
     "metadata": {},
     "output_type": "display_data"
    },
    {
     "data": {
      "text/plain": [
       "\n",
       "\tWilcoxon rank sum test with continuity correction\n",
       "\n",
       "data:  data_sample1$correlation and data_sample2$correlation_random\n",
       "W = 19379408, p-value < 2.2e-16\n",
       "alternative hypothesis: true location shift is not equal to 0\n"
      ]
     },
     "metadata": {},
     "output_type": "display_data"
    }
   ],
   "source": [
    "data_sample1 <- data_forplot %>% filter(category %in% '<5Mb' & label %in% 'corr_gene_CHiC ') %>% select(correlation)\n",
    "data_sample2 <- data_forplot2 %>% filter(category %in% '<5Mb' & label %in% 'corr_gene_CHiC ') %>% select(correlation_random)\n",
    "wilcox.test(data_sample1$correlation, data_sample2$correlation_random)\n",
    "data_sample1 <- data_forplot %>% filter(category %in% '1Mb-5Mb' & label %in% 'corr_gene_CHiC ') %>% select(correlation)\n",
    "data_sample2 <- data_forplot2 %>% filter(category %in% '1Mb-5Mb' & label %in% 'corr_gene_CHiC ') %>% select(correlation_random)\n",
    "wilcox.test(data_sample1$correlation, data_sample2$correlation_random)\n",
    "data_sample1 <- data_forplot %>% filter(category %in% '500kb-1Mb' & label %in% 'corr_gene_CHiC ') %>% select(correlation)\n",
    "data_sample2 <- data_forplot2 %>% filter(category %in% '500kb-1Mb' & label %in% 'corr_gene_CHiC ') %>% select(correlation_random)\n",
    "wilcox.test(data_sample1$correlation, data_sample2$correlation_random)\n",
    "data_sample1 <- data_forplot %>% filter(category %in% '200kb-500kb' & label %in% 'corr_gene_CHiC ') %>% select(correlation)\n",
    "data_sample2 <- data_forplot2 %>% filter(category %in% '200kb-500kb' & label %in% 'corr_gene_CHiC ') %>% select(correlation_random)\n",
    "wilcox.test(data_sample1$correlation, data_sample2$correlation_random)\n",
    "data_sample1 <- data_forplot %>% filter(category %in% '<200kb' & label %in% 'corr_gene_CHiC ') %>% select(correlation)\n",
    "data_sample2 <- data_forplot2 %>% filter(category %in% '<200kb' & label %in% 'corr_gene_CHiC ') %>% select(correlation_random)\n",
    "wilcox.test(data_sample1$correlation, data_sample2$correlation_random)\n"
   ]
  },
  {
   "cell_type": "code",
   "execution_count": null,
   "metadata": {},
   "outputs": [],
   "source": [
    "data_sample1 <- data_forplot %>% filter(category %in% '<5Mb' & label %in% 'corr_ATAC_gene') %>% select(correlation)\n",
    "data_sample2 <- data_forplot2 %>% filter(category %in% '<5Mb' & label %in% 'corr_ATAC_gene') %>% select(correlation_random)\n",
    "ks.test(data_sample1$correlation, data_sample2$correlation_random)\n",
    "data_sample1 <- data_forplot %>% filter(category %in% '1Mb-5Mb' & label %in% 'corr_ATAC_gene') %>% select(correlation)\n",
    "data_sample2 <- data_forplot2 %>% filter(category %in% '1Mb-5Mb' & label %in% 'corr_ATAC_gene') %>% select(correlation_random)\n",
    "ks.test(data_sample1$correlation, data_sample2$correlation_random)\n",
    "data_sample1 <- data_forplot %>% filter(category %in% '500kb-1Mb' & label %in% 'corr_ATAC_gene') %>% select(correlation)\n",
    "data_sample2 <- data_forplot2 %>% filter(category %in% '500kb-1Mb' & label %in% 'corr_ATAC_gene') %>% select(correlation_random)\n",
    "ks.test(data_sample1$correlation, data_sample2$correlation_random)\n",
    "data_sample1 <- data_forplot %>% filter(category %in% '200kb-500kb' & label %in% 'corr_ATAC_gene') %>% select(correlation)\n",
    "data_sample2 <- data_forplot2 %>% filter(category %in% '200kb-500kb' & label %in% 'corr_ATAC_gene') %>% select(correlation_random)\n",
    "ks.test(data_sample1$correlation, data_sample2$correlation_random)\n",
    "data_sample1 <- data_forplot %>% filter(category %in% '<200kb' & label %in% 'corr_ATAC_gene') %>% select(correlation)\n",
    "data_sample2 <- data_forplot2 %>% filter(category %in% '<200kb' & label %in% 'corr_ATAC_gene') %>% select(correlation_random)\n",
    "ks.test(data_sample1$correlation, data_sample2$correlation_random)"
   ]
  },
  {
   "cell_type": "code",
   "execution_count": null,
   "metadata": {},
   "outputs": [],
   "source": [
    "data_sample1 <- data_forplot %>% filter(category %in% '<5Mb' & label %in% 'corr_ATAC_CHiC') %>% select(correlation)\n",
    "data_sample2 <- data_forplot2 %>% filter(category %in% '<5Mb' & label %in% 'corr_ATAC_CHiC') %>% select(correlation_random)\n",
    "ks.test(data_sample1$correlation, data_sample2$correlation_random)\n",
    "data_sample1 <- data_forplot %>% filter(category %in% '1Mb-5Mb' & label %in% 'corr_ATAC_CHiC') %>% select(correlation)\n",
    "data_sample2 <- data_forplot2 %>% filter(category %in% '1Mb-5Mb' & label %in% 'corr_ATAC_CHiC') %>% select(correlation_random)\n",
    "ks.test(data_sample1$correlation, data_sample2$correlation_random)\n",
    "data_sample1 <- data_forplot %>% filter(category %in% '500kb-1Mb' & label %in% 'corr_ATAC_CHiC') %>% select(correlation)\n",
    "data_sample2 <- data_forplot2 %>% filter(category %in% '500kb-1Mb' & label %in% 'corr_ATAC_CHiC') %>% select(correlation_random)\n",
    "ks.test(data_sample1$correlation, data_sample2$correlation_random)\n",
    "data_sample1 <- data_forplot %>% filter(category %in% '200kb-500kb' & label %in% 'corr_ATAC_CHiC') %>% select(correlation)\n",
    "data_sample2 <- data_forplot2 %>% filter(category %in% '200kb-500kb' & label %in% 'corr_ATAC_CHiC') %>% select(correlation_random)\n",
    "ks.test(data_sample1$correlation, data_sample2$correlation_random)\n",
    "data_sample1 <- data_forplot %>% filter(category %in% '<200kb' & label %in% 'corr_ATAC_CHiC') %>% select(correlation)\n",
    "data_sample2 <- data_forplot2 %>% filter(category %in% '<200kb' & label %in% 'corr_ATAC_CHiC') %>% select(correlation_random)\n",
    "ks.test(data_sample1$correlation, data_sample2$correlation_random)"
   ]
  },
  {
   "cell_type": "code",
   "execution_count": null,
   "metadata": {},
   "outputs": [],
   "source": [
    "data_sample1 <- data_forplot %>% filter(category %in% '<5Mb' & label %in% 'corr_gene_CHiC') %>% select(correlation)\n",
    "data_sample2 <- data_forplot2 %>% filter(category %in% '<5Mb' & label %in% 'corr_gene_CHiC') %>% select(correlation_random)\n",
    "ks.test(data_sample1$correlation, data_sample2$correlation_random)\n",
    "data_sample1 <- data_forplot %>% filter(category %in% '1Mb-5Mb' & label %in% 'corr_gene_CHiC') %>% select(correlation)\n",
    "data_sample2 <- data_forplot2 %>% filter(category %in% '1Mb-5Mb' & label %in% 'corr_gene_CHiC') %>% select(correlation_random)\n",
    "ks.test(data_sample1$correlation, data_sample2$correlation_random)\n",
    "data_sample1 <- data_forplot %>% filter(category %in% '500kb-1Mb' & label %in% 'corr_gene_CHiC') %>% select(correlation)\n",
    "data_sample2 <- data_forplot2 %>% filter(category %in% '500kb-1Mb' & label %in% 'corr_gene_CHiC') %>% select(correlation_random)\n",
    "ks.test(data_sample1$correlation, data_sample2$correlation_random)\n",
    "data_sample1 <- data_forplot %>% filter(category %in% '200kb-500kb' & label %in% 'corr_gene_CHiC') %>% select(correlation)\n",
    "data_sample2 <- data_forplot2 %>% filter(category %in% '200kb-500kb' & label %in% 'corr_gene_CHiC') %>% select(correlation_random)\n",
    "ks.test(data_sample1$correlation, data_sample2$correlation_random)\n",
    "data_sample1 <- data_forplot %>% filter(category %in% '<200kb' & label %in% 'corr_gene_CHiC') %>% select(correlation)\n",
    "data_sample2 <- data_forplot2 %>% filter(category %in% '<200kb' & label %in% 'corr_gene_CHiC') %>% select(correlation_random)\n",
    "ks.test(data_sample1$correlation, data_sample2$correlation_random)"
   ]
  },
  {
   "cell_type": "markdown",
   "metadata": {},
   "source": [
    "### Plotting correlation densities for different distance thresholds"
   ]
  },
  {
   "cell_type": "code",
   "execution_count": null,
   "metadata": {},
   "outputs": [],
   "source": [
    "row0 <- dim(data_5MB)[1]\n",
    "row1MB <- dim(data_1MB)[1]\n",
    "row500k <-dim(data_500k)[1]\n",
    "row200k <- dim(data_200k)[1]\n",
    "row_all <- row0 + row1MB +row500k + row200k\n",
    "data_forplot <- data.frame( correlation=c(data_5MB$corr_atacseq_gene, \n",
    "   data_1MB$corr_atacseq_gene, data_500k$corr_atacseq_gene, \n",
    "   data_200k$corr_atacseq_gene, data_5MB$corr_atacseq_otherEnd, \n",
    "   data_1MB$corr_atacseq_otherEnd, data_500k$corr_atacseq_otherEnd, \n",
    "   data_200k$corr_atacseq_otherEnd, data_5MB$corr_gene_otherEnd, \n",
    "   data_1MB$corr_gene_otherEnd, data_500k$corr_gene_otherEnd, \n",
    "   data_200k$corr_gene_otherEnd),     \n",
    "    label=rep(c('corr_ATAC_gene','corr_ATAC_CHiC','corr_gene_CHiC'), each=row_all), \n",
    "            category=rep(rep(c('dist<5MB','dist<1MB','dist<500KB','dist<200KB'), c(row0, row1MB, row500k, row200k)),3)\n",
    "    )\n",
    "\n",
    "data_forplot$category_f <- factor(data_forplot$category, levels=c('dist<5MB','dist<1MB','dist<500KB','dist<200KB'))\n",
    "\n",
    "data_forplot2 <- data.frame(correlation_random = c(corr_aandg_random_5MB_ind, corr_aandg_random_1MB_ind, \n",
    "                                                   corr_aandg_random_500k_ind, corr_aandg_random_200k_ind, \n",
    "                                                   corr_aandOE_random_5MB_ind, corr_aandOE_random_1MB_ind,\n",
    "                                                   corr_aandOE_random_500k_ind, corr_aandOE_random_200k_ind,\n",
    "                                                   corr_gandOE_random_5MB_ind, corr_gandOE_random_1MB_ind,\n",
    "                                                   corr_gandOE_random_500k_ind, corr_gandOE_random_200k_ind),\n",
    "                    label=rep(c('corr_ATAC_gene','corr_ATAC_CHiC','corr_gene_CHiC'), each=4*N), \n",
    "                    category=rep(rep(c('dist<5MB','dist<1MB','dist<500KB','dist<200KB'), each=N)))\n",
    "data_forplot2$category_f <- factor(data_forplot2$category, levels=c('dist<5MB','dist<1MB','dist<500KB','dist<200KB'))\n",
    "\n",
    "ggplot() + geom_density(data=data_forplot , aes(x=correlation, fill=label), alpha=0.6)  +\n",
    "geom_density(data=data_forplot2, aes(x=correlation_random, color='Background'), alpha=0.6) +\n",
    " scale_x_continuous(breaks=c(-1.0,0.0,1.0), labels=c(-1.0,0.0,1.0)) +\n",
    "\n",
    "scale_fill_manual(values=c('corr_ATAC_gene'='lightblue','corr_ATAC_CHiC'='steelblue1','corr_gene_CHiC'='royalblue1',\n",
    "                           'Background'='black')) +\n",
    "theme(panel.background = element_blank(), plot.title = element_text(face='bold', size=14, hjust=-0.05, vjust=0.1),\n",
    "         axis.title=element_text(size=12,face=\"bold\"), axis.text=element_text(size=10), axis.line=element_line('black'),\n",
    "      ,legend.title=element_blank(), legend.text=element_text(size=6), \n",
    "      legend.box.background = element_rect(size=3, color='NA'),\n",
    "      legend.key.size = unit(0.4, \"cm\"), legend.spacing.x = unit(0.2, 'cm'),\n",
    "      strip.text.x=element_text(siz=8, face='bold'), strip.text.y=element_text(size=6, face='bold'), legend.position=\"bottom\") +\n",
    " xlab('Correlation') + ylab('Density') + ggtitle('Correltion density plots at different distance thresholds') +\n",
    "facet_grid(label ~ category_f)\n",
    "\n"
   ]
  }
 ],
 "metadata": {
  "kernelspec": {
   "display_name": "R",
   "language": "R",
   "name": "ir"
  },
  "language_info": {
   "codemirror_mode": "r",
   "file_extension": ".r",
   "mimetype": "text/x-r-source",
   "name": "R",
   "pygments_lexer": "r",
   "version": "3.6.3"
  }
 },
 "nbformat": 4,
 "nbformat_minor": 2
}
