{
 "cells": [
  {
   "cell_type": "markdown",
   "metadata": {},
   "source": [
    "## Jupyter notebook for computing correlations between compartment replicates across time\n",
    "This notebook is the code for computing the correlations between replicates of the compartments data from the time course Hi-C used in the paper **\"Simultaneous analysis of open chromatin, promoter interactions and gene expression in stimulated T cells implicates causal genes for rheumatoid arthritis\"** by Jing Yang, Amanda McGovern, Paul Martin, Kate Duffus, Peyman Zarrineh, Andrew P Morris, Antony Adamson, Peter Fraser, Magnus Rattray & Stephen Eyre. \n",
    "\n",
    "Author : *Jing Yang*  <br />\n",
    "Date: 24-10-2019 <br />\n",
    "For any questions about the code, please drop me a line at Jing.Yang@manchester.ac.uk"
   ]
  },
  {
   "cell_type": "markdown",
   "metadata": {},
   "source": [
    "### load packages"
   ]
  },
  {
   "cell_type": "code",
   "execution_count": 1,
   "metadata": {},
   "outputs": [],
   "source": [
    "library(ggplot2)\n"
   ]
  },
  {
   "cell_type": "markdown",
   "metadata": {},
   "source": [
    "### load data for both replicates"
   ]
  },
  {
   "cell_type": "code",
   "execution_count": 2,
   "metadata": {},
   "outputs": [],
   "source": [
    "T0_rep1 <- read.table('https://personalpages.manchester.ac.uk/staff/jing.yang/Data/HiC/data/T0_rep1_40x80kb.PC1.txt', header=F, row.names=1)\n",
    "T20_rep1 <- read.table('https://personalpages.manchester.ac.uk/staff/jing.yang/Data/HiC/data/T20_rep1_40x80kb.PC1.txt', header=F, row.names=1)\n",
    "T1H_rep1 <- read.table('https://personalpages.manchester.ac.uk/staff/jing.yang/Data/HiC/data/T1H_rep1_40x80kb.PC1.txt', header=F, row.names=1)\n",
    "T4H_rep1 <- read.table('https://personalpages.manchester.ac.uk/staff/jing.yang/Data/HiC/data/T4H_rep1_40x80kb.PC1.txt', header=F, row.names=1)"
   ]
  },
  {
   "cell_type": "code",
   "execution_count": 3,
   "metadata": {},
   "outputs": [],
   "source": [
    "T0_rep2 <- read.table('https://personalpages.manchester.ac.uk/staff/jing.yang/Data/HiC/data/T0_rep2_40x80kb.PC1.txt', header=F, row.names=1)\n",
    "T20_rep2 <- read.table('https://personalpages.manchester.ac.uk/staff/jing.yang/Data/HiC/data/T20_rep2_40x80kb.PC1.txt', header=F, row.names=1)\n",
    "T1H_rep2 <- read.table('https://personalpages.manchester.ac.uk/staff/jing.yang/Data/HiC/data/T1H_rep2_40x80kb.PC1.txt', header=F, row.names=1)\n",
    "T4H_rep2 <- read.table('https://personalpages.manchester.ac.uk/staff/jing.yang/Data/HiC/data/T4H_rep2_40x80kb.PC1.txt', header=F, row.names=1)"
   ]
  },
  {
   "cell_type": "code",
   "execution_count": 4,
   "metadata": {},
   "outputs": [],
   "source": [
    "names(T0_rep1) <- c('chr','start','end','strand','T01')\n",
    "names(T0_rep2) <- c('chr','start','end','strand','T02')\n",
    "names(T20_rep1) <- c('chr','start','end','strand','T201')\n",
    "names(T20_rep2) <- c('chr','start','end','strand','T202')\n",
    "names(T1H_rep1) <- c('chr','start','end','strand','T1H1')\n",
    "names(T1H_rep2) <- c('chr','start','end','strand','T1H2')\n",
    "names(T4H_rep1) <- c('chr','start','end','strand','T4H1')\n",
    "names(T4H_rep2) <- c('chr','start','end','strand','T4H2')"
   ]
  },
  {
   "cell_type": "markdown",
   "metadata": {},
   "source": [
    "### calculate the correlations"
   ]
  },
  {
   "cell_type": "code",
   "execution_count": 5,
   "metadata": {},
   "outputs": [],
   "source": [
    "data_T0 <- merge(T0_rep1, T0_rep2)\n",
    "data_T20 <- merge(T20_rep1, T20_rep2)\n",
    "data_T1H <- merge(T1H_rep1, T1H_rep2)\n",
    "data_T4H <- merge(T4H_rep1, T4H_rep2)\n"
   ]
  },
  {
   "cell_type": "code",
   "execution_count": 6,
   "metadata": {},
   "outputs": [],
   "source": [
    "\n",
    "data <- merge(merge(merge(data_T0, data_T20),data_T1H), data_T4H)\n",
    "data_sorted <- data[with(data, order(chr, start)),]"
   ]
  },
  {
   "cell_type": "code",
   "execution_count": 7,
   "metadata": {},
   "outputs": [],
   "source": [
    "corr0 <- c( cor(data_sorted$T01, data_sorted$T02), cor(data_sorted$T201, data_sorted$T202),\n",
    "            cor(data_sorted$T1H1, data_sorted$T1H2), cor(data_sorted$T4H1, data_sorted$T4H2))\n",
    "corr20 <- c( cor(data_sorted$T01, data_sorted$T202), cor(data_sorted$T201, data_sorted$T02),\n",
    "            cor(data_sorted$T01, data_sorted$T201), cor(data_sorted$T202, data_sorted$T02))\n",
    "corr40 <- c( cor(data_sorted$T1H1, data_sorted$T202), cor(data_sorted$T201, data_sorted$T1H2),\n",
    "            cor(data_sorted$T1H1, data_sorted$T201), cor(data_sorted$T202, data_sorted$T1H2))\n",
    "corr60 <- c( cor(data_sorted$T01, data_sorted$T1H2), cor(data_sorted$T02, data_sorted$T1H2),            \n",
    "            cor(data_sorted$T01, data_sorted$T1H1), cor(data_sorted$T02, data_sorted$T1H1))\n",
    "corr220 <- c( cor(data_sorted$T201, data_sorted$T4H2), cor(data_sorted$T202, data_sorted$T4H2),\n",
    "            cor(data_sorted$T201, data_sorted$T4H1), cor(data_sorted$T201, data_sorted$T4H1))\n",
    "corr180 <- c( cor(data_sorted$T1H1, data_sorted$T4H2), cor(data_sorted$T1H2, data_sorted$T4H2),\n",
    "            cor(data_sorted$T1H1, data_sorted$T4H1), cor(data_sorted$T1H1, data_sorted$T4H1))\n",
    "corr240 <- c( cor(data_sorted$T01, data_sorted$T4H2), cor(data_sorted$T02, data_sorted$T4H2),\n",
    "            cor(data_sorted$T01, data_sorted$T4H1), cor(data_sorted$T01, data_sorted$T4H1))\n"
   ]
  },
  {
   "cell_type": "markdown",
   "metadata": {},
   "source": [
    "### plot the results"
   ]
  },
  {
   "cell_type": "code",
   "execution_count": 8,
   "metadata": {},
   "outputs": [],
   "source": [
    "times1 <- rep(c(0,20,40,60,180,220,240), each=4)"
   ]
  },
  {
   "cell_type": "code",
   "execution_count": 9,
   "metadata": {},
   "outputs": [],
   "source": [
    "data_forplot <- data.frame(x=times1, y=c(corr0, corr20, corr40, corr60, corr180, corr220, corr240))"
   ]
  },
  {
   "cell_type": "code",
   "execution_count": 10,
   "metadata": {},
   "outputs": [
    {
     "data": {
      "image/png": "[encoded data removed]",
      "text/plain": [
       "plot without title"
      ]
     },
     "metadata": {
      "image/png": {
       "height": 420,
       "width": 420
      },
      "text/plain": {
       "height": 420,
       "width": 420
      }
     },
     "output_type": "display_data"
    }
   ],
   "source": [
    "ggplot(data_forplot, aes(x=x, y=y)) + geom_point(size=1) + geom_smooth(method=\"glm\") +\n",
    "xlab('Time difference (mins)') + ylab('A/B compartment correlation coefficient') + \n",
    "ggtitle('Correlations between A/B compartment (Fig. 2c)') +\n",
    "scale_y_continuous(limits=c(NA,1))+\n",
    "theme(\n",
    "  panel.grid.major = element_blank(),\n",
    "  panel.grid.minor = element_blank(),\n",
    "  panel.background = element_blank(),\n",
    "  plot.title = element_text(hjust=0.5),\n",
    "  legend.title=element_blank(),\n",
    "  axis.title=element_text(size=12,face=\"bold\", hjust=0.5),\n",
    "  axis.text.x = element_text(hjust = 0.5, vjust=0.5, size=10, face=\"bold\"),\n",
    "  axis.text.y = element_text(size=10, face=\"bold\"),\n",
    "  axis.line = element_line(colour = \"black\"))  \n"
   ]
  }
 ],
 "metadata": {
  "kernelspec": {
   "display_name": "R",
   "language": "R",
   "name": "ir"
  },
  "language_info": {
   "codemirror_mode": "r",
   "file_extension": ".r",
   "mimetype": "text/x-r-source",
   "name": "R",
   "pygments_lexer": "r",
   "version": "3.6.1"
  }
 },
 "nbformat": 4,
 "nbformat_minor": 2
}
