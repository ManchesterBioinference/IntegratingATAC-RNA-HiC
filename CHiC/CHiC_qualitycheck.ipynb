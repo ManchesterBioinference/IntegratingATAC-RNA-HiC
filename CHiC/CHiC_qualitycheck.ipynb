{
 "cells": [
  {
   "cell_type": "markdown",
   "metadata": {},
   "source": [
    "## Jupyter notebook for CHi-C data quality check\n",
    "\n",
    "This notebook is the code for comparing the CHi-C data used in paper **\"Burren, O.S. et al, Chromosome contacts in activated T cells identify autoimmune disease candidate genes, Genome Biology, 18 (165) (2017) \"** with the \n",
    "time course CHi-C data used in the paper **\"Simultaneous analysis of open chromatin, promoter interactions and gene expression in stimulated T cells implicates causal genes for rheumatoid arthritis\"** by Jing Yang, Amanda McGovern, Paul Martin, Kate Duffus, Peyman Zarrineh, Andrew P Morris, Antony Adamson, Peter Fraser, Magnus Rattray & Stephen Eyre \n",
    "\n",
    "Author : *Jing Yang*  <br />\n",
    "Date: 24-10-2019 <br />\n",
    "For any questions about the code, please drop me a line at Jing.Yang@manchester.ac.uk"
   ]
  },
  {
   "cell_type": "markdown",
   "metadata": {},
   "source": [
    "### load required libraries"
   ]
  },
  {
   "cell_type": "code",
   "execution_count": 1,
   "metadata": {},
   "outputs": [],
   "source": [
    "library(ggplot2)\n",
    "library(reshape2)"
   ]
  },
  {
   "cell_type": "markdown",
   "metadata": {},
   "source": [
    "### load data"
   ]
  },
  {
   "cell_type": "code",
   "execution_count": 2,
   "metadata": {},
   "outputs": [],
   "source": [
    "data_original <- read.table(\"https://personalpages.manchester.ac.uk/staff/jing.yang/Data/CHiC/data/CHiC_rawdata_withscore.txt\", header=TRUE)"
   ]
  },
  {
   "cell_type": "markdown",
   "metadata": {},
   "source": [
    "### load bait info, to include those bait-to-bait interactions twice with either baits are being used as baits or otherEnds"
   ]
  },
  {
   "cell_type": "code",
   "execution_count": 3,
   "metadata": {},
   "outputs": [],
   "source": [
    "allbaitID <- read.table('https://personalpages.manchester.ac.uk/staff/jing.yang/Data/CHiC/data/baitID.txt')\n",
    "data_original$baitornot <- lapply(seq(dim(data_original)[1]), function(i) sum(data_original$otherEndID[i]==allbaitID))"
   ]
  },
  {
   "cell_type": "code",
   "execution_count": 4,
   "metadata": {},
   "outputs": [],
   "source": [
    "tmp <- data_original[data_original$baitornot=='1',c(2,1,3:21)]\n",
    "names(tmp) <- names(data_original)\n",
    "data <- unique(rbind(data_original, tmp))"
   ]
  },
  {
   "cell_type": "markdown",
   "metadata": {},
   "source": [
    "### add bait and otherEnd coordinates info"
   ]
  },
  {
   "cell_type": "code",
   "execution_count": 5,
   "metadata": {},
   "outputs": [],
   "source": [
    "bait_info <- read.table('https://personalpages.manchester.ac.uk/staff/jing.yang/Data/CHiC/data/capture.rmap')\n",
    "names(bait_info) <- c('baitchr','baitstart','baitend','baitID')\n",
    "otherEnd_info <- bait_info\n",
    "names(otherEnd_info) <- c('otherEndchr','otherEndstart','otherEndend','otherEndID')"
   ]
  },
  {
   "cell_type": "code",
   "execution_count": 6,
   "metadata": {},
   "outputs": [],
   "source": [
    "chic_data <- unique(merge(merge(data, bait_info), otherEnd_info))"
   ]
  },
  {
   "cell_type": "code",
   "execution_count": 7,
   "metadata": {},
   "outputs": [
    {
     "data": {
      "text/html": [
       "<ol class=list-inline>\n",
       "\t<li>277222</li>\n",
       "\t<li>27</li>\n",
       "</ol>\n"
      ],
      "text/latex": [
       "\\begin{enumerate*}\n",
       "\\item 277222\n",
       "\\item 27\n",
       "\\end{enumerate*}\n"
      ],
      "text/markdown": [
       "1. 277222\n",
       "2. 27\n",
       "\n",
       "\n"
      ],
      "text/plain": [
       "[1] 277222     27"
      ]
     },
     "metadata": {},
     "output_type": "display_data"
    }
   ],
   "source": [
    "dim(chic_data)"
   ]
  },
  {
   "cell_type": "code",
   "execution_count": 8,
   "metadata": {},
   "outputs": [
    {
     "name": "stdout",
     "output_type": "stream",
     "text": [
      "There are 277222 interactions with at least one time point with Chicago score over 5"
     ]
    }
   ],
   "source": [
    "cat(\"There are\", dim(chic_data)[1], \"interactions with at least one time point with Chicago score over 5\")"
   ]
  },
  {
   "cell_type": "markdown",
   "metadata": {},
   "source": [
    "### retrieve merged interactions at time 0 and time 4hrs"
   ]
  },
  {
   "cell_type": "code",
   "execution_count": 9,
   "metadata": {},
   "outputs": [],
   "source": [
    "idxT01_1 <- chic_data$T01_s > 5\n",
    "idxT01_2 <- chic_data$T02_s > 5\n",
    "idxT01 <- idxT01_1 | idxT01_2\n",
    "\n",
    "idxT4H_1 <- chic_data$T4H1_s > 5\n",
    "idxT4H_2 <- chic_data$T4H2_s > 5\n",
    "idxT4H <- idxT4H_1 | idxT4H_2\n",
    "\n",
    "idx_combined <- idxT01 | idxT4H"
   ]
  },
  {
   "cell_type": "code",
   "execution_count": 10,
   "metadata": {},
   "outputs": [
    {
     "data": {
      "text/html": [
       "<ol class=list-inline>\n",
       "\t<li>FALSE</li>\n",
       "\t<li>TRUE</li>\n",
       "\t<li>TRUE</li>\n",
       "\t<li>TRUE</li>\n",
       "\t<li>TRUE</li>\n",
       "\t<li>TRUE</li>\n",
       "</ol>\n"
      ],
      "text/latex": [
       "\\begin{enumerate*}\n",
       "\\item FALSE\n",
       "\\item TRUE\n",
       "\\item TRUE\n",
       "\\item TRUE\n",
       "\\item TRUE\n",
       "\\item TRUE\n",
       "\\end{enumerate*}\n"
      ],
      "text/markdown": [
       "1. FALSE\n",
       "2. TRUE\n",
       "3. TRUE\n",
       "4. TRUE\n",
       "5. TRUE\n",
       "6. TRUE\n",
       "\n",
       "\n"
      ],
      "text/plain": [
       "[1] FALSE  TRUE  TRUE  TRUE  TRUE  TRUE"
      ]
     },
     "metadata": {},
     "output_type": "display_data"
    }
   ],
   "source": [
    "head(idx_combined)"
   ]
  },
  {
   "cell_type": "code",
   "execution_count": 11,
   "metadata": {},
   "outputs": [],
   "source": [
    "chic_dataonly <- unique(chic_data[idx_combined,c('baitID','otherEndID','T01','T02','T201','T202','T1H1','T1H2','T4H1','T4H2','T24H1')])\n"
   ]
  },
  {
   "cell_type": "markdown",
   "metadata": {},
   "source": [
    "### convert the coordinates from GRCh38 to GRCh37"
   ]
  },
  {
   "cell_type": "code",
   "execution_count": 12,
   "metadata": {},
   "outputs": [],
   "source": [
    "coordinate_convert <- read.table('https://personalpages.manchester.ac.uk/staff/jing.yang/Data/CHiC/data/corrdinate_convert_from38to37_withbaitID.txt', header=T)\n",
    "coordinate_convert_otherEnd <- read.table('https://personalpages.manchester.ac.uk/staff/jing.yang/Data/CHiC/data/corrdinate_convert_from38to37_withotherEndID.txt', header=T)"
   ]
  },
  {
   "cell_type": "code",
   "execution_count": 13,
   "metadata": {},
   "outputs": [],
   "source": [
    "\n",
    "captureinfo <- coordinate_convert[,c(1,5,6,7)]\n",
    "captureinfo_otherEnd <- coordinate_convert_otherEnd[,c(1,5,6,7)]"
   ]
  },
  {
   "cell_type": "code",
   "execution_count": 14,
   "metadata": {},
   "outputs": [],
   "source": [
    "chic_data37 <- unique(merge(merge(chic_dataonly,captureinfo), captureinfo_otherEnd))\n"
   ]
  },
  {
   "cell_type": "markdown",
   "metadata": {},
   "source": [
    "### add gene data associated with each bait"
   ]
  },
  {
   "cell_type": "code",
   "execution_count": 15,
   "metadata": {},
   "outputs": [],
   "source": [
    "bait_gene_original <- read.table(\"https://personalpages.manchester.ac.uk/staff/jing.yang/Data/CHiC/data/baits+ENSG_final_uniq_orderedbysequence.txt\", header=FALSE)\n",
    "names(bait_gene_original)[1:5] <- c('baitID','chr','baitstart','baitend','ENSG')\n",
    "bait_gene <- bait_gene_original[c(1,5)]"
   ]
  },
  {
   "cell_type": "code",
   "execution_count": 16,
   "metadata": {},
   "outputs": [],
   "source": [
    "chic_data37_withgene <- unique(merge(chic_data37, bait_gene))"
   ]
  },
  {
   "cell_type": "code",
   "execution_count": 17,
   "metadata": {},
   "outputs": [],
   "source": [
    "chic_data37_withgene_sorted <- chic_data37_withgene[with(chic_data37_withgene, order(baitID,otherEndID)), ]\n",
    "\n"
   ]
  },
  {
   "cell_type": "markdown",
   "metadata": {},
   "source": [
    "### load CHi-C data from Burren at al paper"
   ]
  },
  {
   "cell_type": "code",
   "execution_count": 18,
   "metadata": {},
   "outputs": [],
   "source": [
    "chic_data_fromGenomeBiology <- read.table('https://personalpages.manchester.ac.uk/staff/jing.yang/Data/CHiC/data/chic_counts_fromGenomeBiology.txt', header=T)"
   ]
  },
  {
   "cell_type": "markdown",
   "metadata": {},
   "source": [
    "### prepare data for comparison"
   ]
  },
  {
   "cell_type": "code",
   "execution_count": 19,
   "metadata": {},
   "outputs": [],
   "source": [
    "chic_original_forcompare <- chic_data37_withgene_sorted[,c('baitID','baitchr_37','baitstart_37','baitend_37','otherEndID','otherEndchr_37','otherEndstart_37','otherEndend_37','ENSG')]\n",
    "\n",
    "chic_GenomeBiology_forcompare <- chic_data_fromGenomeBiology[,c('baitID','baitChr','baitStart','baitLength','oeID','oeChr','oeStart','oeLength','id')]\n",
    "chic_GenomeBiology_forcompare$baitEnd <- chic_GenomeBiology_forcompare$baitStart + chic_GenomeBiology_forcompare$baitLength -1\n",
    "chic_GenomeBiology_forcompare$oeEnd <- chic_GenomeBiology_forcompare$oeStart + chic_GenomeBiology_forcompare$oeLength -1\n"
   ]
  },
  {
   "cell_type": "code",
   "execution_count": 20,
   "metadata": {},
   "outputs": [],
   "source": [
    "aa_bait <- unique(chic_original_forcompare[,c('baitchr_37','baitstart_37','baitend_37')])\n",
    "bb_bait <- unique(chic_GenomeBiology_forcompare[,c('baitChr','baitStart','baitLength')])\n",
    "aa_bait$label <- 'original'\n",
    "bb_bait$label <- 'GB'\n",
    "bb_bait$baitEnd <- (bb_bait$baitStart + bb_bait$baitLength -1)\n",
    "cc_bait <- bb_bait[,c('baitChr','baitStart','baitEnd','label')]\n",
    "names(aa_bait) <- names(cc_bait)\n",
    "combined_bait <- rbind(aa_bait, cc_bait)\n",
    "combined_bait_sorted <- combined_bait[with(combined_bait, order(baitChr, baitStart)),]\n",
    "tmp <- sapply(1:(dim(combined_bait_sorted)[1]-1), function(i) combined_bait_sorted$baitStart[i+1]-combined_bait_sorted$baitStart[i])\n",
    "bait_GB_intersect <- combined_bait_sorted[(which(tmp==1)+1),c('baitChr','baitStart')]    \n",
    "bait_original_intersect <- combined_bait_sorted[which(tmp==1),c('baitChr','baitStart')]\n",
    "names(bait_original_intersect) <- c('baitchr_37','baitstart_37')\n",
    "tmp_original <- merge(chic_original_forcompare, bait_original_intersect)\n",
    "tmp_GB <- merge(chic_GenomeBiology_forcompare, bait_GB_intersect)\n",
    "chic_original_forcompare <- tmp_original\n",
    "chic_GenomeBiology_forcompare <- tmp_GB"
   ]
  },
  {
   "cell_type": "code",
   "execution_count": 21,
   "metadata": {},
   "outputs": [],
   "source": [
    "aa_oe <- unique(chic_original_forcompare[,c('otherEndchr_37','otherEndstart_37','otherEndend_37')])\n",
    "bb_oe <- unique(chic_GenomeBiology_forcompare[,c('oeChr','oeStart','oeLength')])\n",
    "aa_oe$label <- 'original'\n",
    "bb_oe$label <- 'GB'\n",
    "bb_oe$oeEnd <- (bb_oe$oeStart + bb_oe$oeLength -1)\n",
    "cc_oe <- bb_oe[,c('oeChr','oeStart','oeEnd','label')]\n",
    "names(aa_oe) <- names(cc_oe)\n",
    "combined_oe <- rbind(aa_oe, cc_oe)\n",
    "combined_oe_sorted <- combined_oe[with(combined_oe, order(oeChr, oeStart)),]\n",
    "tmp <- sapply(1:(dim(combined_oe_sorted)[1]-1), function(i) combined_oe_sorted$oeStart[i+1]-combined_oe_sorted$oeStart[i])\n",
    "oe_GB_intersect <- combined_oe_sorted[(which(tmp==1)+1),c('oeChr','oeStart')]    \n",
    "oe_original_intersect <- combined_oe_sorted[which(tmp==1),c('oeChr','oeStart')]\n",
    "names(oe_original_intersect) <- c('otherEndchr_37','otherEndstart_37')\n",
    "tmp_original <- merge(chic_original_forcompare, oe_original_intersect)\n",
    "tmp_GB <- merge(chic_GenomeBiology_forcompare, oe_GB_intersect)\n",
    "chic_original_forcompare <- tmp_original\n",
    "chic_GenomeBiology_forcompare <- tmp_GB"
   ]
  },
  {
   "cell_type": "markdown",
   "metadata": {},
   "source": [
    "### Due to mapped to different reference genome, interactions of distance with 2 bp are deemed the same"
   ]
  },
  {
   "cell_type": "code",
   "execution_count": 22,
   "metadata": {},
   "outputs": [
    {
     "name": "stdout",
     "output_type": "stream",
     "text": [
      "There are  48570  and  43345  interactions in original and GB data, among them the intersected are [1] 27794\n",
      "There are  36698  and  40882  interactions in original and GB data (<5MB) , among them the intersected are [1] 26836\n",
      "There are  28028  and  34539  interactions in original and GB data (<1MB), among them the intersected are [1] 22554\n",
      "There are  21481  and  27588  interactions in original and GB data (<500k), among them the intersected are [1] 17986\n",
      "There are  9627  and  13464  interactions in original and GB data (<200k), among them the intersected are [1] 8367\n"
     ]
    }
   ],
   "source": [
    "\n",
    "chic_original_forcompare$baitpos <- 0.5*(chic_original_forcompare$baitstart_37+chic_original_forcompare$baitend_37) \n",
    "chic_original_forcompare$otherEndpos <- 0.5*(chic_original_forcompare$otherEndstart_37+chic_original_forcompare$otherEndend_37)\n",
    "chic_GenomeBiology_forcompare$baitpos <- 0.5*(chic_GenomeBiology_forcompare$baitStart+chic_GenomeBiology_forcompare$baitStart + chic_GenomeBiology_forcompare$baitLength) \n",
    "chic_GenomeBiology_forcompare$oepos <- 0.5*(chic_GenomeBiology_forcompare$oeStart+chic_GenomeBiology_forcompare$oeStart+chic_GenomeBiology_forcompare$oeLength)\n",
    "\n",
    "chic_original_forcompare$dist <- abs(chic_original_forcompare$baitpos - chic_original_forcompare$otherEndpos)\n",
    "chic_original_forcompare$pos <- 0.5*(chic_original_forcompare$baitpos + chic_original_forcompare$otherEndpos)\n",
    "\n",
    "chic_GenomeBiology_forcompare$dist <- abs(chic_GenomeBiology_forcompare$baitpos - chic_GenomeBiology_forcompare$oepos)\n",
    "chic_GenomeBiology_forcompare$pos <- 0.5*(chic_GenomeBiology_forcompare$baitpos + chic_GenomeBiology_forcompare$oepos)\n",
    "\n",
    "idx_5M_original <- chic_original_forcompare$dist<5000000\n",
    "idx_5M_GB <- chic_GenomeBiology_forcompare$dist<5000000\n",
    "\n",
    "idx_1M_original <- chic_original_forcompare$dist<1000000\n",
    "idx_1M_GB <- chic_GenomeBiology_forcompare$dist<1000000\n",
    "\n",
    "idx_500K_original <- chic_original_forcompare$dist<500000\n",
    "idx_500K_GB <- chic_GenomeBiology_forcompare$dist<500000\n",
    "\n",
    "idx_200K_original <- chic_original_forcompare$dist<200000\n",
    "idx_200K_GB <- chic_GenomeBiology_forcompare$dist<200000\n",
    "\n",
    "M <- 2\n",
    "sum_interaction_2 <- list()\n",
    "data_original <- unique(chic_original_forcompare[,c('baitchr_37','pos','baitstart_37')])\n",
    "data_GenomeBiology <- unique(chic_GenomeBiology_forcompare[,c('baitChr','pos','baitStart')])\n",
    "names(data_original) <- c('chr','pos','start')\n",
    "data_original$label <- 'original'\n",
    "names(data_GenomeBiology) <- c('chr','pos','start')\n",
    "data_GenomeBiology$label <- 'GB'\n",
    "data_combined <- rbind(data_original, data_GenomeBiology)\n",
    "data_combined_sorted <- data_combined[with(data_combined, order(chr,pos,start)),]\n",
    "sum_interaction <- 0\n",
    "for (ii in 2:(dim(data_combined_sorted)[1]-1)){\n",
    "    if ((data_combined_sorted$label[ii] == 'original') &\n",
    "        (data_combined_sorted$label[ii] != data_combined_sorted$label[ii-1]) & \n",
    "        (abs(data_combined_sorted$pos[ii]-data_combined_sorted$pos[ii-1])<M) &\n",
    "        (abs(data_combined_sorted$start[ii]-data_combined_sorted$start[ii-1])<M)) {\n",
    "        sum_interaction <- sum_interaction +1\n",
    "    }\n",
    "    else if ((data_combined_sorted$label[ii] == 'original') &\n",
    "        (data_combined_sorted$label[ii] != data_combined_sorted$label[ii+1]) & \n",
    "        (abs(data_combined_sorted$pos[ii]-data_combined_sorted$pos[ii+1])<M) &\n",
    "        (abs(data_combined_sorted$start[ii]-data_combined_sorted$start[ii+1])<M)) {\n",
    "        sum_interaction <- sum_interaction +1\n",
    "    }\n",
    "    else {}\n",
    "    \n",
    "    \n",
    "}\n",
    "sum_interaction_2 <- c(sum_interaction_2, sum_interaction)\n",
    "cat('There are ', dim(data_original)[1], ' and ', dim(data_GenomeBiology)[1], ' interactions in original and GB data, among them the intersected are ')\n",
    "print(sum_interaction)\n",
    "\n",
    "\n",
    "data_original <- unique(chic_original_forcompare[idx_5M_original,c('baitchr_37','pos','baitstart_37')])\n",
    "data_GenomeBiology <- unique(chic_GenomeBiology_forcompare[idx_5M_GB,c('baitChr','pos','baitStart')])\n",
    "names(data_original) <- c('chr','pos','start')\n",
    "data_original$label <- 'original'\n",
    "names(data_GenomeBiology) <- c('chr','pos','start')\n",
    "data_GenomeBiology$label <- 'GB'\n",
    "data_combined <- rbind(data_original, data_GenomeBiology)\n",
    "data_combined_sorted <- data_combined[with(data_combined, order(chr,pos)),]\n",
    "sum_interaction <- 0\n",
    "for (ii in 2:(dim(data_combined_sorted)[1]-1)){\n",
    "    if ((data_combined_sorted$label[ii] == 'original') &\n",
    "        (data_combined_sorted$label[ii] != data_combined_sorted$label[ii-1]) & \n",
    "        (abs(data_combined_sorted$pos[ii]-data_combined_sorted$pos[ii-1])<M) &\n",
    "        (abs(data_combined_sorted$start[ii]-data_combined_sorted$start[ii-1])<M)) {\n",
    "        sum_interaction <- sum_interaction +1\n",
    "    }\n",
    "    else if ((data_combined_sorted$label[ii] == 'original') &\n",
    "        (data_combined_sorted$label[ii] != data_combined_sorted$label[ii+1]) & \n",
    "        (abs(data_combined_sorted$pos[ii]-data_combined_sorted$pos[ii+1])<M) &\n",
    "        (abs(data_combined_sorted$start[ii]-data_combined_sorted$start[ii+1])<M)) {\n",
    "        sum_interaction <- sum_interaction +1\n",
    "    }\n",
    "    else {}\n",
    "    \n",
    "    \n",
    "}\n",
    "sum_interaction_2 <- c(sum_interaction_2, sum_interaction)\n",
    "cat('There are ', dim(data_original)[1], ' and ', dim(data_GenomeBiology)[1], ' interactions in original and GB data (<5MB) , among them the intersected are ')\n",
    "print(sum_interaction)\n",
    "\n",
    "data_original <- unique(chic_original_forcompare[idx_1M_original,c('baitchr_37','pos','baitstart_37')])\n",
    "data_GenomeBiology <- unique(chic_GenomeBiology_forcompare[idx_1M_GB,c('baitChr','pos','baitStart')])\n",
    "names(data_original) <- c('chr','pos','start')\n",
    "data_original$label <- 'original'\n",
    "names(data_GenomeBiology) <- c('chr','pos','start')\n",
    "data_GenomeBiology$label <- 'GB'\n",
    "data_combined <- rbind(data_original, data_GenomeBiology)\n",
    "data_combined_sorted <- data_combined[with(data_combined, order(chr,pos)),]\n",
    "sum_interaction <- 0\n",
    "for (ii in 2:(dim(data_combined_sorted)[1]-1)){\n",
    "    if ((data_combined_sorted$label[ii] == 'original') &\n",
    "        (data_combined_sorted$label[ii] != data_combined_sorted$label[ii-1]) & \n",
    "        (abs(data_combined_sorted$pos[ii]-data_combined_sorted$pos[ii-1])<M) &\n",
    "        (abs(data_combined_sorted$start[ii]-data_combined_sorted$start[ii-1])<M)) {\n",
    "        sum_interaction <- sum_interaction +1\n",
    "    }\n",
    "    else if ((data_combined_sorted$label[ii] == 'original') &\n",
    "        (data_combined_sorted$label[ii] != data_combined_sorted$label[ii+1]) & \n",
    "        (abs(data_combined_sorted$pos[ii]-data_combined_sorted$pos[ii+1])<M) &\n",
    "        (abs(data_combined_sorted$start[ii]-data_combined_sorted$start[ii+1])<M)) {\n",
    "        sum_interaction <- sum_interaction +1\n",
    "    }\n",
    "    else {}\n",
    "    \n",
    "    \n",
    "}\n",
    "sum_interaction_2 <- c(sum_interaction_2, sum_interaction)\n",
    "\n",
    "cat('There are ', dim(data_original)[1], ' and ', dim(data_GenomeBiology)[1], ' interactions in original and GB data (<1MB), among them the intersected are ')\n",
    "print(sum_interaction)\n",
    "\n",
    "\n",
    "data_original <- unique(chic_original_forcompare[idx_500K_original,c('baitchr_37','pos','baitstart_37')])\n",
    "data_GenomeBiology <- unique(chic_GenomeBiology_forcompare[idx_500K_GB,c('baitChr','pos','baitStart')])\n",
    "names(data_original) <- c('chr','pos','start')\n",
    "data_original$label <- 'original'\n",
    "names(data_GenomeBiology) <- c('chr','pos','start')\n",
    "data_GenomeBiology$label <- 'GB'\n",
    "data_combined <- rbind(data_original, data_GenomeBiology)\n",
    "data_combined_sorted <- data_combined[with(data_combined, order(chr,pos)),]\n",
    "sum_interaction <- 0\n",
    "for (ii in 2:(dim(data_combined_sorted)[1]-1)){\n",
    "    if ((data_combined_sorted$label[ii] == 'original') &\n",
    "        (data_combined_sorted$label[ii] != data_combined_sorted$label[ii-1]) & \n",
    "        (abs(data_combined_sorted$pos[ii]-data_combined_sorted$pos[ii-1])<M) &\n",
    "        (abs(data_combined_sorted$start[ii]-data_combined_sorted$start[ii-1])<M)) {\n",
    "        sum_interaction <- sum_interaction +1\n",
    "    }\n",
    "    else if ((data_combined_sorted$label[ii] == 'original') &\n",
    "        (data_combined_sorted$label[ii] != data_combined_sorted$label[ii+1]) & \n",
    "        (abs(data_combined_sorted$pos[ii]-data_combined_sorted$pos[ii+1])<M) &\n",
    "        (abs(data_combined_sorted$start[ii]-data_combined_sorted$start[ii+1])<M)) {\n",
    "        sum_interaction <- sum_interaction +1\n",
    "    }\n",
    "    else {}\n",
    "    \n",
    "    \n",
    "}\n",
    "sum_interaction_2 <- c(sum_interaction_2, sum_interaction)\n",
    "\n",
    "cat('There are ', dim(data_original)[1], ' and ', dim(data_GenomeBiology)[1], ' interactions in original and GB data (<500k), among them the intersected are ')\n",
    "print(sum_interaction)\n",
    "\n",
    "\n",
    "data_original <- unique(chic_original_forcompare[idx_200K_original,c('baitchr_37','pos','baitstart_37')])\n",
    "data_GenomeBiology <- unique(chic_GenomeBiology_forcompare[idx_200K_GB,c('baitChr','pos','baitStart')])\n",
    "names(data_original) <- c('chr','pos','start')\n",
    "data_original$label <- 'original'\n",
    "names(data_GenomeBiology) <- c('chr','pos','start')\n",
    "data_GenomeBiology$label <- 'GB'\n",
    "data_combined <- rbind(data_original, data_GenomeBiology)\n",
    "data_combined_sorted <- data_combined[with(data_combined, order(chr,pos)),]\n",
    "sum_interaction <- 0\n",
    "for (ii in 2:(dim(data_combined_sorted)[1]-1)){\n",
    "    #print(ii)\n",
    "    if ((data_combined_sorted$label[ii] == 'original') &\n",
    "        (data_combined_sorted$label[ii] != data_combined_sorted$label[ii-1]) & \n",
    "        (abs(data_combined_sorted$pos[ii]-data_combined_sorted$pos[ii-1])<M) &\n",
    "        (abs(data_combined_sorted$start[ii]-data_combined_sorted$start[ii-1])<M)) {\n",
    "        sum_interaction <- sum_interaction +1\n",
    "    }\n",
    "    else if ((data_combined_sorted$label[ii] == 'original') &\n",
    "        (data_combined_sorted$label[ii] != data_combined_sorted$label[ii+1]) & \n",
    "        (abs(data_combined_sorted$pos[ii]-data_combined_sorted$pos[ii+1])<M) &\n",
    "        (abs(data_combined_sorted$start[ii]-data_combined_sorted$start[ii+1])<M)) {\n",
    "        sum_interaction <- sum_interaction +1\n",
    "    }\n",
    "    else {}\n",
    "    \n",
    "    \n",
    "}\n",
    "sum_interaction_2 <- c(sum_interaction_2, sum_interaction)\n",
    "\n",
    "cat('There are ', dim(data_original)[1], ' and ', dim(data_GenomeBiology)[1], ' interactions in original and GB data (<200k), among them the intersected are ')\n",
    "print(sum_interaction)\n"
   ]
  },
  {
   "cell_type": "markdown",
   "metadata": {},
   "source": [
    "### plotting the results"
   ]
  },
  {
   "cell_type": "code",
   "execution_count": 23,
   "metadata": {},
   "outputs": [],
   "source": [
    "data_forplot <- data.frame(Intersected=unlist(sum_interaction_2))"
   ]
  },
  {
   "cell_type": "code",
   "execution_count": 24,
   "metadata": {},
   "outputs": [],
   "source": [
    "original_size <- c(dim(unique(chic_original_forcompare[,c('baitchr_37','pos','baitstart_37')]))[1], \n",
    "                   dim(unique(chic_original_forcompare[idx_5M_original,c('baitchr_37','pos','baitstart_37')]))[1], \n",
    "                   dim(unique(chic_original_forcompare[idx_1M_original,c('baitchr_37','pos','baitstart_37')]))[1],\n",
    "                   dim(unique(chic_original_forcompare[idx_500K_original,c('baitchr_37','pos','baitstart_37')]))[1],\n",
    "                   dim(unique(chic_original_forcompare[idx_200K_original,c('baitchr_37','pos','baitstart_37')]))[1])\n",
    "                   #sum(idx_1M_original), sum(idx_500K_original), sum(idx_200K_original))\n"
   ]
  },
  {
   "cell_type": "code",
   "execution_count": 25,
   "metadata": {},
   "outputs": [],
   "source": [
    "data_forplot$Remaining <- original_size - data_forplot$Intersected"
   ]
  },
  {
   "cell_type": "code",
   "execution_count": 26,
   "metadata": {},
   "outputs": [],
   "source": [
    "data_forplot$idx <- c('NONE','<5Mb','<1Mb','<500kb','<200kb')"
   ]
  },
  {
   "cell_type": "code",
   "execution_count": 27,
   "metadata": {},
   "outputs": [],
   "source": [
    "melted_data <- melt(data_forplot, id.var=c(\"idx\"))\n"
   ]
  },
  {
   "cell_type": "code",
   "execution_count": 28,
   "metadata": {},
   "outputs": [],
   "source": [
    "melted_data$idx_f = factor(melted_data$idx, levels=c('NONE','<5Mb','<1Mb','<500kb','<200kb'))"
   ]
  },
  {
   "cell_type": "code",
   "execution_count": 29,
   "metadata": {},
   "outputs": [
    {
     "data": {
      "image/png": "[encoded data removed]",
      "text/plain": [
       "plot without title"
      ]
     },
     "metadata": {
      "image/png": {
       "height": 420,
       "width": 420
      },
      "text/plain": {
       "height": 420,
       "width": 420
      }
     },
     "output_type": "display_data"
    }
   ],
   "source": [
    "ggplot(data=melted_data, aes(fill=variable, x=idx_f, y=value)) +\n",
    "geom_bar(stat=\"identity\", width=0.5, alpha=0.6) + xlab('Distance within promoters') + ylab('Number of Interactions') + #geom_text(aes(label=scales::percent(value)), position = position_stack(vjust = .5))+\n",
    "ggtitle('Intersected and remainning interactions when comparing CHi-C data from our study to data in Burren et all (Supplementary Fig. 1a)') +\n",
    "theme(panel.grid.major=element_blank(), panel.grid.minor=element_blank(), \n",
    "    panel.background=element_blank(), axis.line=element_line('black'), legend.position='top',    legend.text = element_text(size=6, face='bold'),\n",
    "      legend.key.height =unit(0.4,'cm'), legend.key.width = unit(0.4,'cm'),\n",
    "     axis.text.x=element_text(size=6, face='bold',hjust=0.5), axis.text.y=element_text(size=6, face='bold'),axis.title=element_text(size=8, face='bold'), \n",
    "      strip.text.x = element_text(size = 6), strip.text.y = element_text(size=6),plot.title = element_text(size=8, hjust=0.5, vjust=2.5)) + \n",
    "      scale_x_discrete(breaks=c('NONE','<5Mb','<1Mb','<500kb','<200kb'), labels=c('NONE','<5Mb','<1Mb','<500kb','<200kb')) +\n",
    "          #scale_y_continuous(labels=scales::percent) + scale_fill_brewer() + labs(fill = \" \") + scale_color_grey() + \n",
    "scale_fill_manual(\"legend\", values = c(\"Intersected\" = \"royalblue\", \"Remaining\" = \"grey\")) + guides(fill=guide_legend(' ')) \n"
   ]
  },
  {
   "cell_type": "code",
   "execution_count": null,
   "metadata": {},
   "outputs": [],
   "source": []
  }
 ],
 "metadata": {
  "kernelspec": {
   "display_name": "R",
   "language": "R",
   "name": "ir"
  },
  "language_info": {
   "codemirror_mode": "r",
   "file_extension": ".r",
   "mimetype": "text/x-r-source",
   "name": "R",
   "pygments_lexer": "r",
   "version": "3.6.1"
  }
 },
 "nbformat": 4,
 "nbformat_minor": 2
}
