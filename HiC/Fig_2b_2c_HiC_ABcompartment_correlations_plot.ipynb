{
 "cells": [
  {
   "cell_type": "markdown",
   "metadata": {},
   "source": [
    "## Jupyter notebook for computing correlation coefficients of Hi-C and A/B compartment replicates\n",
    "\n",
    "This notebook is the code for generating correlations between replicates of Hi-C (Fig. 2a) and replicates of A/B compartments (Fig. 2b), respectively, in the paper **\"Analysis of chromatin organinization and gene expression in T cells identifies functional genes for rheumatoid arthritis\"** \n",
    "by *Jing Yang, Amanda McGovern, Paul Martin, Kate Duffus, Xiangyu Ge, Peyman Zarrineh, Andrew P Morris, Antony Adamson, Peter Fraser, Magnus Rattray & Stephen Eyre*.\n",
    "\n",
    "Author : *Jing Yang*  <br />\n",
    "Date: 01/05/2020 <br />\n",
    "For any questions about the code, please drop me a line at Jing.Yang@manchester.ac.uk"
   ]
  },
  {
   "cell_type": "markdown",
   "metadata": {},
   "source": [
    "### load packages"
   ]
  },
  {
   "cell_type": "code",
   "execution_count": 3,
   "metadata": {},
   "outputs": [
    {
     "name": "stderr",
     "output_type": "stream",
     "text": [
      "── \u001b[1mAttaching packages\u001b[22m ─────────────────────────────────────── tidyverse 1.3.0 ──\n",
      "\n",
      "\u001b[32m✔\u001b[39m \u001b[34mggplot2\u001b[39m 3.3.0     \u001b[32m✔\u001b[39m \u001b[34mpurrr  \u001b[39m 0.3.4\n",
      "\u001b[32m✔\u001b[39m \u001b[34mtibble \u001b[39m 3.0.1     \u001b[32m✔\u001b[39m \u001b[34mdplyr  \u001b[39m 0.8.5\n",
      "\u001b[32m✔\u001b[39m \u001b[34mtidyr  \u001b[39m 1.1.0     \u001b[32m✔\u001b[39m \u001b[34mstringr\u001b[39m 1.4.0\n",
      "\u001b[32m✔\u001b[39m \u001b[34mreadr  \u001b[39m 1.3.1     \u001b[32m✔\u001b[39m \u001b[34mforcats\u001b[39m 0.5.0\n",
      "\n",
      "── \u001b[1mConflicts\u001b[22m ────────────────────────────────────────── tidyverse_conflicts() ──\n",
      "\u001b[31m✖\u001b[39m \u001b[34mdplyr\u001b[39m::\u001b[32mfilter()\u001b[39m masks \u001b[34mstats\u001b[39m::filter()\n",
      "\u001b[31m✖\u001b[39m \u001b[34mdplyr\u001b[39m::\u001b[32mlag()\u001b[39m    masks \u001b[34mstats\u001b[39m::lag()\n",
      "\n"
     ]
    }
   ],
   "source": [
    "library(reshape2)\n",
    "library(hicrep)\n",
    "library(tidyverse)\n"
   ]
  },
  {
   "cell_type": "code",
   "execution_count": 4,
   "metadata": {},
   "outputs": [],
   "source": [
    "times1 <- c(rep(c(0,20,40,60,180,220,240), each=4), rep(c(1200, 1380, 1420, 1440), each=2))\n"
   ]
  },
  {
   "cell_type": "markdown",
   "metadata": {},
   "source": [
    "### load AB compartment data for both replicates"
   ]
  },
  {
   "cell_type": "code",
   "execution_count": 5,
   "metadata": {},
   "outputs": [],
   "source": [
    "T0_rep1 <- read.table('https://personalpages.manchester.ac.uk/staff/jing.yang/Data/HiC/data/Compartment_T0_rep1_40x80kb.PC1.txt', header=F, row.names=1)\n",
    "T20_rep1 <- read.table('https://personalpages.manchester.ac.uk/staff/jing.yang/Data/HiC/data/Compartment_T20_rep1_40x80kb.PC1.txt', header=F, row.names=1)\n",
    "T1H_rep1 <- read.table('https://personalpages.manchester.ac.uk/staff/jing.yang/Data/HiC/data/Compartment_T1H_rep1_40x80kb.PC1.txt', header=F, row.names=1)\n",
    "T4H_rep1 <- read.table('https://personalpages.manchester.ac.uk/staff/jing.yang/Data/HiC/data/Compartment_T4H_rep1_40x80kb.PC1.txt', header=F, row.names=1)\n",
    "T24H_rep1 <- read.table('https://personalpages.manchester.ac.uk/staff/jing.yang/Data/HiC/data/Compartment_T24H_rep1_40x80kb.PC1.txt', header=F, row.names=1)"
   ]
  },
  {
   "cell_type": "code",
   "execution_count": 6,
   "metadata": {},
   "outputs": [],
   "source": [
    "T0_rep2 <- read.table('https://personalpages.manchester.ac.uk/staff/jing.yang/Data/HiC/data/Compartment_T0_rep2_40x80kb.PC1.txt', header=F, row.names=1)\n",
    "T20_rep2 <- read.table('https://personalpages.manchester.ac.uk/staff/jing.yang/Data/HiC/data/Compartment_T20_rep2_40x80kb.PC1.txt', header=F, row.names=1)\n",
    "T1H_rep2 <- read.table('https://personalpages.manchester.ac.uk/staff/jing.yang/Data/HiC/data/Compartment_T1H_rep2_40x80kb.PC1.txt', header=F, row.names=1)\n",
    "T4H_rep2 <- read.table('https://personalpages.manchester.ac.uk/staff/jing.yang/Data/HiC/data/Compartment_T4H_rep2_40x80kb.PC1.txt', header=F, row.names=1)"
   ]
  },
  {
   "cell_type": "code",
   "execution_count": 7,
   "metadata": {},
   "outputs": [],
   "source": [
    "names(T0_rep1) <- c('chr','start','end','strand','T01')\n",
    "names(T0_rep2) <- c('chr','start','end','strand','T02')\n",
    "names(T20_rep1) <- c('chr','start','end','strand','T201')\n",
    "names(T20_rep2) <- c('chr','start','end','strand','T202')\n",
    "names(T1H_rep1) <- c('chr','start','end','strand','T1H1')\n",
    "names(T1H_rep2) <- c('chr','start','end','strand','T1H2')\n",
    "names(T4H_rep1) <- c('chr','start','end','strand','T4H1')\n",
    "names(T4H_rep2) <- c('chr','start','end','strand','T4H2')\n",
    "names(T24H_rep1) <- c('chr','start','end','strand','T24H1')\n"
   ]
  },
  {
   "cell_type": "markdown",
   "metadata": {},
   "source": [
    "### calculate the correlations between AB compartment data"
   ]
  },
  {
   "cell_type": "code",
   "execution_count": 8,
   "metadata": {},
   "outputs": [],
   "source": [
    "data_T0 <- merge(T0_rep1, T0_rep2)\n",
    "data_T20 <- merge(T20_rep1, T20_rep2)\n",
    "data_T1H <- merge(T1H_rep1, T1H_rep2)\n",
    "data_T4H <- merge(T4H_rep1, T4H_rep2)\n",
    "data_T24H <- T24H_rep1\n"
   ]
  },
  {
   "cell_type": "code",
   "execution_count": 9,
   "metadata": {},
   "outputs": [],
   "source": [
    "data <- merge(merge(merge(merge(data_T0, data_T20),data_T1H), data_T4H), data_T24H)\n",
    "data_sorted <- data[with(data, order(chr, start)),]"
   ]
  },
  {
   "cell_type": "code",
   "execution_count": 10,
   "metadata": {},
   "outputs": [],
   "source": [
    "label1 <- 'Within Replicate 1'\n",
    "label2 <- 'Within Replicate 2'\n",
    "label12 <- 'Between Replicates 1&2'"
   ]
  },
  {
   "cell_type": "code",
   "execution_count": 10,
   "metadata": {},
   "outputs": [],
   "source": [
    "corr0 <- c( cor(data_sorted$T01, data_sorted$T02), cor(data_sorted$T201, data_sorted$T202),\n",
    "            cor(data_sorted$T1H1, data_sorted$T1H2), cor(data_sorted$T4H1, data_sorted$T4H2))\n",
    "label0 <- c(label12, label12, label12, label12)\n",
    "corr20 <- c( cor(data_sorted$T01, data_sorted$T202), cor(data_sorted$T02, data_sorted$T201),\n",
    "            cor(data_sorted$T01, data_sorted$T201), cor(data_sorted$T02, data_sorted$T202))\n",
    "label20 <- c(label12, label12, label1, label2)\n",
    "corr40 <- c( cor(data_sorted$T202, data_sorted$T1H1), cor(data_sorted$T201, data_sorted$T1H2),\n",
    "            cor(data_sorted$T1H1, data_sorted$T201), cor(data_sorted$T202, data_sorted$T1H2))\n",
    "label40 <- c(label12, label12, label1, label2)\n",
    "corr60 <- c( cor(data_sorted$T01, data_sorted$T1H2), cor(data_sorted$T02, data_sorted$T1H2),            \n",
    "            cor(data_sorted$T01, data_sorted$T1H1), cor(data_sorted$T02, data_sorted$T1H1))\n",
    "label60 <- c(label12, label2, label1, label12)\n",
    "corr220 <- c( cor(data_sorted$T201, data_sorted$T4H2), cor(data_sorted$T202, data_sorted$T4H2),\n",
    "            cor(data_sorted$T201, data_sorted$T4H1), cor(data_sorted$T202, data_sorted$T4H1))\n",
    "label220 <- c(label12, label2, label1, label12)\n",
    "corr180 <- c( cor(data_sorted$T1H1, data_sorted$T4H2), cor(data_sorted$T1H2, data_sorted$T4H2),\n",
    "            cor(data_sorted$T1H1, data_sorted$T4H1), cor(data_sorted$T1H2, data_sorted$T4H1))\n",
    "label180 <- c(label12, label2, label1, label12)\n",
    "corr240 <- c( cor(data_sorted$T01, data_sorted$T4H2), cor(data_sorted$T02, data_sorted$T4H2),\n",
    "            cor(data_sorted$T01, data_sorted$T4H1), cor(data_sorted$T02, data_sorted$T4H1))\n",
    "label240 <- c(label12, label2, label1, label12)\n",
    "corr1440 <- c(cor(data_sorted$T01, data_sorted$T24H1), cor(data_sorted$T02, data_sorted$T24H1))\n",
    "label1440 <- c(label1, label12)\n",
    "corr1420 <- c(cor(data_sorted$T201, data_sorted$T24H1), cor(data_sorted$T202, data_sorted$T24H1))\n",
    "label1420 <- c(label1, label12)\n",
    "corr1380 <- c(cor(data_sorted$T1H1, data_sorted$T24H1), cor(data_sorted$T1H2, data_sorted$T24H1))\n",
    "label1380 <- c(label1, label12)\n",
    "corr1200 <- c(cor(data_sorted$T4H1, data_sorted$T24H1), cor(data_sorted$T4H2, data_sorted$T24H1))\n",
    "label1200 <- c(label1, label12)\n"
   ]
  },
  {
   "cell_type": "code",
   "execution_count": 11,
   "metadata": {},
   "outputs": [],
   "source": [
    "data_forplot_AB <- data.frame(x=times1, y=c(corr0, corr20, corr40, corr60, corr180, corr220, corr240, \n",
    "                                         corr1200, corr1380, corr1420, corr1440),\n",
    "                          label=c(label0, label20, label40, label60, label180, label220, label240, \n",
    "                                  label1200, label1380, label1420, label1440))\n",
    "save(data_forplot_AB, file='data/AC_correlation.RData')"
   ]
  },
  {
   "cell_type": "markdown",
   "metadata": {},
   "source": [
    "### calculate the correlation for HiC data. This step is very slow, I will just use the results I saved before for the plotting"
   ]
  },
  {
   "cell_type": "markdown",
   "metadata": {},
   "source": [
    "### read data for HiC correlation calculation"
   ]
  },
  {
   "cell_type": "code",
   "execution_count": null,
   "metadata": {},
   "outputs": [],
   "source": [
    "### not run, very slow\n",
    "T0_rep1_hic <- read.table('https://personalpages.manchester.ac.uk/staff/jing.yang/Data/HiC/data/HiC_T0_40k_rep1_chr1.txt', header=T)\n",
    "T20_rep1_hic <- read.table('https://personalpages.manchester.ac.uk/staff/jing.yang/Data/HiC/data/HiC_T20_40k_rep1_chr1.txt', header=T)\n",
    "T1H_rep1_hic <- read.table('https://personalpages.manchester.ac.uk/staff/jing.yang/Data/HiC/data/HiC_T1H_40k_rep1_chr1.txt', header=T)\n",
    "T4H_rep1_hic <- read.table('https://personalpages.manchester.ac.uk/staff/jing.yang/Data/HiC/data/HiC_T4H_40k_rep1_chr1.txt', header=T)\n",
    "T24H_rep1_hic <- read.table('https://personalpages.manchester.ac.uk/staff/jing.yang/Data/HiC/data/HiC_T24H_40k_rep1_chr1.txt', header=T)\n",
    "T0_rep2_hic <- read.table('https://personalpages.manchester.ac.uk/staff/jing.yang/Data/HiC/data/HiC_T0_40k_rep2_chr1.txt', header=T)\n",
    "T20_rep2_hic <- read.table('https://personalpages.manchester.ac.uk/staff/jing.yang/Data/HiC/data/HiC_T20_40k_rep2_chr1.txt', header=T)\n",
    "T1H_rep2_hic <- read.table('https://personalpages.manchester.ac.uk/staff/jing.yang/Data/HiC/data/HiC_T1H_40k_rep2_chr1.txt', header=T)\n",
    "T4H_rep2_hic <- read.table('https://personalpages.manchester.ac.uk/staff/jing.yang/Data/HiC/data/HiC_T4H_40k_rep2_chr1.txt', header=T)\n",
    "\n"
   ]
  },
  {
   "cell_type": "code",
   "execution_count": null,
   "metadata": {},
   "outputs": [],
   "source": [
    "### not run, very slow\n",
    "name0 <- data.frame(firstvar = c('T0_rep1', 'T20_rep1', 'T1H_rep1', 'T4H_rep1'),\n",
    "                   secondvar = c('T0_rep2', 'T20_rep2', 'T1H_rep2', 'T4H_rep2'))\n",
    "label_hic0 <- c(label12, label12, label12, label12)\n",
    "\n",
    "name20 <- data.frame(firstvar = c('T0_rep1', 'T0_rep1', 'T0_rep2', 'T0_rep2'),\n",
    "                  secondvar = c('T20_rep1', 'T20_rep2', 'T20_rep1', 'T20_rep2'))\n",
    "label20 <- c(label1, label12, label12, label2)\n",
    "\n",
    "name40 <- data.frame(firstvar = c('T20_rep1','T20_rep1','T20_rep2','T20_rep2'),\n",
    "               secondvar = c('T1H_rep1', 'T1H_rep2', 'T1H_rep1', 'T1H_rep2'))\n",
    "label_hic40 <- c(label1, label12, label12, label2)\n",
    "\n",
    "name60 <- data.frame(firstvar = c('T0_rep1', 'T0_rep1', 'T0_rep2', 'T0_rep2'),\n",
    "                  secondvar = c('T1H_rep1', 'T1H_rep2', 'T1H_rep1', 'T1H_rep2'))\n",
    "label_hic60 <- c(label1, label12, label12, label2)\n",
    "\n",
    "name180 <- data.frame(firstvar=c('T1H_rep1', 'T1H_rep1', 'T1H_rep2', 'T1H_rep2'),\n",
    "                  secondvar = c('T4H_rep1', 'T4H_rep2', 'T4H_rep1', 'T4H_rep2'))\n",
    "label_hic180 <- c(label1, label12, label12, label2)\n",
    "\n",
    "name220 <- data.frame(firstvar=c('T20_rep1', 'T20_rep1', 'T20_rep2', 'T20_rep2'),\n",
    "                  secondvar = c('T4H_rep1', 'T4H_rep2', 'T4H_rep1', 'T4H_rep2'))\n",
    "label_hic220 <- c(label1, label12, label12, label2)\n",
    "\n",
    "name240 <- data.frame(firstvar = c('T0_rep1', 'T0_rep1', 'T0_rep2', 'T0_rep2'),\n",
    "                  secondvar = c('T4H_rep1', 'T4H_rep2', 'T4H_rep1', 'T4H_rep2'))\n",
    "label_hic240 <- c(label1, label12, label12, label2)\n",
    "\n",
    "name1440 <- data.frame(firstvar = c('T0_rep1', 'T0_rep2'),\n",
    "                    secondvar = c('T24H_rep1', 'T24H_rep1'))\n",
    "label_hic1440 <- c(label1, label12)\n",
    "\n",
    "name1420 <- data.frame(firstvar = c('T20_rep1', 'T20_rep2'),\n",
    "                    secondvar = c('T24H_rep1', 'T24H_rep1'))\n",
    "label_hic1420 <- c(label1, label12)\n",
    "\n",
    "name1380 <- data.frame(firstvar = c('T1H_rep1', 'T1H_rep2'),\n",
    "                    secondvar = c('T24H_rep1', 'T24H_rep1'))\n",
    "label_hic1380 <- c(label1, label12)\n",
    "\n",
    "name1200 <- data.frame(firstvar = c('T4H_rep1', 'T4H_rep2'),\n",
    "                    secondvar = c('T24H_rep1', 'T24H_rep1'))\n",
    "label_hic1200 <- c(label1, label12)\n",
    "\n",
    "name0 <- lapply(name0,as.character)\n",
    "name20 <- lapply(name20,as.character)\n",
    "name40 <- lapply(name40,as.character)\n",
    "name60 <- lapply(name60,as.character)\n",
    "name180 <- lapply(name180,as.character)\n",
    "name220 <- lapply(name220,as.character)\n",
    "name240 <- lapply(name240,as.character)\n",
    "name1440 <- lapply(name1440,as.character)\n",
    "name1380 <- lapply(name1380,as.character)\n",
    "name1420 <- lapply(name1420,as.character)\n",
    "name1200 <- lapply(name1200,as.character)\n",
    "\n"
   ]
  },
  {
   "cell_type": "code",
   "execution_count": null,
   "metadata": {},
   "outputs": [],
   "source": [
    "### do not run, very slow\n",
    "h_hat <- 1\n",
    "corr0_hic <- numeric(0)\n",
    "for (ii in 1:4) {\n",
    "  corr_prep <- prep(eval(as.name(name0$firstvar[ii])), eval(as.name(name0$secondvar[ii])), 40000, h_hat, 100000)\n",
    "  corr0_hic = paste(corr0_hic, get.scc(corr_prep, 40000, 100000)$scc)\n",
    "  #print(corr0)\n",
    "}\n",
    "corr20_hic <- numeric(0)\n",
    "for (ii in 1:4) {\n",
    "  corr_prep <- prep(eval(as.name(name20$firstvar[ii])), eval(as.name(name20$secondvar[ii])), 40000, h_hat, 100000)\n",
    "  corr20_hic = paste(corr20_hic, get.scc(corr_prep, 40000, 100000)$scc)\n",
    "  #print(corr0)\n",
    "}\n",
    "corr40_hic <- numeric(0)\n",
    "for (ii in 1:4) {\n",
    "  corr_prep <- prep(eval(as.name(name40$firstvar[ii])), eval(as.name(name40$secondvar[ii])), 40000, h_hat, 100000)\n",
    "  corr40_hic = paste(corr40_hic, get.scc(corr_prep, 40000, 100000)$scc)\n",
    "  #print(corr0)\n",
    "}\n",
    "corr60_hic <- numeric(0)\n",
    "for (ii in 1:4) {\n",
    "  corr_prep <- prep(eval(as.name(name60$firstvar[ii])), eval(as.name(name60$secondvar[ii])), 40000, h_hat, 100000)\n",
    "  corr60_hic = paste(corr60_hic, get.scc(corr_prep, 40000, 100000)$scc)\n",
    "  #print(corr0)\n",
    "}\n",
    "corr180_hic <- numeric(0)\n",
    "for (ii in 1:4) {\n",
    "  corr_prep <- prep(eval(as.name(name180$firstvar[ii])), eval(as.name(name180$secondvar[ii])), 40000, h_hat, 100000)\n",
    "  corr180_hic = paste(corr180_hic, get.scc(corr_prep, 40000, 100000)$scc)\n",
    "  #print(corr0)\n",
    "}\n",
    "corr220_hic <- numeric(0)\n",
    "for (ii in 1:4) {\n",
    "  corr_prep <- prep(eval(as.name(name220$firstvar[ii])), eval(as.name(name220$secondvar[ii])), 40000, h_hat, 100000)\n",
    "  corr220_hic = paste(corr220_hic, get.scc(corr_prep, 40000, 100000)$scc)\n",
    "  #print(corr0)\n",
    "}\n",
    "corr240_hic <- numeric(0)\n",
    "for (ii in 1:4) {\n",
    "  corr_prep <- prep(eval(as.name(name240$firstvar[ii])), eval(as.name(name240$secondvar[ii])), 40000, h_hat, 100000)\n",
    "  corr240_hic = paste(corr240_hic, get.scc(corr_prep, 40000, 100000)$scc)\n",
    "  #print(corr0)\n",
    "}\n",
    "corr1200_hic <- numeric(0)\n",
    "for (ii in 1:2) {\n",
    "  corr_prep <- prep(eval(as.name(name1200$firstvar[ii])), eval(as.name(name1200$secondvar[ii])), 40000, h_hat, 100000)\n",
    "  corr1200_hic = paste(corr1200_hic, get.scc(corr_prep, 40000, 100000)$scc)\n",
    "  #print(corr0)\n",
    "}\n",
    "corr1380_hic <- numeric(0)\n",
    "for (ii in 1:2) {\n",
    "  corr_prep <- prep(eval(as.name(name1380$firstvar[ii])), eval(as.name(name1380$secondvar[ii])), 40000, h_hat, 100000)\n",
    "  corr1380_hic = paste(corr1380_hic, get.scc(corr_prep, 40000, 100000)$scc)\n",
    "  #print(corr0)\n",
    "}\n",
    "corr1420_hic <- numeric(0)\n",
    "for (ii in 1:2) {\n",
    "  corr_prep <- prep(eval(as.name(name1420$firstvar[ii])), eval(as.name(name1420$secondvar[ii])), 40000, h_hat, 100000)\n",
    "  corr1420_hic = paste(corr1420_hic, get.scc(corr_prep, 40000, 100000)$scc)\n",
    "  #print(corr0)\n",
    "}\n",
    "corr1440_hic <- numeric(0)\n",
    "for (ii in 1:2) {\n",
    "  corr_prep <- prep(eval(as.name(name1440$firstvar[ii])), eval(as.name(name1440$secondvar[ii])), 40000, h_hat, 100000)\n",
    "  corr1440_hic = paste(corr1440_hic, get.scc(corr_prep, 40000, 100000)$scc)\n",
    "  #print(corr0)\n",
    "}\n",
    "data_forplot_hic <- data.frame(x=times1, y=c(corr0_hic, corr20_hic, corr40_hic, corr60_hic, corr180_hic, \n",
    "                                         corr220_hic, corr240_hic, corr1200_hic, corr1380_hic, corr1420_hic, corr1440_hic),\n",
    "                          label=c(label_hic0, label20, label_hic40, label_hic60, label_hic180, label_hic220, label_hic240, \n",
    "                                  label_hic1200, label_hic1380, label_hic1420, label_hic1440))\n",
    "save(data_forplot_hic,file='data/HiC_correlation_hhat1.RData')\n"
   ]
  },
  {
   "cell_type": "code",
   "execution_count": 12,
   "metadata": {},
   "outputs": [],
   "source": [
    "load('data/HiC_correlation_hhat1.RData')\n",
    "load('data/AB_correlation.RData')"
   ]
  },
  {
   "cell_type": "code",
   "execution_count": 13,
   "metadata": {},
   "outputs": [],
   "source": [
    "data_forplot_AB$category <- 'A/B compartment'\n",
    "data_forplot_hic$category <- 'Hi-C'\n",
    "data_forplot <- rbind(data_forplot_AB, data_forplot_hic)\n",
    "data_forplot$category <- factor(data_forplot$category, levels=c('Hi-C','A/B compartment'))"
   ]
  },
  {
   "cell_type": "code",
   "execution_count": 14,
   "metadata": {},
   "outputs": [
    {
     "name": "stderr",
     "output_type": "stream",
     "text": [
      "`geom_smooth()` using formula 'y ~ x'\n",
      "\n"
     ]
    },
    {
     "data": {
      "image/png": "[encoded data removed]",
      "text/plain": [
       "plot without title"
      ]
     },
     "metadata": {
      "image/png": {
       "height": 420,
       "width": 420
      }
     },
     "output_type": "display_data"
    }
   ],
   "source": [
    "ggplot(data_forplot, aes(x=x, y=y)) + geom_point(aes(color=label), size=2.5) + \n",
    "geom_smooth(method=\"glm\", color='black', se=FALSE, linetype='dashed') +\n",
    "xlab('Time difference (mins)') + ylab('Correlation coefficient') + \n",
    "#ggtitle('Correlations between A/B compartment (Fig. 2c)') +\n",
    "#scale_color_brewer('Set4') +\n",
    "scale_y_continuous(limits=c(NA,1))+ xlim(c(NA,1550)) +\n",
    "theme(\n",
    "  panel.grid.major = element_blank(),\n",
    "  panel.grid.minor = element_blank(),\n",
    "  panel.background = element_blank(),\n",
    "  plot.title = element_text(hjust=0.5),\n",
    "  legend.title=element_blank(), legend.position='bottom',\n",
    "  axis.title=element_text(size=12,face=\"bold\", hjust=0.5),\n",
    "  axis.text.x = element_text(hjust = 0.5, vjust=0.5, size=10, face=\"bold\"),\n",
    "  axis.text.y = element_text(size=10, face=\"bold\"),\n",
    "  axis.line = element_line(colour = \"black\"))  + guides(fill=guide_legend(label.hjust=0.5)) + \n",
    "  ggtitle('Fig. 2b and 2c') + facet_wrap(category~., scales='free_y')\n",
    "\n"
   ]
  },
  {
   "cell_type": "code",
   "execution_count": null,
   "metadata": {},
   "outputs": [],
   "source": []
  }
 ],
 "metadata": {
  "kernelspec": {
   "display_name": "R",
   "language": "R",
   "name": "ir"
  },
  "language_info": {
   "codemirror_mode": "r",
   "file_extension": ".r",
   "mimetype": "text/x-r-source",
   "name": "R",
   "pygments_lexer": "r",
   "version": "3.6.3"
  }
 },
 "nbformat": 4,
 "nbformat_minor": 2
}
