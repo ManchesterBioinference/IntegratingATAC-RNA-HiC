{
 "cells": [
  {
   "cell_type": "markdown",
   "metadata": {},
   "source": [
    "## Jupyter notebook for plotting PCA of RNA-seq time course data\n",
    "\n",
    "This notebook is used to plot the PCA result of RNA-seq time couse data used in the paper **\\\"Analysis of chromatin organinization and gene expression in T cells identifies functional genes for rheumatoid arthritis\\\"** by *Jing Yang, Amanda McGovern, Paul Martin, Kate Duffus, Xiangyu Ge, Peyman Zarrineh, Andrew P Morris, Antony Adamson, Peter Fraser, Magnus Rattray & Stephen Eyre*\n",
    "\n",
    "Author : *Jing Yang*  <br />\n",
    "Date: 01-05-2019 <br />\n",
    "For any questions about the code, please drop me a line at Jing.Yang@manchester.ac.uk"
   ]
  },
  {
   "cell_type": "code",
   "execution_count": 1,
   "metadata": {},
   "outputs": [
    {
     "name": "stderr",
     "output_type": "stream",
     "text": [
      "── \u001b[1mAttaching packages\u001b[22m ─────────────────────────────────────── tidyverse 1.3.0 ──\n",
      "\n",
      "\u001b[32m✔\u001b[39m \u001b[34mggplot2\u001b[39m 3.2.1     \u001b[32m✔\u001b[39m \u001b[34mpurrr  \u001b[39m 0.3.3\n",
      "\u001b[32m✔\u001b[39m \u001b[34mtibble \u001b[39m 2.1.3     \u001b[32m✔\u001b[39m \u001b[34mdplyr  \u001b[39m 0.8.4\n",
      "\u001b[32m✔\u001b[39m \u001b[34mtidyr  \u001b[39m 1.0.2     \u001b[32m✔\u001b[39m \u001b[34mstringr\u001b[39m 1.4.0\n",
      "\u001b[32m✔\u001b[39m \u001b[34mreadr  \u001b[39m 1.3.1     \u001b[32m✔\u001b[39m \u001b[34mforcats\u001b[39m 0.5.0\n",
      "\n",
      "── \u001b[1mConflicts\u001b[22m ────────────────────────────────────────── tidyverse_conflicts() ──\n",
      "\u001b[31m✖\u001b[39m \u001b[34mdplyr\u001b[39m::\u001b[32mfilter()\u001b[39m masks \u001b[34mstats\u001b[39m::filter()\n",
      "\u001b[31m✖\u001b[39m \u001b[34mdplyr\u001b[39m::\u001b[32mlag()\u001b[39m    masks \u001b[34mstats\u001b[39m::lag()\n",
      "\n",
      "\n",
      "Attaching package: ‘scales’\n",
      "\n",
      "\n",
      "The following object is masked from ‘package:purrr’:\n",
      "\n",
      "    discard\n",
      "\n",
      "\n",
      "The following object is masked from ‘package:readr’:\n",
      "\n",
      "    col_factor\n",
      "\n",
      "\n"
     ]
    }
   ],
   "source": [
    "library(tidyverse)\n",
    "library(scales)"
   ]
  },
  {
   "cell_type": "code",
   "execution_count": 2,
   "metadata": {},
   "outputs": [],
   "source": [
    "rnaseq_data <- read.csv('data/gene_normalized.csv', header=T)"
   ]
  },
  {
   "cell_type": "code",
   "execution_count": 3,
   "metadata": {},
   "outputs": [
    {
     "data": {
      "text/html": [
       "<style>\n",
       ".list-inline {list-style: none; margin:0; padding: 0}\n",
       ".list-inline>li {display: inline-block}\n",
       ".list-inline>li:not(:last-child)::after {content: \"\\00b7\"; padding: 0 .5ex}\n",
       "</style>\n",
       "<ol class=list-inline><li>18162</li><li>18</li></ol>\n"
      ],
      "text/latex": [
       "\\begin{enumerate*}\n",
       "\\item 18162\n",
       "\\item 18\n",
       "\\end{enumerate*}\n"
      ],
      "text/markdown": [
       "1. 18162\n",
       "2. 18\n",
       "\n",
       "\n"
      ],
      "text/plain": [
       "[1] 18162    18"
      ]
     },
     "metadata": {},
     "output_type": "display_data"
    }
   ],
   "source": [
    "dim(rnaseq_data)"
   ]
  },
  {
   "cell_type": "code",
   "execution_count": 4,
   "metadata": {},
   "outputs": [
    {
     "data": {
      "text/html": [
       "<table>\n",
       "<caption>A data.frame: 6 × 18</caption>\n",
       "<thead>\n",
       "\t<tr><th></th><th scope=col>ENSG</th><th scope=col>chr</th><th scope=col>ENSGStart</th><th scope=col>ENSGEnd</th><th scope=col>T01</th><th scope=col>T201</th><th scope=col>T601</th><th scope=col>T2H1</th><th scope=col>T4H1</th><th scope=col>T24H1</th><th scope=col>T02</th><th scope=col>T202</th><th scope=col>T602</th><th scope=col>T2H2</th><th scope=col>T4H2</th><th scope=col>T24H2</th><th scope=col>LR</th><th scope=col>BIC_difference</th></tr>\n",
       "\t<tr><th></th><th scope=col>&lt;fct&gt;</th><th scope=col>&lt;fct&gt;</th><th scope=col>&lt;int&gt;</th><th scope=col>&lt;int&gt;</th><th scope=col>&lt;dbl&gt;</th><th scope=col>&lt;dbl&gt;</th><th scope=col>&lt;dbl&gt;</th><th scope=col>&lt;dbl&gt;</th><th scope=col>&lt;dbl&gt;</th><th scope=col>&lt;dbl&gt;</th><th scope=col>&lt;dbl&gt;</th><th scope=col>&lt;dbl&gt;</th><th scope=col>&lt;dbl&gt;</th><th scope=col>&lt;dbl&gt;</th><th scope=col>&lt;dbl&gt;</th><th scope=col>&lt;dbl&gt;</th><th scope=col>&lt;dbl&gt;</th><th scope=col>&lt;dbl&gt;</th></tr>\n",
       "</thead>\n",
       "<tbody>\n",
       "\t<tr><th scope=row>1</th><td>ENSG00000000003</td><td>chrX </td><td>100627109</td><td>100639991</td><td> 5.046729</td><td> 5.072507</td><td> 4.187041</td><td> 3.384345</td><td> 1.992315</td><td> 5.303512</td><td> 5.186265</td><td> 3.694870</td><td> 3.300810</td><td> 5.258975</td><td> 4.232275</td><td> 4.292015</td><td> 2.71693e-04</td><td>  1.792030</td></tr>\n",
       "\t<tr><th scope=row>2</th><td>ENSG00000000419</td><td>chr20</td><td> 50934867</td><td> 50958555</td><td>10.561266</td><td>11.070185</td><td>10.792894</td><td>10.340013</td><td>10.281499</td><td>10.397641</td><td>11.041590</td><td>11.039045</td><td>10.774906</td><td>10.786872</td><td>10.595947</td><td>10.732970</td><td>-1.23360e+00</td><td>  0.558163</td></tr>\n",
       "\t<tr><th scope=row>3</th><td>ENSG00000000457</td><td>chr1 </td><td>169849631</td><td>169894267</td><td> 8.079070</td><td> 7.592868</td><td> 9.034333</td><td> 9.332348</td><td> 9.361537</td><td> 9.004926</td><td> 7.994516</td><td> 8.168912</td><td> 9.423026</td><td> 9.461916</td><td> 9.276741</td><td> 8.844056</td><td>-1.14292e+01</td><td> -9.637490</td></tr>\n",
       "\t<tr><th scope=row>4</th><td>ENSG00000000460</td><td>chr1 </td><td>169662007</td><td>169854080</td><td> 9.034114</td><td> 8.666174</td><td>10.001805</td><td>12.874117</td><td>14.223477</td><td>10.850553</td><td> 8.296008</td><td> 8.351536</td><td>10.062440</td><td>11.661871</td><td>13.911382</td><td>11.332892</td><td>-1.89647e+01</td><td>-17.173000</td></tr>\n",
       "\t<tr><th scope=row>5</th><td>ENSG00000000938</td><td>chr1 </td><td> 27612064</td><td> 27635277</td><td> 9.684972</td><td> 9.124017</td><td> 9.117169</td><td> 9.031949</td><td> 9.403388</td><td> 7.282596</td><td> 5.487926</td><td> 5.924802</td><td> 5.361296</td><td> 4.755835</td><td> 5.193376</td><td> 2.497586</td><td> 3.02460e-04</td><td>  1.792060</td></tr>\n",
       "\t<tr><th scope=row>6</th><td>ENSG00000000971</td><td>chr1 </td><td>196651878</td><td>196747504</td><td> 6.365152</td><td> 5.434698</td><td> 5.403117</td><td> 5.276815</td><td> 4.718054</td><td> 4.365235</td><td> 5.560319</td><td> 5.948259</td><td> 5.642737</td><td> 5.048260</td><td> 4.982189</td><td> 3.974231</td><td>-1.15788e+01</td><td> -9.787020</td></tr>\n",
       "</tbody>\n",
       "</table>\n"
      ],
      "text/latex": [
       "A data.frame: 6 × 18\n",
       "\\begin{tabular}{r|llllllllllllllllll}\n",
       "  & ENSG & chr & ENSGStart & ENSGEnd & T01 & T201 & T601 & T2H1 & T4H1 & T24H1 & T02 & T202 & T602 & T2H2 & T4H2 & T24H2 & LR & BIC\\_difference\\\\\n",
       "  & <fct> & <fct> & <int> & <int> & <dbl> & <dbl> & <dbl> & <dbl> & <dbl> & <dbl> & <dbl> & <dbl> & <dbl> & <dbl> & <dbl> & <dbl> & <dbl> & <dbl>\\\\\n",
       "\\hline\n",
       "\t1 & ENSG00000000003 & chrX  & 100627109 & 100639991 &  5.046729 &  5.072507 &  4.187041 &  3.384345 &  1.992315 &  5.303512 &  5.186265 &  3.694870 &  3.300810 &  5.258975 &  4.232275 &  4.292015 &  2.71693e-04 &   1.792030\\\\\n",
       "\t2 & ENSG00000000419 & chr20 &  50934867 &  50958555 & 10.561266 & 11.070185 & 10.792894 & 10.340013 & 10.281499 & 10.397641 & 11.041590 & 11.039045 & 10.774906 & 10.786872 & 10.595947 & 10.732970 & -1.23360e+00 &   0.558163\\\\\n",
       "\t3 & ENSG00000000457 & chr1  & 169849631 & 169894267 &  8.079070 &  7.592868 &  9.034333 &  9.332348 &  9.361537 &  9.004926 &  7.994516 &  8.168912 &  9.423026 &  9.461916 &  9.276741 &  8.844056 & -1.14292e+01 &  -9.637490\\\\\n",
       "\t4 & ENSG00000000460 & chr1  & 169662007 & 169854080 &  9.034114 &  8.666174 & 10.001805 & 12.874117 & 14.223477 & 10.850553 &  8.296008 &  8.351536 & 10.062440 & 11.661871 & 13.911382 & 11.332892 & -1.89647e+01 & -17.173000\\\\\n",
       "\t5 & ENSG00000000938 & chr1  &  27612064 &  27635277 &  9.684972 &  9.124017 &  9.117169 &  9.031949 &  9.403388 &  7.282596 &  5.487926 &  5.924802 &  5.361296 &  4.755835 &  5.193376 &  2.497586 &  3.02460e-04 &   1.792060\\\\\n",
       "\t6 & ENSG00000000971 & chr1  & 196651878 & 196747504 &  6.365152 &  5.434698 &  5.403117 &  5.276815 &  4.718054 &  4.365235 &  5.560319 &  5.948259 &  5.642737 &  5.048260 &  4.982189 &  3.974231 & -1.15788e+01 &  -9.787020\\\\\n",
       "\\end{tabular}\n"
      ],
      "text/markdown": [
       "\n",
       "A data.frame: 6 × 18\n",
       "\n",
       "| <!--/--> | ENSG &lt;fct&gt; | chr &lt;fct&gt; | ENSGStart &lt;int&gt; | ENSGEnd &lt;int&gt; | T01 &lt;dbl&gt; | T201 &lt;dbl&gt; | T601 &lt;dbl&gt; | T2H1 &lt;dbl&gt; | T4H1 &lt;dbl&gt; | T24H1 &lt;dbl&gt; | T02 &lt;dbl&gt; | T202 &lt;dbl&gt; | T602 &lt;dbl&gt; | T2H2 &lt;dbl&gt; | T4H2 &lt;dbl&gt; | T24H2 &lt;dbl&gt; | LR &lt;dbl&gt; | BIC_difference &lt;dbl&gt; |\n",
       "|---|---|---|---|---|---|---|---|---|---|---|---|---|---|---|---|---|---|---|\n",
       "| 1 | ENSG00000000003 | chrX  | 100627109 | 100639991 |  5.046729 |  5.072507 |  4.187041 |  3.384345 |  1.992315 |  5.303512 |  5.186265 |  3.694870 |  3.300810 |  5.258975 |  4.232275 |  4.292015 |  2.71693e-04 |   1.792030 |\n",
       "| 2 | ENSG00000000419 | chr20 |  50934867 |  50958555 | 10.561266 | 11.070185 | 10.792894 | 10.340013 | 10.281499 | 10.397641 | 11.041590 | 11.039045 | 10.774906 | 10.786872 | 10.595947 | 10.732970 | -1.23360e+00 |   0.558163 |\n",
       "| 3 | ENSG00000000457 | chr1  | 169849631 | 169894267 |  8.079070 |  7.592868 |  9.034333 |  9.332348 |  9.361537 |  9.004926 |  7.994516 |  8.168912 |  9.423026 |  9.461916 |  9.276741 |  8.844056 | -1.14292e+01 |  -9.637490 |\n",
       "| 4 | ENSG00000000460 | chr1  | 169662007 | 169854080 |  9.034114 |  8.666174 | 10.001805 | 12.874117 | 14.223477 | 10.850553 |  8.296008 |  8.351536 | 10.062440 | 11.661871 | 13.911382 | 11.332892 | -1.89647e+01 | -17.173000 |\n",
       "| 5 | ENSG00000000938 | chr1  |  27612064 |  27635277 |  9.684972 |  9.124017 |  9.117169 |  9.031949 |  9.403388 |  7.282596 |  5.487926 |  5.924802 |  5.361296 |  4.755835 |  5.193376 |  2.497586 |  3.02460e-04 |   1.792060 |\n",
       "| 6 | ENSG00000000971 | chr1  | 196651878 | 196747504 |  6.365152 |  5.434698 |  5.403117 |  5.276815 |  4.718054 |  4.365235 |  5.560319 |  5.948259 |  5.642737 |  5.048260 |  4.982189 |  3.974231 | -1.15788e+01 |  -9.787020 |\n",
       "\n"
      ],
      "text/plain": [
       "  ENSG            chr   ENSGStart ENSGEnd   T01       T201      T601     \n",
       "1 ENSG00000000003 chrX  100627109 100639991  5.046729  5.072507  4.187041\n",
       "2 ENSG00000000419 chr20  50934867  50958555 10.561266 11.070185 10.792894\n",
       "3 ENSG00000000457 chr1  169849631 169894267  8.079070  7.592868  9.034333\n",
       "4 ENSG00000000460 chr1  169662007 169854080  9.034114  8.666174 10.001805\n",
       "5 ENSG00000000938 chr1   27612064  27635277  9.684972  9.124017  9.117169\n",
       "6 ENSG00000000971 chr1  196651878 196747504  6.365152  5.434698  5.403117\n",
       "  T2H1      T4H1      T24H1     T02       T202      T602      T2H2     \n",
       "1  3.384345  1.992315  5.303512  5.186265  3.694870  3.300810  5.258975\n",
       "2 10.340013 10.281499 10.397641 11.041590 11.039045 10.774906 10.786872\n",
       "3  9.332348  9.361537  9.004926  7.994516  8.168912  9.423026  9.461916\n",
       "4 12.874117 14.223477 10.850553  8.296008  8.351536 10.062440 11.661871\n",
       "5  9.031949  9.403388  7.282596  5.487926  5.924802  5.361296  4.755835\n",
       "6  5.276815  4.718054  4.365235  5.560319  5.948259  5.642737  5.048260\n",
       "  T4H2      T24H2     LR           BIC_difference\n",
       "1  4.232275  4.292015  2.71693e-04   1.792030    \n",
       "2 10.595947 10.732970 -1.23360e+00   0.558163    \n",
       "3  9.276741  8.844056 -1.14292e+01  -9.637490    \n",
       "4 13.911382 11.332892 -1.89647e+01 -17.173000    \n",
       "5  5.193376  2.497586  3.02460e-04   1.792060    \n",
       "6  4.982189  3.974231 -1.15788e+01  -9.787020    "
      ]
     },
     "metadata": {},
     "output_type": "display_data"
    }
   ],
   "source": [
    "head(rnaseq_data)"
   ]
  },
  {
   "cell_type": "code",
   "execution_count": 6,
   "metadata": {},
   "outputs": [],
   "source": [
    "idx0 <- c('T0','T20','T60','T2H','T4H','T24H')\n",
    "idx1 <- paste(idx0, '1', sep='')\n",
    "idx2 <- paste(idx0, '2', sep='')\n",
    "idx3 <- paste(idx0, '3', sep='')\n",
    "\n",
    "time0 <- c('0 min','20 mins','1 hrs', '2 hrs',' 4 hrs', '24 hrs')\n"
   ]
  },
  {
   "cell_type": "markdown",
   "metadata": {},
   "source": [
    "### plot the peaks and FRAP scrore for ATAC-seq data"
   ]
  },
  {
   "cell_type": "code",
   "execution_count": 7,
   "metadata": {},
   "outputs": [],
   "source": [
    "\n",
    "rnaseq_dataonly <- rnaseq_data[,c(idx1,idx2)]"
   ]
  },
  {
   "cell_type": "code",
   "execution_count": 8,
   "metadata": {
    "scrolled": true
   },
   "outputs": [
    {
     "data": {
      "text/html": [
       "<table>\n",
       "<caption>A data.frame: 6 × 12</caption>\n",
       "<thead>\n",
       "\t<tr><th></th><th scope=col>T01</th><th scope=col>T201</th><th scope=col>T601</th><th scope=col>T2H1</th><th scope=col>T4H1</th><th scope=col>T24H1</th><th scope=col>T02</th><th scope=col>T202</th><th scope=col>T602</th><th scope=col>T2H2</th><th scope=col>T4H2</th><th scope=col>T24H2</th></tr>\n",
       "\t<tr><th></th><th scope=col>&lt;dbl&gt;</th><th scope=col>&lt;dbl&gt;</th><th scope=col>&lt;dbl&gt;</th><th scope=col>&lt;dbl&gt;</th><th scope=col>&lt;dbl&gt;</th><th scope=col>&lt;dbl&gt;</th><th scope=col>&lt;dbl&gt;</th><th scope=col>&lt;dbl&gt;</th><th scope=col>&lt;dbl&gt;</th><th scope=col>&lt;dbl&gt;</th><th scope=col>&lt;dbl&gt;</th><th scope=col>&lt;dbl&gt;</th></tr>\n",
       "</thead>\n",
       "<tbody>\n",
       "\t<tr><th scope=row>1</th><td> 5.046729</td><td> 5.072507</td><td> 4.187041</td><td> 3.384345</td><td> 1.992315</td><td> 5.303512</td><td> 5.186265</td><td> 3.694870</td><td> 3.300810</td><td> 5.258975</td><td> 4.232275</td><td> 4.292015</td></tr>\n",
       "\t<tr><th scope=row>2</th><td>10.561266</td><td>11.070185</td><td>10.792894</td><td>10.340013</td><td>10.281499</td><td>10.397641</td><td>11.041590</td><td>11.039045</td><td>10.774906</td><td>10.786872</td><td>10.595947</td><td>10.732970</td></tr>\n",
       "\t<tr><th scope=row>3</th><td> 8.079070</td><td> 7.592868</td><td> 9.034333</td><td> 9.332348</td><td> 9.361537</td><td> 9.004926</td><td> 7.994516</td><td> 8.168912</td><td> 9.423026</td><td> 9.461916</td><td> 9.276741</td><td> 8.844056</td></tr>\n",
       "\t<tr><th scope=row>4</th><td> 9.034114</td><td> 8.666174</td><td>10.001805</td><td>12.874117</td><td>14.223477</td><td>10.850553</td><td> 8.296008</td><td> 8.351536</td><td>10.062440</td><td>11.661871</td><td>13.911382</td><td>11.332892</td></tr>\n",
       "\t<tr><th scope=row>5</th><td> 9.684972</td><td> 9.124017</td><td> 9.117169</td><td> 9.031949</td><td> 9.403388</td><td> 7.282596</td><td> 5.487926</td><td> 5.924802</td><td> 5.361296</td><td> 4.755835</td><td> 5.193376</td><td> 2.497586</td></tr>\n",
       "\t<tr><th scope=row>6</th><td> 6.365152</td><td> 5.434698</td><td> 5.403117</td><td> 5.276815</td><td> 4.718054</td><td> 4.365235</td><td> 5.560319</td><td> 5.948259</td><td> 5.642737</td><td> 5.048260</td><td> 4.982189</td><td> 3.974231</td></tr>\n",
       "</tbody>\n",
       "</table>\n"
      ],
      "text/latex": [
       "A data.frame: 6 × 12\n",
       "\\begin{tabular}{r|llllllllllll}\n",
       "  & T01 & T201 & T601 & T2H1 & T4H1 & T24H1 & T02 & T202 & T602 & T2H2 & T4H2 & T24H2\\\\\n",
       "  & <dbl> & <dbl> & <dbl> & <dbl> & <dbl> & <dbl> & <dbl> & <dbl> & <dbl> & <dbl> & <dbl> & <dbl>\\\\\n",
       "\\hline\n",
       "\t1 &  5.046729 &  5.072507 &  4.187041 &  3.384345 &  1.992315 &  5.303512 &  5.186265 &  3.694870 &  3.300810 &  5.258975 &  4.232275 &  4.292015\\\\\n",
       "\t2 & 10.561266 & 11.070185 & 10.792894 & 10.340013 & 10.281499 & 10.397641 & 11.041590 & 11.039045 & 10.774906 & 10.786872 & 10.595947 & 10.732970\\\\\n",
       "\t3 &  8.079070 &  7.592868 &  9.034333 &  9.332348 &  9.361537 &  9.004926 &  7.994516 &  8.168912 &  9.423026 &  9.461916 &  9.276741 &  8.844056\\\\\n",
       "\t4 &  9.034114 &  8.666174 & 10.001805 & 12.874117 & 14.223477 & 10.850553 &  8.296008 &  8.351536 & 10.062440 & 11.661871 & 13.911382 & 11.332892\\\\\n",
       "\t5 &  9.684972 &  9.124017 &  9.117169 &  9.031949 &  9.403388 &  7.282596 &  5.487926 &  5.924802 &  5.361296 &  4.755835 &  5.193376 &  2.497586\\\\\n",
       "\t6 &  6.365152 &  5.434698 &  5.403117 &  5.276815 &  4.718054 &  4.365235 &  5.560319 &  5.948259 &  5.642737 &  5.048260 &  4.982189 &  3.974231\\\\\n",
       "\\end{tabular}\n"
      ],
      "text/markdown": [
       "\n",
       "A data.frame: 6 × 12\n",
       "\n",
       "| <!--/--> | T01 &lt;dbl&gt; | T201 &lt;dbl&gt; | T601 &lt;dbl&gt; | T2H1 &lt;dbl&gt; | T4H1 &lt;dbl&gt; | T24H1 &lt;dbl&gt; | T02 &lt;dbl&gt; | T202 &lt;dbl&gt; | T602 &lt;dbl&gt; | T2H2 &lt;dbl&gt; | T4H2 &lt;dbl&gt; | T24H2 &lt;dbl&gt; |\n",
       "|---|---|---|---|---|---|---|---|---|---|---|---|---|\n",
       "| 1 |  5.046729 |  5.072507 |  4.187041 |  3.384345 |  1.992315 |  5.303512 |  5.186265 |  3.694870 |  3.300810 |  5.258975 |  4.232275 |  4.292015 |\n",
       "| 2 | 10.561266 | 11.070185 | 10.792894 | 10.340013 | 10.281499 | 10.397641 | 11.041590 | 11.039045 | 10.774906 | 10.786872 | 10.595947 | 10.732970 |\n",
       "| 3 |  8.079070 |  7.592868 |  9.034333 |  9.332348 |  9.361537 |  9.004926 |  7.994516 |  8.168912 |  9.423026 |  9.461916 |  9.276741 |  8.844056 |\n",
       "| 4 |  9.034114 |  8.666174 | 10.001805 | 12.874117 | 14.223477 | 10.850553 |  8.296008 |  8.351536 | 10.062440 | 11.661871 | 13.911382 | 11.332892 |\n",
       "| 5 |  9.684972 |  9.124017 |  9.117169 |  9.031949 |  9.403388 |  7.282596 |  5.487926 |  5.924802 |  5.361296 |  4.755835 |  5.193376 |  2.497586 |\n",
       "| 6 |  6.365152 |  5.434698 |  5.403117 |  5.276815 |  4.718054 |  4.365235 |  5.560319 |  5.948259 |  5.642737 |  5.048260 |  4.982189 |  3.974231 |\n",
       "\n"
      ],
      "text/plain": [
       "  T01       T201      T601      T2H1      T4H1      T24H1     T02      \n",
       "1  5.046729  5.072507  4.187041  3.384345  1.992315  5.303512  5.186265\n",
       "2 10.561266 11.070185 10.792894 10.340013 10.281499 10.397641 11.041590\n",
       "3  8.079070  7.592868  9.034333  9.332348  9.361537  9.004926  7.994516\n",
       "4  9.034114  8.666174 10.001805 12.874117 14.223477 10.850553  8.296008\n",
       "5  9.684972  9.124017  9.117169  9.031949  9.403388  7.282596  5.487926\n",
       "6  6.365152  5.434698  5.403117  5.276815  4.718054  4.365235  5.560319\n",
       "  T202      T602      T2H2      T4H2      T24H2    \n",
       "1  3.694870  3.300810  5.258975  4.232275  4.292015\n",
       "2 11.039045 10.774906 10.786872 10.595947 10.732970\n",
       "3  8.168912  9.423026  9.461916  9.276741  8.844056\n",
       "4  8.351536 10.062440 11.661871 13.911382 11.332892\n",
       "5  5.924802  5.361296  4.755835  5.193376  2.497586\n",
       "6  5.948259  5.642737  5.048260  4.982189  3.974231"
      ]
     },
     "metadata": {},
     "output_type": "display_data"
    }
   ],
   "source": [
    "head(rnaseq_dataonly)\n"
   ]
  },
  {
   "cell_type": "code",
   "execution_count": 9,
   "metadata": {},
   "outputs": [],
   "source": [
    "\n",
    "pca_rnaseq <- prcomp(t(rnaseq_dataonly), scale=TRUE, center=TRUE)"
   ]
  },
  {
   "cell_type": "code",
   "execution_count": 15,
   "metadata": {},
   "outputs": [],
   "source": [
    "\n",
    "pca_rnaseq_forplot <- data.frame(PC1=pca_rnaseq$x['PC1'], PC2=pca_rnaseq$x['PC2'], \n",
    "                                  replicate = c(rep(1,6), rep(2,6)), time = c(idx0, idx0))\n"
   ]
  },
  {
   "cell_type": "code",
   "execution_count": 16,
   "metadata": {},
   "outputs": [],
   "source": [
    "\n",
    "\n",
    "pca_rnaseq_vars <- apply(pca_rnaseq$x, 2, var)  \n",
    "pca_rnaseq_props <- pca_rnaseq_vars / sum(pca_rnaseq_vars)\n",
    "pca_rnaseq_label_PC1 <- round(pca_rnaseq_props[1], digits=2)\n",
    "pca_rnaseq_label_PC2 <- round(pca_rnaseq_props[2], digits=2)\n",
    "\n"
   ]
  },
  {
   "cell_type": "code",
   "execution_count": 17,
   "metadata": {},
   "outputs": [],
   "source": [
    "\n",
    "pca_rnaseq_forplot <- data.frame(PC1=pca_rnaseq$x[,'PC1'], PC2=pca_rnaseq$x[,'PC2'], \n",
    "                                label_PC1=paste('PC1', percent(pca_rnaseq_label_PC1)), \n",
    "                                 label_PC2=paste('PC2', percent(pca_rnaseq_label_PC2)), \n",
    "                                  Replicate = factor(c(rep(1,6), rep(2,6))), Time = factor(c(time0, time0), levels=time0))\n"
   ]
  },
  {
   "cell_type": "code",
   "execution_count": 18,
   "metadata": {},
   "outputs": [],
   "source": [
    "\n",
    "pca_rnaseq_forplot$label <- 'All'\n",
    "\n",
    "pca_rnaseq_forplot$label2 <- 'RNA-seq'\n",
    "\n"
   ]
  },
  {
   "cell_type": "code",
   "execution_count": 19,
   "metadata": {},
   "outputs": [],
   "source": [
    "\n",
    "rownames(pca_rnaseq_forplot) <- NULL\n"
   ]
  },
  {
   "cell_type": "code",
   "execution_count": 20,
   "metadata": {},
   "outputs": [
    {
     "data": {
      "image/png": "[encoded data removed]",
      "text/plain": [
       "plot without title"
      ]
     },
     "metadata": {
      "image/png": {
       "height": 420,
       "width": 420
      },
      "text/plain": {
       "height": 420,
       "width": 420
      }
     },
     "output_type": "display_data"
    }
   ],
   "source": [
    "ggplot(data=pca_rnaseq_forplot, aes(x=PC1, y=PC2, col=Time)) + geom_point(aes(shape=Replicate), size=6) + \n",
    "geom_hline(yintercept=0, linetype='dotted',size=1) + geom_vline(xintercept=0,linetype='dotted',size=1) +\n",
    "#geom_segment(aes(x=-200,xend=max(PC1), y=-200, yend=-200), linetype='solid', color='black') + \n",
    "#geom_segment(aes(x=-200,xend=-200, y=-200, yend=max(PC2)),linetype='solid', color='black')+\n",
    "\n",
    "#geom_text(aes(x=0, y=min(PC2)-100, label=label_PC1), color='black') +\n",
    "#geom_text(aes(x=min(PC1)-100, y=0, label=label_PC2), color='black', angle=90) +\n",
    "\n",
    "    xlab(paste('PC1 ', '(',percent(pca_rnaseq_label_PC1),')', sep='')) + \n",
    "    ylab(paste('PC2 ', '(',percent(pca_rnaseq_label_PC2),')', sep='')) +\n",
    "    labs(c('Time','Replicate')) + \n",
    "theme(panel.background=element_blank(),#panel.background=element_rect(fill='white',color='black',linetype=1),  panel.grid.major=element_line(color='grey', size=0.1), \n",
    "     axis.line=element_line(size=1),\n",
    "       text=element_text(size=14, face=\"bold\"),\n",
    "                 axis.text=element_text(size=16, face='bold'), axis.title=element_text(size=20, face=\"bold\"),\n",
    "      strip.text.x=element_blank(),strip.text.y=element_blank(), strip.background=element_blank(),legend.text=element_text(size=14), legend.position=c(0.8,0.5)) +\n",
    "coord_fixed(ratio=2.5) + ggtitle('Supplementary Fig. 1d')\n",
    " #facet_grid(label2 ~ label)\n",
    "#ggsave('../../../IntegratingATAC-RNA-HiC/Individual_Figures_Files/Gene_expression/RNAseq-PCA.pdf')"
   ]
  }
 ],
 "metadata": {
  "kernelspec": {
   "display_name": "R",
   "language": "R",
   "name": "ir"
  },
  "language_info": {
   "codemirror_mode": "r",
   "file_extension": ".r",
   "mimetype": "text/x-r-source",
   "name": "R",
   "pygments_lexer": "r",
   "version": "3.6.3"
  }
 },
 "nbformat": 4,
 "nbformat_minor": 2
}
