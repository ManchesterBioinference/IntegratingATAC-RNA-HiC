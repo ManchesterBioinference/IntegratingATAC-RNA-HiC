{
 "cells": [
  {
   "cell_type": "markdown",
   "metadata": {},
   "source": [
    "## Jupyter notebook for plotting the correlations between CHi-C, ATAC-seq and RNA-seq\n",
    "\n",
    "This notebook is the code for plotting the correlations between CHi-C, ATAC-seq and RNA-seq time course data used in the paper **\\\"Analysis of chromatin organinization and gene expression in T cells identifies functional genes for rheumatoid arthritis\\\"** by *Jing Yang, Amanda McGovern, Paul Martin, Kate Duffus, Xiangyu Ge, Peyman Zarrineh, Andrew P Morris, Antony Adamson, Peter Fraser, Magnus Rattray & Stephen Eyre* \n",
    "\n",
    "Author : *Jing Yang*  <br />\n",
    "Date: 01-05-2020 <br />\n",
    "For any questions about the code, please drop me a line at Jing.Yang@manchester.ac.uk"
   ]
  },
  {
   "cell_type": "markdown",
   "metadata": {},
   "source": [
    "#### load packages"
   ]
  },
  {
   "cell_type": "code",
   "execution_count": 2,
   "metadata": {},
   "outputs": [
    {
     "name": "stderr",
     "output_type": "stream",
     "text": [
      "── \u001b[1mAttaching packages\u001b[22m ─────────────────────────────────────── tidyverse 1.3.0 ──\n",
      "\n",
      "\u001b[32m✔\u001b[39m \u001b[34mtibble \u001b[39m 3.0.1     \u001b[32m✔\u001b[39m \u001b[34mdplyr  \u001b[39m 1.0.0\n",
      "\u001b[32m✔\u001b[39m \u001b[34mtidyr  \u001b[39m 1.1.0     \u001b[32m✔\u001b[39m \u001b[34mstringr\u001b[39m 1.4.0\n",
      "\u001b[32m✔\u001b[39m \u001b[34mreadr  \u001b[39m 1.3.1     \u001b[32m✔\u001b[39m \u001b[34mforcats\u001b[39m 0.5.0\n",
      "\u001b[32m✔\u001b[39m \u001b[34mpurrr  \u001b[39m 0.3.4     \n",
      "\n",
      "── \u001b[1mConflicts\u001b[22m ────────────────────────────────────────── tidyverse_conflicts() ──\n",
      "\u001b[31m✖\u001b[39m \u001b[34mdplyr\u001b[39m::\u001b[32mfilter()\u001b[39m masks \u001b[34mstats\u001b[39m::filter()\n",
      "\u001b[31m✖\u001b[39m \u001b[34mdplyr\u001b[39m::\u001b[32mlag()\u001b[39m    masks \u001b[34mstats\u001b[39m::lag()\n",
      "\n",
      "Loading required package: viridisLite\n",
      "\n"
     ]
    }
   ],
   "source": [
    "library(ggplot2)\n",
    "library(reshape2)\n",
    "library(ggsci)\n",
    "library(tidyverse)\n",
    "library(viridis)\n"
   ]
  },
  {
   "cell_type": "markdown",
   "metadata": {},
   "source": [
    "### load data \n",
    "load data between gene expression (RNA-seq) and open chromatin (ATAC-seq) connected by CHi-C interactions , ATAC-seq peaks in promoter regions are excluded from the study"
   ]
  },
  {
   "cell_type": "code",
   "execution_count": 3,
   "metadata": {},
   "outputs": [],
   "source": [
    "set.seed(5)\n",
    "data <- read.table(file='data/ATACseq_CHiC_RNAseq_linked_0602.txt', header=T)\n"
   ]
  },
  {
   "cell_type": "code",
   "execution_count": 4,
   "metadata": {},
   "outputs": [
    {
     "data": {
      "text/html": [
       "<style>\n",
       ".list-inline {list-style: none; margin:0; padding: 0}\n",
       ".list-inline>li {display: inline-block}\n",
       ".list-inline>li:not(:last-child)::after {content: \"\\00b7\"; padding: 0 .5ex}\n",
       "</style>\n",
       "<ol class=list-inline><li>44113</li><li>74</li></ol>\n"
      ],
      "text/latex": [
       "\\begin{enumerate*}\n",
       "\\item 44113\n",
       "\\item 74\n",
       "\\end{enumerate*}\n"
      ],
      "text/markdown": [
       "1. 44113\n",
       "2. 74\n",
       "\n",
       "\n"
      ],
      "text/plain": [
       "[1] 44113    74"
      ]
     },
     "metadata": {},
     "output_type": "display_data"
    }
   ],
   "source": [
    "dim(data)"
   ]
  },
  {
   "cell_type": "code",
   "execution_count": 5,
   "metadata": {},
   "outputs": [
    {
     "data": {
      "text/html": [
       "<table>\n",
       "<caption>A data.frame: 6 × 74</caption>\n",
       "<thead>\n",
       "\t<tr><th></th><th scope=col>ATACchr</th><th scope=col>ATACstart</th><th scope=col>ATACend</th><th scope=col>otherEndID</th><th scope=col>otherEndchr</th><th scope=col>otherEndstart</th><th scope=col>otherEndend</th><th scope=col>ID</th><th scope=col>ENSG</th><th scope=col>chr</th><th scope=col>⋯</th><th scope=col>AT0</th><th scope=col>AT20</th><th scope=col>AT1H</th><th scope=col>AT2H</th><th scope=col>AT4H</th><th scope=col>AT24H</th><th scope=col>Alld_ratio0</th><th scope=col>corr_atacseq_gene</th><th scope=col>corr_atacseq_otherEnd</th><th scope=col>corr_gene_otherEnd</th></tr>\n",
       "\t<tr><th></th><th scope=col>&lt;fct&gt;</th><th scope=col>&lt;int&gt;</th><th scope=col>&lt;int&gt;</th><th scope=col>&lt;int&gt;</th><th scope=col>&lt;fct&gt;</th><th scope=col>&lt;int&gt;</th><th scope=col>&lt;int&gt;</th><th scope=col>&lt;int&gt;</th><th scope=col>&lt;fct&gt;</th><th scope=col>&lt;fct&gt;</th><th scope=col>⋯</th><th scope=col>&lt;dbl&gt;</th><th scope=col>&lt;dbl&gt;</th><th scope=col>&lt;dbl&gt;</th><th scope=col>&lt;dbl&gt;</th><th scope=col>&lt;dbl&gt;</th><th scope=col>&lt;dbl&gt;</th><th scope=col>&lt;dbl&gt;</th><th scope=col>&lt;dbl&gt;</th><th scope=col>&lt;dbl&gt;</th><th scope=col>&lt;dbl&gt;</th></tr>\n",
       "</thead>\n",
       "<tbody>\n",
       "\t<tr><th scope=row>1</th><td>chr10</td><td>100168185</td><td>100168481</td><td>94270</td><td>chr10</td><td>100168142</td><td>100171879</td><td> 7</td><td>ENSG00000122873</td><td>chr10</td><td>⋯</td><td>5.185079</td><td>5.386033</td><td>5.549115</td><td>5.081706</td><td>5.133666</td><td>5.469091</td><td>-7.960483e-06</td><td>-0.02766343</td><td>-0.6566466</td><td> 0.4050982</td></tr>\n",
       "\t<tr><th scope=row>2</th><td>chr10</td><td>100168185</td><td>100168481</td><td>94270</td><td>chr10</td><td>100168142</td><td>100171879</td><td> 7</td><td>ENSG00000099204</td><td>chr10</td><td>⋯</td><td>5.185079</td><td>5.386033</td><td>5.549115</td><td>5.081706</td><td>5.133666</td><td>5.469091</td><td>-7.960483e-06</td><td>-0.17224216</td><td> 0.3875610</td><td>-0.9408854</td></tr>\n",
       "\t<tr><th scope=row>3</th><td>chr10</td><td>100481544</td><td>100482916</td><td>94352</td><td>chr10</td><td>100476882</td><td>100482954</td><td>21</td><td>ENSG00000213341</td><td>chr10</td><td>⋯</td><td>9.147414</td><td>9.275847</td><td>9.463431</td><td>8.709092</td><td>9.302763</td><td>8.877224</td><td>-6.425136e-06</td><td>-0.42433344</td><td> 0.5799938</td><td>-0.7839210</td></tr>\n",
       "\t<tr><th scope=row>4</th><td>chr10</td><td>100510838</td><td>100511373</td><td>94364</td><td>chr10</td><td>100507722</td><td>100518706</td><td>23</td><td>ENSG00000052749</td><td>chr10</td><td>⋯</td><td>8.952013</td><td>9.005558</td><td>9.971759</td><td>8.586541</td><td>9.457576</td><td>8.248255</td><td>-1.622436e-05</td><td>-0.03102417</td><td>-0.7670981</td><td> 0.3650468</td></tr>\n",
       "\t<tr><th scope=row>5</th><td>chr10</td><td>101067861</td><td>101068077</td><td>94482</td><td>chr10</td><td>101060341</td><td>101072257</td><td>49</td><td>ENSG00000108219</td><td>chr10</td><td>⋯</td><td>6.669307</td><td>6.269015</td><td>6.173934</td><td>6.689934</td><td>6.478613</td><td>6.105778</td><td>-1.011161e-05</td><td> 0.47989948</td><td>-0.3986813</td><td> 0.2534209</td></tr>\n",
       "\t<tr><th scope=row>6</th><td>chr10</td><td>101814895</td><td>101815024</td><td>94665</td><td>chr10</td><td>101813654</td><td>101818522</td><td>76</td><td>ENSG00000052749</td><td>chr10</td><td>⋯</td><td>5.799046</td><td>5.946604</td><td>6.908540</td><td>6.233613</td><td>6.974758</td><td>6.509405</td><td>-4.866014e-05</td><td> 0.77751101</td><td> 0.0847067</td><td> 0.3650468</td></tr>\n",
       "</tbody>\n",
       "</table>\n"
      ],
      "text/latex": [
       "A data.frame: 6 × 74\n",
       "\\begin{tabular}{r|lllllllllllllllllllll}\n",
       "  & ATACchr & ATACstart & ATACend & otherEndID & otherEndchr & otherEndstart & otherEndend & ID & ENSG & chr & ⋯ & AT0 & AT20 & AT1H & AT2H & AT4H & AT24H & Alld\\_ratio0 & corr\\_atacseq\\_gene & corr\\_atacseq\\_otherEnd & corr\\_gene\\_otherEnd\\\\\n",
       "  & <fct> & <int> & <int> & <int> & <fct> & <int> & <int> & <int> & <fct> & <fct> & ⋯ & <dbl> & <dbl> & <dbl> & <dbl> & <dbl> & <dbl> & <dbl> & <dbl> & <dbl> & <dbl>\\\\\n",
       "\\hline\n",
       "\t1 & chr10 & 100168185 & 100168481 & 94270 & chr10 & 100168142 & 100171879 &  7 & ENSG00000122873 & chr10 & ⋯ & 5.185079 & 5.386033 & 5.549115 & 5.081706 & 5.133666 & 5.469091 & -7.960483e-06 & -0.02766343 & -0.6566466 &  0.4050982\\\\\n",
       "\t2 & chr10 & 100168185 & 100168481 & 94270 & chr10 & 100168142 & 100171879 &  7 & ENSG00000099204 & chr10 & ⋯ & 5.185079 & 5.386033 & 5.549115 & 5.081706 & 5.133666 & 5.469091 & -7.960483e-06 & -0.17224216 &  0.3875610 & -0.9408854\\\\\n",
       "\t3 & chr10 & 100481544 & 100482916 & 94352 & chr10 & 100476882 & 100482954 & 21 & ENSG00000213341 & chr10 & ⋯ & 9.147414 & 9.275847 & 9.463431 & 8.709092 & 9.302763 & 8.877224 & -6.425136e-06 & -0.42433344 &  0.5799938 & -0.7839210\\\\\n",
       "\t4 & chr10 & 100510838 & 100511373 & 94364 & chr10 & 100507722 & 100518706 & 23 & ENSG00000052749 & chr10 & ⋯ & 8.952013 & 9.005558 & 9.971759 & 8.586541 & 9.457576 & 8.248255 & -1.622436e-05 & -0.03102417 & -0.7670981 &  0.3650468\\\\\n",
       "\t5 & chr10 & 101067861 & 101068077 & 94482 & chr10 & 101060341 & 101072257 & 49 & ENSG00000108219 & chr10 & ⋯ & 6.669307 & 6.269015 & 6.173934 & 6.689934 & 6.478613 & 6.105778 & -1.011161e-05 &  0.47989948 & -0.3986813 &  0.2534209\\\\\n",
       "\t6 & chr10 & 101814895 & 101815024 & 94665 & chr10 & 101813654 & 101818522 & 76 & ENSG00000052749 & chr10 & ⋯ & 5.799046 & 5.946604 & 6.908540 & 6.233613 & 6.974758 & 6.509405 & -4.866014e-05 &  0.77751101 &  0.0847067 &  0.3650468\\\\\n",
       "\\end{tabular}\n"
      ],
      "text/markdown": [
       "\n",
       "A data.frame: 6 × 74\n",
       "\n",
       "| <!--/--> | ATACchr &lt;fct&gt; | ATACstart &lt;int&gt; | ATACend &lt;int&gt; | otherEndID &lt;int&gt; | otherEndchr &lt;fct&gt; | otherEndstart &lt;int&gt; | otherEndend &lt;int&gt; | ID &lt;int&gt; | ENSG &lt;fct&gt; | chr &lt;fct&gt; | ⋯ ⋯ | AT0 &lt;dbl&gt; | AT20 &lt;dbl&gt; | AT1H &lt;dbl&gt; | AT2H &lt;dbl&gt; | AT4H &lt;dbl&gt; | AT24H &lt;dbl&gt; | Alld_ratio0 &lt;dbl&gt; | corr_atacseq_gene &lt;dbl&gt; | corr_atacseq_otherEnd &lt;dbl&gt; | corr_gene_otherEnd &lt;dbl&gt; |\n",
       "|---|---|---|---|---|---|---|---|---|---|---|---|---|---|---|---|---|---|---|---|---|---|\n",
       "| 1 | chr10 | 100168185 | 100168481 | 94270 | chr10 | 100168142 | 100171879 |  7 | ENSG00000122873 | chr10 | ⋯ | 5.185079 | 5.386033 | 5.549115 | 5.081706 | 5.133666 | 5.469091 | -7.960483e-06 | -0.02766343 | -0.6566466 |  0.4050982 |\n",
       "| 2 | chr10 | 100168185 | 100168481 | 94270 | chr10 | 100168142 | 100171879 |  7 | ENSG00000099204 | chr10 | ⋯ | 5.185079 | 5.386033 | 5.549115 | 5.081706 | 5.133666 | 5.469091 | -7.960483e-06 | -0.17224216 |  0.3875610 | -0.9408854 |\n",
       "| 3 | chr10 | 100481544 | 100482916 | 94352 | chr10 | 100476882 | 100482954 | 21 | ENSG00000213341 | chr10 | ⋯ | 9.147414 | 9.275847 | 9.463431 | 8.709092 | 9.302763 | 8.877224 | -6.425136e-06 | -0.42433344 |  0.5799938 | -0.7839210 |\n",
       "| 4 | chr10 | 100510838 | 100511373 | 94364 | chr10 | 100507722 | 100518706 | 23 | ENSG00000052749 | chr10 | ⋯ | 8.952013 | 9.005558 | 9.971759 | 8.586541 | 9.457576 | 8.248255 | -1.622436e-05 | -0.03102417 | -0.7670981 |  0.3650468 |\n",
       "| 5 | chr10 | 101067861 | 101068077 | 94482 | chr10 | 101060341 | 101072257 | 49 | ENSG00000108219 | chr10 | ⋯ | 6.669307 | 6.269015 | 6.173934 | 6.689934 | 6.478613 | 6.105778 | -1.011161e-05 |  0.47989948 | -0.3986813 |  0.2534209 |\n",
       "| 6 | chr10 | 101814895 | 101815024 | 94665 | chr10 | 101813654 | 101818522 | 76 | ENSG00000052749 | chr10 | ⋯ | 5.799046 | 5.946604 | 6.908540 | 6.233613 | 6.974758 | 6.509405 | -4.866014e-05 |  0.77751101 |  0.0847067 |  0.3650468 |\n",
       "\n"
      ],
      "text/plain": [
       "  ATACchr ATACstart ATACend   otherEndID otherEndchr otherEndstart otherEndend\n",
       "1 chr10   100168185 100168481 94270      chr10       100168142     100171879  \n",
       "2 chr10   100168185 100168481 94270      chr10       100168142     100171879  \n",
       "3 chr10   100481544 100482916 94352      chr10       100476882     100482954  \n",
       "4 chr10   100510838 100511373 94364      chr10       100507722     100518706  \n",
       "5 chr10   101067861 101068077 94482      chr10       101060341     101072257  \n",
       "6 chr10   101814895 101815024 94665      chr10       101813654     101818522  \n",
       "  ID ENSG            chr   ⋯ AT0      AT20     AT1H     AT2H     AT4H    \n",
       "1  7 ENSG00000122873 chr10 ⋯ 5.185079 5.386033 5.549115 5.081706 5.133666\n",
       "2  7 ENSG00000099204 chr10 ⋯ 5.185079 5.386033 5.549115 5.081706 5.133666\n",
       "3 21 ENSG00000213341 chr10 ⋯ 9.147414 9.275847 9.463431 8.709092 9.302763\n",
       "4 23 ENSG00000052749 chr10 ⋯ 8.952013 9.005558 9.971759 8.586541 9.457576\n",
       "5 49 ENSG00000108219 chr10 ⋯ 6.669307 6.269015 6.173934 6.689934 6.478613\n",
       "6 76 ENSG00000052749 chr10 ⋯ 5.799046 5.946604 6.908540 6.233613 6.974758\n",
       "  AT24H    Alld_ratio0   corr_atacseq_gene corr_atacseq_otherEnd\n",
       "1 5.469091 -7.960483e-06 -0.02766343       -0.6566466           \n",
       "2 5.469091 -7.960483e-06 -0.17224216        0.3875610           \n",
       "3 8.877224 -6.425136e-06 -0.42433344        0.5799938           \n",
       "4 8.248255 -1.622436e-05 -0.03102417       -0.7670981           \n",
       "5 6.105778 -1.011161e-05  0.47989948       -0.3986813           \n",
       "6 6.509405 -4.866014e-05  0.77751101        0.0847067           \n",
       "  corr_gene_otherEnd\n",
       "1  0.4050982        \n",
       "2 -0.9408854        \n",
       "3 -0.7839210        \n",
       "4  0.3650468        \n",
       "5  0.2534209        \n",
       "6  0.3650468        "
      ]
     },
     "metadata": {},
     "output_type": "display_data"
    }
   ],
   "source": [
    "head(data)"
   ]
  },
  {
   "cell_type": "code",
   "execution_count": 6,
   "metadata": {},
   "outputs": [
    {
     "data": {
      "text/html": [
       "<table>\n",
       "<caption>A data.frame: 6 × 74</caption>\n",
       "<thead>\n",
       "\t<tr><th></th><th scope=col>ATACchr</th><th scope=col>ATACstart</th><th scope=col>ATACend</th><th scope=col>otherEndID</th><th scope=col>otherEndchr</th><th scope=col>otherEndstart</th><th scope=col>otherEndend</th><th scope=col>ID</th><th scope=col>ENSG</th><th scope=col>chr</th><th scope=col>⋯</th><th scope=col>AT0</th><th scope=col>AT20</th><th scope=col>AT1H</th><th scope=col>AT2H</th><th scope=col>AT4H</th><th scope=col>AT24H</th><th scope=col>Alld_ratio0</th><th scope=col>corr_atacseq_gene</th><th scope=col>corr_atacseq_otherEnd</th><th scope=col>corr_gene_otherEnd</th></tr>\n",
       "\t<tr><th></th><th scope=col>&lt;fct&gt;</th><th scope=col>&lt;int&gt;</th><th scope=col>&lt;int&gt;</th><th scope=col>&lt;int&gt;</th><th scope=col>&lt;fct&gt;</th><th scope=col>&lt;int&gt;</th><th scope=col>&lt;int&gt;</th><th scope=col>&lt;int&gt;</th><th scope=col>&lt;fct&gt;</th><th scope=col>&lt;fct&gt;</th><th scope=col>⋯</th><th scope=col>&lt;dbl&gt;</th><th scope=col>&lt;dbl&gt;</th><th scope=col>&lt;dbl&gt;</th><th scope=col>&lt;dbl&gt;</th><th scope=col>&lt;dbl&gt;</th><th scope=col>&lt;dbl&gt;</th><th scope=col>&lt;dbl&gt;</th><th scope=col>&lt;dbl&gt;</th><th scope=col>&lt;dbl&gt;</th><th scope=col>&lt;dbl&gt;</th></tr>\n",
       "</thead>\n",
       "<tbody>\n",
       "\t<tr><th scope=row>2</th><td>chr10</td><td>100168185</td><td>100168481</td><td>94270</td><td>chr10</td><td>100168142</td><td>100171879</td><td> 7</td><td>ENSG00000099204</td><td>chr10</td><td>⋯</td><td>5.185079</td><td>5.386033</td><td>5.549115</td><td>5.081706</td><td>5.133666</td><td>5.469091</td><td>-7.960483e-06</td><td>-0.17224216</td><td> 0.3875610</td><td>-0.9408854</td></tr>\n",
       "\t<tr><th scope=row>4</th><td>chr10</td><td>100510838</td><td>100511373</td><td>94364</td><td>chr10</td><td>100507722</td><td>100518706</td><td>23</td><td>ENSG00000052749</td><td>chr10</td><td>⋯</td><td>8.952013</td><td>9.005558</td><td>9.971759</td><td>8.586541</td><td>9.457576</td><td>8.248255</td><td>-1.622436e-05</td><td>-0.03102417</td><td>-0.7670981</td><td> 0.3650468</td></tr>\n",
       "\t<tr><th scope=row>5</th><td>chr10</td><td>101067861</td><td>101068077</td><td>94482</td><td>chr10</td><td>101060341</td><td>101072257</td><td>49</td><td>ENSG00000108219</td><td>chr10</td><td>⋯</td><td>6.669307</td><td>6.269015</td><td>6.173934</td><td>6.689934</td><td>6.478613</td><td>6.105778</td><td>-1.011161e-05</td><td> 0.47989948</td><td>-0.3986813</td><td> 0.2534209</td></tr>\n",
       "\t<tr><th scope=row>6</th><td>chr10</td><td>101814895</td><td>101815024</td><td>94665</td><td>chr10</td><td>101813654</td><td>101818522</td><td>76</td><td>ENSG00000052749</td><td>chr10</td><td>⋯</td><td>5.799046</td><td>5.946604</td><td>6.908540</td><td>6.233613</td><td>6.974758</td><td>6.509405</td><td>-4.866014e-05</td><td> 0.77751101</td><td> 0.0847067</td><td> 0.3650468</td></tr>\n",
       "\t<tr><th scope=row>9</th><td>chr10</td><td>  1019333</td><td>  1019496</td><td>65570</td><td>chr10</td><td>  1016695</td><td>  1027404</td><td>87</td><td>ENSG00000107959</td><td>chr10</td><td>⋯</td><td>4.264997</td><td>5.181961</td><td>4.272681</td><td>5.363446</td><td>5.295203</td><td>4.018987</td><td>-1.091195e-05</td><td> 0.02882910</td><td>-0.5596730</td><td> 0.6166510</td></tr>\n",
       "\t<tr><th scope=row>10</th><td>chr10</td><td>  1019333</td><td>  1019496</td><td>65570</td><td>chr10</td><td>  1016695</td><td>  1027404</td><td>87</td><td>ENSG00000237399</td><td>chr10</td><td>⋯</td><td>4.264997</td><td>5.181961</td><td>4.272681</td><td>5.363446</td><td>5.295203</td><td>4.018987</td><td>-1.091195e-05</td><td> 0.35301779</td><td>-0.5596730</td><td> 0.2767991</td></tr>\n",
       "</tbody>\n",
       "</table>\n"
      ],
      "text/latex": [
       "A data.frame: 6 × 74\n",
       "\\begin{tabular}{r|lllllllllllllllllllll}\n",
       "  & ATACchr & ATACstart & ATACend & otherEndID & otherEndchr & otherEndstart & otherEndend & ID & ENSG & chr & ⋯ & AT0 & AT20 & AT1H & AT2H & AT4H & AT24H & Alld\\_ratio0 & corr\\_atacseq\\_gene & corr\\_atacseq\\_otherEnd & corr\\_gene\\_otherEnd\\\\\n",
       "  & <fct> & <int> & <int> & <int> & <fct> & <int> & <int> & <int> & <fct> & <fct> & ⋯ & <dbl> & <dbl> & <dbl> & <dbl> & <dbl> & <dbl> & <dbl> & <dbl> & <dbl> & <dbl>\\\\\n",
       "\\hline\n",
       "\t2 & chr10 & 100168185 & 100168481 & 94270 & chr10 & 100168142 & 100171879 &  7 & ENSG00000099204 & chr10 & ⋯ & 5.185079 & 5.386033 & 5.549115 & 5.081706 & 5.133666 & 5.469091 & -7.960483e-06 & -0.17224216 &  0.3875610 & -0.9408854\\\\\n",
       "\t4 & chr10 & 100510838 & 100511373 & 94364 & chr10 & 100507722 & 100518706 & 23 & ENSG00000052749 & chr10 & ⋯ & 8.952013 & 9.005558 & 9.971759 & 8.586541 & 9.457576 & 8.248255 & -1.622436e-05 & -0.03102417 & -0.7670981 &  0.3650468\\\\\n",
       "\t5 & chr10 & 101067861 & 101068077 & 94482 & chr10 & 101060341 & 101072257 & 49 & ENSG00000108219 & chr10 & ⋯ & 6.669307 & 6.269015 & 6.173934 & 6.689934 & 6.478613 & 6.105778 & -1.011161e-05 &  0.47989948 & -0.3986813 &  0.2534209\\\\\n",
       "\t6 & chr10 & 101814895 & 101815024 & 94665 & chr10 & 101813654 & 101818522 & 76 & ENSG00000052749 & chr10 & ⋯ & 5.799046 & 5.946604 & 6.908540 & 6.233613 & 6.974758 & 6.509405 & -4.866014e-05 &  0.77751101 &  0.0847067 &  0.3650468\\\\\n",
       "\t9 & chr10 &   1019333 &   1019496 & 65570 & chr10 &   1016695 &   1027404 & 87 & ENSG00000107959 & chr10 & ⋯ & 4.264997 & 5.181961 & 4.272681 & 5.363446 & 5.295203 & 4.018987 & -1.091195e-05 &  0.02882910 & -0.5596730 &  0.6166510\\\\\n",
       "\t10 & chr10 &   1019333 &   1019496 & 65570 & chr10 &   1016695 &   1027404 & 87 & ENSG00000237399 & chr10 & ⋯ & 4.264997 & 5.181961 & 4.272681 & 5.363446 & 5.295203 & 4.018987 & -1.091195e-05 &  0.35301779 & -0.5596730 &  0.2767991\\\\\n",
       "\\end{tabular}\n"
      ],
      "text/markdown": [
       "\n",
       "A data.frame: 6 × 74\n",
       "\n",
       "| <!--/--> | ATACchr &lt;fct&gt; | ATACstart &lt;int&gt; | ATACend &lt;int&gt; | otherEndID &lt;int&gt; | otherEndchr &lt;fct&gt; | otherEndstart &lt;int&gt; | otherEndend &lt;int&gt; | ID &lt;int&gt; | ENSG &lt;fct&gt; | chr &lt;fct&gt; | ⋯ ⋯ | AT0 &lt;dbl&gt; | AT20 &lt;dbl&gt; | AT1H &lt;dbl&gt; | AT2H &lt;dbl&gt; | AT4H &lt;dbl&gt; | AT24H &lt;dbl&gt; | Alld_ratio0 &lt;dbl&gt; | corr_atacseq_gene &lt;dbl&gt; | corr_atacseq_otherEnd &lt;dbl&gt; | corr_gene_otherEnd &lt;dbl&gt; |\n",
       "|---|---|---|---|---|---|---|---|---|---|---|---|---|---|---|---|---|---|---|---|---|---|\n",
       "| 2 | chr10 | 100168185 | 100168481 | 94270 | chr10 | 100168142 | 100171879 |  7 | ENSG00000099204 | chr10 | ⋯ | 5.185079 | 5.386033 | 5.549115 | 5.081706 | 5.133666 | 5.469091 | -7.960483e-06 | -0.17224216 |  0.3875610 | -0.9408854 |\n",
       "| 4 | chr10 | 100510838 | 100511373 | 94364 | chr10 | 100507722 | 100518706 | 23 | ENSG00000052749 | chr10 | ⋯ | 8.952013 | 9.005558 | 9.971759 | 8.586541 | 9.457576 | 8.248255 | -1.622436e-05 | -0.03102417 | -0.7670981 |  0.3650468 |\n",
       "| 5 | chr10 | 101067861 | 101068077 | 94482 | chr10 | 101060341 | 101072257 | 49 | ENSG00000108219 | chr10 | ⋯ | 6.669307 | 6.269015 | 6.173934 | 6.689934 | 6.478613 | 6.105778 | -1.011161e-05 |  0.47989948 | -0.3986813 |  0.2534209 |\n",
       "| 6 | chr10 | 101814895 | 101815024 | 94665 | chr10 | 101813654 | 101818522 | 76 | ENSG00000052749 | chr10 | ⋯ | 5.799046 | 5.946604 | 6.908540 | 6.233613 | 6.974758 | 6.509405 | -4.866014e-05 |  0.77751101 |  0.0847067 |  0.3650468 |\n",
       "| 9 | chr10 |   1019333 |   1019496 | 65570 | chr10 |   1016695 |   1027404 | 87 | ENSG00000107959 | chr10 | ⋯ | 4.264997 | 5.181961 | 4.272681 | 5.363446 | 5.295203 | 4.018987 | -1.091195e-05 |  0.02882910 | -0.5596730 |  0.6166510 |\n",
       "| 10 | chr10 |   1019333 |   1019496 | 65570 | chr10 |   1016695 |   1027404 | 87 | ENSG00000237399 | chr10 | ⋯ | 4.264997 | 5.181961 | 4.272681 | 5.363446 | 5.295203 | 4.018987 | -1.091195e-05 |  0.35301779 | -0.5596730 |  0.2767991 |\n",
       "\n"
      ],
      "text/plain": [
       "   ATACchr ATACstart ATACend   otherEndID otherEndchr otherEndstart otherEndend\n",
       "2  chr10   100168185 100168481 94270      chr10       100168142     100171879  \n",
       "4  chr10   100510838 100511373 94364      chr10       100507722     100518706  \n",
       "5  chr10   101067861 101068077 94482      chr10       101060341     101072257  \n",
       "6  chr10   101814895 101815024 94665      chr10       101813654     101818522  \n",
       "9  chr10     1019333   1019496 65570      chr10         1016695       1027404  \n",
       "10 chr10     1019333   1019496 65570      chr10         1016695       1027404  \n",
       "   ID ENSG            chr   ⋯ AT0      AT20     AT1H     AT2H     AT4H    \n",
       "2   7 ENSG00000099204 chr10 ⋯ 5.185079 5.386033 5.549115 5.081706 5.133666\n",
       "4  23 ENSG00000052749 chr10 ⋯ 8.952013 9.005558 9.971759 8.586541 9.457576\n",
       "5  49 ENSG00000108219 chr10 ⋯ 6.669307 6.269015 6.173934 6.689934 6.478613\n",
       "6  76 ENSG00000052749 chr10 ⋯ 5.799046 5.946604 6.908540 6.233613 6.974758\n",
       "9  87 ENSG00000107959 chr10 ⋯ 4.264997 5.181961 4.272681 5.363446 5.295203\n",
       "10 87 ENSG00000237399 chr10 ⋯ 4.264997 5.181961 4.272681 5.363446 5.295203\n",
       "   AT24H    Alld_ratio0   corr_atacseq_gene corr_atacseq_otherEnd\n",
       "2  5.469091 -7.960483e-06 -0.17224216        0.3875610           \n",
       "4  8.248255 -1.622436e-05 -0.03102417       -0.7670981           \n",
       "5  6.105778 -1.011161e-05  0.47989948       -0.3986813           \n",
       "6  6.509405 -4.866014e-05  0.77751101        0.0847067           \n",
       "9  4.018987 -1.091195e-05  0.02882910       -0.5596730           \n",
       "10 4.018987 -1.091195e-05  0.35301779       -0.5596730           \n",
       "   corr_gene_otherEnd\n",
       "2  -0.9408854        \n",
       "4   0.3650468        \n",
       "5   0.2534209        \n",
       "6   0.3650468        \n",
       "9   0.6166510        \n",
       "10  0.2767991        "
      ]
     },
     "metadata": {},
     "output_type": "display_data"
    }
   ],
   "source": [
    "head(data[!complete.cases(data),])"
   ]
  },
  {
   "cell_type": "code",
   "execution_count": 7,
   "metadata": {},
   "outputs": [
    {
     "data": {
      "text/html": [
       "<style>\n",
       ".list-inline {list-style: none; margin:0; padding: 0}\n",
       ".list-inline>li {display: inline-block}\n",
       ".list-inline>li:not(:last-child)::after {content: \"\\00b7\"; padding: 0 .5ex}\n",
       "</style>\n",
       "<ol class=list-inline><li>'ATACchr'</li><li>'ATACstart'</li><li>'ATACend'</li><li>'otherEndID'</li><li>'otherEndchr'</li><li>'otherEndstart'</li><li>'otherEndend'</li><li>'ID'</li><li>'ENSG'</li><li>'chr'</li><li>'ENSGstart'</li><li>'ENSGend'</li><li>'ET01'</li><li>'ET201'</li><li>'ET601'</li><li>'ET2H1'</li><li>'ET4H1'</li><li>'ET24H1'</li><li>'ET02'</li><li>'ET202'</li><li>'ET602'</li><li>'ET2H2'</li><li>'ET4H2'</li><li>'ET24H2'</li><li>'gene_BIC'</li><li>'gene_LR'</li><li>'ET0_a'</li><li>'ET20_a'</li><li>'ET1H_a'</li><li>'ET2H_a'</li><li>'ET4H_a'</li><li>'ET24H_a'</li><li>'baitID'</li><li>'baitstart'</li><li>'baitend'</li><li>'T01'</li><li>'T02'</li><li>'T201'</li><li>'T202'</li><li>'T1H1'</li><li>'T1H2'</li><li>'T4H1'</li><li>'T4H2'</li><li>'T24H1'</li><li>'baitchr'</li><li>'corr_rep'</li><li>'T0'</li><li>'T20'</li><li>'T1H'</li><li>'T4H'</li><li>'T24H'</li><li>'Awidth'</li><li>'Astrand'</li><li>'Aannotation'</li><li>'Agenechr'</li><li>'Agenestart'</li><li>'Ageneend'</li><li>'Agenelength'</li><li>'Agenestrand'</li><li>'Ageneid'</li><li>'Atranscriptid'</li><li>'AdistanceToTss'</li><li>'AENSG'</li><li>'ASYMBOL'</li><li>'AT0'</li><li>'AT20'</li><li>'AT1H'</li><li>'AT2H'</li><li>'AT4H'</li><li>'AT24H'</li><li>'Alld_ratio0'</li><li>'corr_atacseq_gene'</li><li>'corr_atacseq_otherEnd'</li><li>'corr_gene_otherEnd'</li></ol>\n"
      ],
      "text/latex": [
       "\\begin{enumerate*}\n",
       "\\item 'ATACchr'\n",
       "\\item 'ATACstart'\n",
       "\\item 'ATACend'\n",
       "\\item 'otherEndID'\n",
       "\\item 'otherEndchr'\n",
       "\\item 'otherEndstart'\n",
       "\\item 'otherEndend'\n",
       "\\item 'ID'\n",
       "\\item 'ENSG'\n",
       "\\item 'chr'\n",
       "\\item 'ENSGstart'\n",
       "\\item 'ENSGend'\n",
       "\\item 'ET01'\n",
       "\\item 'ET201'\n",
       "\\item 'ET601'\n",
       "\\item 'ET2H1'\n",
       "\\item 'ET4H1'\n",
       "\\item 'ET24H1'\n",
       "\\item 'ET02'\n",
       "\\item 'ET202'\n",
       "\\item 'ET602'\n",
       "\\item 'ET2H2'\n",
       "\\item 'ET4H2'\n",
       "\\item 'ET24H2'\n",
       "\\item 'gene\\_BIC'\n",
       "\\item 'gene\\_LR'\n",
       "\\item 'ET0\\_a'\n",
       "\\item 'ET20\\_a'\n",
       "\\item 'ET1H\\_a'\n",
       "\\item 'ET2H\\_a'\n",
       "\\item 'ET4H\\_a'\n",
       "\\item 'ET24H\\_a'\n",
       "\\item 'baitID'\n",
       "\\item 'baitstart'\n",
       "\\item 'baitend'\n",
       "\\item 'T01'\n",
       "\\item 'T02'\n",
       "\\item 'T201'\n",
       "\\item 'T202'\n",
       "\\item 'T1H1'\n",
       "\\item 'T1H2'\n",
       "\\item 'T4H1'\n",
       "\\item 'T4H2'\n",
       "\\item 'T24H1'\n",
       "\\item 'baitchr'\n",
       "\\item 'corr\\_rep'\n",
       "\\item 'T0'\n",
       "\\item 'T20'\n",
       "\\item 'T1H'\n",
       "\\item 'T4H'\n",
       "\\item 'T24H'\n",
       "\\item 'Awidth'\n",
       "\\item 'Astrand'\n",
       "\\item 'Aannotation'\n",
       "\\item 'Agenechr'\n",
       "\\item 'Agenestart'\n",
       "\\item 'Ageneend'\n",
       "\\item 'Agenelength'\n",
       "\\item 'Agenestrand'\n",
       "\\item 'Ageneid'\n",
       "\\item 'Atranscriptid'\n",
       "\\item 'AdistanceToTss'\n",
       "\\item 'AENSG'\n",
       "\\item 'ASYMBOL'\n",
       "\\item 'AT0'\n",
       "\\item 'AT20'\n",
       "\\item 'AT1H'\n",
       "\\item 'AT2H'\n",
       "\\item 'AT4H'\n",
       "\\item 'AT24H'\n",
       "\\item 'Alld\\_ratio0'\n",
       "\\item 'corr\\_atacseq\\_gene'\n",
       "\\item 'corr\\_atacseq\\_otherEnd'\n",
       "\\item 'corr\\_gene\\_otherEnd'\n",
       "\\end{enumerate*}\n"
      ],
      "text/markdown": [
       "1. 'ATACchr'\n",
       "2. 'ATACstart'\n",
       "3. 'ATACend'\n",
       "4. 'otherEndID'\n",
       "5. 'otherEndchr'\n",
       "6. 'otherEndstart'\n",
       "7. 'otherEndend'\n",
       "8. 'ID'\n",
       "9. 'ENSG'\n",
       "10. 'chr'\n",
       "11. 'ENSGstart'\n",
       "12. 'ENSGend'\n",
       "13. 'ET01'\n",
       "14. 'ET201'\n",
       "15. 'ET601'\n",
       "16. 'ET2H1'\n",
       "17. 'ET4H1'\n",
       "18. 'ET24H1'\n",
       "19. 'ET02'\n",
       "20. 'ET202'\n",
       "21. 'ET602'\n",
       "22. 'ET2H2'\n",
       "23. 'ET4H2'\n",
       "24. 'ET24H2'\n",
       "25. 'gene_BIC'\n",
       "26. 'gene_LR'\n",
       "27. 'ET0_a'\n",
       "28. 'ET20_a'\n",
       "29. 'ET1H_a'\n",
       "30. 'ET2H_a'\n",
       "31. 'ET4H_a'\n",
       "32. 'ET24H_a'\n",
       "33. 'baitID'\n",
       "34. 'baitstart'\n",
       "35. 'baitend'\n",
       "36. 'T01'\n",
       "37. 'T02'\n",
       "38. 'T201'\n",
       "39. 'T202'\n",
       "40. 'T1H1'\n",
       "41. 'T1H2'\n",
       "42. 'T4H1'\n",
       "43. 'T4H2'\n",
       "44. 'T24H1'\n",
       "45. 'baitchr'\n",
       "46. 'corr_rep'\n",
       "47. 'T0'\n",
       "48. 'T20'\n",
       "49. 'T1H'\n",
       "50. 'T4H'\n",
       "51. 'T24H'\n",
       "52. 'Awidth'\n",
       "53. 'Astrand'\n",
       "54. 'Aannotation'\n",
       "55. 'Agenechr'\n",
       "56. 'Agenestart'\n",
       "57. 'Ageneend'\n",
       "58. 'Agenelength'\n",
       "59. 'Agenestrand'\n",
       "60. 'Ageneid'\n",
       "61. 'Atranscriptid'\n",
       "62. 'AdistanceToTss'\n",
       "63. 'AENSG'\n",
       "64. 'ASYMBOL'\n",
       "65. 'AT0'\n",
       "66. 'AT20'\n",
       "67. 'AT1H'\n",
       "68. 'AT2H'\n",
       "69. 'AT4H'\n",
       "70. 'AT24H'\n",
       "71. 'Alld_ratio0'\n",
       "72. 'corr_atacseq_gene'\n",
       "73. 'corr_atacseq_otherEnd'\n",
       "74. 'corr_gene_otherEnd'\n",
       "\n",
       "\n"
      ],
      "text/plain": [
       " [1] \"ATACchr\"               \"ATACstart\"             \"ATACend\"              \n",
       " [4] \"otherEndID\"            \"otherEndchr\"           \"otherEndstart\"        \n",
       " [7] \"otherEndend\"           \"ID\"                    \"ENSG\"                 \n",
       "[10] \"chr\"                   \"ENSGstart\"             \"ENSGend\"              \n",
       "[13] \"ET01\"                  \"ET201\"                 \"ET601\"                \n",
       "[16] \"ET2H1\"                 \"ET4H1\"                 \"ET24H1\"               \n",
       "[19] \"ET02\"                  \"ET202\"                 \"ET602\"                \n",
       "[22] \"ET2H2\"                 \"ET4H2\"                 \"ET24H2\"               \n",
       "[25] \"gene_BIC\"              \"gene_LR\"               \"ET0_a\"                \n",
       "[28] \"ET20_a\"                \"ET1H_a\"                \"ET2H_a\"               \n",
       "[31] \"ET4H_a\"                \"ET24H_a\"               \"baitID\"               \n",
       "[34] \"baitstart\"             \"baitend\"               \"T01\"                  \n",
       "[37] \"T02\"                   \"T201\"                  \"T202\"                 \n",
       "[40] \"T1H1\"                  \"T1H2\"                  \"T4H1\"                 \n",
       "[43] \"T4H2\"                  \"T24H1\"                 \"baitchr\"              \n",
       "[46] \"corr_rep\"              \"T0\"                    \"T20\"                  \n",
       "[49] \"T1H\"                   \"T4H\"                   \"T24H\"                 \n",
       "[52] \"Awidth\"                \"Astrand\"               \"Aannotation\"          \n",
       "[55] \"Agenechr\"              \"Agenestart\"            \"Ageneend\"             \n",
       "[58] \"Agenelength\"           \"Agenestrand\"           \"Ageneid\"              \n",
       "[61] \"Atranscriptid\"         \"AdistanceToTss\"        \"AENSG\"                \n",
       "[64] \"ASYMBOL\"               \"AT0\"                   \"AT20\"                 \n",
       "[67] \"AT1H\"                  \"AT2H\"                  \"AT4H\"                 \n",
       "[70] \"AT24H\"                 \"Alld_ratio0\"           \"corr_atacseq_gene\"    \n",
       "[73] \"corr_atacseq_otherEnd\" \"corr_gene_otherEnd\"   "
      ]
     },
     "metadata": {},
     "output_type": "display_data"
    }
   ],
   "source": [
    "names(data)"
   ]
  },
  {
   "cell_type": "code",
   "execution_count": 8,
   "metadata": {},
   "outputs": [
    {
     "data": {
      "text/html": [
       "44113"
      ],
      "text/latex": [
       "44113"
      ],
      "text/markdown": [
       "44113"
      ],
      "text/plain": [
       "[1] 44113"
      ]
     },
     "metadata": {},
     "output_type": "display_data"
    }
   ],
   "source": [
    "sum(!is.na(data$corr_gene_otherEnd))"
   ]
  },
  {
   "cell_type": "code",
   "execution_count": 9,
   "metadata": {
    "scrolled": true
   },
   "outputs": [
    {
     "data": {
      "text/html": [
       "<style>\n",
       ".list-inline {list-style: none; margin:0; padding: 0}\n",
       ".list-inline>li {display: inline-block}\n",
       ".list-inline>li:not(:last-child)::after {content: \"\\00b7\"; padding: 0 .5ex}\n",
       "</style>\n",
       "<ol class=list-inline><li>27676</li><li>74</li></ol>\n"
      ],
      "text/latex": [
       "\\begin{enumerate*}\n",
       "\\item 27676\n",
       "\\item 74\n",
       "\\end{enumerate*}\n"
      ],
      "text/markdown": [
       "1. 27676\n",
       "2. 74\n",
       "\n",
       "\n"
      ],
      "text/plain": [
       "[1] 27676    74"
      ]
     },
     "metadata": {},
     "output_type": "display_data"
    }
   ],
   "source": [
    "dim(data[complete.cases(data),])"
   ]
  },
  {
   "cell_type": "markdown",
   "metadata": {},
   "source": [
    "### separate data by the distance between baits and otherEnds"
   ]
  },
  {
   "cell_type": "code",
   "execution_count": 10,
   "metadata": {},
   "outputs": [],
   "source": [
    "data$ATACpos <- 0.5*(data$ATACstart + data$ATACend)\n",
    "data$otherEndpos <- 0.5*(data$otherEndstart + data$otherEndend)\n",
    "data$baitpos <- 0.5*(data$baitstart + data$baitend)\n",
    "data$ENSGpos <- 0.5*(data$ENSGstart + data$ENSGend)\n",
    "data$dist_ATAC_gene <- abs(data$ATACpos - data$ENSGpos)\n",
    "data$dist_otherEnd_bait <- abs(data$otherEndpos - data$baitpos)\n",
    "data$dist_bait_gene <- abs(data$baitpos - data$ENSGpos)\n",
    "data$dist_ATAC_bait <- abs(data$baitpos - data$ATACpos)\n",
    "\n",
    "\n",
    "data_200k <- subset(data, data$dist_otherEnd_bait<200000)\n",
    "data_500k <- subset(data, data$dist_otherEnd_bait<500000)\n",
    "data_1MB <- subset(data, data$dist_otherEnd_bait<1000000)\n",
    "data_5MB <- subset(data, data$dist_otherEnd_bait<5000000)\n",
    "data_from200kto500k <- subset(data, (data$dist_otherEnd_bait>=200000) \n",
    "                                                          & (data$dist_otherEnd_bait<500000))\n",
    "data_from500kto1MB <- subset(data, (data$dist_otherEnd_bait>=500000) \n",
    "                                                          & (data$dist_otherEnd_bait<1000000))\n",
    "data_from1MBto5MB <- subset(data, (data$dist_otherEnd_bait>=1000000) \n",
    "                                                          & (data$dist_otherEnd_bait<5000000))"
   ]
  },
  {
   "cell_type": "markdown",
   "metadata": {},
   "source": [
    "### get data ready for Fig. 4a"
   ]
  },
  {
   "cell_type": "code",
   "execution_count": 11,
   "metadata": {},
   "outputs": [],
   "source": [
    "idx_atacseq <- c('AT0','AT20','AT1H','AT2H','AT4H','AT24H')\n",
    "idx_atacseq_withID <- c('ATACchr','ATACstart','ATACend',idx_atacseq)\n",
    "idx_gene <- c('ET0_a','ET20_a','ET1H_a','ET2H_a','ET4H_a','ET24H_a')\n",
    "idx_gene_withID <- c('ENSG', idx_gene)\n",
    "idx_chic <- c('T0','T20','T1H','T4H','T24H')\n",
    "idx_chic_withID <- c('baitID','otherEndID', idx_chic)\n"
   ]
  },
  {
   "cell_type": "code",
   "execution_count": 12,
   "metadata": {},
   "outputs": [],
   "source": [
    "atacseq_picked_200k <- unique(data_200k[,idx_atacseq_withID])\n",
    "atacseq_picked_from200kto500k <- unique(data_from200kto500k[,idx_atacseq_withID])\n",
    "atacseq_picked_from500kto1MB <- unique(data_from500kto1MB[,idx_atacseq_withID])\n",
    "atacseq_picked_from1MBto5MB <- unique(data_from1MBto5MB[,idx_atacseq_withID])\n",
    "atacseq_picked_5MB <- unique(data_5MB[,idx_atacseq_withID])\n",
    "atacseq_picked_1MB <- unique(data_1MB[,idx_atacseq_withID])\n",
    "atacseq_picked_500k <- unique(data_500k[,idx_atacseq_withID])\n",
    "\n",
    "gene_picked_200k <- unique(data_200k[,idx_gene_withID])\n",
    "gene_picked_from200kto500k <- unique(data_from200kto500k[,idx_gene_withID])\n",
    "gene_picked_from500kto1MB <- unique(data_from500kto1MB[,idx_gene_withID])\n",
    "gene_picked_from1MBto5MB <- unique(data_from1MBto5MB[,idx_gene_withID])\n",
    "gene_picked_5MB <- unique(data_5MB[,idx_gene_withID])\n",
    "gene_picked_1MB <- unique(data_1MB[,idx_gene_withID])\n",
    "gene_picked_500k <- unique(data_500k[,idx_gene_withID])\n",
    "\n",
    "chic_picked_200k <- unique(data_200k[,idx_chic_withID])\n",
    "chic_picked_from200kto500k <- unique(data_from200kto500k[,idx_chic_withID])\n",
    "chic_picked_from500kto1MB <- unique(data_from500kto1MB[,idx_chic_withID])\n",
    "chic_picked_from1MBto5MB <- unique(data_from1MBto5MB[,idx_chic_withID])\n",
    "chic_picked_5MB <- unique(data_5MB[,idx_chic_withID])\n",
    "chic_picked_1MB <- unique(data_1MB[,idx_chic_withID])\n",
    "chic_picked_500k <- unique(data_500k[,idx_chic_withID])\n"
   ]
  },
  {
   "cell_type": "markdown",
   "metadata": {},
   "source": [
    "### creatae random background for the correltion density plots"
   ]
  },
  {
   "cell_type": "code",
   "execution_count": 13,
   "metadata": {},
   "outputs": [],
   "source": [
    "N_5MB <- dim(data_5MB)[1]\n",
    "N_1MB <- dim(data_1MB)[1]\n",
    "N_500k <- dim(data_500k)[1]\n",
    "N_200k <- dim(data_200k)[1]\n",
    "N_from1MBto5MB <- dim(data_from1MBto5MB)[1]\n",
    "N_from500kto1MB <- dim(data_from500kto1MB)[1]\n",
    "N_from200kto500k <- dim(data_from200kto500k)[1]\n"
   ]
  },
  {
   "cell_type": "code",
   "execution_count": 14,
   "metadata": {},
   "outputs": [],
   "source": [
    "\n",
    "idx_atac_200k_ind <- floor(runif(N_200k, 1,dim(atacseq_picked_200k)[1]))\n",
    "idx_atac_from200kto500k_ind <- floor(runif(N_from200kto500k, 1,dim(atacseq_picked_from200kto500k)[1]))\n",
    "idx_atac_from500kto1MB_ind <- floor(runif(N_from500kto1MB, 1,dim(atacseq_picked_from500kto1MB)[1]))\n",
    "idx_atac_from1MBto5MB_ind <- floor(runif(N_from1MBto5MB, 1,dim(atacseq_picked_from1MBto5MB)[1]))\n",
    "idx_atac_5MB_ind <- floor(runif(N_5MB, 1,dim(atacseq_picked_5MB)[1]))\n",
    "idx_atac_1MB_ind <- floor(runif(N_1MB, 1,dim(atacseq_picked_1MB)[1]))\n",
    "idx_atac_500k_ind <- floor(runif(N_500k, 1,dim(atacseq_picked_500k)[1]))\n",
    "\n",
    "idx_gene_200k_ind <- floor(runif(N_200k, 1,dim(gene_picked_200k)[1]))\n",
    "idx_gene_from200kto500k_ind <- floor(runif(N_from200kto500k, 1,dim(gene_picked_from200kto500k)[1]))\n",
    "idx_gene_from500kto1MB_ind <- floor(runif(N_from500kto1MB, 1,dim(gene_picked_from500kto1MB)[1]))\n",
    "idx_gene_from1MBto5MB_ind <- floor(runif(N_from1MBto5MB, 1,dim(gene_picked_from1MBto5MB)[1]))\n",
    "idx_gene_5MB_ind <- floor(runif(N_5MB, 1,dim(gene_picked_5MB)[1]))\n",
    "idx_gene_1MB_ind <- floor(runif(N_1MB, 1,dim(gene_picked_1MB)[1]))\n",
    "idx_gene_500k_ind <- floor(runif(N_500k, 1,dim(gene_picked_500k)[1]))\n",
    "\n",
    "idx_chic_200k_ind <- floor(runif(N_200k, 1,dim(chic_picked_200k)[1]))\n",
    "idx_chic_from200kto500k_ind <- floor(runif(N_from200kto500k, 1,dim(chic_picked_from200kto500k)[1]))\n",
    "idx_chic_from500kto1MB_ind <- floor(runif(N_from500kto1MB, 1,dim(chic_picked_from500kto1MB)[1]))\n",
    "idx_chic_from1MBto5MB_ind <- floor(runif(N_from1MBto5MB, 1,dim(chic_picked_from1MBto5MB)[1]))\n",
    "idx_chic_5MB_ind <- floor(runif(N_5MB, 1,dim(chic_picked_5MB)[1]))\n",
    "idx_chic_1MB_ind <- floor(runif(N_1MB, 1,dim(chic_picked_1MB)[1]))\n",
    "idx_chic_500k_ind <- floor(runif(N_500k, 1,dim(chic_picked_500k)[1]))\n"
   ]
  },
  {
   "cell_type": "code",
   "execution_count": 15,
   "metadata": {},
   "outputs": [],
   "source": [
    "corr_aandg_random_200k_ind <- sapply(seq.int(N_200k),function(i) cor(t(atacseq_picked_200k[idx_atac_200k_ind[i],idx_atacseq]),t(gene_picked_200k[idx_gene_200k_ind[i],idx_gene])))\n",
    "corr_aandg_random_from200kto500k_ind <- sapply(seq.int(N_from200kto500k),function(i) cor(t(atacseq_picked_from200kto500k[idx_atac_from200kto500k_ind[i],idx_atacseq]),t(gene_picked_from200kto500k[idx_gene_from200kto500k_ind[i],idx_gene])))\n",
    "corr_aandg_random_from500kto1MB_ind <- sapply(seq.int(N_from500kto1MB),function(i) cor(t(atacseq_picked_from500kto1MB[idx_atac_from500kto1MB_ind[i],idx_atacseq]),t(gene_picked_from500kto1MB[idx_gene_from500kto1MB_ind[i],idx_gene])))\n",
    "corr_aandg_random_from1MBto5MB_ind <- sapply(seq.int(N_from1MBto5MB),function(i) cor(t(atacseq_picked_from1MBto5MB[idx_atac_from1MBto5MB_ind[i],idx_atacseq]),t(gene_picked_from1MBto5MB[idx_gene_from1MBto5MB_ind[i],idx_gene])))\n",
    "corr_aandg_random_5MB_ind <- sapply(seq.int(N_5MB),function(i) cor(t(atacseq_picked_5MB[idx_atac_5MB_ind[i],idx_atacseq]),t(gene_picked_5MB[idx_gene_5MB_ind[i],idx_gene])))\n",
    "corr_aandg_random_1MB_ind <- sapply(seq.int(N_1MB),function(i) cor(t(atacseq_picked_1MB[idx_atac_1MB_ind[i],idx_atacseq]),t(gene_picked_1MB[idx_gene_1MB_ind[i],idx_gene])))\n",
    "corr_aandg_random_500k_ind <- sapply(seq.int(N_500k),function(i) cor(t(atacseq_picked_500k[idx_atac_500k_ind[i],idx_atacseq]),t(gene_picked_500k[idx_gene_500k_ind[i],idx_gene])))\n"
   ]
  },
  {
   "cell_type": "code",
   "execution_count": 16,
   "metadata": {},
   "outputs": [],
   "source": [
    "corr_aandOE_random_200k_ind <- sapply(seq.int(N_200k),function(i) cor(t(atacseq_picked_200k[idx_atac_200k_ind[i],c('AT0','AT20','AT1H','AT4H','AT24H')]),t(chic_picked_200k[idx_chic_200k_ind[i],idx_chic])))\n",
    "corr_aandOE_random_from200kto500k_ind <- sapply(seq.int(N_from200kto500k),function(i) cor(t(atacseq_picked_from200kto500k[idx_atac_from200kto500k_ind[i],c('AT0','AT20','AT1H','AT4H','AT24H')]),t(chic_picked_from200kto500k[idx_chic_from200kto500k_ind[i],idx_chic])))\n",
    "corr_aandOE_random_from500kto1MB_ind <- sapply(seq.int(N_from500kto1MB),function(i) cor(t(atacseq_picked_from500kto1MB[idx_atac_from500kto1MB_ind[i],c('AT0','AT20','AT1H','AT4H','AT24H')]),t(chic_picked_from500kto1MB[idx_chic_from500kto1MB_ind[i],idx_chic])))\n",
    "corr_aandOE_random_from1MBto5MB_ind <- sapply(seq.int(N_from1MBto5MB),function(i) cor(t(atacseq_picked_from1MBto5MB[idx_atac_from1MBto5MB_ind[i],c('AT0','AT20','AT1H','AT4H','AT24H')]),t(chic_picked_from1MBto5MB[idx_chic_from1MBto5MB_ind[i],idx_chic])))\n",
    "corr_aandOE_random_5MB_ind <- sapply(seq.int(N_5MB),function(i) cor(t(atacseq_picked_5MB[idx_atac_5MB_ind[i],c('AT0','AT20','AT1H','AT4H','AT24H')]),t(chic_picked_5MB[idx_chic_5MB_ind[i],idx_chic])))\n",
    "corr_aandOE_random_1MB_ind <- sapply(seq.int(N_1MB),function(i) cor(t(atacseq_picked_1MB[idx_atac_1MB_ind[i],c('AT0','AT20','AT1H','AT4H','AT24H')]),t(chic_picked_1MB[idx_chic_1MB_ind[i],idx_chic])))\n",
    "corr_aandOE_random_500k_ind <- sapply(seq.int(N_500k),function(i) cor(t(atacseq_picked_500k[idx_atac_500k_ind[i],c('AT0','AT20','AT1H','AT4H','AT24H')]),t(chic_picked_500k[idx_chic_500k_ind[i],idx_chic])))\n"
   ]
  },
  {
   "cell_type": "code",
   "execution_count": 17,
   "metadata": {},
   "outputs": [],
   "source": [
    "corr_gandOE_random_200k_ind <- sapply(seq.int(N_200k),function(i) cor(t(gene_picked_200k[idx_gene_200k_ind[i],c('ET0_a','ET20_a','ET1H_a','ET4H_a','ET24H_a')]),t(chic_picked_200k[idx_chic_200k_ind[i],idx_chic])))\n",
    "corr_gandOE_random_from200kto500k_ind <- sapply(seq.int(N_from200kto500k),function(i) cor(t(gene_picked_from200kto500k[idx_gene_from200kto500k_ind[i],c('ET0_a','ET20_a','ET1H_a','ET4H_a','ET24H_a')]),t(chic_picked_from200kto500k[idx_chic_from200kto500k_ind[i],idx_chic])))\n",
    "corr_gandOE_random_from500kto1MB_ind <- sapply(seq.int(N_from500kto1MB),function(i) cor(t(gene_picked_from500kto1MB[idx_gene_from500kto1MB_ind[i],c('ET0_a','ET20_a','ET1H_a','ET4H_a','ET24H_a')]),t(chic_picked_from500kto1MB[idx_chic_from500kto1MB_ind[i],idx_chic])))\n",
    "corr_gandOE_random_from1MBto5MB_ind <- sapply(seq.int(N_from1MBto5MB),function(i) cor(t(gene_picked_from1MBto5MB[idx_gene_from1MBto5MB_ind[i],c('ET0_a','ET20_a','ET1H_a','ET4H_a','ET24H_a')]),t(chic_picked_from1MBto5MB[idx_chic_from1MBto5MB_ind[i],idx_chic])))\n",
    "corr_gandOE_random_5MB_ind <- sapply(seq.int(N_5MB),function(i) cor(t(gene_picked_5MB[idx_gene_5MB_ind[i],c('ET0_a','ET20_a','ET1H_a','ET4H_a','ET24H_a')]),t(chic_picked_5MB[idx_chic_5MB_ind[i],idx_chic])))\n",
    "corr_gandOE_random_1MB_ind <- sapply(seq.int(N_1MB),function(i) cor(t(gene_picked_1MB[idx_gene_1MB_ind[i],c('ET0_a','ET20_a','ET1H_a','ET4H_a','ET24H_a')]),t(chic_picked_1MB[idx_chic_1MB_ind[i],idx_chic])))\n",
    "corr_gandOE_random_500k_ind <- sapply(seq.int(N_500k),function(i) cor(t(gene_picked_500k[idx_gene_500k_ind[i],c('ET0_a','ET20_a','ET1H_a','ET4H_a','ET24H_a')]),t(chic_picked_500k[idx_chic_500k_ind[i],idx_chic])))\n"
   ]
  },
  {
   "cell_type": "code",
   "execution_count": 18,
   "metadata": {},
   "outputs": [],
   "source": [
    "write.table(data_200k, file='data/data_within200kb_withBIC_new.txt',quote=F, row.names=F)"
   ]
  },
  {
   "cell_type": "markdown",
   "metadata": {},
   "source": [
    "### plotting the correlation densities whthin different distance ranges (p value from wilcoxon test below )"
   ]
  },
  {
   "cell_type": "code",
   "execution_count": 19,
   "metadata": {},
   "outputs": [
    {
     "data": {
      "image/png": "[encoded data removed]",
      "text/plain": [
       "plot without title"
      ]
     },
     "metadata": {
      "image/png": {
       "height": 420,
       "width": 420
      }
     },
     "output_type": "display_data"
    }
   ],
   "source": [
    "row0 <- dim(data_5MB)[1]\n",
    "rowfrom1MBto5MB <- dim(data_from1MBto5MB)[1]\n",
    "rowfrom500kto1MB <-dim(data_from500kto1MB)[1]\n",
    "rowfrom200kto500k <- dim(data_from200kto500k)[1]\n",
    "row200k <- dim(data_200k)[1]\n",
    "row_all <- row0 + rowfrom1MBto5MB +rowfrom500kto1MB + rowfrom200kto500k + row200k\n",
    "data_forplot <- data.frame( correlation=c(data_5MB$corr_atacseq_gene, \n",
    "   data_from1MBto5MB$corr_atacseq_gene, data_from500kto1MB$corr_atacseq_gene, \n",
    "   data_from200kto500k$corr_atacseq_gene, data_200k$corr_atacseq_gene, data_5MB$corr_atacseq_otherEnd, \n",
    "   data_from1MBto5MB$corr_atacseq_otherEnd, data_from500kto1MB$corr_atacseq_otherEnd, \n",
    "   data_from200kto500k$corr_atacseq_otherEnd, data_200k$corr_atacseq_otherEnd, data_5MB$corr_gene_otherEnd, \n",
    "   data_from1MBto5MB$corr_gene_otherEnd, data_from500kto1MB$corr_gene_otherEnd, \n",
    "   data_from200kto500k$corr_gene_otherEnd, data_200k$corr_gene_otherEnd), \n",
    "    \n",
    "    label=rep(c('corr_ATAC_gene ','corr_ATAC_CHiC ','corr_gene_CHiC '), each=row_all), \n",
    "            category=rep(rep(c('<5Mb','1Mb-5Mb','500kb-1Mb','200kb-500kb','<200kb'), \n",
    "                             c(row0, rowfrom1MBto5MB, rowfrom500kto1MB, rowfrom200kto500k, row200k)),3),\n",
    "            pvalue=c(rep(c(\"italic(p) < 2.2e-16\",\"italic(p) == 0.011\",\"italic(p) == 0.17\",\"italic(p) == 0.002\",\"italic(p) < 2.2e-16\"),\n",
    "                     c(row0, rowfrom1MBto5MB, rowfrom500kto1MB, rowfrom200kto500k, row200k)),\n",
    "                    rep(c(\"italic(p) < 2.2e-16\",\"italic(p) == 3.8e-07\",\"italic(p) == 1.7e-13\",\"italic(p) < 2.2e-16\",\"italic(p) < 2.2e-16\"),\n",
    "                     c(row0, rowfrom1MBto5MB, rowfrom500kto1MB, rowfrom200kto500k, row200k)),\n",
    "                    rep(c(\"italic(p) == 1.8e-04\",\"italic(p) == 0.23\",\"italic(p) == 0.16\",\"italic(p) == 0.75\",\"italic(p) < 2.2e-16\"),\n",
    "                     c(row0, rowfrom1MBto5MB, rowfrom500kto1MB, rowfrom200kto500k, row200k)))\n",
    "    )\n",
    "\n",
    "data_forplot$category_f <- factor(data_forplot$category, levels=c('<5Mb','1Mb-5Mb','500kb-1Mb','200kb-500kb','<200kb'))\n",
    "\n",
    "data_forplot2 <- data.frame(correlation_random = c(corr_aandg_random_5MB_ind, corr_aandg_random_from1MBto5MB_ind, \n",
    "                                                   corr_aandg_random_from500kto1MB_ind, corr_aandg_random_from200kto500k_ind, \n",
    "                                                   corr_aandg_random_200k_ind,\n",
    "                                                   corr_aandOE_random_5MB_ind, corr_aandOE_random_from1MBto5MB_ind,\n",
    "                                                   corr_aandOE_random_from500kto1MB_ind, corr_aandOE_random_from200kto500k_ind,\n",
    "                                                   corr_aandOE_random_200k_ind,\n",
    "                                                   corr_gandOE_random_5MB_ind, corr_gandOE_random_from1MBto5MB_ind,\n",
    "                                                   corr_gandOE_random_from500kto1MB_ind, corr_gandOE_random_from200kto500k_ind,\n",
    "                                                   corr_gandOE_random_200k_ind),\n",
    "                    label=rep(c('corr_ATAC_gene ','corr_ATAC_CHiC ','corr_gene_CHiC '), each=row_all), \n",
    "                    category=rep(rep(c('<5Mb','1Mb-5Mb','500kb-1Mb','200kb-500kb','<200kb'), \n",
    "                             c(row0, rowfrom1MBto5MB, rowfrom500kto1MB, rowfrom200kto500k, row200k)),3))\n",
    "data_forplot2$category_f <- factor(data_forplot2$category, levels=c('<5Mb','1Mb-5Mb','500kb-1Mb','200kb-500kb','<200kb'))\n",
    "\n",
    "p0 <- ggplot() + geom_density(data=data_forplot , aes(x=correlation, fill=label), color='white', alpha=0.8)  +\n",
    "geom_density(data=data_forplot2, aes(x=correlation_random), color='black', size=0.5, alpha=1.0) +\n",
    "geom_text(data=data_forplot, aes(x=0.0,y=0.05, label=pvalue), color='black', parse=TRUE, size=3) +\n",
    " scale_x_continuous(breaks=c(-1.0,0.0,1.0), labels=c(-1.0,0.0,1.0)) +\n",
    "#scale_fill_locuszoom() +\n",
    "scale_fill_brewer(palette=\"Pastel2\") + \n",
    "theme(panel.background = element_blank(), plot.title = element_text(face='bold', size=14),\n",
    "      text=element_text(size=10),\n",
    "         axis.title=element_text(size=10,face=\"bold\"), axis.text=element_text(size=8,face=\"bold\"), axis.line=element_line('black'),\n",
    "      ,legend.title=element_blank(), legend.text=element_text(size=8), \n",
    "      legend.box.background = element_rect(size=3, color='NA'),\n",
    "      legend.key.size = unit(0.4, \"cm\"), legend.spacing.x = unit(0.3, 'cm'),\n",
    "      strip.text.x=element_text(siz=10, face='bold'), strip.text.y=element_text(size=10, face='bold'), legend.position=\"top\") +\n",
    " xlab('Correlation') + ylab('Density') + #ggtitle('Fig. 4a') +\n",
    "facet_grid(label ~ category_f) \n",
    "#ggsave('~/Dropbox (The University of Manchester)/IntegratingATAC-RNA-HiC/Individual_Figures_Files/CHiC_ATACSeq_gene/correlations_within_ranges_0602.pdf', p0, dpi=600)#+ ggtitle('p value from Wilcox test')\n",
    "#ggsave(filename='correlation_withinrange.pdf',p0, dpi=300)\n",
    "p0"
   ]
  },
  {
   "cell_type": "code",
   "execution_count": null,
   "metadata": {},
   "outputs": [],
   "source": [
    "p0"
   ]
  },
  {
   "cell_type": "code",
   "execution_count": null,
   "metadata": {},
   "outputs": [],
   "source": [
    "table(data_forplot$category)"
   ]
  },
  {
   "cell_type": "code",
   "execution_count": null,
   "metadata": {},
   "outputs": [],
   "source": [
    "head(data_forplot2)"
   ]
  },
  {
   "cell_type": "code",
   "execution_count": null,
   "metadata": {
    "scrolled": true
   },
   "outputs": [],
   "source": [
    "table(data_forplot2$label)\n",
    "table(data_forplot2$category)"
   ]
  },
  {
   "cell_type": "code",
   "execution_count": null,
   "metadata": {},
   "outputs": [],
   "source": [
    "data_forplot %>% filter(category %in% '<5Mb' & label %in% 'corr_ATAC_gene') \n"
   ]
  },
  {
   "cell_type": "code",
   "execution_count": null,
   "metadata": {},
   "outputs": [],
   "source": [
    "data_sample1 <- data_forplot %>% filter(category %in% '<5Mb' & label %in% 'corr_ATAC_gene ') %>% select(correlation)\n",
    "data_sample2 <- data_forplot2 %>% filter(category %in% '<5Mb' & label %in% 'corr_ATAC_gene ') %>% select(correlation_random)\n",
    "wilcox.test(data_sample1$correlation, data_sample2$correlation_random)\n",
    "dim(data_sample1)\n",
    "dim(data_sample2)\n",
    "data_sample1 <- data_forplot %>% filter(category %in% '1Mb-5Mb' & label %in% 'corr_ATAC_gene ') %>% select(correlation)\n",
    "data_sample2 <- data_forplot2 %>% filter(category %in% '1Mb-5Mb' & label %in% 'corr_ATAC_gene ') %>% select(correlation_random)\n",
    "wilcox.test(data_sample1$correlation, data_sample2$correlation_random, alternative='two.sided')\n",
    "dim(data_sample1)\n",
    "dim(data_sample2)\n",
    "data_sample1 <- data_forplot %>% filter(category %in% '500kb-1Mb' & label %in% 'corr_ATAC_gene ') %>% select(correlation)\n",
    "data_sample2 <- data_forplot2 %>% filter(category %in% '500kb-1Mb' & label %in% 'corr_ATAC_gene ') %>% select(correlation_random)\n",
    "wilcox.test(data_sample1$correlation, data_sample2$correlation_random)\n",
    "dim(data_sample1)\n",
    "dim(data_sample2)\n",
    "data_sample1 <- data_forplot %>% filter(category %in% '200kb-500kb' & label %in% 'corr_ATAC_gene ') %>% select(correlation)\n",
    "data_sample2 <- data_forplot2 %>% filter(category %in% '200kb-500kb' & label %in% 'corr_ATAC_gene ') %>% select(correlation_random)\n",
    "wilcox.test(data_sample1$correlation, data_sample2$correlation_random)\n",
    "data_sample1 <- data_forplot %>% filter(category %in% '<200kb' & label %in% 'corr_ATAC_gene ') %>% select(correlation)\n",
    "data_sample2 <- data_forplot2 %>% filter(category %in% '<200kb' & label %in% 'corr_ATAC_gene ') %>% select(correlation_random)\n",
    "wilcox.test(data_sample1$correlation, data_sample2$correlation_random)\n"
   ]
  },
  {
   "cell_type": "code",
   "execution_count": null,
   "metadata": {},
   "outputs": [],
   "source": [
    "data_sample1 <- data_forplot %>% filter(category %in% '<5Mb' & label %in% 'corr_ATAC_CHiC ') %>% select(correlation)\n",
    "data_sample2 <- data_forplot2 %>% filter(category %in% '<5Mb' & label %in% 'corr_ATAC_CHiC ') %>% select(correlation_random)\n",
    "wilcox.test(data_sample1$correlation, data_sample2$correlation_random)\n",
    "data_sample1 <- data_forplot %>% filter(category %in% '1Mb-5Mb' & label %in% 'corr_ATAC_CHiC ') %>% select(correlation)\n",
    "data_sample2 <- data_forplot2 %>% filter(category %in% '1Mb-5Mb' & label %in% 'corr_ATAC_CHiC ') %>% select(correlation_random)\n",
    "wilcox.test(data_sample1$correlation, data_sample2$correlation_random)\n",
    "data_sample1 <- data_forplot %>% filter(category %in% '500kb-1Mb' & label %in% 'corr_ATAC_CHiC ') %>% select(correlation)\n",
    "data_sample2 <- data_forplot2 %>% filter(category %in% '500kb-1Mb' & label %in% 'corr_ATAC_CHiC ') %>% select(correlation_random)\n",
    "wilcox.test(data_sample1$correlation, data_sample2$correlation_random)\n",
    "data_sample1 <- data_forplot %>% filter(category %in% '200kb-500kb' & label %in% 'corr_ATAC_CHiC ') %>% select(correlation)\n",
    "data_sample2 <- data_forplot2 %>% filter(category %in% '200kb-500kb' & label %in% 'corr_ATAC_CHiC ') %>% select(correlation_random)\n",
    "wilcox.test(data_sample1$correlation, data_sample2$correlation_random)\n",
    "data_sample1 <- data_forplot %>% filter(category %in% '<200kb' & label %in% 'corr_ATAC_CHiC ') %>% select(correlation)\n",
    "data_sample2 <- data_forplot2 %>% filter(category %in% '<200kb' & label %in% 'corr_ATAC_CHiC ') %>% select(correlation_random)\n",
    "wilcox.test(data_sample1$correlation, data_sample2$correlation_random)\n"
   ]
  },
  {
   "cell_type": "code",
   "execution_count": null,
   "metadata": {},
   "outputs": [],
   "source": [
    "data_sample1 <- data_forplot %>% filter(category %in% '<5Mb' & label %in% 'corr_gene_CHiC ') %>% select(correlation)\n",
    "data_sample2 <- data_forplot2 %>% filter(category %in% '<5Mb' & label %in% 'corr_gene_CHiC ') %>% select(correlation_random)\n",
    "wilcox.test(data_sample1$correlation, data_sample2$correlation_random)\n",
    "data_sample1 <- data_forplot %>% filter(category %in% '1Mb-5Mb' & label %in% 'corr_gene_CHiC ') %>% select(correlation)\n",
    "data_sample2 <- data_forplot2 %>% filter(category %in% '1Mb-5Mb' & label %in% 'corr_gene_CHiC ') %>% select(correlation_random)\n",
    "wilcox.test(data_sample1$correlation, data_sample2$correlation_random)\n",
    "data_sample1 <- data_forplot %>% filter(category %in% '500kb-1Mb' & label %in% 'corr_gene_CHiC ') %>% select(correlation)\n",
    "data_sample2 <- data_forplot2 %>% filter(category %in% '500kb-1Mb' & label %in% 'corr_gene_CHiC ') %>% select(correlation_random)\n",
    "wilcox.test(data_sample1$correlation, data_sample2$correlation_random)\n",
    "data_sample1 <- data_forplot %>% filter(category %in% '200kb-500kb' & label %in% 'corr_gene_CHiC ') %>% select(correlation)\n",
    "data_sample2 <- data_forplot2 %>% filter(category %in% '200kb-500kb' & label %in% 'corr_gene_CHiC ') %>% select(correlation_random)\n",
    "wilcox.test(data_sample1$correlation, data_sample2$correlation_random)\n",
    "data_sample1 <- data_forplot %>% filter(category %in% '<200kb' & label %in% 'corr_gene_CHiC ') %>% select(correlation)\n",
    "data_sample2 <- data_forplot2 %>% filter(category %in% '<200kb' & label %in% 'corr_gene_CHiC ') %>% select(correlation_random)\n",
    "wilcox.test(data_sample1$correlation, data_sample2$correlation_random)\n"
   ]
  },
  {
   "cell_type": "markdown",
   "metadata": {},
   "source": [
    "### Plotting correlation densities for different distance thresholds"
   ]
  },
  {
   "cell_type": "code",
   "execution_count": null,
   "metadata": {},
   "outputs": [],
   "source": [
    "row0 <- dim(data_5MB)[1]\n",
    "row1MB <- dim(data_1MB)[1]\n",
    "row500k <-dim(data_500k)[1]\n",
    "row200k <- dim(data_200k)[1]\n",
    "row_all <- row0 + row1MB +row500k + row200k\n",
    "data_forplot <- data.frame( correlation=c(data_5MB$corr_atacseq_gene, \n",
    "   data_1MB$corr_atacseq_gene, data_500k$corr_atacseq_gene, \n",
    "   data_200k$corr_atacseq_gene, data_5MB$corr_atacseq_otherEnd, \n",
    "   data_1MB$corr_atacseq_otherEnd, data_500k$corr_atacseq_otherEnd, \n",
    "   data_200k$corr_atacseq_otherEnd, data_5MB$corr_gene_otherEnd, \n",
    "   data_1MB$corr_gene_otherEnd, data_500k$corr_gene_otherEnd, \n",
    "   data_200k$corr_gene_otherEnd),     \n",
    "    label=rep(c('corr_ATAC_gene','corr_ATAC_CHiC','corr_gene_CHiC'), each=row_all), \n",
    "            category=rep(rep(c('dist<5MB','dist<1MB','dist<500KB','dist<200KB'), c(row0, row1MB, row500k, row200k)),3)\n",
    "    )\n",
    "\n",
    "data_forplot$category_f <- factor(data_forplot$category, levels=c('dist<5MB','dist<1MB','dist<500KB','dist<200KB'))\n",
    "\n",
    "data_forplot2 <- data.frame(correlation_random = c(corr_aandg_random_5MB_ind, corr_aandg_random_1MB_ind, \n",
    "                                                   corr_aandg_random_500k_ind, corr_aandg_random_200k_ind, \n",
    "                                                   corr_aandOE_random_5MB_ind, corr_aandOE_random_1MB_ind,\n",
    "                                                   corr_aandOE_random_500k_ind, corr_aandOE_random_200k_ind,\n",
    "                                                   corr_gandOE_random_5MB_ind, corr_gandOE_random_1MB_ind,\n",
    "                                                   corr_gandOE_random_500k_ind, corr_gandOE_random_200k_ind),\n",
    "                    label=rep(c('corr_ATAC_gene','corr_ATAC_CHiC','corr_gene_CHiC'), each=4*N), \n",
    "                    category=rep(rep(c('dist<5MB','dist<1MB','dist<500KB','dist<200KB'), each=N)))\n",
    "data_forplot2$category_f <- factor(data_forplot2$category, levels=c('dist<5MB','dist<1MB','dist<500KB','dist<200KB'))\n",
    "\n",
    "ggplot() + geom_density(data=data_forplot , aes(x=correlation, fill=label), alpha=0.6)  +\n",
    "geom_density(data=data_forplot2, aes(x=correlation_random, color='Background'), alpha=0.6) +\n",
    " scale_x_continuous(breaks=c(-1.0,0.0,1.0), labels=c(-1.0,0.0,1.0)) +\n",
    "\n",
    "scale_fill_manual(values=c('corr_ATAC_gene'='lightblue','corr_ATAC_CHiC'='steelblue1','corr_gene_CHiC'='royalblue1',\n",
    "                           'Background'='black')) +\n",
    "theme(panel.background = element_blank(), plot.title = element_text(face='bold', size=14, hjust=-0.05, vjust=0.1),\n",
    "         axis.title=element_text(size=12,face=\"bold\"), axis.text=element_text(size=10), axis.line=element_line('black'),\n",
    "      ,legend.title=element_blank(), legend.text=element_text(size=6), \n",
    "      legend.box.background = element_rect(size=3, color='NA'),\n",
    "      legend.key.size = unit(0.4, \"cm\"), legend.spacing.x = unit(0.2, 'cm'),\n",
    "      strip.text.x=element_text(siz=8, face='bold'), strip.text.y=element_text(size=6, face='bold'), legend.position=\"bottom\") +\n",
    " xlab('Correlation') + ylab('Density') + ggtitle('Correltion density plots at different distance thresholds') +\n",
    "facet_grid(label ~ category_f)\n",
    "\n"
   ]
  }
 ],
 "metadata": {
  "kernelspec": {
   "display_name": "R",
   "language": "R",
   "name": "ir"
  },
  "language_info": {
   "codemirror_mode": "r",
   "file_extension": ".r",
   "mimetype": "text/x-r-source",
   "name": "R",
   "pygments_lexer": "r",
   "version": "3.6.3"
  }
 },
 "nbformat": 4,
 "nbformat_minor": 2
}
