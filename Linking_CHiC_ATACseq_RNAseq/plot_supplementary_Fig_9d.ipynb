{
 "cells": [
  {
   "cell_type": "code",
   "execution_count": 1,
   "metadata": {},
   "outputs": [
    {
     "name": "stderr",
     "output_type": "stream",
     "text": [
      "── \u001b[1mAttaching packages\u001b[22m ─────────────────────────────────────── tidyverse 1.3.0 ──\n",
      "\n",
      "\u001b[32m✔\u001b[39m \u001b[34mggplot2\u001b[39m 3.3.0     \u001b[32m✔\u001b[39m \u001b[34mpurrr  \u001b[39m 0.3.4\n",
      "\u001b[32m✔\u001b[39m \u001b[34mtibble \u001b[39m 3.0.1     \u001b[32m✔\u001b[39m \u001b[34mdplyr  \u001b[39m 0.8.5\n",
      "\u001b[32m✔\u001b[39m \u001b[34mtidyr  \u001b[39m 1.0.3     \u001b[32m✔\u001b[39m \u001b[34mstringr\u001b[39m 1.4.0\n",
      "\u001b[32m✔\u001b[39m \u001b[34mreadr  \u001b[39m 1.3.1     \u001b[32m✔\u001b[39m \u001b[34mforcats\u001b[39m 0.5.0\n",
      "\n",
      "── \u001b[1mConflicts\u001b[22m ────────────────────────────────────────── tidyverse_conflicts() ──\n",
      "\u001b[31m✖\u001b[39m \u001b[34mdplyr\u001b[39m::\u001b[32mfilter()\u001b[39m masks \u001b[34mstats\u001b[39m::filter()\n",
      "\u001b[31m✖\u001b[39m \u001b[34mdplyr\u001b[39m::\u001b[32mlag()\u001b[39m    masks \u001b[34mstats\u001b[39m::lag()\n",
      "\n",
      "\n",
      "Attaching package: ‘reshape2’\n",
      "\n",
      "\n",
      "The following object is masked from ‘package:tidyr’:\n",
      "\n",
      "    smiths\n",
      "\n",
      "\n",
      "\n",
      "Attaching package: ‘gridExtra’\n",
      "\n",
      "\n",
      "The following object is masked from ‘package:dplyr’:\n",
      "\n",
      "    combine\n",
      "\n",
      "\n",
      "\n",
      "Attaching package: ‘data.table’\n",
      "\n",
      "\n",
      "The following objects are masked from ‘package:reshape2’:\n",
      "\n",
      "    dcast, melt\n",
      "\n",
      "\n",
      "The following objects are masked from ‘package:dplyr’:\n",
      "\n",
      "    between, first, last\n",
      "\n",
      "\n",
      "The following object is masked from ‘package:purrr’:\n",
      "\n",
      "    transpose\n",
      "\n",
      "\n"
     ]
    }
   ],
   "source": [
    "\n",
    "library(tidyverse)\n",
    "library(reshape2)\n",
    "library(gridExtra)\n",
    "library(data.table)"
   ]
  },
  {
   "cell_type": "code",
   "execution_count": 2,
   "metadata": {},
   "outputs": [],
   "source": [
    "ATACseq_clustered <- read.csv('data/ATACseq_withcluster.txt', header=T)"
   ]
  },
  {
   "cell_type": "code",
   "execution_count": 3,
   "metadata": {},
   "outputs": [],
   "source": [
    "linked_data <- read.table('data/ATACseq_CHiC_RNAseq_linked.txt', header=T)"
   ]
  },
  {
   "cell_type": "code",
   "execution_count": 4,
   "metadata": {
    "scrolled": true
   },
   "outputs": [
    {
     "data": {
      "text/html": [
       "<table>\n",
       "<caption>A data.frame: 6 × 12</caption>\n",
       "<thead>\n",
       "\t<tr><th></th><th scope=col>chr</th><th scope=col>start</th><th scope=col>end</th><th scope=col>width</th><th scope=col>T0</th><th scope=col>T20</th><th scope=col>T60</th><th scope=col>T2H</th><th scope=col>T4H</th><th scope=col>T24H</th><th scope=col>LR</th><th scope=col>Cluster</th></tr>\n",
       "\t<tr><th></th><th scope=col>&lt;fct&gt;</th><th scope=col>&lt;int&gt;</th><th scope=col>&lt;int&gt;</th><th scope=col>&lt;int&gt;</th><th scope=col>&lt;dbl&gt;</th><th scope=col>&lt;dbl&gt;</th><th scope=col>&lt;dbl&gt;</th><th scope=col>&lt;dbl&gt;</th><th scope=col>&lt;dbl&gt;</th><th scope=col>&lt;dbl&gt;</th><th scope=col>&lt;dbl&gt;</th><th scope=col>&lt;int&gt;</th></tr>\n",
       "</thead>\n",
       "<tbody>\n",
       "\t<tr><th scope=row>1</th><td>chr10</td><td>100148537</td><td>100149145</td><td>609</td><td>6.308615</td><td>5.997314</td><td>6.371118</td><td>7.022634</td><td>8.320145</td><td>8.144691</td><td>-3.96546</td><td>0</td></tr>\n",
       "\t<tr><th scope=row>2</th><td>chr10</td><td>101161833</td><td>101162364</td><td>532</td><td>7.338236</td><td>6.947811</td><td>6.958460</td><td>6.880832</td><td>6.679306</td><td>7.082866</td><td>-1.17149</td><td>5</td></tr>\n",
       "\t<tr><th scope=row>3</th><td>chr10</td><td>101397063</td><td>101397480</td><td>418</td><td>6.607202</td><td>6.798536</td><td>6.333778</td><td>6.111942</td><td>5.572420</td><td>5.077424</td><td>-7.06772</td><td>3</td></tr>\n",
       "\t<tr><th scope=row>4</th><td>chr10</td><td>101442197</td><td>101442458</td><td>262</td><td>5.683413</td><td>5.564784</td><td>6.187952</td><td>6.186169</td><td>6.197164</td><td>6.004235</td><td>-1.06531</td><td>0</td></tr>\n",
       "\t<tr><th scope=row>5</th><td>chr10</td><td>101467306</td><td>101467557</td><td>252</td><td>5.652996</td><td>6.205735</td><td>6.295447</td><td>6.137111</td><td>5.847167</td><td>5.681351</td><td>-4.30695</td><td>1</td></tr>\n",
       "\t<tr><th scope=row>6</th><td>chr10</td><td>101495356</td><td>101495528</td><td>173</td><td>5.345845</td><td>4.133203</td><td>4.219080</td><td>4.517889</td><td>4.446034</td><td>5.220124</td><td>-1.25567</td><td>5</td></tr>\n",
       "</tbody>\n",
       "</table>\n"
      ],
      "text/latex": [
       "A data.frame: 6 × 12\n",
       "\\begin{tabular}{r|llllllllllll}\n",
       "  & chr & start & end & width & T0 & T20 & T60 & T2H & T4H & T24H & LR & Cluster\\\\\n",
       "  & <fct> & <int> & <int> & <int> & <dbl> & <dbl> & <dbl> & <dbl> & <dbl> & <dbl> & <dbl> & <int>\\\\\n",
       "\\hline\n",
       "\t1 & chr10 & 100148537 & 100149145 & 609 & 6.308615 & 5.997314 & 6.371118 & 7.022634 & 8.320145 & 8.144691 & -3.96546 & 0\\\\\n",
       "\t2 & chr10 & 101161833 & 101162364 & 532 & 7.338236 & 6.947811 & 6.958460 & 6.880832 & 6.679306 & 7.082866 & -1.17149 & 5\\\\\n",
       "\t3 & chr10 & 101397063 & 101397480 & 418 & 6.607202 & 6.798536 & 6.333778 & 6.111942 & 5.572420 & 5.077424 & -7.06772 & 3\\\\\n",
       "\t4 & chr10 & 101442197 & 101442458 & 262 & 5.683413 & 5.564784 & 6.187952 & 6.186169 & 6.197164 & 6.004235 & -1.06531 & 0\\\\\n",
       "\t5 & chr10 & 101467306 & 101467557 & 252 & 5.652996 & 6.205735 & 6.295447 & 6.137111 & 5.847167 & 5.681351 & -4.30695 & 1\\\\\n",
       "\t6 & chr10 & 101495356 & 101495528 & 173 & 5.345845 & 4.133203 & 4.219080 & 4.517889 & 4.446034 & 5.220124 & -1.25567 & 5\\\\\n",
       "\\end{tabular}\n"
      ],
      "text/markdown": [
       "\n",
       "A data.frame: 6 × 12\n",
       "\n",
       "| <!--/--> | chr &lt;fct&gt; | start &lt;int&gt; | end &lt;int&gt; | width &lt;int&gt; | T0 &lt;dbl&gt; | T20 &lt;dbl&gt; | T60 &lt;dbl&gt; | T2H &lt;dbl&gt; | T4H &lt;dbl&gt; | T24H &lt;dbl&gt; | LR &lt;dbl&gt; | Cluster &lt;int&gt; |\n",
       "|---|---|---|---|---|---|---|---|---|---|---|---|---|\n",
       "| 1 | chr10 | 100148537 | 100149145 | 609 | 6.308615 | 5.997314 | 6.371118 | 7.022634 | 8.320145 | 8.144691 | -3.96546 | 0 |\n",
       "| 2 | chr10 | 101161833 | 101162364 | 532 | 7.338236 | 6.947811 | 6.958460 | 6.880832 | 6.679306 | 7.082866 | -1.17149 | 5 |\n",
       "| 3 | chr10 | 101397063 | 101397480 | 418 | 6.607202 | 6.798536 | 6.333778 | 6.111942 | 5.572420 | 5.077424 | -7.06772 | 3 |\n",
       "| 4 | chr10 | 101442197 | 101442458 | 262 | 5.683413 | 5.564784 | 6.187952 | 6.186169 | 6.197164 | 6.004235 | -1.06531 | 0 |\n",
       "| 5 | chr10 | 101467306 | 101467557 | 252 | 5.652996 | 6.205735 | 6.295447 | 6.137111 | 5.847167 | 5.681351 | -4.30695 | 1 |\n",
       "| 6 | chr10 | 101495356 | 101495528 | 173 | 5.345845 | 4.133203 | 4.219080 | 4.517889 | 4.446034 | 5.220124 | -1.25567 | 5 |\n",
       "\n"
      ],
      "text/plain": [
       "  chr   start     end       width T0       T20      T60      T2H      T4H     \n",
       "1 chr10 100148537 100149145 609   6.308615 5.997314 6.371118 7.022634 8.320145\n",
       "2 chr10 101161833 101162364 532   7.338236 6.947811 6.958460 6.880832 6.679306\n",
       "3 chr10 101397063 101397480 418   6.607202 6.798536 6.333778 6.111942 5.572420\n",
       "4 chr10 101442197 101442458 262   5.683413 5.564784 6.187952 6.186169 6.197164\n",
       "5 chr10 101467306 101467557 252   5.652996 6.205735 6.295447 6.137111 5.847167\n",
       "6 chr10 101495356 101495528 173   5.345845 4.133203 4.219080 4.517889 4.446034\n",
       "  T24H     LR       Cluster\n",
       "1 8.144691 -3.96546 0      \n",
       "2 7.082866 -1.17149 5      \n",
       "3 5.077424 -7.06772 3      \n",
       "4 6.004235 -1.06531 0      \n",
       "5 5.681351 -4.30695 1      \n",
       "6 5.220124 -1.25567 5      "
      ]
     },
     "metadata": {},
     "output_type": "display_data"
    },
    {
     "data": {
      "text/html": [
       "<table>\n",
       "<caption>A data.frame: 6 × 78</caption>\n",
       "<thead>\n",
       "\t<tr><th></th><th scope=col>ATACchr</th><th scope=col>ATACstart</th><th scope=col>ATACend</th><th scope=col>otherEndID</th><th scope=col>otherEndchr</th><th scope=col>otherEndstart</th><th scope=col>otherEndend</th><th scope=col>ID</th><th scope=col>ENSG</th><th scope=col>ENSGchr</th><th scope=col>⋯</th><th scope=col>AT1H</th><th scope=col>AT2H</th><th scope=col>AT4H</th><th scope=col>AT24H</th><th scope=col>Alld_ratio0</th><th scope=col>mean_atacseq</th><th scope=col>mean_gene</th><th scope=col>corr_atacseq_gene</th><th scope=col>corr_atacseq_otherEnd</th><th scope=col>corr_gene_otherEnd</th></tr>\n",
       "\t<tr><th></th><th scope=col>&lt;fct&gt;</th><th scope=col>&lt;int&gt;</th><th scope=col>&lt;int&gt;</th><th scope=col>&lt;int&gt;</th><th scope=col>&lt;fct&gt;</th><th scope=col>&lt;int&gt;</th><th scope=col>&lt;int&gt;</th><th scope=col>&lt;int&gt;</th><th scope=col>&lt;fct&gt;</th><th scope=col>&lt;fct&gt;</th><th scope=col>⋯</th><th scope=col>&lt;dbl&gt;</th><th scope=col>&lt;dbl&gt;</th><th scope=col>&lt;dbl&gt;</th><th scope=col>&lt;dbl&gt;</th><th scope=col>&lt;dbl&gt;</th><th scope=col>&lt;dbl&gt;</th><th scope=col>&lt;dbl&gt;</th><th scope=col>&lt;dbl&gt;</th><th scope=col>&lt;dbl&gt;</th><th scope=col>&lt;dbl&gt;</th></tr>\n",
       "</thead>\n",
       "<tbody>\n",
       "\t<tr><th scope=row>1</th><td>chr10</td><td>100168185</td><td>100168481</td><td>94270</td><td>chr10</td><td>100168142</td><td>100171879</td><td> 7</td><td>ENSG00000099204</td><td>chr10</td><td>⋯</td><td>5.549115</td><td>5.081706</td><td>5.133666</td><td>5.469091</td><td>-7.960483e-06</td><td>5.300782</td><td>13.144099</td><td>-0.11473015</td><td> 0.3875610</td><td>-0.9240688</td></tr>\n",
       "\t<tr><th scope=row>2</th><td>chr10</td><td>100168185</td><td>100168481</td><td>94270</td><td>chr10</td><td>100168142</td><td>100171879</td><td> 7</td><td>ENSG00000122873</td><td>chr10</td><td>⋯</td><td>5.549115</td><td>5.081706</td><td>5.133666</td><td>5.469091</td><td>-7.960483e-06</td><td>5.300782</td><td> 7.386855</td><td> 0.01408322</td><td>-0.6566466</td><td> 0.3687837</td></tr>\n",
       "\t<tr><th scope=row>3</th><td>chr10</td><td>100510838</td><td>100511373</td><td>94364</td><td>chr10</td><td>100507722</td><td>100518706</td><td>23</td><td>ENSG00000052749</td><td>chr10</td><td>⋯</td><td>9.971759</td><td>8.586541</td><td>9.457576</td><td>8.248255</td><td>-1.622436e-05</td><td>9.036950</td><td>11.681048</td><td> 0.05696710</td><td>-0.7670981</td><td> 0.2089518</td></tr>\n",
       "\t<tr><th scope=row>4</th><td>chr10</td><td>101814895</td><td>101815024</td><td>94665</td><td>chr10</td><td>101813654</td><td>101818522</td><td>76</td><td>ENSG00000047056</td><td>chr10</td><td>⋯</td><td>6.908540</td><td>6.233613</td><td>6.974758</td><td>6.509405</td><td>-4.866014e-05</td><td>6.395328</td><td>10.889609</td><td> 0.26646359</td><td> 0.5669826</td><td> 0.5107519</td></tr>\n",
       "\t<tr><th scope=row>5</th><td>chr10</td><td>101814895</td><td>101815024</td><td>94665</td><td>chr10</td><td>101813654</td><td>101818522</td><td>76</td><td>ENSG00000107566</td><td>chr10</td><td>⋯</td><td>6.908540</td><td>6.233613</td><td>6.974758</td><td>6.509405</td><td>-4.866014e-05</td><td>6.395328</td><td> 8.824033</td><td> 0.57759985</td><td> 0.4452978</td><td>-0.3354777</td></tr>\n",
       "\t<tr><th scope=row>6</th><td>chr10</td><td>101814895</td><td>101815024</td><td>94665</td><td>chr10</td><td>101813654</td><td>101818522</td><td>76</td><td>ENSG00000052749</td><td>chr10</td><td>⋯</td><td>6.908540</td><td>6.233613</td><td>6.974758</td><td>6.509405</td><td>-4.866014e-05</td><td>6.395328</td><td>11.681048</td><td> 0.77571350</td><td> 0.0847067</td><td> 0.2089518</td></tr>\n",
       "</tbody>\n",
       "</table>\n"
      ],
      "text/latex": [
       "A data.frame: 6 × 78\n",
       "\\begin{tabular}{r|lllllllllllllllllllll}\n",
       "  & ATACchr & ATACstart & ATACend & otherEndID & otherEndchr & otherEndstart & otherEndend & ID & ENSG & ENSGchr & ⋯ & AT1H & AT2H & AT4H & AT24H & Alld\\_ratio0 & mean\\_atacseq & mean\\_gene & corr\\_atacseq\\_gene & corr\\_atacseq\\_otherEnd & corr\\_gene\\_otherEnd\\\\\n",
       "  & <fct> & <int> & <int> & <int> & <fct> & <int> & <int> & <int> & <fct> & <fct> & ⋯ & <dbl> & <dbl> & <dbl> & <dbl> & <dbl> & <dbl> & <dbl> & <dbl> & <dbl> & <dbl>\\\\\n",
       "\\hline\n",
       "\t1 & chr10 & 100168185 & 100168481 & 94270 & chr10 & 100168142 & 100171879 &  7 & ENSG00000099204 & chr10 & ⋯ & 5.549115 & 5.081706 & 5.133666 & 5.469091 & -7.960483e-06 & 5.300782 & 13.144099 & -0.11473015 &  0.3875610 & -0.9240688\\\\\n",
       "\t2 & chr10 & 100168185 & 100168481 & 94270 & chr10 & 100168142 & 100171879 &  7 & ENSG00000122873 & chr10 & ⋯ & 5.549115 & 5.081706 & 5.133666 & 5.469091 & -7.960483e-06 & 5.300782 &  7.386855 &  0.01408322 & -0.6566466 &  0.3687837\\\\\n",
       "\t3 & chr10 & 100510838 & 100511373 & 94364 & chr10 & 100507722 & 100518706 & 23 & ENSG00000052749 & chr10 & ⋯ & 9.971759 & 8.586541 & 9.457576 & 8.248255 & -1.622436e-05 & 9.036950 & 11.681048 &  0.05696710 & -0.7670981 &  0.2089518\\\\\n",
       "\t4 & chr10 & 101814895 & 101815024 & 94665 & chr10 & 101813654 & 101818522 & 76 & ENSG00000047056 & chr10 & ⋯ & 6.908540 & 6.233613 & 6.974758 & 6.509405 & -4.866014e-05 & 6.395328 & 10.889609 &  0.26646359 &  0.5669826 &  0.5107519\\\\\n",
       "\t5 & chr10 & 101814895 & 101815024 & 94665 & chr10 & 101813654 & 101818522 & 76 & ENSG00000107566 & chr10 & ⋯ & 6.908540 & 6.233613 & 6.974758 & 6.509405 & -4.866014e-05 & 6.395328 &  8.824033 &  0.57759985 &  0.4452978 & -0.3354777\\\\\n",
       "\t6 & chr10 & 101814895 & 101815024 & 94665 & chr10 & 101813654 & 101818522 & 76 & ENSG00000052749 & chr10 & ⋯ & 6.908540 & 6.233613 & 6.974758 & 6.509405 & -4.866014e-05 & 6.395328 & 11.681048 &  0.77571350 &  0.0847067 &  0.2089518\\\\\n",
       "\\end{tabular}\n"
      ],
      "text/markdown": [
       "\n",
       "A data.frame: 6 × 78\n",
       "\n",
       "| <!--/--> | ATACchr &lt;fct&gt; | ATACstart &lt;int&gt; | ATACend &lt;int&gt; | otherEndID &lt;int&gt; | otherEndchr &lt;fct&gt; | otherEndstart &lt;int&gt; | otherEndend &lt;int&gt; | ID &lt;int&gt; | ENSG &lt;fct&gt; | ENSGchr &lt;fct&gt; | ⋯ ⋯ | AT1H &lt;dbl&gt; | AT2H &lt;dbl&gt; | AT4H &lt;dbl&gt; | AT24H &lt;dbl&gt; | Alld_ratio0 &lt;dbl&gt; | mean_atacseq &lt;dbl&gt; | mean_gene &lt;dbl&gt; | corr_atacseq_gene &lt;dbl&gt; | corr_atacseq_otherEnd &lt;dbl&gt; | corr_gene_otherEnd &lt;dbl&gt; |\n",
       "|---|---|---|---|---|---|---|---|---|---|---|---|---|---|---|---|---|---|---|---|---|---|\n",
       "| 1 | chr10 | 100168185 | 100168481 | 94270 | chr10 | 100168142 | 100171879 |  7 | ENSG00000099204 | chr10 | ⋯ | 5.549115 | 5.081706 | 5.133666 | 5.469091 | -7.960483e-06 | 5.300782 | 13.144099 | -0.11473015 |  0.3875610 | -0.9240688 |\n",
       "| 2 | chr10 | 100168185 | 100168481 | 94270 | chr10 | 100168142 | 100171879 |  7 | ENSG00000122873 | chr10 | ⋯ | 5.549115 | 5.081706 | 5.133666 | 5.469091 | -7.960483e-06 | 5.300782 |  7.386855 |  0.01408322 | -0.6566466 |  0.3687837 |\n",
       "| 3 | chr10 | 100510838 | 100511373 | 94364 | chr10 | 100507722 | 100518706 | 23 | ENSG00000052749 | chr10 | ⋯ | 9.971759 | 8.586541 | 9.457576 | 8.248255 | -1.622436e-05 | 9.036950 | 11.681048 |  0.05696710 | -0.7670981 |  0.2089518 |\n",
       "| 4 | chr10 | 101814895 | 101815024 | 94665 | chr10 | 101813654 | 101818522 | 76 | ENSG00000047056 | chr10 | ⋯ | 6.908540 | 6.233613 | 6.974758 | 6.509405 | -4.866014e-05 | 6.395328 | 10.889609 |  0.26646359 |  0.5669826 |  0.5107519 |\n",
       "| 5 | chr10 | 101814895 | 101815024 | 94665 | chr10 | 101813654 | 101818522 | 76 | ENSG00000107566 | chr10 | ⋯ | 6.908540 | 6.233613 | 6.974758 | 6.509405 | -4.866014e-05 | 6.395328 |  8.824033 |  0.57759985 |  0.4452978 | -0.3354777 |\n",
       "| 6 | chr10 | 101814895 | 101815024 | 94665 | chr10 | 101813654 | 101818522 | 76 | ENSG00000052749 | chr10 | ⋯ | 6.908540 | 6.233613 | 6.974758 | 6.509405 | -4.866014e-05 | 6.395328 | 11.681048 |  0.77571350 |  0.0847067 |  0.2089518 |\n",
       "\n"
      ],
      "text/plain": [
       "  ATACchr ATACstart ATACend   otherEndID otherEndchr otherEndstart otherEndend\n",
       "1 chr10   100168185 100168481 94270      chr10       100168142     100171879  \n",
       "2 chr10   100168185 100168481 94270      chr10       100168142     100171879  \n",
       "3 chr10   100510838 100511373 94364      chr10       100507722     100518706  \n",
       "4 chr10   101814895 101815024 94665      chr10       101813654     101818522  \n",
       "5 chr10   101814895 101815024 94665      chr10       101813654     101818522  \n",
       "6 chr10   101814895 101815024 94665      chr10       101813654     101818522  \n",
       "  ID ENSG            ENSGchr ⋯ AT1H     AT2H     AT4H     AT24H   \n",
       "1  7 ENSG00000099204 chr10   ⋯ 5.549115 5.081706 5.133666 5.469091\n",
       "2  7 ENSG00000122873 chr10   ⋯ 5.549115 5.081706 5.133666 5.469091\n",
       "3 23 ENSG00000052749 chr10   ⋯ 9.971759 8.586541 9.457576 8.248255\n",
       "4 76 ENSG00000047056 chr10   ⋯ 6.908540 6.233613 6.974758 6.509405\n",
       "5 76 ENSG00000107566 chr10   ⋯ 6.908540 6.233613 6.974758 6.509405\n",
       "6 76 ENSG00000052749 chr10   ⋯ 6.908540 6.233613 6.974758 6.509405\n",
       "  Alld_ratio0   mean_atacseq mean_gene corr_atacseq_gene corr_atacseq_otherEnd\n",
       "1 -7.960483e-06 5.300782     13.144099 -0.11473015        0.3875610           \n",
       "2 -7.960483e-06 5.300782      7.386855  0.01408322       -0.6566466           \n",
       "3 -1.622436e-05 9.036950     11.681048  0.05696710       -0.7670981           \n",
       "4 -4.866014e-05 6.395328     10.889609  0.26646359        0.5669826           \n",
       "5 -4.866014e-05 6.395328      8.824033  0.57759985        0.4452978           \n",
       "6 -4.866014e-05 6.395328     11.681048  0.77571350        0.0847067           \n",
       "  corr_gene_otherEnd\n",
       "1 -0.9240688        \n",
       "2  0.3687837        \n",
       "3  0.2089518        \n",
       "4  0.5107519        \n",
       "5 -0.3354777        \n",
       "6  0.2089518        "
      ]
     },
     "metadata": {},
     "output_type": "display_data"
    }
   ],
   "source": [
    "head(ATACseq_clustered)\n",
    "head(linked_data)"
   ]
  },
  {
   "cell_type": "code",
   "execution_count": 5,
   "metadata": {},
   "outputs": [
    {
     "data": {
      "text/html": [
       "<style>\n",
       ".list-inline {list-style: none; margin:0; padding: 0}\n",
       ".list-inline>li {display: inline-block}\n",
       ".list-inline>li:not(:last-child)::after {content: \"\\00b7\"; padding: 0 .5ex}\n",
       "</style>\n",
       "<ol class=list-inline><li>37819</li><li>78</li></ol>\n"
      ],
      "text/latex": [
       "\\begin{enumerate*}\n",
       "\\item 37819\n",
       "\\item 78\n",
       "\\end{enumerate*}\n"
      ],
      "text/markdown": [
       "1. 37819\n",
       "2. 78\n",
       "\n",
       "\n"
      ],
      "text/plain": [
       "[1] 37819    78"
      ]
     },
     "metadata": {},
     "output_type": "display_data"
    }
   ],
   "source": [
    "dim(linked_data)"
   ]
  },
  {
   "cell_type": "code",
   "execution_count": 6,
   "metadata": {},
   "outputs": [],
   "source": [
    "ATACseq_idx <- c('ATACchr','ATACstart','ATACend','AT0','AT20','AT1H','AT2H','AT4H','AT24H')"
   ]
  },
  {
   "cell_type": "code",
   "execution_count": 7,
   "metadata": {},
   "outputs": [],
   "source": [
    "names(ATACseq_clustered) <- c('ATACchr','ATACstart','ATACend','width','AT0','AT20','AT1H','AT2H','AT4H','AT24H','ALR','ATACCluster')"
   ]
  },
  {
   "cell_type": "code",
   "execution_count": 8,
   "metadata": {},
   "outputs": [],
   "source": [
    "linked_data_withATACcluster <- unique(merge(linked_data, ATACseq_clustered))"
   ]
  },
  {
   "cell_type": "markdown",
   "metadata": {},
   "source": [
    "### read ATACseq peak locations intersected with H3K427AC, NFAT, NFKB and CTCF"
   ]
  },
  {
   "cell_type": "code",
   "execution_count": 9,
   "metadata": {},
   "outputs": [],
   "source": [
    "\n",
    "ATACseq_with_TF <- fread('data/ATACseq_peak_intersect_with_H3K27AC_NFAT_NFKB_CTCF_singleoccupiedonly.bed',header=F, sep='\\t')"
   ]
  },
  {
   "cell_type": "code",
   "execution_count": 10,
   "metadata": {},
   "outputs": [
    {
     "data": {
      "text/html": [
       "<table>\n",
       "<caption>A data.table: 6 × 4</caption>\n",
       "<thead>\n",
       "\t<tr><th scope=col>V1</th><th scope=col>V2</th><th scope=col>V3</th><th scope=col>V4</th></tr>\n",
       "\t<tr><th scope=col>&lt;chr&gt;</th><th scope=col>&lt;int&gt;</th><th scope=col>&lt;int&gt;</th><th scope=col>&lt;chr&gt;</th></tr>\n",
       "</thead>\n",
       "<tbody>\n",
       "\t<tr><td>chr1</td><td> 984284</td><td> 984405</td><td>CTCF   </td></tr>\n",
       "\t<tr><td>chr1</td><td>1040483</td><td>1040896</td><td>CTCF   </td></tr>\n",
       "\t<tr><td>chr1</td><td>1069266</td><td>1069663</td><td>CTCF   </td></tr>\n",
       "\t<tr><td>chr1</td><td>1079475</td><td>1080236</td><td>H3K27AC</td></tr>\n",
       "\t<tr><td>chr1</td><td>1098916</td><td>1099911</td><td>JunB   </td></tr>\n",
       "\t<tr><td>chr1</td><td>1371341</td><td>1372275</td><td>CTCF   </td></tr>\n",
       "</tbody>\n",
       "</table>\n"
      ],
      "text/latex": [
       "A data.table: 6 × 4\n",
       "\\begin{tabular}{llll}\n",
       " V1 & V2 & V3 & V4\\\\\n",
       " <chr> & <int> & <int> & <chr>\\\\\n",
       "\\hline\n",
       "\t chr1 &  984284 &  984405 & CTCF   \\\\\n",
       "\t chr1 & 1040483 & 1040896 & CTCF   \\\\\n",
       "\t chr1 & 1069266 & 1069663 & CTCF   \\\\\n",
       "\t chr1 & 1079475 & 1080236 & H3K27AC\\\\\n",
       "\t chr1 & 1098916 & 1099911 & JunB   \\\\\n",
       "\t chr1 & 1371341 & 1372275 & CTCF   \\\\\n",
       "\\end{tabular}\n"
      ],
      "text/markdown": [
       "\n",
       "A data.table: 6 × 4\n",
       "\n",
       "| V1 &lt;chr&gt; | V2 &lt;int&gt; | V3 &lt;int&gt; | V4 &lt;chr&gt; |\n",
       "|---|---|---|---|\n",
       "| chr1 |  984284 |  984405 | CTCF    |\n",
       "| chr1 | 1040483 | 1040896 | CTCF    |\n",
       "| chr1 | 1069266 | 1069663 | CTCF    |\n",
       "| chr1 | 1079475 | 1080236 | H3K27AC |\n",
       "| chr1 | 1098916 | 1099911 | JunB    |\n",
       "| chr1 | 1371341 | 1372275 | CTCF    |\n",
       "\n"
      ],
      "text/plain": [
       "  V1   V2      V3      V4     \n",
       "1 chr1  984284  984405 CTCF   \n",
       "2 chr1 1040483 1040896 CTCF   \n",
       "3 chr1 1069266 1069663 CTCF   \n",
       "4 chr1 1079475 1080236 H3K27AC\n",
       "5 chr1 1098916 1099911 JunB   \n",
       "6 chr1 1371341 1372275 CTCF   "
      ]
     },
     "metadata": {},
     "output_type": "display_data"
    }
   ],
   "source": [
    "head(ATACseq_with_TF)"
   ]
  },
  {
   "cell_type": "code",
   "execution_count": 11,
   "metadata": {},
   "outputs": [],
   "source": [
    "names(ATACseq_with_TF) <- c('ATACchr','ATACstart','ATACend','TF')"
   ]
  },
  {
   "cell_type": "code",
   "execution_count": 12,
   "metadata": {},
   "outputs": [],
   "source": [
    "merged_data <- unique(merge(linked_data_withATACcluster, ATACseq_with_TF, all=TRUE))"
   ]
  },
  {
   "cell_type": "code",
   "execution_count": 13,
   "metadata": {},
   "outputs": [
    {
     "data": {
      "text/html": [
       "<table>\n",
       "<caption>A data.frame: 6 × 82</caption>\n",
       "<thead>\n",
       "\t<tr><th></th><th scope=col>ATACchr</th><th scope=col>ATACstart</th><th scope=col>ATACend</th><th scope=col>AT0</th><th scope=col>AT20</th><th scope=col>AT1H</th><th scope=col>AT2H</th><th scope=col>AT4H</th><th scope=col>AT24H</th><th scope=col>otherEndID</th><th scope=col>⋯</th><th scope=col>Alld_ratio0</th><th scope=col>mean_atacseq</th><th scope=col>mean_gene</th><th scope=col>corr_atacseq_gene</th><th scope=col>corr_atacseq_otherEnd</th><th scope=col>corr_gene_otherEnd</th><th scope=col>width</th><th scope=col>ALR</th><th scope=col>ATACCluster</th><th scope=col>TF</th></tr>\n",
       "\t<tr><th></th><th scope=col>&lt;fct&gt;</th><th scope=col>&lt;int&gt;</th><th scope=col>&lt;int&gt;</th><th scope=col>&lt;dbl&gt;</th><th scope=col>&lt;dbl&gt;</th><th scope=col>&lt;dbl&gt;</th><th scope=col>&lt;dbl&gt;</th><th scope=col>&lt;dbl&gt;</th><th scope=col>&lt;dbl&gt;</th><th scope=col>&lt;int&gt;</th><th scope=col>⋯</th><th scope=col>&lt;dbl&gt;</th><th scope=col>&lt;dbl&gt;</th><th scope=col>&lt;dbl&gt;</th><th scope=col>&lt;dbl&gt;</th><th scope=col>&lt;dbl&gt;</th><th scope=col>&lt;dbl&gt;</th><th scope=col>&lt;int&gt;</th><th scope=col>&lt;dbl&gt;</th><th scope=col>&lt;int&gt;</th><th scope=col>&lt;chr&gt;</th></tr>\n",
       "</thead>\n",
       "<tbody>\n",
       "\t<tr><th scope=row>1</th><td>chr1</td><td> 984284</td><td> 984405</td><td>      NA</td><td>      NA</td><td>      NA</td><td>      NA</td><td>      NA</td><td>      NA</td><td> NA</td><td>⋯</td><td>      NA</td><td>      NA</td><td>      NA</td><td>        NA</td><td>        NA</td><td>         NA</td><td> NA</td><td>      NA</td><td>NA</td><td>CTCF   </td></tr>\n",
       "\t<tr><th scope=row>2</th><td>chr1</td><td>1040483</td><td>1040896</td><td>7.900938</td><td>7.986564</td><td>7.931974</td><td>7.621835</td><td>7.503944</td><td>7.269499</td><td>248</td><td>⋯</td><td>2.380394</td><td>7.702459</td><td>10.65154</td><td>-0.8302291</td><td>-0.7455293</td><td> 0.30564424</td><td>414</td><td>-4.76079</td><td> 3</td><td>CTCF   </td></tr>\n",
       "\t<tr><th scope=row>3</th><td>chr1</td><td>1068759</td><td>1068972</td><td>7.218716</td><td>6.998478</td><td>6.689556</td><td>6.772565</td><td>6.518431</td><td>6.311069</td><td>251</td><td>⋯</td><td>2.484040</td><td>6.751469</td><td>10.65154</td><td>-0.7590192</td><td>-0.5471011</td><td> 0.32102761</td><td>214</td><td>-4.96808</td><td> 3</td><td>NA     </td></tr>\n",
       "\t<tr><th scope=row>4</th><td>chr1</td><td>1068759</td><td>1068972</td><td>7.218716</td><td>6.998478</td><td>6.689556</td><td>6.772565</td><td>6.518431</td><td>6.311069</td><td>251</td><td>⋯</td><td>2.484040</td><td>6.751469</td><td>12.22116</td><td>-0.5843022</td><td>-0.6690165</td><td>-0.04538888</td><td>214</td><td>-4.96808</td><td> 3</td><td>NA     </td></tr>\n",
       "\t<tr><th scope=row>5</th><td>chr1</td><td>1069266</td><td>1069663</td><td>      NA</td><td>      NA</td><td>      NA</td><td>      NA</td><td>      NA</td><td>      NA</td><td> NA</td><td>⋯</td><td>      NA</td><td>      NA</td><td>      NA</td><td>        NA</td><td>        NA</td><td>         NA</td><td> NA</td><td>      NA</td><td>NA</td><td>CTCF   </td></tr>\n",
       "\t<tr><th scope=row>6</th><td>chr1</td><td>1079475</td><td>1080236</td><td>      NA</td><td>      NA</td><td>      NA</td><td>      NA</td><td>      NA</td><td>      NA</td><td> NA</td><td>⋯</td><td>      NA</td><td>      NA</td><td>      NA</td><td>        NA</td><td>        NA</td><td>         NA</td><td> NA</td><td>      NA</td><td>NA</td><td>H3K27AC</td></tr>\n",
       "</tbody>\n",
       "</table>\n"
      ],
      "text/latex": [
       "A data.frame: 6 × 82\n",
       "\\begin{tabular}{r|lllllllllllllllllllll}\n",
       "  & ATACchr & ATACstart & ATACend & AT0 & AT20 & AT1H & AT2H & AT4H & AT24H & otherEndID & ⋯ & Alld\\_ratio0 & mean\\_atacseq & mean\\_gene & corr\\_atacseq\\_gene & corr\\_atacseq\\_otherEnd & corr\\_gene\\_otherEnd & width & ALR & ATACCluster & TF\\\\\n",
       "  & <fct> & <int> & <int> & <dbl> & <dbl> & <dbl> & <dbl> & <dbl> & <dbl> & <int> & ⋯ & <dbl> & <dbl> & <dbl> & <dbl> & <dbl> & <dbl> & <int> & <dbl> & <int> & <chr>\\\\\n",
       "\\hline\n",
       "\t1 & chr1 &  984284 &  984405 &       NA &       NA &       NA &       NA &       NA &       NA &  NA & ⋯ &       NA &       NA &       NA &         NA &         NA &          NA &  NA &       NA & NA & CTCF   \\\\\n",
       "\t2 & chr1 & 1040483 & 1040896 & 7.900938 & 7.986564 & 7.931974 & 7.621835 & 7.503944 & 7.269499 & 248 & ⋯ & 2.380394 & 7.702459 & 10.65154 & -0.8302291 & -0.7455293 &  0.30564424 & 414 & -4.76079 &  3 & CTCF   \\\\\n",
       "\t3 & chr1 & 1068759 & 1068972 & 7.218716 & 6.998478 & 6.689556 & 6.772565 & 6.518431 & 6.311069 & 251 & ⋯ & 2.484040 & 6.751469 & 10.65154 & -0.7590192 & -0.5471011 &  0.32102761 & 214 & -4.96808 &  3 & NA     \\\\\n",
       "\t4 & chr1 & 1068759 & 1068972 & 7.218716 & 6.998478 & 6.689556 & 6.772565 & 6.518431 & 6.311069 & 251 & ⋯ & 2.484040 & 6.751469 & 12.22116 & -0.5843022 & -0.6690165 & -0.04538888 & 214 & -4.96808 &  3 & NA     \\\\\n",
       "\t5 & chr1 & 1069266 & 1069663 &       NA &       NA &       NA &       NA &       NA &       NA &  NA & ⋯ &       NA &       NA &       NA &         NA &         NA &          NA &  NA &       NA & NA & CTCF   \\\\\n",
       "\t6 & chr1 & 1079475 & 1080236 &       NA &       NA &       NA &       NA &       NA &       NA &  NA & ⋯ &       NA &       NA &       NA &         NA &         NA &          NA &  NA &       NA & NA & H3K27AC\\\\\n",
       "\\end{tabular}\n"
      ],
      "text/markdown": [
       "\n",
       "A data.frame: 6 × 82\n",
       "\n",
       "| <!--/--> | ATACchr &lt;fct&gt; | ATACstart &lt;int&gt; | ATACend &lt;int&gt; | AT0 &lt;dbl&gt; | AT20 &lt;dbl&gt; | AT1H &lt;dbl&gt; | AT2H &lt;dbl&gt; | AT4H &lt;dbl&gt; | AT24H &lt;dbl&gt; | otherEndID &lt;int&gt; | ⋯ ⋯ | Alld_ratio0 &lt;dbl&gt; | mean_atacseq &lt;dbl&gt; | mean_gene &lt;dbl&gt; | corr_atacseq_gene &lt;dbl&gt; | corr_atacseq_otherEnd &lt;dbl&gt; | corr_gene_otherEnd &lt;dbl&gt; | width &lt;int&gt; | ALR &lt;dbl&gt; | ATACCluster &lt;int&gt; | TF &lt;chr&gt; |\n",
       "|---|---|---|---|---|---|---|---|---|---|---|---|---|---|---|---|---|---|---|---|---|---|\n",
       "| 1 | chr1 |  984284 |  984405 |       NA |       NA |       NA |       NA |       NA |       NA |  NA | ⋯ |       NA |       NA |       NA |         NA |         NA |          NA |  NA |       NA | NA | CTCF    |\n",
       "| 2 | chr1 | 1040483 | 1040896 | 7.900938 | 7.986564 | 7.931974 | 7.621835 | 7.503944 | 7.269499 | 248 | ⋯ | 2.380394 | 7.702459 | 10.65154 | -0.8302291 | -0.7455293 |  0.30564424 | 414 | -4.76079 |  3 | CTCF    |\n",
       "| 3 | chr1 | 1068759 | 1068972 | 7.218716 | 6.998478 | 6.689556 | 6.772565 | 6.518431 | 6.311069 | 251 | ⋯ | 2.484040 | 6.751469 | 10.65154 | -0.7590192 | -0.5471011 |  0.32102761 | 214 | -4.96808 |  3 | NA      |\n",
       "| 4 | chr1 | 1068759 | 1068972 | 7.218716 | 6.998478 | 6.689556 | 6.772565 | 6.518431 | 6.311069 | 251 | ⋯ | 2.484040 | 6.751469 | 12.22116 | -0.5843022 | -0.6690165 | -0.04538888 | 214 | -4.96808 |  3 | NA      |\n",
       "| 5 | chr1 | 1069266 | 1069663 |       NA |       NA |       NA |       NA |       NA |       NA |  NA | ⋯ |       NA |       NA |       NA |         NA |         NA |          NA |  NA |       NA | NA | CTCF    |\n",
       "| 6 | chr1 | 1079475 | 1080236 |       NA |       NA |       NA |       NA |       NA |       NA |  NA | ⋯ |       NA |       NA |       NA |         NA |         NA |          NA |  NA |       NA | NA | H3K27AC |\n",
       "\n"
      ],
      "text/plain": [
       "  ATACchr ATACstart ATACend AT0      AT20     AT1H     AT2H     AT4H    \n",
       "1 chr1     984284    984405       NA       NA       NA       NA       NA\n",
       "2 chr1    1040483   1040896 7.900938 7.986564 7.931974 7.621835 7.503944\n",
       "3 chr1    1068759   1068972 7.218716 6.998478 6.689556 6.772565 6.518431\n",
       "4 chr1    1068759   1068972 7.218716 6.998478 6.689556 6.772565 6.518431\n",
       "5 chr1    1069266   1069663       NA       NA       NA       NA       NA\n",
       "6 chr1    1079475   1080236       NA       NA       NA       NA       NA\n",
       "  AT24H    otherEndID ⋯ Alld_ratio0 mean_atacseq mean_gene corr_atacseq_gene\n",
       "1       NA  NA        ⋯       NA          NA           NA          NA       \n",
       "2 7.269499 248        ⋯ 2.380394    7.702459     10.65154  -0.8302291       \n",
       "3 6.311069 251        ⋯ 2.484040    6.751469     10.65154  -0.7590192       \n",
       "4 6.311069 251        ⋯ 2.484040    6.751469     12.22116  -0.5843022       \n",
       "5       NA  NA        ⋯       NA          NA           NA          NA       \n",
       "6       NA  NA        ⋯       NA          NA           NA          NA       \n",
       "  corr_atacseq_otherEnd corr_gene_otherEnd width ALR      ATACCluster TF     \n",
       "1         NA                     NA         NA         NA NA          CTCF   \n",
       "2 -0.7455293             0.30564424        414   -4.76079  3          CTCF   \n",
       "3 -0.5471011             0.32102761        214   -4.96808  3          NA     \n",
       "4 -0.6690165            -0.04538888        214   -4.96808  3          NA     \n",
       "5         NA                     NA         NA         NA NA          CTCF   \n",
       "6         NA                     NA         NA         NA NA          H3K27AC"
      ]
     },
     "metadata": {},
     "output_type": "display_data"
    }
   ],
   "source": [
    "head(merged_data)"
   ]
  },
  {
   "cell_type": "code",
   "execution_count": 14,
   "metadata": {},
   "outputs": [],
   "source": [
    "merged_data$TF[is.na(merged_data$TF)] <- 'Others'"
   ]
  },
  {
   "cell_type": "code",
   "execution_count": 15,
   "metadata": {},
   "outputs": [
    {
     "data": {
      "text/html": [
       "<style>\n",
       ".list-inline {list-style: none; margin:0; padding: 0}\n",
       ".list-inline>li {display: inline-block}\n",
       ".list-inline>li:not(:last-child)::after {content: \"\\00b7\"; padding: 0 .5ex}\n",
       "</style>\n",
       "<ol class=list-inline><li>10751</li><li>82</li></ol>\n"
      ],
      "text/latex": [
       "\\begin{enumerate*}\n",
       "\\item 10751\n",
       "\\item 82\n",
       "\\end{enumerate*}\n"
      ],
      "text/markdown": [
       "1. 10751\n",
       "2. 82\n",
       "\n",
       "\n"
      ],
      "text/plain": [
       "[1] 10751    82"
      ]
     },
     "metadata": {},
     "output_type": "display_data"
    },
    {
     "data": {
      "text/plain": [
       "\n",
       "   CTCF H3K27AC    JunB   NFAT1   NFAT2    NFKB  Others \n",
       "   2565    1095    2242     152       7      63    4627 "
      ]
     },
     "metadata": {},
     "output_type": "display_data"
    }
   ],
   "source": [
    "dim(merged_data)\n",
    "table(merged_data$TF)"
   ]
  },
  {
   "cell_type": "code",
   "execution_count": 16,
   "metadata": {},
   "outputs": [],
   "source": [
    "merged_data_new <- merged_data[complete.cases(merged_data),]"
   ]
  },
  {
   "cell_type": "code",
   "execution_count": 17,
   "metadata": {},
   "outputs": [
    {
     "data": {
      "text/html": [
       "<table>\n",
       "<caption>A data.frame: 6 × 82</caption>\n",
       "<thead>\n",
       "\t<tr><th></th><th scope=col>ATACchr</th><th scope=col>ATACstart</th><th scope=col>ATACend</th><th scope=col>AT0</th><th scope=col>AT20</th><th scope=col>AT1H</th><th scope=col>AT2H</th><th scope=col>AT4H</th><th scope=col>AT24H</th><th scope=col>otherEndID</th><th scope=col>⋯</th><th scope=col>Alld_ratio0</th><th scope=col>mean_atacseq</th><th scope=col>mean_gene</th><th scope=col>corr_atacseq_gene</th><th scope=col>corr_atacseq_otherEnd</th><th scope=col>corr_gene_otherEnd</th><th scope=col>width</th><th scope=col>ALR</th><th scope=col>ATACCluster</th><th scope=col>TF</th></tr>\n",
       "\t<tr><th></th><th scope=col>&lt;fct&gt;</th><th scope=col>&lt;int&gt;</th><th scope=col>&lt;int&gt;</th><th scope=col>&lt;dbl&gt;</th><th scope=col>&lt;dbl&gt;</th><th scope=col>&lt;dbl&gt;</th><th scope=col>&lt;dbl&gt;</th><th scope=col>&lt;dbl&gt;</th><th scope=col>&lt;dbl&gt;</th><th scope=col>&lt;int&gt;</th><th scope=col>⋯</th><th scope=col>&lt;dbl&gt;</th><th scope=col>&lt;dbl&gt;</th><th scope=col>&lt;dbl&gt;</th><th scope=col>&lt;dbl&gt;</th><th scope=col>&lt;dbl&gt;</th><th scope=col>&lt;dbl&gt;</th><th scope=col>&lt;int&gt;</th><th scope=col>&lt;dbl&gt;</th><th scope=col>&lt;int&gt;</th><th scope=col>&lt;chr&gt;</th></tr>\n",
       "</thead>\n",
       "<tbody>\n",
       "\t<tr><th scope=row>49</th><td>chr1</td><td> 8382204</td><td> 8382324</td><td>5.799046</td><td>5.137438</td><td>4.374255</td><td>4.795900</td><td>5.133666</td><td>4.384918</td><td>1635</td><td>⋯</td><td>0.5935284</td><td>4.937537</td><td> 6.431412</td><td>-0.5024584</td><td> 0.03803033</td><td>-0.008768392</td><td>121</td><td> -1.18706</td><td>5</td><td>Others </td></tr>\n",
       "\t<tr><th scope=row>50</th><td>chr1</td><td> 8383038</td><td> 8383397</td><td>6.121348</td><td>6.566356</td><td>6.608495</td><td>6.301977</td><td>6.409704</td><td>4.862135</td><td>1635</td><td>⋯</td><td>0.9312685</td><td>6.145002</td><td> 6.431412</td><td> 0.2733388</td><td>-0.52518132</td><td>-0.008768392</td><td>360</td><td> -1.86254</td><td>3</td><td>Others </td></tr>\n",
       "\t<tr><th scope=row>59</th><td>chr1</td><td>11645782</td><td>11646091</td><td>6.841033</td><td>6.973367</td><td>6.839174</td><td>6.772565</td><td>6.770070</td><td>6.992953</td><td>2337</td><td>⋯</td><td>0.8942362</td><td>6.864860</td><td> 9.335766</td><td> 0.1637190</td><td> 0.09027986</td><td> 0.126597200</td><td>310</td><td> -1.78847</td><td>2</td><td>CTCF   </td></tr>\n",
       "\t<tr><th scope=row>64</th><td>chr1</td><td>12127648</td><td>12127925</td><td>5.267700</td><td>5.347463</td><td>5.751452</td><td>5.979056</td><td>6.197164</td><td>6.966200</td><td>2419</td><td>⋯</td><td>5.1261168</td><td>5.918173</td><td>12.350444</td><td> 0.1756296</td><td> 0.24093714</td><td>-0.767093351</td><td>278</td><td>-10.25220</td><td>0</td><td>Others </td></tr>\n",
       "\t<tr><th scope=row>67</th><td>chr1</td><td>12204237</td><td>12204400</td><td>5.621924</td><td>5.423599</td><td>5.945469</td><td>6.210086</td><td>6.465092</td><td>6.700069</td><td>2431</td><td>⋯</td><td>2.6599800</td><td>6.061040</td><td> 5.393450</td><td> 0.9325288</td><td> 0.84552712</td><td> 0.782143285</td><td>164</td><td> -5.31996</td><td>0</td><td>Others </td></tr>\n",
       "\t<tr><th scope=row>70</th><td>chr1</td><td>12210695</td><td>12210929</td><td>6.384631</td><td>6.139551</td><td>6.618880</td><td>6.880832</td><td>6.594916</td><td>6.311069</td><td>2431</td><td>⋯</td><td>0.6102148</td><td>6.488313</td><td> 5.393450</td><td> 0.1194994</td><td> 0.12375035</td><td> 0.782143285</td><td>235</td><td> -1.22043</td><td>1</td><td>H3K27AC</td></tr>\n",
       "</tbody>\n",
       "</table>\n"
      ],
      "text/latex": [
       "A data.frame: 6 × 82\n",
       "\\begin{tabular}{r|lllllllllllllllllllll}\n",
       "  & ATACchr & ATACstart & ATACend & AT0 & AT20 & AT1H & AT2H & AT4H & AT24H & otherEndID & ⋯ & Alld\\_ratio0 & mean\\_atacseq & mean\\_gene & corr\\_atacseq\\_gene & corr\\_atacseq\\_otherEnd & corr\\_gene\\_otherEnd & width & ALR & ATACCluster & TF\\\\\n",
       "  & <fct> & <int> & <int> & <dbl> & <dbl> & <dbl> & <dbl> & <dbl> & <dbl> & <int> & ⋯ & <dbl> & <dbl> & <dbl> & <dbl> & <dbl> & <dbl> & <int> & <dbl> & <int> & <chr>\\\\\n",
       "\\hline\n",
       "\t49 & chr1 &  8382204 &  8382324 & 5.799046 & 5.137438 & 4.374255 & 4.795900 & 5.133666 & 4.384918 & 1635 & ⋯ & 0.5935284 & 4.937537 &  6.431412 & -0.5024584 &  0.03803033 & -0.008768392 & 121 &  -1.18706 & 5 & Others \\\\\n",
       "\t50 & chr1 &  8383038 &  8383397 & 6.121348 & 6.566356 & 6.608495 & 6.301977 & 6.409704 & 4.862135 & 1635 & ⋯ & 0.9312685 & 6.145002 &  6.431412 &  0.2733388 & -0.52518132 & -0.008768392 & 360 &  -1.86254 & 3 & Others \\\\\n",
       "\t59 & chr1 & 11645782 & 11646091 & 6.841033 & 6.973367 & 6.839174 & 6.772565 & 6.770070 & 6.992953 & 2337 & ⋯ & 0.8942362 & 6.864860 &  9.335766 &  0.1637190 &  0.09027986 &  0.126597200 & 310 &  -1.78847 & 2 & CTCF   \\\\\n",
       "\t64 & chr1 & 12127648 & 12127925 & 5.267700 & 5.347463 & 5.751452 & 5.979056 & 6.197164 & 6.966200 & 2419 & ⋯ & 5.1261168 & 5.918173 & 12.350444 &  0.1756296 &  0.24093714 & -0.767093351 & 278 & -10.25220 & 0 & Others \\\\\n",
       "\t67 & chr1 & 12204237 & 12204400 & 5.621924 & 5.423599 & 5.945469 & 6.210086 & 6.465092 & 6.700069 & 2431 & ⋯ & 2.6599800 & 6.061040 &  5.393450 &  0.9325288 &  0.84552712 &  0.782143285 & 164 &  -5.31996 & 0 & Others \\\\\n",
       "\t70 & chr1 & 12210695 & 12210929 & 6.384631 & 6.139551 & 6.618880 & 6.880832 & 6.594916 & 6.311069 & 2431 & ⋯ & 0.6102148 & 6.488313 &  5.393450 &  0.1194994 &  0.12375035 &  0.782143285 & 235 &  -1.22043 & 1 & H3K27AC\\\\\n",
       "\\end{tabular}\n"
      ],
      "text/markdown": [
       "\n",
       "A data.frame: 6 × 82\n",
       "\n",
       "| <!--/--> | ATACchr &lt;fct&gt; | ATACstart &lt;int&gt; | ATACend &lt;int&gt; | AT0 &lt;dbl&gt; | AT20 &lt;dbl&gt; | AT1H &lt;dbl&gt; | AT2H &lt;dbl&gt; | AT4H &lt;dbl&gt; | AT24H &lt;dbl&gt; | otherEndID &lt;int&gt; | ⋯ ⋯ | Alld_ratio0 &lt;dbl&gt; | mean_atacseq &lt;dbl&gt; | mean_gene &lt;dbl&gt; | corr_atacseq_gene &lt;dbl&gt; | corr_atacseq_otherEnd &lt;dbl&gt; | corr_gene_otherEnd &lt;dbl&gt; | width &lt;int&gt; | ALR &lt;dbl&gt; | ATACCluster &lt;int&gt; | TF &lt;chr&gt; |\n",
       "|---|---|---|---|---|---|---|---|---|---|---|---|---|---|---|---|---|---|---|---|---|---|\n",
       "| 49 | chr1 |  8382204 |  8382324 | 5.799046 | 5.137438 | 4.374255 | 4.795900 | 5.133666 | 4.384918 | 1635 | ⋯ | 0.5935284 | 4.937537 |  6.431412 | -0.5024584 |  0.03803033 | -0.008768392 | 121 |  -1.18706 | 5 | Others  |\n",
       "| 50 | chr1 |  8383038 |  8383397 | 6.121348 | 6.566356 | 6.608495 | 6.301977 | 6.409704 | 4.862135 | 1635 | ⋯ | 0.9312685 | 6.145002 |  6.431412 |  0.2733388 | -0.52518132 | -0.008768392 | 360 |  -1.86254 | 3 | Others  |\n",
       "| 59 | chr1 | 11645782 | 11646091 | 6.841033 | 6.973367 | 6.839174 | 6.772565 | 6.770070 | 6.992953 | 2337 | ⋯ | 0.8942362 | 6.864860 |  9.335766 |  0.1637190 |  0.09027986 |  0.126597200 | 310 |  -1.78847 | 2 | CTCF    |\n",
       "| 64 | chr1 | 12127648 | 12127925 | 5.267700 | 5.347463 | 5.751452 | 5.979056 | 6.197164 | 6.966200 | 2419 | ⋯ | 5.1261168 | 5.918173 | 12.350444 |  0.1756296 |  0.24093714 | -0.767093351 | 278 | -10.25220 | 0 | Others  |\n",
       "| 67 | chr1 | 12204237 | 12204400 | 5.621924 | 5.423599 | 5.945469 | 6.210086 | 6.465092 | 6.700069 | 2431 | ⋯ | 2.6599800 | 6.061040 |  5.393450 |  0.9325288 |  0.84552712 |  0.782143285 | 164 |  -5.31996 | 0 | Others  |\n",
       "| 70 | chr1 | 12210695 | 12210929 | 6.384631 | 6.139551 | 6.618880 | 6.880832 | 6.594916 | 6.311069 | 2431 | ⋯ | 0.6102148 | 6.488313 |  5.393450 |  0.1194994 |  0.12375035 |  0.782143285 | 235 |  -1.22043 | 1 | H3K27AC |\n",
       "\n"
      ],
      "text/plain": [
       "   ATACchr ATACstart ATACend  AT0      AT20     AT1H     AT2H     AT4H    \n",
       "49 chr1     8382204   8382324 5.799046 5.137438 4.374255 4.795900 5.133666\n",
       "50 chr1     8383038   8383397 6.121348 6.566356 6.608495 6.301977 6.409704\n",
       "59 chr1    11645782  11646091 6.841033 6.973367 6.839174 6.772565 6.770070\n",
       "64 chr1    12127648  12127925 5.267700 5.347463 5.751452 5.979056 6.197164\n",
       "67 chr1    12204237  12204400 5.621924 5.423599 5.945469 6.210086 6.465092\n",
       "70 chr1    12210695  12210929 6.384631 6.139551 6.618880 6.880832 6.594916\n",
       "   AT24H    otherEndID ⋯ Alld_ratio0 mean_atacseq mean_gene corr_atacseq_gene\n",
       "49 4.384918 1635       ⋯ 0.5935284   4.937537      6.431412 -0.5024584       \n",
       "50 4.862135 1635       ⋯ 0.9312685   6.145002      6.431412  0.2733388       \n",
       "59 6.992953 2337       ⋯ 0.8942362   6.864860      9.335766  0.1637190       \n",
       "64 6.966200 2419       ⋯ 5.1261168   5.918173     12.350444  0.1756296       \n",
       "67 6.700069 2431       ⋯ 2.6599800   6.061040      5.393450  0.9325288       \n",
       "70 6.311069 2431       ⋯ 0.6102148   6.488313      5.393450  0.1194994       \n",
       "   corr_atacseq_otherEnd corr_gene_otherEnd width ALR       ATACCluster TF     \n",
       "49  0.03803033           -0.008768392       121    -1.18706 5           Others \n",
       "50 -0.52518132           -0.008768392       360    -1.86254 3           Others \n",
       "59  0.09027986            0.126597200       310    -1.78847 2           CTCF   \n",
       "64  0.24093714           -0.767093351       278   -10.25220 0           Others \n",
       "67  0.84552712            0.782143285       164    -5.31996 0           Others \n",
       "70  0.12375035            0.782143285       235    -1.22043 1           H3K27AC"
      ]
     },
     "metadata": {},
     "output_type": "display_data"
    }
   ],
   "source": [
    "head(merged_data_new)"
   ]
  },
  {
   "cell_type": "code",
   "execution_count": 18,
   "metadata": {},
   "outputs": [
    {
     "data": {
      "text/html": [
       "<style>\n",
       ".list-inline {list-style: none; margin:0; padding: 0}\n",
       ".list-inline>li {display: inline-block}\n",
       ".list-inline>li:not(:last-child)::after {content: \"\\00b7\"; padding: 0 .5ex}\n",
       "</style>\n",
       "<ol class=list-inline><li>2849</li><li>82</li></ol>\n"
      ],
      "text/latex": [
       "\\begin{enumerate*}\n",
       "\\item 2849\n",
       "\\item 82\n",
       "\\end{enumerate*}\n"
      ],
      "text/markdown": [
       "1. 2849\n",
       "2. 82\n",
       "\n",
       "\n"
      ],
      "text/plain": [
       "[1] 2849   82"
      ]
     },
     "metadata": {},
     "output_type": "display_data"
    }
   ],
   "source": [
    "dim(merged_data_new)"
   ]
  },
  {
   "cell_type": "code",
   "execution_count": 19,
   "metadata": {},
   "outputs": [],
   "source": [
    "idx_uniq <- c('baitID','otherEndID','T0','T20','T1H','T4H','T24H','TF')"
   ]
  },
  {
   "cell_type": "code",
   "execution_count": 20,
   "metadata": {},
   "outputs": [],
   "source": [
    "merged_cluster0_withTF <- unique(subset(merged_data_new, merged_data_new$ATACCluster==0)[,idx_uniq])\n",
    "merged_cluster1_withTF <- unique(subset(merged_data_new, merged_data_new$ATACCluster==1)[,idx_uniq])\n",
    "merged_cluster2_withTF <- unique(subset(merged_data_new, merged_data_new$ATACCluster==2)[,idx_uniq])\n",
    "merged_cluster3_withTF <- unique(subset(merged_data_new, merged_data_new$ATACCluster==3)[,idx_uniq])\n",
    "merged_cluster4_withTF <- unique(subset(merged_data_new, merged_data_new$ATACCluster==4)[,idx_uniq])\n",
    "merged_cluster5_withTF <- unique(subset(merged_data_new, merged_data_new$ATACCluster==5)[,idx_uniq])\n"
   ]
  },
  {
   "cell_type": "code",
   "execution_count": 21,
   "metadata": {},
   "outputs": [
    {
     "data": {
      "text/html": [
       "<style>\n",
       ".list-inline {list-style: none; margin:0; padding: 0}\n",
       ".list-inline>li {display: inline-block}\n",
       ".list-inline>li:not(:last-child)::after {content: \"\\00b7\"; padding: 0 .5ex}\n",
       "</style>\n",
       "<ol class=list-inline><li>967</li><li>8</li></ol>\n"
      ],
      "text/latex": [
       "\\begin{enumerate*}\n",
       "\\item 967\n",
       "\\item 8\n",
       "\\end{enumerate*}\n"
      ],
      "text/markdown": [
       "1. 967\n",
       "2. 8\n",
       "\n",
       "\n"
      ],
      "text/plain": [
       "[1] 967   8"
      ]
     },
     "metadata": {},
     "output_type": "display_data"
    }
   ],
   "source": [
    "dim(merged_cluster0_withTF)"
   ]
  },
  {
   "cell_type": "raw",
   "metadata": {},
   "source": [
    "merged_cluster0_withTF %>% group_by(TF) %>% summarize(count=n()) %>% arrange(desc(count))\n",
    "merged_cluster1_withTF %>% group_by(TF) %>% summarize(count=n()) %>% arrange(desc(count))\n"
   ]
  },
  {
   "cell_type": "code",
   "execution_count": 22,
   "metadata": {},
   "outputs": [],
   "source": [
    "idx_chic <- c('T0','T20','T1H','T4H','T24H')"
   ]
  },
  {
   "cell_type": "code",
   "execution_count": 23,
   "metadata": {},
   "outputs": [],
   "source": [
    "data0 <- data.frame(dynamic=sign(merged_cluster0_withTF$T24H-merged_cluster0_withTF$T0), TF=merged_cluster0_withTF$TF)\n",
    "data1 <- data.frame(dynamic=sign(merged_cluster1_withTF$T24H-merged_cluster1_withTF$T0), TF=merged_cluster1_withTF$TF)\n",
    "data2 <- data.frame(dynamic=sign(merged_cluster2_withTF$T24H-merged_cluster2_withTF$T0), TF=merged_cluster2_withTF$TF)\n",
    "data3 <- data.frame(dynamic=sign(merged_cluster3_withTF$T24H-merged_cluster3_withTF$T0), TF=merged_cluster3_withTF$TF)\n",
    "data4 <- data.frame(dynamic=sign(merged_cluster4_withTF$T24H-merged_cluster4_withTF$T0), TF=merged_cluster4_withTF$TF)\n",
    "data5 <- data.frame(dynamic=sign(merged_cluster5_withTF$T24H-merged_cluster5_withTF$T0), TF=merged_cluster5_withTF$TF)\n",
    "data0$label <- 1:dim(data0)[1]\n",
    "data0$cluster <- 'Cluster 1'\n",
    "data1$label <- 1:dim(data1)[1]\n",
    "data1$cluster <- 'Cluster 2'\n",
    "data2$label <- 1:dim(data2)[1]\n",
    "data2$cluster <- 'Cluster 3'\n",
    "data3$label <- 1:dim(data3)[1]\n",
    "data3$cluster <- 'Cluster 4'\n",
    "data4$label <- 1:dim(data4)[1]\n",
    "data4$cluster <- 'Cluster 5'\n",
    "data5$label <- 1:dim(data5)[1]\n",
    "data5$cluster <- 'Cluster 6'"
   ]
  },
  {
   "cell_type": "code",
   "execution_count": 24,
   "metadata": {},
   "outputs": [],
   "source": [
    "data_forplot <- rbind(data0, data1, data2, data3, data4, data5)"
   ]
  },
  {
   "cell_type": "code",
   "execution_count": 25,
   "metadata": {},
   "outputs": [],
   "source": [
    "data_forplot$dynamic_symbol <- 'Gain'\n",
    "data_forplot$dynamic_symbol[data_forplot$dynamic==(-1)] <- 'Lost'\n",
    "data_forplot$dynamic_symbol[data_forplot$dynamic==0] <- 'No Change'"
   ]
  },
  {
   "cell_type": "code",
   "execution_count": 26,
   "metadata": {},
   "outputs": [
    {
     "data": {
      "image/png": "[encoded data removed]",
      "text/plain": [
       "plot without title"
      ]
     },
     "metadata": {
      "image/png": {
       "height": 420,
       "width": 420
      }
     },
     "output_type": "display_data"
    }
   ],
   "source": [
    "\n",
    "ggplot(subset(data_forplot, !(data_forplot$TF %in% 'Others')), aes(x=dynamic_symbol, fill=TF)) + \n",
    "geom_bar(width=0.5, position = \"dodge\") + xlab('Changes in CHi-C interactions') +\n",
    "theme(panel.background=element_blank(), \n",
    "         axis.line=element_line(),\n",
    "         axis.text=element_text(size=14, face='bold'),axis.title=element_text(size=14,face=\"bold\"),\n",
    "        strip.text = element_text(size=12, face='bold'),\n",
    "        legend.text=element_text(size=12, face='bold'), plot.title=element_text(size=16, face=\"bold\", hjust=0.5),\n",
    "        legend.position='top', legend.title=element_blank()) + \n",
    "        ylab('Number of interactions') + ggtitle('Supplementary Fig. 9d') +\n",
    "   facet_wrap(cluster~., ncol=2, scales=\"free_y\")\n"
   ]
  },
  {
   "cell_type": "code",
   "execution_count": null,
   "metadata": {},
   "outputs": [],
   "source": []
  }
 ],
 "metadata": {
  "kernelspec": {
   "display_name": "R",
   "language": "R",
   "name": "ir"
  },
  "language_info": {
   "codemirror_mode": "r",
   "file_extension": ".r",
   "mimetype": "text/x-r-source",
   "name": "R",
   "pygments_lexer": "r",
   "version": "3.6.3"
  }
 },
 "nbformat": 4,
 "nbformat_minor": 2
}
