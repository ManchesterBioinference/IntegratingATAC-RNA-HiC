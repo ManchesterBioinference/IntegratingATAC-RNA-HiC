{
 "cells": [
  {
   "cell_type": "code",
   "execution_count": 1,
   "metadata": {},
   "outputs": [
    {
     "name": "stderr",
     "output_type": "stream",
     "text": [
      "Loading required package: stats4\n",
      "\n",
      "Loading required package: BiocGenerics\n",
      "\n",
      "Loading required package: parallel\n",
      "\n",
      "\n",
      "Attaching package: ‘BiocGenerics’\n",
      "\n",
      "\n",
      "The following objects are masked from ‘package:parallel’:\n",
      "\n",
      "    clusterApply, clusterApplyLB, clusterCall, clusterEvalQ,\n",
      "    clusterExport, clusterMap, parApply, parCapply, parLapply,\n",
      "    parLapplyLB, parRapply, parSapply, parSapplyLB\n",
      "\n",
      "\n",
      "The following objects are masked from ‘package:stats’:\n",
      "\n",
      "    IQR, mad, sd, var, xtabs\n",
      "\n",
      "\n",
      "The following objects are masked from ‘package:base’:\n",
      "\n",
      "    anyDuplicated, append, as.data.frame, basename, cbind, colnames,\n",
      "    dirname, do.call, duplicated, eval, evalq, Filter, Find, get, grep,\n",
      "    grepl, intersect, is.unsorted, lapply, Map, mapply, match, mget,\n",
      "    order, paste, pmax, pmax.int, pmin, pmin.int, Position, rank,\n",
      "    rbind, Reduce, rownames, sapply, setdiff, sort, table, tapply,\n",
      "    union, unique, unsplit, which, which.max, which.min\n",
      "\n",
      "\n",
      "Loading required package: S4Vectors\n",
      "\n",
      "\n",
      "Attaching package: ‘S4Vectors’\n",
      "\n",
      "\n",
      "The following object is masked from ‘package:base’:\n",
      "\n",
      "    expand.grid\n",
      "\n",
      "\n",
      "Loading required package: IRanges\n",
      "\n",
      "Loading required package: GenomeInfoDb\n",
      "\n",
      "Loading required package: SummarizedExperiment\n",
      "\n",
      "Loading required package: Biobase\n",
      "\n",
      "Welcome to Bioconductor\n",
      "\n",
      "    Vignettes contain introductory material; view with\n",
      "    'browseVignettes()'. To cite Bioconductor, see\n",
      "    'citation(\"Biobase\")', and for packages 'citation(\"pkgname\")'.\n",
      "\n",
      "\n",
      "Loading required package: DelayedArray\n",
      "\n",
      "Loading required package: matrixStats\n",
      "\n",
      "\n",
      "Attaching package: ‘matrixStats’\n",
      "\n",
      "\n",
      "The following objects are masked from ‘package:Biobase’:\n",
      "\n",
      "    anyMissing, rowMedians\n",
      "\n",
      "\n",
      "Loading required package: BiocParallel\n",
      "\n",
      "\n",
      "Attaching package: ‘DelayedArray’\n",
      "\n",
      "\n",
      "The following objects are masked from ‘package:matrixStats’:\n",
      "\n",
      "    colMaxs, colMins, colRanges, rowMaxs, rowMins, rowRanges\n",
      "\n",
      "\n",
      "The following objects are masked from ‘package:base’:\n",
      "\n",
      "    aperm, apply, rowsum\n",
      "\n",
      "\n",
      "\n",
      "\n",
      "Loading required package: grid\n",
      "\n",
      "Loading required package: Biostrings\n",
      "\n",
      "Loading required package: XVector\n",
      "\n",
      "\n",
      "Attaching package: ‘Biostrings’\n",
      "\n",
      "\n",
      "The following object is masked from ‘package:DelayedArray’:\n",
      "\n",
      "    type\n",
      "\n",
      "\n",
      "The following object is masked from ‘package:base’:\n",
      "\n",
      "    strsplit\n",
      "\n",
      "\n",
      "Loading required package: VennDiagram\n",
      "\n",
      "Loading required package: futile.logger\n",
      "\n",
      "Registered S3 method overwritten by 'enrichplot':\n",
      "  method               from\n",
      "  fortify.enrichResult DOSE\n",
      "\n",
      "ChIPseeker v1.20.0  For help: https://guangchuangyu.github.io/ChIPseeker\n",
      "\n",
      "If you use ChIPseeker in published research, please cite:\n",
      "Guangchuang Yu, Li-Gen Wang, Qing-Yu He. ChIPseeker: an R/Bioconductor package for ChIP peak annotation, comparison and visualization. Bioinformatics 2015, 31(14):2382-2383\n",
      "\n",
      "── \u001b[1mAttaching packages\u001b[22m ─────────────────────────────────────── tidyverse 1.3.0 ──\n",
      "\n",
      "\u001b[32m✔\u001b[39m \u001b[34mtibble \u001b[39m 2.1.3     \u001b[32m✔\u001b[39m \u001b[34mdplyr  \u001b[39m 0.8.3\n",
      "\u001b[32m✔\u001b[39m \u001b[34mtidyr  \u001b[39m 1.0.0     \u001b[32m✔\u001b[39m \u001b[34mstringr\u001b[39m 1.4.0\n",
      "\u001b[32m✔\u001b[39m \u001b[34mreadr  \u001b[39m 1.3.1     \u001b[32m✔\u001b[39m \u001b[34mforcats\u001b[39m 0.4.0\n",
      "\u001b[32m✔\u001b[39m \u001b[34mpurrr  \u001b[39m 0.3.3     \n",
      "\n",
      "── \u001b[1mConflicts\u001b[22m ────────────────────────────────────────── tidyverse_conflicts() ──\n",
      "\u001b[31m✖\u001b[39m \u001b[34mdplyr\u001b[39m::\u001b[32mcollapse()\u001b[39m   masks \u001b[34mBiostrings\u001b[39m::collapse(), \u001b[34mIRanges\u001b[39m::collapse()\n",
      "\u001b[31m✖\u001b[39m \u001b[34mdplyr\u001b[39m::\u001b[32mcombine()\u001b[39m    masks \u001b[34mBiobase\u001b[39m::combine(), \u001b[34mBiocGenerics\u001b[39m::combine()\n",
      "\u001b[31m✖\u001b[39m \u001b[34mpurrr\u001b[39m::\u001b[32mcompact()\u001b[39m    masks \u001b[34mXVector\u001b[39m::compact()\n",
      "\u001b[31m✖\u001b[39m \u001b[34mdplyr\u001b[39m::\u001b[32mcount()\u001b[39m      masks \u001b[34mmatrixStats\u001b[39m::count()\n",
      "\u001b[31m✖\u001b[39m \u001b[34mdplyr\u001b[39m::\u001b[32mdesc()\u001b[39m       masks \u001b[34mIRanges\u001b[39m::desc()\n",
      "\u001b[31m✖\u001b[39m \u001b[34mtidyr\u001b[39m::\u001b[32mexpand()\u001b[39m     masks \u001b[34mS4Vectors\u001b[39m::expand()\n",
      "\u001b[31m✖\u001b[39m \u001b[34mdplyr\u001b[39m::\u001b[32mfilter()\u001b[39m     masks \u001b[34mstats\u001b[39m::filter()\n",
      "\u001b[31m✖\u001b[39m \u001b[34mdplyr\u001b[39m::\u001b[32mfirst()\u001b[39m      masks \u001b[34mS4Vectors\u001b[39m::first()\n",
      "\u001b[31m✖\u001b[39m \u001b[34mdplyr\u001b[39m::\u001b[32mlag()\u001b[39m        masks \u001b[34mstats\u001b[39m::lag()\n",
      "\u001b[31m✖\u001b[39m \u001b[34mggplot2\u001b[39m::\u001b[32mPosition()\u001b[39m masks \u001b[34mBiocGenerics\u001b[39m::Position(), \u001b[34mbase\u001b[39m::Position()\n",
      "\u001b[31m✖\u001b[39m \u001b[34mpurrr\u001b[39m::\u001b[32mreduce()\u001b[39m     masks \u001b[34mGenomicRanges\u001b[39m::reduce(), \u001b[34mIRanges\u001b[39m::reduce()\n",
      "\u001b[31m✖\u001b[39m \u001b[34mdplyr\u001b[39m::\u001b[32mrename()\u001b[39m     masks \u001b[34mS4Vectors\u001b[39m::rename()\n",
      "\u001b[31m✖\u001b[39m \u001b[34mpurrr\u001b[39m::\u001b[32msimplify()\u001b[39m   masks \u001b[34mDelayedArray\u001b[39m::simplify()\n",
      "\u001b[31m✖\u001b[39m \u001b[34mdplyr\u001b[39m::\u001b[32mslice()\u001b[39m      masks \u001b[34mXVector\u001b[39m::slice(), \u001b[34mIRanges\u001b[39m::slice()\n",
      "\n",
      "Welcome! Want to learn more? See two factoextra-related books at https://goo.gl/ve3WBa\n",
      "\n",
      "\n",
      "Attaching package: 'scales'\n",
      "\n",
      "\n",
      "The following object is masked from 'package:purrr':\n",
      "\n",
      "    discard\n",
      "\n",
      "\n",
      "The following object is masked from 'package:readr':\n",
      "\n",
      "    col_factor\n",
      "\n",
      "\n"
     ]
    }
   ],
   "source": [
    "library(GenomicRanges)\n",
    "library(DiffBind)\n",
    "library(ChIPpeakAnno)\n",
    "library(ChIPseeker)\n",
    "library(ggplot2)\n",
    "library(tidyverse)\n",
    "library(DESeq2)\n",
    "library(factoextra)\n",
    "library(scales)\n",
    "library(ggpol)"
   ]
  },
  {
   "cell_type": "code",
   "execution_count": 2,
   "metadata": {},
   "outputs": [
    {
     "name": "stderr",
     "output_type": "stream",
     "text": [
      "Warning message in file(file, \"rt\"):\n",
      "\"cannot open file 'ATACseq_rep0+rep1+rep2+rep3_normalizedbyDESeq_BICandLRfromreplicates.txt': No such file or directory\"\n"
     ]
    },
    {
     "ename": "ERROR",
     "evalue": "Error in file(file, \"rt\"): cannot open the connection\n",
     "output_type": "error",
     "traceback": [
      "Error in file(file, \"rt\"): cannot open the connection\nTraceback:\n",
      "1. read.table(\"ATACseq_rep0+rep1+rep2+rep3_normalizedbyDESeq_BICandLRfromreplicates.txt\", \n .     header = T)",
      "2. file(file, \"rt\")"
     ]
    }
   ],
   "source": [
    "atacseq_data <- read.table('ATACseq_rep0+rep1+rep2+rep3_normalizedbyDESeq_BICandLRfromreplicates.txt', header=T)\n",
    "rnaseq_data <- read.csv('../RNAseq/data/gene_normalized.csv', header=T)"
   ]
  },
  {
   "cell_type": "code",
   "execution_count": 3,
   "metadata": {},
   "outputs": [
    {
     "data": {
      "text/html": [
       "<ol class=list-inline>\n",
       "\t<li>74761</li>\n",
       "\t<li>29</li>\n",
       "</ol>\n"
      ],
      "text/latex": [
       "\\begin{enumerate*}\n",
       "\\item 74761\n",
       "\\item 29\n",
       "\\end{enumerate*}\n"
      ],
      "text/markdown": [
       "1. 74761\n",
       "2. 29\n",
       "\n",
       "\n"
      ],
      "text/plain": [
       "[1] 74761    29"
      ]
     },
     "metadata": {},
     "output_type": "display_data"
    },
    {
     "data": {
      "text/html": [
       "<ol class=list-inline>\n",
       "\t<li>18162</li>\n",
       "\t<li>18</li>\n",
       "</ol>\n"
      ],
      "text/latex": [
       "\\begin{enumerate*}\n",
       "\\item 18162\n",
       "\\item 18\n",
       "\\end{enumerate*}\n"
      ],
      "text/markdown": [
       "1. 18162\n",
       "2. 18\n",
       "\n",
       "\n"
      ],
      "text/plain": [
       "[1] 18162    18"
      ]
     },
     "metadata": {},
     "output_type": "display_data"
    }
   ],
   "source": [
    "dim(atacseq_data)\n",
    "dim(rnaseq_data)"
   ]
  },
  {
   "cell_type": "code",
   "execution_count": 4,
   "metadata": {},
   "outputs": [
    {
     "data": {
      "text/html": [
       "<table>\n",
       "<caption>A data.frame: 6 × 29</caption>\n",
       "<thead>\n",
       "\t<tr><th></th><th scope=col>seqnames</th><th scope=col>start</th><th scope=col>end</th><th scope=col>T0</th><th scope=col>T20</th><th scope=col>T60</th><th scope=col>T2H</th><th scope=col>T4H</th><th scope=col>T24H</th><th scope=col>T01</th><th scope=col>⋯</th><th scope=col>T4H2</th><th scope=col>T24H2</th><th scope=col>T03</th><th scope=col>T203</th><th scope=col>T603</th><th scope=col>T2H3</th><th scope=col>T4H3</th><th scope=col>T24H3</th><th scope=col>LR</th><th scope=col>BIC_difference</th></tr>\n",
       "\t<tr><th></th><th scope=col>&lt;fct&gt;</th><th scope=col>&lt;int&gt;</th><th scope=col>&lt;int&gt;</th><th scope=col>&lt;dbl&gt;</th><th scope=col>&lt;dbl&gt;</th><th scope=col>&lt;dbl&gt;</th><th scope=col>&lt;dbl&gt;</th><th scope=col>&lt;dbl&gt;</th><th scope=col>&lt;dbl&gt;</th><th scope=col>&lt;dbl&gt;</th><th scope=col>⋯</th><th scope=col>&lt;dbl&gt;</th><th scope=col>&lt;dbl&gt;</th><th scope=col>&lt;dbl&gt;</th><th scope=col>&lt;dbl&gt;</th><th scope=col>&lt;dbl&gt;</th><th scope=col>&lt;dbl&gt;</th><th scope=col>&lt;dbl&gt;</th><th scope=col>&lt;dbl&gt;</th><th scope=col>&lt;dbl&gt;</th><th scope=col>&lt;dbl&gt;</th></tr>\n",
       "</thead>\n",
       "<tbody>\n",
       "\t<tr><th scope=row>1</th><td>chr10</td><td>100006331</td><td>100006563</td><td> 12.687560</td><td>  9.914589</td><td> 24.708859</td><td> 18.48857</td><td> 68.979604</td><td> 44.215987</td><td> 11.693635</td><td>⋯</td><td> 79.384048</td><td> 38.453990</td><td>  9.098770</td><td>  7.008198</td><td> 27.030314</td><td> 30.211588</td><td> 89.105625</td><td> 45.518495</td><td> -5.810416107</td><td> -4.0186566</td></tr>\n",
       "\t<tr><th scope=row>2</th><td>chr10</td><td>100009362</td><td>100010421</td><td>196.000919</td><td>194.686480</td><td>215.693805</td><td>188.88320</td><td>222.988523</td><td>180.228210</td><td>220.230131</td><td>⋯</td><td>255.708232</td><td>159.584057</td><td>207.451966</td><td>238.278735</td><td>269.659563</td><td>184.016039</td><td>252.273067</td><td>158.699619</td><td>  0.005515515</td><td>  1.7972750</td></tr>\n",
       "\t<tr><th scope=row>3</th><td>chr10</td><td>100118128</td><td>100118310</td><td>  4.812523</td><td> 17.125200</td><td>  5.232464</td><td> 14.49104</td><td>  6.146697</td><td>  9.131563</td><td>  5.846818</td><td>⋯</td><td>  1.526616</td><td>  7.690798</td><td>  5.459262</td><td> 17.019910</td><td>  5.792210</td><td>  9.612778</td><td>  6.943295</td><td>  9.841837</td><td> -4.493543938</td><td> -2.7017845</td></tr>\n",
       "\t<tr><th scope=row>4</th><td>chr10</td><td>100148537</td><td>100149145</td><td> 31.937650</td><td> 25.687799</td><td> 33.720325</td><td> 52.96725</td><td>130.788061</td><td>115.826663</td><td> 38.978784</td><td>⋯</td><td>168.691102</td><td>124.975466</td><td> 16.377787</td><td> 18.021081</td><td> 31.535367</td><td> 53.556907</td><td>109.935511</td><td>102.109057</td><td>-13.403737332</td><td>-11.6119779</td></tr>\n",
       "\t<tr><th scope=row>5</th><td>chr10</td><td>100164173</td><td>100164282</td><td>  5.250025</td><td>  3.605305</td><td>  9.592851</td><td> 11.99258</td><td>  5.463731</td><td> 13.457040</td><td>  5.846818</td><td>⋯</td><td>  1.526616</td><td>  5.768098</td><td>  4.549385</td><td>  4.004685</td><td>  7.079368</td><td>  5.493016</td><td>  6.943295</td><td> 13.532526</td><td> -0.345396111</td><td>  1.4463634</td></tr>\n",
       "\t<tr><th scope=row>6</th><td>chr10</td><td>100167603</td><td>100168094</td><td> 28.000131</td><td> 18.477189</td><td> 22.092627</td><td> 35.97775</td><td> 30.392004</td><td> 22.588602</td><td> 25.336210</td><td>⋯</td><td> 33.585559</td><td> 24.995093</td><td> 34.575328</td><td> 19.022252</td><td> 15.445894</td><td> 41.197621</td><td> 30.087614</td><td> 18.453444</td><td> -0.874021862</td><td>  0.9177376</td></tr>\n",
       "</tbody>\n",
       "</table>\n"
      ],
      "text/latex": [
       "A data.frame: 6 × 29\n",
       "\\begin{tabular}{r|lllllllllllllllllllll}\n",
       "  & seqnames & start & end & T0 & T20 & T60 & T2H & T4H & T24H & T01 & ⋯ & T4H2 & T24H2 & T03 & T203 & T603 & T2H3 & T4H3 & T24H3 & LR & BIC\\_difference\\\\\n",
       "  & <fct> & <int> & <int> & <dbl> & <dbl> & <dbl> & <dbl> & <dbl> & <dbl> & <dbl> & ⋯ & <dbl> & <dbl> & <dbl> & <dbl> & <dbl> & <dbl> & <dbl> & <dbl> & <dbl> & <dbl>\\\\\n",
       "\\hline\n",
       "\t1 & chr10 & 100006331 & 100006563 &  12.687560 &   9.914589 &  24.708859 &  18.48857 &  68.979604 &  44.215987 &  11.693635 & ⋯ &  79.384048 &  38.453990 &   9.098770 &   7.008198 &  27.030314 &  30.211588 &  89.105625 &  45.518495 &  -5.810416107 &  -4.0186566\\\\\n",
       "\t2 & chr10 & 100009362 & 100010421 & 196.000919 & 194.686480 & 215.693805 & 188.88320 & 222.988523 & 180.228210 & 220.230131 & ⋯ & 255.708232 & 159.584057 & 207.451966 & 238.278735 & 269.659563 & 184.016039 & 252.273067 & 158.699619 &   0.005515515 &   1.7972750\\\\\n",
       "\t3 & chr10 & 100118128 & 100118310 &   4.812523 &  17.125200 &   5.232464 &  14.49104 &   6.146697 &   9.131563 &   5.846818 & ⋯ &   1.526616 &   7.690798 &   5.459262 &  17.019910 &   5.792210 &   9.612778 &   6.943295 &   9.841837 &  -4.493543938 &  -2.7017845\\\\\n",
       "\t4 & chr10 & 100148537 & 100149145 &  31.937650 &  25.687799 &  33.720325 &  52.96725 & 130.788061 & 115.826663 &  38.978784 & ⋯ & 168.691102 & 124.975466 &  16.377787 &  18.021081 &  31.535367 &  53.556907 & 109.935511 & 102.109057 & -13.403737332 & -11.6119779\\\\\n",
       "\t5 & chr10 & 100164173 & 100164282 &   5.250025 &   3.605305 &   9.592851 &  11.99258 &   5.463731 &  13.457040 &   5.846818 & ⋯ &   1.526616 &   5.768098 &   4.549385 &   4.004685 &   7.079368 &   5.493016 &   6.943295 &  13.532526 &  -0.345396111 &   1.4463634\\\\\n",
       "\t6 & chr10 & 100167603 & 100168094 &  28.000131 &  18.477189 &  22.092627 &  35.97775 &  30.392004 &  22.588602 &  25.336210 & ⋯ &  33.585559 &  24.995093 &  34.575328 &  19.022252 &  15.445894 &  41.197621 &  30.087614 &  18.453444 &  -0.874021862 &   0.9177376\\\\\n",
       "\\end{tabular}\n"
      ],
      "text/markdown": [
       "\n",
       "A data.frame: 6 × 29\n",
       "\n",
       "| <!--/--> | seqnames &lt;fct&gt; | start &lt;int&gt; | end &lt;int&gt; | T0 &lt;dbl&gt; | T20 &lt;dbl&gt; | T60 &lt;dbl&gt; | T2H &lt;dbl&gt; | T4H &lt;dbl&gt; | T24H &lt;dbl&gt; | T01 &lt;dbl&gt; | ⋯ ⋯ | T4H2 &lt;dbl&gt; | T24H2 &lt;dbl&gt; | T03 &lt;dbl&gt; | T203 &lt;dbl&gt; | T603 &lt;dbl&gt; | T2H3 &lt;dbl&gt; | T4H3 &lt;dbl&gt; | T24H3 &lt;dbl&gt; | LR &lt;dbl&gt; | BIC_difference &lt;dbl&gt; |\n",
       "|---|---|---|---|---|---|---|---|---|---|---|---|---|---|---|---|---|---|---|---|---|---|\n",
       "| 1 | chr10 | 100006331 | 100006563 |  12.687560 |   9.914589 |  24.708859 |  18.48857 |  68.979604 |  44.215987 |  11.693635 | ⋯ |  79.384048 |  38.453990 |   9.098770 |   7.008198 |  27.030314 |  30.211588 |  89.105625 |  45.518495 |  -5.810416107 |  -4.0186566 |\n",
       "| 2 | chr10 | 100009362 | 100010421 | 196.000919 | 194.686480 | 215.693805 | 188.88320 | 222.988523 | 180.228210 | 220.230131 | ⋯ | 255.708232 | 159.584057 | 207.451966 | 238.278735 | 269.659563 | 184.016039 | 252.273067 | 158.699619 |   0.005515515 |   1.7972750 |\n",
       "| 3 | chr10 | 100118128 | 100118310 |   4.812523 |  17.125200 |   5.232464 |  14.49104 |   6.146697 |   9.131563 |   5.846818 | ⋯ |   1.526616 |   7.690798 |   5.459262 |  17.019910 |   5.792210 |   9.612778 |   6.943295 |   9.841837 |  -4.493543938 |  -2.7017845 |\n",
       "| 4 | chr10 | 100148537 | 100149145 |  31.937650 |  25.687799 |  33.720325 |  52.96725 | 130.788061 | 115.826663 |  38.978784 | ⋯ | 168.691102 | 124.975466 |  16.377787 |  18.021081 |  31.535367 |  53.556907 | 109.935511 | 102.109057 | -13.403737332 | -11.6119779 |\n",
       "| 5 | chr10 | 100164173 | 100164282 |   5.250025 |   3.605305 |   9.592851 |  11.99258 |   5.463731 |  13.457040 |   5.846818 | ⋯ |   1.526616 |   5.768098 |   4.549385 |   4.004685 |   7.079368 |   5.493016 |   6.943295 |  13.532526 |  -0.345396111 |   1.4463634 |\n",
       "| 6 | chr10 | 100167603 | 100168094 |  28.000131 |  18.477189 |  22.092627 |  35.97775 |  30.392004 |  22.588602 |  25.336210 | ⋯ |  33.585559 |  24.995093 |  34.575328 |  19.022252 |  15.445894 |  41.197621 |  30.087614 |  18.453444 |  -0.874021862 |   0.9177376 |\n",
       "\n"
      ],
      "text/plain": [
       "  seqnames start     end       T0         T20        T60        T2H      \n",
       "1 chr10    100006331 100006563  12.687560   9.914589  24.708859  18.48857\n",
       "2 chr10    100009362 100010421 196.000919 194.686480 215.693805 188.88320\n",
       "3 chr10    100118128 100118310   4.812523  17.125200   5.232464  14.49104\n",
       "4 chr10    100148537 100149145  31.937650  25.687799  33.720325  52.96725\n",
       "5 chr10    100164173 100164282   5.250025   3.605305   9.592851  11.99258\n",
       "6 chr10    100167603 100168094  28.000131  18.477189  22.092627  35.97775\n",
       "  T4H        T24H       T01        ⋯ T4H2       T24H2      T03       \n",
       "1  68.979604  44.215987  11.693635 ⋯  79.384048  38.453990   9.098770\n",
       "2 222.988523 180.228210 220.230131 ⋯ 255.708232 159.584057 207.451966\n",
       "3   6.146697   9.131563   5.846818 ⋯   1.526616   7.690798   5.459262\n",
       "4 130.788061 115.826663  38.978784 ⋯ 168.691102 124.975466  16.377787\n",
       "5   5.463731  13.457040   5.846818 ⋯   1.526616   5.768098   4.549385\n",
       "6  30.392004  22.588602  25.336210 ⋯  33.585559  24.995093  34.575328\n",
       "  T203       T603       T2H3       T4H3       T24H3      LR           \n",
       "1   7.008198  27.030314  30.211588  89.105625  45.518495  -5.810416107\n",
       "2 238.278735 269.659563 184.016039 252.273067 158.699619   0.005515515\n",
       "3  17.019910   5.792210   9.612778   6.943295   9.841837  -4.493543938\n",
       "4  18.021081  31.535367  53.556907 109.935511 102.109057 -13.403737332\n",
       "5   4.004685   7.079368   5.493016   6.943295  13.532526  -0.345396111\n",
       "6  19.022252  15.445894  41.197621  30.087614  18.453444  -0.874021862\n",
       "  BIC_difference\n",
       "1  -4.0186566   \n",
       "2   1.7972750   \n",
       "3  -2.7017845   \n",
       "4 -11.6119779   \n",
       "5   1.4463634   \n",
       "6   0.9177376   "
      ]
     },
     "metadata": {},
     "output_type": "display_data"
    },
    {
     "data": {
      "text/html": [
       "<table>\n",
       "<caption>A data.frame: 6 × 18</caption>\n",
       "<thead>\n",
       "\t<tr><th></th><th scope=col>ENSG</th><th scope=col>chr</th><th scope=col>ENSGStart</th><th scope=col>ENSGEnd</th><th scope=col>T01</th><th scope=col>T201</th><th scope=col>T601</th><th scope=col>T2H1</th><th scope=col>T4H1</th><th scope=col>T24H1</th><th scope=col>T02</th><th scope=col>T202</th><th scope=col>T602</th><th scope=col>T2H2</th><th scope=col>T4H2</th><th scope=col>T24H2</th><th scope=col>LR</th><th scope=col>BIC_difference</th></tr>\n",
       "\t<tr><th></th><th scope=col>&lt;fct&gt;</th><th scope=col>&lt;fct&gt;</th><th scope=col>&lt;int&gt;</th><th scope=col>&lt;int&gt;</th><th scope=col>&lt;dbl&gt;</th><th scope=col>&lt;dbl&gt;</th><th scope=col>&lt;dbl&gt;</th><th scope=col>&lt;dbl&gt;</th><th scope=col>&lt;dbl&gt;</th><th scope=col>&lt;dbl&gt;</th><th scope=col>&lt;dbl&gt;</th><th scope=col>&lt;dbl&gt;</th><th scope=col>&lt;dbl&gt;</th><th scope=col>&lt;dbl&gt;</th><th scope=col>&lt;dbl&gt;</th><th scope=col>&lt;dbl&gt;</th><th scope=col>&lt;dbl&gt;</th><th scope=col>&lt;dbl&gt;</th></tr>\n",
       "</thead>\n",
       "<tbody>\n",
       "\t<tr><th scope=row>1</th><td>ENSG00000000003</td><td>chrX </td><td>100627109</td><td>100639991</td><td> 5.046729</td><td> 5.072507</td><td> 4.187041</td><td> 3.384345</td><td> 1.992315</td><td> 5.303512</td><td> 5.186265</td><td> 3.694870</td><td> 3.300810</td><td> 5.258975</td><td> 4.232275</td><td> 4.292015</td><td> 2.71693e-04</td><td>  1.792030</td></tr>\n",
       "\t<tr><th scope=row>2</th><td>ENSG00000000419</td><td>chr20</td><td> 50934867</td><td> 50958555</td><td>10.561266</td><td>11.070185</td><td>10.792894</td><td>10.340013</td><td>10.281499</td><td>10.397641</td><td>11.041590</td><td>11.039045</td><td>10.774906</td><td>10.786872</td><td>10.595947</td><td>10.732970</td><td>-1.23360e+00</td><td>  0.558163</td></tr>\n",
       "\t<tr><th scope=row>3</th><td>ENSG00000000457</td><td>chr1 </td><td>169849631</td><td>169894267</td><td> 8.079070</td><td> 7.592868</td><td> 9.034333</td><td> 9.332348</td><td> 9.361537</td><td> 9.004926</td><td> 7.994516</td><td> 8.168912</td><td> 9.423026</td><td> 9.461916</td><td> 9.276741</td><td> 8.844056</td><td>-1.14292e+01</td><td> -9.637490</td></tr>\n",
       "\t<tr><th scope=row>4</th><td>ENSG00000000460</td><td>chr1 </td><td>169662007</td><td>169854080</td><td> 9.034114</td><td> 8.666174</td><td>10.001805</td><td>12.874117</td><td>14.223477</td><td>10.850553</td><td> 8.296008</td><td> 8.351536</td><td>10.062440</td><td>11.661871</td><td>13.911382</td><td>11.332892</td><td>-1.89647e+01</td><td>-17.173000</td></tr>\n",
       "\t<tr><th scope=row>5</th><td>ENSG00000000938</td><td>chr1 </td><td> 27612064</td><td> 27635277</td><td> 9.684972</td><td> 9.124017</td><td> 9.117169</td><td> 9.031949</td><td> 9.403388</td><td> 7.282596</td><td> 5.487926</td><td> 5.924802</td><td> 5.361296</td><td> 4.755835</td><td> 5.193376</td><td> 2.497586</td><td> 3.02460e-04</td><td>  1.792060</td></tr>\n",
       "\t<tr><th scope=row>6</th><td>ENSG00000000971</td><td>chr1 </td><td>196651878</td><td>196747504</td><td> 6.365152</td><td> 5.434698</td><td> 5.403117</td><td> 5.276815</td><td> 4.718054</td><td> 4.365235</td><td> 5.560319</td><td> 5.948259</td><td> 5.642737</td><td> 5.048260</td><td> 4.982189</td><td> 3.974231</td><td>-1.15788e+01</td><td> -9.787020</td></tr>\n",
       "</tbody>\n",
       "</table>\n"
      ],
      "text/latex": [
       "A data.frame: 6 × 18\n",
       "\\begin{tabular}{r|llllllllllllllllll}\n",
       "  & ENSG & chr & ENSGStart & ENSGEnd & T01 & T201 & T601 & T2H1 & T4H1 & T24H1 & T02 & T202 & T602 & T2H2 & T4H2 & T24H2 & LR & BIC\\_difference\\\\\n",
       "  & <fct> & <fct> & <int> & <int> & <dbl> & <dbl> & <dbl> & <dbl> & <dbl> & <dbl> & <dbl> & <dbl> & <dbl> & <dbl> & <dbl> & <dbl> & <dbl> & <dbl>\\\\\n",
       "\\hline\n",
       "\t1 & ENSG00000000003 & chrX  & 100627109 & 100639991 &  5.046729 &  5.072507 &  4.187041 &  3.384345 &  1.992315 &  5.303512 &  5.186265 &  3.694870 &  3.300810 &  5.258975 &  4.232275 &  4.292015 &  2.71693e-04 &   1.792030\\\\\n",
       "\t2 & ENSG00000000419 & chr20 &  50934867 &  50958555 & 10.561266 & 11.070185 & 10.792894 & 10.340013 & 10.281499 & 10.397641 & 11.041590 & 11.039045 & 10.774906 & 10.786872 & 10.595947 & 10.732970 & -1.23360e+00 &   0.558163\\\\\n",
       "\t3 & ENSG00000000457 & chr1  & 169849631 & 169894267 &  8.079070 &  7.592868 &  9.034333 &  9.332348 &  9.361537 &  9.004926 &  7.994516 &  8.168912 &  9.423026 &  9.461916 &  9.276741 &  8.844056 & -1.14292e+01 &  -9.637490\\\\\n",
       "\t4 & ENSG00000000460 & chr1  & 169662007 & 169854080 &  9.034114 &  8.666174 & 10.001805 & 12.874117 & 14.223477 & 10.850553 &  8.296008 &  8.351536 & 10.062440 & 11.661871 & 13.911382 & 11.332892 & -1.89647e+01 & -17.173000\\\\\n",
       "\t5 & ENSG00000000938 & chr1  &  27612064 &  27635277 &  9.684972 &  9.124017 &  9.117169 &  9.031949 &  9.403388 &  7.282596 &  5.487926 &  5.924802 &  5.361296 &  4.755835 &  5.193376 &  2.497586 &  3.02460e-04 &   1.792060\\\\\n",
       "\t6 & ENSG00000000971 & chr1  & 196651878 & 196747504 &  6.365152 &  5.434698 &  5.403117 &  5.276815 &  4.718054 &  4.365235 &  5.560319 &  5.948259 &  5.642737 &  5.048260 &  4.982189 &  3.974231 & -1.15788e+01 &  -9.787020\\\\\n",
       "\\end{tabular}\n"
      ],
      "text/markdown": [
       "\n",
       "A data.frame: 6 × 18\n",
       "\n",
       "| <!--/--> | ENSG &lt;fct&gt; | chr &lt;fct&gt; | ENSGStart &lt;int&gt; | ENSGEnd &lt;int&gt; | T01 &lt;dbl&gt; | T201 &lt;dbl&gt; | T601 &lt;dbl&gt; | T2H1 &lt;dbl&gt; | T4H1 &lt;dbl&gt; | T24H1 &lt;dbl&gt; | T02 &lt;dbl&gt; | T202 &lt;dbl&gt; | T602 &lt;dbl&gt; | T2H2 &lt;dbl&gt; | T4H2 &lt;dbl&gt; | T24H2 &lt;dbl&gt; | LR &lt;dbl&gt; | BIC_difference &lt;dbl&gt; |\n",
       "|---|---|---|---|---|---|---|---|---|---|---|---|---|---|---|---|---|---|---|\n",
       "| 1 | ENSG00000000003 | chrX  | 100627109 | 100639991 |  5.046729 |  5.072507 |  4.187041 |  3.384345 |  1.992315 |  5.303512 |  5.186265 |  3.694870 |  3.300810 |  5.258975 |  4.232275 |  4.292015 |  2.71693e-04 |   1.792030 |\n",
       "| 2 | ENSG00000000419 | chr20 |  50934867 |  50958555 | 10.561266 | 11.070185 | 10.792894 | 10.340013 | 10.281499 | 10.397641 | 11.041590 | 11.039045 | 10.774906 | 10.786872 | 10.595947 | 10.732970 | -1.23360e+00 |   0.558163 |\n",
       "| 3 | ENSG00000000457 | chr1  | 169849631 | 169894267 |  8.079070 |  7.592868 |  9.034333 |  9.332348 |  9.361537 |  9.004926 |  7.994516 |  8.168912 |  9.423026 |  9.461916 |  9.276741 |  8.844056 | -1.14292e+01 |  -9.637490 |\n",
       "| 4 | ENSG00000000460 | chr1  | 169662007 | 169854080 |  9.034114 |  8.666174 | 10.001805 | 12.874117 | 14.223477 | 10.850553 |  8.296008 |  8.351536 | 10.062440 | 11.661871 | 13.911382 | 11.332892 | -1.89647e+01 | -17.173000 |\n",
       "| 5 | ENSG00000000938 | chr1  |  27612064 |  27635277 |  9.684972 |  9.124017 |  9.117169 |  9.031949 |  9.403388 |  7.282596 |  5.487926 |  5.924802 |  5.361296 |  4.755835 |  5.193376 |  2.497586 |  3.02460e-04 |   1.792060 |\n",
       "| 6 | ENSG00000000971 | chr1  | 196651878 | 196747504 |  6.365152 |  5.434698 |  5.403117 |  5.276815 |  4.718054 |  4.365235 |  5.560319 |  5.948259 |  5.642737 |  5.048260 |  4.982189 |  3.974231 | -1.15788e+01 |  -9.787020 |\n",
       "\n"
      ],
      "text/plain": [
       "  ENSG            chr   ENSGStart ENSGEnd   T01       T201      T601     \n",
       "1 ENSG00000000003 chrX  100627109 100639991  5.046729  5.072507  4.187041\n",
       "2 ENSG00000000419 chr20  50934867  50958555 10.561266 11.070185 10.792894\n",
       "3 ENSG00000000457 chr1  169849631 169894267  8.079070  7.592868  9.034333\n",
       "4 ENSG00000000460 chr1  169662007 169854080  9.034114  8.666174 10.001805\n",
       "5 ENSG00000000938 chr1   27612064  27635277  9.684972  9.124017  9.117169\n",
       "6 ENSG00000000971 chr1  196651878 196747504  6.365152  5.434698  5.403117\n",
       "  T2H1      T4H1      T24H1     T02       T202      T602      T2H2     \n",
       "1  3.384345  1.992315  5.303512  5.186265  3.694870  3.300810  5.258975\n",
       "2 10.340013 10.281499 10.397641 11.041590 11.039045 10.774906 10.786872\n",
       "3  9.332348  9.361537  9.004926  7.994516  8.168912  9.423026  9.461916\n",
       "4 12.874117 14.223477 10.850553  8.296008  8.351536 10.062440 11.661871\n",
       "5  9.031949  9.403388  7.282596  5.487926  5.924802  5.361296  4.755835\n",
       "6  5.276815  4.718054  4.365235  5.560319  5.948259  5.642737  5.048260\n",
       "  T4H2      T24H2     LR           BIC_difference\n",
       "1  4.232275  4.292015  2.71693e-04   1.792030    \n",
       "2 10.595947 10.732970 -1.23360e+00   0.558163    \n",
       "3  9.276741  8.844056 -1.14292e+01  -9.637490    \n",
       "4 13.911382 11.332892 -1.89647e+01 -17.173000    \n",
       "5  5.193376  2.497586  3.02460e-04   1.792060    \n",
       "6  4.982189  3.974231 -1.15788e+01  -9.787020    "
      ]
     },
     "metadata": {},
     "output_type": "display_data"
    }
   ],
   "source": [
    "head(atacseq_data)\n",
    "head(rnaseq_data)"
   ]
  },
  {
   "cell_type": "code",
   "execution_count": 32,
   "metadata": {},
   "outputs": [],
   "source": [
    "idx0 <- c('T0','T20','T60','T2H','T4H','T24H')\n",
    "idx1 <- paste(idx0, '1', sep='')\n",
    "idx2 <- paste(idx0, '2', sep='')\n",
    "idx3 <- paste(idx0, '3', sep='')\n",
    "\n",
    "time0 <- c('0 min','20 mins','1 hrs', '2 hrs',' 4 hrs', '24 hrs')\n"
   ]
  },
  {
   "cell_type": "code",
   "execution_count": 6,
   "metadata": {},
   "outputs": [],
   "source": [
    "atacseq_dynamic <- atacseq_data[atacseq_data$BIC_difference<0,c(idx1,idx2,idx3)]\n",
    "atacseq_dataonly <- atacseq_data[,c(idx1,idx2,idx3)]\n",
    "rnaseq_dynamic <- rnaseq_data[rnaseq_data$BIC_difference<0,c(idx1,idx2)]\n",
    "rnaseq_dataonly <- rnaseq_data[,c(idx1,idx2)]"
   ]
  },
  {
   "cell_type": "code",
   "execution_count": 7,
   "metadata": {
    "scrolled": true
   },
   "outputs": [
    {
     "data": {
      "text/html": [
       "<table>\n",
       "<caption>A data.frame: 6 × 12</caption>\n",
       "<thead>\n",
       "\t<tr><th></th><th scope=col>T01</th><th scope=col>T201</th><th scope=col>T601</th><th scope=col>T2H1</th><th scope=col>T4H1</th><th scope=col>T24H1</th><th scope=col>T02</th><th scope=col>T202</th><th scope=col>T602</th><th scope=col>T2H2</th><th scope=col>T4H2</th><th scope=col>T24H2</th></tr>\n",
       "\t<tr><th></th><th scope=col>&lt;dbl&gt;</th><th scope=col>&lt;dbl&gt;</th><th scope=col>&lt;dbl&gt;</th><th scope=col>&lt;dbl&gt;</th><th scope=col>&lt;dbl&gt;</th><th scope=col>&lt;dbl&gt;</th><th scope=col>&lt;dbl&gt;</th><th scope=col>&lt;dbl&gt;</th><th scope=col>&lt;dbl&gt;</th><th scope=col>&lt;dbl&gt;</th><th scope=col>&lt;dbl&gt;</th><th scope=col>&lt;dbl&gt;</th></tr>\n",
       "</thead>\n",
       "<tbody>\n",
       "\t<tr><th scope=row>1</th><td> 5.046729</td><td> 5.072507</td><td> 4.187041</td><td> 3.384345</td><td> 1.992315</td><td> 5.303512</td><td> 5.186265</td><td> 3.694870</td><td> 3.300810</td><td> 5.258975</td><td> 4.232275</td><td> 4.292015</td></tr>\n",
       "\t<tr><th scope=row>2</th><td>10.561266</td><td>11.070185</td><td>10.792894</td><td>10.340013</td><td>10.281499</td><td>10.397641</td><td>11.041590</td><td>11.039045</td><td>10.774906</td><td>10.786872</td><td>10.595947</td><td>10.732970</td></tr>\n",
       "\t<tr><th scope=row>3</th><td> 8.079070</td><td> 7.592868</td><td> 9.034333</td><td> 9.332348</td><td> 9.361537</td><td> 9.004926</td><td> 7.994516</td><td> 8.168912</td><td> 9.423026</td><td> 9.461916</td><td> 9.276741</td><td> 8.844056</td></tr>\n",
       "\t<tr><th scope=row>4</th><td> 9.034114</td><td> 8.666174</td><td>10.001805</td><td>12.874117</td><td>14.223477</td><td>10.850553</td><td> 8.296008</td><td> 8.351536</td><td>10.062440</td><td>11.661871</td><td>13.911382</td><td>11.332892</td></tr>\n",
       "\t<tr><th scope=row>5</th><td> 9.684972</td><td> 9.124017</td><td> 9.117169</td><td> 9.031949</td><td> 9.403388</td><td> 7.282596</td><td> 5.487926</td><td> 5.924802</td><td> 5.361296</td><td> 4.755835</td><td> 5.193376</td><td> 2.497586</td></tr>\n",
       "\t<tr><th scope=row>6</th><td> 6.365152</td><td> 5.434698</td><td> 5.403117</td><td> 5.276815</td><td> 4.718054</td><td> 4.365235</td><td> 5.560319</td><td> 5.948259</td><td> 5.642737</td><td> 5.048260</td><td> 4.982189</td><td> 3.974231</td></tr>\n",
       "</tbody>\n",
       "</table>\n"
      ],
      "text/latex": [
       "A data.frame: 6 × 12\n",
       "\\begin{tabular}{r|llllllllllll}\n",
       "  & T01 & T201 & T601 & T2H1 & T4H1 & T24H1 & T02 & T202 & T602 & T2H2 & T4H2 & T24H2\\\\\n",
       "  & <dbl> & <dbl> & <dbl> & <dbl> & <dbl> & <dbl> & <dbl> & <dbl> & <dbl> & <dbl> & <dbl> & <dbl>\\\\\n",
       "\\hline\n",
       "\t1 &  5.046729 &  5.072507 &  4.187041 &  3.384345 &  1.992315 &  5.303512 &  5.186265 &  3.694870 &  3.300810 &  5.258975 &  4.232275 &  4.292015\\\\\n",
       "\t2 & 10.561266 & 11.070185 & 10.792894 & 10.340013 & 10.281499 & 10.397641 & 11.041590 & 11.039045 & 10.774906 & 10.786872 & 10.595947 & 10.732970\\\\\n",
       "\t3 &  8.079070 &  7.592868 &  9.034333 &  9.332348 &  9.361537 &  9.004926 &  7.994516 &  8.168912 &  9.423026 &  9.461916 &  9.276741 &  8.844056\\\\\n",
       "\t4 &  9.034114 &  8.666174 & 10.001805 & 12.874117 & 14.223477 & 10.850553 &  8.296008 &  8.351536 & 10.062440 & 11.661871 & 13.911382 & 11.332892\\\\\n",
       "\t5 &  9.684972 &  9.124017 &  9.117169 &  9.031949 &  9.403388 &  7.282596 &  5.487926 &  5.924802 &  5.361296 &  4.755835 &  5.193376 &  2.497586\\\\\n",
       "\t6 &  6.365152 &  5.434698 &  5.403117 &  5.276815 &  4.718054 &  4.365235 &  5.560319 &  5.948259 &  5.642737 &  5.048260 &  4.982189 &  3.974231\\\\\n",
       "\\end{tabular}\n"
      ],
      "text/markdown": [
       "\n",
       "A data.frame: 6 × 12\n",
       "\n",
       "| <!--/--> | T01 &lt;dbl&gt; | T201 &lt;dbl&gt; | T601 &lt;dbl&gt; | T2H1 &lt;dbl&gt; | T4H1 &lt;dbl&gt; | T24H1 &lt;dbl&gt; | T02 &lt;dbl&gt; | T202 &lt;dbl&gt; | T602 &lt;dbl&gt; | T2H2 &lt;dbl&gt; | T4H2 &lt;dbl&gt; | T24H2 &lt;dbl&gt; |\n",
       "|---|---|---|---|---|---|---|---|---|---|---|---|---|\n",
       "| 1 |  5.046729 |  5.072507 |  4.187041 |  3.384345 |  1.992315 |  5.303512 |  5.186265 |  3.694870 |  3.300810 |  5.258975 |  4.232275 |  4.292015 |\n",
       "| 2 | 10.561266 | 11.070185 | 10.792894 | 10.340013 | 10.281499 | 10.397641 | 11.041590 | 11.039045 | 10.774906 | 10.786872 | 10.595947 | 10.732970 |\n",
       "| 3 |  8.079070 |  7.592868 |  9.034333 |  9.332348 |  9.361537 |  9.004926 |  7.994516 |  8.168912 |  9.423026 |  9.461916 |  9.276741 |  8.844056 |\n",
       "| 4 |  9.034114 |  8.666174 | 10.001805 | 12.874117 | 14.223477 | 10.850553 |  8.296008 |  8.351536 | 10.062440 | 11.661871 | 13.911382 | 11.332892 |\n",
       "| 5 |  9.684972 |  9.124017 |  9.117169 |  9.031949 |  9.403388 |  7.282596 |  5.487926 |  5.924802 |  5.361296 |  4.755835 |  5.193376 |  2.497586 |\n",
       "| 6 |  6.365152 |  5.434698 |  5.403117 |  5.276815 |  4.718054 |  4.365235 |  5.560319 |  5.948259 |  5.642737 |  5.048260 |  4.982189 |  3.974231 |\n",
       "\n"
      ],
      "text/plain": [
       "  T01       T201      T601      T2H1      T4H1      T24H1     T02      \n",
       "1  5.046729  5.072507  4.187041  3.384345  1.992315  5.303512  5.186265\n",
       "2 10.561266 11.070185 10.792894 10.340013 10.281499 10.397641 11.041590\n",
       "3  8.079070  7.592868  9.034333  9.332348  9.361537  9.004926  7.994516\n",
       "4  9.034114  8.666174 10.001805 12.874117 14.223477 10.850553  8.296008\n",
       "5  9.684972  9.124017  9.117169  9.031949  9.403388  7.282596  5.487926\n",
       "6  6.365152  5.434698  5.403117  5.276815  4.718054  4.365235  5.560319\n",
       "  T202      T602      T2H2      T4H2      T24H2    \n",
       "1  3.694870  3.300810  5.258975  4.232275  4.292015\n",
       "2 11.039045 10.774906 10.786872 10.595947 10.732970\n",
       "3  8.168912  9.423026  9.461916  9.276741  8.844056\n",
       "4  8.351536 10.062440 11.661871 13.911382 11.332892\n",
       "5  5.924802  5.361296  4.755835  5.193376  2.497586\n",
       "6  5.948259  5.642737  5.048260  4.982189  3.974231"
      ]
     },
     "metadata": {},
     "output_type": "display_data"
    },
    {
     "data": {
      "text/html": [
       "<table>\n",
       "<caption>A data.frame: 6 × 18</caption>\n",
       "<thead>\n",
       "\t<tr><th></th><th scope=col>T01</th><th scope=col>T201</th><th scope=col>T601</th><th scope=col>T2H1</th><th scope=col>T4H1</th><th scope=col>T24H1</th><th scope=col>T02</th><th scope=col>T202</th><th scope=col>T602</th><th scope=col>T2H2</th><th scope=col>T4H2</th><th scope=col>T24H2</th><th scope=col>T03</th><th scope=col>T203</th><th scope=col>T603</th><th scope=col>T2H3</th><th scope=col>T4H3</th><th scope=col>T24H3</th></tr>\n",
       "\t<tr><th></th><th scope=col>&lt;dbl&gt;</th><th scope=col>&lt;dbl&gt;</th><th scope=col>&lt;dbl&gt;</th><th scope=col>&lt;dbl&gt;</th><th scope=col>&lt;dbl&gt;</th><th scope=col>&lt;dbl&gt;</th><th scope=col>&lt;dbl&gt;</th><th scope=col>&lt;dbl&gt;</th><th scope=col>&lt;dbl&gt;</th><th scope=col>&lt;dbl&gt;</th><th scope=col>&lt;dbl&gt;</th><th scope=col>&lt;dbl&gt;</th><th scope=col>&lt;dbl&gt;</th><th scope=col>&lt;dbl&gt;</th><th scope=col>&lt;dbl&gt;</th><th scope=col>&lt;dbl&gt;</th><th scope=col>&lt;dbl&gt;</th><th scope=col>&lt;dbl&gt;</th></tr>\n",
       "</thead>\n",
       "<tbody>\n",
       "\t<tr><th scope=row>1</th><td> 11.693635</td><td>  7.121956</td><td> 25.605650</td><td> 18.80797</td><td> 30.06081</td><td> 48.755415</td><td> 22.742682</td><td> 20.214045</td><td> 23.92282</td><td>  3.579219</td><td> 79.384048</td><td> 38.453990</td><td>  9.098770</td><td>  7.008198</td><td> 27.030314</td><td> 30.211588</td><td> 89.105625</td><td> 45.518495</td></tr>\n",
       "\t<tr><th scope=row>2</th><td>220.230131</td><td>178.048899</td><td>190.335329</td><td>206.88763</td><td>143.14672</td><td>227.060933</td><td>187.189767</td><td>172.738202</td><td>184.02168</td><td>180.750575</td><td>255.708232</td><td>159.584057</td><td>207.451966</td><td>238.278735</td><td>269.659563</td><td>184.016039</td><td>252.273067</td><td>158.699619</td></tr>\n",
       "\t<tr><th scope=row>3</th><td>  5.846818</td><td> 19.585379</td><td>  2.560565</td><td> 14.46767</td><td> 14.31467</td><td>  9.751083</td><td>  3.498874</td><td> 18.376404</td><td> 11.04130</td><td> 21.475316</td><td>  1.526616</td><td>  7.690798</td><td>  5.459262</td><td> 17.019910</td><td>  5.792210</td><td>  9.612778</td><td>  6.943295</td><td>  9.841837</td></tr>\n",
       "\t<tr><th scope=row>4</th><td> 38.978784</td><td> 39.170758</td><td> 36.701431</td><td> 40.50947</td><td> 95.90830</td><td>129.550103</td><td> 61.230298</td><td> 31.239888</td><td> 44.16520</td><td> 69.794776</td><td>168.691102</td><td>124.975466</td><td> 16.377787</td><td> 18.021081</td><td> 31.535367</td><td> 53.556907</td><td>109.935511</td><td>102.109057</td></tr>\n",
       "\t<tr><th scope=row>5</th><td>  5.846818</td><td>  1.780489</td><td> 11.949303</td><td> 11.57413</td><td> 11.45174</td><td> 19.502166</td><td>  6.997748</td><td>  5.512921</td><td> 14.72173</td><td> 21.475316</td><td>  1.526616</td><td>  5.768098</td><td>  4.549385</td><td>  4.004685</td><td>  7.079368</td><td>  5.493016</td><td>  6.943295</td><td> 13.532526</td></tr>\n",
       "\t<tr><th scope=row>6</th><td> 25.336210</td><td> 14.243912</td><td> 25.605650</td><td> 34.72240</td><td> 27.19788</td><td> 26.467225</td><td> 22.742682</td><td> 25.726966</td><td> 40.48477</td><td> 32.212974</td><td> 33.585559</td><td> 24.995093</td><td> 34.575328</td><td> 19.022252</td><td> 15.445894</td><td> 41.197621</td><td> 30.087614</td><td> 18.453444</td></tr>\n",
       "</tbody>\n",
       "</table>\n"
      ],
      "text/latex": [
       "A data.frame: 6 × 18\n",
       "\\begin{tabular}{r|llllllllllllllllll}\n",
       "  & T01 & T201 & T601 & T2H1 & T4H1 & T24H1 & T02 & T202 & T602 & T2H2 & T4H2 & T24H2 & T03 & T203 & T603 & T2H3 & T4H3 & T24H3\\\\\n",
       "  & <dbl> & <dbl> & <dbl> & <dbl> & <dbl> & <dbl> & <dbl> & <dbl> & <dbl> & <dbl> & <dbl> & <dbl> & <dbl> & <dbl> & <dbl> & <dbl> & <dbl> & <dbl>\\\\\n",
       "\\hline\n",
       "\t1 &  11.693635 &   7.121956 &  25.605650 &  18.80797 &  30.06081 &  48.755415 &  22.742682 &  20.214045 &  23.92282 &   3.579219 &  79.384048 &  38.453990 &   9.098770 &   7.008198 &  27.030314 &  30.211588 &  89.105625 &  45.518495\\\\\n",
       "\t2 & 220.230131 & 178.048899 & 190.335329 & 206.88763 & 143.14672 & 227.060933 & 187.189767 & 172.738202 & 184.02168 & 180.750575 & 255.708232 & 159.584057 & 207.451966 & 238.278735 & 269.659563 & 184.016039 & 252.273067 & 158.699619\\\\\n",
       "\t3 &   5.846818 &  19.585379 &   2.560565 &  14.46767 &  14.31467 &   9.751083 &   3.498874 &  18.376404 &  11.04130 &  21.475316 &   1.526616 &   7.690798 &   5.459262 &  17.019910 &   5.792210 &   9.612778 &   6.943295 &   9.841837\\\\\n",
       "\t4 &  38.978784 &  39.170758 &  36.701431 &  40.50947 &  95.90830 & 129.550103 &  61.230298 &  31.239888 &  44.16520 &  69.794776 & 168.691102 & 124.975466 &  16.377787 &  18.021081 &  31.535367 &  53.556907 & 109.935511 & 102.109057\\\\\n",
       "\t5 &   5.846818 &   1.780489 &  11.949303 &  11.57413 &  11.45174 &  19.502166 &   6.997748 &   5.512921 &  14.72173 &  21.475316 &   1.526616 &   5.768098 &   4.549385 &   4.004685 &   7.079368 &   5.493016 &   6.943295 &  13.532526\\\\\n",
       "\t6 &  25.336210 &  14.243912 &  25.605650 &  34.72240 &  27.19788 &  26.467225 &  22.742682 &  25.726966 &  40.48477 &  32.212974 &  33.585559 &  24.995093 &  34.575328 &  19.022252 &  15.445894 &  41.197621 &  30.087614 &  18.453444\\\\\n",
       "\\end{tabular}\n"
      ],
      "text/markdown": [
       "\n",
       "A data.frame: 6 × 18\n",
       "\n",
       "| <!--/--> | T01 &lt;dbl&gt; | T201 &lt;dbl&gt; | T601 &lt;dbl&gt; | T2H1 &lt;dbl&gt; | T4H1 &lt;dbl&gt; | T24H1 &lt;dbl&gt; | T02 &lt;dbl&gt; | T202 &lt;dbl&gt; | T602 &lt;dbl&gt; | T2H2 &lt;dbl&gt; | T4H2 &lt;dbl&gt; | T24H2 &lt;dbl&gt; | T03 &lt;dbl&gt; | T203 &lt;dbl&gt; | T603 &lt;dbl&gt; | T2H3 &lt;dbl&gt; | T4H3 &lt;dbl&gt; | T24H3 &lt;dbl&gt; |\n",
       "|---|---|---|---|---|---|---|---|---|---|---|---|---|---|---|---|---|---|---|\n",
       "| 1 |  11.693635 |   7.121956 |  25.605650 |  18.80797 |  30.06081 |  48.755415 |  22.742682 |  20.214045 |  23.92282 |   3.579219 |  79.384048 |  38.453990 |   9.098770 |   7.008198 |  27.030314 |  30.211588 |  89.105625 |  45.518495 |\n",
       "| 2 | 220.230131 | 178.048899 | 190.335329 | 206.88763 | 143.14672 | 227.060933 | 187.189767 | 172.738202 | 184.02168 | 180.750575 | 255.708232 | 159.584057 | 207.451966 | 238.278735 | 269.659563 | 184.016039 | 252.273067 | 158.699619 |\n",
       "| 3 |   5.846818 |  19.585379 |   2.560565 |  14.46767 |  14.31467 |   9.751083 |   3.498874 |  18.376404 |  11.04130 |  21.475316 |   1.526616 |   7.690798 |   5.459262 |  17.019910 |   5.792210 |   9.612778 |   6.943295 |   9.841837 |\n",
       "| 4 |  38.978784 |  39.170758 |  36.701431 |  40.50947 |  95.90830 | 129.550103 |  61.230298 |  31.239888 |  44.16520 |  69.794776 | 168.691102 | 124.975466 |  16.377787 |  18.021081 |  31.535367 |  53.556907 | 109.935511 | 102.109057 |\n",
       "| 5 |   5.846818 |   1.780489 |  11.949303 |  11.57413 |  11.45174 |  19.502166 |   6.997748 |   5.512921 |  14.72173 |  21.475316 |   1.526616 |   5.768098 |   4.549385 |   4.004685 |   7.079368 |   5.493016 |   6.943295 |  13.532526 |\n",
       "| 6 |  25.336210 |  14.243912 |  25.605650 |  34.72240 |  27.19788 |  26.467225 |  22.742682 |  25.726966 |  40.48477 |  32.212974 |  33.585559 |  24.995093 |  34.575328 |  19.022252 |  15.445894 |  41.197621 |  30.087614 |  18.453444 |\n",
       "\n"
      ],
      "text/plain": [
       "  T01        T201       T601       T2H1      T4H1      T24H1      T02       \n",
       "1  11.693635   7.121956  25.605650  18.80797  30.06081  48.755415  22.742682\n",
       "2 220.230131 178.048899 190.335329 206.88763 143.14672 227.060933 187.189767\n",
       "3   5.846818  19.585379   2.560565  14.46767  14.31467   9.751083   3.498874\n",
       "4  38.978784  39.170758  36.701431  40.50947  95.90830 129.550103  61.230298\n",
       "5   5.846818   1.780489  11.949303  11.57413  11.45174  19.502166   6.997748\n",
       "6  25.336210  14.243912  25.605650  34.72240  27.19788  26.467225  22.742682\n",
       "  T202       T602      T2H2       T4H2       T24H2      T03        T203      \n",
       "1  20.214045  23.92282   3.579219  79.384048  38.453990   9.098770   7.008198\n",
       "2 172.738202 184.02168 180.750575 255.708232 159.584057 207.451966 238.278735\n",
       "3  18.376404  11.04130  21.475316   1.526616   7.690798   5.459262  17.019910\n",
       "4  31.239888  44.16520  69.794776 168.691102 124.975466  16.377787  18.021081\n",
       "5   5.512921  14.72173  21.475316   1.526616   5.768098   4.549385   4.004685\n",
       "6  25.726966  40.48477  32.212974  33.585559  24.995093  34.575328  19.022252\n",
       "  T603       T2H3       T4H3       T24H3     \n",
       "1  27.030314  30.211588  89.105625  45.518495\n",
       "2 269.659563 184.016039 252.273067 158.699619\n",
       "3   5.792210   9.612778   6.943295   9.841837\n",
       "4  31.535367  53.556907 109.935511 102.109057\n",
       "5   7.079368   5.493016   6.943295  13.532526\n",
       "6  15.445894  41.197621  30.087614  18.453444"
      ]
     },
     "metadata": {},
     "output_type": "display_data"
    },
    {
     "data": {
      "text/html": [
       "<table>\n",
       "<caption>A data.frame: 6 × 12</caption>\n",
       "<thead>\n",
       "\t<tr><th></th><th scope=col>T01</th><th scope=col>T201</th><th scope=col>T601</th><th scope=col>T2H1</th><th scope=col>T4H1</th><th scope=col>T24H1</th><th scope=col>T02</th><th scope=col>T202</th><th scope=col>T602</th><th scope=col>T2H2</th><th scope=col>T4H2</th><th scope=col>T24H2</th></tr>\n",
       "\t<tr><th></th><th scope=col>&lt;dbl&gt;</th><th scope=col>&lt;dbl&gt;</th><th scope=col>&lt;dbl&gt;</th><th scope=col>&lt;dbl&gt;</th><th scope=col>&lt;dbl&gt;</th><th scope=col>&lt;dbl&gt;</th><th scope=col>&lt;dbl&gt;</th><th scope=col>&lt;dbl&gt;</th><th scope=col>&lt;dbl&gt;</th><th scope=col>&lt;dbl&gt;</th><th scope=col>&lt;dbl&gt;</th><th scope=col>&lt;dbl&gt;</th></tr>\n",
       "</thead>\n",
       "<tbody>\n",
       "\t<tr><th scope=row>3</th><td>8.079070</td><td>7.592868</td><td> 9.034333</td><td> 9.332348</td><td> 9.361537</td><td> 9.004926</td><td>7.994516</td><td>8.168912</td><td> 9.423026</td><td> 9.461916</td><td> 9.276741</td><td> 8.844056</td></tr>\n",
       "\t<tr><th scope=row>4</th><td>9.034114</td><td>8.666174</td><td>10.001805</td><td>12.874117</td><td>14.223477</td><td>10.850553</td><td>8.296008</td><td>8.351536</td><td>10.062440</td><td>11.661871</td><td>13.911382</td><td>11.332892</td></tr>\n",
       "\t<tr><th scope=row>6</th><td>6.365152</td><td>5.434698</td><td> 5.403117</td><td> 5.276815</td><td> 4.718054</td><td> 4.365235</td><td>5.560319</td><td>5.948259</td><td> 5.642737</td><td> 5.048260</td><td> 4.982189</td><td> 3.974231</td></tr>\n",
       "\t<tr><th scope=row>7</th><td>6.665221</td><td>5.873235</td><td> 5.460646</td><td> 5.276815</td><td> 4.872737</td><td> 7.255423</td><td>5.778337</td><td>5.694521</td><td> 5.432625</td><td> 5.048260</td><td> 4.527682</td><td> 6.753419</td></tr>\n",
       "\t<tr><th scope=row>8</th><td>9.094803</td><td>9.247675</td><td> 9.062477</td><td> 8.640764</td><td> 9.235315</td><td> 9.674783</td><td>9.379581</td><td>9.344914</td><td> 9.110079</td><td> 8.852939</td><td> 9.874120</td><td>10.230714</td></tr>\n",
       "\t<tr><th scope=row>9</th><td>9.444283</td><td>9.539649</td><td> 9.695286</td><td>10.200342</td><td>10.630900</td><td> 9.378388</td><td>9.531367</td><td>9.655751</td><td> 9.969561</td><td>10.526830</td><td>10.800370</td><td> 9.902095</td></tr>\n",
       "</tbody>\n",
       "</table>\n"
      ],
      "text/latex": [
       "A data.frame: 6 × 12\n",
       "\\begin{tabular}{r|llllllllllll}\n",
       "  & T01 & T201 & T601 & T2H1 & T4H1 & T24H1 & T02 & T202 & T602 & T2H2 & T4H2 & T24H2\\\\\n",
       "  & <dbl> & <dbl> & <dbl> & <dbl> & <dbl> & <dbl> & <dbl> & <dbl> & <dbl> & <dbl> & <dbl> & <dbl>\\\\\n",
       "\\hline\n",
       "\t3 & 8.079070 & 7.592868 &  9.034333 &  9.332348 &  9.361537 &  9.004926 & 7.994516 & 8.168912 &  9.423026 &  9.461916 &  9.276741 &  8.844056\\\\\n",
       "\t4 & 9.034114 & 8.666174 & 10.001805 & 12.874117 & 14.223477 & 10.850553 & 8.296008 & 8.351536 & 10.062440 & 11.661871 & 13.911382 & 11.332892\\\\\n",
       "\t6 & 6.365152 & 5.434698 &  5.403117 &  5.276815 &  4.718054 &  4.365235 & 5.560319 & 5.948259 &  5.642737 &  5.048260 &  4.982189 &  3.974231\\\\\n",
       "\t7 & 6.665221 & 5.873235 &  5.460646 &  5.276815 &  4.872737 &  7.255423 & 5.778337 & 5.694521 &  5.432625 &  5.048260 &  4.527682 &  6.753419\\\\\n",
       "\t8 & 9.094803 & 9.247675 &  9.062477 &  8.640764 &  9.235315 &  9.674783 & 9.379581 & 9.344914 &  9.110079 &  8.852939 &  9.874120 & 10.230714\\\\\n",
       "\t9 & 9.444283 & 9.539649 &  9.695286 & 10.200342 & 10.630900 &  9.378388 & 9.531367 & 9.655751 &  9.969561 & 10.526830 & 10.800370 &  9.902095\\\\\n",
       "\\end{tabular}\n"
      ],
      "text/markdown": [
       "\n",
       "A data.frame: 6 × 12\n",
       "\n",
       "| <!--/--> | T01 &lt;dbl&gt; | T201 &lt;dbl&gt; | T601 &lt;dbl&gt; | T2H1 &lt;dbl&gt; | T4H1 &lt;dbl&gt; | T24H1 &lt;dbl&gt; | T02 &lt;dbl&gt; | T202 &lt;dbl&gt; | T602 &lt;dbl&gt; | T2H2 &lt;dbl&gt; | T4H2 &lt;dbl&gt; | T24H2 &lt;dbl&gt; |\n",
       "|---|---|---|---|---|---|---|---|---|---|---|---|---|\n",
       "| 3 | 8.079070 | 7.592868 |  9.034333 |  9.332348 |  9.361537 |  9.004926 | 7.994516 | 8.168912 |  9.423026 |  9.461916 |  9.276741 |  8.844056 |\n",
       "| 4 | 9.034114 | 8.666174 | 10.001805 | 12.874117 | 14.223477 | 10.850553 | 8.296008 | 8.351536 | 10.062440 | 11.661871 | 13.911382 | 11.332892 |\n",
       "| 6 | 6.365152 | 5.434698 |  5.403117 |  5.276815 |  4.718054 |  4.365235 | 5.560319 | 5.948259 |  5.642737 |  5.048260 |  4.982189 |  3.974231 |\n",
       "| 7 | 6.665221 | 5.873235 |  5.460646 |  5.276815 |  4.872737 |  7.255423 | 5.778337 | 5.694521 |  5.432625 |  5.048260 |  4.527682 |  6.753419 |\n",
       "| 8 | 9.094803 | 9.247675 |  9.062477 |  8.640764 |  9.235315 |  9.674783 | 9.379581 | 9.344914 |  9.110079 |  8.852939 |  9.874120 | 10.230714 |\n",
       "| 9 | 9.444283 | 9.539649 |  9.695286 | 10.200342 | 10.630900 |  9.378388 | 9.531367 | 9.655751 |  9.969561 | 10.526830 | 10.800370 |  9.902095 |\n",
       "\n"
      ],
      "text/plain": [
       "  T01      T201     T601      T2H1      T4H1      T24H1     T02      T202    \n",
       "3 8.079070 7.592868  9.034333  9.332348  9.361537  9.004926 7.994516 8.168912\n",
       "4 9.034114 8.666174 10.001805 12.874117 14.223477 10.850553 8.296008 8.351536\n",
       "6 6.365152 5.434698  5.403117  5.276815  4.718054  4.365235 5.560319 5.948259\n",
       "7 6.665221 5.873235  5.460646  5.276815  4.872737  7.255423 5.778337 5.694521\n",
       "8 9.094803 9.247675  9.062477  8.640764  9.235315  9.674783 9.379581 9.344914\n",
       "9 9.444283 9.539649  9.695286 10.200342 10.630900  9.378388 9.531367 9.655751\n",
       "  T602      T2H2      T4H2      T24H2    \n",
       "3  9.423026  9.461916  9.276741  8.844056\n",
       "4 10.062440 11.661871 13.911382 11.332892\n",
       "6  5.642737  5.048260  4.982189  3.974231\n",
       "7  5.432625  5.048260  4.527682  6.753419\n",
       "8  9.110079  8.852939  9.874120 10.230714\n",
       "9  9.969561 10.526830 10.800370  9.902095"
      ]
     },
     "metadata": {},
     "output_type": "display_data"
    },
    {
     "data": {
      "text/html": [
       "<table>\n",
       "<caption>A data.frame: 6 × 18</caption>\n",
       "<thead>\n",
       "\t<tr><th></th><th scope=col>T01</th><th scope=col>T201</th><th scope=col>T601</th><th scope=col>T2H1</th><th scope=col>T4H1</th><th scope=col>T24H1</th><th scope=col>T02</th><th scope=col>T202</th><th scope=col>T602</th><th scope=col>T2H2</th><th scope=col>T4H2</th><th scope=col>T24H2</th><th scope=col>T03</th><th scope=col>T203</th><th scope=col>T603</th><th scope=col>T2H3</th><th scope=col>T4H3</th><th scope=col>T24H3</th></tr>\n",
       "\t<tr><th></th><th scope=col>&lt;dbl&gt;</th><th scope=col>&lt;dbl&gt;</th><th scope=col>&lt;dbl&gt;</th><th scope=col>&lt;dbl&gt;</th><th scope=col>&lt;dbl&gt;</th><th scope=col>&lt;dbl&gt;</th><th scope=col>&lt;dbl&gt;</th><th scope=col>&lt;dbl&gt;</th><th scope=col>&lt;dbl&gt;</th><th scope=col>&lt;dbl&gt;</th><th scope=col>&lt;dbl&gt;</th><th scope=col>&lt;dbl&gt;</th><th scope=col>&lt;dbl&gt;</th><th scope=col>&lt;dbl&gt;</th><th scope=col>&lt;dbl&gt;</th><th scope=col>&lt;dbl&gt;</th><th scope=col>&lt;dbl&gt;</th><th scope=col>&lt;dbl&gt;</th></tr>\n",
       "</thead>\n",
       "<tbody>\n",
       "\t<tr><th scope=row>1</th><td>11.693635</td><td> 7.121956</td><td>25.605650</td><td>18.80797</td><td>30.06081</td><td> 48.755415</td><td>22.742682</td><td>20.21404</td><td>23.92282</td><td> 3.579219</td><td> 79.384048</td><td> 38.453990</td><td> 9.098770</td><td> 7.008198</td><td>27.030314</td><td>30.211588</td><td> 89.105625</td><td> 45.518495</td></tr>\n",
       "\t<tr><th scope=row>3</th><td> 5.846818</td><td>19.585379</td><td> 2.560565</td><td>14.46767</td><td>14.31467</td><td>  9.751083</td><td> 3.498874</td><td>18.37640</td><td>11.04130</td><td>21.475316</td><td>  1.526616</td><td>  7.690798</td><td> 5.459262</td><td>17.019910</td><td> 5.792210</td><td> 9.612778</td><td>  6.943295</td><td>  9.841837</td></tr>\n",
       "\t<tr><th scope=row>4</th><td>38.978784</td><td>39.170758</td><td>36.701431</td><td>40.50947</td><td>95.90830</td><td>129.550103</td><td>61.230298</td><td>31.23989</td><td>44.16520</td><td>69.794776</td><td>168.691102</td><td>124.975466</td><td>16.377787</td><td>18.021081</td><td>31.535367</td><td>53.556907</td><td>109.935511</td><td>102.109057</td></tr>\n",
       "\t<tr><th scope=row>64</th><td>40.927723</td><td>24.926846</td><td>27.312693</td><td>27.48857</td><td>22.90348</td><td> 16.716142</td><td>26.241556</td><td>38.59045</td><td>23.92282</td><td>28.633754</td><td> 18.319396</td><td> 11.536197</td><td>49.133360</td><td>65.076125</td><td>43.763366</td><td>28.838334</td><td> 18.515454</td><td> 12.302296</td></tr>\n",
       "\t<tr><th scope=row>88</th><td> 5.846818</td><td>30.268313</td><td> 5.121130</td><td>14.46767</td><td>11.45174</td><td>  9.751083</td><td>17.494371</td><td>27.56461</td><td>14.72173</td><td>19.685706</td><td>  2.289924</td><td> 17.304295</td><td> 7.279016</td><td>15.017567</td><td> 3.861473</td><td> 5.493016</td><td>  1.157216</td><td> 22.144133</td></tr>\n",
       "\t<tr><th scope=row>90</th><td> 7.795757</td><td>28.487824</td><td> 5.974652</td><td>20.25473</td><td>10.02027</td><td>  1.393012</td><td>10.496622</td><td>20.21404</td><td>11.04130</td><td>25.054535</td><td> 10.686314</td><td>  9.613497</td><td> 2.729631</td><td>13.015225</td><td> 9.653684</td><td>12.359286</td><td>  2.314432</td><td> 12.302296</td></tr>\n",
       "</tbody>\n",
       "</table>\n"
      ],
      "text/latex": [
       "A data.frame: 6 × 18\n",
       "\\begin{tabular}{r|llllllllllllllllll}\n",
       "  & T01 & T201 & T601 & T2H1 & T4H1 & T24H1 & T02 & T202 & T602 & T2H2 & T4H2 & T24H2 & T03 & T203 & T603 & T2H3 & T4H3 & T24H3\\\\\n",
       "  & <dbl> & <dbl> & <dbl> & <dbl> & <dbl> & <dbl> & <dbl> & <dbl> & <dbl> & <dbl> & <dbl> & <dbl> & <dbl> & <dbl> & <dbl> & <dbl> & <dbl> & <dbl>\\\\\n",
       "\\hline\n",
       "\t1 & 11.693635 &  7.121956 & 25.605650 & 18.80797 & 30.06081 &  48.755415 & 22.742682 & 20.21404 & 23.92282 &  3.579219 &  79.384048 &  38.453990 &  9.098770 &  7.008198 & 27.030314 & 30.211588 &  89.105625 &  45.518495\\\\\n",
       "\t3 &  5.846818 & 19.585379 &  2.560565 & 14.46767 & 14.31467 &   9.751083 &  3.498874 & 18.37640 & 11.04130 & 21.475316 &   1.526616 &   7.690798 &  5.459262 & 17.019910 &  5.792210 &  9.612778 &   6.943295 &   9.841837\\\\\n",
       "\t4 & 38.978784 & 39.170758 & 36.701431 & 40.50947 & 95.90830 & 129.550103 & 61.230298 & 31.23989 & 44.16520 & 69.794776 & 168.691102 & 124.975466 & 16.377787 & 18.021081 & 31.535367 & 53.556907 & 109.935511 & 102.109057\\\\\n",
       "\t64 & 40.927723 & 24.926846 & 27.312693 & 27.48857 & 22.90348 &  16.716142 & 26.241556 & 38.59045 & 23.92282 & 28.633754 &  18.319396 &  11.536197 & 49.133360 & 65.076125 & 43.763366 & 28.838334 &  18.515454 &  12.302296\\\\\n",
       "\t88 &  5.846818 & 30.268313 &  5.121130 & 14.46767 & 11.45174 &   9.751083 & 17.494371 & 27.56461 & 14.72173 & 19.685706 &   2.289924 &  17.304295 &  7.279016 & 15.017567 &  3.861473 &  5.493016 &   1.157216 &  22.144133\\\\\n",
       "\t90 &  7.795757 & 28.487824 &  5.974652 & 20.25473 & 10.02027 &   1.393012 & 10.496622 & 20.21404 & 11.04130 & 25.054535 &  10.686314 &   9.613497 &  2.729631 & 13.015225 &  9.653684 & 12.359286 &   2.314432 &  12.302296\\\\\n",
       "\\end{tabular}\n"
      ],
      "text/markdown": [
       "\n",
       "A data.frame: 6 × 18\n",
       "\n",
       "| <!--/--> | T01 &lt;dbl&gt; | T201 &lt;dbl&gt; | T601 &lt;dbl&gt; | T2H1 &lt;dbl&gt; | T4H1 &lt;dbl&gt; | T24H1 &lt;dbl&gt; | T02 &lt;dbl&gt; | T202 &lt;dbl&gt; | T602 &lt;dbl&gt; | T2H2 &lt;dbl&gt; | T4H2 &lt;dbl&gt; | T24H2 &lt;dbl&gt; | T03 &lt;dbl&gt; | T203 &lt;dbl&gt; | T603 &lt;dbl&gt; | T2H3 &lt;dbl&gt; | T4H3 &lt;dbl&gt; | T24H3 &lt;dbl&gt; |\n",
       "|---|---|---|---|---|---|---|---|---|---|---|---|---|---|---|---|---|---|---|\n",
       "| 1 | 11.693635 |  7.121956 | 25.605650 | 18.80797 | 30.06081 |  48.755415 | 22.742682 | 20.21404 | 23.92282 |  3.579219 |  79.384048 |  38.453990 |  9.098770 |  7.008198 | 27.030314 | 30.211588 |  89.105625 |  45.518495 |\n",
       "| 3 |  5.846818 | 19.585379 |  2.560565 | 14.46767 | 14.31467 |   9.751083 |  3.498874 | 18.37640 | 11.04130 | 21.475316 |   1.526616 |   7.690798 |  5.459262 | 17.019910 |  5.792210 |  9.612778 |   6.943295 |   9.841837 |\n",
       "| 4 | 38.978784 | 39.170758 | 36.701431 | 40.50947 | 95.90830 | 129.550103 | 61.230298 | 31.23989 | 44.16520 | 69.794776 | 168.691102 | 124.975466 | 16.377787 | 18.021081 | 31.535367 | 53.556907 | 109.935511 | 102.109057 |\n",
       "| 64 | 40.927723 | 24.926846 | 27.312693 | 27.48857 | 22.90348 |  16.716142 | 26.241556 | 38.59045 | 23.92282 | 28.633754 |  18.319396 |  11.536197 | 49.133360 | 65.076125 | 43.763366 | 28.838334 |  18.515454 |  12.302296 |\n",
       "| 88 |  5.846818 | 30.268313 |  5.121130 | 14.46767 | 11.45174 |   9.751083 | 17.494371 | 27.56461 | 14.72173 | 19.685706 |   2.289924 |  17.304295 |  7.279016 | 15.017567 |  3.861473 |  5.493016 |   1.157216 |  22.144133 |\n",
       "| 90 |  7.795757 | 28.487824 |  5.974652 | 20.25473 | 10.02027 |   1.393012 | 10.496622 | 20.21404 | 11.04130 | 25.054535 |  10.686314 |   9.613497 |  2.729631 | 13.015225 |  9.653684 | 12.359286 |   2.314432 |  12.302296 |\n",
       "\n"
      ],
      "text/plain": [
       "   T01       T201      T601      T2H1     T4H1     T24H1      T02      \n",
       "1  11.693635  7.121956 25.605650 18.80797 30.06081  48.755415 22.742682\n",
       "3   5.846818 19.585379  2.560565 14.46767 14.31467   9.751083  3.498874\n",
       "4  38.978784 39.170758 36.701431 40.50947 95.90830 129.550103 61.230298\n",
       "64 40.927723 24.926846 27.312693 27.48857 22.90348  16.716142 26.241556\n",
       "88  5.846818 30.268313  5.121130 14.46767 11.45174   9.751083 17.494371\n",
       "90  7.795757 28.487824  5.974652 20.25473 10.02027   1.393012 10.496622\n",
       "   T202     T602     T2H2      T4H2       T24H2      T03       T203     \n",
       "1  20.21404 23.92282  3.579219  79.384048  38.453990  9.098770  7.008198\n",
       "3  18.37640 11.04130 21.475316   1.526616   7.690798  5.459262 17.019910\n",
       "4  31.23989 44.16520 69.794776 168.691102 124.975466 16.377787 18.021081\n",
       "64 38.59045 23.92282 28.633754  18.319396  11.536197 49.133360 65.076125\n",
       "88 27.56461 14.72173 19.685706   2.289924  17.304295  7.279016 15.017567\n",
       "90 20.21404 11.04130 25.054535  10.686314   9.613497  2.729631 13.015225\n",
       "   T603      T2H3      T4H3       T24H3     \n",
       "1  27.030314 30.211588  89.105625  45.518495\n",
       "3   5.792210  9.612778   6.943295   9.841837\n",
       "4  31.535367 53.556907 109.935511 102.109057\n",
       "64 43.763366 28.838334  18.515454  12.302296\n",
       "88  3.861473  5.493016   1.157216  22.144133\n",
       "90  9.653684 12.359286   2.314432  12.302296"
      ]
     },
     "metadata": {},
     "output_type": "display_data"
    }
   ],
   "source": [
    "head(rnaseq_dataonly)\n",
    "head(atacseq_dataonly)\n",
    "head(rnaseq_dynamic)\n",
    "head(atacseq_dynamic)"
   ]
  },
  {
   "cell_type": "code",
   "execution_count": 8,
   "metadata": {},
   "outputs": [],
   "source": [
    "pca_atacseq_dynamic <- prcomp(t(atacseq_dynamic), scale=TRUE, center=TRUE)\n",
    "pca_atacseq <- prcomp(t(atacseq_dataonly), scale=TRUE, center=TRUE)\n",
    "pca_rnaseq_dynamic <- prcomp(t(rnaseq_dynamic), scale=TRUE, center=TRUE)\n",
    "pca_rnaseq <- prcomp(t(rnaseq_dataonly), scale=TRUE, center=TRUE)"
   ]
  },
  {
   "cell_type": "code",
   "execution_count": 9,
   "metadata": {},
   "outputs": [
    {
     "data": {
      "text/plain": [
       "Importance of components:\n",
       "                            PC1     PC2      PC3      PC4      PC5      PC6\n",
       "Standard deviation     148.0711 92.3205 66.97149 64.02360 61.86058 59.85077\n",
       "Proportion of Variance   0.2933  0.1140  0.05999  0.05483  0.05119  0.04791\n",
       "Cumulative Proportion    0.2933  0.4073  0.46727  0.52210  0.57328  0.62120\n",
       "                            PC7      PC8      PC9    PC10     PC11     PC12\n",
       "Standard deviation     59.26554 58.01569 55.87650 54.4784 53.00629 50.99272\n",
       "Proportion of Variance  0.04698  0.04502  0.04176  0.0397  0.03758  0.03478\n",
       "Cumulative Proportion   0.66818  0.71320  0.75496  0.7947  0.83224  0.86702\n",
       "                           PC13     PC14     PC15     PC16     PC17      PC18\n",
       "Standard deviation     49.55097 47.48416 43.59011 41.69653 39.91038 7.701e-14\n",
       "Proportion of Variance  0.03284  0.03016  0.02542  0.02326  0.02131 0.000e+00\n",
       "Cumulative Proportion   0.89986  0.93002  0.95544  0.97869  1.00000 1.000e+00"
      ]
     },
     "metadata": {},
     "output_type": "display_data"
    }
   ],
   "source": [
    "summary(pca_atacseq)"
   ]
  },
  {
   "cell_type": "code",
   "execution_count": 10,
   "metadata": {},
   "outputs": [],
   "source": [
    "pca_atacseq_forplot <- data.frame(PC1=pca_atacseq$x['PC1'], PC2=pca_atacseq$x['PC2'], \n",
    "                                  replicate = c(rep(1,6), rep(2,6), rep(3,6)), time = c(idx0, idx0, idx0))\n",
    "pca_atacseq_dynamic_forplot <- data.frame(PC1=pca_atacseq_dynamic$x['PC1'], PC2=pca_atacseq_dynamic$x['PC2'], \n",
    "                                  replicate = c(rep(1,6), rep(2,6), rep(3,6)), time = c(idx0, idx0, idx0))\n",
    "pca_rnaseq_forplot <- data.frame(PC1=pca_rnaseq$x['PC1'], PC2=pca_rnaseq$x['PC2'], \n",
    "                                  replicate = c(rep(1,6), rep(2,6)), time = c(idx0, idx0))\n",
    "pca_rnaseq_dynamic_forplot <- data.frame(PC1=pca_rnaseq_dynamic$x['PC1'], PC2=pca_rnaseq_dynamic$x['PC2'], \n",
    "                                  replicate = c(rep(1,6), rep(2,6)), time = c(idx0, idx0))"
   ]
  },
  {
   "cell_type": "code",
   "execution_count": 11,
   "metadata": {},
   "outputs": [],
   "source": [
    "pca_atacseq_vars <- apply(pca_atacseq$x, 2, var)  \n",
    "pca_atacseq_props <- pca_atacseq_vars / sum(pca_atacseq_vars)\n",
    "pca_atacseq_label_PC1 <- round(pca_atacseq_props[1], digits=2)\n",
    "pca_atacseq_label_PC2 <- round(pca_atacseq_props[2], digits=2)\n",
    "\n",
    "pca_atacseq_dynamic_vars <- apply(pca_atacseq_dynamic$x, 2, var)  \n",
    "pca_atacseq_dynamic_props <- pca_atacseq_dynamic_vars / sum(pca_atacseq_dynamic_vars)\n",
    "pca_atacseq_dynamic_label_PC1 <- round(pca_atacseq_dynamic_props[1], digits=2)\n",
    "pca_atacseq_dynamic_label_PC2 <- round(pca_atacseq_dynamic_props[2], digits=2)\n",
    "\n",
    "pca_rnaseq_vars <- apply(pca_rnaseq$x, 2, var)  \n",
    "pca_rnaseq_props <- pca_rnaseq_vars / sum(pca_rnaseq_vars)\n",
    "pca_rnaseq_label_PC1 <- round(pca_rnaseq_props[1], digits=2)\n",
    "pca_rnaseq_label_PC2 <- round(pca_rnaseq_props[2], digits=2)\n",
    "\n",
    "pca_rnaseq_dynamic_vars <- apply(pca_rnaseq_dynamic$x, 2, var)  \n",
    "pca_rnaseq_dynamic_props <- pca_rnaseq_dynamic_vars / sum(pca_rnaseq_dynamic_vars)\n",
    "pca_rnaseq_dynamic_label_PC1 <- round(pca_rnaseq_dynamic_props[1], digits=2)\n",
    "pca_rnaseq_dynamic_label_PC2 <- round(pca_rnaseq_dynamic_props[2], digits=2)\n",
    "\n"
   ]
  },
  {
   "cell_type": "code",
   "execution_count": 197,
   "metadata": {},
   "outputs": [],
   "source": [
    "pca_atacseq_forplot <- data.frame(PC1=pca_atacseq$x[,'PC1'], PC2=pca_atacseq$x[,'PC2'], \n",
    "                                  label_PC1=paste('PC1', percent(pca_atacseq_label_PC1)), \n",
    "                                  label_PC2=paste('PC2', percent(pca_atacseq_label_PC2)), \n",
    "                                  Replicate = factor(c(rep(1,6), rep(2,6), rep(3,6))), \n",
    "                                  Time = factor(c(time0, time0, time0), levels=time0))\n",
    "pca_atacseq_dynamic_forplot <- data.frame(PC1=pca_atacseq_dynamic$x[,'PC1'], PC2=pca_atacseq_dynamic$x[,'PC2'], \n",
    "                                label_PC1=paste('PC1', percent(pca_atacseq_dynamic_label_PC1)), \n",
    "                                label_PC2=paste('PC2', percent(pca_atacseq_dynamic_label_PC2)), \n",
    "                                  Replicate = c(rep(1,6), rep(2,6), rep(3,6)), \n",
    "                                        Time = factor(c(time0, time0, time0), levels=time0))\n",
    "pca_rnaseq_forplot <- data.frame(PC1=pca_rnaseq$x[,'PC1'], PC2=pca_rnaseq$x[,'PC2'], \n",
    "                                label_PC1=paste('PC1', percent(pca_rnaseq_label_PC1)), \n",
    "                                 label_PC2=paste('PC2', percent(pca_rnaseq_label_PC2)), \n",
    "                                  Replicate = factor(c(rep(1,6), rep(2,6))), Time = factor(c(time0, time0), levels=time0))\n",
    "pca_rnaseq_dynamic_forplot <- data.frame(PC1=pca_rnaseq_dynamic$x[,'PC1'], PC2=pca_rnaseq_dynamic$x[,'PC2'],\n",
    "                                label_PC1=paste('PC1', percent(pca_rnaseq_dynamic_label_PC1)), \n",
    "                                label_PC2=paste('PC2', percent(pca_rnaseq_dynamic_label_PC2)), \n",
    "                                  Replicate = c(rep(1,6), rep(2,6)), Time = factor(c(time0, time0), levels=time0))"
   ]
  },
  {
   "cell_type": "code",
   "execution_count": 34,
   "metadata": {},
   "outputs": [],
   "source": [
    "pca_atacseq_forplot$label <- 'All'\n",
    "\n",
    "pca_atacseq_dynamic_forplot$label <- 'Dynamic'\n",
    "pca_rnaseq_forplot$label <- 'All'\n",
    "pca_rnaseq_dynamic_forplot$label <- 'Dynamic'\n",
    "pca_atacseq_forplot$label2 <- 'ATAC-seq'\n",
    "pca_atacseq_dynamic_forplot$label2 <- 'ATAC-seq'\n",
    "pca_rnaseq_forplot$label2 <- 'RNA-seq'\n",
    "pca_rnaseq_dynamic_forplot$label2 <- 'RNA-seq'\n"
   ]
  },
  {
   "cell_type": "code",
   "execution_count": 35,
   "metadata": {},
   "outputs": [],
   "source": [
    "rownames(pca_atacseq_forplot) <- NULL\n",
    "\n",
    "rownames(pca_atacseq_dynamic_forplot) <- NULL\n",
    "rownames(pca_rnaseq_forplot) <- NULL\n",
    "\n",
    "rownames(pca_rnaseq_dynamic_forplot) <- NULL"
   ]
  },
  {
   "cell_type": "code",
   "execution_count": 28,
   "metadata": {
    "scrolled": true
   },
   "outputs": [
    {
     "name": "stderr",
     "output_type": "stream",
     "text": [
      "`stat_bin()` using `bins = 30`. Pick better value with `binwidth`.\n",
      "\n",
      "Saving 6.67 x 6.67 in image\n",
      "\n",
      "`stat_bin()` using `bins = 30`. Pick better value with `binwidth`.\n",
      "\n"
     ]
    },
    {
     "data": {
      "image/png": "[encoded data removed]",
      "text/plain": [
       "plot without title"
      ]
     },
     "metadata": {
      "image/png": {
       "height": 420,
       "width": 420
      },
      "text/plain": {
       "height": 420,
       "width": 420
      }
     },
     "output_type": "display_data"
    }
   ],
   "source": [
    "p0 <- ggplot(data=atacseq_data, aes(x=atacseq_data$end-atacseq_data$start+1)) + \n",
    "geom_histogram(fill='lightblue') + \n",
    "xlab('ATAC-seq peak size (bp)') + \n",
    "ylab('Bin counts') +\n",
    "theme(panel.background=element_blank(),#panel.background=element_rect(fill='white',color='black',linetype=1),  panel.grid.major=element_line(color='grey', size=0.1), \n",
    "axis.line=element_line(size=1),\n",
    "text=element_text(size=14, face=\"bold\"),\n",
    "axis.text=element_text(size=14, face='bold'), axis.title=element_text(size=18, face=\"bold\"))\n",
    "p0\n",
    "ggsave('../../../IntegratingATAC-RNA-HiC/Individual_Figures_Files/ATACSeq_peak_anno_peaksizehistogram//ATACSeq_peak_histogram1.pdf')"
   ]
  },
  {
   "cell_type": "code",
   "execution_count": 31,
   "metadata": {},
   "outputs": [
    {
     "name": "stderr",
     "output_type": "stream",
     "text": [
      "Saving 6.67 x 6.67 in image\n",
      "\n"
     ]
    },
    {
     "data": {
      "image/png": "[encoded data removed]",
      "text/plain": [
       "plot without title"
      ]
     },
     "metadata": {
      "image/png": {
       "height": 420,
       "width": 420
      },
      "text/plain": {
       "height": 420,
       "width": 420
      }
     },
     "output_type": "display_data"
    }
   ],
   "source": [
    "percentage_for_plot <- data.frame(Region=c(\"Promoter\",\"5'UTR\",\"3'UTR\",\"1st Exon\",\"Other Exon\",\"1st Intron\",\n",
    "                                           \"Other Intron\", \"Downstream(<=300)\",\"Distal Intergenic\"),\n",
    "                                  Percentage=c(0.2367, 0.00428, 0.0228, 0.016, 0.028, 0.146, 0.272, 0.010, 0.266))\n",
    "p2 <- ggplot(data=percentage_for_plot, aes(reorder(Region,-Percentage),y=Percentage)) + geom_col(color=NA,fill='lightblue',alpha=0.7, width=0.8) + coord_flip() + \n",
    "geom_text(aes( label = percent(Percentage), hjust=ifelse(Percentage*6>1,1.5,-0.2)), color='black', size=6 ) + xlab('') + \n",
    "#theme(plot.margin=unit(c(t=0,l=5.2,b=0,r=-5.2),\"cm\"), panel.background=eleme_blank(), axis.line=element_line(siz,size=15e=1),\n",
    "theme(panel.background=element_blank(),#panel.background=element_rect(fill='white',color='black',linetype=1),  panel.grid.major=element_line(color='grey', size=0.1), \n",
    "     axis.line=element_line(size=1),\n",
    "     text=element_text(size=14, face=\"bold\"),\n",
    "     axis.text=element_text(size=14, face='bold'), \n",
    "     axis.title=element_text(size=18, face=\"bold\"))\n",
    "p2\n",
    "ggsave(\"../../../IntegratingATAC-RNA-HiC/Individual_Figures_Files/ATACSeq_peak_anno_peaksizehistogram/ATACSeq_peak_anno_piechart.pdf\", p2)"
   ]
  },
  {
   "cell_type": "code",
   "execution_count": 36,
   "metadata": {},
   "outputs": [
    {
     "name": "stderr",
     "output_type": "stream",
     "text": [
      "Saving 6.67 x 6.67 in image\n",
      "\n"
     ]
    },
    {
     "data": {
      "image/png": "[encoded data removed]",
      "text/plain": [
       "plot without title"
      ]
     },
     "metadata": {
      "image/png": {
       "height": 420,
       "width": 420
      },
      "text/plain": {
       "height": 420,
       "width": 420
      }
     },
     "output_type": "display_data"
    }
   ],
   "source": [
    "p1 <- ggplot(data=pca_atacseq_forplot, aes(x=PC1, y=PC2, col=Time)) + geom_point(aes(shape=Replicate), size=4) + \n",
    "geom_hline(yintercept=0, linetype='dotted',size=1) + geom_vline(xintercept=0,linetype='dotted',size=1)+\n",
    "#geom_segment(aes(x=-200,xend=max(PC1), y=-200, yend=-200), linetype='solid', color='black') + \n",
    "#geom_segment(aes(x=-200,xend=-200, y=-200, yend=max(PC2)),linetype='solid', color='black')+\n",
    "\n",
    "#geom_text(aes(x=0, y=min(PC2)-100, label=label_PC1), color='black') +\n",
    "#geom_text(aes(x=min(PC1)-100, y=0, label=label_PC2), color='black', angle=90) +\n",
    "\n",
    "    xlab(paste('PC1 ', '(',percent(pca_atacseq_label_PC1),')', sep='')) + \n",
    "    ylab(paste('PC2 ', '(',percent(pca_atacseq_label_PC2),')', sep='')) +\n",
    "    labs(c('Time','replicate')) + \n",
    "theme(panel.background=element_blank(),#panel.background=element_rect(fill='white',color='black',linetype=1),  panel.grid.major=element_line(color='grey', size=0.1), \n",
    "     axis.line=element_line(size=1),\n",
    "       text=element_text(size=14, face=\"bold\"),\n",
    "                 axis.text=element_text(size=14, face='bold'), axis.title=element_text(size=18, face=\"bold\"),\n",
    "      strip.text.x=element_blank(),strip.text.y=element_blank(), strip.background=element_blank()) + \n",
    "#coord_fixed(ratio=2.5) +\n",
    " facet_grid(label2 ~ label)\n",
    "p1\n",
    "ggsave('../../../IntegratingATAC-RNA-HiC/Individual_Figures_Files/ATACSeq_peak_anno_peaksizehistogram//ATACSeq-PCA.pdf')"
   ]
  },
  {
   "cell_type": "code",
   "execution_count": 54,
   "metadata": {},
   "outputs": [],
   "source": [
    "df.vdc <- data.frame(x = c(0, 1.2, 0.8, -1.2, -0.8, 0, 0),\n",
    "         y = c(1.2, -0.6, 0.5, -0.6, 0.5, -1, 0),\n",
    "         labels = c('A','B','C','D','E','F','G'))\n",
    "df.venn <- data.frame(x = c(0, 0.466),\n",
    "                      y = c(1, 1),\n",
    "                      labels = c('A', 'B'))"
   ]
  },
  {
   "cell_type": "code",
   "execution_count": 70,
   "metadata": {},
   "outputs": [],
   "source": [
    "data_venn <- data.frame(intersect=c(21549,22911,39021), uniq_in_our=c(8854,7682,35740),uniq_in_13=c(14926,29182,24279))"
   ]
  },
  {
   "cell_type": "code",
   "execution_count": 190,
   "metadata": {
    "scrolled": true
   },
   "outputs": [],
   "source": [
    "df.venn0 <- data.frame(x = c(0, data_venn$uniq_in_our[1]/(data_venn$intersect[1]+data_venn$uniq_in_our[1])),\n",
    "                      y = c(1, 1),\n",
    "                      labels = c('0 min in our data', '0 min in Gate et al'))\n",
    "df.venn1 <- data.frame(x = c(0, data_venn$uniq_in_our[2]/(data_venn$intersect[2]+data_venn$uniq_in_our[2])),\n",
    "                      y = c(2.2, 2.2),\n",
    "                      labels = c('24 hrs in our data', '48 hrs in Gate et al'))\n",
    "df.venn2 <- data.frame(x = c(0, data_venn$uniq_in_our[3]/(data_venn$intersect[3]+data_venn$uniq_in_our[3])),\n",
    "                      y = c(3.4, 3.4),\n",
    "                      labels = c('Our merged data', 'Merged data in Gate et al'))\n",
    "df.venn <- rbind(df.venn0, df.venn1, df.venn2) \n",
    "df.venn$labels <- factor(df.venn$labels, levels=c(as.character(df.venn0$labels), \n",
    "                                                  as.character(df.venn1$labels), \n",
    "                                                  as.character(df.venn2$labels)))"
   ]
  },
  {
   "cell_type": "code",
   "execution_count": 191,
   "metadata": {},
   "outputs": [
    {
     "data": {
      "text/html": [
       "<ol class=list-inline>\n",
       "\t<li>0 min in our data</li>\n",
       "\t<li>0 min in Gate et al</li>\n",
       "\t<li>24 hrs in our data</li>\n",
       "\t<li>48 hrs in Gate et al</li>\n",
       "\t<li>Our merged data</li>\n",
       "\t<li>Merged data in Gate et al</li>\n",
       "</ol>\n",
       "\n",
       "<details>\n",
       "\t<summary style=display:list-item;cursor:pointer>\n",
       "\t\t<strong>Levels</strong>:\n",
       "\t</summary>\n",
       "\t<ol class=list-inline>\n",
       "\t\t<li>'0 min in our data'</li>\n",
       "\t\t<li>'0 min in Gate et al'</li>\n",
       "\t\t<li>'24 hrs in our data'</li>\n",
       "\t\t<li>'48 hrs in Gate et al'</li>\n",
       "\t\t<li>'Our merged data'</li>\n",
       "\t\t<li>'Merged data in Gate et al'</li>\n",
       "\t</ol>\n",
       "</details>"
      ],
      "text/latex": [
       "\\begin{enumerate*}\n",
       "\\item 0 min in our data\n",
       "\\item 0 min in Gate et al\n",
       "\\item 24 hrs in our data\n",
       "\\item 48 hrs in Gate et al\n",
       "\\item Our merged data\n",
       "\\item Merged data in Gate et al\n",
       "\\end{enumerate*}\n",
       "\n",
       "\\emph{Levels}: \\begin{enumerate*}\n",
       "\\item '0 min in our data'\n",
       "\\item '0 min in Gate et al'\n",
       "\\item '24 hrs in our data'\n",
       "\\item '48 hrs in Gate et al'\n",
       "\\item 'Our merged data'\n",
       "\\item 'Merged data in Gate et al'\n",
       "\\end{enumerate*}\n"
      ],
      "text/markdown": [
       "1. 0 min in our data\n",
       "2. 0 min in Gate et al\n",
       "3. 24 hrs in our data\n",
       "4. 48 hrs in Gate et al\n",
       "5. Our merged data\n",
       "6. Merged data in Gate et al\n",
       "\n",
       "\n",
       "\n",
       "**Levels**: 1. '0 min in our data'\n",
       "2. '0 min in Gate et al'\n",
       "3. '24 hrs in our data'\n",
       "4. '48 hrs in Gate et al'\n",
       "5. 'Our merged data'\n",
       "6. 'Merged data in Gate et al'\n",
       "\n",
       "\n"
      ],
      "text/plain": [
       "[1] 0 min in our data         0 min in Gate et al      \n",
       "[3] 24 hrs in our data        48 hrs in Gate et al     \n",
       "[5] Our merged data           Merged data in Gate et al\n",
       "6 Levels: 0 min in our data 0 min in Gate et al ... Merged data in Gate et al"
      ]
     },
     "metadata": {},
     "output_type": "display_data"
    }
   ],
   "source": [
    "df.venn$labels"
   ]
  },
  {
   "cell_type": "code",
   "execution_count": 192,
   "metadata": {},
   "outputs": [],
   "source": [
    "df.label <- data.frame(x=c(-0.15, 0.4, 0.85, -0.2, 0.3,0.82, 0.0, 0.4, 0.9)-0.2, \n",
    "                       y=c(0.0, 0.0, 0.0, 1.2, 1.2, 1.2, 2.4, 2.4, 2.4)+1.0,\n",
    "                       Counts=c(8854,21549,14926, 7682, 22911, 29182, 35740, 39021, 24279))"
   ]
  },
  {
   "cell_type": "code",
   "execution_count": 193,
   "metadata": {},
   "outputs": [
    {
     "name": "stderr",
     "output_type": "stream",
     "text": [
      "Saving 6.67 x 6.67 in image\n",
      "\n"
     ]
    },
    {
     "data": {
      "image/png": "[encoded data removed]",
      "text/plain": [
       "plot without title"
      ]
     },
     "metadata": {
      "image/png": {
       "height": 420,
       "width": 420
      },
      "text/plain": {
       "height": 420,
       "width": 420
      }
     },
     "output_type": "display_data"
    }
   ],
   "source": [
    "ggplot() +\n",
    "  geom_circle(data=df.venn[1:2,], aes(x = x, y = -y, r = 0.5, fill = labels), alpha = .3, size = 1, colour = 'lightblue') +\n",
    "  geom_circle(data=df.venn[3:4,], aes(x = x, y = -y, r = 0.5, fill = labels), alpha = .3, size = 1, colour = 'lightblue') +\n",
    "  geom_circle(data=df.venn[5:6,], aes(x = x, y = -y, r = 0.5, fill = labels), alpha = .3, size = 1, colour = 'lightblue') +\n",
    "  \n",
    "  coord_fixed() +\n",
    "  theme_void() +\n",
    "  theme(legend.position = 'right', legend.text = element_text(size=14, face='bold')) +scale_color_brewer(palette=\"BuGn\")+   \n",
    "  annotate(\"text\", x = df.label$x, y = -df.label$y, label = df.label$Counts, size = 5) +\n",
    "  #scale_fill_manual(values = c('cornflowerblue', 'firebrick',  'gold')) +\n",
    "  #scale_colour_manual(values = c('cornflowerblue', 'firebrick', 'gold'), guide = FALSE) +\n",
    "  labs(fill=NULL) \n",
    "  #annotate(\"text\", x = df.vdc$x, y = df.vdc$y, label = df.vdc)\n",
    "ggsave('../../../IntegratingATAC-RNA-HiC/Individual_Figures_Files/ATACSeq_peak_anno_peaksizehistogram//ATACSeq-peak-overlap.pdf')"
   ]
  },
  {
   "cell_type": "code",
   "execution_count": 195,
   "metadata": {},
   "outputs": [
    {
     "data": {
      "text/html": [
       "<table>\n",
       "<caption>A data.frame: 12 × 8</caption>\n",
       "<thead>\n",
       "\t<tr><th scope=col>PC1</th><th scope=col>PC2</th><th scope=col>label_PC1</th><th scope=col>label_PC2</th><th scope=col>Replicate</th><th scope=col>Time</th><th scope=col>label</th><th scope=col>label2</th></tr>\n",
       "\t<tr><th scope=col>&lt;dbl&gt;</th><th scope=col>&lt;dbl&gt;</th><th scope=col>&lt;fct&gt;</th><th scope=col>&lt;fct&gt;</th><th scope=col>&lt;dbl&gt;</th><th scope=col>&lt;fct&gt;</th><th scope=col>&lt;chr&gt;</th><th scope=col>&lt;chr&gt;</th></tr>\n",
       "</thead>\n",
       "<tbody>\n",
       "\t<tr><td>-61.1354839</td><td> 71.78591</td><td>PC1 38%</td><td>PC2 20%</td><td>1</td><td>0 min  </td><td>All</td><td>RNA-seq</td></tr>\n",
       "\t<tr><td>-80.3077857</td><td> 40.66698</td><td>PC1 38%</td><td>PC2 20%</td><td>1</td><td>20 mins</td><td>All</td><td>RNA-seq</td></tr>\n",
       "\t<tr><td>-62.6604615</td><td>-15.80416</td><td>PC1 38%</td><td>PC2 20%</td><td>1</td><td>1 hrs  </td><td>All</td><td>RNA-seq</td></tr>\n",
       "\t<tr><td>-14.7546415</td><td>-72.99295</td><td>PC1 38%</td><td>PC2 20%</td><td>1</td><td>2 hrs  </td><td>All</td><td>RNA-seq</td></tr>\n",
       "\t<tr><td> 45.3716191</td><td>-92.38758</td><td>PC1 38%</td><td>PC2 20%</td><td>1</td><td> 4 hrs </td><td>All</td><td>RNA-seq</td></tr>\n",
       "\t<tr><td>141.8892033</td><td> 50.29266</td><td>PC1 38%</td><td>PC2 20%</td><td>1</td><td>24 hrs </td><td>All</td><td>RNA-seq</td></tr>\n",
       "\t<tr><td>-69.0662705</td><td> 38.69080</td><td>PC1 38%</td><td>PC2 20%</td><td>2</td><td>0 min  </td><td>All</td><td>RNA-seq</td></tr>\n",
       "\t<tr><td>-67.3606556</td><td> 44.12510</td><td>PC1 38%</td><td>PC2 20%</td><td>2</td><td>20 mins</td><td>All</td><td>RNA-seq</td></tr>\n",
       "\t<tr><td>-41.4470782</td><td>-18.93147</td><td>PC1 38%</td><td>PC2 20%</td><td>2</td><td>1 hrs  </td><td>All</td><td>RNA-seq</td></tr>\n",
       "\t<tr><td> -0.5855714</td><td>-39.14043</td><td>PC1 38%</td><td>PC2 20%</td><td>2</td><td>2 hrs  </td><td>All</td><td>RNA-seq</td></tr>\n",
       "\t<tr><td> 49.5188229</td><td>-76.49261</td><td>PC1 38%</td><td>PC2 20%</td><td>2</td><td> 4 hrs </td><td>All</td><td>RNA-seq</td></tr>\n",
       "\t<tr><td>160.5383032</td><td> 70.18776</td><td>PC1 38%</td><td>PC2 20%</td><td>2</td><td>24 hrs </td><td>All</td><td>RNA-seq</td></tr>\n",
       "</tbody>\n",
       "</table>\n"
      ],
      "text/latex": [
       "A data.frame: 12 × 8\n",
       "\\begin{tabular}{llllllll}\n",
       " PC1 & PC2 & label\\_PC1 & label\\_PC2 & Replicate & Time & label & label2\\\\\n",
       " <dbl> & <dbl> & <fct> & <fct> & <dbl> & <fct> & <chr> & <chr>\\\\\n",
       "\\hline\n",
       "\t -61.1354839 &  71.78591 & PC1 38\\% & PC2 20\\% & 1 & 0 min   & All & RNA-seq\\\\\n",
       "\t -80.3077857 &  40.66698 & PC1 38\\% & PC2 20\\% & 1 & 20 mins & All & RNA-seq\\\\\n",
       "\t -62.6604615 & -15.80416 & PC1 38\\% & PC2 20\\% & 1 & 1 hrs   & All & RNA-seq\\\\\n",
       "\t -14.7546415 & -72.99295 & PC1 38\\% & PC2 20\\% & 1 & 2 hrs   & All & RNA-seq\\\\\n",
       "\t  45.3716191 & -92.38758 & PC1 38\\% & PC2 20\\% & 1 &  4 hrs  & All & RNA-seq\\\\\n",
       "\t 141.8892033 &  50.29266 & PC1 38\\% & PC2 20\\% & 1 & 24 hrs  & All & RNA-seq\\\\\n",
       "\t -69.0662705 &  38.69080 & PC1 38\\% & PC2 20\\% & 2 & 0 min   & All & RNA-seq\\\\\n",
       "\t -67.3606556 &  44.12510 & PC1 38\\% & PC2 20\\% & 2 & 20 mins & All & RNA-seq\\\\\n",
       "\t -41.4470782 & -18.93147 & PC1 38\\% & PC2 20\\% & 2 & 1 hrs   & All & RNA-seq\\\\\n",
       "\t  -0.5855714 & -39.14043 & PC1 38\\% & PC2 20\\% & 2 & 2 hrs   & All & RNA-seq\\\\\n",
       "\t  49.5188229 & -76.49261 & PC1 38\\% & PC2 20\\% & 2 &  4 hrs  & All & RNA-seq\\\\\n",
       "\t 160.5383032 &  70.18776 & PC1 38\\% & PC2 20\\% & 2 & 24 hrs  & All & RNA-seq\\\\\n",
       "\\end{tabular}\n"
      ],
      "text/markdown": [
       "\n",
       "A data.frame: 12 × 8\n",
       "\n",
       "| PC1 &lt;dbl&gt; | PC2 &lt;dbl&gt; | label_PC1 &lt;fct&gt; | label_PC2 &lt;fct&gt; | Replicate &lt;dbl&gt; | Time &lt;fct&gt; | label &lt;chr&gt; | label2 &lt;chr&gt; |\n",
       "|---|---|---|---|---|---|---|---|\n",
       "| -61.1354839 |  71.78591 | PC1 38% | PC2 20% | 1 | 0 min   | All | RNA-seq |\n",
       "| -80.3077857 |  40.66698 | PC1 38% | PC2 20% | 1 | 20 mins | All | RNA-seq |\n",
       "| -62.6604615 | -15.80416 | PC1 38% | PC2 20% | 1 | 1 hrs   | All | RNA-seq |\n",
       "| -14.7546415 | -72.99295 | PC1 38% | PC2 20% | 1 | 2 hrs   | All | RNA-seq |\n",
       "|  45.3716191 | -92.38758 | PC1 38% | PC2 20% | 1 |  4 hrs  | All | RNA-seq |\n",
       "| 141.8892033 |  50.29266 | PC1 38% | PC2 20% | 1 | 24 hrs  | All | RNA-seq |\n",
       "| -69.0662705 |  38.69080 | PC1 38% | PC2 20% | 2 | 0 min   | All | RNA-seq |\n",
       "| -67.3606556 |  44.12510 | PC1 38% | PC2 20% | 2 | 20 mins | All | RNA-seq |\n",
       "| -41.4470782 | -18.93147 | PC1 38% | PC2 20% | 2 | 1 hrs   | All | RNA-seq |\n",
       "|  -0.5855714 | -39.14043 | PC1 38% | PC2 20% | 2 | 2 hrs   | All | RNA-seq |\n",
       "|  49.5188229 | -76.49261 | PC1 38% | PC2 20% | 2 |  4 hrs  | All | RNA-seq |\n",
       "| 160.5383032 |  70.18776 | PC1 38% | PC2 20% | 2 | 24 hrs  | All | RNA-seq |\n",
       "\n"
      ],
      "text/plain": [
       "   PC1         PC2       label_PC1 label_PC2 Replicate Time    label label2 \n",
       "1  -61.1354839  71.78591 PC1 38%   PC2 20%   1         0 min   All   RNA-seq\n",
       "2  -80.3077857  40.66698 PC1 38%   PC2 20%   1         20 mins All   RNA-seq\n",
       "3  -62.6604615 -15.80416 PC1 38%   PC2 20%   1         1 hrs   All   RNA-seq\n",
       "4  -14.7546415 -72.99295 PC1 38%   PC2 20%   1         2 hrs   All   RNA-seq\n",
       "5   45.3716191 -92.38758 PC1 38%   PC2 20%   1          4 hrs  All   RNA-seq\n",
       "6  141.8892033  50.29266 PC1 38%   PC2 20%   1         24 hrs  All   RNA-seq\n",
       "7  -69.0662705  38.69080 PC1 38%   PC2 20%   2         0 min   All   RNA-seq\n",
       "8  -67.3606556  44.12510 PC1 38%   PC2 20%   2         20 mins All   RNA-seq\n",
       "9  -41.4470782 -18.93147 PC1 38%   PC2 20%   2         1 hrs   All   RNA-seq\n",
       "10  -0.5855714 -39.14043 PC1 38%   PC2 20%   2         2 hrs   All   RNA-seq\n",
       "11  49.5188229 -76.49261 PC1 38%   PC2 20%   2          4 hrs  All   RNA-seq\n",
       "12 160.5383032  70.18776 PC1 38%   PC2 20%   2         24 hrs  All   RNA-seq"
      ]
     },
     "metadata": {},
     "output_type": "display_data"
    }
   ],
   "source": [
    "pca_rnaseq_forplot"
   ]
  },
  {
   "cell_type": "code",
   "execution_count": 233,
   "metadata": {},
   "outputs": [
    {
     "name": "stderr",
     "output_type": "stream",
     "text": [
      "Saving 6.67 x 6.67 in image\n",
      "\n"
     ]
    },
    {
     "data": {
      "image/png": "[encoded data removed]",
      "text/plain": [
       "plot without title"
      ]
     },
     "metadata": {
      "image/png": {
       "height": 420,
       "width": 420
      },
      "text/plain": {
       "height": 420,
       "width": 420
      }
     },
     "output_type": "display_data"
    }
   ],
   "source": [
    "p1 <- ggplot(data=pca_rnaseq_forplot, aes(x=PC1, y=PC2, col=Time)) + geom_point(aes(shape=Replicate), size=6) + \n",
    "geom_hline(yintercept=0, linetype='dotted',size=1) + geom_vline(xintercept=0,linetype='dotted',size=1) +\n",
    "#geom_segment(aes(x=-200,xend=max(PC1), y=-200, yend=-200), linetype='solid', color='black') + \n",
    "#geom_segment(aes(x=-200,xend=-200, y=-200, yend=max(PC2)),linetype='solid', color='black')+\n",
    "\n",
    "#geom_text(aes(x=0, y=min(PC2)-100, label=label_PC1), color='black') +\n",
    "#geom_text(aes(x=min(PC1)-100, y=0, label=label_PC2), color='black', angle=90) +\n",
    "\n",
    "    xlab(paste('PC1 ', '(',percent(pca_rnaseq_label_PC1),')', sep='')) + \n",
    "    ylab(paste('PC2 ', '(',percent(pca_rnaseq_label_PC2),')', sep='')) +\n",
    "    labs(c('Time','Replicate')) + \n",
    "theme(panel.background=element_blank(),#panel.background=element_rect(fill='white',color='black',linetype=1),  panel.grid.major=element_line(color='grey', size=0.1), \n",
    "     axis.line=element_line(size=1),\n",
    "       text=element_text(size=14, face=\"bold\"),\n",
    "                 axis.text=element_text(size=16, face='bold'), axis.title=element_text(size=20, face=\"bold\"),\n",
    "      strip.text.x=element_blank(),strip.text.y=element_blank(), strip.background=element_blank(),legend.text=element_text(size=14), legend.position=c(0.8,0.5)) +\n",
    "coord_fixed(ratio=2.5)\n",
    " #facet_grid(label2 ~ label)\n",
    "p1\n",
    "ggsave('../../../IntegratingATAC-RNA-HiC/Individual_Figures_Files/Gene_expression/RNAseq-PCA.pdf')"
   ]
  },
  {
   "cell_type": "code",
   "execution_count": 88,
   "metadata": {},
   "outputs": [],
   "source": [
    "pca_forplot <- rbind(pca_atacseq_forplot, pca_atacseq_dynamic_forplot, pca_rnaseq_forplot, pca_rnaseq_dynamic_forplot)"
   ]
  },
  {
   "cell_type": "code",
   "execution_count": 89,
   "metadata": {},
   "outputs": [
    {
     "data": {
      "text/html": [
       "<table>\n",
       "<caption>A data.frame: 60 × 8</caption>\n",
       "<thead>\n",
       "\t<tr><th scope=col>PC1</th><th scope=col>PC2</th><th scope=col>label_PC1</th><th scope=col>label_PC2</th><th scope=col>Replicate</th><th scope=col>Time</th><th scope=col>label</th><th scope=col>label2</th></tr>\n",
       "\t<tr><th scope=col>&lt;dbl&gt;</th><th scope=col>&lt;dbl&gt;</th><th scope=col>&lt;fct&gt;</th><th scope=col>&lt;fct&gt;</th><th scope=col>&lt;fct&gt;</th><th scope=col>&lt;fct&gt;</th><th scope=col>&lt;chr&gt;</th><th scope=col>&lt;chr&gt;</th></tr>\n",
       "</thead>\n",
       "<tbody>\n",
       "\t<tr><td>-114.2381952</td><td>  96.1365550</td><td>PC1 29%</td><td>PC2 11%</td><td>1</td><td>T0  </td><td>All    </td><td>ATAC-seq</td></tr>\n",
       "\t<tr><td> -93.0084553</td><td>  56.2037258</td><td>PC1 29%</td><td>PC2 11%</td><td>1</td><td>T20 </td><td>All    </td><td>ATAC-seq</td></tr>\n",
       "\t<tr><td>  54.4365981</td><td>  43.3805128</td><td>PC1 29%</td><td>PC2 11%</td><td>1</td><td>T60 </td><td>All    </td><td>ATAC-seq</td></tr>\n",
       "\t<tr><td> -21.0452735</td><td>  31.4372529</td><td>PC1 29%</td><td>PC2 11%</td><td>1</td><td>T2H </td><td>All    </td><td>ATAC-seq</td></tr>\n",
       "\t<tr><td> -61.5687578</td><td> -41.1502049</td><td>PC1 29%</td><td>PC2 11%</td><td>1</td><td>T4H </td><td>All    </td><td>ATAC-seq</td></tr>\n",
       "\t<tr><td> -30.6276428</td><td>-165.2528588</td><td>PC1 29%</td><td>PC2 11%</td><td>1</td><td>T24H</td><td>All    </td><td>ATAC-seq</td></tr>\n",
       "\t<tr><td>-134.0524300</td><td>  83.8329428</td><td>PC1 29%</td><td>PC2 11%</td><td>2</td><td>T0  </td><td>All    </td><td>ATAC-seq</td></tr>\n",
       "\t<tr><td>-136.6707452</td><td>  56.8025468</td><td>PC1 29%</td><td>PC2 11%</td><td>2</td><td>T20 </td><td>All    </td><td>ATAC-seq</td></tr>\n",
       "\t<tr><td>-139.5801136</td><td>  40.2225011</td><td>PC1 29%</td><td>PC2 11%</td><td>2</td><td>T60 </td><td>All    </td><td>ATAC-seq</td></tr>\n",
       "\t<tr><td>-156.5279446</td><td>  27.1359734</td><td>PC1 29%</td><td>PC2 11%</td><td>2</td><td>T2H </td><td>All    </td><td>ATAC-seq</td></tr>\n",
       "\t<tr><td> 229.4475773</td><td>-124.2950381</td><td>PC1 29%</td><td>PC2 11%</td><td>2</td><td>T4H </td><td>All    </td><td>ATAC-seq</td></tr>\n",
       "\t<tr><td>-118.5042511</td><td>-152.6996479</td><td>PC1 29%</td><td>PC2 11%</td><td>2</td><td>T24H</td><td>All    </td><td>ATAC-seq</td></tr>\n",
       "\t<tr><td> 134.5044891</td><td> 105.1655377</td><td>PC1 29%</td><td>PC2 11%</td><td>3</td><td>T0  </td><td>All    </td><td>ATAC-seq</td></tr>\n",
       "\t<tr><td> 158.7697422</td><td> 107.5828674</td><td>PC1 29%</td><td>PC2 11%</td><td>3</td><td>T20 </td><td>All    </td><td>ATAC-seq</td></tr>\n",
       "\t<tr><td> 362.0065420</td><td>  38.6866403</td><td>PC1 29%</td><td>PC2 11%</td><td>3</td><td>T60 </td><td>All    </td><td>ATAC-seq</td></tr>\n",
       "\t<tr><td> -11.4857823</td><td>   0.2710322</td><td>PC1 29%</td><td>PC2 11%</td><td>3</td><td>T2H </td><td>All    </td><td>ATAC-seq</td></tr>\n",
       "\t<tr><td> 134.0326328</td><td> -54.7439605</td><td>PC1 29%</td><td>PC2 11%</td><td>3</td><td>T4H </td><td>All    </td><td>ATAC-seq</td></tr>\n",
       "\t<tr><td> -55.8879900</td><td>-148.7163780</td><td>PC1 29%</td><td>PC2 11%</td><td>3</td><td>T24H</td><td>All    </td><td>ATAC-seq</td></tr>\n",
       "\t<tr><td> -56.7279546</td><td>  46.2734542</td><td>PC1 31%</td><td>PC2 19%</td><td>1</td><td>T0  </td><td>Dynamic</td><td>ATAC-seq</td></tr>\n",
       "\t<tr><td> -43.9682836</td><td>  32.8477314</td><td>PC1 31%</td><td>PC2 19%</td><td>1</td><td>T20 </td><td>Dynamic</td><td>ATAC-seq</td></tr>\n",
       "\t<tr><td> -31.7368452</td><td> -34.3159081</td><td>PC1 31%</td><td>PC2 19%</td><td>1</td><td>T60 </td><td>Dynamic</td><td>ATAC-seq</td></tr>\n",
       "\t<tr><td> -23.7021604</td><td>   3.5561900</td><td>PC1 31%</td><td>PC2 19%</td><td>1</td><td>T2H </td><td>Dynamic</td><td>ATAC-seq</td></tr>\n",
       "\t<tr><td>  17.4890992</td><td> -27.4287281</td><td>PC1 31%</td><td>PC2 19%</td><td>1</td><td>T4H </td><td>Dynamic</td><td>ATAC-seq</td></tr>\n",
       "\t<tr><td> 127.6041795</td><td>  46.5016355</td><td>PC1 31%</td><td>PC2 19%</td><td>1</td><td>T24H</td><td>Dynamic</td><td>ATAC-seq</td></tr>\n",
       "\t<tr><td> -53.6367854</td><td>  46.9488127</td><td>PC1 31%</td><td>PC2 19%</td><td>2</td><td>T0  </td><td>Dynamic</td><td>ATAC-seq</td></tr>\n",
       "\t<tr><td> -43.6231683</td><td>  39.1596935</td><td>PC1 31%</td><td>PC2 19%</td><td>2</td><td>T20 </td><td>Dynamic</td><td>ATAC-seq</td></tr>\n",
       "\t<tr><td> -26.1981088</td><td>  -6.0732892</td><td>PC1 31%</td><td>PC2 19%</td><td>2</td><td>T60 </td><td>Dynamic</td><td>ATAC-seq</td></tr>\n",
       "\t<tr><td> -22.4654534</td><td>  30.3570330</td><td>PC1 31%</td><td>PC2 19%</td><td>2</td><td>T2H </td><td>Dynamic</td><td>ATAC-seq</td></tr>\n",
       "\t<tr><td>  79.2440749</td><td> -96.2586530</td><td>PC1 31%</td><td>PC2 19%</td><td>2</td><td>T4H </td><td>Dynamic</td><td>ATAC-seq</td></tr>\n",
       "\t<tr><td>  98.0629744</td><td>  58.6514560</td><td>PC1 31%</td><td>PC2 19%</td><td>2</td><td>T24H</td><td>Dynamic</td><td>ATAC-seq</td></tr>\n",
       "\t<tr><td> -63.7052343</td><td>  -2.2053143</td><td>PC1 31%</td><td>PC2 19%</td><td>3</td><td>T0  </td><td>Dynamic</td><td>ATAC-seq</td></tr>\n",
       "\t<tr><td> -62.5149172</td><td>  -9.5930626</td><td>PC1 31%</td><td>PC2 19%</td><td>3</td><td>T20 </td><td>Dynamic</td><td>ATAC-seq</td></tr>\n",
       "\t<tr><td> -14.9330669</td><td> -97.2779974</td><td>PC1 31%</td><td>PC2 19%</td><td>3</td><td>T60 </td><td>Dynamic</td><td>ATAC-seq</td></tr>\n",
       "\t<tr><td> -11.6159318</td><td>  -1.7594713</td><td>PC1 31%</td><td>PC2 19%</td><td>3</td><td>T2H </td><td>Dynamic</td><td>ATAC-seq</td></tr>\n",
       "\t<tr><td>  30.2071405</td><td> -69.7981535</td><td>PC1 31%</td><td>PC2 19%</td><td>3</td><td>T4H </td><td>Dynamic</td><td>ATAC-seq</td></tr>\n",
       "\t<tr><td> 102.2204413</td><td>  40.4145711</td><td>PC1 31%</td><td>PC2 19%</td><td>3</td><td>T24H</td><td>Dynamic</td><td>ATAC-seq</td></tr>\n",
       "\t<tr><td> -61.1354839</td><td>  71.7859061</td><td>PC1 38%</td><td>PC2 20%</td><td>1</td><td>T0  </td><td>All    </td><td>RNA-seq </td></tr>\n",
       "\t<tr><td> -80.3077857</td><td>  40.6669791</td><td>PC1 38%</td><td>PC2 20%</td><td>1</td><td>T20 </td><td>All    </td><td>RNA-seq </td></tr>\n",
       "\t<tr><td> -62.6604615</td><td> -15.8041612</td><td>PC1 38%</td><td>PC2 20%</td><td>1</td><td>T60 </td><td>All    </td><td>RNA-seq </td></tr>\n",
       "\t<tr><td> -14.7546415</td><td> -72.9929498</td><td>PC1 38%</td><td>PC2 20%</td><td>1</td><td>T2H </td><td>All    </td><td>RNA-seq </td></tr>\n",
       "\t<tr><td>  45.3716191</td><td> -92.3875844</td><td>PC1 38%</td><td>PC2 20%</td><td>1</td><td>T4H </td><td>All    </td><td>RNA-seq </td></tr>\n",
       "\t<tr><td> 141.8892033</td><td>  50.2926615</td><td>PC1 38%</td><td>PC2 20%</td><td>1</td><td>T24H</td><td>All    </td><td>RNA-seq </td></tr>\n",
       "\t<tr><td> -69.0662705</td><td>  38.6908031</td><td>PC1 38%</td><td>PC2 20%</td><td>2</td><td>T0  </td><td>All    </td><td>RNA-seq </td></tr>\n",
       "\t<tr><td> -67.3606556</td><td>  44.1250955</td><td>PC1 38%</td><td>PC2 20%</td><td>2</td><td>T20 </td><td>All    </td><td>RNA-seq </td></tr>\n",
       "\t<tr><td> -41.4470782</td><td> -18.9314670</td><td>PC1 38%</td><td>PC2 20%</td><td>2</td><td>T60 </td><td>All    </td><td>RNA-seq </td></tr>\n",
       "\t<tr><td>  -0.5855714</td><td> -39.1404336</td><td>PC1 38%</td><td>PC2 20%</td><td>2</td><td>T2H </td><td>All    </td><td>RNA-seq </td></tr>\n",
       "\t<tr><td>  49.5188229</td><td> -76.4926118</td><td>PC1 38%</td><td>PC2 20%</td><td>2</td><td>T4H </td><td>All    </td><td>RNA-seq </td></tr>\n",
       "\t<tr><td> 160.5383032</td><td>  70.1877627</td><td>PC1 38%</td><td>PC2 20%</td><td>2</td><td>T24H</td><td>All    </td><td>RNA-seq </td></tr>\n",
       "\t<tr><td> -54.1360372</td><td>  56.6451602</td><td>PC1 53%</td><td>PC2 24%</td><td>1</td><td>T0  </td><td>Dynamic</td><td>RNA-seq </td></tr>\n",
       "\t<tr><td> -71.2496015</td><td>  36.2687450</td><td>PC1 53%</td><td>PC2 24%</td><td>1</td><td>T20 </td><td>Dynamic</td><td>RNA-seq </td></tr>\n",
       "\t<tr><td> -52.6949314</td><td> -12.1959000</td><td>PC1 53%</td><td>PC2 24%</td><td>1</td><td>T60 </td><td>Dynamic</td><td>RNA-seq </td></tr>\n",
       "\t<tr><td>  -9.1809125</td><td> -60.5443096</td><td>PC1 53%</td><td>PC2 24%</td><td>1</td><td>T2H </td><td>Dynamic</td><td>RNA-seq </td></tr>\n",
       "\t<tr><td>  45.1574124</td><td> -75.1291216</td><td>PC1 53%</td><td>PC2 24%</td><td>1</td><td>T4H </td><td>Dynamic</td><td>RNA-seq </td></tr>\n",
       "\t<tr><td> 131.1577601</td><td>  48.4245669</td><td>PC1 53%</td><td>PC2 24%</td><td>1</td><td>T24H</td><td>Dynamic</td><td>RNA-seq </td></tr>\n",
       "\t<tr><td> -66.6668587</td><td>  35.0900526</td><td>PC1 53%</td><td>PC2 24%</td><td>2</td><td>T0  </td><td>Dynamic</td><td>RNA-seq </td></tr>\n",
       "\t<tr><td> -65.1630979</td><td>  36.8113768</td><td>PC1 53%</td><td>PC2 24%</td><td>2</td><td>T20 </td><td>Dynamic</td><td>RNA-seq </td></tr>\n",
       "\t<tr><td> -41.3413706</td><td> -16.8367602</td><td>PC1 53%</td><td>PC2 24%</td><td>2</td><td>T60 </td><td>Dynamic</td><td>RNA-seq </td></tr>\n",
       "\t<tr><td>  -4.0685846</td><td> -39.3736765</td><td>PC1 53%</td><td>PC2 24%</td><td>2</td><td>T2H </td><td>Dynamic</td><td>RNA-seq </td></tr>\n",
       "\t<tr><td>  45.2730538</td><td> -68.4604257</td><td>PC1 53%</td><td>PC2 24%</td><td>2</td><td>T4H </td><td>Dynamic</td><td>RNA-seq </td></tr>\n",
       "\t<tr><td> 142.9131681</td><td>  59.3002920</td><td>PC1 53%</td><td>PC2 24%</td><td>2</td><td>T24H</td><td>Dynamic</td><td>RNA-seq </td></tr>\n",
       "</tbody>\n",
       "</table>\n"
      ],
      "text/latex": [
       "A data.frame: 60 × 8\n",
       "\\begin{tabular}{llllllll}\n",
       " PC1 & PC2 & label\\_PC1 & label\\_PC2 & Replicate & Time & label & label2\\\\\n",
       " <dbl> & <dbl> & <fct> & <fct> & <fct> & <fct> & <chr> & <chr>\\\\\n",
       "\\hline\n",
       "\t -114.2381952 &   96.1365550 & PC1 29\\% & PC2 11\\% & 1 & T0   & All     & ATAC-seq\\\\\n",
       "\t  -93.0084553 &   56.2037258 & PC1 29\\% & PC2 11\\% & 1 & T20  & All     & ATAC-seq\\\\\n",
       "\t   54.4365981 &   43.3805128 & PC1 29\\% & PC2 11\\% & 1 & T60  & All     & ATAC-seq\\\\\n",
       "\t  -21.0452735 &   31.4372529 & PC1 29\\% & PC2 11\\% & 1 & T2H  & All     & ATAC-seq\\\\\n",
       "\t  -61.5687578 &  -41.1502049 & PC1 29\\% & PC2 11\\% & 1 & T4H  & All     & ATAC-seq\\\\\n",
       "\t  -30.6276428 & -165.2528588 & PC1 29\\% & PC2 11\\% & 1 & T24H & All     & ATAC-seq\\\\\n",
       "\t -134.0524300 &   83.8329428 & PC1 29\\% & PC2 11\\% & 2 & T0   & All     & ATAC-seq\\\\\n",
       "\t -136.6707452 &   56.8025468 & PC1 29\\% & PC2 11\\% & 2 & T20  & All     & ATAC-seq\\\\\n",
       "\t -139.5801136 &   40.2225011 & PC1 29\\% & PC2 11\\% & 2 & T60  & All     & ATAC-seq\\\\\n",
       "\t -156.5279446 &   27.1359734 & PC1 29\\% & PC2 11\\% & 2 & T2H  & All     & ATAC-seq\\\\\n",
       "\t  229.4475773 & -124.2950381 & PC1 29\\% & PC2 11\\% & 2 & T4H  & All     & ATAC-seq\\\\\n",
       "\t -118.5042511 & -152.6996479 & PC1 29\\% & PC2 11\\% & 2 & T24H & All     & ATAC-seq\\\\\n",
       "\t  134.5044891 &  105.1655377 & PC1 29\\% & PC2 11\\% & 3 & T0   & All     & ATAC-seq\\\\\n",
       "\t  158.7697422 &  107.5828674 & PC1 29\\% & PC2 11\\% & 3 & T20  & All     & ATAC-seq\\\\\n",
       "\t  362.0065420 &   38.6866403 & PC1 29\\% & PC2 11\\% & 3 & T60  & All     & ATAC-seq\\\\\n",
       "\t  -11.4857823 &    0.2710322 & PC1 29\\% & PC2 11\\% & 3 & T2H  & All     & ATAC-seq\\\\\n",
       "\t  134.0326328 &  -54.7439605 & PC1 29\\% & PC2 11\\% & 3 & T4H  & All     & ATAC-seq\\\\\n",
       "\t  -55.8879900 & -148.7163780 & PC1 29\\% & PC2 11\\% & 3 & T24H & All     & ATAC-seq\\\\\n",
       "\t  -56.7279546 &   46.2734542 & PC1 31\\% & PC2 19\\% & 1 & T0   & Dynamic & ATAC-seq\\\\\n",
       "\t  -43.9682836 &   32.8477314 & PC1 31\\% & PC2 19\\% & 1 & T20  & Dynamic & ATAC-seq\\\\\n",
       "\t  -31.7368452 &  -34.3159081 & PC1 31\\% & PC2 19\\% & 1 & T60  & Dynamic & ATAC-seq\\\\\n",
       "\t  -23.7021604 &    3.5561900 & PC1 31\\% & PC2 19\\% & 1 & T2H  & Dynamic & ATAC-seq\\\\\n",
       "\t   17.4890992 &  -27.4287281 & PC1 31\\% & PC2 19\\% & 1 & T4H  & Dynamic & ATAC-seq\\\\\n",
       "\t  127.6041795 &   46.5016355 & PC1 31\\% & PC2 19\\% & 1 & T24H & Dynamic & ATAC-seq\\\\\n",
       "\t  -53.6367854 &   46.9488127 & PC1 31\\% & PC2 19\\% & 2 & T0   & Dynamic & ATAC-seq\\\\\n",
       "\t  -43.6231683 &   39.1596935 & PC1 31\\% & PC2 19\\% & 2 & T20  & Dynamic & ATAC-seq\\\\\n",
       "\t  -26.1981088 &   -6.0732892 & PC1 31\\% & PC2 19\\% & 2 & T60  & Dynamic & ATAC-seq\\\\\n",
       "\t  -22.4654534 &   30.3570330 & PC1 31\\% & PC2 19\\% & 2 & T2H  & Dynamic & ATAC-seq\\\\\n",
       "\t   79.2440749 &  -96.2586530 & PC1 31\\% & PC2 19\\% & 2 & T4H  & Dynamic & ATAC-seq\\\\\n",
       "\t   98.0629744 &   58.6514560 & PC1 31\\% & PC2 19\\% & 2 & T24H & Dynamic & ATAC-seq\\\\\n",
       "\t  -63.7052343 &   -2.2053143 & PC1 31\\% & PC2 19\\% & 3 & T0   & Dynamic & ATAC-seq\\\\\n",
       "\t  -62.5149172 &   -9.5930626 & PC1 31\\% & PC2 19\\% & 3 & T20  & Dynamic & ATAC-seq\\\\\n",
       "\t  -14.9330669 &  -97.2779974 & PC1 31\\% & PC2 19\\% & 3 & T60  & Dynamic & ATAC-seq\\\\\n",
       "\t  -11.6159318 &   -1.7594713 & PC1 31\\% & PC2 19\\% & 3 & T2H  & Dynamic & ATAC-seq\\\\\n",
       "\t   30.2071405 &  -69.7981535 & PC1 31\\% & PC2 19\\% & 3 & T4H  & Dynamic & ATAC-seq\\\\\n",
       "\t  102.2204413 &   40.4145711 & PC1 31\\% & PC2 19\\% & 3 & T24H & Dynamic & ATAC-seq\\\\\n",
       "\t  -61.1354839 &   71.7859061 & PC1 38\\% & PC2 20\\% & 1 & T0   & All     & RNA-seq \\\\\n",
       "\t  -80.3077857 &   40.6669791 & PC1 38\\% & PC2 20\\% & 1 & T20  & All     & RNA-seq \\\\\n",
       "\t  -62.6604615 &  -15.8041612 & PC1 38\\% & PC2 20\\% & 1 & T60  & All     & RNA-seq \\\\\n",
       "\t  -14.7546415 &  -72.9929498 & PC1 38\\% & PC2 20\\% & 1 & T2H  & All     & RNA-seq \\\\\n",
       "\t   45.3716191 &  -92.3875844 & PC1 38\\% & PC2 20\\% & 1 & T4H  & All     & RNA-seq \\\\\n",
       "\t  141.8892033 &   50.2926615 & PC1 38\\% & PC2 20\\% & 1 & T24H & All     & RNA-seq \\\\\n",
       "\t  -69.0662705 &   38.6908031 & PC1 38\\% & PC2 20\\% & 2 & T0   & All     & RNA-seq \\\\\n",
       "\t  -67.3606556 &   44.1250955 & PC1 38\\% & PC2 20\\% & 2 & T20  & All     & RNA-seq \\\\\n",
       "\t  -41.4470782 &  -18.9314670 & PC1 38\\% & PC2 20\\% & 2 & T60  & All     & RNA-seq \\\\\n",
       "\t   -0.5855714 &  -39.1404336 & PC1 38\\% & PC2 20\\% & 2 & T2H  & All     & RNA-seq \\\\\n",
       "\t   49.5188229 &  -76.4926118 & PC1 38\\% & PC2 20\\% & 2 & T4H  & All     & RNA-seq \\\\\n",
       "\t  160.5383032 &   70.1877627 & PC1 38\\% & PC2 20\\% & 2 & T24H & All     & RNA-seq \\\\\n",
       "\t  -54.1360372 &   56.6451602 & PC1 53\\% & PC2 24\\% & 1 & T0   & Dynamic & RNA-seq \\\\\n",
       "\t  -71.2496015 &   36.2687450 & PC1 53\\% & PC2 24\\% & 1 & T20  & Dynamic & RNA-seq \\\\\n",
       "\t  -52.6949314 &  -12.1959000 & PC1 53\\% & PC2 24\\% & 1 & T60  & Dynamic & RNA-seq \\\\\n",
       "\t   -9.1809125 &  -60.5443096 & PC1 53\\% & PC2 24\\% & 1 & T2H  & Dynamic & RNA-seq \\\\\n",
       "\t   45.1574124 &  -75.1291216 & PC1 53\\% & PC2 24\\% & 1 & T4H  & Dynamic & RNA-seq \\\\\n",
       "\t  131.1577601 &   48.4245669 & PC1 53\\% & PC2 24\\% & 1 & T24H & Dynamic & RNA-seq \\\\\n",
       "\t  -66.6668587 &   35.0900526 & PC1 53\\% & PC2 24\\% & 2 & T0   & Dynamic & RNA-seq \\\\\n",
       "\t  -65.1630979 &   36.8113768 & PC1 53\\% & PC2 24\\% & 2 & T20  & Dynamic & RNA-seq \\\\\n",
       "\t  -41.3413706 &  -16.8367602 & PC1 53\\% & PC2 24\\% & 2 & T60  & Dynamic & RNA-seq \\\\\n",
       "\t   -4.0685846 &  -39.3736765 & PC1 53\\% & PC2 24\\% & 2 & T2H  & Dynamic & RNA-seq \\\\\n",
       "\t   45.2730538 &  -68.4604257 & PC1 53\\% & PC2 24\\% & 2 & T4H  & Dynamic & RNA-seq \\\\\n",
       "\t  142.9131681 &   59.3002920 & PC1 53\\% & PC2 24\\% & 2 & T24H & Dynamic & RNA-seq \\\\\n",
       "\\end{tabular}\n"
      ],
      "text/markdown": [
       "\n",
       "A data.frame: 60 × 8\n",
       "\n",
       "| PC1 &lt;dbl&gt; | PC2 &lt;dbl&gt; | label_PC1 &lt;fct&gt; | label_PC2 &lt;fct&gt; | Replicate &lt;fct&gt; | Time &lt;fct&gt; | label &lt;chr&gt; | label2 &lt;chr&gt; |\n",
       "|---|---|---|---|---|---|---|---|\n",
       "| -114.2381952 |   96.1365550 | PC1 29% | PC2 11% | 1 | T0   | All     | ATAC-seq |\n",
       "|  -93.0084553 |   56.2037258 | PC1 29% | PC2 11% | 1 | T20  | All     | ATAC-seq |\n",
       "|   54.4365981 |   43.3805128 | PC1 29% | PC2 11% | 1 | T60  | All     | ATAC-seq |\n",
       "|  -21.0452735 |   31.4372529 | PC1 29% | PC2 11% | 1 | T2H  | All     | ATAC-seq |\n",
       "|  -61.5687578 |  -41.1502049 | PC1 29% | PC2 11% | 1 | T4H  | All     | ATAC-seq |\n",
       "|  -30.6276428 | -165.2528588 | PC1 29% | PC2 11% | 1 | T24H | All     | ATAC-seq |\n",
       "| -134.0524300 |   83.8329428 | PC1 29% | PC2 11% | 2 | T0   | All     | ATAC-seq |\n",
       "| -136.6707452 |   56.8025468 | PC1 29% | PC2 11% | 2 | T20  | All     | ATAC-seq |\n",
       "| -139.5801136 |   40.2225011 | PC1 29% | PC2 11% | 2 | T60  | All     | ATAC-seq |\n",
       "| -156.5279446 |   27.1359734 | PC1 29% | PC2 11% | 2 | T2H  | All     | ATAC-seq |\n",
       "|  229.4475773 | -124.2950381 | PC1 29% | PC2 11% | 2 | T4H  | All     | ATAC-seq |\n",
       "| -118.5042511 | -152.6996479 | PC1 29% | PC2 11% | 2 | T24H | All     | ATAC-seq |\n",
       "|  134.5044891 |  105.1655377 | PC1 29% | PC2 11% | 3 | T0   | All     | ATAC-seq |\n",
       "|  158.7697422 |  107.5828674 | PC1 29% | PC2 11% | 3 | T20  | All     | ATAC-seq |\n",
       "|  362.0065420 |   38.6866403 | PC1 29% | PC2 11% | 3 | T60  | All     | ATAC-seq |\n",
       "|  -11.4857823 |    0.2710322 | PC1 29% | PC2 11% | 3 | T2H  | All     | ATAC-seq |\n",
       "|  134.0326328 |  -54.7439605 | PC1 29% | PC2 11% | 3 | T4H  | All     | ATAC-seq |\n",
       "|  -55.8879900 | -148.7163780 | PC1 29% | PC2 11% | 3 | T24H | All     | ATAC-seq |\n",
       "|  -56.7279546 |   46.2734542 | PC1 31% | PC2 19% | 1 | T0   | Dynamic | ATAC-seq |\n",
       "|  -43.9682836 |   32.8477314 | PC1 31% | PC2 19% | 1 | T20  | Dynamic | ATAC-seq |\n",
       "|  -31.7368452 |  -34.3159081 | PC1 31% | PC2 19% | 1 | T60  | Dynamic | ATAC-seq |\n",
       "|  -23.7021604 |    3.5561900 | PC1 31% | PC2 19% | 1 | T2H  | Dynamic | ATAC-seq |\n",
       "|   17.4890992 |  -27.4287281 | PC1 31% | PC2 19% | 1 | T4H  | Dynamic | ATAC-seq |\n",
       "|  127.6041795 |   46.5016355 | PC1 31% | PC2 19% | 1 | T24H | Dynamic | ATAC-seq |\n",
       "|  -53.6367854 |   46.9488127 | PC1 31% | PC2 19% | 2 | T0   | Dynamic | ATAC-seq |\n",
       "|  -43.6231683 |   39.1596935 | PC1 31% | PC2 19% | 2 | T20  | Dynamic | ATAC-seq |\n",
       "|  -26.1981088 |   -6.0732892 | PC1 31% | PC2 19% | 2 | T60  | Dynamic | ATAC-seq |\n",
       "|  -22.4654534 |   30.3570330 | PC1 31% | PC2 19% | 2 | T2H  | Dynamic | ATAC-seq |\n",
       "|   79.2440749 |  -96.2586530 | PC1 31% | PC2 19% | 2 | T4H  | Dynamic | ATAC-seq |\n",
       "|   98.0629744 |   58.6514560 | PC1 31% | PC2 19% | 2 | T24H | Dynamic | ATAC-seq |\n",
       "|  -63.7052343 |   -2.2053143 | PC1 31% | PC2 19% | 3 | T0   | Dynamic | ATAC-seq |\n",
       "|  -62.5149172 |   -9.5930626 | PC1 31% | PC2 19% | 3 | T20  | Dynamic | ATAC-seq |\n",
       "|  -14.9330669 |  -97.2779974 | PC1 31% | PC2 19% | 3 | T60  | Dynamic | ATAC-seq |\n",
       "|  -11.6159318 |   -1.7594713 | PC1 31% | PC2 19% | 3 | T2H  | Dynamic | ATAC-seq |\n",
       "|   30.2071405 |  -69.7981535 | PC1 31% | PC2 19% | 3 | T4H  | Dynamic | ATAC-seq |\n",
       "|  102.2204413 |   40.4145711 | PC1 31% | PC2 19% | 3 | T24H | Dynamic | ATAC-seq |\n",
       "|  -61.1354839 |   71.7859061 | PC1 38% | PC2 20% | 1 | T0   | All     | RNA-seq  |\n",
       "|  -80.3077857 |   40.6669791 | PC1 38% | PC2 20% | 1 | T20  | All     | RNA-seq  |\n",
       "|  -62.6604615 |  -15.8041612 | PC1 38% | PC2 20% | 1 | T60  | All     | RNA-seq  |\n",
       "|  -14.7546415 |  -72.9929498 | PC1 38% | PC2 20% | 1 | T2H  | All     | RNA-seq  |\n",
       "|   45.3716191 |  -92.3875844 | PC1 38% | PC2 20% | 1 | T4H  | All     | RNA-seq  |\n",
       "|  141.8892033 |   50.2926615 | PC1 38% | PC2 20% | 1 | T24H | All     | RNA-seq  |\n",
       "|  -69.0662705 |   38.6908031 | PC1 38% | PC2 20% | 2 | T0   | All     | RNA-seq  |\n",
       "|  -67.3606556 |   44.1250955 | PC1 38% | PC2 20% | 2 | T20  | All     | RNA-seq  |\n",
       "|  -41.4470782 |  -18.9314670 | PC1 38% | PC2 20% | 2 | T60  | All     | RNA-seq  |\n",
       "|   -0.5855714 |  -39.1404336 | PC1 38% | PC2 20% | 2 | T2H  | All     | RNA-seq  |\n",
       "|   49.5188229 |  -76.4926118 | PC1 38% | PC2 20% | 2 | T4H  | All     | RNA-seq  |\n",
       "|  160.5383032 |   70.1877627 | PC1 38% | PC2 20% | 2 | T24H | All     | RNA-seq  |\n",
       "|  -54.1360372 |   56.6451602 | PC1 53% | PC2 24% | 1 | T0   | Dynamic | RNA-seq  |\n",
       "|  -71.2496015 |   36.2687450 | PC1 53% | PC2 24% | 1 | T20  | Dynamic | RNA-seq  |\n",
       "|  -52.6949314 |  -12.1959000 | PC1 53% | PC2 24% | 1 | T60  | Dynamic | RNA-seq  |\n",
       "|   -9.1809125 |  -60.5443096 | PC1 53% | PC2 24% | 1 | T2H  | Dynamic | RNA-seq  |\n",
       "|   45.1574124 |  -75.1291216 | PC1 53% | PC2 24% | 1 | T4H  | Dynamic | RNA-seq  |\n",
       "|  131.1577601 |   48.4245669 | PC1 53% | PC2 24% | 1 | T24H | Dynamic | RNA-seq  |\n",
       "|  -66.6668587 |   35.0900526 | PC1 53% | PC2 24% | 2 | T0   | Dynamic | RNA-seq  |\n",
       "|  -65.1630979 |   36.8113768 | PC1 53% | PC2 24% | 2 | T20  | Dynamic | RNA-seq  |\n",
       "|  -41.3413706 |  -16.8367602 | PC1 53% | PC2 24% | 2 | T60  | Dynamic | RNA-seq  |\n",
       "|   -4.0685846 |  -39.3736765 | PC1 53% | PC2 24% | 2 | T2H  | Dynamic | RNA-seq  |\n",
       "|   45.2730538 |  -68.4604257 | PC1 53% | PC2 24% | 2 | T4H  | Dynamic | RNA-seq  |\n",
       "|  142.9131681 |   59.3002920 | PC1 53% | PC2 24% | 2 | T24H | Dynamic | RNA-seq  |\n",
       "\n"
      ],
      "text/plain": [
       "   PC1          PC2          label_PC1 label_PC2 Replicate Time label  \n",
       "1  -114.2381952   96.1365550 PC1 29%   PC2 11%   1         T0   All    \n",
       "2   -93.0084553   56.2037258 PC1 29%   PC2 11%   1         T20  All    \n",
       "3    54.4365981   43.3805128 PC1 29%   PC2 11%   1         T60  All    \n",
       "4   -21.0452735   31.4372529 PC1 29%   PC2 11%   1         T2H  All    \n",
       "5   -61.5687578  -41.1502049 PC1 29%   PC2 11%   1         T4H  All    \n",
       "6   -30.6276428 -165.2528588 PC1 29%   PC2 11%   1         T24H All    \n",
       "7  -134.0524300   83.8329428 PC1 29%   PC2 11%   2         T0   All    \n",
       "8  -136.6707452   56.8025468 PC1 29%   PC2 11%   2         T20  All    \n",
       "9  -139.5801136   40.2225011 PC1 29%   PC2 11%   2         T60  All    \n",
       "10 -156.5279446   27.1359734 PC1 29%   PC2 11%   2         T2H  All    \n",
       "11  229.4475773 -124.2950381 PC1 29%   PC2 11%   2         T4H  All    \n",
       "12 -118.5042511 -152.6996479 PC1 29%   PC2 11%   2         T24H All    \n",
       "13  134.5044891  105.1655377 PC1 29%   PC2 11%   3         T0   All    \n",
       "14  158.7697422  107.5828674 PC1 29%   PC2 11%   3         T20  All    \n",
       "15  362.0065420   38.6866403 PC1 29%   PC2 11%   3         T60  All    \n",
       "16  -11.4857823    0.2710322 PC1 29%   PC2 11%   3         T2H  All    \n",
       "17  134.0326328  -54.7439605 PC1 29%   PC2 11%   3         T4H  All    \n",
       "18  -55.8879900 -148.7163780 PC1 29%   PC2 11%   3         T24H All    \n",
       "19  -56.7279546   46.2734542 PC1 31%   PC2 19%   1         T0   Dynamic\n",
       "20  -43.9682836   32.8477314 PC1 31%   PC2 19%   1         T20  Dynamic\n",
       "21  -31.7368452  -34.3159081 PC1 31%   PC2 19%   1         T60  Dynamic\n",
       "22  -23.7021604    3.5561900 PC1 31%   PC2 19%   1         T2H  Dynamic\n",
       "23   17.4890992  -27.4287281 PC1 31%   PC2 19%   1         T4H  Dynamic\n",
       "24  127.6041795   46.5016355 PC1 31%   PC2 19%   1         T24H Dynamic\n",
       "25  -53.6367854   46.9488127 PC1 31%   PC2 19%   2         T0   Dynamic\n",
       "26  -43.6231683   39.1596935 PC1 31%   PC2 19%   2         T20  Dynamic\n",
       "27  -26.1981088   -6.0732892 PC1 31%   PC2 19%   2         T60  Dynamic\n",
       "28  -22.4654534   30.3570330 PC1 31%   PC2 19%   2         T2H  Dynamic\n",
       "29   79.2440749  -96.2586530 PC1 31%   PC2 19%   2         T4H  Dynamic\n",
       "30   98.0629744   58.6514560 PC1 31%   PC2 19%   2         T24H Dynamic\n",
       "31  -63.7052343   -2.2053143 PC1 31%   PC2 19%   3         T0   Dynamic\n",
       "32  -62.5149172   -9.5930626 PC1 31%   PC2 19%   3         T20  Dynamic\n",
       "33  -14.9330669  -97.2779974 PC1 31%   PC2 19%   3         T60  Dynamic\n",
       "34  -11.6159318   -1.7594713 PC1 31%   PC2 19%   3         T2H  Dynamic\n",
       "35   30.2071405  -69.7981535 PC1 31%   PC2 19%   3         T4H  Dynamic\n",
       "36  102.2204413   40.4145711 PC1 31%   PC2 19%   3         T24H Dynamic\n",
       "37  -61.1354839   71.7859061 PC1 38%   PC2 20%   1         T0   All    \n",
       "38  -80.3077857   40.6669791 PC1 38%   PC2 20%   1         T20  All    \n",
       "39  -62.6604615  -15.8041612 PC1 38%   PC2 20%   1         T60  All    \n",
       "40  -14.7546415  -72.9929498 PC1 38%   PC2 20%   1         T2H  All    \n",
       "41   45.3716191  -92.3875844 PC1 38%   PC2 20%   1         T4H  All    \n",
       "42  141.8892033   50.2926615 PC1 38%   PC2 20%   1         T24H All    \n",
       "43  -69.0662705   38.6908031 PC1 38%   PC2 20%   2         T0   All    \n",
       "44  -67.3606556   44.1250955 PC1 38%   PC2 20%   2         T20  All    \n",
       "45  -41.4470782  -18.9314670 PC1 38%   PC2 20%   2         T60  All    \n",
       "46   -0.5855714  -39.1404336 PC1 38%   PC2 20%   2         T2H  All    \n",
       "47   49.5188229  -76.4926118 PC1 38%   PC2 20%   2         T4H  All    \n",
       "48  160.5383032   70.1877627 PC1 38%   PC2 20%   2         T24H All    \n",
       "49  -54.1360372   56.6451602 PC1 53%   PC2 24%   1         T0   Dynamic\n",
       "50  -71.2496015   36.2687450 PC1 53%   PC2 24%   1         T20  Dynamic\n",
       "51  -52.6949314  -12.1959000 PC1 53%   PC2 24%   1         T60  Dynamic\n",
       "52   -9.1809125  -60.5443096 PC1 53%   PC2 24%   1         T2H  Dynamic\n",
       "53   45.1574124  -75.1291216 PC1 53%   PC2 24%   1         T4H  Dynamic\n",
       "54  131.1577601   48.4245669 PC1 53%   PC2 24%   1         T24H Dynamic\n",
       "55  -66.6668587   35.0900526 PC1 53%   PC2 24%   2         T0   Dynamic\n",
       "56  -65.1630979   36.8113768 PC1 53%   PC2 24%   2         T20  Dynamic\n",
       "57  -41.3413706  -16.8367602 PC1 53%   PC2 24%   2         T60  Dynamic\n",
       "58   -4.0685846  -39.3736765 PC1 53%   PC2 24%   2         T2H  Dynamic\n",
       "59   45.2730538  -68.4604257 PC1 53%   PC2 24%   2         T4H  Dynamic\n",
       "60  142.9131681   59.3002920 PC1 53%   PC2 24%   2         T24H Dynamic\n",
       "   label2  \n",
       "1  ATAC-seq\n",
       "2  ATAC-seq\n",
       "3  ATAC-seq\n",
       "4  ATAC-seq\n",
       "5  ATAC-seq\n",
       "6  ATAC-seq\n",
       "7  ATAC-seq\n",
       "8  ATAC-seq\n",
       "9  ATAC-seq\n",
       "10 ATAC-seq\n",
       "11 ATAC-seq\n",
       "12 ATAC-seq\n",
       "13 ATAC-seq\n",
       "14 ATAC-seq\n",
       "15 ATAC-seq\n",
       "16 ATAC-seq\n",
       "17 ATAC-seq\n",
       "18 ATAC-seq\n",
       "19 ATAC-seq\n",
       "20 ATAC-seq\n",
       "21 ATAC-seq\n",
       "22 ATAC-seq\n",
       "23 ATAC-seq\n",
       "24 ATAC-seq\n",
       "25 ATAC-seq\n",
       "26 ATAC-seq\n",
       "27 ATAC-seq\n",
       "28 ATAC-seq\n",
       "29 ATAC-seq\n",
       "30 ATAC-seq\n",
       "31 ATAC-seq\n",
       "32 ATAC-seq\n",
       "33 ATAC-seq\n",
       "34 ATAC-seq\n",
       "35 ATAC-seq\n",
       "36 ATAC-seq\n",
       "37 RNA-seq \n",
       "38 RNA-seq \n",
       "39 RNA-seq \n",
       "40 RNA-seq \n",
       "41 RNA-seq \n",
       "42 RNA-seq \n",
       "43 RNA-seq \n",
       "44 RNA-seq \n",
       "45 RNA-seq \n",
       "46 RNA-seq \n",
       "47 RNA-seq \n",
       "48 RNA-seq \n",
       "49 RNA-seq \n",
       "50 RNA-seq \n",
       "51 RNA-seq \n",
       "52 RNA-seq \n",
       "53 RNA-seq \n",
       "54 RNA-seq \n",
       "55 RNA-seq \n",
       "56 RNA-seq \n",
       "57 RNA-seq \n",
       "58 RNA-seq \n",
       "59 RNA-seq \n",
       "60 RNA-seq "
      ]
     },
     "metadata": {},
     "output_type": "display_data"
    }
   ],
   "source": [
    "pca_forplot"
   ]
  },
  {
   "cell_type": "code",
   "execution_count": 90,
   "metadata": {},
   "outputs": [
    {
     "data": {
      "text/html": [
       "<table>\n",
       "<caption>A data.frame: 0 × 8</caption>\n",
       "<thead>\n",
       "\t<tr><th scope=col>PC1</th><th scope=col>PC2</th><th scope=col>label_PC1</th><th scope=col>label_PC2</th><th scope=col>Replicate</th><th scope=col>Time</th><th scope=col>label</th><th scope=col>label2</th></tr>\n",
       "\t<tr><th scope=col>&lt;dbl&gt;</th><th scope=col>&lt;dbl&gt;</th><th scope=col>&lt;fct&gt;</th><th scope=col>&lt;fct&gt;</th><th scope=col>&lt;fct&gt;</th><th scope=col>&lt;fct&gt;</th><th scope=col>&lt;chr&gt;</th><th scope=col>&lt;chr&gt;</th></tr>\n",
       "</thead>\n",
       "<tbody>\n",
       "</tbody>\n",
       "</table>\n"
      ],
      "text/latex": [
       "A data.frame: 0 × 8\n",
       "\\begin{tabular}{llllllll}\n",
       " PC1 & PC2 & label\\_PC1 & label\\_PC2 & Replicate & Time & label & label2\\\\\n",
       " <dbl> & <dbl> & <fct> & <fct> & <fct> & <fct> & <chr> & <chr>\\\\\n",
       "\\hline\n",
       "\\end{tabular}\n"
      ],
      "text/markdown": [
       "\n",
       "A data.frame: 0 × 8\n",
       "\n",
       "| PC1 &lt;dbl&gt; | PC2 &lt;dbl&gt; | label_PC1 &lt;fct&gt; | label_PC2 &lt;fct&gt; | Replicate &lt;fct&gt; | Time &lt;fct&gt; | label &lt;chr&gt; | label2 &lt;chr&gt; |\n",
       "|---|---|---|---|---|---|---|---|\n",
       "\n"
      ],
      "text/plain": [
       "     PC1 PC2 label_PC1 label_PC2 Replicate Time label label2"
      ]
     },
     "metadata": {},
     "output_type": "display_data"
    }
   ],
   "source": [
    "subset(pca_forplot, pca_forplot$label%in% 'all')"
   ]
  },
  {
   "cell_type": "code",
   "execution_count": 105,
   "metadata": {},
   "outputs": [
    {
     "data": {
      "image/png": "[encoded data removed]",
      "text/plain": [
       "plot without title"
      ]
     },
     "metadata": {
      "image/png": {
       "height": 420,
       "width": 420
      },
      "text/plain": {
       "height": 420,
       "width": 420
      }
     },
     "output_type": "display_data"
    }
   ],
   "source": [
    "\n",
    "p1 <- ggplot(data=subset(pca_forplot, pca_forplot$label2 %in% 'ATAC-seq'), aes(x=PC1, y=PC2, col=Time)) + geom_point(aes(shape=Replicate), size=3) + \n",
    "geom_hline(yintercept=0, linetype='dotted') + geom_vline(xintercept=0,linetype='dotted')+\n",
    "#geom_segment(aes(x=-200,xend=max(PC1), y=-200, yend=-200), linetype='solid', color='black') + \n",
    "#geom_segment(aes(x=-200,xend=-200, y=-200, yend=max(PC2)),linetype='solid', color='black')+\n",
    "\n",
    "#geom_text(aes(x=0, y=min(PC2)-100, label=label_PC1), color='black') +\n",
    "#geom_text(aes(x=min(PC1)-100, y=0, label=label_PC2), color='black', angle=90) +\n",
    "\n",
    "    #xlab(paste('PC1 ', '(',percent(pca_atacseq_label_PC1),')', sep='')) + \n",
    "    #ylab(paste('PC2 ', '(',percent(pca_atacseq_label_PC2),')', sep='')) +\n",
    "    labs(c('Time','replicate')) + \n",
    "theme(panel.background=element_rect(fill='white',color='black',linetype=1),  panel.grid.major=element_line(color='grey', size=0.1), \n",
    "       text=element_text(size=14, face=\"bold\"),\n",
    "                 axis.text=element_text(size=14, face='bold'), axis.title=element_text(size=18, face=\"bold\")) + coord_fixed(ratio=2.5) +\n",
    " facet_grid(label2 ~ label)\n",
    "ggsave('ATACSeq-PCA.pdf')"
   ]
  },
  {
   "cell_type": "code",
   "execution_count": null,
   "metadata": {},
   "outputs": [],
   "source": [
    "pca_atacseq <- prcomp(t(atacseq_data_dynamic), scale=TRUE)\n",
    "p0 <- fviz_pca_ind(pca_atacseq,\n",
    "             geom.ind=c(\"point\"), pointsize=5, \n",
    "             #col.ind = \"cos2\", # Color by the quality of representation\n",
    "             #addEllipses=TRUE, ellipse.level=0.95,\n",
    "             #halibrange=as.factor(c(rep('1',6), rep('2',6), rep('3',6))),\n",
    "              #palette = c(\"#999999\", \"#E69F00\", \"#56B4E9\"),\n",
    "             #col.ind=\"bla\",\n",
    "             #fill.ind=c(idx1,idx2,idx3),\n",
    "             col.var=c(idx0,idx0,idx0),\n",
    "             #fill.ind =c(rep(1,6),rep(2,6),rep(3,6)),\n",
    "             #fill.var=c(rep('1',6), rep('2',6),rep('3',6)),\n",
    "             #label=c(idx0,idx0),\n",
    "             labelsize=8,\n",
    "             #palette = c(\"#999999\", \"#E69F00\", \"#56B4E9\"),\n",
    "             #gradient.cols = c(\"#00AFBB\", \"#E7B800\", \"#FC4E07\"),\n",
    "             title='',\n",
    "             xlab='PC1',\n",
    "             ylab='PC2',\n",
    "             mean.point=FALSE,\n",
    "                \n",
    "             #legend.title=\"\",\n",
    "             legend.title=list(Col.='time',Fill.='replicate')\n",
    "             #repel = TRUE     # Avoid text overlapping\n",
    "             )  + scale_y_continuous(expand = c(0.1, 0)) + scale_x_continuous(limits=c(NA,160), expand = c(0, 0)) +\n",
    "           theme(axis.line=element_line(size=1), text=element_text(size=20, face=\"bold\"),\n",
    "                 axis.text=element_text(size=20, face='bold'), axis.title=element_text(size=18, face=\"bold\")) +\n",
    "             scale_shape_manual(values=c(rep(1,6),rep(2,6),rep(3,6)))\n",
    "p0\n",
    "ggsave('atac-seq_PCA.png', p0, height=8, width=6, units=\"in\", dpi=600)"
   ]
  },
  {
   "cell_type": "code",
   "execution_count": null,
   "metadata": {},
   "outputs": [],
   "source": [
    "?autoplot"
   ]
  },
  {
   "cell_type": "code",
   "execution_count": null,
   "metadata": {},
   "outputs": [],
   "source": [
    "autoplot(pca_atacseq) +geom_points(aes(shape=c(rep(1,6),rep(2,6),rep(3,6))))"
   ]
  },
  {
   "cell_type": "code",
   "execution_count": null,
   "metadata": {
    "scrolled": true
   },
   "outputs": [],
   "source": [
    "\n",
    "res.pca.scaled <- prcomp(t(data_dynamic_indiv_normalized), scale=TRUE)\n",
    "fviz_pca_ind(res.pca.scaled,\n",
    "             #col.ind = \"cos2\", # Color by the quality of representation\n",
    "             #addEllipses=TRUE, ellipse.level=0.95,\n",
    "             palette = c(\"#999999\", \"#E69F00\", \"#56B4E9\"),\n",
    "             title='individual PCA',\n",
    "             gradient.cols = c(\"#00AFBB\", \"#E7B800\", \"#FC4E07\"),\n",
    "             #repel = TRUE     # Avoid text overlapping\n",
    "             )"
   ]
  },
  {
   "cell_type": "code",
   "execution_count": null,
   "metadata": {},
   "outputs": [],
   "source": [
    "head(data_dynamic_indiv_normalized)"
   ]
  },
  {
   "cell_type": "code",
   "execution_count": null,
   "metadata": {},
   "outputs": [],
   "source": [
    "coldata <- data.frame(condition=rep(c('T0','T20','T60','T2H','T4H','T24H'),4), group=rep(c('0','1','2','3'), each=6))\n",
    "row.names(coldata) <- names(ATACSeq_dataonly)\n",
    "dds <- DESeqDataSetFromMatrix(countData = as.matrix(ATACSeq_dataonly),\n",
    "                              colData = coldata,\n",
    "                              design = group~condition)\n",
    "dds <- estimateSizeFactors(dds)\n",
    "ATACSeq_data_normalizedbyDESeq <- counts(dds, normalized=TRUE) \n",
    "res.pca.scaled <- prcomp(t(ATACSeq_data_normalizedbyDESeq), scale=TRUE)\n",
    "fviz_pca_ind(res.pca.scaled,\n",
    "             #col.ind = \"cos2\", # Color by the quality of representation\n",
    "             #addEllipses=TRUE, ellipse.level=0.95,\n",
    "             palette = c(\"#999999\", \"#E69F00\", \"#56B4E9\"),\n",
    "             gradient.cols = c(\"#00AFBB\", \"#E7B800\", \"#FC4E07\"),\n",
    "             title='individual+merged PCA',\n",
    "             #repel = TRUE     # Avoid text overlapping\n",
    "             )"
   ]
  },
  {
   "cell_type": "code",
   "execution_count": null,
   "metadata": {},
   "outputs": [],
   "source": []
  },
  {
   "cell_type": "code",
   "execution_count": null,
   "metadata": {},
   "outputs": [],
   "source": [
    "head(rnaseq_data)"
   ]
  },
  {
   "cell_type": "code",
   "execution_count": null,
   "metadata": {
    "scrolled": false
   },
   "outputs": [],
   "source": [
    "\n"
   ]
  },
  {
   "cell_type": "code",
   "execution_count": null,
   "metadata": {},
   "outputs": [],
   "source": [
    "?fviz_pca_ind"
   ]
  },
  {
   "cell_type": "code",
   "execution_count": null,
   "metadata": {},
   "outputs": [],
   "source": [
    "head(rnaseq_dynamicdataonly)"
   ]
  },
  {
   "cell_type": "code",
   "execution_count": null,
   "metadata": {},
   "outputs": [],
   "source": [
    "data(iris)\n"
   ]
  },
  {
   "cell_type": "code",
   "execution_count": null,
   "metadata": {},
   "outputs": [],
   "source": [
    "dim(iris)"
   ]
  },
  {
   "cell_type": "code",
   "execution_count": null,
   "metadata": {
    "scrolled": true
   },
   "outputs": [],
   "source": [
    "head(iris)"
   ]
  },
  {
   "cell_type": "code",
   "execution_count": null,
   "metadata": {},
   "outputs": [],
   "source": [
    "library(ggfortify)"
   ]
  },
  {
   "cell_type": "code",
   "execution_count": null,
   "metadata": {},
   "outputs": [],
   "source": [
    "autoplot(pca_rnaseq)"
   ]
  },
  {
   "cell_type": "code",
   "execution_count": null,
   "metadata": {},
   "outputs": [],
   "source": [
    "colnames(rnaseq_dynamicdataonly)"
   ]
  },
  {
   "cell_type": "code",
   "execution_count": null,
   "metadata": {},
   "outputs": [],
   "source": [
    "pca_data_rnaseq <- t(rnaseq_dynamicdataonly)"
   ]
  },
  {
   "cell_type": "code",
   "execution_count": null,
   "metadata": {},
   "outputs": [],
   "source": [
    "head(pca_data_rnaseq)\n",
    "pca_result_rnaseq <- prcomp(pca_data_rnaseq)"
   ]
  },
  {
   "cell_type": "code",
   "execution_count": null,
   "metadata": {},
   "outputs": [],
   "source": [
    "pca_out_rnaseq <- as.data.frame(pca_result_rnaseq$x)\n",
    "dim(pca_out_rnaseq)\n",
    "pca_out_rnaseq$group <- c(idx0,idx0)\n",
    "pca_out_rnaseq$label <- c(idx1,idx2)"
   ]
  },
  {
   "cell_type": "code",
   "execution_count": null,
   "metadata": {},
   "outputs": [],
   "source": [
    "theme<-theme(panel.background = element_blank(),panel.border=element_rect(fill=NA),panel.grid.major = element_blank(),panel.grid.minor = element_blank(),strip.background=element_blank(),axis.text.x=element_text(colour=\"black\"),axis.text.y=element_text(colour=\"black\"),axis.ticks=element_line(colour=\"black\"),plot.margin=unit(c(1,1,1,1),\"line\"))\n",
    "\n",
    "percentage <- round(pca_result_rnaseq$sdev / sum(pca_result_rnaseq$sdev) * 100, 2)\n",
    "percentage <- paste( colnames(pca_out_rnaseq), \"(\", paste( as.character(percentage), \"%\", \")\", sep=\"\") )\n",
    "\n",
    "p<-ggplot(pca_out_rnaseq,aes(x=PC1,y=PC2,color=group,label=label ))\n",
    "p<-p+geom_point()+theme + geom_text(size=3) + xlab(percentage[1]) + ylab(percentage[2])\n",
    "p"
   ]
  },
  {
   "cell_type": "code",
   "execution_count": null,
   "metadata": {},
   "outputs": [],
   "source": [
    "pca_rnaseq <- prcomp(t(rnaseq_dynamicdataonly), scale=TRUE)\n",
    "p1 <- autoplot(pca_rnaseq,\n",
    "             gdata = t(rnaseq_dynamicdataonly), col = factor(c(idx0,idx0)), label = TRUE, label.size = 3)\n",
    "              \n",
    "ggsave('RNA-seq_PCA.png', p1, dpi=600)"
   ]
  },
  {
   "cell_type": "code",
   "execution_count": null,
   "metadata": {},
   "outputs": [],
   "source": [
    "pca_rnaseq$"
   ]
  },
  {
   "cell_type": "code",
   "execution_count": null,
   "metadata": {},
   "outputs": [],
   "source": [
    "pca_rnaseq <- prcomp(t(rnaseq_dynamicdataonly), scale=TRUE)\n",
    "p1 <- fviz_pca_ind(pca_rnaseq,\n",
    "             geom.ind=c(\"point\",\"text\"), pointsize=5,\n",
    "             #col.ind = \"cos2\", # Color by the quality of representation\n",
    "             #addEllipses=TRUE, ellipse.level=0.95,\n",
    "             pointshape = c(15:20,15:20),\n",
    "             fill.ind=\"black\",\n",
    "             col.ind=c(idx0,idx0),\n",
    "             #label=c(idx0,idx0),\n",
    "             labelsize=8,\n",
    "             #palette = c(\"#999999\", \"#E69F00\", \"#56B4E9\"),\n",
    "             #gradient.cols = c(\"#00AFBB\", \"#E7B800\", \"#FC4E07\"),\n",
    "             title='',\n",
    "             xlab='PC1',\n",
    "             ylab='PC2',\n",
    "             mean.point=FALSE,\n",
    "             #legend.title=\"\",\n",
    "             #legend.text=idx0,\n",
    "             repel = TRUE     # Avoid text overlapping\n",
    "             )  + scale_y_continuous(expand = c(0.1, 0)) + scale_x_continuous(limits=c(NA,160), expand = c(0, 0)) +\n",
    "           theme(axis.line=element_line(size=1), text=element_text(size=20, face=\"bold\"),\n",
    "                 axis.text=element_text(size=20, face='bold'), axis.title=element_text(size=18, face=\"bold\"),legend.position=\"NONE\") \n",
    "p1\n",
    "ggsave('RNA-seq_PCA.png', p1, height=8, width=6, units=\"in\", dpi=600)"
   ]
  },
  {
   "cell_type": "code",
   "execution_count": null,
   "metadata": {},
   "outputs": [],
   "source": [
    "idx0"
   ]
  },
  {
   "cell_type": "code",
   "execution_count": null,
   "metadata": {},
   "outputs": [],
   "source": [
    "pca_rnaseq <- prcomp(t(rnaseq_dataonly), scale=TRUE)\n",
    "fviz_pca_ind(pca_rnaseq,\n",
    "             #col.ind = \"cos2\", # Color by the quality of representation\n",
    "             #addEllipses=TRUE, ellipse.level=0.95,\n",
    "             palette = c(\"#999999\", \"#E69F00\", \"#56B4E9\"),\n",
    "             gradient.cols = c(\"#00AFBB\", \"#E7B800\", \"#FC4E07\"),\n",
    "             title='PCA rnaseq',\n",
    "             #repel = TRUE     # Avoid text overlapping\n",
    "             )"
   ]
  },
  {
   "cell_type": "code",
   "execution_count": null,
   "metadata": {},
   "outputs": [],
   "source": [
    "fviz_pca_ind(res.pca,\n",
    "             col.ind = \"cos2\", # Color by the quality of representation\n",
    "             gradient.cols = c(\"#00AFBB\", \"#E7B800\", \"#FC4E07\"),\n",
    "             #repel = TRUE     # Avoid text overlapping\n",
    "             )"
   ]
  },
  {
   "cell_type": "code",
   "execution_count": null,
   "metadata": {},
   "outputs": [],
   "source": [
    "prcomp(ATACSeq_individual_peakfrommerged[,6:23])"
   ]
  },
  {
   "cell_type": "code",
   "execution_count": null,
   "metadata": {},
   "outputs": [],
   "source": [
    "corr_T01_T02 <- cor(ATACSeq_individual_peakfrommerged[,'T01'], ATACSeq_individual_peakfrommerged[,'T02'])[1]\n",
    "corr_T01_T03 <- cor(ATACSeq_individual_peakfrommerged[,'T01'], ATACSeq_individual_peakfrommerged[,'T03'])[1]\n",
    "corr_T02_T03 <- cor(ATACSeq_individual_peakfrommerged[,'T02'], ATACSeq_individual_peakfrommerged[,'T03'])[1]\n",
    "corr_T201_T202 <- cor(ATACSeq_individual_peakfrommerged[,'T201'], ATACSeq_individual_peakfrommerged[,'T202'])[1]\n",
    "corr_T201_T203 <- cor(ATACSeq_individual_peakfrommerged[,'T201'], ATACSeq_individual_peakfrommerged[,'T203'])[1]\n",
    "corr_T202_T203 <- cor(ATACSeq_individual_peakfrommerged[,'T202'], ATACSeq_individual_peakfrommerged[,'T203'])[1]\n",
    "corr_T601_T602 <- cor(ATACSeq_individual_peakfrommerged[,'T601'], ATACSeq_individual_peakfrommerged[,'T602'])[1]\n",
    "corr_T601_T603 <- cor(ATACSeq_individual_peakfrommerged[,'T601'], ATACSeq_individual_peakfrommerged[,'T603'])[1]\n",
    "corr_T602_T603 <- cor(ATACSeq_individual_peakfrommerged[,'T602'], ATACSeq_individual_peakfrommerged[,'T603'])[1]\n",
    "corr_T2H1_T2H2 <- cor(ATACSeq_individual_peakfrommerged[,'T2H1'], ATACSeq_individual_peakfrommerged[,'T2H2'])[1]\n",
    "corr_T2H1_T2H3 <- cor(ATACSeq_individual_peakfrommerged[,'T2H1'], ATACSeq_individual_peakfrommerged[,'T2H3'])[1]\n",
    "corr_T2H2_T2H3 <- cor(ATACSeq_individual_peakfrommerged[,'T2H2'], ATACSeq_individual_peakfrommerged[,'T2H3'])[1]\n",
    "corr_T4H1_T4H2 <- cor(ATACSeq_individual_peakfrommerged[,'T4H1'], ATACSeq_individual_peakfrommerged[,'T4H2'])[1]\n",
    "corr_T4H1_T4H3 <- cor(ATACSeq_individual_peakfrommerged[,'T4H1'], ATACSeq_individual_peakfrommerged[,'T4H3'])[1]\n",
    "corr_T4H2_T4H3 <- cor(ATACSeq_individual_peakfrommerged[,'T4H2'], ATACSeq_individual_peakfrommerged[,'T4H3'])[1]\n",
    "corr_T24H1_T24H2 <- cor(ATACSeq_individual_peakfrommerged[,'T24H1'], ATACSeq_individual_peakfrommerged[,'T24H2'])[1]\n",
    "corr_T24H1_T24H3 <- cor(ATACSeq_individual_peakfrommerged[,'T24H1'], ATACSeq_individual_peakfrommerged[,'T24H3'])[1]\n",
    "corr_T24H2_T24H3 <- cor(ATACSeq_individual_peakfrommerged[,'T24H2'], ATACSeq_individual_peakfrommerged[,'T24H3'])[1]"
   ]
  },
  {
   "cell_type": "code",
   "execution_count": null,
   "metadata": {},
   "outputs": [],
   "source": [
    "data.frame(x=log(ATACSeq_individual_peakfrommerged[,'T01']+1),y=log(ATACSeq_individual_peakfrommerged[,'T02']+1),z=corr_T01_T02)"
   ]
  },
  {
   "cell_type": "code",
   "execution_count": null,
   "metadata": {},
   "outputs": [],
   "source": [
    "corr_eqn <- function(x,y, digits = 2) {\n",
    "  corr_coef <- round(cor(x, y), digits = digits)\n",
    "  paste(\"italic(r) == \", corr_coef)\n",
    "}\n",
    "\n",
    "for (ii in 1:6){\n",
    "\n",
    "idxa <- idx1[ii]\n",
    "idxb <- idx2[ii]\n",
    "idxc <- idx0[ii]\n",
    "\n",
    "ggplot(data=data.frame(x=log(ATACSeq_individual_peakfrommerged[,idxa]+1),y=log(ATACSeq_individual_peakfrommerged[,idxb]+1)), aes(x=x,y=y)) +\n",
    "geom_point() + xlab(idxa) + ylab(idxb) + annotate(geom=\"text\", x=6, y=8, label=corr_eqn(log(ATACSeq_individual_peakfrommerged[,idxa]+1),\n",
    "                                                                                          log(ATACSeq_individual_peakfrommerged[,idxb]+1)\n",
    "                             ), parse = TRUE, size=7) + theme(panel.grid.major=element_blank(), panel.grid.minor=element_blank(), \n",
    "    panel.background=element_blank(), axis.line=element_line('black'),\n",
    "     axis.text=element_text(size=12, face='bold'), axis.title=element_text(size=16, face='bold')) + \n",
    "    scale_x_continuous(limits=c(0,8)) + scale_y_continuous(limits=c(0,8)) + geom_smooth(method='lm')\n",
    "ggsave(paste(idxa,'_',idxb,'.png',sep=''), device='png')\n",
    "\n",
    "idxa <- idx1[ii]\n",
    "idxb <- idx3[ii]\n",
    "ggplot(data=data.frame(x=log(ATACSeq_individual_peakfrommerged[,idxa]+1),y=log(ATACSeq_individual_peakfrommerged[,idxb]+1)), aes(x=x,y=y)) +\n",
    "geom_point() + xlab(idxa) + ylab(idxb) + annotate(geom=\"text\", x=6, y=8, label=corr_eqn(log(ATACSeq_individual_peakfrommerged[,idxa]+1),\n",
    "                                                                                          log(ATACSeq_individual_peakfrommerged[,idxb]+1)\n",
    "                             ), parse = TRUE, size=7) + theme(panel.grid.major=element_blank(), panel.grid.minor=element_blank(), \n",
    "    panel.background=element_blank(), axis.line=element_line('black'),\n",
    "     axis.text=element_text(size=12, face='bold'), axis.title=element_text(size=16, face='bold')) + scale_x_continuous(limits=c(0,8)) + \n",
    "    scale_y_continuous(limits=c(0,8)) + geom_smooth(method='lm')\n",
    "ggsave(paste(idxa,'_',idxb,'.png',sep=''), device='png')\n",
    "    \n",
    "idxa <- idx2[ii]\n",
    "idxb <- idx3[ii]\n",
    "ggplot(data=data.frame(x=log(ATACSeq_individual_peakfrommerged[,idxa]+1),y=log(ATACSeq_individual_peakfrommerged[,idxb]+1)), aes(x=x,y=y)) +\n",
    "geom_point() + xlab(idxa) + ylab(idxb) + annotate(geom=\"text\", x=6, y=8, label=corr_eqn(log(ATACSeq_individual_peakfrommerged[,idxa]+1),\n",
    "                                                                                          log(ATACSeq_individual_peakfrommerged[,idxb]+1)\n",
    "                             ), parse = TRUE, size=7) + theme(panel.grid.major=element_blank(), panel.grid.minor=element_blank(), \n",
    "    panel.background=element_blank(), axis.line=element_line('black'),\n",
    "     axis.text=element_text(size=12, face='bold'), axis.title=element_text(size=16, face='bold')) + scale_x_continuous(limits=c(0,8)) + \n",
    "    scale_y_continuous(limits=c(0,8))+ geom_smooth(method='lm')\n",
    "ggsave(paste(idxa,'_',idxb,'.png',sep=''), device='png')\n",
    "    \n",
    "idxa <- idx1[ii]\n",
    "ggplot(data=data.frame(x=log(ATACSeq_individual_peakfrommerged[,idxa]+1),y=log(ATACSeq_data3_minioverlap1_original[,idxc]+1)), aes(x=x,y=y)) +\n",
    "geom_point() + xlab(idxa) + ylab(idxc) + annotate(geom=\"text\", x=6, y=8, label=corr_eqn(log(ATACSeq_individual_peakfrommerged[,idxa]+1),\n",
    "                                                                                          log(ATACSeq_data3_minioverlap1_original[,idxc]+1)\n",
    "                             ), parse = TRUE, size=7) + theme(panel.grid.major=element_blank(), panel.grid.minor=element_blank(), \n",
    "    panel.background=element_blank(), axis.line=element_line('black'),\n",
    "     axis.text=element_text(size=12, face='bold'), axis.title=element_text(size=16, face='bold')) + scale_x_continuous(limits=c(0,8)) + \n",
    "    scale_y_continuous(limits=c(0,8)) + geom_smooth(method='lm')\n",
    "ggsave(paste(idxa,'_',idxc,'.png',sep=''), device='png')\n",
    "    \n",
    "idxa <- idx2[ii]\n",
    "ggplot(data=data.frame(x=log(ATACSeq_individual_peakfrommerged[,idxa]+1),y=log(ATACSeq_data3_minioverlap1_original[,idxc]+1)), aes(x=x,y=y)) +\n",
    "geom_point() + xlab(idxa) + ylab(idxc) + annotate(geom=\"text\", x=6, y=8, label=corr_eqn(log(ATACSeq_individual_peakfrommerged[,idxa]+1),\n",
    "                                                                                          log(ATACSeq_data3_minioverlap1_original[,idxc]+1)\n",
    "                             ), parse = TRUE, size=7) + theme(panel.grid.major=element_blank(), panel.grid.minor=element_blank(), \n",
    "    panel.background=element_blank(), axis.line=element_line('black'),\n",
    "     axis.text=element_text(size=12, face='bold'), axis.title=element_text(size=16, face='bold')) + scale_x_continuous(limits=c(0,8)) + \n",
    "    scale_y_continuous(limits=c(0,8)) + geom_smooth(method='lm')\n",
    "ggsave(paste(idxa,'_',idxc,'.png',sep=''), device='png')\n",
    "    \n",
    "idxa <- idx3[ii]\n",
    "ggplot(data=data.frame(x=log(ATACSeq_individual_peakfrommerged[,idxa]+1),y=log(ATACSeq_data3_minioverlap1_original[,idxc]+1)), aes(x=x,y=y)) +\n",
    "geom_point() + xlab(idxa) + ylab(idxc) + annotate(geom=\"text\", x=6, y=8, label=corr_eqn(log(ATACSeq_individual_peakfrommerged[,idxa]+1),\n",
    "                                                                                          log(ATACSeq_data3_minioverlap1_original[,idxc]+1)\n",
    "                             ), parse = TRUE, size=7) + theme(panel.grid.major=element_blank(), panel.grid.minor=element_blank(), \n",
    "    panel.background=element_blank(), axis.line=element_line('black'),\n",
    "     axis.text=element_text(size=12, face='bold'), axis.title=element_text(size=16, face='bold')) + scale_x_continuous(limits=c(0,8)) + \n",
    "    scale_y_continuous(limits=c(0,8)) + geom_smooth(method='lm')\n",
    "ggsave(paste(idxa,'_',idxc,'.png',sep=''), device='png')\n",
    "    \n",
    "}"
   ]
  },
  {
   "cell_type": "code",
   "execution_count": null,
   "metadata": {},
   "outputs": [],
   "source": [
    "ATACSeq_rep1 <- ATACSeq_individual_peakfrommerged[,idx1]\n",
    "ATACSeq_rep2 <- ATACSeq_individual_peakfrommerged[,idx2]\n",
    "ATACSeq_rep3 <- ATACSeq_individual_peakfrommerged[,idx3]\n"
   ]
  }
 ],
 "metadata": {
  "kernelspec": {
   "display_name": "R",
   "language": "R",
   "name": "ir"
  },
  "language_info": {
   "codemirror_mode": "r",
   "file_extension": ".r",
   "mimetype": "text/x-r-source",
   "name": "R",
   "pygments_lexer": "r",
   "version": "3.6.1"
  }
 },
 "nbformat": 4,
 "nbformat_minor": 2
}
