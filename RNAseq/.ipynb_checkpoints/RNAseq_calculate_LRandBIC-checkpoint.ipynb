{
 "cells": [
  {
   "cell_type": "markdown",
   "metadata": {},
   "source": [
    "## Jupyter notebook for calculating Bayesian Information Criteria (BIC) for ATAC-seq data\n",
    "\n",
    "This notebook is the code for calculating BIC for ATAC-seq data used in the paper **\"Analysis of chromatin organinization and gene expression in T cells identifies functional genes for rheumatoid arthritis\"** by *Jing Yang, Amanda McGovern, Paul Martin, Kate Duffus, Xiangyu Ge, Peyman Zarrineh, Andrew P Morris, Antony Adamson, Peter Fraser, Magnus Rattray & Stephen Eyre*.\n",
    "\n",
    "Author : *Jing Yang*  <br />\n",
    "Date: 01/05/2020 <br />\n",
    "For any questions about the code, please drop me a line at Jing.Yang@manchester.ac.uk"
   ]
  },
  {
   "cell_type": "markdown",
   "metadata": {},
   "source": [
    "### loading gptk package for Gaussian process regression"
   ]
  },
  {
   "cell_type": "code",
   "execution_count": 4,
   "metadata": {
    "scrolled": true
   },
   "outputs": [
    {
     "name": "stderr",
     "output_type": "stream",
     "text": [
      "Loading required package: Matrix\n",
      "\n",
      "Loading required package: fields\n",
      "\n",
      "Loading required package: spam\n",
      "\n",
      "Loading required package: dotCall64\n",
      "\n",
      "Loading required package: grid\n",
      "\n",
      "Spam version 2.5-1 (2019-12-12) is loaded.\n",
      "Type 'help( Spam)' or 'demo( spam)' for a short introduction \n",
      "and overview of this package.\n",
      "Help for individual functions is also obtained by adding the\n",
      "suffix '.spam' to the function name, e.g. 'help( chol.spam)'.\n",
      "\n",
      "\n",
      "Attaching package: ‘spam’\n",
      "\n",
      "\n",
      "The following object is masked from ‘package:Matrix’:\n",
      "\n",
      "    det\n",
      "\n",
      "\n",
      "The following objects are masked from ‘package:base’:\n",
      "\n",
      "    backsolve, forwardsolve\n",
      "\n",
      "\n",
      "Loading required package: maps\n",
      "\n",
      "See https://github.com/NCAR/Fields for\n",
      " an extensive vignette, other supplements and source code \n",
      "\n",
      "── \u001b[1mAttaching packages\u001b[22m ─────────────────────────────────────── tidyverse 1.3.0 ──\n",
      "\n",
      "\u001b[32m✔\u001b[39m \u001b[34mggplot2\u001b[39m 3.3.1     \u001b[32m✔\u001b[39m \u001b[34mpurrr  \u001b[39m 0.3.4\n",
      "\u001b[32m✔\u001b[39m \u001b[34mtibble \u001b[39m 3.0.1     \u001b[32m✔\u001b[39m \u001b[34mdplyr  \u001b[39m 1.0.0\n",
      "\u001b[32m✔\u001b[39m \u001b[34mtidyr  \u001b[39m 1.1.0     \u001b[32m✔\u001b[39m \u001b[34mstringr\u001b[39m 1.4.0\n",
      "\u001b[32m✔\u001b[39m \u001b[34mreadr  \u001b[39m 1.3.1     \u001b[32m✔\u001b[39m \u001b[34mforcats\u001b[39m 0.5.0\n",
      "\n",
      "── \u001b[1mConflicts\u001b[22m ────────────────────────────────────────── tidyverse_conflicts() ──\n",
      "\u001b[31m✖\u001b[39m \u001b[34mtidyr\u001b[39m::\u001b[32mexpand()\u001b[39m masks \u001b[34mMatrix\u001b[39m::expand()\n",
      "\u001b[31m✖\u001b[39m \u001b[34mdplyr\u001b[39m::\u001b[32mfilter()\u001b[39m masks \u001b[34mstats\u001b[39m::filter()\n",
      "\u001b[31m✖\u001b[39m \u001b[34mdplyr\u001b[39m::\u001b[32mlag()\u001b[39m    masks \u001b[34mstats\u001b[39m::lag()\n",
      "\u001b[31m✖\u001b[39m \u001b[34mpurrr\u001b[39m::\u001b[32mmap()\u001b[39m    masks \u001b[34mmaps\u001b[39m::map()\n",
      "\u001b[31m✖\u001b[39m \u001b[34mtidyr\u001b[39m::\u001b[32mpack()\u001b[39m   masks \u001b[34mMatrix\u001b[39m::pack()\n",
      "\u001b[31m✖\u001b[39m \u001b[34mtidyr\u001b[39m::\u001b[32munpack()\u001b[39m masks \u001b[34mMatrix\u001b[39m::unpack()\n",
      "\n",
      "\n",
      "Attaching package: ‘gridExtra’\n",
      "\n",
      "\n",
      "The following object is masked from ‘package:dplyr’:\n",
      "\n",
      "    combine\n",
      "\n",
      "\n"
     ]
    }
   ],
   "source": [
    "library(gptk)\n",
    "library(tidyverse)\n",
    "library(gridExtra)"
   ]
  },
  {
   "cell_type": "markdown",
   "metadata": {},
   "source": [
    "### read ATACseq data"
   ]
  },
  {
   "cell_type": "code",
   "execution_count": 5,
   "metadata": {},
   "outputs": [],
   "source": [
    "data <- read.table('data/gene_normalized_new.csv',sep=',',header=T)"
   ]
  },
  {
   "cell_type": "code",
   "execution_count": 6,
   "metadata": {},
   "outputs": [
    {
     "data": {
      "text/html": [
       "<table>\n",
       "<caption>A data.frame: 6 × 16</caption>\n",
       "<thead>\n",
       "\t<tr><th></th><th scope=col>ENSG</th><th scope=col>chr</th><th scope=col>ENSGStart</th><th scope=col>ENSGEnd</th><th scope=col>T01</th><th scope=col>T201</th><th scope=col>T601</th><th scope=col>T2H1</th><th scope=col>T4H1</th><th scope=col>T24H1</th><th scope=col>T02</th><th scope=col>T202</th><th scope=col>T602</th><th scope=col>T2H2</th><th scope=col>T4H2</th><th scope=col>T24H2</th></tr>\n",
       "\t<tr><th></th><th scope=col>&lt;fct&gt;</th><th scope=col>&lt;fct&gt;</th><th scope=col>&lt;int&gt;</th><th scope=col>&lt;int&gt;</th><th scope=col>&lt;dbl&gt;</th><th scope=col>&lt;dbl&gt;</th><th scope=col>&lt;dbl&gt;</th><th scope=col>&lt;dbl&gt;</th><th scope=col>&lt;dbl&gt;</th><th scope=col>&lt;dbl&gt;</th><th scope=col>&lt;dbl&gt;</th><th scope=col>&lt;dbl&gt;</th><th scope=col>&lt;dbl&gt;</th><th scope=col>&lt;dbl&gt;</th><th scope=col>&lt;dbl&gt;</th><th scope=col>&lt;dbl&gt;</th></tr>\n",
       "</thead>\n",
       "<tbody>\n",
       "\t<tr><th scope=row>1</th><td>ENSG00000000003</td><td>chrX </td><td>100627109</td><td>100639991</td><td> 5.041981</td><td> 5.062369</td><td> 4.178733</td><td> 3.377680</td><td> 1.986341</td><td> 5.324410</td><td> 5.177855</td><td> 3.688929</td><td> 3.295454</td><td> 5.253633</td><td> 4.226941</td><td> 4.335357</td></tr>\n",
       "\t<tr><th scope=row>2</th><td>ENSG00000000419</td><td>chr20</td><td> 50934867</td><td> 50958555</td><td>10.556373</td><td>11.059740</td><td>10.784106</td><td>10.332645</td><td>10.273519</td><td>10.419062</td><td>11.032946</td><td>11.032608</td><td>10.768947</td><td>10.781390</td><td>10.590316</td><td>10.778582</td></tr>\n",
       "\t<tr><th scope=row>3</th><td>ENSG00000000457</td><td>chr1 </td><td>169849631</td><td>169894267</td><td> 8.074191</td><td> 7.582473</td><td> 9.025557</td><td> 9.324986</td><td> 9.353563</td><td> 9.026321</td><td> 7.985902</td><td> 8.162494</td><td> 9.417072</td><td> 9.456439</td><td> 9.271116</td><td> 8.889596</td></tr>\n",
       "\t<tr><th scope=row>4</th><td>ENSG00000000460</td><td>chr1 </td><td>169662007</td><td>169854080</td><td> 9.029226</td><td> 8.655751</td><td> 9.993021</td><td>12.866744</td><td>14.215491</td><td>10.871978</td><td> 8.287388</td><td> 8.345116</td><td>10.056483</td><td>11.656388</td><td>13.905748</td><td>11.378513</td></tr>\n",
       "\t<tr><th scope=row>5</th><td>ENSG00000000938</td><td>chr1 </td><td> 27612064</td><td> 27635277</td><td> 9.680082</td><td> 9.113586</td><td> 9.108392</td><td> 9.024590</td><td> 9.395413</td><td> 7.303896</td><td> 5.479472</td><td> 5.918468</td><td> 5.355478</td><td> 4.750553</td><td> 5.187896</td><td> 2.535247</td></tr>\n",
       "\t<tr><th scope=row>6</th><td>ENSG00000000971</td><td>chr1 </td><td>196651878</td><td>196747504</td><td> 6.360314</td><td> 5.424491</td><td> 5.394533</td><td> 5.269632</td><td> 4.710372</td><td> 4.385639</td><td> 5.551854</td><td> 5.941924</td><td> 5.636894</td><td> 5.042941</td><td> 4.976733</td><td> 4.017008</td></tr>\n",
       "</tbody>\n",
       "</table>\n"
      ],
      "text/latex": [
       "A data.frame: 6 × 16\n",
       "\\begin{tabular}{r|llllllllllllllll}\n",
       "  & ENSG & chr & ENSGStart & ENSGEnd & T01 & T201 & T601 & T2H1 & T4H1 & T24H1 & T02 & T202 & T602 & T2H2 & T4H2 & T24H2\\\\\n",
       "  & <fct> & <fct> & <int> & <int> & <dbl> & <dbl> & <dbl> & <dbl> & <dbl> & <dbl> & <dbl> & <dbl> & <dbl> & <dbl> & <dbl> & <dbl>\\\\\n",
       "\\hline\n",
       "\t1 & ENSG00000000003 & chrX  & 100627109 & 100639991 &  5.041981 &  5.062369 &  4.178733 &  3.377680 &  1.986341 &  5.324410 &  5.177855 &  3.688929 &  3.295454 &  5.253633 &  4.226941 &  4.335357\\\\\n",
       "\t2 & ENSG00000000419 & chr20 &  50934867 &  50958555 & 10.556373 & 11.059740 & 10.784106 & 10.332645 & 10.273519 & 10.419062 & 11.032946 & 11.032608 & 10.768947 & 10.781390 & 10.590316 & 10.778582\\\\\n",
       "\t3 & ENSG00000000457 & chr1  & 169849631 & 169894267 &  8.074191 &  7.582473 &  9.025557 &  9.324986 &  9.353563 &  9.026321 &  7.985902 &  8.162494 &  9.417072 &  9.456439 &  9.271116 &  8.889596\\\\\n",
       "\t4 & ENSG00000000460 & chr1  & 169662007 & 169854080 &  9.029226 &  8.655751 &  9.993021 & 12.866744 & 14.215491 & 10.871978 &  8.287388 &  8.345116 & 10.056483 & 11.656388 & 13.905748 & 11.378513\\\\\n",
       "\t5 & ENSG00000000938 & chr1  &  27612064 &  27635277 &  9.680082 &  9.113586 &  9.108392 &  9.024590 &  9.395413 &  7.303896 &  5.479472 &  5.918468 &  5.355478 &  4.750553 &  5.187896 &  2.535247\\\\\n",
       "\t6 & ENSG00000000971 & chr1  & 196651878 & 196747504 &  6.360314 &  5.424491 &  5.394533 &  5.269632 &  4.710372 &  4.385639 &  5.551854 &  5.941924 &  5.636894 &  5.042941 &  4.976733 &  4.017008\\\\\n",
       "\\end{tabular}\n"
      ],
      "text/markdown": [
       "\n",
       "A data.frame: 6 × 16\n",
       "\n",
       "| <!--/--> | ENSG &lt;fct&gt; | chr &lt;fct&gt; | ENSGStart &lt;int&gt; | ENSGEnd &lt;int&gt; | T01 &lt;dbl&gt; | T201 &lt;dbl&gt; | T601 &lt;dbl&gt; | T2H1 &lt;dbl&gt; | T4H1 &lt;dbl&gt; | T24H1 &lt;dbl&gt; | T02 &lt;dbl&gt; | T202 &lt;dbl&gt; | T602 &lt;dbl&gt; | T2H2 &lt;dbl&gt; | T4H2 &lt;dbl&gt; | T24H2 &lt;dbl&gt; |\n",
       "|---|---|---|---|---|---|---|---|---|---|---|---|---|---|---|---|---|\n",
       "| 1 | ENSG00000000003 | chrX  | 100627109 | 100639991 |  5.041981 |  5.062369 |  4.178733 |  3.377680 |  1.986341 |  5.324410 |  5.177855 |  3.688929 |  3.295454 |  5.253633 |  4.226941 |  4.335357 |\n",
       "| 2 | ENSG00000000419 | chr20 |  50934867 |  50958555 | 10.556373 | 11.059740 | 10.784106 | 10.332645 | 10.273519 | 10.419062 | 11.032946 | 11.032608 | 10.768947 | 10.781390 | 10.590316 | 10.778582 |\n",
       "| 3 | ENSG00000000457 | chr1  | 169849631 | 169894267 |  8.074191 |  7.582473 |  9.025557 |  9.324986 |  9.353563 |  9.026321 |  7.985902 |  8.162494 |  9.417072 |  9.456439 |  9.271116 |  8.889596 |\n",
       "| 4 | ENSG00000000460 | chr1  | 169662007 | 169854080 |  9.029226 |  8.655751 |  9.993021 | 12.866744 | 14.215491 | 10.871978 |  8.287388 |  8.345116 | 10.056483 | 11.656388 | 13.905748 | 11.378513 |\n",
       "| 5 | ENSG00000000938 | chr1  |  27612064 |  27635277 |  9.680082 |  9.113586 |  9.108392 |  9.024590 |  9.395413 |  7.303896 |  5.479472 |  5.918468 |  5.355478 |  4.750553 |  5.187896 |  2.535247 |\n",
       "| 6 | ENSG00000000971 | chr1  | 196651878 | 196747504 |  6.360314 |  5.424491 |  5.394533 |  5.269632 |  4.710372 |  4.385639 |  5.551854 |  5.941924 |  5.636894 |  5.042941 |  4.976733 |  4.017008 |\n",
       "\n"
      ],
      "text/plain": [
       "  ENSG            chr   ENSGStart ENSGEnd   T01       T201      T601     \n",
       "1 ENSG00000000003 chrX  100627109 100639991  5.041981  5.062369  4.178733\n",
       "2 ENSG00000000419 chr20  50934867  50958555 10.556373 11.059740 10.784106\n",
       "3 ENSG00000000457 chr1  169849631 169894267  8.074191  7.582473  9.025557\n",
       "4 ENSG00000000460 chr1  169662007 169854080  9.029226  8.655751  9.993021\n",
       "5 ENSG00000000938 chr1   27612064  27635277  9.680082  9.113586  9.108392\n",
       "6 ENSG00000000971 chr1  196651878 196747504  6.360314  5.424491  5.394533\n",
       "  T2H1      T4H1      T24H1     T02       T202      T602      T2H2     \n",
       "1  3.377680  1.986341  5.324410  5.177855  3.688929  3.295454  5.253633\n",
       "2 10.332645 10.273519 10.419062 11.032946 11.032608 10.768947 10.781390\n",
       "3  9.324986  9.353563  9.026321  7.985902  8.162494  9.417072  9.456439\n",
       "4 12.866744 14.215491 10.871978  8.287388  8.345116 10.056483 11.656388\n",
       "5  9.024590  9.395413  7.303896  5.479472  5.918468  5.355478  4.750553\n",
       "6  5.269632  4.710372  4.385639  5.551854  5.941924  5.636894  5.042941\n",
       "  T4H2      T24H2    \n",
       "1  4.226941  4.335357\n",
       "2 10.590316 10.778582\n",
       "3  9.271116  8.889596\n",
       "4 13.905748 11.378513\n",
       "5  5.187896  2.535247\n",
       "6  4.976733  4.017008"
      ]
     },
     "metadata": {},
     "output_type": "display_data"
    }
   ],
   "source": [
    "head(data)"
   ]
  },
  {
   "cell_type": "code",
   "execution_count": 7,
   "metadata": {},
   "outputs": [],
   "source": [
    "idx_rep1 <- paste('T', c('0','20','60','2H','4H','24H'), 1, sep='')\n",
    "idx_rep2 <- paste('T', c('0','20','60','2H','4H','24H'), 2, sep='')\n"
   ]
  },
  {
   "cell_type": "code",
   "execution_count": 9,
   "metadata": {},
   "outputs": [
    {
     "data": {
      "text/html": [
       "<style>\n",
       ".list-inline {list-style: none; margin:0; padding: 0}\n",
       ".list-inline>li {display: inline-block}\n",
       ".list-inline>li:not(:last-child)::after {content: \"\\00b7\"; padding: 0 .5ex}\n",
       "</style>\n",
       "<ol class=list-inline><li>'T02'</li><li>'T202'</li><li>'T602'</li><li>'T2H2'</li><li>'T4H2'</li><li>'T24H2'</li></ol>\n"
      ],
      "text/latex": [
       "\\begin{enumerate*}\n",
       "\\item 'T02'\n",
       "\\item 'T202'\n",
       "\\item 'T602'\n",
       "\\item 'T2H2'\n",
       "\\item 'T4H2'\n",
       "\\item 'T24H2'\n",
       "\\end{enumerate*}\n"
      ],
      "text/markdown": [
       "1. 'T02'\n",
       "2. 'T202'\n",
       "3. 'T602'\n",
       "4. 'T2H2'\n",
       "5. 'T4H2'\n",
       "6. 'T24H2'\n",
       "\n",
       "\n"
      ],
      "text/plain": [
       "[1] \"T02\"   \"T202\"  \"T602\"  \"T2H2\"  \"T4H2\"  \"T24H2\""
      ]
     },
     "metadata": {},
     "output_type": "display_data"
    }
   ],
   "source": [
    "idx_rep2"
   ]
  },
  {
   "cell_type": "markdown",
   "metadata": {},
   "source": [
    "### normalized ATACseq data"
   ]
  },
  {
   "cell_type": "code",
   "execution_count": 10,
   "metadata": {},
   "outputs": [],
   "source": [
    "normalized_rep1 <- t(scale(t(data[,idx_rep1]), center=T, scale=T))\n",
    "normalized_rep2 <- t(scale(t(data[,idx_rep2]), center=T, scale=T))\n",
    "normalized_data <- cbind(normalized_rep1, normalized_rep2)"
   ]
  },
  {
   "cell_type": "code",
   "execution_count": 11,
   "metadata": {
    "scrolled": true
   },
   "outputs": [
    {
     "data": {
      "text/html": [
       "<table>\n",
       "<caption>A matrix: 6 × 12 of type dbl</caption>\n",
       "<thead>\n",
       "\t<tr><th scope=col>T01</th><th scope=col>T201</th><th scope=col>T601</th><th scope=col>T2H1</th><th scope=col>T4H1</th><th scope=col>T24H1</th><th scope=col>T02</th><th scope=col>T202</th><th scope=col>T602</th><th scope=col>T2H2</th><th scope=col>T4H2</th><th scope=col>T24H2</th></tr>\n",
       "</thead>\n",
       "<tbody>\n",
       "\t<tr><td> 0.68367203</td><td> 0.6995106</td><td> 0.01306173</td><td>-0.60923250</td><td>-1.6900877</td><td> 0.90307589</td><td> 1.0834984</td><td>-0.8185590</td><td>-1.3212106</td><td> 1.1803018</td><td>-0.1312644</td><td> 0.007233663</td></tr>\n",
       "\t<tr><td>-0.04829461</td><td> 1.6242392</td><td> 0.70839053</td><td>-0.79167122</td><td>-0.9881287</td><td>-0.50453517</td><td> 1.1733125</td><td> 1.1713533</td><td>-0.3589981</td><td>-0.2867780</td><td>-1.3958124</td><td>-0.303077301</td></tr>\n",
       "\t<tr><td>-0.89992044</td><td>-1.5734576</td><td> 0.40322396</td><td> 0.81337007</td><td> 0.8525137</td><td> 0.40427030</td><td>-1.3589754</td><td>-1.0856029</td><td> 0.8565337</td><td> 0.9174757</td><td> 0.6305888</td><td> 0.039980104</td></tr>\n",
       "\t<tr><td>-0.86773867</td><td>-1.0374602</td><td>-0.42975359</td><td> 0.87617612</td><td> 1.4890983</td><td>-0.03032199</td><td>-1.0717937</td><td>-1.0450963</td><td>-0.2536433</td><td> 0.4862613</td><td> 1.5265188</td><td> 0.357753167</td></tr>\n",
       "\t<tr><td> 0.88767224</td><td> 0.2103451</td><td> 0.20413462</td><td> 0.10393748</td><td> 0.5473103</td><td>-1.95339972</td><td> 0.5043608</td><td> 0.8683552</td><td> 0.4015517</td><td>-0.1000224</td><td> 0.2626005</td><td>-1.936845909</td></tr>\n",
       "\t<tr><td> 1.61811956</td><td> 0.2450243</td><td> 0.20106705</td><td> 0.01780579</td><td>-0.8027747</td><td>-1.27924194</td><td> 0.5224002</td><td> 1.0927187</td><td> 0.6467356</td><td>-0.2216801</td><td>-0.3184822</td><td>-1.721692187</td></tr>\n",
       "</tbody>\n",
       "</table>\n"
      ],
      "text/latex": [
       "A matrix: 6 × 12 of type dbl\n",
       "\\begin{tabular}{llllllllllll}\n",
       " T01 & T201 & T601 & T2H1 & T4H1 & T24H1 & T02 & T202 & T602 & T2H2 & T4H2 & T24H2\\\\\n",
       "\\hline\n",
       "\t  0.68367203 &  0.6995106 &  0.01306173 & -0.60923250 & -1.6900877 &  0.90307589 &  1.0834984 & -0.8185590 & -1.3212106 &  1.1803018 & -0.1312644 &  0.007233663\\\\\n",
       "\t -0.04829461 &  1.6242392 &  0.70839053 & -0.79167122 & -0.9881287 & -0.50453517 &  1.1733125 &  1.1713533 & -0.3589981 & -0.2867780 & -1.3958124 & -0.303077301\\\\\n",
       "\t -0.89992044 & -1.5734576 &  0.40322396 &  0.81337007 &  0.8525137 &  0.40427030 & -1.3589754 & -1.0856029 &  0.8565337 &  0.9174757 &  0.6305888 &  0.039980104\\\\\n",
       "\t -0.86773867 & -1.0374602 & -0.42975359 &  0.87617612 &  1.4890983 & -0.03032199 & -1.0717937 & -1.0450963 & -0.2536433 &  0.4862613 &  1.5265188 &  0.357753167\\\\\n",
       "\t  0.88767224 &  0.2103451 &  0.20413462 &  0.10393748 &  0.5473103 & -1.95339972 &  0.5043608 &  0.8683552 &  0.4015517 & -0.1000224 &  0.2626005 & -1.936845909\\\\\n",
       "\t  1.61811956 &  0.2450243 &  0.20106705 &  0.01780579 & -0.8027747 & -1.27924194 &  0.5224002 &  1.0927187 &  0.6467356 & -0.2216801 & -0.3184822 & -1.721692187\\\\\n",
       "\\end{tabular}\n"
      ],
      "text/markdown": [
       "\n",
       "A matrix: 6 × 12 of type dbl\n",
       "\n",
       "| T01 | T201 | T601 | T2H1 | T4H1 | T24H1 | T02 | T202 | T602 | T2H2 | T4H2 | T24H2 |\n",
       "|---|---|---|---|---|---|---|---|---|---|---|---|\n",
       "|  0.68367203 |  0.6995106 |  0.01306173 | -0.60923250 | -1.6900877 |  0.90307589 |  1.0834984 | -0.8185590 | -1.3212106 |  1.1803018 | -0.1312644 |  0.007233663 |\n",
       "| -0.04829461 |  1.6242392 |  0.70839053 | -0.79167122 | -0.9881287 | -0.50453517 |  1.1733125 |  1.1713533 | -0.3589981 | -0.2867780 | -1.3958124 | -0.303077301 |\n",
       "| -0.89992044 | -1.5734576 |  0.40322396 |  0.81337007 |  0.8525137 |  0.40427030 | -1.3589754 | -1.0856029 |  0.8565337 |  0.9174757 |  0.6305888 |  0.039980104 |\n",
       "| -0.86773867 | -1.0374602 | -0.42975359 |  0.87617612 |  1.4890983 | -0.03032199 | -1.0717937 | -1.0450963 | -0.2536433 |  0.4862613 |  1.5265188 |  0.357753167 |\n",
       "|  0.88767224 |  0.2103451 |  0.20413462 |  0.10393748 |  0.5473103 | -1.95339972 |  0.5043608 |  0.8683552 |  0.4015517 | -0.1000224 |  0.2626005 | -1.936845909 |\n",
       "|  1.61811956 |  0.2450243 |  0.20106705 |  0.01780579 | -0.8027747 | -1.27924194 |  0.5224002 |  1.0927187 |  0.6467356 | -0.2216801 | -0.3184822 | -1.721692187 |\n",
       "\n"
      ],
      "text/plain": [
       "     T01         T201       T601        T2H1        T4H1       T24H1      \n",
       "[1,]  0.68367203  0.6995106  0.01306173 -0.60923250 -1.6900877  0.90307589\n",
       "[2,] -0.04829461  1.6242392  0.70839053 -0.79167122 -0.9881287 -0.50453517\n",
       "[3,] -0.89992044 -1.5734576  0.40322396  0.81337007  0.8525137  0.40427030\n",
       "[4,] -0.86773867 -1.0374602 -0.42975359  0.87617612  1.4890983 -0.03032199\n",
       "[5,]  0.88767224  0.2103451  0.20413462  0.10393748  0.5473103 -1.95339972\n",
       "[6,]  1.61811956  0.2450243  0.20106705  0.01780579 -0.8027747 -1.27924194\n",
       "     T02        T202       T602       T2H2       T4H2       T24H2       \n",
       "[1,]  1.0834984 -0.8185590 -1.3212106  1.1803018 -0.1312644  0.007233663\n",
       "[2,]  1.1733125  1.1713533 -0.3589981 -0.2867780 -1.3958124 -0.303077301\n",
       "[3,] -1.3589754 -1.0856029  0.8565337  0.9174757  0.6305888  0.039980104\n",
       "[4,] -1.0717937 -1.0450963 -0.2536433  0.4862613  1.5265188  0.357753167\n",
       "[5,]  0.5043608  0.8683552  0.4015517 -0.1000224  0.2626005 -1.936845909\n",
       "[6,]  0.5224002  1.0927187  0.6467356 -0.2216801 -0.3184822 -1.721692187"
      ]
     },
     "metadata": {},
     "output_type": "display_data"
    }
   ],
   "source": [
    "head(normalized_data)"
   ]
  },
  {
   "cell_type": "markdown",
   "metadata": {},
   "source": [
    "### use logscaled time points for GP regression "
   ]
  },
  {
   "cell_type": "code",
   "execution_count": 14,
   "metadata": {},
   "outputs": [],
   "source": [
    "time0 <- log(c(0,20,60,120,240,1440)+10)\n",
    "times_data <- c(time0, time0)"
   ]
  },
  {
   "cell_type": "code",
   "execution_count": 19,
   "metadata": {},
   "outputs": [],
   "source": [
    "x <- matrix(times_data)\n",
    "lld_rbf <- numeric(0)\n",
    "lld_static <- numeric(0)\n",
    "\n",
    "for (ii in (1:dim(normalized_data)[1])) {  ## this calculation will take a long time\n",
    "  y <- matrix(normalized_data[ii,])\n",
    "  model0 <- list() ## Allocate space for model.\n",
    "  options=gpOptions(approx=\"ftc\")\n",
    "  options$kern = list(type=\"cmpnd\",comp=list(list(type=\"rbf\"),list(type=\"white\"))) ### use rbf+white nosie kernel for model 0\n",
    "  ## Optimise GP log likelihoods.\n",
    "  model0 <- gpCreate(dim(x)[2], dim(y)[2], x, y, options)\n",
    "  model0 <- gpOptimise(model0,0)\n",
    "  \n",
    "  lld_rbf[ii] <- gpLogLikelihood(model0) ### loglikelihood ratio for rbf model\n",
    "  \n",
    "  model1 <- list() ## Allocate space for model.\n",
    "  options=gpOptions(approx=\"ftc\")\n",
    "  options$kern = list(type=\"white\") ### use white noise kernel for model 1\n",
    "  ## Optimise GP log likelihoods.\n",
    "  model1 <- gpCreate(dim(x)[2], dim(y)[2], x, y, options)\n",
    "  model1 <- gpOptimise(model1,0)\n",
    "  lld_static[ii] <- gpLogLikelihood(model1) ### loglikelihood ratio for static model\n",
    "}\n",
    "\n",
    "\n"
   ]
  },
  {
   "cell_type": "markdown",
   "metadata": {},
   "source": [
    "### an example for the 4th data point"
   ]
  },
  {
   "cell_type": "raw",
   "metadata": {},
   "source": [
    "\n",
    "y <- matrix(normalized_data[4,])\n",
    "model0 <- list() ## Allocate space for model.\n",
    "options=gpOptions(approx=\"ftc\")\n",
    "options$kern = list(type=\"cmpnd\",comp=list(list(type=\"rbf\"),list(type=\"white\"))) ### use rbf+white nosie kernel for model 0\n",
    "## Optimise GP log likelihoods.\n",
    "model0 <- gpCreate(dim(x)[2], dim(y)[2], x, y, options)\n",
    "model0 <- gpOptimise(model0,0)\n",
    "    \n",
    "model1 <- list() ## Allocate space for model.\n",
    "options=gpOptions(approx=\"ftc\")\n",
    "options$kern = list(type=\"white\") ### use white noise kernel for model 1\n",
    "## Optimise GP log likelihoods.\n",
    "model1 <- gpCreate(dim(x)[2], dim(y)[2], x, y, options)\n",
    "model1 <- gpOptimise(model1,0)\n",
    "\n",
    "\n",
    "tstar <- matrix(seq(min(times_data)-0.5, max(times_data)+0.5, length=100), ncol=1)\n",
    "\n",
    "Kx0 <- kernCompute(model0$kern, x, tstar)\n",
    "Ktrain0 <- kernCompute(model0$kern, x)\n",
    "invKtrain0 <- solve(Ktrain0)\n",
    "yPred0 <- t(Kx0) %*% invKtrain0 %*% y\n",
    "yVar0 <- diag(abs(kernCompute(model0$kern, tstar) - t(Kx0) %*% invKtrain0 %*% Kx0))\n",
    "data_forplot_rbf1 <- data.frame(x=tstar, yupper = yPred0+sqrt(abs(yVar0)), ylower= yPred0-sqrt(abs(yVar0)), yPred = yPred0)\n",
    "data_forplot_rbf2 <- data.frame(x=x,y=y)\n",
    "p1 <- ggplot(data=data_forplot_rbf1,aes(x=tstar)) + \n",
    "   geom_ribbon(aes(ymin = ylower, ymax = yupper), fill = \"lightblue\", alpha=0.6) +\n",
    "   geom_line(aes(y = yPred ),size=1) + geom_point(data=data_forplot_rbf2, aes(x=x,y=y),size=3) +\n",
    "   theme(legend.position=\"none\") + theme(axis.title.x=element_blank(),\n",
    "        axis.title.y=element_blank(),text = element_text(size=12),\n",
    "        panel.grid.major = element_blank(), panel.grid.minor = element_blank(),\n",
    "panel.background = element_blank(), axis.line = element_line(colour = \"black\")) + xlab('Time (logscaled)') + \n",
    "ylab('Normalized data') + ggtitle('RBF model fitting illustration')\n",
    "\n",
    "\n",
    "Kx1 <- kernCompute(model1$kern, x, tstar)\n",
    "Ktrain1 <- kernCompute(model1$kern, x)\n",
    "invKtrain1 <- solve(Ktrain1)\n",
    "yPred1 <- t(Kx1) %*% invKtrain1 %*% y\n",
    "yVar1 <- diag(abs(kernCompute(model1$kern, tstar) - t(Kx1) %*% invKtrain1 %*% Kx1))\n",
    "data_forplot_noise1 <- data.frame(x=tstar, yupper = yPred1+sqrt(abs(yVar1)), ylower= yPred1-sqrt(abs(yVar1)), yPred = yPred1)\n",
    "data_forplot_noise2 <- data.frame(x=x,y=y)\n",
    "\n",
    "\n",
    "p2 <- ggplot(data=data_forplot_noise1,aes(x=tstar)) + \n",
    "   geom_ribbon(aes(ymin = ylower, ymax = yupper), fill = \"lightblue\", alpha=0.6) +\n",
    "   geom_line(aes(y = yPred ),size=1) + geom_point(data=data_forplot_noise2, aes(x=x,y=y),size=3) +\n",
    "   theme(legend.position=\"none\") + theme(axis.title.x=element_blank(),\n",
    "        axis.title.y=element_blank(),text = element_text(size=12),\n",
    "        panel.grid.major = element_blank(), panel.grid.minor = element_blank(),\n",
    "panel.background = element_blank(), axis.line = element_line(colour = \"black\")) + xlab('Time (logscaled)') + \n",
    "ylab('Normalized data') + ggtitle('Static model fitting illustration')\n",
    "\n",
    "grid.arrange(p1,p2)\n"
   ]
  },
  {
   "cell_type": "markdown",
   "metadata": {},
   "source": [
    "### Get Loglikelihood ratio results: LR = -2 ln( L<sub>RBF</sub> - L<sub>static</sub>)"
   ]
  },
  {
   "cell_type": "code",
   "execution_count": 20,
   "metadata": {},
   "outputs": [],
   "source": [
    "LR_data <- -2*(lld_rbf-lld_static) ### loglikelihood ratio for the data \n"
   ]
  },
  {
   "cell_type": "code",
   "execution_count": null,
   "metadata": {},
   "outputs": [],
   "source": []
  },
  {
   "cell_type": "markdown",
   "metadata": {},
   "source": [
    "### Get BIC results: BIC = k ln(n) -2ln(L)\n",
    "k is the number of parameters used in each model, n is the sample size and L is the maximized likelihood "
   ]
  },
  {
   "cell_type": "code",
   "execution_count": 21,
   "metadata": {},
   "outputs": [],
   "source": [
    "### BIC_difference is used to compare the BIC difference between RBF model and the static model. Smaller BIC is preferred\n",
    "BIC_rbf <- 2*log(6) - 2*lld_rbf\n",
    "BIC_static <- log(6) - 2*lld_static\n",
    "BIC_difference <- BIC_rbf - BIC_static\n"
   ]
  },
  {
   "cell_type": "code",
   "execution_count": 22,
   "metadata": {},
   "outputs": [],
   "source": [
    "data$BIC <- BIC_difference\n",
    "data$LR <- LR_data"
   ]
  },
  {
   "cell_type": "code",
   "execution_count": 23,
   "metadata": {},
   "outputs": [],
   "source": [
    "write.table(file='gene_normalized_new_withLRandBIC.txt',data, quote=F, row.names=F)\n",
    "write.table(file='gene_normalized_new_withLRandBIC.csv',data, quote=F, row.names=F,sep=',')\n"
   ]
  },
  {
   "cell_type": "code",
   "execution_count": null,
   "metadata": {},
   "outputs": [],
   "source": []
  }
 ],
 "metadata": {
  "kernelspec": {
   "display_name": "R",
   "language": "R",
   "name": "ir"
  },
  "language_info": {
   "codemirror_mode": "r",
   "file_extension": ".r",
   "mimetype": "text/x-r-source",
   "name": "R",
   "pygments_lexer": "r",
   "version": "3.6.3"
  }
 },
 "nbformat": 4,
 "nbformat_minor": 2
}
