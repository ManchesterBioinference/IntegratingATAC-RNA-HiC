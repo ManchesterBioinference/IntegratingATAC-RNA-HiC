{
 "cells": [
  {
   "cell_type": "markdown",
   "metadata": {},
   "source": [
    "## Jupyter notebook for plotting PCA of RNA-seq time course data\n",
    "\n",
    "This notebook is used to plot the PCA result of RNA-seq time couse data used in the paper **\\\"Analysis of chromatin organinization and gene expression in T cells identifies functional genes for rheumatoid arthritis\\\"** by *Jing Yang, Amanda McGovern, Paul Martin, Kate Duffus, Xiangyu Ge, Peyman Zarrineh, Andrew P Morris, Antony Adamson, Peter Fraser, Magnus Rattray & Stephen Eyre*\n",
    "\n",
    "Author : *Jing Yang*  <br />\n",
    "Date: 01-05-2019 <br />\n",
    "For any questions about the code, please drop me a line at Jing.Yang@manchester.ac.uk"
   ]
  },
  {
   "cell_type": "code",
   "execution_count": 1,
   "metadata": {},
   "outputs": [
    {
     "name": "stderr",
     "output_type": "stream",
     "text": [
      "── \u001b[1mAttaching packages\u001b[22m ─────────────────────────────────────── tidyverse 1.3.0 ──\n",
      "\n",
      "\u001b[32m✔\u001b[39m \u001b[34mggplot2\u001b[39m 3.3.1     \u001b[32m✔\u001b[39m \u001b[34mpurrr  \u001b[39m 0.3.4\n",
      "\u001b[32m✔\u001b[39m \u001b[34mtibble \u001b[39m 3.0.1     \u001b[32m✔\u001b[39m \u001b[34mdplyr  \u001b[39m 1.0.0\n",
      "\u001b[32m✔\u001b[39m \u001b[34mtidyr  \u001b[39m 1.1.0     \u001b[32m✔\u001b[39m \u001b[34mstringr\u001b[39m 1.4.0\n",
      "\u001b[32m✔\u001b[39m \u001b[34mreadr  \u001b[39m 1.3.1     \u001b[32m✔\u001b[39m \u001b[34mforcats\u001b[39m 0.5.0\n",
      "\n",
      "── \u001b[1mConflicts\u001b[22m ────────────────────────────────────────── tidyverse_conflicts() ──\n",
      "\u001b[31m✖\u001b[39m \u001b[34mdplyr\u001b[39m::\u001b[32mfilter()\u001b[39m masks \u001b[34mstats\u001b[39m::filter()\n",
      "\u001b[31m✖\u001b[39m \u001b[34mdplyr\u001b[39m::\u001b[32mlag()\u001b[39m    masks \u001b[34mstats\u001b[39m::lag()\n",
      "\n",
      "\n",
      "Attaching package: ‘scales’\n",
      "\n",
      "\n",
      "The following object is masked from ‘package:purrr’:\n",
      "\n",
      "    discard\n",
      "\n",
      "\n",
      "The following object is masked from ‘package:readr’:\n",
      "\n",
      "    col_factor\n",
      "\n",
      "\n"
     ]
    }
   ],
   "source": [
    "library(tidyverse)\n",
    "library(scales)"
   ]
  },
  {
   "cell_type": "code",
   "execution_count": 2,
   "metadata": {},
   "outputs": [],
   "source": [
    "rnaseq_data <- read.csv('data/gene_normalized.csv', header=T)"
   ]
  },
  {
   "cell_type": "code",
   "execution_count": 3,
   "metadata": {},
   "outputs": [
    {
     "data": {
      "text/html": [
       "<style>\n",
       ".list-inline {list-style: none; margin:0; padding: 0}\n",
       ".list-inline>li {display: inline-block}\n",
       ".list-inline>li:not(:last-child)::after {content: \"\\00b7\"; padding: 0 .5ex}\n",
       "</style>\n",
       "<ol class=list-inline><li>22126</li><li>16</li></ol>\n"
      ],
      "text/latex": [
       "\\begin{enumerate*}\n",
       "\\item 22126\n",
       "\\item 16\n",
       "\\end{enumerate*}\n"
      ],
      "text/markdown": [
       "1. 22126\n",
       "2. 16\n",
       "\n",
       "\n"
      ],
      "text/plain": [
       "[1] 22126    16"
      ]
     },
     "metadata": {},
     "output_type": "display_data"
    }
   ],
   "source": [
    "dim(rnaseq_data)"
   ]
  },
  {
   "cell_type": "code",
   "execution_count": 4,
   "metadata": {},
   "outputs": [
    {
     "data": {
      "text/html": [
       "<table>\n",
       "<caption>A data.frame: 6 × 16</caption>\n",
       "<thead>\n",
       "\t<tr><th></th><th scope=col>ENSG</th><th scope=col>chr</th><th scope=col>ENSGStart</th><th scope=col>ENSGEnd</th><th scope=col>T01</th><th scope=col>T201</th><th scope=col>T601</th><th scope=col>T2H1</th><th scope=col>T4H1</th><th scope=col>T24H1</th><th scope=col>T02</th><th scope=col>T202</th><th scope=col>T602</th><th scope=col>T2H2</th><th scope=col>T4H2</th><th scope=col>T24H2</th></tr>\n",
       "\t<tr><th></th><th scope=col>&lt;fct&gt;</th><th scope=col>&lt;fct&gt;</th><th scope=col>&lt;int&gt;</th><th scope=col>&lt;int&gt;</th><th scope=col>&lt;dbl&gt;</th><th scope=col>&lt;dbl&gt;</th><th scope=col>&lt;dbl&gt;</th><th scope=col>&lt;dbl&gt;</th><th scope=col>&lt;dbl&gt;</th><th scope=col>&lt;dbl&gt;</th><th scope=col>&lt;dbl&gt;</th><th scope=col>&lt;dbl&gt;</th><th scope=col>&lt;dbl&gt;</th><th scope=col>&lt;dbl&gt;</th><th scope=col>&lt;dbl&gt;</th><th scope=col>&lt;dbl&gt;</th></tr>\n",
       "</thead>\n",
       "<tbody>\n",
       "\t<tr><th scope=row>1</th><td>ENSG00000000003</td><td>chrX </td><td>100627109</td><td>100639991</td><td> 5.041981</td><td> 5.062369</td><td> 4.178733</td><td> 3.377680</td><td> 1.986341</td><td> 5.324410</td><td> 5.177855</td><td> 3.688929</td><td> 3.295454</td><td> 5.253633</td><td> 4.226941</td><td> 4.335357</td></tr>\n",
       "\t<tr><th scope=row>2</th><td>ENSG00000000419</td><td>chr20</td><td> 50934867</td><td> 50958555</td><td>10.556373</td><td>11.059740</td><td>10.784106</td><td>10.332645</td><td>10.273519</td><td>10.419062</td><td>11.032946</td><td>11.032608</td><td>10.768947</td><td>10.781390</td><td>10.590316</td><td>10.778582</td></tr>\n",
       "\t<tr><th scope=row>3</th><td>ENSG00000000457</td><td>chr1 </td><td>169849631</td><td>169894267</td><td> 8.074191</td><td> 7.582473</td><td> 9.025557</td><td> 9.324986</td><td> 9.353563</td><td> 9.026321</td><td> 7.985902</td><td> 8.162494</td><td> 9.417072</td><td> 9.456439</td><td> 9.271116</td><td> 8.889596</td></tr>\n",
       "\t<tr><th scope=row>4</th><td>ENSG00000000460</td><td>chr1 </td><td>169662007</td><td>169854080</td><td> 9.029226</td><td> 8.655751</td><td> 9.993021</td><td>12.866744</td><td>14.215491</td><td>10.871978</td><td> 8.287388</td><td> 8.345116</td><td>10.056483</td><td>11.656388</td><td>13.905748</td><td>11.378513</td></tr>\n",
       "\t<tr><th scope=row>5</th><td>ENSG00000000938</td><td>chr1 </td><td> 27612064</td><td> 27635277</td><td> 9.680082</td><td> 9.113586</td><td> 9.108392</td><td> 9.024590</td><td> 9.395413</td><td> 7.303896</td><td> 5.479472</td><td> 5.918468</td><td> 5.355478</td><td> 4.750553</td><td> 5.187896</td><td> 2.535247</td></tr>\n",
       "\t<tr><th scope=row>6</th><td>ENSG00000000971</td><td>chr1 </td><td>196651878</td><td>196747504</td><td> 6.360314</td><td> 5.424491</td><td> 5.394533</td><td> 5.269632</td><td> 4.710372</td><td> 4.385639</td><td> 5.551854</td><td> 5.941924</td><td> 5.636894</td><td> 5.042941</td><td> 4.976733</td><td> 4.017008</td></tr>\n",
       "</tbody>\n",
       "</table>\n"
      ],
      "text/latex": [
       "A data.frame: 6 × 16\n",
       "\\begin{tabular}{r|llllllllllllllll}\n",
       "  & ENSG & chr & ENSGStart & ENSGEnd & T01 & T201 & T601 & T2H1 & T4H1 & T24H1 & T02 & T202 & T602 & T2H2 & T4H2 & T24H2\\\\\n",
       "  & <fct> & <fct> & <int> & <int> & <dbl> & <dbl> & <dbl> & <dbl> & <dbl> & <dbl> & <dbl> & <dbl> & <dbl> & <dbl> & <dbl> & <dbl>\\\\\n",
       "\\hline\n",
       "\t1 & ENSG00000000003 & chrX  & 100627109 & 100639991 &  5.041981 &  5.062369 &  4.178733 &  3.377680 &  1.986341 &  5.324410 &  5.177855 &  3.688929 &  3.295454 &  5.253633 &  4.226941 &  4.335357\\\\\n",
       "\t2 & ENSG00000000419 & chr20 &  50934867 &  50958555 & 10.556373 & 11.059740 & 10.784106 & 10.332645 & 10.273519 & 10.419062 & 11.032946 & 11.032608 & 10.768947 & 10.781390 & 10.590316 & 10.778582\\\\\n",
       "\t3 & ENSG00000000457 & chr1  & 169849631 & 169894267 &  8.074191 &  7.582473 &  9.025557 &  9.324986 &  9.353563 &  9.026321 &  7.985902 &  8.162494 &  9.417072 &  9.456439 &  9.271116 &  8.889596\\\\\n",
       "\t4 & ENSG00000000460 & chr1  & 169662007 & 169854080 &  9.029226 &  8.655751 &  9.993021 & 12.866744 & 14.215491 & 10.871978 &  8.287388 &  8.345116 & 10.056483 & 11.656388 & 13.905748 & 11.378513\\\\\n",
       "\t5 & ENSG00000000938 & chr1  &  27612064 &  27635277 &  9.680082 &  9.113586 &  9.108392 &  9.024590 &  9.395413 &  7.303896 &  5.479472 &  5.918468 &  5.355478 &  4.750553 &  5.187896 &  2.535247\\\\\n",
       "\t6 & ENSG00000000971 & chr1  & 196651878 & 196747504 &  6.360314 &  5.424491 &  5.394533 &  5.269632 &  4.710372 &  4.385639 &  5.551854 &  5.941924 &  5.636894 &  5.042941 &  4.976733 &  4.017008\\\\\n",
       "\\end{tabular}\n"
      ],
      "text/markdown": [
       "\n",
       "A data.frame: 6 × 16\n",
       "\n",
       "| <!--/--> | ENSG &lt;fct&gt; | chr &lt;fct&gt; | ENSGStart &lt;int&gt; | ENSGEnd &lt;int&gt; | T01 &lt;dbl&gt; | T201 &lt;dbl&gt; | T601 &lt;dbl&gt; | T2H1 &lt;dbl&gt; | T4H1 &lt;dbl&gt; | T24H1 &lt;dbl&gt; | T02 &lt;dbl&gt; | T202 &lt;dbl&gt; | T602 &lt;dbl&gt; | T2H2 &lt;dbl&gt; | T4H2 &lt;dbl&gt; | T24H2 &lt;dbl&gt; |\n",
       "|---|---|---|---|---|---|---|---|---|---|---|---|---|---|---|---|---|\n",
       "| 1 | ENSG00000000003 | chrX  | 100627109 | 100639991 |  5.041981 |  5.062369 |  4.178733 |  3.377680 |  1.986341 |  5.324410 |  5.177855 |  3.688929 |  3.295454 |  5.253633 |  4.226941 |  4.335357 |\n",
       "| 2 | ENSG00000000419 | chr20 |  50934867 |  50958555 | 10.556373 | 11.059740 | 10.784106 | 10.332645 | 10.273519 | 10.419062 | 11.032946 | 11.032608 | 10.768947 | 10.781390 | 10.590316 | 10.778582 |\n",
       "| 3 | ENSG00000000457 | chr1  | 169849631 | 169894267 |  8.074191 |  7.582473 |  9.025557 |  9.324986 |  9.353563 |  9.026321 |  7.985902 |  8.162494 |  9.417072 |  9.456439 |  9.271116 |  8.889596 |\n",
       "| 4 | ENSG00000000460 | chr1  | 169662007 | 169854080 |  9.029226 |  8.655751 |  9.993021 | 12.866744 | 14.215491 | 10.871978 |  8.287388 |  8.345116 | 10.056483 | 11.656388 | 13.905748 | 11.378513 |\n",
       "| 5 | ENSG00000000938 | chr1  |  27612064 |  27635277 |  9.680082 |  9.113586 |  9.108392 |  9.024590 |  9.395413 |  7.303896 |  5.479472 |  5.918468 |  5.355478 |  4.750553 |  5.187896 |  2.535247 |\n",
       "| 6 | ENSG00000000971 | chr1  | 196651878 | 196747504 |  6.360314 |  5.424491 |  5.394533 |  5.269632 |  4.710372 |  4.385639 |  5.551854 |  5.941924 |  5.636894 |  5.042941 |  4.976733 |  4.017008 |\n",
       "\n"
      ],
      "text/plain": [
       "  ENSG            chr   ENSGStart ENSGEnd   T01       T201      T601     \n",
       "1 ENSG00000000003 chrX  100627109 100639991  5.041981  5.062369  4.178733\n",
       "2 ENSG00000000419 chr20  50934867  50958555 10.556373 11.059740 10.784106\n",
       "3 ENSG00000000457 chr1  169849631 169894267  8.074191  7.582473  9.025557\n",
       "4 ENSG00000000460 chr1  169662007 169854080  9.029226  8.655751  9.993021\n",
       "5 ENSG00000000938 chr1   27612064  27635277  9.680082  9.113586  9.108392\n",
       "6 ENSG00000000971 chr1  196651878 196747504  6.360314  5.424491  5.394533\n",
       "  T2H1      T4H1      T24H1     T02       T202      T602      T2H2     \n",
       "1  3.377680  1.986341  5.324410  5.177855  3.688929  3.295454  5.253633\n",
       "2 10.332645 10.273519 10.419062 11.032946 11.032608 10.768947 10.781390\n",
       "3  9.324986  9.353563  9.026321  7.985902  8.162494  9.417072  9.456439\n",
       "4 12.866744 14.215491 10.871978  8.287388  8.345116 10.056483 11.656388\n",
       "5  9.024590  9.395413  7.303896  5.479472  5.918468  5.355478  4.750553\n",
       "6  5.269632  4.710372  4.385639  5.551854  5.941924  5.636894  5.042941\n",
       "  T4H2      T24H2    \n",
       "1  4.226941  4.335357\n",
       "2 10.590316 10.778582\n",
       "3  9.271116  8.889596\n",
       "4 13.905748 11.378513\n",
       "5  5.187896  2.535247\n",
       "6  4.976733  4.017008"
      ]
     },
     "metadata": {},
     "output_type": "display_data"
    }
   ],
   "source": [
    "head(rnaseq_data)"
   ]
  },
  {
   "cell_type": "code",
   "execution_count": 5,
   "metadata": {},
   "outputs": [],
   "source": [
    "idx0 <- c('T0','T20','T60','T2H','T4H','T24H')\n",
    "idx1 <- paste(idx0, '1', sep='')\n",
    "idx2 <- paste(idx0, '2', sep='')\n",
    "idx3 <- paste(idx0, '3', sep='')\n",
    "\n",
    "time0 <- c('0 min','20 mins','1 hrs', '2 hrs',' 4 hrs', '24 hrs')\n"
   ]
  },
  {
   "cell_type": "markdown",
   "metadata": {},
   "source": [
    "### plot the peaks and FRAP scrore for ATAC-seq data"
   ]
  },
  {
   "cell_type": "code",
   "execution_count": 6,
   "metadata": {},
   "outputs": [],
   "source": [
    "\n",
    "rnaseq_dataonly <- rnaseq_data[,c(idx1,idx2)]"
   ]
  },
  {
   "cell_type": "code",
   "execution_count": 7,
   "metadata": {
    "scrolled": true
   },
   "outputs": [
    {
     "data": {
      "text/html": [
       "<table>\n",
       "<caption>A data.frame: 6 × 12</caption>\n",
       "<thead>\n",
       "\t<tr><th></th><th scope=col>T01</th><th scope=col>T201</th><th scope=col>T601</th><th scope=col>T2H1</th><th scope=col>T4H1</th><th scope=col>T24H1</th><th scope=col>T02</th><th scope=col>T202</th><th scope=col>T602</th><th scope=col>T2H2</th><th scope=col>T4H2</th><th scope=col>T24H2</th></tr>\n",
       "\t<tr><th></th><th scope=col>&lt;dbl&gt;</th><th scope=col>&lt;dbl&gt;</th><th scope=col>&lt;dbl&gt;</th><th scope=col>&lt;dbl&gt;</th><th scope=col>&lt;dbl&gt;</th><th scope=col>&lt;dbl&gt;</th><th scope=col>&lt;dbl&gt;</th><th scope=col>&lt;dbl&gt;</th><th scope=col>&lt;dbl&gt;</th><th scope=col>&lt;dbl&gt;</th><th scope=col>&lt;dbl&gt;</th><th scope=col>&lt;dbl&gt;</th></tr>\n",
       "</thead>\n",
       "<tbody>\n",
       "\t<tr><th scope=row>1</th><td> 5.041981</td><td> 5.062369</td><td> 4.178733</td><td> 3.377680</td><td> 1.986341</td><td> 5.324410</td><td> 5.177855</td><td> 3.688929</td><td> 3.295454</td><td> 5.253633</td><td> 4.226941</td><td> 4.335357</td></tr>\n",
       "\t<tr><th scope=row>2</th><td>10.556373</td><td>11.059740</td><td>10.784106</td><td>10.332645</td><td>10.273519</td><td>10.419062</td><td>11.032946</td><td>11.032608</td><td>10.768947</td><td>10.781390</td><td>10.590316</td><td>10.778582</td></tr>\n",
       "\t<tr><th scope=row>3</th><td> 8.074191</td><td> 7.582473</td><td> 9.025557</td><td> 9.324986</td><td> 9.353563</td><td> 9.026321</td><td> 7.985902</td><td> 8.162494</td><td> 9.417072</td><td> 9.456439</td><td> 9.271116</td><td> 8.889596</td></tr>\n",
       "\t<tr><th scope=row>4</th><td> 9.029226</td><td> 8.655751</td><td> 9.993021</td><td>12.866744</td><td>14.215491</td><td>10.871978</td><td> 8.287388</td><td> 8.345116</td><td>10.056483</td><td>11.656388</td><td>13.905748</td><td>11.378513</td></tr>\n",
       "\t<tr><th scope=row>5</th><td> 9.680082</td><td> 9.113586</td><td> 9.108392</td><td> 9.024590</td><td> 9.395413</td><td> 7.303896</td><td> 5.479472</td><td> 5.918468</td><td> 5.355478</td><td> 4.750553</td><td> 5.187896</td><td> 2.535247</td></tr>\n",
       "\t<tr><th scope=row>6</th><td> 6.360314</td><td> 5.424491</td><td> 5.394533</td><td> 5.269632</td><td> 4.710372</td><td> 4.385639</td><td> 5.551854</td><td> 5.941924</td><td> 5.636894</td><td> 5.042941</td><td> 4.976733</td><td> 4.017008</td></tr>\n",
       "</tbody>\n",
       "</table>\n"
      ],
      "text/latex": [
       "A data.frame: 6 × 12\n",
       "\\begin{tabular}{r|llllllllllll}\n",
       "  & T01 & T201 & T601 & T2H1 & T4H1 & T24H1 & T02 & T202 & T602 & T2H2 & T4H2 & T24H2\\\\\n",
       "  & <dbl> & <dbl> & <dbl> & <dbl> & <dbl> & <dbl> & <dbl> & <dbl> & <dbl> & <dbl> & <dbl> & <dbl>\\\\\n",
       "\\hline\n",
       "\t1 &  5.041981 &  5.062369 &  4.178733 &  3.377680 &  1.986341 &  5.324410 &  5.177855 &  3.688929 &  3.295454 &  5.253633 &  4.226941 &  4.335357\\\\\n",
       "\t2 & 10.556373 & 11.059740 & 10.784106 & 10.332645 & 10.273519 & 10.419062 & 11.032946 & 11.032608 & 10.768947 & 10.781390 & 10.590316 & 10.778582\\\\\n",
       "\t3 &  8.074191 &  7.582473 &  9.025557 &  9.324986 &  9.353563 &  9.026321 &  7.985902 &  8.162494 &  9.417072 &  9.456439 &  9.271116 &  8.889596\\\\\n",
       "\t4 &  9.029226 &  8.655751 &  9.993021 & 12.866744 & 14.215491 & 10.871978 &  8.287388 &  8.345116 & 10.056483 & 11.656388 & 13.905748 & 11.378513\\\\\n",
       "\t5 &  9.680082 &  9.113586 &  9.108392 &  9.024590 &  9.395413 &  7.303896 &  5.479472 &  5.918468 &  5.355478 &  4.750553 &  5.187896 &  2.535247\\\\\n",
       "\t6 &  6.360314 &  5.424491 &  5.394533 &  5.269632 &  4.710372 &  4.385639 &  5.551854 &  5.941924 &  5.636894 &  5.042941 &  4.976733 &  4.017008\\\\\n",
       "\\end{tabular}\n"
      ],
      "text/markdown": [
       "\n",
       "A data.frame: 6 × 12\n",
       "\n",
       "| <!--/--> | T01 &lt;dbl&gt; | T201 &lt;dbl&gt; | T601 &lt;dbl&gt; | T2H1 &lt;dbl&gt; | T4H1 &lt;dbl&gt; | T24H1 &lt;dbl&gt; | T02 &lt;dbl&gt; | T202 &lt;dbl&gt; | T602 &lt;dbl&gt; | T2H2 &lt;dbl&gt; | T4H2 &lt;dbl&gt; | T24H2 &lt;dbl&gt; |\n",
       "|---|---|---|---|---|---|---|---|---|---|---|---|---|\n",
       "| 1 |  5.041981 |  5.062369 |  4.178733 |  3.377680 |  1.986341 |  5.324410 |  5.177855 |  3.688929 |  3.295454 |  5.253633 |  4.226941 |  4.335357 |\n",
       "| 2 | 10.556373 | 11.059740 | 10.784106 | 10.332645 | 10.273519 | 10.419062 | 11.032946 | 11.032608 | 10.768947 | 10.781390 | 10.590316 | 10.778582 |\n",
       "| 3 |  8.074191 |  7.582473 |  9.025557 |  9.324986 |  9.353563 |  9.026321 |  7.985902 |  8.162494 |  9.417072 |  9.456439 |  9.271116 |  8.889596 |\n",
       "| 4 |  9.029226 |  8.655751 |  9.993021 | 12.866744 | 14.215491 | 10.871978 |  8.287388 |  8.345116 | 10.056483 | 11.656388 | 13.905748 | 11.378513 |\n",
       "| 5 |  9.680082 |  9.113586 |  9.108392 |  9.024590 |  9.395413 |  7.303896 |  5.479472 |  5.918468 |  5.355478 |  4.750553 |  5.187896 |  2.535247 |\n",
       "| 6 |  6.360314 |  5.424491 |  5.394533 |  5.269632 |  4.710372 |  4.385639 |  5.551854 |  5.941924 |  5.636894 |  5.042941 |  4.976733 |  4.017008 |\n",
       "\n"
      ],
      "text/plain": [
       "  T01       T201      T601      T2H1      T4H1      T24H1     T02      \n",
       "1  5.041981  5.062369  4.178733  3.377680  1.986341  5.324410  5.177855\n",
       "2 10.556373 11.059740 10.784106 10.332645 10.273519 10.419062 11.032946\n",
       "3  8.074191  7.582473  9.025557  9.324986  9.353563  9.026321  7.985902\n",
       "4  9.029226  8.655751  9.993021 12.866744 14.215491 10.871978  8.287388\n",
       "5  9.680082  9.113586  9.108392  9.024590  9.395413  7.303896  5.479472\n",
       "6  6.360314  5.424491  5.394533  5.269632  4.710372  4.385639  5.551854\n",
       "  T202      T602      T2H2      T4H2      T24H2    \n",
       "1  3.688929  3.295454  5.253633  4.226941  4.335357\n",
       "2 11.032608 10.768947 10.781390 10.590316 10.778582\n",
       "3  8.162494  9.417072  9.456439  9.271116  8.889596\n",
       "4  8.345116 10.056483 11.656388 13.905748 11.378513\n",
       "5  5.918468  5.355478  4.750553  5.187896  2.535247\n",
       "6  5.941924  5.636894  5.042941  4.976733  4.017008"
      ]
     },
     "metadata": {},
     "output_type": "display_data"
    }
   ],
   "source": [
    "head(rnaseq_dataonly)\n"
   ]
  },
  {
   "cell_type": "code",
   "execution_count": 8,
   "metadata": {},
   "outputs": [],
   "source": [
    "\n",
    "pca_rnaseq <- prcomp(t(rnaseq_dataonly), scale=TRUE, center=TRUE)"
   ]
  },
  {
   "cell_type": "code",
   "execution_count": 9,
   "metadata": {},
   "outputs": [],
   "source": [
    "\n",
    "pca_rnaseq_forplot <- data.frame(PC1=pca_rnaseq$x['PC1'], PC2=pca_rnaseq$x['PC2'], \n",
    "                                  replicate = c(rep(1,6), rep(2,6)), time = c(idx0, idx0))\n"
   ]
  },
  {
   "cell_type": "code",
   "execution_count": 10,
   "metadata": {},
   "outputs": [],
   "source": [
    "\n",
    "\n",
    "pca_rnaseq_vars <- apply(pca_rnaseq$x, 2, var)  \n",
    "pca_rnaseq_props <- pca_rnaseq_vars / sum(pca_rnaseq_vars)\n",
    "pca_rnaseq_label_PC1 <- round(pca_rnaseq_props[1], digits=2)\n",
    "pca_rnaseq_label_PC2 <- round(pca_rnaseq_props[2], digits=2)\n",
    "\n"
   ]
  },
  {
   "cell_type": "code",
   "execution_count": 11,
   "metadata": {},
   "outputs": [],
   "source": [
    "\n",
    "pca_rnaseq_forplot <- data.frame(PC1=pca_rnaseq$x[,'PC1'], PC2=pca_rnaseq$x[,'PC2'], \n",
    "                                label_PC1=paste('PC1', percent(pca_rnaseq_label_PC1)), \n",
    "                                 label_PC2=paste('PC2', percent(pca_rnaseq_label_PC2)), \n",
    "                                  Replicate = factor(c(rep(1,6), rep(2,6))), Time = factor(c(time0, time0), levels=time0))\n"
   ]
  },
  {
   "cell_type": "code",
   "execution_count": 12,
   "metadata": {},
   "outputs": [],
   "source": [
    "\n",
    "pca_rnaseq_forplot$label <- 'All'\n",
    "\n",
    "pca_rnaseq_forplot$label2 <- 'RNA-seq'\n",
    "\n"
   ]
  },
  {
   "cell_type": "code",
   "execution_count": 13,
   "metadata": {},
   "outputs": [],
   "source": [
    "\n",
    "rownames(pca_rnaseq_forplot) <- NULL\n"
   ]
  },
  {
   "cell_type": "code",
   "execution_count": 14,
   "metadata": {},
   "outputs": [
    {
     "data": {
      "image/png": "[encoded data removed]",
      "text/plain": [
       "plot without title"
      ]
     },
     "metadata": {
      "image/png": {
       "height": 420,
       "width": 420
      }
     },
     "output_type": "display_data"
    }
   ],
   "source": [
    "p0 <- ggplot(data=pca_rnaseq_forplot, aes(x=PC1, y=PC2, col=Time)) + geom_point(aes(shape=Replicate), size=6) + \n",
    "geom_hline(yintercept=0, linetype='dotted',size=1) + geom_vline(xintercept=0,linetype='dotted',size=1) +\n",
    "#geom_segment(aes(x=-200,xend=max(PC1), y=-200, yend=-200), linetype='solid', color='black') + \n",
    "#geom_segment(aes(x=-200,xend=-200, y=-200, yend=max(PC2)),linetype='solid', color='black')+\n",
    "\n",
    "#geom_text(aes(x=0, y=min(PC2)-100, label=label_PC1), color='black') +\n",
    "#geom_text(aes(x=min(PC1)-100, y=0, label=label_PC2), color='black', angle=90) +\n",
    "\n",
    "    xlab(paste('PC1 ', '(',percent(pca_rnaseq_label_PC1),')', sep='')) + \n",
    "    ylab(paste('PC2 ', '(',percent(pca_rnaseq_label_PC2),')', sep='')) +\n",
    "    labs(c('Time','Replicate')) + \n",
    "theme(panel.background=element_blank(),#panel.background=element_rect(fill='white',color='black',linetype=1),  panel.grid.major=element_line(color='grey', size=0.1), \n",
    "     axis.line=element_line(size=1),\n",
    "       text=element_text(size=14, face=\"bold\"),\n",
    "                 axis.text=element_text(size=16, face='bold'), axis.title=element_text(size=20, face=\"bold\"),\n",
    "      strip.text.x=element_blank(),strip.text.y=element_blank(), strip.background=element_blank(),legend.text=element_text(size=14), legend.position=c(0.8,0.5)) +\n",
    "coord_fixed(ratio=2.5) #+ ggtitle('Supplementary Fig. 1d')\n",
    " #facet_grid(label2 ~ label)\n",
    "p0\n",
    "#ggsave(file='../../../IntegratingATAC-RNA-HiC/Individual_Figures_Files/Gene_expression/RNAseq-PCA.pdf',p0)"
   ]
  },
  {
   "cell_type": "code",
   "execution_count": null,
   "metadata": {},
   "outputs": [],
   "source": []
  }
 ],
 "metadata": {
  "kernelspec": {
   "display_name": "R",
   "language": "R",
   "name": "ir"
  },
  "language_info": {
   "codemirror_mode": "r",
   "file_extension": ".r",
   "mimetype": "text/x-r-source",
   "name": "R",
   "pygments_lexer": "r",
   "version": "3.6.3"
  }
 },
 "nbformat": 4,
 "nbformat_minor": 2
}
