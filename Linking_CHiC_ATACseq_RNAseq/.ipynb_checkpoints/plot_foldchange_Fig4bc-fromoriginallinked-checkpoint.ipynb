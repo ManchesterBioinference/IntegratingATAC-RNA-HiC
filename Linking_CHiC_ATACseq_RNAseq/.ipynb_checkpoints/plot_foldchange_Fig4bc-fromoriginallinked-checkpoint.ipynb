{
 "cells": [
  {
   "cell_type": "markdown",
   "metadata": {},
   "source": [
    "## Jupyter notebook for plotting the log2 foldchange between CHi-C, ATAC-seq and RNA-seq\n",
    "\n",
    "This notebook is the code for plotting the log2 folchange between CHi-C, ATAC-seq and RNA-seq time course data (Fig. 4b,c) used in the paper **\\\"Analysis of chromatin organinization and gene expression in T cells identifies functional genes for rheumatoid arthritis\\\"** by *Jing Yang, Amanda McGovern, Paul Martin, Kate Duffus, Xiangyu Ge, Peyman Zarrineh, Andrew P Morris, Antony Adamson, Peter Fraser, Magnus Rattray & Stephen Eyre*\n",
    "\n",
    "Author : *Jing Yang*  <br />\n",
    "Date: 01-05-2019 <br />\n",
    "For any questions about the code, please drop me a line at Jing.Yang@manchester.ac.uk"
   ]
  },
  {
   "cell_type": "markdown",
   "metadata": {},
   "source": [
    "### load required packages"
   ]
  },
  {
   "cell_type": "code",
   "execution_count": 4,
   "metadata": {},
   "outputs": [
    {
     "name": "stderr",
     "output_type": "stream",
     "text": [
      "Loading required package: S4Vectors\n",
      "\n",
      "Loading required package: stats4\n",
      "\n",
      "Loading required package: BiocGenerics\n",
      "\n",
      "Loading required package: parallel\n",
      "\n",
      "\n",
      "Attaching package: ‘BiocGenerics’\n",
      "\n",
      "\n",
      "The following objects are masked from ‘package:parallel’:\n",
      "\n",
      "    clusterApply, clusterApplyLB, clusterCall, clusterEvalQ,\n",
      "    clusterExport, clusterMap, parApply, parCapply, parLapply,\n",
      "    parLapplyLB, parRapply, parSapply, parSapplyLB\n",
      "\n",
      "\n",
      "The following objects are masked from ‘package:dplyr’:\n",
      "\n",
      "    combine, intersect, setdiff, union\n",
      "\n",
      "\n",
      "The following objects are masked from ‘package:stats’:\n",
      "\n",
      "    IQR, mad, sd, var, xtabs\n",
      "\n",
      "\n",
      "The following objects are masked from ‘package:base’:\n",
      "\n",
      "    anyDuplicated, append, as.data.frame, basename, cbind, colnames,\n",
      "    dirname, do.call, duplicated, eval, evalq, Filter, Find, get, grep,\n",
      "    grepl, intersect, is.unsorted, lapply, Map, mapply, match, mget,\n",
      "    order, paste, pmax, pmax.int, pmin, pmin.int, Position, rank,\n",
      "    rbind, Reduce, rownames, sapply, setdiff, sort, table, tapply,\n",
      "    union, unique, unsplit, which, which.max, which.min\n",
      "\n",
      "\n",
      "\n",
      "Attaching package: ‘S4Vectors’\n",
      "\n",
      "\n",
      "The following objects are masked from ‘package:dplyr’:\n",
      "\n",
      "    first, rename\n",
      "\n",
      "\n",
      "The following object is masked from ‘package:tidyr’:\n",
      "\n",
      "    expand\n",
      "\n",
      "\n",
      "The following object is masked from ‘package:base’:\n",
      "\n",
      "    expand.grid\n",
      "\n",
      "\n",
      "Loading required package: IRanges\n",
      "\n",
      "\n",
      "Attaching package: ‘IRanges’\n",
      "\n",
      "\n",
      "The following objects are masked from ‘package:dplyr’:\n",
      "\n",
      "    collapse, desc, slice\n",
      "\n",
      "\n",
      "The following object is masked from ‘package:purrr’:\n",
      "\n",
      "    reduce\n",
      "\n",
      "\n",
      "Loading required package: GenomicRanges\n",
      "\n",
      "Loading required package: GenomeInfoDb\n",
      "\n",
      "Loading required package: SummarizedExperiment\n",
      "\n",
      "Loading required package: Biobase\n",
      "\n",
      "Welcome to Bioconductor\n",
      "\n",
      "    Vignettes contain introductory material; view with\n",
      "    'browseVignettes()'. To cite Bioconductor, see\n",
      "    'citation(\"Biobase\")', and for packages 'citation(\"pkgname\")'.\n",
      "\n",
      "\n",
      "Loading required package: DelayedArray\n",
      "\n",
      "Loading required package: matrixStats\n",
      "\n",
      "\n",
      "Attaching package: ‘matrixStats’\n",
      "\n",
      "\n",
      "The following objects are masked from ‘package:Biobase’:\n",
      "\n",
      "    anyMissing, rowMedians\n",
      "\n",
      "\n",
      "The following object is masked from ‘package:dplyr’:\n",
      "\n",
      "    count\n",
      "\n",
      "\n",
      "Loading required package: BiocParallel\n",
      "\n",
      "\n",
      "Attaching package: ‘DelayedArray’\n",
      "\n",
      "\n",
      "The following objects are masked from ‘package:matrixStats’:\n",
      "\n",
      "    colMaxs, colMins, colRanges, rowMaxs, rowMins, rowRanges\n",
      "\n",
      "\n",
      "The following object is masked from ‘package:purrr’:\n",
      "\n",
      "    simplify\n",
      "\n",
      "\n",
      "The following objects are masked from ‘package:base’:\n",
      "\n",
      "    aperm, apply, rowsum\n",
      "\n",
      "\n"
     ]
    }
   ],
   "source": [
    "library(tidyverse)\n",
    "library(DESeq2)\n"
   ]
  },
  {
   "cell_type": "markdown",
   "metadata": {},
   "source": [
    "### load linked gene expression, open chromatin and interaction data."
   ]
  },
  {
   "cell_type": "code",
   "execution_count": 5,
   "metadata": {},
   "outputs": [],
   "source": [
    "data_original <- read.table(file='data/ATACseq_CHiC_RNAseq_linked.txt', header=T)"
   ]
  },
  {
   "cell_type": "code",
   "execution_count": 6,
   "metadata": {},
   "outputs": [
    {
     "data": {
      "text/html": [
       "<table>\n",
       "<caption>A data.frame: 6 × 78</caption>\n",
       "<thead>\n",
       "\t<tr><th></th><th scope=col>ATACchr</th><th scope=col>ATACstart</th><th scope=col>ATACend</th><th scope=col>otherEndID</th><th scope=col>otherEndchr</th><th scope=col>otherEndstart</th><th scope=col>otherEndend</th><th scope=col>ID</th><th scope=col>ENSG</th><th scope=col>ENSGchr</th><th scope=col>⋯</th><th scope=col>AT1H</th><th scope=col>AT2H</th><th scope=col>AT4H</th><th scope=col>AT24H</th><th scope=col>Alld_ratio0</th><th scope=col>mean_atacseq</th><th scope=col>mean_gene</th><th scope=col>corr_atacseq_gene</th><th scope=col>corr_atacseq_otherEnd</th><th scope=col>corr_gene_otherEnd</th></tr>\n",
       "\t<tr><th></th><th scope=col>&lt;fct&gt;</th><th scope=col>&lt;int&gt;</th><th scope=col>&lt;int&gt;</th><th scope=col>&lt;int&gt;</th><th scope=col>&lt;fct&gt;</th><th scope=col>&lt;int&gt;</th><th scope=col>&lt;int&gt;</th><th scope=col>&lt;int&gt;</th><th scope=col>&lt;fct&gt;</th><th scope=col>&lt;fct&gt;</th><th scope=col>⋯</th><th scope=col>&lt;dbl&gt;</th><th scope=col>&lt;dbl&gt;</th><th scope=col>&lt;dbl&gt;</th><th scope=col>&lt;dbl&gt;</th><th scope=col>&lt;dbl&gt;</th><th scope=col>&lt;dbl&gt;</th><th scope=col>&lt;dbl&gt;</th><th scope=col>&lt;dbl&gt;</th><th scope=col>&lt;dbl&gt;</th><th scope=col>&lt;dbl&gt;</th></tr>\n",
       "</thead>\n",
       "<tbody>\n",
       "\t<tr><th scope=row>1</th><td>chr10</td><td>100168185</td><td>100168481</td><td>94270</td><td>chr10</td><td>100168142</td><td>100171879</td><td> 7</td><td>ENSG00000099204</td><td>chr10</td><td>⋯</td><td>5.549115</td><td>5.081706</td><td>5.133666</td><td>5.469091</td><td>-7.960483e-06</td><td>5.300782</td><td>13.144099</td><td>-0.11473015</td><td> 0.3875610</td><td>-0.9240688</td></tr>\n",
       "\t<tr><th scope=row>2</th><td>chr10</td><td>100168185</td><td>100168481</td><td>94270</td><td>chr10</td><td>100168142</td><td>100171879</td><td> 7</td><td>ENSG00000122873</td><td>chr10</td><td>⋯</td><td>5.549115</td><td>5.081706</td><td>5.133666</td><td>5.469091</td><td>-7.960483e-06</td><td>5.300782</td><td> 7.386855</td><td> 0.01408322</td><td>-0.6566466</td><td> 0.3687837</td></tr>\n",
       "\t<tr><th scope=row>3</th><td>chr10</td><td>100510838</td><td>100511373</td><td>94364</td><td>chr10</td><td>100507722</td><td>100518706</td><td>23</td><td>ENSG00000052749</td><td>chr10</td><td>⋯</td><td>9.971759</td><td>8.586541</td><td>9.457576</td><td>8.248255</td><td>-1.622436e-05</td><td>9.036950</td><td>11.681048</td><td> 0.05696710</td><td>-0.7670981</td><td> 0.2089518</td></tr>\n",
       "\t<tr><th scope=row>4</th><td>chr10</td><td>101814895</td><td>101815024</td><td>94665</td><td>chr10</td><td>101813654</td><td>101818522</td><td>76</td><td>ENSG00000047056</td><td>chr10</td><td>⋯</td><td>6.908540</td><td>6.233613</td><td>6.974758</td><td>6.509405</td><td>-4.866014e-05</td><td>6.395328</td><td>10.889609</td><td> 0.26646359</td><td> 0.5669826</td><td> 0.5107519</td></tr>\n",
       "\t<tr><th scope=row>5</th><td>chr10</td><td>101814895</td><td>101815024</td><td>94665</td><td>chr10</td><td>101813654</td><td>101818522</td><td>76</td><td>ENSG00000107566</td><td>chr10</td><td>⋯</td><td>6.908540</td><td>6.233613</td><td>6.974758</td><td>6.509405</td><td>-4.866014e-05</td><td>6.395328</td><td> 8.824033</td><td> 0.57759985</td><td> 0.4452978</td><td>-0.3354777</td></tr>\n",
       "\t<tr><th scope=row>6</th><td>chr10</td><td>101814895</td><td>101815024</td><td>94665</td><td>chr10</td><td>101813654</td><td>101818522</td><td>76</td><td>ENSG00000052749</td><td>chr10</td><td>⋯</td><td>6.908540</td><td>6.233613</td><td>6.974758</td><td>6.509405</td><td>-4.866014e-05</td><td>6.395328</td><td>11.681048</td><td> 0.77571350</td><td> 0.0847067</td><td> 0.2089518</td></tr>\n",
       "</tbody>\n",
       "</table>\n"
      ],
      "text/latex": [
       "A data.frame: 6 × 78\n",
       "\\begin{tabular}{r|lllllllllllllllllllll}\n",
       "  & ATACchr & ATACstart & ATACend & otherEndID & otherEndchr & otherEndstart & otherEndend & ID & ENSG & ENSGchr & ⋯ & AT1H & AT2H & AT4H & AT24H & Alld\\_ratio0 & mean\\_atacseq & mean\\_gene & corr\\_atacseq\\_gene & corr\\_atacseq\\_otherEnd & corr\\_gene\\_otherEnd\\\\\n",
       "  & <fct> & <int> & <int> & <int> & <fct> & <int> & <int> & <int> & <fct> & <fct> & ⋯ & <dbl> & <dbl> & <dbl> & <dbl> & <dbl> & <dbl> & <dbl> & <dbl> & <dbl> & <dbl>\\\\\n",
       "\\hline\n",
       "\t1 & chr10 & 100168185 & 100168481 & 94270 & chr10 & 100168142 & 100171879 &  7 & ENSG00000099204 & chr10 & ⋯ & 5.549115 & 5.081706 & 5.133666 & 5.469091 & -7.960483e-06 & 5.300782 & 13.144099 & -0.11473015 &  0.3875610 & -0.9240688\\\\\n",
       "\t2 & chr10 & 100168185 & 100168481 & 94270 & chr10 & 100168142 & 100171879 &  7 & ENSG00000122873 & chr10 & ⋯ & 5.549115 & 5.081706 & 5.133666 & 5.469091 & -7.960483e-06 & 5.300782 &  7.386855 &  0.01408322 & -0.6566466 &  0.3687837\\\\\n",
       "\t3 & chr10 & 100510838 & 100511373 & 94364 & chr10 & 100507722 & 100518706 & 23 & ENSG00000052749 & chr10 & ⋯ & 9.971759 & 8.586541 & 9.457576 & 8.248255 & -1.622436e-05 & 9.036950 & 11.681048 &  0.05696710 & -0.7670981 &  0.2089518\\\\\n",
       "\t4 & chr10 & 101814895 & 101815024 & 94665 & chr10 & 101813654 & 101818522 & 76 & ENSG00000047056 & chr10 & ⋯ & 6.908540 & 6.233613 & 6.974758 & 6.509405 & -4.866014e-05 & 6.395328 & 10.889609 &  0.26646359 &  0.5669826 &  0.5107519\\\\\n",
       "\t5 & chr10 & 101814895 & 101815024 & 94665 & chr10 & 101813654 & 101818522 & 76 & ENSG00000107566 & chr10 & ⋯ & 6.908540 & 6.233613 & 6.974758 & 6.509405 & -4.866014e-05 & 6.395328 &  8.824033 &  0.57759985 &  0.4452978 & -0.3354777\\\\\n",
       "\t6 & chr10 & 101814895 & 101815024 & 94665 & chr10 & 101813654 & 101818522 & 76 & ENSG00000052749 & chr10 & ⋯ & 6.908540 & 6.233613 & 6.974758 & 6.509405 & -4.866014e-05 & 6.395328 & 11.681048 &  0.77571350 &  0.0847067 &  0.2089518\\\\\n",
       "\\end{tabular}\n"
      ],
      "text/markdown": [
       "\n",
       "A data.frame: 6 × 78\n",
       "\n",
       "| <!--/--> | ATACchr &lt;fct&gt; | ATACstart &lt;int&gt; | ATACend &lt;int&gt; | otherEndID &lt;int&gt; | otherEndchr &lt;fct&gt; | otherEndstart &lt;int&gt; | otherEndend &lt;int&gt; | ID &lt;int&gt; | ENSG &lt;fct&gt; | ENSGchr &lt;fct&gt; | ⋯ ⋯ | AT1H &lt;dbl&gt; | AT2H &lt;dbl&gt; | AT4H &lt;dbl&gt; | AT24H &lt;dbl&gt; | Alld_ratio0 &lt;dbl&gt; | mean_atacseq &lt;dbl&gt; | mean_gene &lt;dbl&gt; | corr_atacseq_gene &lt;dbl&gt; | corr_atacseq_otherEnd &lt;dbl&gt; | corr_gene_otherEnd &lt;dbl&gt; |\n",
       "|---|---|---|---|---|---|---|---|---|---|---|---|---|---|---|---|---|---|---|---|---|---|\n",
       "| 1 | chr10 | 100168185 | 100168481 | 94270 | chr10 | 100168142 | 100171879 |  7 | ENSG00000099204 | chr10 | ⋯ | 5.549115 | 5.081706 | 5.133666 | 5.469091 | -7.960483e-06 | 5.300782 | 13.144099 | -0.11473015 |  0.3875610 | -0.9240688 |\n",
       "| 2 | chr10 | 100168185 | 100168481 | 94270 | chr10 | 100168142 | 100171879 |  7 | ENSG00000122873 | chr10 | ⋯ | 5.549115 | 5.081706 | 5.133666 | 5.469091 | -7.960483e-06 | 5.300782 |  7.386855 |  0.01408322 | -0.6566466 |  0.3687837 |\n",
       "| 3 | chr10 | 100510838 | 100511373 | 94364 | chr10 | 100507722 | 100518706 | 23 | ENSG00000052749 | chr10 | ⋯ | 9.971759 | 8.586541 | 9.457576 | 8.248255 | -1.622436e-05 | 9.036950 | 11.681048 |  0.05696710 | -0.7670981 |  0.2089518 |\n",
       "| 4 | chr10 | 101814895 | 101815024 | 94665 | chr10 | 101813654 | 101818522 | 76 | ENSG00000047056 | chr10 | ⋯ | 6.908540 | 6.233613 | 6.974758 | 6.509405 | -4.866014e-05 | 6.395328 | 10.889609 |  0.26646359 |  0.5669826 |  0.5107519 |\n",
       "| 5 | chr10 | 101814895 | 101815024 | 94665 | chr10 | 101813654 | 101818522 | 76 | ENSG00000107566 | chr10 | ⋯ | 6.908540 | 6.233613 | 6.974758 | 6.509405 | -4.866014e-05 | 6.395328 |  8.824033 |  0.57759985 |  0.4452978 | -0.3354777 |\n",
       "| 6 | chr10 | 101814895 | 101815024 | 94665 | chr10 | 101813654 | 101818522 | 76 | ENSG00000052749 | chr10 | ⋯ | 6.908540 | 6.233613 | 6.974758 | 6.509405 | -4.866014e-05 | 6.395328 | 11.681048 |  0.77571350 |  0.0847067 |  0.2089518 |\n",
       "\n"
      ],
      "text/plain": [
       "  ATACchr ATACstart ATACend   otherEndID otherEndchr otherEndstart otherEndend\n",
       "1 chr10   100168185 100168481 94270      chr10       100168142     100171879  \n",
       "2 chr10   100168185 100168481 94270      chr10       100168142     100171879  \n",
       "3 chr10   100510838 100511373 94364      chr10       100507722     100518706  \n",
       "4 chr10   101814895 101815024 94665      chr10       101813654     101818522  \n",
       "5 chr10   101814895 101815024 94665      chr10       101813654     101818522  \n",
       "6 chr10   101814895 101815024 94665      chr10       101813654     101818522  \n",
       "  ID ENSG            ENSGchr ⋯ AT1H     AT2H     AT4H     AT24H   \n",
       "1  7 ENSG00000099204 chr10   ⋯ 5.549115 5.081706 5.133666 5.469091\n",
       "2  7 ENSG00000122873 chr10   ⋯ 5.549115 5.081706 5.133666 5.469091\n",
       "3 23 ENSG00000052749 chr10   ⋯ 9.971759 8.586541 9.457576 8.248255\n",
       "4 76 ENSG00000047056 chr10   ⋯ 6.908540 6.233613 6.974758 6.509405\n",
       "5 76 ENSG00000107566 chr10   ⋯ 6.908540 6.233613 6.974758 6.509405\n",
       "6 76 ENSG00000052749 chr10   ⋯ 6.908540 6.233613 6.974758 6.509405\n",
       "  Alld_ratio0   mean_atacseq mean_gene corr_atacseq_gene corr_atacseq_otherEnd\n",
       "1 -7.960483e-06 5.300782     13.144099 -0.11473015        0.3875610           \n",
       "2 -7.960483e-06 5.300782      7.386855  0.01408322       -0.6566466           \n",
       "3 -1.622436e-05 9.036950     11.681048  0.05696710       -0.7670981           \n",
       "4 -4.866014e-05 6.395328     10.889609  0.26646359        0.5669826           \n",
       "5 -4.866014e-05 6.395328      8.824033  0.57759985        0.4452978           \n",
       "6 -4.866014e-05 6.395328     11.681048  0.77571350        0.0847067           \n",
       "  corr_gene_otherEnd\n",
       "1 -0.9240688        \n",
       "2  0.3687837        \n",
       "3  0.2089518        \n",
       "4  0.5107519        \n",
       "5 -0.3354777        \n",
       "6  0.2089518        "
      ]
     },
     "metadata": {},
     "output_type": "display_data"
    }
   ],
   "source": [
    "head(data_original)"
   ]
  },
  {
   "cell_type": "code",
   "execution_count": 7,
   "metadata": {},
   "outputs": [],
   "source": [
    "data_original$baitpos <- 0.5*(data_original$baitstart + data_original$baitend)\n",
    "data_original$otherEndpos <- 0.5*(data_original$otherEndstart + data_original$otherEndend)\n",
    "data_original$distance <- abs(data_original$baitpos - data_original$otherEndpos)"
   ]
  },
  {
   "cell_type": "code",
   "execution_count": 8,
   "metadata": {},
   "outputs": [],
   "source": [
    "idx <- data_original$baitchr == data_original$otherEndchr"
   ]
  },
  {
   "cell_type": "code",
   "execution_count": 9,
   "metadata": {},
   "outputs": [],
   "source": [
    "tmp <- data_original[idx,]\n",
    "data <- subset(tmp, tmp$distance < 5000000)"
   ]
  },
  {
   "cell_type": "code",
   "execution_count": 10,
   "metadata": {},
   "outputs": [
    {
     "data": {
      "text/html": [
       "<style>\n",
       ".list-inline {list-style: none; margin:0; padding: 0}\n",
       ".list-inline>li {display: inline-block}\n",
       ".list-inline>li:not(:last-child)::after {content: \"\\00b7\"; padding: 0 .5ex}\n",
       "</style>\n",
       "<ol class=list-inline><li>23887</li><li>81</li></ol>\n"
      ],
      "text/latex": [
       "\\begin{enumerate*}\n",
       "\\item 23887\n",
       "\\item 81\n",
       "\\end{enumerate*}\n"
      ],
      "text/markdown": [
       "1. 23887\n",
       "2. 81\n",
       "\n",
       "\n"
      ],
      "text/plain": [
       "[1] 23887    81"
      ]
     },
     "metadata": {},
     "output_type": "display_data"
    }
   ],
   "source": [
    "dim(data)"
   ]
  },
  {
   "cell_type": "markdown",
   "metadata": {},
   "source": [
    "### get data with dynamic ATACseq"
   ]
  },
  {
   "cell_type": "code",
   "execution_count": 9,
   "metadata": {},
   "outputs": [],
   "source": [
    "data_dynamic_atacseq <- data"
   ]
  },
  {
   "cell_type": "code",
   "execution_count": 10,
   "metadata": {},
   "outputs": [
    {
     "data": {
      "text/html": [
       "<style>\n",
       ".list-inline {list-style: none; margin:0; padding: 0}\n",
       ".list-inline>li {display: inline-block}\n",
       ".list-inline>li:not(:last-child)::after {content: \"\\00b7\"; padding: 0 .5ex}\n",
       "</style>\n",
       "<ol class=list-inline><li>23887</li><li>81</li></ol>\n"
      ],
      "text/latex": [
       "\\begin{enumerate*}\n",
       "\\item 23887\n",
       "\\item 81\n",
       "\\end{enumerate*}\n"
      ],
      "text/markdown": [
       "1. 23887\n",
       "2. 81\n",
       "\n",
       "\n"
      ],
      "text/plain": [
       "[1] 23887    81"
      ]
     },
     "metadata": {},
     "output_type": "display_data"
    }
   ],
   "source": [
    "dim(data_dynamic_atacseq)"
   ]
  },
  {
   "cell_type": "markdown",
   "metadata": {},
   "source": [
    "### load these highly correlated links"
   ]
  },
  {
   "cell_type": "code",
   "execution_count": 11,
   "metadata": {},
   "outputs": [],
   "source": [
    "data_corrover0.5 <- read.table('data/CHiC_ATACseq_RNAseq_linked_correlationover0.5.txt', header=T)"
   ]
  },
  {
   "cell_type": "markdown",
   "metadata": {},
   "source": [
    "### load raw reads ATAC-seq, RNA-seq and CHi-C data"
   ]
  },
  {
   "cell_type": "code",
   "execution_count": 12,
   "metadata": {},
   "outputs": [],
   "source": [
    "counts_chic <- read.table('data/CHiC_counts.txt', header=T)\n",
    "counts_gene <- read.table('data/RNAseq_counts.txt', header=T)\n",
    "counts_atacseq <- read.table('data/ATACseq_counts.txt', header=T)"
   ]
  },
  {
   "cell_type": "markdown",
   "metadata": {},
   "source": [
    "### calculating log2 foldchange by DESeq2"
   ]
  },
  {
   "cell_type": "code",
   "execution_count": 13,
   "metadata": {},
   "outputs": [
    {
     "name": "stderr",
     "output_type": "stream",
     "text": [
      "estimating size factors\n",
      "\n",
      "estimating dispersions\n",
      "\n",
      "gene-wise dispersion estimates\n",
      "\n",
      "mean-dispersion relationship\n",
      "\n",
      "-- note: fitType='parametric', but the dispersion trend was not well captured by the\n",
      "   function: y = a/x + b, and a local regression fit was automatically substituted.\n",
      "   specify fitType='local' or 'mean' to avoid this message next time.\n",
      "\n",
      "final dispersion estimates\n",
      "\n",
      "fitting model and testing\n",
      "\n",
      "estimating size factors\n",
      "\n",
      "estimating dispersions\n",
      "\n",
      "gene-wise dispersion estimates\n",
      "\n",
      "mean-dispersion relationship\n",
      "\n",
      "final dispersion estimates\n",
      "\n",
      "fitting model and testing\n",
      "\n",
      "estimating size factors\n",
      "\n",
      "estimating dispersions\n",
      "\n",
      "gene-wise dispersion estimates\n",
      "\n",
      "mean-dispersion relationship\n",
      "\n",
      "final dispersion estimates\n",
      "\n",
      "fitting model and testing\n",
      "\n"
     ]
    }
   ],
   "source": [
    "counts_chic_0and24 <- as.matrix(counts_chic[,c('T01','T02','T24H1')])\n",
    "counts_gene_0and24 <- as.matrix(counts_gene[,c('O0','N0','O24H','N24H')])\n",
    "counts_atacseq_0and24 <- as.matrix(counts_atacseq[,c('T01','T02','T03','T24H1','T24H2','T24H3')])\n",
    "\n",
    "coldata_chic <- data.frame(condition = c('1','2','1'), replicate=c('T0','T0','T24H'))\n",
    "rownames(coldata_chic) <- names(counts_chic_0and24)\n",
    "dds_chic <- DESeqDataSetFromMatrix(countData = counts_chic_0and24,\n",
    "                              colData = coldata_chic,\n",
    "                              design = ~ replicate)\n",
    "dds_chic <- DESeq(dds_chic)\n",
    "res_chic <- results(dds_chic)\n",
    "\n",
    "coldata_gene <- data.frame(condition = c('1','2','1','2'), replicate=c('T0','T0','T24H','T24H'))\n",
    "rownames(coldata_gene) <- names(counts_gene_0and24)\n",
    "\n",
    "dds_gene <- DESeqDataSetFromMatrix(countData = counts_gene_0and24,\n",
    "                              colData = coldata_gene,\n",
    "                              design = ~ replicate)\n",
    "dds_gene <- DESeq(dds_gene)\n",
    "res_gene <- results(dds_gene)\n",
    "\n",
    "\n",
    "coldata_atacseq <- data.frame(condition = c('1','2','3','1','2','3'), replicate=c('T0','T0','T0','T24H','T24H','T24H'))\n",
    "rownames(coldata_atacseq) <- names(counts_atacseq_0and24)\n",
    "dds_atacseq <- DESeqDataSetFromMatrix(countData = counts_atacseq_0and24,\n",
    "                              colData = coldata_atacseq,\n",
    "                              design = ~ replicate)\n",
    "dds_atacseq <- DESeq(dds_atacseq)\n",
    "res_atacseq <- results(dds_atacseq)"
   ]
  },
  {
   "cell_type": "code",
   "execution_count": 21,
   "metadata": {},
   "outputs": [],
   "source": [
    "chic_log2foldchange <- as.data.frame(cbind(counts_chic[,c('baitID','otherEndID')], res_chic$log2FoldChange))\n",
    "gene_log2foldchange <- as.data.frame(cbind(as.character(counts_gene[,'ENSG']), res_gene$log2FoldChange))\n",
    "atacseq_log2foldchange <- as.data.frame(cbind(counts_atacseq[,c('seqnames','start','end')], res_atacseq$log2FoldChange))\n"
   ]
  },
  {
   "cell_type": "code",
   "execution_count": 22,
   "metadata": {},
   "outputs": [],
   "source": [
    "\n",
    "names(chic_log2foldchange) <- c('baitID','otherEndID','chic_log2foldchange')\n",
    "names(gene_log2foldchange) <- c('ENSG','gene_log2foldchange')\n",
    "names(atacseq_log2foldchange) <- c('ATACchr','ATACstart','ATACend','atacseq_log2foldchange')"
   ]
  },
  {
   "cell_type": "markdown",
   "metadata": {},
   "source": [
    "### plot the results"
   ]
  },
  {
   "cell_type": "code",
   "execution_count": 23,
   "metadata": {},
   "outputs": [],
   "source": [
    "linked_ID_chic_gene <- unique(data[,c('baitID','otherEndID','ENSG')])\n",
    "merged_data <- unique(merge(merge(chic_log2foldchange, linked_ID_chic_gene), gene_log2foldchange))\n",
    "\n",
    "merged_data_clean <- merged_data[complete.cases(merged_data),]\n",
    "\n",
    "ID_corrover0.5 <- unique(data_corrover0.5[,c('baitID','otherEndID','ENSG')])\n",
    "\n",
    "result_merged_corrover0.5 <- merge(ID_corrover0.5, merged_data_clean)\n",
    "\n",
    "data_forplot <- rbind(merged_data_clean[,c('gene_log2foldchange','chic_log2foldchange')], \n",
    "                      result_merged_corrover0.5[,c('gene_log2foldchange','chic_log2foldchange')])\n",
    "data_forplot$label <- c(rep('All', dim(merged_data_clean)[1]), rep('Correlated', dim(result_merged_corrover0.5)[1])) \n",
    "\n",
    "#ggplot(data=data_forplot) + geom_point(data=data_forplot, aes(x=gene_log2foldchange, y=chic_log2foldchange, group=label, color=label)) +\n",
    "#stat_smooth(aes(y=chic_log2foldchange, x=gene_log2foldchange), method = lm, formula = y ~ poly(x)) +\n",
    "\n",
    "#xlab('gene log2 fold change')  + ylab('CHiC log2 fold change') + ggtitle('log2 fold change between 0 and 24hr for chic and gene (within corrover0.5)') +\n",
    "#facet_wrap(.~label)\n",
    "\n",
    "data_forplot$gene_log2foldchange_inter <- round(as.numeric(levels(data_forplot$gene_log2foldchange))[data_forplot$gene_log2foldchange])\n",
    "data_forplot$gene_log2foldchange_inter[data_forplot$gene_log2foldchange_inter<(-6)] <- -6\n",
    "data_forplot$gene_log2foldchange_inter[data_forplot$gene_log2foldchange_inter>6] <- 6\n",
    "data_forplot$factor_gene_log2foldchange <- as.factor(data_forplot$gene_log2foldchange_inter)\n",
    "data_forplot$label2 <- 'chic'\n",
    "\n",
    "linked_ID_atacseq_gene <- unique(data[,c('ATACchr','ATACstart','ATACend','ENSG')])\n",
    "merged_data_atacseq <- unique(merge(merge(atacseq_log2foldchange, linked_ID_atacseq_gene), gene_log2foldchange))\n",
    "\n",
    "merged_data_atacseq_clean <- merged_data_atacseq[complete.cases(merged_data_atacseq),]\n",
    "\n",
    "ID_atacseq_corrover0.5 <- unique(data_corrover0.5[,c('ATACchr','ATACstart','ATACend','ENSG')])\n",
    "\n",
    "result_merged_atacseq_corrover0.5 <- merge(ID_atacseq_corrover0.5, merged_data_atacseq_clean)\n",
    "\n",
    "data_forplot_atacseq <- rbind(merged_data_atacseq_clean[,c('gene_log2foldchange','atacseq_log2foldchange')], \n",
    "                      result_merged_atacseq_corrover0.5[,c('gene_log2foldchange','atacseq_log2foldchange')])\n",
    "data_forplot_atacseq$label <- c(rep('All', dim(merged_data_atacseq_clean)[1]), rep('Correlated', dim(result_merged_atacseq_corrover0.5)[1])) \n",
    "\n",
    "data_forplot_atacseq$gene_log2foldchange_inter <- round(as.numeric(levels(data_forplot_atacseq$gene_log2foldchange))[data_forplot_atacseq$gene_log2foldchange])\n",
    "data_forplot_atacseq$gene_log2foldchange_inter[data_forplot_atacseq$gene_log2foldchange_inter<(-6)] <- -6\n",
    "data_forplot_atacseq$gene_log2foldchange_inter[data_forplot_atacseq$gene_log2foldchange_inter>6] <- 6\n",
    "data_forplot_atacseq$factor_gene_log2foldchange <- as.factor(data_forplot_atacseq$gene_log2foldchange_inter)\n",
    "data_forplot_atacseq$label2 <- 'atacseq'\n",
    "\n",
    "\n",
    "\n",
    "### calculate R2\n",
    "data_forplot_all <- subset(data_forplot, data_forplot$label %in% 'All')\n",
    "data_forplot_correlated <- subset(data_forplot, data_forplot$label %in% 'Correlated')\n",
    "\n",
    "chic_all <- data_forplot_all$chic_log2foldchange\n",
    "gene_all<- as.numeric(levels(data_forplot_all$factor_gene_log2foldchange))[data_forplot_all$factor_gene_log2foldchange]\n",
    "\n",
    "chic_correlated <- data_forplot_correlated$chic_log2foldchange\n",
    "gene_correlated<- as.numeric(levels(data_forplot_correlated$factor_gene_log2foldchange))[data_forplot_correlated$factor_gene_log2foldchange]\n",
    "\n",
    "\n",
    "gene_chic_r <- lm(formula = chic_all~gene_all)\n",
    "r2_gene_chic_all <- summary(gene_chic_r)$r.squared\n",
    "gene_chic_correlated_r <- lm(formula = chic_correlated~gene_correlated)\n",
    "r2_gene_chic_correlated <- summary(gene_chic_correlated_r)$r.squared\n",
    "\n",
    "data_forplot_atacseq_all <- subset(data_forplot_atacseq, data_forplot_atacseq$label %in% 'All')\n",
    "data_forplot_atacseq_correlated <- subset(data_forplot_atacseq, data_forplot_atacseq$label %in% 'Correlated')\n",
    "gene_gene_all<- as.numeric(levels(data_forplot_atacseq_all$factor_gene_log2foldchange))[data_forplot_atacseq_all$factor_gene_log2foldchange]\n",
    "atacseq_gene_all <- data_forplot_atacseq_all$atacseq_log2foldchange\n",
    "atacseq_gene_correlated <- data_forplot_atacseq_correlated$atacseq_log2foldchange\n",
    "\n",
    "gene_gene_correlated<- as.numeric(levels(data_forplot_atacseq_correlated$factor_gene_log2foldchange))[data_forplot_atacseq_correlated$factor_gene_log2foldchange]\n",
    "\n",
    "atacseq_gene_r <- lm(formula = atacseq_gene_all~gene_gene_all)\n",
    "r2_atacseq_gene_all <- summary(atacseq_gene_r)$r.squared\n",
    "atacseq_gene_correlated_r <- lm(formula = atacseq_gene_correlated~gene_gene_correlated)\n",
    "r2_atacseq_gene_correlated <- summary(atacseq_gene_correlated_r)$r.squared\n",
    "\n",
    "\n",
    "data_text <- data.frame(r2=c(r2_gene_chic_all, r2_gene_chic_correlated), y=c(-4,-3), label=c('All','Correlated'))\n",
    "data_gene_text <- data.frame(r2=c(r2_atacseq_gene_all, r2_atacseq_gene_correlated), y=c(-2.2,-1), label=c('All','Correlated'))\n",
    "cols <- c(\"FittedLine\"=\"yellow\",\"CHiC\"=\"salmon1\")\n",
    "cols_gene <- c(\"FittedLine\"=\"blue\",\"ATAC-seq\"=\"lightblue1\")\n",
    "\n"
   ]
  },
  {
   "cell_type": "code",
   "execution_count": 27,
   "metadata": {},
   "outputs": [
    {
     "data": {
      "text/html": [
       "<table>\n",
       "<caption>A matrix: 19165 × 6 of type lgl</caption>\n",
       "<thead>\n",
       "\t<tr><th></th><th scope=col>gene_log2foldchange</th><th scope=col>chic_log2foldchange</th><th scope=col>label</th><th scope=col>gene_log2foldchange_inter</th><th scope=col>factor_gene_log2foldchange</th><th scope=col>label2</th></tr>\n",
       "</thead>\n",
       "<tbody>\n",
       "\t<tr><th scope=row>1</th><td>FALSE</td><td>FALSE</td><td>FALSE</td><td>FALSE</td><td>FALSE</td><td>FALSE</td></tr>\n",
       "\t<tr><th scope=row>2</th><td>FALSE</td><td>FALSE</td><td>FALSE</td><td>FALSE</td><td>FALSE</td><td>FALSE</td></tr>\n",
       "\t<tr><th scope=row>3</th><td>FALSE</td><td>FALSE</td><td>FALSE</td><td>FALSE</td><td>FALSE</td><td>FALSE</td></tr>\n",
       "\t<tr><th scope=row>4</th><td>FALSE</td><td>FALSE</td><td>FALSE</td><td>FALSE</td><td>FALSE</td><td>FALSE</td></tr>\n",
       "\t<tr><th scope=row>5</th><td>FALSE</td><td>FALSE</td><td>FALSE</td><td>FALSE</td><td>FALSE</td><td>FALSE</td></tr>\n",
       "\t<tr><th scope=row>6</th><td>FALSE</td><td>FALSE</td><td>FALSE</td><td>FALSE</td><td>FALSE</td><td>FALSE</td></tr>\n",
       "\t<tr><th scope=row>7</th><td>FALSE</td><td>FALSE</td><td>FALSE</td><td>FALSE</td><td>FALSE</td><td>FALSE</td></tr>\n",
       "\t<tr><th scope=row>8</th><td>FALSE</td><td>FALSE</td><td>FALSE</td><td>FALSE</td><td>FALSE</td><td>FALSE</td></tr>\n",
       "\t<tr><th scope=row>9</th><td>FALSE</td><td>FALSE</td><td>FALSE</td><td>FALSE</td><td>FALSE</td><td>FALSE</td></tr>\n",
       "\t<tr><th scope=row>10</th><td>FALSE</td><td>FALSE</td><td>FALSE</td><td>FALSE</td><td>FALSE</td><td>FALSE</td></tr>\n",
       "\t<tr><th scope=row>11</th><td>FALSE</td><td>FALSE</td><td>FALSE</td><td>FALSE</td><td>FALSE</td><td>FALSE</td></tr>\n",
       "\t<tr><th scope=row>12</th><td>FALSE</td><td>FALSE</td><td>FALSE</td><td>FALSE</td><td>FALSE</td><td>FALSE</td></tr>\n",
       "\t<tr><th scope=row>13</th><td>FALSE</td><td>FALSE</td><td>FALSE</td><td>FALSE</td><td>FALSE</td><td>FALSE</td></tr>\n",
       "\t<tr><th scope=row>14</th><td>FALSE</td><td>FALSE</td><td>FALSE</td><td>FALSE</td><td>FALSE</td><td>FALSE</td></tr>\n",
       "\t<tr><th scope=row>15</th><td>FALSE</td><td>FALSE</td><td>FALSE</td><td>FALSE</td><td>FALSE</td><td>FALSE</td></tr>\n",
       "\t<tr><th scope=row>16</th><td>FALSE</td><td>FALSE</td><td>FALSE</td><td>FALSE</td><td>FALSE</td><td>FALSE</td></tr>\n",
       "\t<tr><th scope=row>17</th><td>FALSE</td><td>FALSE</td><td>FALSE</td><td>FALSE</td><td>FALSE</td><td>FALSE</td></tr>\n",
       "\t<tr><th scope=row>18</th><td>FALSE</td><td>FALSE</td><td>FALSE</td><td>FALSE</td><td>FALSE</td><td>FALSE</td></tr>\n",
       "\t<tr><th scope=row>19</th><td>FALSE</td><td>FALSE</td><td>FALSE</td><td>FALSE</td><td>FALSE</td><td>FALSE</td></tr>\n",
       "\t<tr><th scope=row>20</th><td>FALSE</td><td>FALSE</td><td>FALSE</td><td>FALSE</td><td>FALSE</td><td>FALSE</td></tr>\n",
       "\t<tr><th scope=row>21</th><td>FALSE</td><td>FALSE</td><td>FALSE</td><td>FALSE</td><td>FALSE</td><td>FALSE</td></tr>\n",
       "\t<tr><th scope=row>22</th><td>FALSE</td><td>FALSE</td><td>FALSE</td><td>FALSE</td><td>FALSE</td><td>FALSE</td></tr>\n",
       "\t<tr><th scope=row>23</th><td>FALSE</td><td>FALSE</td><td>FALSE</td><td>FALSE</td><td>FALSE</td><td>FALSE</td></tr>\n",
       "\t<tr><th scope=row>24</th><td>FALSE</td><td>FALSE</td><td>FALSE</td><td>FALSE</td><td>FALSE</td><td>FALSE</td></tr>\n",
       "\t<tr><th scope=row>25</th><td>FALSE</td><td>FALSE</td><td>FALSE</td><td>FALSE</td><td>FALSE</td><td>FALSE</td></tr>\n",
       "\t<tr><th scope=row>26</th><td>FALSE</td><td>FALSE</td><td>FALSE</td><td>FALSE</td><td>FALSE</td><td>FALSE</td></tr>\n",
       "\t<tr><th scope=row>27</th><td>FALSE</td><td>FALSE</td><td>FALSE</td><td>FALSE</td><td>FALSE</td><td>FALSE</td></tr>\n",
       "\t<tr><th scope=row>28</th><td>FALSE</td><td>FALSE</td><td>FALSE</td><td>FALSE</td><td>FALSE</td><td>FALSE</td></tr>\n",
       "\t<tr><th scope=row>29</th><td>FALSE</td><td>FALSE</td><td>FALSE</td><td>FALSE</td><td>FALSE</td><td>FALSE</td></tr>\n",
       "\t<tr><th scope=row>30</th><td>FALSE</td><td>FALSE</td><td>FALSE</td><td>FALSE</td><td>FALSE</td><td>FALSE</td></tr>\n",
       "\t<tr><th scope=row>⋮</th><td>⋮</td><td>⋮</td><td>⋮</td><td>⋮</td><td>⋮</td><td>⋮</td></tr>\n",
       "\t<tr><th scope=row>106910</th><td>FALSE</td><td>FALSE</td><td>FALSE</td><td>FALSE</td><td>FALSE</td><td>FALSE</td></tr>\n",
       "\t<tr><th scope=row>107010</th><td>FALSE</td><td>FALSE</td><td>FALSE</td><td>FALSE</td><td>FALSE</td><td>FALSE</td></tr>\n",
       "\t<tr><th scope=row>107110</th><td>FALSE</td><td>FALSE</td><td>FALSE</td><td>FALSE</td><td>FALSE</td><td>FALSE</td></tr>\n",
       "\t<tr><th scope=row>107210</th><td>FALSE</td><td>FALSE</td><td>FALSE</td><td>FALSE</td><td>FALSE</td><td>FALSE</td></tr>\n",
       "\t<tr><th scope=row>107310</th><td>FALSE</td><td>FALSE</td><td>FALSE</td><td>FALSE</td><td>FALSE</td><td>FALSE</td></tr>\n",
       "\t<tr><th scope=row>107410</th><td>FALSE</td><td>FALSE</td><td>FALSE</td><td>FALSE</td><td>FALSE</td><td>FALSE</td></tr>\n",
       "\t<tr><th scope=row>107510</th><td>FALSE</td><td>FALSE</td><td>FALSE</td><td>FALSE</td><td>FALSE</td><td>FALSE</td></tr>\n",
       "\t<tr><th scope=row>107610</th><td>FALSE</td><td>FALSE</td><td>FALSE</td><td>FALSE</td><td>FALSE</td><td>FALSE</td></tr>\n",
       "\t<tr><th scope=row>1077</th><td>FALSE</td><td>FALSE</td><td>FALSE</td><td>FALSE</td><td>FALSE</td><td>FALSE</td></tr>\n",
       "\t<tr><th scope=row>107810</th><td>FALSE</td><td>FALSE</td><td>FALSE</td><td>FALSE</td><td>FALSE</td><td>FALSE</td></tr>\n",
       "\t<tr><th scope=row>10796</th><td>FALSE</td><td>FALSE</td><td>FALSE</td><td>FALSE</td><td>FALSE</td><td>FALSE</td></tr>\n",
       "\t<tr><th scope=row>108010</th><td>FALSE</td><td>FALSE</td><td>FALSE</td><td>FALSE</td><td>FALSE</td><td>FALSE</td></tr>\n",
       "\t<tr><th scope=row>108110</th><td>FALSE</td><td>FALSE</td><td>FALSE</td><td>FALSE</td><td>FALSE</td><td>FALSE</td></tr>\n",
       "\t<tr><th scope=row>108210</th><td>FALSE</td><td>FALSE</td><td>FALSE</td><td>FALSE</td><td>FALSE</td><td>FALSE</td></tr>\n",
       "\t<tr><th scope=row>108310</th><td>FALSE</td><td>FALSE</td><td>FALSE</td><td>FALSE</td><td>FALSE</td><td>FALSE</td></tr>\n",
       "\t<tr><th scope=row>108410</th><td>FALSE</td><td>FALSE</td><td>FALSE</td><td>FALSE</td><td>FALSE</td><td>FALSE</td></tr>\n",
       "\t<tr><th scope=row>108510</th><td>FALSE</td><td>FALSE</td><td>FALSE</td><td>FALSE</td><td>FALSE</td><td>FALSE</td></tr>\n",
       "\t<tr><th scope=row>108610</th><td>FALSE</td><td>FALSE</td><td>FALSE</td><td>FALSE</td><td>FALSE</td><td>FALSE</td></tr>\n",
       "\t<tr><th scope=row>108710</th><td>FALSE</td><td>FALSE</td><td>FALSE</td><td>FALSE</td><td>FALSE</td><td>FALSE</td></tr>\n",
       "\t<tr><th scope=row>108810</th><td>FALSE</td><td>FALSE</td><td>FALSE</td><td>FALSE</td><td>FALSE</td><td>FALSE</td></tr>\n",
       "\t<tr><th scope=row>108910</th><td>FALSE</td><td>FALSE</td><td>FALSE</td><td>FALSE</td><td>FALSE</td><td>FALSE</td></tr>\n",
       "\t<tr><th scope=row>109010</th><td>FALSE</td><td>FALSE</td><td>FALSE</td><td>FALSE</td><td>FALSE</td><td>FALSE</td></tr>\n",
       "\t<tr><th scope=row>109110</th><td>FALSE</td><td>FALSE</td><td>FALSE</td><td>FALSE</td><td>FALSE</td><td>FALSE</td></tr>\n",
       "\t<tr><th scope=row>109210</th><td>FALSE</td><td>FALSE</td><td>FALSE</td><td>FALSE</td><td>FALSE</td><td>FALSE</td></tr>\n",
       "\t<tr><th scope=row>109310</th><td>FALSE</td><td>FALSE</td><td>FALSE</td><td>FALSE</td><td>FALSE</td><td>FALSE</td></tr>\n",
       "\t<tr><th scope=row>109410</th><td>FALSE</td><td>FALSE</td><td>FALSE</td><td>FALSE</td><td>FALSE</td><td>FALSE</td></tr>\n",
       "\t<tr><th scope=row>109510</th><td>FALSE</td><td>FALSE</td><td>FALSE</td><td>FALSE</td><td>FALSE</td><td>FALSE</td></tr>\n",
       "\t<tr><th scope=row>109610</th><td>FALSE</td><td>FALSE</td><td>FALSE</td><td>FALSE</td><td>FALSE</td><td>FALSE</td></tr>\n",
       "\t<tr><th scope=row>109710</th><td>FALSE</td><td>FALSE</td><td>FALSE</td><td>FALSE</td><td>FALSE</td><td>FALSE</td></tr>\n",
       "\t<tr><th scope=row>109810</th><td>FALSE</td><td>FALSE</td><td>FALSE</td><td>FALSE</td><td>FALSE</td><td>FALSE</td></tr>\n",
       "</tbody>\n",
       "</table>\n"
      ],
      "text/latex": [
       "A matrix: 19165 × 6 of type lgl\n",
       "\\begin{tabular}{r|llllll}\n",
       "  & gene\\_log2foldchange & chic\\_log2foldchange & label & gene\\_log2foldchange\\_inter & factor\\_gene\\_log2foldchange & label2\\\\\n",
       "\\hline\n",
       "\t1 & FALSE & FALSE & FALSE & FALSE & FALSE & FALSE\\\\\n",
       "\t2 & FALSE & FALSE & FALSE & FALSE & FALSE & FALSE\\\\\n",
       "\t3 & FALSE & FALSE & FALSE & FALSE & FALSE & FALSE\\\\\n",
       "\t4 & FALSE & FALSE & FALSE & FALSE & FALSE & FALSE\\\\\n",
       "\t5 & FALSE & FALSE & FALSE & FALSE & FALSE & FALSE\\\\\n",
       "\t6 & FALSE & FALSE & FALSE & FALSE & FALSE & FALSE\\\\\n",
       "\t7 & FALSE & FALSE & FALSE & FALSE & FALSE & FALSE\\\\\n",
       "\t8 & FALSE & FALSE & FALSE & FALSE & FALSE & FALSE\\\\\n",
       "\t9 & FALSE & FALSE & FALSE & FALSE & FALSE & FALSE\\\\\n",
       "\t10 & FALSE & FALSE & FALSE & FALSE & FALSE & FALSE\\\\\n",
       "\t11 & FALSE & FALSE & FALSE & FALSE & FALSE & FALSE\\\\\n",
       "\t12 & FALSE & FALSE & FALSE & FALSE & FALSE & FALSE\\\\\n",
       "\t13 & FALSE & FALSE & FALSE & FALSE & FALSE & FALSE\\\\\n",
       "\t14 & FALSE & FALSE & FALSE & FALSE & FALSE & FALSE\\\\\n",
       "\t15 & FALSE & FALSE & FALSE & FALSE & FALSE & FALSE\\\\\n",
       "\t16 & FALSE & FALSE & FALSE & FALSE & FALSE & FALSE\\\\\n",
       "\t17 & FALSE & FALSE & FALSE & FALSE & FALSE & FALSE\\\\\n",
       "\t18 & FALSE & FALSE & FALSE & FALSE & FALSE & FALSE\\\\\n",
       "\t19 & FALSE & FALSE & FALSE & FALSE & FALSE & FALSE\\\\\n",
       "\t20 & FALSE & FALSE & FALSE & FALSE & FALSE & FALSE\\\\\n",
       "\t21 & FALSE & FALSE & FALSE & FALSE & FALSE & FALSE\\\\\n",
       "\t22 & FALSE & FALSE & FALSE & FALSE & FALSE & FALSE\\\\\n",
       "\t23 & FALSE & FALSE & FALSE & FALSE & FALSE & FALSE\\\\\n",
       "\t24 & FALSE & FALSE & FALSE & FALSE & FALSE & FALSE\\\\\n",
       "\t25 & FALSE & FALSE & FALSE & FALSE & FALSE & FALSE\\\\\n",
       "\t26 & FALSE & FALSE & FALSE & FALSE & FALSE & FALSE\\\\\n",
       "\t27 & FALSE & FALSE & FALSE & FALSE & FALSE & FALSE\\\\\n",
       "\t28 & FALSE & FALSE & FALSE & FALSE & FALSE & FALSE\\\\\n",
       "\t29 & FALSE & FALSE & FALSE & FALSE & FALSE & FALSE\\\\\n",
       "\t30 & FALSE & FALSE & FALSE & FALSE & FALSE & FALSE\\\\\n",
       "\t⋮ & ⋮ & ⋮ & ⋮ & ⋮ & ⋮ & ⋮\\\\\n",
       "\t106910 & FALSE & FALSE & FALSE & FALSE & FALSE & FALSE\\\\\n",
       "\t107010 & FALSE & FALSE & FALSE & FALSE & FALSE & FALSE\\\\\n",
       "\t107110 & FALSE & FALSE & FALSE & FALSE & FALSE & FALSE\\\\\n",
       "\t107210 & FALSE & FALSE & FALSE & FALSE & FALSE & FALSE\\\\\n",
       "\t107310 & FALSE & FALSE & FALSE & FALSE & FALSE & FALSE\\\\\n",
       "\t107410 & FALSE & FALSE & FALSE & FALSE & FALSE & FALSE\\\\\n",
       "\t107510 & FALSE & FALSE & FALSE & FALSE & FALSE & FALSE\\\\\n",
       "\t107610 & FALSE & FALSE & FALSE & FALSE & FALSE & FALSE\\\\\n",
       "\t1077 & FALSE & FALSE & FALSE & FALSE & FALSE & FALSE\\\\\n",
       "\t107810 & FALSE & FALSE & FALSE & FALSE & FALSE & FALSE\\\\\n",
       "\t10796 & FALSE & FALSE & FALSE & FALSE & FALSE & FALSE\\\\\n",
       "\t108010 & FALSE & FALSE & FALSE & FALSE & FALSE & FALSE\\\\\n",
       "\t108110 & FALSE & FALSE & FALSE & FALSE & FALSE & FALSE\\\\\n",
       "\t108210 & FALSE & FALSE & FALSE & FALSE & FALSE & FALSE\\\\\n",
       "\t108310 & FALSE & FALSE & FALSE & FALSE & FALSE & FALSE\\\\\n",
       "\t108410 & FALSE & FALSE & FALSE & FALSE & FALSE & FALSE\\\\\n",
       "\t108510 & FALSE & FALSE & FALSE & FALSE & FALSE & FALSE\\\\\n",
       "\t108610 & FALSE & FALSE & FALSE & FALSE & FALSE & FALSE\\\\\n",
       "\t108710 & FALSE & FALSE & FALSE & FALSE & FALSE & FALSE\\\\\n",
       "\t108810 & FALSE & FALSE & FALSE & FALSE & FALSE & FALSE\\\\\n",
       "\t108910 & FALSE & FALSE & FALSE & FALSE & FALSE & FALSE\\\\\n",
       "\t109010 & FALSE & FALSE & FALSE & FALSE & FALSE & FALSE\\\\\n",
       "\t109110 & FALSE & FALSE & FALSE & FALSE & FALSE & FALSE\\\\\n",
       "\t109210 & FALSE & FALSE & FALSE & FALSE & FALSE & FALSE\\\\\n",
       "\t109310 & FALSE & FALSE & FALSE & FALSE & FALSE & FALSE\\\\\n",
       "\t109410 & FALSE & FALSE & FALSE & FALSE & FALSE & FALSE\\\\\n",
       "\t109510 & FALSE & FALSE & FALSE & FALSE & FALSE & FALSE\\\\\n",
       "\t109610 & FALSE & FALSE & FALSE & FALSE & FALSE & FALSE\\\\\n",
       "\t109710 & FALSE & FALSE & FALSE & FALSE & FALSE & FALSE\\\\\n",
       "\t109810 & FALSE & FALSE & FALSE & FALSE & FALSE & FALSE\\\\\n",
       "\\end{tabular}\n"
      ],
      "text/markdown": [
       "\n",
       "A matrix: 19165 × 6 of type lgl\n",
       "\n",
       "| <!--/--> | gene_log2foldchange | chic_log2foldchange | label | gene_log2foldchange_inter | factor_gene_log2foldchange | label2 |\n",
       "|---|---|---|---|---|---|---|\n",
       "| 1 | FALSE | FALSE | FALSE | FALSE | FALSE | FALSE |\n",
       "| 2 | FALSE | FALSE | FALSE | FALSE | FALSE | FALSE |\n",
       "| 3 | FALSE | FALSE | FALSE | FALSE | FALSE | FALSE |\n",
       "| 4 | FALSE | FALSE | FALSE | FALSE | FALSE | FALSE |\n",
       "| 5 | FALSE | FALSE | FALSE | FALSE | FALSE | FALSE |\n",
       "| 6 | FALSE | FALSE | FALSE | FALSE | FALSE | FALSE |\n",
       "| 7 | FALSE | FALSE | FALSE | FALSE | FALSE | FALSE |\n",
       "| 8 | FALSE | FALSE | FALSE | FALSE | FALSE | FALSE |\n",
       "| 9 | FALSE | FALSE | FALSE | FALSE | FALSE | FALSE |\n",
       "| 10 | FALSE | FALSE | FALSE | FALSE | FALSE | FALSE |\n",
       "| 11 | FALSE | FALSE | FALSE | FALSE | FALSE | FALSE |\n",
       "| 12 | FALSE | FALSE | FALSE | FALSE | FALSE | FALSE |\n",
       "| 13 | FALSE | FALSE | FALSE | FALSE | FALSE | FALSE |\n",
       "| 14 | FALSE | FALSE | FALSE | FALSE | FALSE | FALSE |\n",
       "| 15 | FALSE | FALSE | FALSE | FALSE | FALSE | FALSE |\n",
       "| 16 | FALSE | FALSE | FALSE | FALSE | FALSE | FALSE |\n",
       "| 17 | FALSE | FALSE | FALSE | FALSE | FALSE | FALSE |\n",
       "| 18 | FALSE | FALSE | FALSE | FALSE | FALSE | FALSE |\n",
       "| 19 | FALSE | FALSE | FALSE | FALSE | FALSE | FALSE |\n",
       "| 20 | FALSE | FALSE | FALSE | FALSE | FALSE | FALSE |\n",
       "| 21 | FALSE | FALSE | FALSE | FALSE | FALSE | FALSE |\n",
       "| 22 | FALSE | FALSE | FALSE | FALSE | FALSE | FALSE |\n",
       "| 23 | FALSE | FALSE | FALSE | FALSE | FALSE | FALSE |\n",
       "| 24 | FALSE | FALSE | FALSE | FALSE | FALSE | FALSE |\n",
       "| 25 | FALSE | FALSE | FALSE | FALSE | FALSE | FALSE |\n",
       "| 26 | FALSE | FALSE | FALSE | FALSE | FALSE | FALSE |\n",
       "| 27 | FALSE | FALSE | FALSE | FALSE | FALSE | FALSE |\n",
       "| 28 | FALSE | FALSE | FALSE | FALSE | FALSE | FALSE |\n",
       "| 29 | FALSE | FALSE | FALSE | FALSE | FALSE | FALSE |\n",
       "| 30 | FALSE | FALSE | FALSE | FALSE | FALSE | FALSE |\n",
       "| ⋮ | ⋮ | ⋮ | ⋮ | ⋮ | ⋮ | ⋮ |\n",
       "| 106910 | FALSE | FALSE | FALSE | FALSE | FALSE | FALSE |\n",
       "| 107010 | FALSE | FALSE | FALSE | FALSE | FALSE | FALSE |\n",
       "| 107110 | FALSE | FALSE | FALSE | FALSE | FALSE | FALSE |\n",
       "| 107210 | FALSE | FALSE | FALSE | FALSE | FALSE | FALSE |\n",
       "| 107310 | FALSE | FALSE | FALSE | FALSE | FALSE | FALSE |\n",
       "| 107410 | FALSE | FALSE | FALSE | FALSE | FALSE | FALSE |\n",
       "| 107510 | FALSE | FALSE | FALSE | FALSE | FALSE | FALSE |\n",
       "| 107610 | FALSE | FALSE | FALSE | FALSE | FALSE | FALSE |\n",
       "| 1077 | FALSE | FALSE | FALSE | FALSE | FALSE | FALSE |\n",
       "| 107810 | FALSE | FALSE | FALSE | FALSE | FALSE | FALSE |\n",
       "| 10796 | FALSE | FALSE | FALSE | FALSE | FALSE | FALSE |\n",
       "| 108010 | FALSE | FALSE | FALSE | FALSE | FALSE | FALSE |\n",
       "| 108110 | FALSE | FALSE | FALSE | FALSE | FALSE | FALSE |\n",
       "| 108210 | FALSE | FALSE | FALSE | FALSE | FALSE | FALSE |\n",
       "| 108310 | FALSE | FALSE | FALSE | FALSE | FALSE | FALSE |\n",
       "| 108410 | FALSE | FALSE | FALSE | FALSE | FALSE | FALSE |\n",
       "| 108510 | FALSE | FALSE | FALSE | FALSE | FALSE | FALSE |\n",
       "| 108610 | FALSE | FALSE | FALSE | FALSE | FALSE | FALSE |\n",
       "| 108710 | FALSE | FALSE | FALSE | FALSE | FALSE | FALSE |\n",
       "| 108810 | FALSE | FALSE | FALSE | FALSE | FALSE | FALSE |\n",
       "| 108910 | FALSE | FALSE | FALSE | FALSE | FALSE | FALSE |\n",
       "| 109010 | FALSE | FALSE | FALSE | FALSE | FALSE | FALSE |\n",
       "| 109110 | FALSE | FALSE | FALSE | FALSE | FALSE | FALSE |\n",
       "| 109210 | FALSE | FALSE | FALSE | FALSE | FALSE | FALSE |\n",
       "| 109310 | FALSE | FALSE | FALSE | FALSE | FALSE | FALSE |\n",
       "| 109410 | FALSE | FALSE | FALSE | FALSE | FALSE | FALSE |\n",
       "| 109510 | FALSE | FALSE | FALSE | FALSE | FALSE | FALSE |\n",
       "| 109610 | FALSE | FALSE | FALSE | FALSE | FALSE | FALSE |\n",
       "| 109710 | FALSE | FALSE | FALSE | FALSE | FALSE | FALSE |\n",
       "| 109810 | FALSE | FALSE | FALSE | FALSE | FALSE | FALSE |\n",
       "\n"
      ],
      "text/plain": [
       "       gene_log2foldchange chic_log2foldchange label gene_log2foldchange_inter\n",
       "1      FALSE               FALSE               FALSE FALSE                    \n",
       "2      FALSE               FALSE               FALSE FALSE                    \n",
       "3      FALSE               FALSE               FALSE FALSE                    \n",
       "4      FALSE               FALSE               FALSE FALSE                    \n",
       "5      FALSE               FALSE               FALSE FALSE                    \n",
       "6      FALSE               FALSE               FALSE FALSE                    \n",
       "7      FALSE               FALSE               FALSE FALSE                    \n",
       "8      FALSE               FALSE               FALSE FALSE                    \n",
       "9      FALSE               FALSE               FALSE FALSE                    \n",
       "10     FALSE               FALSE               FALSE FALSE                    \n",
       "11     FALSE               FALSE               FALSE FALSE                    \n",
       "12     FALSE               FALSE               FALSE FALSE                    \n",
       "13     FALSE               FALSE               FALSE FALSE                    \n",
       "14     FALSE               FALSE               FALSE FALSE                    \n",
       "15     FALSE               FALSE               FALSE FALSE                    \n",
       "16     FALSE               FALSE               FALSE FALSE                    \n",
       "17     FALSE               FALSE               FALSE FALSE                    \n",
       "18     FALSE               FALSE               FALSE FALSE                    \n",
       "19     FALSE               FALSE               FALSE FALSE                    \n",
       "20     FALSE               FALSE               FALSE FALSE                    \n",
       "21     FALSE               FALSE               FALSE FALSE                    \n",
       "22     FALSE               FALSE               FALSE FALSE                    \n",
       "23     FALSE               FALSE               FALSE FALSE                    \n",
       "24     FALSE               FALSE               FALSE FALSE                    \n",
       "25     FALSE               FALSE               FALSE FALSE                    \n",
       "26     FALSE               FALSE               FALSE FALSE                    \n",
       "27     FALSE               FALSE               FALSE FALSE                    \n",
       "28     FALSE               FALSE               FALSE FALSE                    \n",
       "29     FALSE               FALSE               FALSE FALSE                    \n",
       "30     FALSE               FALSE               FALSE FALSE                    \n",
       "⋮      ⋮                   ⋮                   ⋮     ⋮                        \n",
       "106910 FALSE               FALSE               FALSE FALSE                    \n",
       "107010 FALSE               FALSE               FALSE FALSE                    \n",
       "107110 FALSE               FALSE               FALSE FALSE                    \n",
       "107210 FALSE               FALSE               FALSE FALSE                    \n",
       "107310 FALSE               FALSE               FALSE FALSE                    \n",
       "107410 FALSE               FALSE               FALSE FALSE                    \n",
       "107510 FALSE               FALSE               FALSE FALSE                    \n",
       "107610 FALSE               FALSE               FALSE FALSE                    \n",
       "1077   FALSE               FALSE               FALSE FALSE                    \n",
       "107810 FALSE               FALSE               FALSE FALSE                    \n",
       "10796  FALSE               FALSE               FALSE FALSE                    \n",
       "108010 FALSE               FALSE               FALSE FALSE                    \n",
       "108110 FALSE               FALSE               FALSE FALSE                    \n",
       "108210 FALSE               FALSE               FALSE FALSE                    \n",
       "108310 FALSE               FALSE               FALSE FALSE                    \n",
       "108410 FALSE               FALSE               FALSE FALSE                    \n",
       "108510 FALSE               FALSE               FALSE FALSE                    \n",
       "108610 FALSE               FALSE               FALSE FALSE                    \n",
       "108710 FALSE               FALSE               FALSE FALSE                    \n",
       "108810 FALSE               FALSE               FALSE FALSE                    \n",
       "108910 FALSE               FALSE               FALSE FALSE                    \n",
       "109010 FALSE               FALSE               FALSE FALSE                    \n",
       "109110 FALSE               FALSE               FALSE FALSE                    \n",
       "109210 FALSE               FALSE               FALSE FALSE                    \n",
       "109310 FALSE               FALSE               FALSE FALSE                    \n",
       "109410 FALSE               FALSE               FALSE FALSE                    \n",
       "109510 FALSE               FALSE               FALSE FALSE                    \n",
       "109610 FALSE               FALSE               FALSE FALSE                    \n",
       "109710 FALSE               FALSE               FALSE FALSE                    \n",
       "109810 FALSE               FALSE               FALSE FALSE                    \n",
       "       factor_gene_log2foldchange label2\n",
       "1      FALSE                      FALSE \n",
       "2      FALSE                      FALSE \n",
       "3      FALSE                      FALSE \n",
       "4      FALSE                      FALSE \n",
       "5      FALSE                      FALSE \n",
       "6      FALSE                      FALSE \n",
       "7      FALSE                      FALSE \n",
       "8      FALSE                      FALSE \n",
       "9      FALSE                      FALSE \n",
       "10     FALSE                      FALSE \n",
       "11     FALSE                      FALSE \n",
       "12     FALSE                      FALSE \n",
       "13     FALSE                      FALSE \n",
       "14     FALSE                      FALSE \n",
       "15     FALSE                      FALSE \n",
       "16     FALSE                      FALSE \n",
       "17     FALSE                      FALSE \n",
       "18     FALSE                      FALSE \n",
       "19     FALSE                      FALSE \n",
       "20     FALSE                      FALSE \n",
       "21     FALSE                      FALSE \n",
       "22     FALSE                      FALSE \n",
       "23     FALSE                      FALSE \n",
       "24     FALSE                      FALSE \n",
       "25     FALSE                      FALSE \n",
       "26     FALSE                      FALSE \n",
       "27     FALSE                      FALSE \n",
       "28     FALSE                      FALSE \n",
       "29     FALSE                      FALSE \n",
       "30     FALSE                      FALSE \n",
       "⋮      ⋮                          ⋮     \n",
       "106910 FALSE                      FALSE \n",
       "107010 FALSE                      FALSE \n",
       "107110 FALSE                      FALSE \n",
       "107210 FALSE                      FALSE \n",
       "107310 FALSE                      FALSE \n",
       "107410 FALSE                      FALSE \n",
       "107510 FALSE                      FALSE \n",
       "107610 FALSE                      FALSE \n",
       "1077   FALSE                      FALSE \n",
       "107810 FALSE                      FALSE \n",
       "10796  FALSE                      FALSE \n",
       "108010 FALSE                      FALSE \n",
       "108110 FALSE                      FALSE \n",
       "108210 FALSE                      FALSE \n",
       "108310 FALSE                      FALSE \n",
       "108410 FALSE                      FALSE \n",
       "108510 FALSE                      FALSE \n",
       "108610 FALSE                      FALSE \n",
       "108710 FALSE                      FALSE \n",
       "108810 FALSE                      FALSE \n",
       "108910 FALSE                      FALSE \n",
       "109010 FALSE                      FALSE \n",
       "109110 FALSE                      FALSE \n",
       "109210 FALSE                      FALSE \n",
       "109310 FALSE                      FALSE \n",
       "109410 FALSE                      FALSE \n",
       "109510 FALSE                      FALSE \n",
       "109610 FALSE                      FALSE \n",
       "109710 FALSE                      FALSE \n",
       "109810 FALSE                      FALSE "
      ]
     },
     "metadata": {},
     "output_type": "display_data"
    }
   ],
   "source": [
    "fis.na(data_forplot)"
   ]
  },
  {
   "cell_type": "code",
   "execution_count": 24,
   "metadata": {},
   "outputs": [
    {
     "name": "stderr",
     "output_type": "stream",
     "text": [
      "Warning message:\n",
      "“Removed 2165 rows containing non-finite values (stat_boxplot).”\n"
     ]
    },
    {
     "data": {
      "image/png": "[encoded data removed]",
      "text/plain": [
       "plot without title"
      ]
     },
     "metadata": {
      "image/png": {
       "height": 420,
       "width": 420
      }
     },
     "output_type": "display_data"
    }
   ],
   "source": [
    "p1 <- ggplot() + theme(panel.background=element_blank(), axis.line=element_line(), \n",
    "                       axis.text=element_text(size=16),axis.title=element_text(size=18,face=\"bold\"), \n",
    "                       legend.position='NONE', plot.title=element_text(size=14, face='bold'), \n",
    "                       text=element_text(size=14, face='bold'),strip.text.x=element_text(siz=16, face='bold')) + \n",
    "geom_boxplot(data=data_forplot, aes(x=factor_gene_log2foldchange, \n",
    "                                                     y= chic_log2foldchange, fill=\"CHiC\"),\n",
    "                        outlier.shape = NA, color=\"red\", alpha=0.2)+  \n",
    "ylim(c(-2.5,4)) + xlab('Gene counts log2 fold change')  + ylab('CHi-C counts log2 fold change') +\n",
    "  scale_colour_manual(name=\"\",values=cols) + scale_fill_manual(name=\"\",values=cols) +\n",
    "scale_x_discrete(breaks=c(\"-6\",\"-4\",\"-2\",\"0\",\"2\",\"4\",\"6\"),\n",
    "        labels=c(\"<-5\",\"-4\",\"-2\",\"0\",\"2\",\"4\", \">5\")) + ggtitle('Fig 4b') +\n",
    "#ggtitle('log2 fold change between 0 hr and 24 hrs for gene and CHi-C (Fig. 4b)') + \n",
    "facet_wrap(.~label, ncol=1)\n",
    "p1\n",
    "#ggsave('~/Dropbox (The University of Manchester)/IntegratingATAC-RNA-HiC/Individual_Figures_Files/CHiC_ATACSeq_gene/gene_log2foldchange_chic_0210.pdf', p1)"
   ]
  },
  {
   "cell_type": "code",
   "execution_count": 25,
   "metadata": {},
   "outputs": [
    {
     "data": {
      "image/png": "[encoded data removed]",
      "text/plain": [
       "plot without title"
      ]
     },
     "metadata": {
      "image/png": {
       "height": 420,
       "width": 420
      }
     },
     "output_type": "display_data"
    }
   ],
   "source": [
    "p2 <- ggplot() + theme(panel.background=element_blank(), axis.line=element_line(), \n",
    "                       axis.text=element_text(size=16),axis.title=element_text(size=18,face=\"bold\"), \n",
    "                       legend.position='NONE', plot.title=element_text(size=16, face='bold'), \n",
    "                       text=element_text(size=16, face='bold'),strip.text.x=element_text(siz=16, face='bold')) + \n",
    "geom_boxplot(data=data_forplot_atacseq, aes(x=factor_gene_log2foldchange, y=atacseq_log2foldchange, fill=\"ATAC-seq\"),\n",
    "                        outlier.shape = NA, color=\"blue\", alpha=0.2 )+  \n",
    "xlab('Gene counts log2 fold change')  + ylab('ATAC-seq counts log2 fold change') +\n",
    "  scale_colour_manual(name=\"\",values=cols_gene) + scale_fill_manual(name=\"\",values=cols_gene) +\n",
    "scale_x_discrete(breaks=c(\"-6\",\"-4\",\"-2\",\"0\",\"2\",\"4\",\"6\"),\n",
    "        labels=c(\"<-5\",\"-4\",\"-2\",\"0\",\"2\",\"4\", \">5\")) +  ggtitle('Fig 4c') +\n",
    "#ggtitle('log2 fold change between 0 hr and 24 hr for gene and ATAC-seq (Fig. 4c)') + \n",
    "facet_wrap(.~label, ncol=1)\n",
    "p2"
   ]
  },
  {
   "cell_type": "code",
   "execution_count": 18,
   "metadata": {},
   "outputs": [
    {
     "data": {
      "image/png": "[encoded data removed]",
      "text/plain": [
       "plot without title"
      ]
     },
     "metadata": {
      "image/png": {
       "height": 420,
       "width": 420
      },
      "text/plain": {
       "height": 420,
       "width": 420
      }
     },
     "output_type": "display_data"
    }
   ],
   "source": [
    "p2 <- ggplot() + theme(panel.background=element_blank(), axis.line=element_line(), \n",
    "                       axis.text=element_text(size=16),axis.title=element_text(size=18,face=\"bold\"), \n",
    "                       legend.position='NONE', plot.title=element_text(size=16, face='bold'), \n",
    "                       text=element_text(size=16, face='bold'),strip.text.x=element_text(siz=16, face='bold')) + \n",
    "geom_boxplot(data=data_forplot_atacseq, aes(x=factor_gene_log2foldchange, y=atacseq_log2foldchange, fill=\"ATAC-seq\"),\n",
    "                        outlier.shape = NA, color=\"blue\", alpha=0.2 )+  \n",
    "xlab('Gene counts log2 fold change')  + ylab('ATAC-seq counts log2 fold change') +\n",
    "  scale_colour_manual(name=\"\",values=cols_gene) + scale_fill_manual(name=\"\",values=cols_gene) +\n",
    "scale_x_discrete(breaks=c(\"-6\",\"-4\",\"-2\",\"0\",\"2\",\"4\",\"6\"),\n",
    "        labels=c(\"<-5\",\"-4\",\"-2\",\"0\",\"2\",\"4\", \">5\")) +  ggtitle('Fig 4c') +\n",
    "#ggtitle('log2 fold change between 0 hr and 24 hr for gene and ATAC-seq (Fig. 4c)') + \n",
    "facet_wrap(.~label, ncol=1)\n",
    "p2\n",
    "#ggsave('~/Dropbox (The University of Manchester)/IntegratingATAC-RNA-HiC/Individual_Figures_Files/CHiC_ATACSeq_gene/gene_log2foldchange_atacseq_0210.pdf', p2)"
   ]
  },
  {
   "cell_type": "code",
   "execution_count": null,
   "metadata": {},
   "outputs": [],
   "source": []
  }
 ],
 "metadata": {
  "kernelspec": {
   "display_name": "R",
   "language": "R",
   "name": "ir"
  },
  "language_info": {
   "codemirror_mode": "r",
   "file_extension": ".r",
   "mimetype": "text/x-r-source",
   "name": "R",
   "pygments_lexer": "r",
   "version": "3.6.3"
  }
 },
 "nbformat": 4,
 "nbformat_minor": 2
}
