{
 "cells": [
  {
   "cell_type": "markdown",
   "metadata": {},
   "source": [
    "## Jupyter notebook for calculating Bayesian Information Criteria (BIC) for ATAC-seq data\n",
    "\n",
    "This notebook is the code for calculating BIC for ATAC-seq data used in the paper **\"Simultaneous analysis of open chromatin, promoter interactions and gene expression in stimulated T cells implicates causal genes for rheumatoid arthritis\"** by *Jing Yang, Amanda McGovern, Paul Martin, Kate Duffus, Peyman Zarrineh, Andrew P Morris, Antony Adamson, Peter Fraser, Magnus Rattray & Stephen Eyre*.\n",
    "\n",
    "For any questions about the code, please drop me a line at Jing.Yang@manchester.ac.uk"
   ]
  },
  {
   "cell_type": "markdown",
   "metadata": {},
   "source": [
    "### loading gptk package for Gaussian process regression"
   ]
  },
  {
   "cell_type": "code",
   "execution_count": 1,
   "metadata": {},
   "outputs": [
    {
     "name": "stderr",
     "output_type": "stream",
     "text": [
      "Loading required package: Matrix\n",
      "Loading required package: fields\n",
      "Loading required package: spam\n",
      "Loading required package: dotCall64\n",
      "Loading required package: grid\n",
      "Spam version 2.3-0 (2019-09-13) is loaded.\n",
      "Type 'help( Spam)' or 'demo( spam)' for a short introduction \n",
      "and overview of this package.\n",
      "Help for individual functions is also obtained by adding the\n",
      "suffix '.spam' to the function name, e.g. 'help( chol.spam)'.\n",
      "\n",
      "Attaching package: ‘spam’\n",
      "\n",
      "The following object is masked from ‘package:Matrix’:\n",
      "\n",
      "    det\n",
      "\n",
      "The following objects are masked from ‘package:base’:\n",
      "\n",
      "    backsolve, forwardsolve\n",
      "\n",
      "Loading required package: maps\n",
      "See https://github.com/NCAR/Fields for\n",
      " an extensive vignette, other supplements and source code \n"
     ]
    }
   ],
   "source": [
    "library(gptk)\n",
    "library(ggplot2)\n",
    "library(gridExtra)"
   ]
  },
  {
   "cell_type": "markdown",
   "metadata": {},
   "source": [
    "### read ATACseq data"
   ]
  },
  {
   "cell_type": "code",
   "execution_count": 2,
   "metadata": {},
   "outputs": [],
   "source": [
    "data <- read.table('data/ATACseq_normalized.csv',sep=',',header=T)"
   ]
  },
  {
   "cell_type": "code",
   "execution_count": 3,
   "metadata": {},
   "outputs": [
    {
     "data": {
      "text/html": [
       "<table>\n",
       "<caption>A data.frame: 6 × 10</caption>\n",
       "<thead>\n",
       "\t<tr><th scope=col>seqnames</th><th scope=col>start</th><th scope=col>end</th><th scope=col>width</th><th scope=col>T0</th><th scope=col>T20</th><th scope=col>T60</th><th scope=col>T2H</th><th scope=col>T4H</th><th scope=col>T24H</th></tr>\n",
       "\t<tr><th scope=col>&lt;fct&gt;</th><th scope=col>&lt;int&gt;</th><th scope=col>&lt;int&gt;</th><th scope=col>&lt;int&gt;</th><th scope=col>&lt;dbl&gt;</th><th scope=col>&lt;dbl&gt;</th><th scope=col>&lt;dbl&gt;</th><th scope=col>&lt;dbl&gt;</th><th scope=col>&lt;dbl&gt;</th><th scope=col>&lt;dbl&gt;</th></tr>\n",
       "</thead>\n",
       "<tbody>\n",
       "\t<tr><td>chr10</td><td>100006331</td><td>100006563</td><td> 233</td><td>5.004126</td><td>4.659345</td><td>5.928870</td><td>5.524712</td><td>7.401195</td><td>6.763596</td></tr>\n",
       "\t<tr><td>chr10</td><td>100009362</td><td>100010421</td><td>1060</td><td>8.910829</td><td>8.899573</td><td>9.033632</td><td>8.848950</td><td>9.088016</td><td>8.780725</td></tr>\n",
       "\t<tr><td>chr10</td><td>100118128</td><td>100118310</td><td> 183</td><td>3.677326</td><td>5.423599</td><td>3.774964</td><td>5.181859</td><td>3.997616</td><td>4.538095</td></tr>\n",
       "\t<tr><td>chr10</td><td>100148537</td><td>100149145</td><td> 609</td><td>6.308615</td><td>5.997314</td><td>6.371118</td><td>7.022634</td><td>8.320145</td><td>8.144691</td></tr>\n",
       "\t<tr><td>chr10</td><td>100164173</td><td>100164282</td><td> 110</td><td>3.793428</td><td>3.296516</td><td>4.600715</td><td>4.917097</td><td>3.838937</td><td>5.077424</td></tr>\n",
       "\t<tr><td>chr10</td><td>100167603</td><td>100168094</td><td> 492</td><td>6.121348</td><td>5.530762</td><td>5.770208</td><td>6.469869</td><td>6.229512</td><td>5.807280</td></tr>\n",
       "</tbody>\n",
       "</table>\n"
      ],
      "text/latex": [
       "A data.frame: 6 × 10\n",
       "\\begin{tabular}{r|llllllllll}\n",
       " seqnames & start & end & width & T0 & T20 & T60 & T2H & T4H & T24H\\\\\n",
       " <fct> & <int> & <int> & <int> & <dbl> & <dbl> & <dbl> & <dbl> & <dbl> & <dbl>\\\\\n",
       "\\hline\n",
       "\t chr10 & 100006331 & 100006563 &  233 & 5.004126 & 4.659345 & 5.928870 & 5.524712 & 7.401195 & 6.763596\\\\\n",
       "\t chr10 & 100009362 & 100010421 & 1060 & 8.910829 & 8.899573 & 9.033632 & 8.848950 & 9.088016 & 8.780725\\\\\n",
       "\t chr10 & 100118128 & 100118310 &  183 & 3.677326 & 5.423599 & 3.774964 & 5.181859 & 3.997616 & 4.538095\\\\\n",
       "\t chr10 & 100148537 & 100149145 &  609 & 6.308615 & 5.997314 & 6.371118 & 7.022634 & 8.320145 & 8.144691\\\\\n",
       "\t chr10 & 100164173 & 100164282 &  110 & 3.793428 & 3.296516 & 4.600715 & 4.917097 & 3.838937 & 5.077424\\\\\n",
       "\t chr10 & 100167603 & 100168094 &  492 & 6.121348 & 5.530762 & 5.770208 & 6.469869 & 6.229512 & 5.807280\\\\\n",
       "\\end{tabular}\n"
      ],
      "text/markdown": [
       "\n",
       "A data.frame: 6 × 10\n",
       "\n",
       "| seqnames &lt;fct&gt; | start &lt;int&gt; | end &lt;int&gt; | width &lt;int&gt; | T0 &lt;dbl&gt; | T20 &lt;dbl&gt; | T60 &lt;dbl&gt; | T2H &lt;dbl&gt; | T4H &lt;dbl&gt; | T24H &lt;dbl&gt; |\n",
       "|---|---|---|---|---|---|---|---|---|---|\n",
       "| chr10 | 100006331 | 100006563 |  233 | 5.004126 | 4.659345 | 5.928870 | 5.524712 | 7.401195 | 6.763596 |\n",
       "| chr10 | 100009362 | 100010421 | 1060 | 8.910829 | 8.899573 | 9.033632 | 8.848950 | 9.088016 | 8.780725 |\n",
       "| chr10 | 100118128 | 100118310 |  183 | 3.677326 | 5.423599 | 3.774964 | 5.181859 | 3.997616 | 4.538095 |\n",
       "| chr10 | 100148537 | 100149145 |  609 | 6.308615 | 5.997314 | 6.371118 | 7.022634 | 8.320145 | 8.144691 |\n",
       "| chr10 | 100164173 | 100164282 |  110 | 3.793428 | 3.296516 | 4.600715 | 4.917097 | 3.838937 | 5.077424 |\n",
       "| chr10 | 100167603 | 100168094 |  492 | 6.121348 | 5.530762 | 5.770208 | 6.469869 | 6.229512 | 5.807280 |\n",
       "\n"
      ],
      "text/plain": [
       "  seqnames start     end       width T0       T20      T60      T2H     \n",
       "1 chr10    100006331 100006563  233  5.004126 4.659345 5.928870 5.524712\n",
       "2 chr10    100009362 100010421 1060  8.910829 8.899573 9.033632 8.848950\n",
       "3 chr10    100118128 100118310  183  3.677326 5.423599 3.774964 5.181859\n",
       "4 chr10    100148537 100149145  609  6.308615 5.997314 6.371118 7.022634\n",
       "5 chr10    100164173 100164282  110  3.793428 3.296516 4.600715 4.917097\n",
       "6 chr10    100167603 100168094  492  6.121348 5.530762 5.770208 6.469869\n",
       "  T4H      T24H    \n",
       "1 7.401195 6.763596\n",
       "2 9.088016 8.780725\n",
       "3 3.997616 4.538095\n",
       "4 8.320145 8.144691\n",
       "5 3.838937 5.077424\n",
       "6 6.229512 5.807280"
      ]
     },
     "metadata": {},
     "output_type": "display_data"
    }
   ],
   "source": [
    "head(data)"
   ]
  },
  {
   "cell_type": "code",
   "execution_count": 4,
   "metadata": {},
   "outputs": [],
   "source": [
    "idx_data <- paste('T', c('0','20','60','2H','4H','24H'), sep='')\n"
   ]
  },
  {
   "cell_type": "markdown",
   "metadata": {},
   "source": [
    "### normalized ATACseq data"
   ]
  },
  {
   "cell_type": "code",
   "execution_count": 5,
   "metadata": {},
   "outputs": [],
   "source": [
    "normalized_data <- t(scale(t(data[,idx_data]), center=T, scale=T))\n"
   ]
  },
  {
   "cell_type": "code",
   "execution_count": 6,
   "metadata": {
    "scrolled": true
   },
   "outputs": [
    {
     "data": {
      "text/html": [
       "<table>\n",
       "<caption>A matrix: 6 × 6 of type dbl</caption>\n",
       "<thead>\n",
       "\t<tr><th scope=col>T0</th><th scope=col>T20</th><th scope=col>T60</th><th scope=col>T2H</th><th scope=col>T4H</th><th scope=col>T24H</th></tr>\n",
       "</thead>\n",
       "<tbody>\n",
       "\t<tr><td>-0.8368876</td><td>-1.1662063</td><td> 0.0463851</td><td>-0.339647805</td><td> 1.4526805</td><td> 0.8436761</td></tr>\n",
       "\t<tr><td>-0.1405642</td><td>-0.2386912</td><td> 0.9299352</td><td>-0.679979579</td><td> 1.4040074</td><td>-1.2747076</td></tr>\n",
       "\t<tr><td>-1.0185359</td><td> 1.3375392</td><td>-0.8868026</td><td> 1.011382477</td><td>-0.5863990</td><td> 0.1428158</td></tr>\n",
       "\t<tr><td>-0.7240373</td><td>-1.0376049</td><td>-0.6610797</td><td>-0.004819892</td><td> 1.3021365</td><td> 1.1254052</td></tr>\n",
       "\t<tr><td>-0.6463374</td><td>-1.3436445</td><td> 0.4865104</td><td> 0.930482158</td><td>-0.5824759</td><td> 1.1554652</td></tr>\n",
       "\t<tr><td> 0.3852845</td><td>-1.3231994</td><td>-0.6305141</td><td> 1.393509512</td><td> 0.6981904</td><td>-0.5232709</td></tr>\n",
       "</tbody>\n",
       "</table>\n"
      ],
      "text/latex": [
       "A matrix: 6 × 6 of type dbl\n",
       "\\begin{tabular}{llllll}\n",
       " T0 & T20 & T60 & T2H & T4H & T24H\\\\\n",
       "\\hline\n",
       "\t -0.8368876 & -1.1662063 &  0.0463851 & -0.339647805 &  1.4526805 &  0.8436761\\\\\n",
       "\t -0.1405642 & -0.2386912 &  0.9299352 & -0.679979579 &  1.4040074 & -1.2747076\\\\\n",
       "\t -1.0185359 &  1.3375392 & -0.8868026 &  1.011382477 & -0.5863990 &  0.1428158\\\\\n",
       "\t -0.7240373 & -1.0376049 & -0.6610797 & -0.004819892 &  1.3021365 &  1.1254052\\\\\n",
       "\t -0.6463374 & -1.3436445 &  0.4865104 &  0.930482158 & -0.5824759 &  1.1554652\\\\\n",
       "\t  0.3852845 & -1.3231994 & -0.6305141 &  1.393509512 &  0.6981904 & -0.5232709\\\\\n",
       "\\end{tabular}\n"
      ],
      "text/markdown": [
       "\n",
       "A matrix: 6 × 6 of type dbl\n",
       "\n",
       "| T0 | T20 | T60 | T2H | T4H | T24H |\n",
       "|---|---|---|---|---|---|\n",
       "| -0.8368876 | -1.1662063 |  0.0463851 | -0.339647805 |  1.4526805 |  0.8436761 |\n",
       "| -0.1405642 | -0.2386912 |  0.9299352 | -0.679979579 |  1.4040074 | -1.2747076 |\n",
       "| -1.0185359 |  1.3375392 | -0.8868026 |  1.011382477 | -0.5863990 |  0.1428158 |\n",
       "| -0.7240373 | -1.0376049 | -0.6610797 | -0.004819892 |  1.3021365 |  1.1254052 |\n",
       "| -0.6463374 | -1.3436445 |  0.4865104 |  0.930482158 | -0.5824759 |  1.1554652 |\n",
       "|  0.3852845 | -1.3231994 | -0.6305141 |  1.393509512 |  0.6981904 | -0.5232709 |\n",
       "\n"
      ],
      "text/plain": [
       "     T0         T20        T60        T2H          T4H        T24H      \n",
       "[1,] -0.8368876 -1.1662063  0.0463851 -0.339647805  1.4526805  0.8436761\n",
       "[2,] -0.1405642 -0.2386912  0.9299352 -0.679979579  1.4040074 -1.2747076\n",
       "[3,] -1.0185359  1.3375392 -0.8868026  1.011382477 -0.5863990  0.1428158\n",
       "[4,] -0.7240373 -1.0376049 -0.6610797 -0.004819892  1.3021365  1.1254052\n",
       "[5,] -0.6463374 -1.3436445  0.4865104  0.930482158 -0.5824759  1.1554652\n",
       "[6,]  0.3852845 -1.3231994 -0.6305141  1.393509512  0.6981904 -0.5232709"
      ]
     },
     "metadata": {},
     "output_type": "display_data"
    }
   ],
   "source": [
    "head(normalized_data)"
   ]
  },
  {
   "cell_type": "markdown",
   "metadata": {},
   "source": [
    "### use logscaled time points for GP regression "
   ]
  },
  {
   "cell_type": "code",
   "execution_count": 7,
   "metadata": {},
   "outputs": [],
   "source": [
    "times_data <- log(c(0,20,60,120,240,1440)+10)\n"
   ]
  },
  {
   "cell_type": "code",
   "execution_count": 8,
   "metadata": {},
   "outputs": [],
   "source": [
    "x <- matrix(times_data)\n",
    "lld_rbf <- numeric(0)\n",
    "lld_static <- numeric(0)\n",
    "\n",
    "for (ii in (1:dim(normalized_data)[1])) {  ## this calculation will take a long time\n",
    "  y <- matrix(normalized_data[ii,])\n",
    "  model0 <- list() ## Allocate space for model.\n",
    "  options=gpOptions(approx=\"ftc\")\n",
    "  options$kern = list(type=\"cmpnd\",comp=list(list(type=\"rbf\"),list(type=\"white\"))) ### use rbf+white nosie kernel for model 0\n",
    "  ## Optimise GP log likelihoods.\n",
    "  model0 <- gpCreate(dim(x)[2], dim(y)[2], x, y, options)\n",
    "  model0 <- gpOptimise(model0,0)\n",
    "  \n",
    "  lld_rbf[ii] <- gpLogLikelihood(model0) ### loglikelihood ratio for rbf model\n",
    "  \n",
    "  model1 <- list() ## Allocate space for model.\n",
    "  options=gpOptions(approx=\"ftc\")\n",
    "  options$kern = list(type=\"white\") ### use white noise kernel for model 1\n",
    "  ## Optimise GP log likelihoods.\n",
    "  model1 <- gpCreate(dim(x)[2], dim(y)[2], x, y, options)\n",
    "  model1 <- gpOptimise(model1,0)\n",
    "  lld_static[ii] <- gpLogLikelihood(model1) ### loglikelihood ratio for static model\n",
    "}\n",
    "\n",
    "\n"
   ]
  },
  {
   "cell_type": "markdown",
   "metadata": {},
   "source": [
    "### an example for the 4th data point"
   ]
  },
  {
   "cell_type": "code",
   "execution_count": 9,
   "metadata": {},
   "outputs": [
    {
     "data": {
      "image/png": "[encoded data removed]",
      "text/plain": [
       "plot without title"
      ]
     },
     "metadata": {},
     "output_type": "display_data"
    }
   ],
   "source": [
    "\n",
    "y <- matrix(normalized_data[4,])\n",
    "model0 <- list() ## Allocate space for model.\n",
    "options=gpOptions(approx=\"ftc\")\n",
    "options$kern = list(type=\"cmpnd\",comp=list(list(type=\"rbf\"),list(type=\"white\"))) ### use rbf+white nosie kernel for model 0\n",
    "## Optimise GP log likelihoods.\n",
    "model0 <- gpCreate(dim(x)[2], dim(y)[2], x, y, options)\n",
    "model0 <- gpOptimise(model0,0)\n",
    "    \n",
    "model1 <- list() ## Allocate space for model.\n",
    "options=gpOptions(approx=\"ftc\")\n",
    "options$kern = list(type=\"white\") ### use white noise kernel for model 1\n",
    "## Optimise GP log likelihoods.\n",
    "model1 <- gpCreate(dim(x)[2], dim(y)[2], x, y, options)\n",
    "model1 <- gpOptimise(model1,0)\n",
    "\n",
    "\n",
    "tstar <- matrix(seq(min(times_data)-0.5, max(times_data)+0.5, length=100), ncol=1)\n",
    "\n",
    "Kx0 <- kernCompute(model0$kern, x, tstar)\n",
    "Ktrain0 <- kernCompute(model0$kern, x)\n",
    "invKtrain0 <- solve(Ktrain0)\n",
    "yPred0 <- t(Kx0) %*% invKtrain0 %*% y\n",
    "yVar0 <- diag(abs(kernCompute(model0$kern, tstar) - t(Kx0) %*% invKtrain0 %*% Kx0))\n",
    "data_forplot_rbf1 <- data.frame(x=tstar, yupper = yPred0+sqrt(abs(yVar0)), ylower= yPred0-sqrt(abs(yVar0)), yPred = yPred0)\n",
    "data_forplot_rbf2 <- data.frame(x=x,y=y)\n",
    "p1 <- ggplot(data=data_forplot_rbf1,aes(x=tstar)) + \n",
    "   geom_ribbon(aes(ymin = ylower, ymax = yupper), fill = \"lightblue\", alpha=0.6) +\n",
    "   geom_line(aes(y = yPred ),size=1) + geom_point(data=data_forplot_rbf2, aes(x=x,y=y),size=3) +\n",
    "   theme(legend.position=\"none\") + theme(axis.title.x=element_blank(),\n",
    "        axis.title.y=element_blank(),text = element_text(size=12),\n",
    "        panel.grid.major = element_blank(), panel.grid.minor = element_blank(),\n",
    "panel.background = element_blank(), axis.line = element_line(colour = \"black\")) + xlab('Time (logscaled)') + \n",
    "ylab('Normalized data') + ggtitle('RBF model fitting illustration')\n",
    "\n",
    "\n",
    "Kx1 <- kernCompute(model1$kern, x, tstar)\n",
    "Ktrain1 <- kernCompute(model1$kern, x)\n",
    "invKtrain1 <- solve(Ktrain1)\n",
    "yPred1 <- t(Kx1) %*% invKtrain1 %*% y\n",
    "yVar1 <- diag(abs(kernCompute(model1$kern, tstar) - t(Kx1) %*% invKtrain1 %*% Kx1))\n",
    "data_forplot_noise1 <- data.frame(x=tstar, yupper = yPred1+sqrt(abs(yVar1)), ylower= yPred1-sqrt(abs(yVar1)), yPred = yPred1)\n",
    "data_forplot_noise2 <- data.frame(x=x,y=y)\n",
    "\n",
    "\n",
    "p2 <- ggplot(data=data_forplot_noise1,aes(x=tstar)) + \n",
    "   geom_ribbon(aes(ymin = ylower, ymax = yupper), fill = \"lightblue\", alpha=0.6) +\n",
    "   geom_line(aes(y = yPred ),size=1) + geom_point(data=data_forplot_noise2, aes(x=x,y=y),size=3) +\n",
    "   theme(legend.position=\"none\") + theme(axis.title.x=element_blank(),\n",
    "        axis.title.y=element_blank(),text = element_text(size=12),\n",
    "        panel.grid.major = element_blank(), panel.grid.minor = element_blank(),\n",
    "panel.background = element_blank(), axis.line = element_line(colour = \"black\")) + xlab('Time (logscaled)') + \n",
    "ylab('Normalized data') + ggtitle('Static model fitting illustration')\n",
    "\n",
    "grid.arrange(p1,p2)\n"
   ]
  },
  {
   "cell_type": "markdown",
   "metadata": {},
   "source": [
    "### Get Loglikelihood ratio results: LR = -2 ln( L<sub>RBF</sub> - L<sub>static</sub>)"
   ]
  },
  {
   "cell_type": "code",
   "execution_count": 10,
   "metadata": {},
   "outputs": [],
   "source": [
    "LR_data <- -2*(lld_rbf-lld_static) ### loglikelihood ratio for the data \n"
   ]
  },
  {
   "cell_type": "markdown",
   "metadata": {},
   "source": [
    "### Get BIC results: BIC = k ln(n) -2ln(L)\n",
    "k is the number of parameters used in each model, n is the sample size and L is the maximized likelihood "
   ]
  },
  {
   "cell_type": "code",
   "execution_count": 11,
   "metadata": {},
   "outputs": [],
   "source": [
    "### BIC_difference is used to compare the BIC difference between RBF model and the static model. Smaller BIC is preferred\n",
    "BIC_rbf <- 2*log(6) - 2*lld_rbf\n",
    "BIC_static <- log(6) - 2*lld_static\n",
    "BIC_difference <- BIC_rbf - BIC_static\n"
   ]
  }
 ],
 "metadata": {
  "kernelspec": {
   "display_name": "R",
   "language": "R",
   "name": "ir"
  },
  "language_info": {
   "codemirror_mode": "r",
   "file_extension": ".r",
   "mimetype": "text/x-r-source",
   "name": "R",
   "pygments_lexer": "r",
   "version": "3.6.1"
  }
 },
 "nbformat": 4,
 "nbformat_minor": 2
}
